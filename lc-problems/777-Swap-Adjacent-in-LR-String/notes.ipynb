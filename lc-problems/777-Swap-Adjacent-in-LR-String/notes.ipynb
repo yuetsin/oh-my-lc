{
 "cells": [
  {
   "cell_type": "markdown",
   "metadata": {},
   "source": [
    "# 777 Swap Adjacent in LR String\n",
    "\n",
    "看透表象…了解本质。\n",
    "\n",
    "本质上，这种特定的字符串替换做了什么？\n",
    "\n",
    "XL => LX，或者 RX => XR。X 右边、出现 R 之前的 L 可以去到他左边，X 左边的、出现 L 之前的 R 可以去到他右边。\n",
    "\n",
    "因为在这里除了 XLR 没有别的字符。所以 X 和他右边的 L 之间只可能有 X、L、R 三种字符。而如果是 X，直接面向那个 X 讨论。如果是 L，那么先把他挪到左边来。如果是 R，那么就阻挡了她右边所有的 L 去往左边。\n",
    "\n",
    "可以认为在移动前后，X 是不变的；只不过是 L 和 R 在这几根「桩」之间切换。\n",
    "\n",
    "那么，只要比较一下前后每个 X（每根桩）左右的 L、R 是否符合上面的规则就好了。"
   ]
  }
 ],
 "metadata": {
  "kernelspec": {
   "display_name": "Python 3",
   "language": "python",
   "name": "python3"
  },
  "language_info": {
   "codemirror_mode": {
    "name": "ipython",
    "version": 3
   },
   "file_extension": ".py",
   "mimetype": "text/x-python",
   "name": "python",
   "nbconvert_exporter": "python",
   "pygments_lexer": "ipython3",
   "version": "3.7.6"
  }
 },
 "nbformat": 4,
 "nbformat_minor": 2
}
