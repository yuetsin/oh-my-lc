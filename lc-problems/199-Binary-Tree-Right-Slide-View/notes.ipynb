{
 "cells": [
  {
   "cell_type": "markdown",
   "metadata": {},
   "source": [
    "# 199\n",
    "\n",
    "Binary Tree Right Slide View\n",
    "\n",
    "简单说，就是获取二叉树每一层从左往右看最靠右的元素。\n",
    "\n",
    "Runtime: 32 ms, faster than 96.77% of Python3 online submissions for Binary Tree Right Side View.\n",
    "\n",
    "Memory Usage: 13.9 MB, less than 5.26% of Python3 online submissions for Binary Tree Right Side View.\n",
    "\n",
    "这个好办呐，维护一个全局 dict ，然后严格按照 left -> right 遍历就能保证每一层的顺序是正规的了。\n",
    "\n",
    "没有什么特别的地方。"
   ]
  },
  {
   "cell_type": "markdown",
   "metadata": {},
   "source": [
    "更优秀一些的做法是：\n",
    "\n",
    " Breadth-First Search （广度优先搜索）\n",
    " \n",
    " 上代码："
   ]
  },
  {
   "cell_type": "code",
   "execution_count": null,
   "metadata": {},
   "outputs": [],
   "source": [
    "from collections import deque\n",
    "\n",
    "class Solution(object):\n",
    "    def rightSideView(self, root):\n",
    "        rightmost_value_at_depth = dict() # depth -> node.val\n",
    "        max_depth = -1\n",
    "\n",
    "        queue = deque([(root, 0)])\n",
    "        while queue:\n",
    "            node, depth = queue.popleft()\n",
    "\n",
    "            if node is not None:\n",
    "                # maintain knowledge of the number of levels in the tree.\n",
    "                max_depth = max(max_depth, depth)\n",
    "\n",
    "                # overwrite rightmost value at current depth. the correct value\n",
    "                # will never be overwritten, as it is always visited last.\n",
    "                rightmost_value_at_depth[depth] = node.val\n",
    "\n",
    "                queue.append((node.left, depth+1))\n",
    "                queue.append((node.right, depth+1))\n",
    "\n",
    "        return [rightmost_value_at_depth[depth] for depth in range(max_depth+1)]"
   ]
  },
  {
   "cell_type": "markdown",
   "metadata": {},
   "source": [
    "当然你也可以使用深度优先算法："
   ]
  },
  {
   "cell_type": "code",
   "execution_count": null,
   "metadata": {},
   "outputs": [],
   "source": [
    "class Solution(object):\n",
    "    def rightSideView(self, root):\n",
    "        rightmost_value_at_depth = dict() # depth -> node.val\n",
    "        max_depth = -1\n",
    "\n",
    "        stack = [(root, 0)]\n",
    "        while stack:\n",
    "            node, depth = stack.pop()\n",
    "\n",
    "            if node is not None:\n",
    "                # maintain knowledge of the number of levels in the tree.\n",
    "                max_depth = max(max_depth, depth)\n",
    "\n",
    "                # only insert into dict if depth is not already present.\n",
    "                rightmost_value_at_depth.setdefault(depth, node.val)\n",
    "\n",
    "                stack.append((node.left, depth+1))\n",
    "                stack.append((node.right, depth+1))\n",
    "\n",
    "        return [rightmost_value_at_depth[depth] for depth in range(max_depth+1)]"
   ]
  },
  {
   "cell_type": "markdown",
   "metadata": {},
   "source": [
    "深度优先算法就是用 Stack 了。\n",
    "\n",
    "深度优先也好广度优先也好，甚至像我一样愚蠢地用 Recursive 也好，他总是可以保证在每一层上从左到右顺序的正规性。这就够了。\n",
    "\n",
    "其他的部分就只是边边角角了。比如用 dict 比用 list 快之类的，就不提了。"
   ]
  }
 ],
 "metadata": {
  "kernelspec": {
   "display_name": "Python 3",
   "language": "python",
   "name": "python3"
  },
  "language_info": {
   "codemirror_mode": {
    "name": "ipython",
    "version": 3
   },
   "file_extension": ".py",
   "mimetype": "text/x-python",
   "name": "python",
   "nbconvert_exporter": "python",
   "pygments_lexer": "ipython3",
   "version": "3.7.4"
  }
 },
 "nbformat": 4,
 "nbformat_minor": 2
}
