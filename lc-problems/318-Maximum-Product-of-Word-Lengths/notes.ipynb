{
 "cells": [
  {
   "cell_type": "markdown",
   "metadata": {},
   "source": [
    "# 318\n",
    "\n",
    "用了很简单的思路。\n",
    "\n",
    "首先把 wordList 打散成 sets 跟 length 两个列表。\n",
    "\n",
    "一个是每个 word 包含的字符集合；另一个是每个 word 的长度。\n",
    "\n",
    "然后就 O(N^2) 跑一遍就好了。\n",
    "\n",
    "Runtime: 1056 ms, faster than 23.40% of Python3 online submissions for Maximum Product of Word Lengths.\n",
    "\n",
    "Memory Usage: 15.4 MB, less than 25.00% of Python3 online submissions for Maximum Product of Word Lengths.\n",
    "\n",
    "Not bad.\n",
    "\n",
    "Optimal Solution 也只能做到在  O(N^2) 上面做点优化了。比如用 ch_to_bit 之类的 trick。"
   ]
  }
 ],
 "metadata": {
  "kernelspec": {
   "display_name": "Python 3",
   "language": "python",
   "name": "python3"
  },
  "language_info": {
   "codemirror_mode": {
    "name": "ipython",
    "version": 3
   },
   "file_extension": ".py",
   "mimetype": "text/x-python",
   "name": "python",
   "nbconvert_exporter": "python",
   "pygments_lexer": "ipython3",
   "version": "3.7.4"
  }
 },
 "nbformat": 4,
 "nbformat_minor": 2
}
