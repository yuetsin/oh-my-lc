{
 "cells": [
  {
   "cell_type": "markdown",
   "metadata": {},
   "source": [
    "# 213\n",
    "\n",
    "简单…成环的话只需要考虑最后一间房子能不能 rob 就对了。而那间能不能 rob 就取决于第一间房子你 rob 没 rob。\n",
    "\n",
    "所以在最开头分下情况讨论就好了。唯一的不同就在于结束条件不一样。这个很简单，没什么好说的了。\n",
    "\n",
    "\n",
    "Runtime: 40 ms, faster than 52.57% of Python3 online submissions for House Robber II.\n",
    "Memory Usage: 13.7 MB, less than 5.56% of Python3 online submissions for House Robber II.\n",
    "\n",
    "只是注意两点：\n",
    "\n",
    "1. 只有一个和两个元素时需要分别处理。\n",
    "\n",
    "2. DP 表需要分成 withTail 和 withoutTail 两种情形做动态规划。"
   ]
  }
 ],
 "metadata": {
  "kernelspec": {
   "display_name": "Python 3",
   "language": "python",
   "name": "python3"
  },
  "language_info": {
   "codemirror_mode": {
    "name": "ipython",
    "version": 3
   },
   "file_extension": ".py",
   "mimetype": "text/x-python",
   "name": "python",
   "nbconvert_exporter": "python",
   "pygments_lexer": "ipython3",
   "version": "3.7.4"
  }
 },
 "nbformat": 4,
 "nbformat_minor": 2
}
