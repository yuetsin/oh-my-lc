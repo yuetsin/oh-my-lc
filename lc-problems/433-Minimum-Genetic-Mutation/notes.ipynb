{
 "cells": [
  {
   "cell_type": "markdown",
   "metadata": {},
   "source": [
    "# 433 Minimum Genetic Mutation\n",
    "\n",
    "就是任爹的 Word Ladder…只是只有四个「字母」。\n",
    "\n",
    "Runtime: 32 ms, faster than 9.85% of Python3 online submissions for Minimum Genetic Mutation.\n",
    "\n",
    "Memory Usage: 12.7 MB, less than 100.00% of Python3 online submissions for Minimum Genetic Mutation.\n",
    "\n",
    "没有很用心地做剪枝；只是去除成环的情况就过了 Test Cases 了。实际上用 DFS 能减少很多无意义的操作。"
   ]
  }
 ],
 "metadata": {
  "kernelspec": {
   "display_name": "Python 3",
   "language": "python",
   "name": "python3"
  },
  "language_info": {
   "codemirror_mode": {
    "name": "ipython",
    "version": 3
   },
   "file_extension": ".py",
   "mimetype": "text/x-python",
   "name": "python",
   "nbconvert_exporter": "python",
   "pygments_lexer": "ipython3",
   "version": "3.7.6"
  }
 },
 "nbformat": 4,
 "nbformat_minor": 2
}
