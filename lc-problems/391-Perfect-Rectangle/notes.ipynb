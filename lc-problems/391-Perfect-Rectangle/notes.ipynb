{
 "cells": [
  {
   "cell_type": "markdown",
   "metadata": {},
   "source": [
    "# 391\n",
    "\n",
    "给出了一堆 (x0, y0, x1, y1) 形式的长方形，判断他们能否拼接成一整个完美的大长方形。\n",
    "（留意：不允许 Overlapping，互相重叠。）\n",
    "\n",
    "Naive 思路就是不断两两比较手里的长方形，看他们有没有可能拼在一起。\n",
    "\n",
    "如果在某一次遍历中没有任何两个长方形可以合并，报告不能拼接。\n",
    "\n",
    "否则，拼接新的长方形，更新 Stack 之后重新开始遍历。"
   ]
  },
  {
   "cell_type": "code",
   "execution_count": null,
   "metadata": {},
   "outputs": [],
   "source": [
    "from typing import List\n",
    "from collections import defaultdict\n",
    "class Solution:\n",
    "    def isRectangleCover(self, rectangles: List[List[int]]) -> bool:\n",
    "        def mergeInterval(intervals):\n",
    "            res = []\n",
    "            intervals.sort()\n",
    "            for interval in intervals:\n",
    "                if not res or res[-1][1] < interval[0]:\n",
    "                    res.append(interval)\n",
    "                elif res[-1][1] == interval[0]:\n",
    "                    res[-1][1] = interval[1]\n",
    "                else:\n",
    "                    return []\n",
    "            return res\n",
    "\n",
    "        rectangles.sort()\n",
    "        bottom_line = rectangles[0][0]\n",
    "        top_line = max(x[2] for x in rectangles)\n",
    "\n",
    "        interval_dict = defaultdict(list)\n",
    "        for rectangle in rectangles:\n",
    "            x1, y1, x2, y2 = rectangle\n",
    "            interval_dict[(x1, True)] += [[y1, y2]]\n",
    "            interval_dict[(x2, False)] += [[y1, y2]]\n",
    "\n",
    "        for key in interval_dict.keys():\n",
    "            if not key[1]:\n",
    "                continue\n",
    "            counter_key = (key[0], False) if key[0] != bottom_line else (top_line, False)\n",
    "            pos_edges = mergeInterval(interval_dict[key])\n",
    "            neg_edges = mergeInterval(interval_dict[counter_key])\n",
    "            if not pos_edges or not neg_edges or pos_edges != neg_edges:\n",
    "                return False\n",
    "\n",
    "        return True"
   ]
  },
  {
   "cell_type": "markdown",
   "metadata": {},
   "source": [
    "这个思路有何特别呢？\n",
    "\n",
    "用了 MergeInterval 法。\n",
    "\n",
    "~~它并不是去逐个考虑每个长方形的拼接。~~\n",
    "\n",
    "~~而是，首先确定水平基准线和垂直基准线，先确定图形所在的范围。~~\n",
    "\n",
    "~~然后，逐个关心这些点是否是唯一对应到一个长方形。如果遇到一个点碰不到长方形，又或者它碰到两个，那么就完了。~~\n",
    "\n",
    "讲错。\n",
    "\n",
    "interval_dict 里面存储的就是每个长方形的点信息。用一个标识位 True/False 来表示是「左下角点」还是「右上角点」。\n",
    "\n",
    "然后，\n",
    "if not res or res[-1][1] < interval[0]:\n",
    "                    res.append(interval)\n",
    "                elif res[-1][1] == interval[0]:\n",
    "                    res[-1][1] = interval[1]\n",
    "                else:\n",
    "                    return []\n",
    "                    \n",
    "就可以用简单的方法实现合并。"
   ]
  }
 ],
 "metadata": {
  "kernelspec": {
   "display_name": "Python 3",
   "language": "python",
   "name": "python3"
  },
  "language_info": {
   "codemirror_mode": {
    "name": "ipython",
    "version": 3
   },
   "file_extension": ".py",
   "mimetype": "text/x-python",
   "name": "python",
   "nbconvert_exporter": "python",
   "pygments_lexer": "ipython3",
   "version": "3.7.4"
  }
 },
 "nbformat": 4,
 "nbformat_minor": 2
}
