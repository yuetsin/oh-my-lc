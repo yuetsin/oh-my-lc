{
 "cells": [
  {
   "cell_type": "markdown",
   "metadata": {},
   "source": [
    "# 557 Reverse Words in a String III\n",
    "\n",
    "这或许是史上最简单的 III 题…\n",
    "\n",
    "P。S。这题不要求处理额外的 Whitespace。所以这样也就好了。\n",
    "\n",
    "\n",
    "Runtime: 28 ms, faster than 86.85% of Python3 online submissions for Reverse Words in a String III.\n",
    "\n",
    "Memory Usage: 13.2 MB, less than 96.15% of Python3 online submissions for Reverse Words in a String III."
   ]
  }
 ],
 "metadata": {
  "kernelspec": {
   "display_name": "Python 3",
   "language": "python",
   "name": "python3"
  },
  "language_info": {
   "codemirror_mode": {
    "name": "ipython",
    "version": 3
   },
   "file_extension": ".py",
   "mimetype": "text/x-python",
   "name": "python",
   "nbconvert_exporter": "python",
   "pygments_lexer": "ipython3",
   "version": "3.7.6"
  }
 },
 "nbformat": 4,
 "nbformat_minor": 4
}
