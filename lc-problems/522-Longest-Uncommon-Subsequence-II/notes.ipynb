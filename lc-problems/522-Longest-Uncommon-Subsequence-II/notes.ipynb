{
 "cells": [
  {
   "cell_type": "markdown",
   "metadata": {},
   "source": [
    "# 522 Longest Uncommon Subsequence II\n",
    "\n",
    "根本没给出一个 Uncommon Subsequence 的定义…\n",
    "\n",
    "这里的意思是，从第一个 String 里取出 Subsequence，要求他跟其他后续的 String 完全没有公共部分。\n",
    "\n",
    "就这么一个意思。\n",
    "\n",
    "Longest Common Subsequence you 非常棒的定义啊。然而（南条爱乃）给出的垃圾 LUS 定义，根本没讲清楚（或许您英语不好）\n",
    "\n",
    "结果就是 [\"abacg\",\"cdcd\",\"eaef\"] 给出的结果是 5，也就是最长非公共子序列的长度是 5。\n",
    "\n",
    "这就是你说的非公共子序列？？？？后面两个 String 根本没这么长！\n",
    "\n",
    "麻烦您不要假借 Longest Common Subsequence 的大名。\n",
    "\n",
    "最后日常说一句：\n",
    "\n",
    "不 会 出 题\n",
    "就 不 要 出"
   ]
  }
 ],
 "metadata": {
  "kernelspec": {
   "display_name": "Python 3",
   "language": "python",
   "name": "python3"
  },
  "language_info": {
   "codemirror_mode": {
    "name": "ipython",
    "version": 3
   },
   "file_extension": ".py",
   "mimetype": "text/x-python",
   "name": "python",
   "nbconvert_exporter": "python",
   "pygments_lexer": "ipython3",
   "version": "3.7.6"
  }
 },
 "nbformat": 4,
 "nbformat_minor": 4
}
