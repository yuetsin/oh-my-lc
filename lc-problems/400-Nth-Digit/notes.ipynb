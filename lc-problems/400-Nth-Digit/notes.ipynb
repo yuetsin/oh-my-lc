{
 "cells": [
  {
   "cell_type": "markdown",
   "metadata": {},
   "source": [
    "# 400 Nth Digit\n",
    "\n",
    "服了⋯\n",
    "\n",
    "題意是把所有自然數列不加空格的排成一排，即 1234567891011121314151617181920......\n",
    "\n",
    "然後求第 n 個數字是啥。\n",
    "\n",
    "bucket 法⋯是這樣的：\n",
    "\n",
    "鑒於一般語言的 int 都不會小於 32 位（Python 不是一般語言，PS），所以直接拿這個作為 digits 的標記；\n",
    "\n",
    "因此 LC 的 Testcase 肯定也不會超過這個數。\n",
    "\n",
    "所以直接拿來放 bucket 裡吧！\n",
    "\n",
    "Bucket 裡放置的是 digits 出現的次數。"
   ]
  },
  {
   "cell_type": "code",
   "execution_count": null,
   "metadata": {},
   "outputs": [],
   "source": [
    "# Bucket Solution\n",
    "class Solution:\n",
    "    def findNthDigit(self, n: int) -> int:\n",
    "        buckets = [0, 9, 180, 27e2, 36e3, 45e4, 54e5, 63e6, 72e7, 81e8, 90e9]\n",
    "        bucket = count = 0\n",
    "        while True:\n",
    "            curr = count + buckets[bucket]\n",
    "            if n < curr:\n",
    "                break\n",
    "            count = curr\n",
    "            bucket += 1\n",
    "\n",
    "        n = n - count - 1\n",
    "        size = bucket  # number of digits our number has\n",
    "        position = n // size\n",
    "        number = int(position + 10 ** (size - 1))\n",
    "        digitPos = size - n % size - 1\n",
    "\n",
    "        while digitPos > 0:\n",
    "            digitPos -= 1\n",
    "            number //= 10\n",
    "        return number % 10"
   ]
  },
  {
   "cell_type": "code",
   "execution_count": null,
   "metadata": {},
   "outputs": [],
   "source": [
    "class Solution:\n",
    "    def findNthDigit(self, n: int) -> int:\n",
    "        num_digit, lo, hi = 1, 1, 9\n",
    "        while n > (hi - lo + 1) * num_digit:\n",
    "            n -= (hi - lo + 1) * num_digit\n",
    "            num_digit, lo, hi = num_digit+1, lo * 10, lo * 100 - 1\n",
    "        ind_num, ind_digit = (n-1) // num_digit, (n-1) % num_digit\n",
    "        return int(str(lo + ind_num)[ind_digit])"
   ]
  },
  {
   "cell_type": "markdown",
   "metadata": {},
   "source": [
    "這是個正經方法。\n",
    "\n",
    "The idea is to find out the number that the n-th digit belongs to.\n",
    "\n",
    "Say the answer is the digit `0` of 105.\n",
    "\n",
    "We first reduce the problem from \"the n-th digit in [1, 2, ..., +inf]\" to \"the n-th digit in [100, 101, ..., 999]\" .\n",
    "We use a loop to delete 1~9 (n-=9*1), 10~99 (n-=90*2) from the sequence.\n",
    "\n",
    "Then, we get n=17, we wanna find \"the number that contains the n-th digit in [100, 101, ..., 999]\".\n",
    "The index of the number would be ind_num = (n-1) // num_digit.\n",
    "So the number is lo + ind_num = 100 + 5 = 105.\n",
    "\n",
    "Finally, the index of the wanted digit `0` in \"105\" is (n-1) % num_digit."
   ]
  },
  {
   "cell_type": "markdown",
   "metadata": {},
   "source": [
    "主要思路：找出你給出的 Nth digit 到底屬於哪個數字。這就是關鍵。\n",
    "\n",
    "因為我們知道每個數字的長度（位數）的增長規律，我們總可以通過循環相減來找出這個數字。\n",
    "\n",
    "然後，問題就變化為找出一個數字 Num 的第 i 位的數字是什麼了。\n",
    "\n",
    "這就可以直接 // 10 就好了。"
   ]
  }
 ],
 "metadata": {
  "kernelspec": {
   "display_name": "Python 3",
   "language": "python",
   "name": "python3"
  },
  "language_info": {
   "codemirror_mode": {
    "name": "ipython",
    "version": 3
   },
   "file_extension": ".py",
   "mimetype": "text/x-python",
   "name": "python",
   "nbconvert_exporter": "python",
   "pygments_lexer": "ipython3",
   "version": "3.7.4"
  }
 },
 "nbformat": 4,
 "nbformat_minor": 2
}
