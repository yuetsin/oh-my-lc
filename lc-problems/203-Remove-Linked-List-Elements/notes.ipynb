{
 "cells": [
  {
   "cell_type": "markdown",
   "metadata": {},
   "source": [
    "# 203\n",
    "\n",
    "删除一个链表里头的所有满足条件的值…\n",
    "\n",
    "重点关照几个 Corner Case：\n",
    "\n",
    "如果第一个元素就要删除怎么办？\n",
    "\n",
    "如果所有元素都被删除了怎么办？\n",
    "\n",
    "只要解决了这个，其他基本都不是什么问题。\n",
    "\n",
    "Runtime: 80 ms, faster than 38.79% of Python3 online submissions for Remove Linked List Elements.\n",
    "\n",
    "Memory Usage: 17 MB, less than 5.55% of Python3 online submissions for Remove Linked List Elements.\n",
    "\n",
    "（大胆使用了 list 来放所有 node 再重建指针）\n",
    "\n",
    "但靠谱的解法是这样的："
   ]
  },
  {
   "cell_type": "code",
   "execution_count": null,
   "metadata": {},
   "outputs": [],
   "source": [
    "class Solution:\n",
    "    def removeElements(self, head, val):\n",
    "        \"\"\"\n",
    "        :type head: ListNode\n",
    "        :type val: int\n",
    "        :rtype: ListNode\n",
    "        \"\"\"\n",
    "        \n",
    "        dummy_head = ListNode(-1)\n",
    "        dummy_head.next = head\n",
    "        \n",
    "        current_node = dummy_head\n",
    "        while current_node.next != None:\n",
    "            if current_node.next.val == val:\n",
    "                current_node.next = current_node.next.next\n",
    "            else:\n",
    "                current_node = current_node.next\n",
    "                \n",
    "        return dummy_head.next"
   ]
  }
 ],
 "metadata": {
  "kernelspec": {
   "display_name": "Python 3",
   "language": "python",
   "name": "python3"
  },
  "language_info": {
   "codemirror_mode": {
    "name": "ipython",
    "version": 3
   },
   "file_extension": ".py",
   "mimetype": "text/x-python",
   "name": "python",
   "nbconvert_exporter": "python",
   "pygments_lexer": "ipython3",
   "version": "3.7.4"
  }
 },
 "nbformat": 4,
 "nbformat_minor": 2
}
