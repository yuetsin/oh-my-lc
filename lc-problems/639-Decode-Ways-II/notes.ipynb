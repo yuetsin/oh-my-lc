{
 "cells": [
  {
   "cell_type": "markdown",
   "metadata": {},
   "source": [
    "# 639 Decode Ways II\n",
    "\n",
    "簡而言之，帶通配符 * （* 只能通配 1 ～ 9，0 不行。）的數字列有多少種解讀為 1 ~ 26 Token 的方式？\n",
    "\n",
    "對這種嚴格限定到 26 個英文字母、和非十進制不可的題目，沒有任何好感。\n",
    "\n"
   ]
  }
 ],
 "metadata": {
  "kernelspec": {
   "display_name": "Python 3",
   "language": "python",
   "name": "python3"
  },
  "language_info": {
   "codemirror_mode": {
    "name": "ipython",
    "version": 3
   },
   "file_extension": ".py",
   "mimetype": "text/x-python",
   "name": "python",
   "nbconvert_exporter": "python",
   "pygments_lexer": "ipython3",
   "version": "3.7.6"
  }
 },
 "nbformat": 4,
 "nbformat_minor": 4
}
