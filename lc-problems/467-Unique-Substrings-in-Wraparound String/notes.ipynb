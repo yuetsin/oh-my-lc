{
 "cells": [
  {
   "cell_type": "markdown",
   "metadata": {},
   "source": [
    "# 467 Unique Substrings in Wraparound String\n",
    "\n",
    "简单点讲，这题还是比较简单的。要做的事情只不过是：从给出的 String 里取出 Substring，要求他们在 abcdefghijklmnopqrstuvwxyz 这样的字节顺序里连续。特别的，认为 z->a 也是连续的，也就是可以成环。\n",
    "\n",
    "我的思路很弱智（x）：从每一位开始遍历，找到最长的可能发展；对其中留头去尾的每一个 String 都加入 set 里来避免重复。\n",
    "\n",
    "这个算法应该是没错的，但是在 Case 13 就 TLE 暴死。\n",
    "\n",
    "得优化。"
   ]
  },
  {
   "cell_type": "code",
   "execution_count": null,
   "metadata": {},
   "outputs": [],
   "source": [
    "class Solution:\n",
    "    def findSubstringInWraproundString(self, p: str) -> int:\n",
    "        dl = defaultdict(int)\n",
    "        maxlen = 0 \n",
    "        for i in range(len(p)):\n",
    "            maxlen = maxlen + 1 if i and (ord(p[i - 1]) - 96) % 26 == (ord(p[i]) - 97) else 1 \n",
    "            dl[p[i]] = max(dl[p[i]], maxlen)\n",
    "        return sum(dl.values())\n",
    "# by @fire4fly"
   ]
  },
  {
   "cell_type": "code",
   "execution_count": null,
   "metadata": {},
   "outputs": [],
   "source": [
    "极短选手：他干了什么呢？他好像也是对 p 的每一位进行遍历：但是他的优化策略是：因为我们所有的 Chain 都仅仅由开头的那个字母决定。\n",
    "以 a 开头的序列肯定会沿着 a, b, c, ... 这样的顺序往下延长，这是我们的序列规则确定的。所以，我们并不需要在意每个具体的 char 在原来 string 的哪个位置出现。\n",
    "只需要在意以每个字母开头的串最长能延长多少。又因为能延长到 N 就一定能截断到 N - 1；以此类推，我们在意的只是以 char 开头的字符串最长能走多长。其余部分我们不再关心。\n",
    "\n",
    "巧妙。"
   ]
  }
 ],
 "metadata": {
  "kernelspec": {
   "display_name": "Python 3",
   "language": "python",
   "name": "python3"
  },
  "language_info": {
   "codemirror_mode": {
    "name": "ipython",
    "version": 3
   },
   "file_extension": ".py",
   "mimetype": "text/x-python",
   "name": "python",
   "nbconvert_exporter": "python",
   "pygments_lexer": "ipython3",
   "version": "3.7.6"
  }
 },
 "nbformat": 4,
 "nbformat_minor": 4
}
