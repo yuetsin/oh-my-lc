{
 "cells": [
  {
   "cell_type": "markdown",
   "metadata": {},
   "source": [
    "# 496 Next Greater Element I\n",
    "\n",
    "本来以为写了个 Plain O(N^2) 的答案肯定被卡了…没想到居然，还，过了。\n",
    "\n",
    "Runtime: 72 ms, faster than 32.97% of Python3 online submissions for Next Greater Element I.\n",
    "\n",
    "Memory Usage: 12.9 MB, less than 100.00% of Python3 online submissions for Next Greater Element I.\n",
    "\n",
    "看了下 Sample…\n",
    "\n",
    "Using map to store next greater element of vector nums2.\n",
    "\n",
    "using res to store next greater element of vector nums1.\n",
    "\n",
    "也就是说，预先把 nums2 里面每个数字的下一位大者存在 map 里，然后就可以用 O(N1）的时间构造结果了。\n",
    "\n",
    "（这好像也没怎么节约啊，反而在 nums2 >> nums1 的时候会爆炸。）"
   ]
  }
 ],
 "metadata": {
  "kernelspec": {
   "display_name": "Python 3",
   "language": "python",
   "name": "python3"
  },
  "language_info": {
   "codemirror_mode": {
    "name": "ipython",
    "version": 3
   },
   "file_extension": ".py",
   "mimetype": "text/x-python",
   "name": "python",
   "nbconvert_exporter": "python",
   "pygments_lexer": "ipython3",
   "version": "3.7.6"
  }
 },
 "nbformat": 4,
 "nbformat_minor": 4
}
