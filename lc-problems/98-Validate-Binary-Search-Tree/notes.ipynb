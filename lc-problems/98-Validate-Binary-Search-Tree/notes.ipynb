{
 "cells": [
  {
   "cell_type": "code",
   "execution_count": null,
   "metadata": {},
   "outputs": [],
   "source": [
    "这题我😂边做边笑"
   ]
  },
  {
   "cell_type": "code",
   "execution_count": null,
   "metadata": {},
   "outputs": [],
   "source": [
    "> Runtime: 60 ms, faster than 28.51% of Python3 online submissions for Validate Binary Search Tree.\n",
    "> Memory Usage: 16.1 MB, less than 5.14% of Python3 online submissions for Validate Binary Search Tree."
   ]
  },
  {
   "cell_type": "code",
   "execution_count": null,
   "metadata": {},
   "outputs": [],
   "source": [
    "本质上就是递归的判断一下，左子树的最大值 < 我 < 右子树的最小值就可以了。\n",
    "但是😂我偷懒，在达到叶子结点的时候，让左返回一个很小的值，让右返回一个很大的值，\n",
    "这样就一定满足判断条件（因为叶子肯定不会失败）。然而！\n",
    "\n",
    "最开始，我用了 -1 作为条件，然后她让 -1 成为 node.val。\n",
    "然后，我用 10000/-10000，然后就来了这个数量级的值😂\n",
    "再然后…2^31 - 1？还真的有 2^31 - 1 这个数字）\n",
    "\n",
    "一个 C/C++ 用户该束手无策了吧？\n",
    "还好我写 Python！"
   ]
  },
  {
   "cell_type": "code",
   "execution_count": null,
   "metadata": {},
   "outputs": [],
   "source": [
    "return float('-inf')\n",
    "return float('inf')"
   ]
  },
  {
   "cell_type": "code",
   "execution_count": null,
   "metadata": {},
   "outputs": [],
   "source": [
    "见鬼了…（你判断一下 None 也好啊）"
   ]
  },
  {
   "cell_type": "code",
   "execution_count": null,
   "metadata": {},
   "outputs": [],
   "source": [
    "正经的做法：\n",
    "\n",
    "用中序遍历 + Stack 才是正道啊（正色\n",
    "\n",
    "中序遍历的话，会得到一个递增的数列，这样就可以保证它是一个 BST 啦！\n",
    "也就是因为这样的性质。你可以叫他 Binary Search Tree （二分查找树）。"
   ]
  }
 ],
 "metadata": {
  "kernelspec": {
   "display_name": "Python 3",
   "language": "python",
   "name": "python3"
  }
 },
 "nbformat": 4,
 "nbformat_minor": 2
}
