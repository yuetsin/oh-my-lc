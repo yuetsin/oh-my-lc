{
 "cells": [
  {
   "cell_type": "markdown",
   "metadata": {},
   "source": [
    "# 189\n",
    "\n",
    "\n",
    "Details \n",
    "Runtime: 72 ms, faster than 79.11% of Python3 online submissions for Rotate Array.\n",
    "Memory Usage: 15.1 MB, less than 5.09% of Python3 online submissions for Rotate Array.\n",
    "\n",
    "简单题…Python 的话对 List Slice 是最舒服的解法。O(N) + O(N) 也还行。"
   ]
  }
 ],
 "metadata": {
  "kernelspec": {
   "display_name": "Python 3",
   "language": "python",
   "name": "python3"
  },
  "language_info": {
   "codemirror_mode": {
    "name": "ipython",
    "version": 3
   },
   "file_extension": ".py",
   "mimetype": "text/x-python",
   "name": "python",
   "nbconvert_exporter": "python",
   "pygments_lexer": "ipython3",
   "version": "3.7.4"
  }
 },
 "nbformat": 4,
 "nbformat_minor": 2
}
