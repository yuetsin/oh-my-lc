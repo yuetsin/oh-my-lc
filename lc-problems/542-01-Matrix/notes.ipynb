{
 "cells": [
  {
   "cell_type": "markdown",
   "metadata": {},
   "source": [
    "# 542 02 Matrix\n",
    "\n",
    "DFS 是会失败的，原因是什么？因为无法采用 Memo。不能简单地 Cache，因为这会产生「循环引用」——成环，却还以为还在走向更深的 Depth。这就是 DFS 的问题。\n",
    "\n",
    "所以我们只好采用 BFS 了：优先往 set 里填充，这样即使寻路成环也不会产生死循环。\n",
    "\n",
    "看我们的 bfs sample："
   ]
  },
  {
   "cell_type": "code",
   "execution_count": null,
   "metadata": {},
   "outputs": [],
   "source": [
    "#!/usr/bin/env python\n",
    "\n",
    "class Solution:\n",
    "    def updateMatrix(self, matrix: List[List[int]]) -> List[List[int]]:\n",
    "        # 4 directions\n",
    "        # at least one 0\n",
    "        # int < 10,000\n",
    "        # only, 0 and 1\n",
    "\n",
    "        # get coords of 0s, and 1s\n",
    "        visited = set()  # 0s\n",
    "        to_visit = set()  # 1s\n",
    "        for r in range(len(matrix)):\n",
    "            for c in range(len(matrix[0])):\n",
    "                if matrix[r][c] == 0:\n",
    "                    visited.add((r, c))\n",
    "                else:\n",
    "                    to_visit.add((r, c))\n",
    "\n",
    "        # bfs search, update to_visit, visited, until to_visit is empty\n",
    "        cur = 1  # current value to put\n",
    "        while to_visit:\n",
    "            next_to_visit = set()\n",
    "            for coord in to_visit:\n",
    "                r, c = coord[0], coord[1]\n",
    "                # check left/right/up/down\n",
    "                if (r-1, c) in visited or (r+1, c) in visited or (r, c-1) in visited or (r, c+1) in visited:\n",
    "                    matrix[r][c] = cur\n",
    "                else:\n",
    "                    next_to_visit.add((r, c))\n",
    "\n",
    "            # update cur, visited, and to_visit\n",
    "            cur += 1\n",
    "            visited.update(to_visit - next_to_visit)\n",
    "            to_visit = next_to_visit\n",
    "        # return\n",
    "        return matrix"
   ]
  }
 ],
 "metadata": {
  "kernelspec": {
   "display_name": "Python 3",
   "language": "python",
   "name": "python3"
  },
  "language_info": {
   "codemirror_mode": {
    "name": "ipython",
    "version": 3
   },
   "file_extension": ".py",
   "mimetype": "text/x-python",
   "name": "python",
   "nbconvert_exporter": "python",
   "pygments_lexer": "ipython3",
   "version": "3.7.6"
  }
 },
 "nbformat": 4,
 "nbformat_minor": 4
}
