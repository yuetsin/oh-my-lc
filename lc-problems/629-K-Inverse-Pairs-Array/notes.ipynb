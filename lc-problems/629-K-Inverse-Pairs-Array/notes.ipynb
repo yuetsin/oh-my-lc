{
 "cells": [
  {
   "cell_type": "markdown",
   "metadata": {},
   "source": [
    "# 629 K Inverse Pairs Array\n",
    "\n",
    "硬核题…\n",
    "\n",
    "咱们首先来讲一下这题：给出 1 ~ n 之间的数字，随便排列组合，求出其中「逆序数」恰为 k 的排列个数。\n",
    "\n",
    "所谓「逆序数」就是数学里的定义。\n",
    "\n",
    "## Naïve Solution\n",
    "\n",
    "如果我们遍历每一种排列方式，并判断其中的「逆序数」个数，那么时间复杂度会达到 O(n! * n log(n))。Terribly Terrible.\n",
    "\n",
    "试都不要试。\n",
    "\n",
    "## Recursion + Memorization\n",
    "\n",
    "值重要吗？实际上值不重要。我们知道的是 1 ~ n 这些数字的排列组合求逆序数，但实际上你把它变成 2 ~ n + 1 结果也完全不会变化。\n",
    "\n",
    "因此这里蕴含着 Recursion 的思想：\n",
    "\n",
    "1 ~ n 求逆序数，可以拆分成求 1 ～ i 的逆序数和 i + 1 ~ n 的逆序数，而 i + 1 ~ n 的逆序数又和 1 ~ n - i - 1 的逆序数是一致的。\n",
    "\n",
    "因此这里就有一个良好的 Recursive 解：\n",
    "\n",
    "```java\n",
    "public class Solution {\n",
    "    Integer[][] memo = new Integer[1001][1001];\n",
    "    public int kInversePairs(int n, int k) {\n",
    "        if (n == 0)\n",
    "            return 0;\n",
    "        if (k == 0)\n",
    "            return 1;\n",
    "        if (memo[n][k] != null)\n",
    "            return memo[n][k];\n",
    "        int inv = 0;\n",
    "        for (int i = 0; i <= Math.min(k, n - 1); i++)\n",
    "            inv = (inv + kInversePairs(n - 1, k - i)) % 1000000007;\n",
    "        memo[n][k] = inv;\n",
    "        return inv;\n",
    "    }\n",
    "}\n",
    "```\n",
    "\n",
    "这里数组只开 1001 大小是因为：题目限定，n k 的范围都不超过 1000…\n",
    "\n",
    "实际上用 lru_cache 也够了。还省两行代码。\n",
    "\n",
    "关键循环是 for i in range(min(k, n-1) + 1):\n",
    "            inv = (inv + kInversePairs(n - 1, k - i)) % M;\n",
    "            \n",
    "对出现的逆序数对数做拆分：少了一个数，可能将逆序数减少为 k ~ k - min(k, n-1) - 1 中的任何一个数。\n",
    "\n",
    "count(n,k)=from i=0 to min(k,n−1), ∑ count(n−1,k−i).\n",
    "\n",
    "就是这么回事。"
   ]
  }
 ],
 "metadata": {
  "kernelspec": {
   "display_name": "Python 3",
   "language": "python",
   "name": "python3"
  },
  "language_info": {
   "codemirror_mode": {
    "name": "ipython",
    "version": 3
   },
   "file_extension": ".py",
   "mimetype": "text/x-python",
   "name": "python",
   "nbconvert_exporter": "python",
   "pygments_lexer": "ipython3",
   "version": "3.7.6"
  }
 },
 "nbformat": 4,
 "nbformat_minor": 4
}
