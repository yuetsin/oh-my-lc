{
 "cells": [
  {
   "cell_type": "code",
   "execution_count": null,
   "metadata": {},
   "outputs": [],
   "source": [
    "My solution seems ugly and awkward by all means... But it magically works!"
   ]
  },
  {
   "cell_type": "code",
   "execution_count": null,
   "metadata": {},
   "outputs": [],
   "source": [
    "> Runtime: 36 ms, faster than 72.96% of Python3 online submissions for Text Justification.\n",
    "> Memory Usage: 13.1 MB, less than 5.66% of Python3 online submissions for Text Justification."
   ]
  },
  {
   "cell_type": "code",
   "execution_count": null,
   "metadata": {},
   "outputs": [],
   "source": [
    "Thoughts are simple: Try to grab as much words as you can with GREEDY, and then generate strings line by line."
   ]
  },
  {
   "cell_type": "code",
   "execution_count": null,
   "metadata": {},
   "outputs": [],
   "source": [
    "NOTICE: It is implicitly inferred that when the spaces can't be fairly divided, we should give left parts more spaces."
   ]
  },
  {
   "cell_type": "code",
   "execution_count": null,
   "metadata": {},
   "outputs": [],
   "source": [
    "For each line, I first figure out which words can fit in.\n",
    "According to the code, these words are words[i] through words[i+k-1]. \n",
    "Then spaces are added between the words. \n",
    "The trick here is to use mod operation to manage the spaces that can't be evenly distrubuted: \n",
    "the first (L-l) % (k-1) gaps acquire an additional space.\n",
    "\n",
    "(L - l) % (k - 1) means 1 additional space is the key point."
   ]
  }
 ],
 "metadata": {
  "kernelspec": {
   "display_name": "Python 3",
   "language": "python",
   "name": "python3"
  }
 },
 "nbformat": 4,
 "nbformat_minor": 2
}
