{
 "cells": [
  {
   "cell_type": "markdown",
   "metadata": {},
   "source": [
    "# 175\n",
    "\n",
    "Runtime: 211 ms, faster than 82.88% of MySQL online submissions for Combine Two Tables.\n",
    "Memory Usage: N/A\n",
    "\n",
    "Write a SQL query for a report that provides the following information for each person in the Person table, regardless if there is an address for each of those people\n",
    "\n",
    "这就差指着鼻子说「用 LEFT JOIN」了…\n",
    "\n",
    "总的说来开始写 SQL 还是蛮开心的，毕竟上学期才学了 SE-223，还热乎（雾"
   ]
  }
 ],
 "metadata": {
  "kernelspec": {
   "display_name": "Python 3",
   "language": "python",
   "name": "python3"
  },
  "language_info": {
   "codemirror_mode": {
    "name": "ipython",
    "version": 3
   },
   "file_extension": ".py",
   "mimetype": "text/x-python",
   "name": "python",
   "nbconvert_exporter": "python",
   "pygments_lexer": "ipython3",
   "version": "3.7.4"
  }
 },
 "nbformat": 4,
 "nbformat_minor": 2
}
