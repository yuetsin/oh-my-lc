{
 "cells": [
  {
   "cell_type": "markdown",
   "metadata": {},
   "source": [
    "# 460 LFU Cache\n",
    "\n",
    "相当讨厌的 LFU，Least Frequently Used Cache。根本就不是个良定义的算法。完全主观。\n",
    "\n",
    "实际上，还有一个另加的条件：Frequently 一致的时候，优先溢出 Least Recently Used 的那个。\n",
    "\n",
    "（那你还不如直接就用 LRU 呢。）"
   ]
  }
 ],
 "metadata": {
  "kernelspec": {
   "display_name": "Python 3",
   "language": "python",
   "name": "python3"
  },
  "language_info": {
   "codemirror_mode": {
    "name": "ipython",
    "version": 3
   },
   "file_extension": ".py",
   "mimetype": "text/x-python",
   "name": "python",
   "nbconvert_exporter": "python",
   "pygments_lexer": "ipython3",
   "version": "3.7.6"
  }
 },
 "nbformat": 4,
 "nbformat_minor": 4
}
