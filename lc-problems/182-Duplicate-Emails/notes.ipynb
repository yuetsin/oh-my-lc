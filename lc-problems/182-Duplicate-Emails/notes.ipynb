{
 "cells": [
  {
   "cell_type": "markdown",
   "metadata": {},
   "source": [
    "# 182\n",
    "\n",
    "COUNT(*) + GROUP BY\n",
    "然后直接 WHERE 出 TIMES > 1 的就好了。\n",
    "\n",
    "或者，少一次 SELECT，直接 HAVING\n",
    "\n",
    "select Email\n",
    "from Person\n",
    "group by Email\n",
    "having count(Email) > 1;"
   ]
  }
 ],
 "metadata": {
  "kernelspec": {
   "display_name": "Python 3",
   "language": "python",
   "name": "python3"
  },
  "language_info": {
   "codemirror_mode": {
    "name": "ipython",
    "version": 3
   },
   "file_extension": ".py",
   "mimetype": "text/x-python",
   "name": "python",
   "nbconvert_exporter": "python",
   "pygments_lexer": "ipython3",
   "version": "3.7.4"
  }
 },
 "nbformat": 4,
 "nbformat_minor": 2
}
