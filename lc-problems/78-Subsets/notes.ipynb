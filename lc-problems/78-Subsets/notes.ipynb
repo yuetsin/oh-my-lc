{
 "cells": [
  {
   "cell_type": "code",
   "execution_count": null,
   "metadata": {},
   "outputs": [],
   "source": [
    "    其实思路很简单……对于每一个给入的 List，Switch 一下第一个元素要还是不要，然后递归地 call 后面的一部分。\n",
    "    这里为了节约成本，没有用 List Slice，而是直接 delete 并在正确的地方 Insert 回来。"
   ]
  },
  {
   "cell_type": "code",
   "execution_count": null,
   "metadata": {},
   "outputs": [],
   "source": [
    "本题没有很在意输出的 List 们的顺序问题。你 sort() 一下好看点儿也没啥问题。"
   ]
  },
  {
   "cell_type": "code",
   "execution_count": null,
   "metadata": {},
   "outputs": [],
   "source": [
    "> Runtime: 44 ms, faster than 61.53% of Python3 online submissions for Subsets.\n",
    "> Memory Usage: 13.5 MB, less than 5.00% of Python3 online submissions for Subsets."
   ]
  },
  {
   "cell_type": "code",
   "execution_count": null,
   "metadata": {},
   "outputs": [],
   "source": [
    "某神人用了 Bit manip 来解题…"
   ]
  },
  {
   "cell_type": "code",
   "execution_count": null,
   "metadata": {},
   "outputs": [],
   "source": [
    "另有某 一行Python……看代码吧……"
   ]
  }
 ],
 "metadata": {
  "kernelspec": {
   "display_name": "Python 3",
   "language": "python",
   "name": "python3"
  }
 },
 "nbformat": 4,
 "nbformat_minor": 2
}
