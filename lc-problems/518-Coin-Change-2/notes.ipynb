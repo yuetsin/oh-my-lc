{
 "cells": [
  {
   "cell_type": "markdown",
   "metadata": {},
   "source": [
    "# 518 Coin Change 2\n",
    "\n",
    "Runtime: 1156 ms, faster than 5.04% of Python3 online submissions for Coin Change 2.\n",
    "\n",
    "Memory Usage: 57.4 MB, less than 16.67% of Python3 online submissions for Coin Change 2.\n",
    "\n",
    "（我写的好 low 啊…）\n",
    "\n",
    "简单说，也是一个递归分析。只不过要留意，对于换硬币这种无序的东西来说，先拿 1 块再拿 2 块 和先拿 2 块再拿 1 块是没有区别的。\n",
    "\n",
    "也就是说，先后顺序不重要。所以，我们规定只允许拿越来越大的硬币，这样就不会出现这种重复情况了。"
   ]
  }
 ],
 "metadata": {
  "kernelspec": {
   "display_name": "Python 3",
   "language": "python",
   "name": "python3"
  },
  "language_info": {
   "codemirror_mode": {
    "name": "ipython",
    "version": 3
   },
   "file_extension": ".py",
   "mimetype": "text/x-python",
   "name": "python",
   "nbconvert_exporter": "python",
   "pygments_lexer": "ipython3",
   "version": "3.7.6"
  }
 },
 "nbformat": 4,
 "nbformat_minor": 4
}
