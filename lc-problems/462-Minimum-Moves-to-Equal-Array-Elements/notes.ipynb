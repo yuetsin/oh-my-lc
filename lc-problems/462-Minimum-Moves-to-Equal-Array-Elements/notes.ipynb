{
 "cells": [
  {
   "cell_type": "markdown",
   "metadata": {},
   "source": [
    "# 462 Minimum Moves to Equal Array Elements\n",
    "\n",
    "用中位数本质上不是个问题。找中位数，用了 O(NLogN)；算一遍，又得 O(N)。\n",
    "\n",
    "正解可以用双指针，一个个找出它们的差值。这办法可以只用 O(N) 就成。"
   ]
  }
 ],
 "metadata": {
  "kernelspec": {
   "display_name": "Python 3",
   "language": "python",
   "name": "python3"
  },
  "language_info": {
   "codemirror_mode": {
    "name": "ipython",
    "version": 3
   },
   "file_extension": ".py",
   "mimetype": "text/x-python",
   "name": "python",
   "nbconvert_exporter": "python",
   "pygments_lexer": "ipython3",
   "version": "3.7.6"
  }
 },
 "nbformat": 4,
 "nbformat_minor": 4
}
