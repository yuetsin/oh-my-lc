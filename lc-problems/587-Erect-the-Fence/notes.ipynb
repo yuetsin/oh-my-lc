{
 "cells": [
  {
   "cell_type": "markdown",
   "metadata": {},
   "source": [
    "# 587 Erect the Fence\n",
    "\n",
    "简单、符合直觉。难得啊…\n",
    "\n",
    "选定任何一个点开始，然后确定一条斜率任意的直线。开始顺时针（或者逆时针也没关系，随你喜欢）旋转它。直到碰到了下一个点，开始改用那个点作为轴来接着旋转点，并放入 stack 中；依次这么操作，直到遇到了循环的点——那么构成这个循环的点就是外边缘。\n",
    "\n",
    "这和某一道数学竞赛题有点类似——Windmill。具体在哪想不起来了。\n",
    "\n",
    "If we imagine the tangent line to the convex polygon, as it moves from edge to edge clockwise, it must also rotate clockwise. We can encode this by saying the slope of the tangent line must always decrease for the upper hull, and increase for the lower hull. Returning float(\"inf\") if the points are vertical works out nicely because a) you can compare it with fractions and b) it gives the right result for both upper and lower hull since the points will also be sorted by increasing y co-ordinate.\n",
    "\n",
    "Thus, we can keep a resultant array that is kept in decreasing slope order, and when we add a new point we delete all the points in the array that invalidate this order. It is O(nlogn) because the time for sorting dominates the time for processing the hull (which is O(n), since we process each point at most 2 times (one for adding it and one for deleting it))."
   ]
  }
 ],
 "metadata": {
  "kernelspec": {
   "display_name": "Python 3",
   "language": "python",
   "name": "python3"
  },
  "language_info": {
   "codemirror_mode": {
    "name": "ipython",
    "version": 3
   },
   "file_extension": ".py",
   "mimetype": "text/x-python",
   "name": "python",
   "nbconvert_exporter": "python",
   "pygments_lexer": "ipython3",
   "version": "3.7.6"
  }
 },
 "nbformat": 4,
 "nbformat_minor": 4
}
