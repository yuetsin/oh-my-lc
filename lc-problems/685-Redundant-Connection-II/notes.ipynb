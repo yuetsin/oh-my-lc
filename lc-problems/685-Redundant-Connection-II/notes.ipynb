{
 "cells": [
  {
   "cell_type": "markdown",
   "metadata": {},
   "source": [
    "# 685 Redundant Connection II\n",
    "\n",
    "……Union Find。\n",
    "\n",
    "多余的边，可能是哪些情况？其实一共就三种。\n",
    "\n",
    "Type 1: 一个节点被安上了两个父节点，结果到那儿之后走不通，不成环；\n",
    "\n",
    "```\n",
    "# 1 One node with two parents and graph has no cycle:\n",
    "  1\n",
    " / \\\n",
    "v   v\n",
    "2-->3\n",
    "```\n",
    "\n",
    "Type 2: 一个节点被安上了两个父节点，但是跟他的子节点成了环：\n",
    "\n",
    "```\n",
    "# 2 One node with two parents and it's in a cycle:\n",
    "5 -> 1 -> 2\n",
    "     ^    |\n",
    "     |    v\n",
    "     4 <- 3\n",
    "```\n",
    "\n",
    "Type 3: 所有节点都只有一个父节点，但是还是成了环。\n",
    "```\n",
    "# 3 No node has two parents and graph has a cycle:\n",
    "5 <- 1 -> 2\n",
    "     ^    |\n",
    "     |    v\n",
    "     4 <- 3\n",
    "```\n",
    "\n",
    "说来…这里加了一条边，并不能绝对的说就组成了一个环。\n",
    "\n",
    "而且和 #684 不同，删除环内的任意一条边并不一定就还原成了一棵树——可能还有双父亲的情况存在。\n",
    "\n",
    "所以我们只能通过这里的方法来解决问题：\n",
    "\n",
    "首先，假如有个节点有两个父节点，即存在 (p1, c) 和 (p2, c)，那么好办了；只可能是这两条中的某一条是那个多余者。\n",
    "\n",
    "试着从里面删除靠后的那一条。\n",
    "    假如删除之后仍然有环，\n",
    "        那么我们一定是在 Type #2 而且删除了错的那条边。\n",
    "        直接返回另一条就好了。Solved。\n",
    "    假如删除之后没有环，\n",
    "        那么我们可能是在 Type #2 而且删对了边，那么直接返回他就好了；\n",
    "        或者我们是在 Type #1 里，这个情况下两条边都可以删——但我们是先找的那根靠后的边，所以也返回他，就好了。\n",
    "\n",
    "这样，Type 1 和 Type 2 都覆盖到了。\n",
    "\n",
    "假如没有一个节点有两个父亲（Type 3），那么我们就需要单独处理这一 Case 了。\n",
    "这种情况下，我们直接用老方法 DFS，或者是 Union-Find 就可以找出那个环——题目退化到了 #684 的问题。\n",
    "\n",
    "说到底，问题就是增加了「方向」之后，带来了 Type 1 和 2 两种情况，需要我们特别处理。但也是可以巧妙解决的。"
   ]
  }
 ],
 "metadata": {
  "kernelspec": {
   "display_name": "Python 3",
   "language": "python",
   "name": "python3"
  },
  "language_info": {
   "codemirror_mode": {
    "name": "ipython",
    "version": 3
   },
   "file_extension": ".py",
   "mimetype": "text/x-python",
   "name": "python",
   "nbconvert_exporter": "python",
   "pygments_lexer": "ipython3",
   "version": "3.7.6"
  }
 },
 "nbformat": 4,
 "nbformat_minor": 4
}
