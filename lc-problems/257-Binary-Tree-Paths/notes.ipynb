{
 "cells": [
  {
   "cell_type": "markdown",
   "metadata": {},
   "source": [
    "# 257\n",
    "\n",
    "一连锁了 14 题…\n",
    "\n",
    "> 等我有钱了一定先开 LeetCode 会员\n",
    "\n",
    "这题中规中矩，就是找出所有 root -> leaf 的路径。一样，也是可以递归可以 Stack。不多说了。\n",
    "\n",
    "Runtime: 40 ms, faster than 63.04% of Python3 online submissions for Binary Tree Paths.\n",
    "Memory Usage: 13.8 MB, less than 9.52% of Python3 online submissions for Binary Tree Paths.\n"
   ]
  }
 ],
 "metadata": {
  "kernelspec": {
   "display_name": "Python 3",
   "language": "python",
   "name": "python3"
  },
  "language_info": {
   "codemirror_mode": {
    "name": "ipython",
    "version": 3
   },
   "file_extension": ".py",
   "mimetype": "text/x-python",
   "name": "python",
   "nbconvert_exporter": "python",
   "pygments_lexer": "ipython3",
   "version": "3.7.4"
  }
 },
 "nbformat": 4,
 "nbformat_minor": 2
}
