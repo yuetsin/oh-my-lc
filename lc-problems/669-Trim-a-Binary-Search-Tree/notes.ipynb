{
 "cells": [
  {
   "cell_type": "markdown",
   "metadata": {},
   "source": [
    "# 669 Trim a Binary Tree\n",
    "\n",
    "Runtime: 52 ms, faster than 50.82% of Python3 online submissions for Trim a Binary Search Tree.\n",
    "\n",
    "Memory Usage: 16.6 MB, less than 100.00% of Python3 online submissions for Trim a Binary Search Tree.\n",
    "\n",
    "BST 可以保证，假如 node < L，那么这个节点连同左子树上的所有 Node 都可以砍掉了；node > L 的柚子树同理。\n",
    "\n",
    "漂亮～"
   ]
  }
 ],
 "metadata": {
  "kernelspec": {
   "display_name": "Python 3",
   "language": "python",
   "name": "python3"
  },
  "language_info": {
   "codemirror_mode": {
    "name": "ipython",
    "version": 3
   },
   "file_extension": ".py",
   "mimetype": "text/x-python",
   "name": "python",
   "nbconvert_exporter": "python",
   "pygments_lexer": "ipython3",
   "version": "3.7.6"
  }
 },
 "nbformat": 4,
 "nbformat_minor": 4
}
