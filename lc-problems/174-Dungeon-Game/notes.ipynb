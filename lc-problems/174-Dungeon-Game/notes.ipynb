{
 "cells": [
  {
   "cell_type": "markdown",
   "metadata": {},
   "source": [
    "# 174\n",
    "\n",
    "典型的动态规划题。\n",
    "\n",
    "这几个条件可以看得出来：\n",
    "\n",
    "勇者为了快速救出公主，决定只往右、下两个方向走。\n",
    "（原文：In order to reach the princess as quickly as possible, the knight decides to move only rightward or downward in each step.）\n",
    "那这毫无疑问是 DP 了。\n",
    "\n",
    "注意因为 Python list 的特别性（特别的慢），所以这里用 dict，把 (y, x) 作为索引反而可能会快一点。\n",
    "\n",
    "如果是那些用 malloc 开数组的语言（如 C/C++ 等），那毫无疑问应该预先开好 DP 表的内存再去直接读。\n",
    "\n",
    "（谁叫我要用 Python……）\n",
    "\n",
    "再另外，还有一个条件是生命值达到 0，勇者会立即死亡。因此 Health = 0 是不可出现的状态。这导致部分地方有一些跟 1 有关的 Corner Case。\n",
    "\n",
    "稍加注意即可。\n",
    "\n",
    "最后……\n",
    "Runtime: 152 ms, faster than 5.12% of Python3 online submissions for Dungeon Game.\n",
    "Memory Usage: 17.2 MB, less than 11.11% of Python3 online submissions for Dungeon Game.\n",
    "慢慢慢……\n",
    "\n",
    "我就是那只恶龙吧…"
   ]
  }
 ],
 "metadata": {
  "kernelspec": {
   "display_name": "Python 3",
   "language": "python",
   "name": "python3"
  },
  "language_info": {
   "codemirror_mode": {
    "name": "ipython",
    "version": 3
   },
   "file_extension": ".py",
   "mimetype": "text/x-python",
   "name": "python",
   "nbconvert_exporter": "python",
   "pygments_lexer": "ipython3",
   "version": "3.7.4"
  }
 },
 "nbformat": 4,
 "nbformat_minor": 2
}
