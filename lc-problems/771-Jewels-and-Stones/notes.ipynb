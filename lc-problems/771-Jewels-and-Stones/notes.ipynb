{
 "cells": [
  {
   "cell_type": "markdown",
   "metadata": {},
   "source": [
    "# 771 Jewels and Stones\n",
    "\n",
    "咳咳咳…\n",
    "\n",
    "这题全部的难点，都在「阅读理解」上了…\n",
    "\n",
    "Runtime: 24 ms, faster than 90.16% of Python3 online submissions for Jewels and Stones.\n",
    "\n",
    "Memory Usage: 12.9 MB, less than 100.00% of Python3 online submissions for Jewels and Stones."
   ]
  }
 ],
 "metadata": {
  "kernelspec": {
   "display_name": "Python 3",
   "language": "python",
   "name": "python3"
  },
  "language_info": {
   "codemirror_mode": {
    "name": "ipython",
    "version": 3
   },
   "file_extension": ".py",
   "mimetype": "text/x-python",
   "name": "python",
   "nbconvert_exporter": "python",
   "pygments_lexer": "ipython3",
   "version": "3.7.6"
  }
 },
 "nbformat": 4,
 "nbformat_minor": 2
}
