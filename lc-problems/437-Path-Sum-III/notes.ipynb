{
 "cells": [
  {
   "cell_type": "markdown",
   "metadata": {},
   "source": [
    "# 437 Path Sum III\n",
    "\n",
    "这次要找的通路是不必从根起，不必以叶终。看起来很简单，只要在每个点考虑两种情况（Take 或 Not Take）即可。但实际上不是这样。\n",
    "\n",
    "如果我们对每个点都这么操作，就可能会把「间断」的点给拿进来考虑，这绝对不可以。\n",
    "\n",
    "因此，我们用一个隐藏参数 selected 来确定当前这个点到底有没有被选择。假如正在被选择，就不允许跳过这个点，只能到终点才结束。\n",
    "\n",
    "Runtime: 972 ms, faster than 12.32% of Python3 online submissions for Path Sum III.\n",
    "Memory Usage: 13.9 MB, less than 90.91% of Python3 online submissions for Path Sum III.\n",
    "\n",
    "另外一定要注意：这里的 Node 可正可负可 0。千万别找到一个 Matched 就停下来了，後面可能还有。\n",
    "\n",
    "掰掰。"
   ]
  }
 ],
 "metadata": {
  "kernelspec": {
   "display_name": "Python 3",
   "language": "python",
   "name": "python3"
  },
  "language_info": {
   "codemirror_mode": {
    "name": "ipython",
    "version": 3
   },
   "file_extension": ".py",
   "mimetype": "text/x-python",
   "name": "python",
   "nbconvert_exporter": "python",
   "pygments_lexer": "ipython3",
   "version": "3.7.6"
  }
 },
 "nbformat": 4,
 "nbformat_minor": 2
}
