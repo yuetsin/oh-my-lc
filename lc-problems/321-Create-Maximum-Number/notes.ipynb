{
 "cells": [
  {
   "cell_type": "markdown",
   "metadata": {},
   "source": [
    "# 321\n",
    "\n",
    "这是个奇妙的…动态规划题。\n",
    "\n",
    "三维动态规划。\n",
    "\n",
    "因为每一次我们都有三种不同的方法可以继续：\n",
    "\n",
    "A、可以选择放弃两个数组里的数字，都往前走一位；\n",
    "\n",
    "B、可以选择从 nums1 里拿一个数字；\n",
    "\n",
    "C、也可以从 nums2 里拿一个数字。\n",
    "\n",
    "这样做的话，三维的 DP 就可以构造起来了。\n",
    "\n",
    "不过要注意：初始化的时候先初始化两条边上的值（这是很好确定的：仅仅从一个数组里取，就是个简单的线性 DP 表。）\n",
    "\n",
    "dp[i][j][k] = max(dp[i][j][k], dp[i - 1][j][k], dp[i][j - 1][k])\n",
    "                                      \n",
    "dp[i][j][k] = max(dp[i][j][k], dp[i - 1][j][k - 1] * 10 + nums1[i - 1])\n",
    "\n",
    "dp[i][j][k] = max(dp[i][j][k], dp[i][j - 1][k - 1] * 10 + nums2[j - 1])\n",
    "\n",
    "事实上可以简单写作\n",
    "\n",
    "dp[i][j][k] = max(dp[i][j][k], dp[i - 1][j][k], dp[i][j - 1][k], dp[i - 1][j][k - 1] * 10 + nums1[i - 1]), dp[i][j - 1][k - 1] * 10 + nums2[j - 1]))\n",
    "\n",
    "（就是稍微难读了一点……）\n",
    "\n",
    "最后从头开始就好了。"
   ]
  },
  {
   "cell_type": "markdown",
   "metadata": {},
   "source": [
    "非常遗憾的是…这种方法…TLE了…\n",
    "\n",
    "这个 CASE 过不去：\n",
    "\n",
    "[7,3,1,0,4,0,1,5,4,1,8,7,9,1,1,2,3,1,0,3,6,9,3,7]\n",
    "[4,1,3,7,4,4,2,6,0,0,2,4,9,3,2,1,2,3,8,1,7,4,6,7,4,6,2,3,6,9,3,0,9,4,1,4,6,4,6,3,8,0,2,5,1,5,0,8,1,4,1,5,0,7,8,7,1,5,0,8,2,8,5,5,7,2,7,4,2,7,8,5,8,5,1,9,8,1,4,0,3,2,2,0,0,8,7,4,1,1,0,2,7,7,1,6,1,7,8,3,0,9,4,9,8,1,3,3,2,6,1,8,5,5,7,7,9,1,5,1]\n",
    "120\n",
    "\n",
    "DP 此题行不通。据观察 Java 的 DP 实现会因为 BigInteger 的性能太差而爆炸。\n",
    "\n",
    "C++ 的耗时大概在 2000 ms 上下。\n",
    "\n",
    "看看这个 Java Solution 吧。DP 此题不好使。\n",
    "\n",
    "这个 Sol 就很丑…有很多古怪的实现。但总归他很快。\n",
    "\n",
    "不敢相信…\n",
    "\n",
    "DP 表那么美好的实现事实上却那么差…\n",
    "\n",
    "Java 这种粗暴的实现却能做到\n",
    "\n",
    "Runtime: 4 ms, faster than 100.00% of Java online submissions for Create Maximum Number.\n",
    "\n",
    "Memory Usage: 37.3 MB, less than 100.00% of Java online submissions for Create Maximum Number.\n",
    "\n",
    "崩了。"
   ]
  }
 ],
 "metadata": {
  "kernelspec": {
   "display_name": "Python 3",
   "language": "python",
   "name": "python3"
  },
  "language_info": {
   "codemirror_mode": {
    "name": "ipython",
    "version": 3
   },
   "file_extension": ".py",
   "mimetype": "text/x-python",
   "name": "python",
   "nbconvert_exporter": "python",
   "pygments_lexer": "ipython3",
   "version": "3.7.4"
  }
 },
 "nbformat": 4,
 "nbformat_minor": 2
}
