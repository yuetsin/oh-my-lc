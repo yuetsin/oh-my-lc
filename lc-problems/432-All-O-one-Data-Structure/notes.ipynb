{
 "cells": [
  {
   "cell_type": "markdown",
   "metadata": {},
   "source": [
    "# 432 All O\\`one Data Structure\n",
    "\n",
    "要糊一个能用的数据结构当然简单。一个 dict 就足够了。\n",
    "\n",
    "Runtime: 64 ms, faster than 99.55% of Python3 online submissions for All O\\`one Data Structure.\n",
    "Memory Usage: 17.1 MB, less than 100.00% of Python3 online submissions for All O\\`one Data Structure.\n",
    "\n",
    "而且对 Python 来说，性能还不差。（这不算什么赞美。）\n",
    "\n",
    "难点在于，怎么把 Max/Min/Inc/Dec 四个操作的复杂度都压到 O(1)。这显然只好靠空间换时间了。\n",
    "\n",
    "有一个有趣的方法是：把 Dict 给拆散成保有不同 Value 的 Set（集合），增加减少值的本质是在 Set 之间转移 Key。\n",
    "\n",
    "这样，Max 和 Min 肯定就是常数时间了（直接拿链表两端的）。\n",
    "\n",
    "就是占了不少空间，这是真的。"
   ]
  }
 ],
 "metadata": {
  "kernelspec": {
   "display_name": "Python 3",
   "language": "python",
   "name": "python3"
  },
  "language_info": {
   "codemirror_mode": {
    "name": "ipython",
    "version": 3
   },
   "file_extension": ".py",
   "mimetype": "text/x-python",
   "name": "python",
   "nbconvert_exporter": "python",
   "pygments_lexer": "ipython3",
   "version": "3.7.6"
  }
 },
 "nbformat": 4,
 "nbformat_minor": 2
}
