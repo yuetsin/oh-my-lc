{
 "cells": [
  {
   "cell_type": "markdown",
   "metadata": {},
   "source": [
    "# 739 Daily Temperatures\n",
    "\n",
    "用脚趾头都能想出来 O(N^2) 的解法。但是过不了测试的。\n",
    "\n",
    "这里，是不能简单地用 DP 的。因为 waitday[i] = waitday[i + 1] + 1 (if waitday[i] > waitday[i + 1]) 并不对。因为要求的是「Warmer Day」是相较于当前的日期 i 决定的，而非毗邻的前一天。\n",
    "\n",
    "这里有个特点：温度值限定在 [30, 100] 里头。只有这么多个值。那么我们换个思路：倒着遍历 list，然后直接把每个温度对应的 Day 给放到这 71 个 array 里，找出其中最小值（离当前最近的那个值）就是那个 Next Warmer Day。"
   ]
  }
 ],
 "metadata": {
  "kernelspec": {
   "display_name": "Python 3",
   "language": "python",
   "name": "python3"
  },
  "language_info": {
   "codemirror_mode": {
    "name": "ipython",
    "version": 3
   },
   "file_extension": ".py",
   "mimetype": "text/x-python",
   "name": "python",
   "nbconvert_exporter": "python",
   "pygments_lexer": "ipython3",
   "version": "3.7.6"
  }
 },
 "nbformat": 4,
 "nbformat_minor": 4
}
