{
 "cells": [
  {
   "cell_type": "markdown",
   "metadata": {},
   "source": [
    "# 482 License Key Formatting\n",
    "\n",
    "序列号格式化……\n",
    "\n",
    "是一道没什么意义的题。\n",
    "\n",
    "Runtime: 156 ms, faster than 9.96% of Python3 online submissions for License Key Formatting.\n",
    "\n",
    "Memory Usage: 13.7 MB, less than 38.46% of Python3 online submissions for License Key Formatting."
   ]
  }
 ],
 "metadata": {
  "kernelspec": {
   "display_name": "Python 3",
   "language": "python",
   "name": "python3"
  },
  "language_info": {
   "codemirror_mode": {
    "name": "ipython",
    "version": 3
   },
   "file_extension": ".py",
   "mimetype": "text/x-python",
   "name": "python",
   "nbconvert_exporter": "python",
   "pygments_lexer": "ipython3",
   "version": "3.7.6"
  }
 },
 "nbformat": 4,
 "nbformat_minor": 4
}
