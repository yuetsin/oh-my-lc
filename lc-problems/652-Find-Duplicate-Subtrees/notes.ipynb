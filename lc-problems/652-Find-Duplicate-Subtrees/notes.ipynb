{
 "cells": [
  {
   "cell_type": "markdown",
   "metadata": {},
   "source": [
    "# 652 Find Duplicate Subtrees\n",
    "\n",
    "\n",
    "Runtime: 1076 ms, faster than 5.02% of Python3 online submissions for Find Duplicate Subtrees.\n",
    "\n",
    "Memory Usage: 24.1 MB, less than 20.00% of Python3 online submissions for Find Duplicate Subtrees.\n",
    "\n",
    "太太太太太慢了…\n",
    "\n",
    "我们用 String 来记录重复，实在是有点太慢了。（Python 的 string 本身就不快…）\n",
    "\n"
   ]
  }
 ],
 "metadata": {
  "kernelspec": {
   "display_name": "Python 3",
   "language": "python",
   "name": "python3"
  },
  "language_info": {
   "codemirror_mode": {
    "name": "ipython",
    "version": 3
   },
   "file_extension": ".py",
   "mimetype": "text/x-python",
   "name": "python",
   "nbconvert_exporter": "python",
   "pygments_lexer": "ipython3",
   "version": "3.7.6"
  }
 },
 "nbformat": 4,
 "nbformat_minor": 4
}
