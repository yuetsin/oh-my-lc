{
 "cells": [
  {
   "cell_type": "markdown",
   "metadata": {},
   "source": [
    "# 452 Minimum Numbers of Arrows to Burst Ballons\n",
    "\n",
    "\n",
    "Runtime: 448 ms, faster than 59.80% of Python3 online submissions for Minimum Number of Arrows to Burst Balloons.\n",
    "Memory Usage: 17.9 MB, less than 16.67% of Python3 online submissions for Minimum Number of Arrows to Burst Balloons.\n",
    "\n",
    "也是贪婪法…看一下就发现跟上面那个「Overlapping Durations」题特别相似。\n",
    "\n",
    "我们先按照「方形气球」End Point 将他们做好排序。然后，一个一个往后扎就好了。注意每遇到一个球都尽量靠后扎以便多扎爆几个。又因为是按照 End Point 升序排序的，所以也不会出现「在尽量靠後的过程中漏过了一些气球」。\n",
    "\n",
    "这里，贪婪算法是对的。"
   ]
  }
 ],
 "metadata": {
  "kernelspec": {
   "display_name": "Python 3",
   "language": "python",
   "name": "python3"
  },
  "language_info": {
   "codemirror_mode": {
    "name": "ipython",
    "version": 3
   },
   "file_extension": ".py",
   "mimetype": "text/x-python",
   "name": "python",
   "nbconvert_exporter": "python",
   "pygments_lexer": "ipython3",
   "version": "3.7.6"
  }
 },
 "nbformat": 4,
 "nbformat_minor": 2
}
