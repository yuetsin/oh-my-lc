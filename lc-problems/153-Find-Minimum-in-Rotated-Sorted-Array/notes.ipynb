{
 "cells": [
  {
   "cell_type": "code",
   "execution_count": null,
   "metadata": {},
   "outputs": [],
   "source": [
    "Weird……"
   ]
  },
  {
   "cell_type": "code",
   "execution_count": null,
   "metadata": {},
   "outputs": [],
   "source": [
    "简单讲就是一个 min()，只不过这里已知大部分时候都会递增，一旦递减起来就得到最小值（或者最小值一开始就出现了）。"
   ]
  },
  {
   "cell_type": "code",
   "execution_count": null,
   "metadata": {},
   "outputs": [],
   "source": [
    "\n",
    "Runtime: 36 ms, faster than 86.62% of Python3 online submissions for Find Minimum in Rotated Sorted Array.\n",
    "Memory Usage: 13.2 MB, less than 58.67% of Python3 online submissions for Find Minimum in Rotated Sorted Array.\n"
   ]
  },
  {
   "cell_type": "code",
   "execution_count": null,
   "metadata": {},
   "outputs": [],
   "source": [
    "看到题目推荐我就明白了。\n",
    "Find Minimum in Rotated Sorted Array II\n",
    "才是重头戏。这只是印子……"
   ]
  },
  {
   "cell_type": "code",
   "execution_count": null,
   "metadata": {},
   "outputs": [],
   "source": [
    "P.S.我有罪……居然忘掉了二分法……O(N) => O(Log N) 啊……我傻了"
   ]
  }
 ],
 "metadata": {
  "kernelspec": {
   "display_name": "Python 3",
   "language": "python",
   "name": "python3"
  }
 },
 "nbformat": 4,
 "nbformat_minor": 2
}
