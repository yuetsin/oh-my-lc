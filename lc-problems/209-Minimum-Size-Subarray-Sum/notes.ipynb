{
 "cells": [
  {
   "cell_type": "markdown",
   "metadata": {},
   "source": [
    "# 209\n",
    "\n",
    "同样的暴力方法 C++ 可以过 cases，Python 就不行（语言歧视\n",
    "\n",
    "略微优化方案：其实这样的计算中，有可能会多次计算从某一点往后求和的值。如果我们保存这个值，就可以减少很多重复计算，优化计算效率。\n",
    "\n",
    "int minSubArrayLen(int s, vector<int>& nums)\n",
    "{\n",
    "    int n = nums.size();\n",
    "    if (n == 0)\n",
    "        return 0;\n",
    "    int ans = INT_MAX;\n",
    "    vector<int> sums(n);\n",
    "    sums[0] = nums[0];\n",
    "    for (int i = 1; i < n; i++)\n",
    "        sums[i] = sums[i - 1] + nums[i];\n",
    "    for (int i = 0; i < n; i++) {\n",
    "        for (int j = i; j < n; j++) {\n",
    "            int sum = sums[j] - sums[i] + nums[i];\n",
    "            if (sum >= s) {\n",
    "                ans = min(ans, (j - i + 1));\n",
    "                break; //Found the smallest subarray with sum>=s starting with index i, hence move to next index\n",
    "            }\n",
    "        }\n",
    "    }\n",
    "    return (ans != INT_MAX) ? ans : 0;\n",
    "}\n",
    "    \n",
    "    \n",
    "第二道优化方案是：用 BinarySearch 来加速。\n",
    "\n",
    "int minSubArrayLen(int s, vector<int>& nums)\n",
    "{\n",
    "    int n = nums.size();\n",
    "    if (n == 0)\n",
    "        return 0;\n",
    "    int ans = INT_MAX;\n",
    "    vector<int> sums(n + 1, 0); //size = n+1 for easier calculations\n",
    "    //sums[0]=0 : Meaning that it is the sum of first 0 elements\n",
    "    //sums[1]=A[0] : Sum of first 1 elements\n",
    "    //ans so on...\n",
    "    for (int i = 1; i <= n; i++)\n",
    "        sums[i] = sums[i - 1] + nums[i - 1];\n",
    "    for (int i = 1; i <= n; i++) {\n",
    "        int to_find = s + sums[i - 1];\n",
    "        auto bound = lower_bound(sums.begin(), sums.end(), to_find);\n",
    "        if (bound != sums.end()) {\n",
    "            ans = min(ans, static_cast<int>(bound - (sums.begin() + i - 1)));\n",
    "        }\n",
    "    }\n",
    "    return (ans != INT_MAX) ? ans : 0;\n",
    "}"
   ]
  }
 ],
 "metadata": {
  "kernelspec": {
   "display_name": "Python 3",
   "language": "python",
   "name": "python3"
  },
  "language_info": {
   "codemirror_mode": {
    "name": "ipython",
    "version": 3
   },
   "file_extension": ".py",
   "mimetype": "text/x-python",
   "name": "python",
   "nbconvert_exporter": "python",
   "pygments_lexer": "ipython3",
   "version": "3.7.4"
  }
 },
 "nbformat": 4,
 "nbformat_minor": 2
}
