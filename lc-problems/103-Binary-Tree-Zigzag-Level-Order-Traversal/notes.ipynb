{
 "cells": [
  {
   "cell_type": "code",
   "execution_count": null,
   "metadata": {},
   "outputs": [],
   "source": [
    "其实我觉得本题有点意味不明…（对 ZigZag 有心理阴影）\n",
    "我的 Reuse 方案又是 重用 #102 的解法，然后手动 reverse list。\n",
    "（我觉得在数据结构从数组、链表过渡到树之后，很少出现超级大量的 Case 来轰炸了（大概是树要大量确实很难"
   ]
  },
  {
   "cell_type": "code",
   "execution_count": null,
   "metadata": {},
   "outputs": [],
   "source": [
    "> Runtime: 40 ms, faster than 81.44% of Python3 online submissions for Binary Tree Zigzag Level Order Traversal.\n",
    "> Memory Usage: 13.4 MB, less than 5.36% of Python3 online submissions for Binary Tree Zigzag Level Order Traversal."
   ]
  },
  {
   "cell_type": "code",
   "execution_count": null,
   "metadata": {},
   "outputs": [],
   "source": [
    "就算这样还是挺快的…"
   ]
  },
  {
   "cell_type": "code",
   "execution_count": null,
   "metadata": {},
   "outputs": [],
   "source": [
    "如果基于上面的 Stack 方法，那就只需要一个 Bool 记录 RightToLeft? 然后在需要的时候反过来填充 Index 就可以了。"
   ]
  }
 ],
 "metadata": {
  "kernelspec": {
   "display_name": "Python 3",
   "language": "python",
   "name": "python3"
  }
 },
 "nbformat": 4,
 "nbformat_minor": 2
}
