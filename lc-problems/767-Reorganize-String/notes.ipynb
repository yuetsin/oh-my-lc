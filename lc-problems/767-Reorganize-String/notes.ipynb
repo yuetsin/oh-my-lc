{
 "cells": [
  {
   "cell_type": "markdown",
   "metadata": {},
   "source": [
    "# 767 Reorganize String\n",
    "\n",
    "Runtime: 20 ms, faster than 99.43% of Python3 online submissions for Reorganize String.\n",
    "\n",
    "Memory Usage: 12.6 MB, less than 100.00% of Python3 online submissions for Reorganize String.\n",
    "\n",
    "简单说，只要同种 char 的个数不超过半数（等于半数是可以的），那就一定有办法可以 Reorganize。\n",
    "\n",
    "最简单的思路就是直接插入：因为保证了每次插入的 char 都是前所未有、又不会再有的。所以每次做「插入」都保证不会有相邻重复元素出现。就这样。"
   ]
  }
 ],
 "metadata": {
  "kernelspec": {
   "display_name": "Python 3",
   "language": "python",
   "name": "python3"
  },
  "language_info": {
   "codemirror_mode": {
    "name": "ipython",
    "version": 3
   },
   "file_extension": ".py",
   "mimetype": "text/x-python",
   "name": "python",
   "nbconvert_exporter": "python",
   "pygments_lexer": "ipython3",
   "version": "3.7.6"
  }
 },
 "nbformat": 4,
 "nbformat_minor": 4
}
