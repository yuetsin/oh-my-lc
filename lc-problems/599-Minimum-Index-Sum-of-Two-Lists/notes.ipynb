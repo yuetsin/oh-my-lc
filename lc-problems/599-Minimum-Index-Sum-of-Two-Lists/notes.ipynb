{
 "cells": [
  {
   "cell_type": "markdown",
   "metadata": {},
   "source": [
    "# 599 Minimum Index Sum of Two Lists\n",
    "\n",
    "感动啊！@南条爱乃（just_not_over_12）出了道能做的题！\n",
    "\n",
    "而且有一句话很棒：You could assume there always exists an answer.\n",
    "\n",
    "所以基本用什么操作都好了。复杂度基本都在一次函数级别。\n",
    "\n",
    "133 / 133 test cases passed.\n",
    "Status: Accepted\n",
    "Runtime: 164 ms\n",
    "Memory Usage: 12.9 MB"
   ]
  }
 ],
 "metadata": {
  "kernelspec": {
   "display_name": "Python 3",
   "language": "python",
   "name": "python3"
  },
  "language_info": {
   "codemirror_mode": {
    "name": "ipython",
    "version": 3
   },
   "file_extension": ".py",
   "mimetype": "text/x-python",
   "name": "python",
   "nbconvert_exporter": "python",
   "pygments_lexer": "ipython3",
   "version": "3.7.6"
  }
 },
 "nbformat": 4,
 "nbformat_minor": 4
}
