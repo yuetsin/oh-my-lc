{
 "cells": [
  {
   "cell_type": "code",
   "execution_count": null,
   "metadata": {},
   "outputs": [],
   "source": [
    "首先…沉迷 1-Line 无法自拔，写了一个"
   ]
  },
  {
   "cell_type": "code",
   "execution_count": null,
   "metadata": {},
   "outputs": [],
   "source": [
    "return max([ max(prices[i:]) - prices[i] for i in range(len(prices))])"
   ]
  },
  {
   "cell_type": "code",
   "execution_count": null,
   "metadata": {},
   "outputs": [],
   "source": [
    "然后在这个 Case 中 TLE……"
   ]
  },
  {
   "cell_type": "code",
   "execution_count": null,
   "metadata": {},
   "outputs": [],
   "source": [
    "[10000,9999,9998,9997,9996,9995,9994,..............,2,1,0,0,0,0,0,0,0,0,0,0,0,0,0,0,0,0,0,0,0,0,0,0,0.......]"
   ]
  },
  {
   "cell_type": "code",
   "execution_count": null,
   "metadata": {},
   "outputs": [],
   "source": [
    "这股市也过于惨淡了…（没有这样的"
   ]
  },
  {
   "cell_type": "code",
   "execution_count": null,
   "metadata": {},
   "outputs": [],
   "source": [
    "顺便，从 10000 点跌下来还不算，后面还有长达近一百年的 0…………………… （0,0,0,0,0,0,0,0... 30911 more chars）"
   ]
  },
  {
   "cell_type": "code",
   "execution_count": null,
   "metadata": {},
   "outputs": [],
   "source": [
    "首先，这不是一个好办法。 O(n^2) 当然不算什么好算法了。\n",
    "\n",
    "好，来想想办法优化。"
   ]
  },
  {
   "cell_type": "code",
   "execution_count": null,
   "metadata": {},
   "outputs": [],
   "source": [
    "我们试着这样操作：从左到右仅仅遍历一次整个 List，并一直记录着当前出现的最小值。"
   ]
  },
  {
   "cell_type": "code",
   "execution_count": null,
   "metadata": {},
   "outputs": [],
   "source": [
    "if (prices[i] < minprice)\n",
    "        minprice = prices[i];\n",
    "else if (prices[i] - minprice > maxprofit)\n",
    "        maxprofit = prices[i] - minprice;"
   ]
  },
  {
   "cell_type": "code",
   "execution_count": null,
   "metadata": {},
   "outputs": [],
   "source": [
    "假设出现了更小的，就更新 minPrice。否则如果出现了更高的，就更新 maxprofit。"
   ]
  },
  {
   "cell_type": "code",
   "execution_count": null,
   "metadata": {},
   "outputs": [],
   "source": [
    "顺序很重要。首先更新 minprice 再更新 maxprofit。且如果更新了 minPrice，就不会再更新 maxProfit。"
   ]
  }
 ],
 "metadata": {
  "kernelspec": {
   "display_name": "Python 3",
   "language": "python",
   "name": "python3"
  }
 },
 "nbformat": 4,
 "nbformat_minor": 2
}
