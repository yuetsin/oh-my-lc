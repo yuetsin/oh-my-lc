{
 "cells": [
  {
   "cell_type": "markdown",
   "metadata": {},
   "source": [
    "# 633 Sum of Square Numbers\n",
    "\n",
    "Runtime: 200 ms, faster than 63.27% of Python3 online submissions for Sum of Square Numbers.\n",
    "\n",
    "Memory Usage: 12.6 MB, less than 100.00% of Python3 online submissions for Sum of Square Numbers.\n",
    "\n",
    "要判断一个数是否是两个完全平方数的和…\n",
    "\n",
    "Brute Force，两重遍历 (0, sqrt(c)) 的数字当然可以。但是，这样的复杂度就是 O（N）——并不好，因为 c 最大可取 2^32。这就很爆炸了…\n",
    "\n",
    "好一点的办法：与其这么判断，不如做个变形：a^2 + b^2 = c, 于是 a = sqrt(c - b^2)。我们只需要从 0 到 sqrt(c) 遍历 b，然后看这么算出来的 a 是不是完全平方数，就好了。\n",
    "\n",
    "这样的时间复杂度是 O(sqrt(n) * Log(n))。"
   ]
  }
 ],
 "metadata": {
  "kernelspec": {
   "display_name": "Python 3",
   "language": "python",
   "name": "python3"
  },
  "language_info": {
   "codemirror_mode": {
    "name": "ipython",
    "version": 3
   },
   "file_extension": ".py",
   "mimetype": "text/x-python",
   "name": "python",
   "nbconvert_exporter": "python",
   "pygments_lexer": "ipython3",
   "version": "3.7.6"
  }
 },
 "nbformat": 4,
 "nbformat_minor": 4
}
