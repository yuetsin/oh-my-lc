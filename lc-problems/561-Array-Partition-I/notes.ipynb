{
 "cells": [
  {
   "cell_type": "markdown",
   "metadata": {},
   "source": [
    "# 561 Array Partition I\n",
    "\n",
    "用脚趾头稍微想一下，可以发现 min 的 max 值一定要牺牲一个不大于它的值。否则，他就被 min 给丢弃了。\n",
    "\n",
    "直接排序，拿出奇数数求和。那就是最大值了。\n",
    "\n",
    "Runtime: 288 ms, faster than 76.84% of Python3 online submissions for Array Partition I.\n",
    "\n",
    "Memory Usage: 15 MB, less than 36.36% of Python3 online submissions for Array Partition I."
   ]
  }
 ],
 "metadata": {
  "kernelspec": {
   "display_name": "Python 3",
   "language": "python",
   "name": "python3"
  },
  "language_info": {
   "codemirror_mode": {
    "name": "ipython",
    "version": 3
   },
   "file_extension": ".py",
   "mimetype": "text/x-python",
   "name": "python",
   "nbconvert_exporter": "python",
   "pygments_lexer": "ipython3",
   "version": "3.7.6"
  }
 },
 "nbformat": 4,
 "nbformat_minor": 4
}
