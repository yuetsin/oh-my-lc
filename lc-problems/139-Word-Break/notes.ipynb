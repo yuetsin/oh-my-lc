{
 "cells": [
  {
   "cell_type": "code",
   "execution_count": null,
   "metadata": {},
   "outputs": [],
   "source": [
    "这里我的思路是中规中矩的。在当前的某一种情况下，可能会出现「可以用多个候选词填入的情况」，而并不是所有的情况都可以满足条件。\n",
    "所以建立一个 List[str] 看起来成立的都往里面放,并用它作为后续结果，如果有一条通了就通了。如果全部不通才能说 False。"
   ]
  },
  {
   "cell_type": "code",
   "execution_count": null,
   "metadata": {},
   "outputs": [],
   "source": [
    "然后也是简单的两步优化：传递 String Slice 代价太高，改为传递 Int Index。而用这个作为 Index 之后更可以建立 DP 表，减少重复计算。"
   ]
  },
  {
   "cell_type": "code",
   "execution_count": null,
   "metadata": {},
   "outputs": [],
   "source": [
    "Runtime: 40 ms, faster than 90.39% of Python3 online submissions for Word Break.\n",
    "Memory Usage: 13.5 MB, less than 9.42% of Python3 online submissions for Word Break."
   ]
  },
  {
   "cell_type": "code",
   "execution_count": null,
   "metadata": {},
   "outputs": [],
   "source": [
    "顺便，由于这里的 DP 表长度是可以确定的（一定是字符串长度内部的索引），因此直接用 List 存也是没什么问题的。不一定要用 {}。"
   ]
  }
 ],
 "metadata": {
  "kernelspec": {
   "display_name": "Python 3",
   "language": "python",
   "name": "python3"
  }
 },
 "nbformat": 4,
 "nbformat_minor": 2
}
