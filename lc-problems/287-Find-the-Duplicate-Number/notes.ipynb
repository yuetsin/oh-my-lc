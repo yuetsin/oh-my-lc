{
 "cells": [
  {
   "cell_type": "markdown",
   "metadata": {},
   "source": [
    "# 287\n",
    "\n",
    "Sample 1 跟 Sample 2 是瞎写的。\n",
    "\n",
    "一个做了排序（要么违背了要求#1 不准修改原数组，要么违背了要求#2 要在 Constant Space 中完成。）\n",
    "\n",
    "一个开了个 set()。\n",
    "\n",
    "第三个：弗洛伊德龟兔赛跑法。咱们来看看。\n",
    "\n",
    "等于就是那个「寻找是否成环」问题的简化版了。因为题目已经明确说明一定有重复。重复也不一定只重复一次。\n",
    "\n",
    "再加上数字的大小也给定了。这就是一个弱化版的题而已。\n",
    "\n",
    "（难怪没被锁）"
   ]
  },
  {
   "cell_type": "code",
   "execution_count": null,
   "metadata": {},
   "outputs": [],
   "source": [
    "class Solution:\n",
    "    def findDuplicate(self, nums):\n",
    "        # Find the intersection point of the two runners.\n",
    "        tortoise = nums[0]\n",
    "        hare = nums[0]\n",
    "        while True:\n",
    "            tortoise = nums[tortoise]\n",
    "            hare = nums[nums[hare]]\n",
    "            if tortoise == hare:\n",
    "                break\n",
    "        \n",
    "        # Find the \"entrance\" to the cycle.\n",
    "        ptr1 = nums[0]\n",
    "        ptr2 = tortoise\n",
    "        while ptr1 != ptr2:\n",
    "            ptr1 = nums[ptr1]\n",
    "            ptr2 = nums[ptr2]\n",
    "        \n",
    "        return ptr1"
   ]
  }
 ],
 "metadata": {
  "kernelspec": {
   "display_name": "Python 3",
   "language": "python",
   "name": "python3"
  },
  "language_info": {
   "codemirror_mode": {
    "name": "ipython",
    "version": 3
   },
   "file_extension": ".py",
   "mimetype": "text/x-python",
   "name": "python",
   "nbconvert_exporter": "python",
   "pygments_lexer": "ipython3",
   "version": "3.7.4"
  }
 },
 "nbformat": 4,
 "nbformat_minor": 2
}
