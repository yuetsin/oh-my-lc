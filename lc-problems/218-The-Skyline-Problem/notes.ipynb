{
 "cells": [
  {
   "cell_type": "markdown",
   "metadata": {},
   "source": [
    "# 218\n",
    "\n",
    "此题太恶毒了…\n",
    "\n",
    "[[0,2147483647,2147483647]]\n",
    "\n",
    "您是修了面墙还是怎么的…\n",
    "\n",
    "直接就让我收获了人生第一个 Memory Error 我谢谢您\n",
    "\n",
    "总归这题用 list 是铁定过不去这个 case 了，当然本来存储这些东西也不是很有必要。只要存储端点就够了，不是吗？\n"
   ]
  },
  {
   "cell_type": "code",
   "execution_count": null,
   "metadata": {},
   "outputs": [],
   "source": [
    "from heapq import heappush, heappop\n",
    "class Solution(object):\n",
    "    def getSkyline(self, buildings):\n",
    "        # add start-building events\n",
    "        # also add end-building events(acts as buildings with 0 height)\n",
    "        # and sort the events in left -> right order\n",
    "        events = [(L, -H, R) for L, R, H in buildings]\n",
    "        events += list({(R, 0, 0) for _, R, _ in buildings})\n",
    "        events.sort()\n",
    "\n",
    "        # res: result, [x, height]\n",
    "        # live: heap, [-height, ending position]\n",
    "        res = [[0, 0]]\n",
    "        live = [(0, float(\"inf\"))]\n",
    "        for pos, negH, R in events:\n",
    "            # 1, pop buildings that are already ended\n",
    "            # 2, if it's the start-building event, make the building alive\n",
    "            # 3, if previous keypoint height != current highest height, edit the result\n",
    "            while live[0][1] <= pos: heappop(live)\n",
    "            if negH: heappush(live, (negH, R))\n",
    "            if res[-1][1] != -live[0][0]:\n",
    "                res += [ [pos, -live[0][0]] ]\n",
    "        return res[1:]"
   ]
  },
  {
   "cell_type": "markdown",
   "metadata": {},
   "source": [
    "分析一下：首先楼层按照高度排序；注意最后为了处理「0 高度」的 Skyline 天际线（地上的也算天际线么我说\n",
    "我们人为加了一个 0 高度的建筑物进去。\n",
    "\n",
    "之后我们要做的事情很简单了：\n",
    "\n",
    "            # 1, pop buildings that are already ended\n",
    "            # 2, if it's the start-building event, make the building alive\n",
    "            # 3, if previous keypoint height != current highest height, edit the result\n",
    "            \n",
    "已经离开我们当前 pointer 的建筑物直接干掉；\n",
    "出现不相等的高度（也就是一条平行线的最左端点）就是我们要找的 Skyliner。加入结果集就好了。\n",
    "\n",
    "其实很简单……"
   ]
  }
 ],
 "metadata": {
  "kernelspec": {
   "display_name": "Python 3",
   "language": "python",
   "name": "python3"
  },
  "language_info": {
   "codemirror_mode": {
    "name": "ipython",
    "version": 3
   },
   "file_extension": ".py",
   "mimetype": "text/x-python",
   "name": "python",
   "nbconvert_exporter": "python",
   "pygments_lexer": "ipython3",
   "version": "3.7.4"
  }
 },
 "nbformat": 4,
 "nbformat_minor": 2
}
