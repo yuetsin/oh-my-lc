{
 "cells": [
  {
   "cell_type": "markdown",
   "metadata": {},
   "source": [
    "# 384\n",
    "\n",
    "Runtime: 440 ms, faster than 10.49% of Python3 online submissions for Shuffle an Array.\n",
    "\n",
    "Memory Usage: 18.9 MB, less than 100.00% of Python3 online submissions for Shuffle an Array.\n",
    "\n",
    "random.shuffle 真好用（x）\n",
    "\n",
    "但它是如何实现的呢？\n",
    "\n",
    "Fisher-Yates Algorithm：\n",
    "\n",
    "对 0 ~ arraylen 之间每一个 i，随机取一个 i ~ arraylen 之间的整数 swap_idx，将 array[i] 和 array[swap_idx] 交换即可。\n",
    "\n",
    "O(n) 算法。"
   ]
  },
  {
   "cell_type": "code",
   "execution_count": null,
   "metadata": {},
   "outputs": [],
   "source": [
    "for i in range(len(self.array)):\n",
    "    swap_idx = random.randrange(i, len(self.array))\n",
    "    self.array[i], self.array[swap_idx] = self.array[swap_idx], self.array[i]\n",
    "return self.array\n",
    "        \n",
    "# 别看名字高端，其实就这简单…"
   ]
  }
 ],
 "metadata": {
  "kernelspec": {
   "display_name": "Python 3",
   "language": "python",
   "name": "python3"
  },
  "language_info": {
   "codemirror_mode": {
    "name": "ipython",
    "version": 3
   },
   "file_extension": ".py",
   "mimetype": "text/x-python",
   "name": "python",
   "nbconvert_exporter": "python",
   "pygments_lexer": "ipython3",
   "version": "3.7.4"
  }
 },
 "nbformat": 4,
 "nbformat_minor": 2
}
