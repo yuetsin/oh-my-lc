{
 "cells": [
  {
   "cell_type": "markdown",
   "metadata": {},
   "source": [
    "# 235\n",
    "\n",
    "简单说，因为没办法从已知的 TreeNode 往上爬，我们还是只能从上往下走以图找到 Traverse Chain。\n",
    "\n",
    "但是题目告诉了我们 BST。BST 的性质保证了：比 node 值小的只能出现在左子树里；比 node 值大的只能出现在柚子树里。\n",
    "\n",
    "这给我们的遍历带来了一点方便（可以 LogN 时间解决了，而不需要 NLogN）\n",
    "\n",
    "Runtime: 88 ms, faster than 68.96% of Python3 online submissions for Lowest Common Ancestor of a Binary Search Tree.\n",
    "Memory Usage: 18.1 MB, less than 5.55% of Python3 online submissions for Lowest Common Ancestor of a Binary Search Tree.\n",
    "\n",
    "更好一点的办法是：只要从上往下走一遍树。在他们还没有分叉的时候，他们俩和 currentNode 的大小关系应该是一样的。\n",
    "也就是，要大都大，要小都小。\n",
    "直到到了某一个 Node，分叉了；要么有一个往左（小于 currentNode），一个往右（大于 currentNode），要么有一个等于了（到家了）有一个不等，还要接着往左往右走。\n",
    "\n",
    "这个点就是 告别点 就是 我们要求的那个 Lowest Common Ancestor of a Binary Search Tree。"
   ]
  }
 ],
 "metadata": {
  "kernelspec": {
   "display_name": "Python 3",
   "language": "python",
   "name": "python3"
  },
  "language_info": {
   "codemirror_mode": {
    "name": "ipython",
    "version": 3
   },
   "file_extension": ".py",
   "mimetype": "text/x-python",
   "name": "python",
   "nbconvert_exporter": "python",
   "pygments_lexer": "ipython3",
   "version": "3.7.4"
  }
 },
 "nbformat": 4,
 "nbformat_minor": 2
}
