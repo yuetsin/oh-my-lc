{
 "cells": [
  {
   "cell_type": "markdown",
   "metadata": {},
   "source": [
    "# 715 Range Module\n",
    "\n",
    "我的解法…基本上跟 Solution 差不多（废话，这题几乎不会有别的思路了）\n",
    "\n",
    "维护一个 Disjointed Tuple List。但是我的方法慢，是因为我的 Tuple List 是无序的。所以任何地方的 Tuple List 都需要比较一遍，这样就超级慢了。\n",
    "\n",
    "实际上，维护这个 Tuple 有序，使用 Binary Search 排除那些不可能相关的 Tuple，能大大节约时间。（N 到 LogN 级别的。）"
   ]
  }
 ],
 "metadata": {
  "kernelspec": {
   "display_name": "Python 3",
   "language": "python",
   "name": "python3"
  },
  "language_info": {
   "codemirror_mode": {
    "name": "ipython",
    "version": 3
   },
   "file_extension": ".py",
   "mimetype": "text/x-python",
   "name": "python",
   "nbconvert_exporter": "python",
   "pygments_lexer": "ipython3",
   "version": "3.7.6"
  }
 },
 "nbformat": 4,
 "nbformat_minor": 4
}
