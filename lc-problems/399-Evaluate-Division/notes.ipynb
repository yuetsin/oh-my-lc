{
 "cells": [
  {
   "cell_type": "markdown",
   "metadata": {},
   "source": [
    "# 399 Evaluate Division\n",
    "\n",
    "這太數學了⋯\n",
    "\n",
    "看看思路。\n",
    "\n",
    "簡單說，給出了一些 equations 和 values，就能得到一些「數字之間的關係」。\n",
    "\n",
    "題目其實做了一些簡化：給出來的公式一定不矛盾。\n",
    "\n",
    "我們採用 bfs 的算法。\n",
    "\n",
    "首先，若 num 或者 den 不在 lookup 裏頭，那就完蛋了。肯定沒有解（導出不了）\n",
    "\n",
    "好一點的事情是，比例關係是可反地。也就是說 a / b = k 一定也能推出另一個公式 b / a = 1 / k。\n",
    "\n",
    "因此如果有解，總能把兩個比例值導出到兩個相等的元素上。\n",
    "\n",
    "那麼就這麼做吧。\n",
    "\n",
    "如果隊列空掉了還沒找出這個「相等的元素」，那麼完蛋了。他們並不存在可以直接相連的公式推導。-1 吧，再見了。"
   ]
  },
  {
   "cell_type": "code",
   "execution_count": null,
   "metadata": {},
   "outputs": [],
   "source": [
    "from collections import defaultdict, deque\n",
    "\n",
    "class Solution:\n",
    "\n",
    "    def calcEquation(self, equations: List[List[str]], values: List[float], queries: List[List[str]]) -> List[float]:\n",
    "            lookup = defaultdict(list)\n",
    "            for e, v in zip(equations, values):\n",
    "                num = e[0]\n",
    "                den = e[1]\n",
    "                lookup[num].append((den, v))\n",
    "                lookup[den].append((num, 1/v))\n",
    "\n",
    "            def bfs(num, den):\n",
    "                if num not in lookup or den not in lookup:\n",
    "                    return -1\n",
    "\n",
    "                q = deque([(num, 1)])\n",
    "                seen = set()\n",
    "                while len(q):\n",
    "                    curr_node, curr_val = q.pop()\n",
    "                    if curr_node == den:\n",
    "                        return curr_val\n",
    "                    seen.add(curr_node)\n",
    "                    children = [(x, v*curr_val) for x,v in lookup[curr_node] if x not in seen]\n",
    "                    q.extendleft(children)\n",
    "                return -1\n",
    "\n",
    "            ans = []\n",
    "            for q in queries:\n",
    "                ans.append(bfs(q[0], q[1]))\n",
    "            return ans"
   ]
  }
 ],
 "metadata": {
  "kernelspec": {
   "display_name": "Python 3",
   "language": "python",
   "name": "python3"
  },
  "language_info": {
   "codemirror_mode": {
    "name": "ipython",
    "version": 3
   },
   "file_extension": ".py",
   "mimetype": "text/x-python",
   "name": "python",
   "nbconvert_exporter": "python",
   "pygments_lexer": "ipython3",
   "version": "3.7.4"
  }
 },
 "nbformat": 4,
 "nbformat_minor": 2
}
