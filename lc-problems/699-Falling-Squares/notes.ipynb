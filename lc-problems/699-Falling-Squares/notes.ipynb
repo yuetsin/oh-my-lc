{
 "cells": [
  {
   "cell_type": "markdown",
   "metadata": {},
   "source": [
    "# 699 Falling Squares\n",
    "\n",
    "Runtime: 456 ms, faster than 42.27% of Python3 online submissions for Falling Squares.\n",
    "\n",
    "Memory Usage: 13.2 MB, less than 100.00% of Python3 online submissions for Falling Squares.\n",
    "\n",
    "这里，放置 Square 的方式是反物理的。只要有一点点边缘沾上了，那就直接立稳，而且支持别的 Square 了。\n",
    "\n",
    "> 毕竟是二维世界\n",
    "\n",
    "这里，做一次遍历就好了；每次遍历，找出那些可能会沾上边的 Square，然后找出 Height 最大的那个贴上去。\n",
    "\n",
    "注意这里的 Height 是用上面的方法找到的「顶端」高度，而不是简单的 Square 边长。有必要开一个数组专门记录这个信息。"
   ]
  }
 ],
 "metadata": {
  "kernelspec": {
   "display_name": "Python 3",
   "language": "python",
   "name": "python3"
  },
  "language_info": {
   "codemirror_mode": {
    "name": "ipython",
    "version": 3
   },
   "file_extension": ".py",
   "mimetype": "text/x-python",
   "name": "python",
   "nbconvert_exporter": "python",
   "pygments_lexer": "ipython3",
   "version": "3.7.6"
  }
 },
 "nbformat": 4,
 "nbformat_minor": 4
}
