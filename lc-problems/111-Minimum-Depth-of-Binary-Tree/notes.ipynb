{
 "cells": [
  {
   "cell_type": "code",
   "execution_count": null,
   "metadata": {},
   "outputs": [],
   "source": [
    "我觉得我的大脑烧糊涂了…这么简单的题目爆了八次…各种情况没想明白。"
   ]
  },
  {
   "cell_type": "code",
   "execution_count": null,
   "metadata": {},
   "outputs": [],
   "source": [
    "这不是很简单的递归吗？但是问题就在于 left 或 right = NULL 的时候怎么处置。本来是需要求 min 最小值，\n",
    "\n",
    "但如果把这个值返回 0 那就会直接把 0 作为结束终止点了，而此时如果他另一边还有孩子，就不能在这里终止。"
   ]
  },
  {
   "cell_type": "code",
   "execution_count": null,
   "metadata": {},
   "outputs": [],
   "source": [
    "所以可以返回一个 +inf ？然而在传入 [] ，即空树的时候，又会产生问题，这个时候高度本该是 0，应该特殊照顾一下。"
   ]
  },
  {
   "cell_type": "code",
   "execution_count": null,
   "metadata": {},
   "outputs": [],
   "source": [
    "但怎么说错这么多次还没发现问题，还以为只是 + 1 - 1 可以解决的问题…今天状态不太好。有点傻过头了。"
   ]
  }
 ],
 "metadata": {
  "kernelspec": {
   "display_name": "Python 3",
   "language": "python",
   "name": "python3"
  }
 },
 "nbformat": 4,
 "nbformat_minor": 2
}
