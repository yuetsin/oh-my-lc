{
 "cells": [
  {
   "cell_type": "markdown",
   "metadata": {},
   "source": [
    "# 761 Special Binary String\n",
    "\n",
    "0 和 1 一点都不直观。给的条件是：对于任意 str[:i]，都要求其中 1 出现的次数大于 0 出现的次数。\n",
    "\n",
    "这个，你把 '1' 替换成「（」、'0' 替换成「）」，那不就成了括号配对（Valid Parentheses）问题了吗。\n",
    "\n",
    "但是这题的条件是：对原来给定的 Binary String 里，任意顺序地交换连续的两块 String，使得得到的结果依然是个 Valid Parentheses，并且字典序最大（也就是说在开头连续出现越多个 1 越好）。\n",
    "\n",
    "考虑一下，这里的 S 最长只有 50。而最差的遍历算法（把每一种交换可能都尝试一遍）也只会消耗 O(N^3) 的复杂度。其实还是可以接受的。\n",
    "\n",
    "但是，我们也可以用比较优秀的方法来实现。\n",
    "\n",
    "考虑到…括号配对是有语义的。从左到右地每一个括号对里面的内容都达到了字典序最大，那么就是达到了最终的大和谐（结果）。\n",
    "\n",
    "因为最後要保证到「括号的配对」，所以实际上我们可以做的只不过是 Reorder 整块的配对括号及其内容。那样就是个 DFS 了吧！\n",
    "\n",
    "According to the description , there are 2 requirement for Special-String\n",
    "\n",
    "The number of 0's is equal to the number of 1's.\n",
    "Every prefix of the binary string has at least as many 1's as 0's.\n",
    "The 2nd definition is essentially saying that at any point of the string, you cannot have more 0's than 1's.\n",
    "\n",
    "If we map '1' to '(', '0's to ')', a Special-String is essentially Valid-Parentheses, therefore share all the properties of a Valid-Parentheses\n",
    "A VP (Valid-Parentheses) have 2 form:\n",
    "\n",
    "single nested VP like \"(())\", or \"1100\";\n",
    "a number of consecutive sub-VPs like \"()(())\", or \"101100\", which contains \"()\" + \"(())\" or \"10\" + \"1100\"\n",
    "And this problem is essentially ask you to reorder the sub-VPs in a VP to make it bigger. If we look at this example : \"()(())\" or \"101100\", how would you make it bigger?\n",
    "Answer is, by moving the 2nd sub-string to the front. Because deeply nested VP contains more consecutive '('s or '1's in the front. That will make reordered string bigger.\n",
    "\n",
    "The above example is straitforward, and no recursion is needed. But, what if the groups of sub-VPs are not in the root level?\n",
    "Like if we put another \"()(())\" inside \"()(())\", like \"()(( ()(()) ))\", in this case we will need to recursively reorder the children, make them MVP(Max-Valid-Parentheses), then reorder in root.\n",
    "\n",
    "To summarize, we just need to reorder all groups of VPs or SS's at each level to make them MVP, then reorder higher level VPs;\n",
    "\n",
    "written by @alexander.\n",
    "\n",
    "Runtime: 24 ms, faster than 92.00% of Python3 online submissions for Special Binary String.\n",
    "\n",
    "Memory Usage: 12.6 MB, less than 100.00% of Python3 online submissions for Special Binary String."
   ]
  }
 ],
 "metadata": {
  "kernelspec": {
   "display_name": "Python 3",
   "language": "python",
   "name": "python3"
  },
  "language_info": {
   "codemirror_mode": {
    "name": "ipython",
    "version": 3
   },
   "file_extension": ".py",
   "mimetype": "text/x-python",
   "name": "python",
   "nbconvert_exporter": "python",
   "pygments_lexer": "ipython3",
   "version": "3.7.6"
  }
 },
 "nbformat": 4,
 "nbformat_minor": 4
}
