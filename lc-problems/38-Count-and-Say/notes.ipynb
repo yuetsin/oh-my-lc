{
 "cells": [
  {
   "cell_type": "code",
   "execution_count": null,
   "metadata": {},
   "outputs": [],
   "source": [
    "It's really, really a horrible problem description lacking so many necessary information.\n",
    "For example, is there only 1 and 2 in the problem? Can we introduce more numbers?\n",
    "Should numbers with more digits be regarded as a combination or separated numbers?\n",
    "If you don't say, how can we understand \"count and say\" means N = count and say N - 1?"
   ]
  },
  {
   "cell_type": "code",
   "execution_count": null,
   "metadata": {},
   "outputs": [],
   "source": [
    "The idea might be clever, but the description ruined this problem totally, making it impossible to compensate without turning to help."
   ]
  },
  {
   "cell_type": "code",
   "execution_count": null,
   "metadata": {},
   "outputs": [],
   "source": [
    "Ironic."
   ]
  }
 ],
 "metadata": {
  "kernelspec": {
   "display_name": "Python 3",
   "language": "python",
   "name": "python3"
  }
 },
 "nbformat": 4,
 "nbformat_minor": 2
}
