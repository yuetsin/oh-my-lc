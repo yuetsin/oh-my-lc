{
 "cells": [
  {
   "cell_type": "markdown",
   "metadata": {},
   "source": [
    "# 745 Prefix and Suffix Search\n",
    "\n",
    "这种「查词」题呢，如果要往 O(N)/次以下优化的话，应该考虑用 Trie，也就是字典查找树实现。\n",
    "\n",
    "但是这里并不是那么简单——我们要找的不是连续的词中的一部分，而是 Prefix 和 Suffix 同时满足的情况。\n",
    "\n",
    "那么我们这里有个 Trick：把所有输入的字符串，例如「apple」重复写一次，并且用一个特殊的分隔符链接他们，得到「apple#apple」这样的形式。\n",
    "\n",
    "然后，假如我们要找始于 ap，终于 le 的字符串，我们就只要在原来的所有字符串里搜索 「le#ap」 就可以定位到这个字符串了。\n",
    "\n",
    "巧妙，巧妙！"
   ]
  }
 ],
 "metadata": {
  "kernelspec": {
   "display_name": "Python 3",
   "language": "python",
   "name": "python3"
  },
  "language_info": {
   "codemirror_mode": {
    "name": "ipython",
    "version": 3
   },
   "file_extension": ".py",
   "mimetype": "text/x-python",
   "name": "python",
   "nbconvert_exporter": "python",
   "pygments_lexer": "ipython3",
   "version": "3.7.6"
  }
 },
 "nbformat": 4,
 "nbformat_minor": 4
}
