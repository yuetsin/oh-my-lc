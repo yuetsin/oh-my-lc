{
 "cells": [
  {
   "cell_type": "code",
   "execution_count": null,
   "metadata": {},
   "outputs": [],
   "source": [
    "The example:\n",
    "Input: 1->2->4, 1->3->4\n",
    "Output: 1->1->2->3->4->4"
   ]
  },
  {
   "cell_type": "code",
   "execution_count": null,
   "metadata": {},
   "outputs": [],
   "source": [
    "It's a little different from the \"merge algorithm\" we've learnt in the Algorithm Course.\n",
    "But the core idea is similar: pointer one and pointer two. Who's smaller can go one step in advance, until someone goes to the tail."
   ]
  },
  {
   "cell_type": "code",
   "execution_count": null,
   "metadata": {},
   "outputs": [],
   "source": [
    "P.S. Needless to copy the extra tail when one pointer have gone over but the other one haven't. Just let the node connect to each other can reduce some time.\n",
    "P.P.S. It's not good practice to overwrite the given node list... But... That's it."
   ]
  }
 ],
 "metadata": {
  "kernelspec": {
   "display_name": "Python 3",
   "language": "python",
   "name": "python3"
  }
 },
 "nbformat": 4,
 "nbformat_minor": 2
}
