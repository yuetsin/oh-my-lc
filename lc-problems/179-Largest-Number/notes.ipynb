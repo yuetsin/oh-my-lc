{
 "cells": [
  {
   "cell_type": "markdown",
   "metadata": {},
   "source": [
    "# 179\n",
    "\n",
    "本题简单易懂，但是好像并没有很直接的思路…\n",
    "一堆数字组合在一起，要构成一个最大值。但是并非简单的给出 0～9，而是由一些多位数一起构成的。\n",
    "\n",
    "换句话说，每一个「数字」都有个权重，决定了他们先出现还是后出现。怎么去获取这个权重呢？\n",
    "\n",
    "把数字转换成字符串来比较。事实上这里有个很简单的办法来判断他们谁该放前面；那就是："
   ]
  },
  {
   "cell_type": "code",
   "execution_count": null,
   "metadata": {},
   "outputs": [],
   "source": [
    "def compare(x, y):\n",
    "    return x + y > y + x\n",
    "# 注意：x y 都是字符串。数字的话没必要这么比（"
   ]
  },
  {
   "cell_type": "markdown",
   "metadata": {},
   "source": [
    "只要把这个作为 sort 的 key，就能把这些数字排序成合适的顺序。然后直接 [].join('') 就行了。Simple but not naïve."
   ]
  }
 ],
 "metadata": {
  "kernelspec": {
   "display_name": "Python 3",
   "language": "python",
   "name": "python3"
  },
  "language_info": {
   "codemirror_mode": {
    "name": "ipython",
    "version": 3
   },
   "file_extension": ".py",
   "mimetype": "text/x-python",
   "name": "python",
   "nbconvert_exporter": "python",
   "pygments_lexer": "ipython3",
   "version": "3.7.4"
  }
 },
 "nbformat": 4,
 "nbformat_minor": 2
}
