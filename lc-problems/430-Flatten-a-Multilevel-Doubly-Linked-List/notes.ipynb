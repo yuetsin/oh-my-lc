{
 "cells": [
  {
   "cell_type": "markdown",
   "metadata": {},
   "source": [
    "# 430 Flatten a Multilevel Doubly Linked List\n",
    "\n",
    "这数据结构也是离谱…\n",
    "\n",
    "总归，直接做一次深度优先的遍历，然后小心地重建指针，问题就解决了。\n",
    "\n",
    "Runtime: 40 ms, faster than 56.03% of Python3 online submissions for Flatten a Multilevel Doubly Linked List.\n",
    "Memory Usage: 13.7 MB, less than 100.00% of Python3 online submissions for Flatten a Multilevel Doubly Linked List.\n",
    "\n",
    "\n",
    "用深度优先进 Stack 的同时重建指针序列也可行。这样可以 Faster than 99%。"
   ]
  },
  {
   "cell_type": "code",
   "execution_count": null,
   "metadata": {},
   "outputs": [],
   "source": [
    "class Solution:\n",
    "    def flatten(self, head: 'Node') -> 'Node':\n",
    "        dummy = head\n",
    "        to_append = None\n",
    "        stack = []\n",
    "        while head:\n",
    "            if head.child:\n",
    "                stack.append(head.next)\n",
    "                head.next = head.child\n",
    "                head.next.prev = head\n",
    "                head.child = None\n",
    "            if stack and not head.next:\n",
    "                to_append = stack.pop()\n",
    "                if to_append:\n",
    "                    to_append.prev = head\n",
    "                head.next = to_append\n",
    "            head = head.next\n",
    "        return dummy"
   ]
  }
 ],
 "metadata": {
  "kernelspec": {
   "display_name": "Python 3",
   "language": "python",
   "name": "python3"
  },
  "language_info": {
   "codemirror_mode": {
    "name": "ipython",
    "version": 3
   },
   "file_extension": ".py",
   "mimetype": "text/x-python",
   "name": "python",
   "nbconvert_exporter": "python",
   "pygments_lexer": "ipython3",
   "version": "3.7.6"
  }
 },
 "nbformat": 4,
 "nbformat_minor": 2
}
