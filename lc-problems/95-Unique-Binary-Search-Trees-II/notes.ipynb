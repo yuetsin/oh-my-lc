{
 "cells": [
  {
   "cell_type": "code",
   "execution_count": null,
   "metadata": {},
   "outputs": [],
   "source": [
    "做题之前，先补习一下：什么叫 BST 啊？"
   ]
  },
  {
   "cell_type": "code",
   "execution_count": null,
   "metadata": {},
   "outputs": [],
   "source": [
    "二叉查找树（英语：Binary Search Tree），也称为二叉搜索树、有序二叉树（ordered binary tree）或排序二叉树（sorted binary tree），是指一棵空树或者具有下列性质的二叉树：\n",
    "若任意节点的左子树不空，则左子树上所有节点的值均小于它的根节点的值；\n",
    "若任意节点的右子树不空，则右子树上所有节点的值均大于它的根节点的值；\n",
    "任意节点的左、右子树也分别为二叉查找树；\n",
    "没有键值相等的节点。"
   ]
  },
  {
   "cell_type": "code",
   "execution_count": null,
   "metadata": {},
   "outputs": [],
   "source": [
    "class Solution(object):\n",
    "    def generateTrees(self, n):\n",
    "        return self.cal([i for i in xrange(1, n+1)])\n",
    "\n",
    "    def cal(self, lst):\n",
    "        if not lst:\n",
    "            return [None]\n",
    "        res = []\n",
    "        for i in xrange(len(lst)):\n",
    "            for left in self.cal(lst[:i]):\n",
    "                for right in self.cal(lst[i+1:]):\n",
    "                    node, node.left, node.right = TreeNode(lst[i]), left, right\n",
    "                    res += [node]\n",
    "        return res\n"
   ]
  },
  {
   "cell_type": "code",
   "execution_count": null,
   "metadata": {},
   "outputs": [],
   "source": [
    "简单看一下代码：\n",
    "首先，生成一个 1 ～ n 的顺序 List[int]。然后，调用最外层 cal 函数。"
   ]
  },
  {
   "cell_type": "code",
   "execution_count": null,
   "metadata": {},
   "outputs": [],
   "source": [
    "然后，对于 lst 中每一个部分，进行一个切片，分成 i 以左和 i 以右。\n",
    "对左边的所有 cal 可能，和右边的所有 cal 可能，分别生成一组 node, node.left, node.right.\n",
    "然后，把 node 加入 res 之中。"
   ]
  },
  {
   "cell_type": "code",
   "execution_count": null,
   "metadata": {},
   "outputs": [],
   "source": [
    "就这种看起来不是很聪明的方法，就能解决这个问题。\n",
    "您该学一学了。"
   ]
  }
 ],
 "metadata": {
  "kernelspec": {
   "display_name": "Python 3",
   "language": "python",
   "name": "python3"
  }
 },
 "nbformat": 4,
 "nbformat_minor": 2
}
