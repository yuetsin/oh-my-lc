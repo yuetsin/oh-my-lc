{
 "cells": [
  {
   "cell_type": "raw",
   "metadata": {},
   "source": [
    "# Brute Solution\n",
    "Brutely try every possible pairs of connection.\n",
    "Time Complexity is O(n^2). So bad.\n"
   ]
  },
  {
   "cell_type": "code",
   "execution_count": null,
   "metadata": {},
   "outputs": [],
   "source": [
    "# Two-pass Hash Table\n"
   ]
  }
 ],
 "metadata": {
  "kernelspec": {
   "display_name": "Python 3",
   "language": "python",
   "name": "python3"
  }
 },
 "nbformat": 4,
 "nbformat_minor": 2
}
