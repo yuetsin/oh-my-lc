{
 "cells": [
  {
   "cell_type": "raw",
   "metadata": {},
   "source": [
    "# Brute Solution\n",
    "Brutely try every possible pairs of connection.\n",
    "Time Complexity is O(n^2). So bad."
   ]
  },
  {
   "cell_type": "code",
   "execution_count": null,
   "metadata": {},
   "outputs": [],
   "source": [
    "# Two-pass Hash Table\n",
    "See `hash_table.java` for implementation.\n",
    "Use O(n) Space Complexity to obtain O(n) Time Complexity."
   ]
  },
  {
   "cell_type": "code",
   "execution_count": null,
   "metadata": {},
   "outputs": [],
   "source": [
    "# One-pass Hash Table\n"
   ]
  }
 ],
 "metadata": {
  "kernelspec": {
   "display_name": "Python 3",
   "language": "python",
   "name": "python3"
  }
 },
 "nbformat": 4,
 "nbformat_minor": 2
}
