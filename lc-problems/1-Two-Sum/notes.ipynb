{
 "cells": [
  {
   "cell_type": "raw",
   "metadata": {},
   "source": [
    "# Brute Solution\n",
    "Brutely try every possible pairs of connection.\n",
    "Time Complexity is O(n^2). So bad."
   ]
  },
  {
   "cell_type": "code",
   "execution_count": null,
   "metadata": {},
   "outputs": [],
   "source": [
    "# Two-pass Hash Table\n",
    "See `hash_table.java` for implementation.\n",
    "Use O(n) Space Complexity to obtain O(n) Time Complexity."
   ]
  },
  {
   "cell_type": "code",
   "execution_count": null,
   "metadata": {},
   "outputs": [],
   "source": [
    "# One-pass Hash Table\n",
    "> It turns out we can do it in one-pass. While we iterate and inserting elements into the table, we also look back to check if current element's complement already exists in the table. If it exists, we have found a solution and return immediately.\n"
   ]
  }
 ],
 "metadata": {
  "kernelspec": {
   "display_name": "Python 3",
   "language": "python",
   "name": "python3"
  }
 },
 "nbformat": 4,
 "nbformat_minor": 2
}
