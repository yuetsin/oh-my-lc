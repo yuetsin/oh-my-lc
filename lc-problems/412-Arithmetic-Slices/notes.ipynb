{
 "cells": [
  {
   "cell_type": "markdown",
   "metadata": {},
   "source": [
    "# 412 Arithmetic Slices\n",
    "\n",
    "简单的题意：要求出长度大于 3 个元素的等差数列的个数。\n",
    "\n",
    "Runtime: 52 ms, faster than 7.33% of Python3 online submissions for Arithmetic Slices.\n",
    "\n",
    "Memory Usage: 12.7 MB, less than 100.00% of Python3 online submissions for Arithmetic Slices.\n",
    "\n",
    "假如用 DP 真的对他们进行逐个分割，反而麻烦了。\n",
    "\n",
    "只需要按照「数列起始点」进行分类，对于 range(0, length - 2) 每一个元素都作为起始位置进行判断，得到从那里开始最长的等差数列的长度；\n",
    "然后，直接用长度 - 2 作为可能的个数求和即可。（用「砍尾巴」的方式来制造多种类型。）"
   ]
  }
 ],
 "metadata": {
  "kernelspec": {
   "display_name": "Python 3",
   "language": "python",
   "name": "python3"
  },
  "language_info": {
   "codemirror_mode": {
    "name": "ipython",
    "version": 3
   },
   "file_extension": ".py",
   "mimetype": "text/x-python",
   "name": "python",
   "nbconvert_exporter": "python",
   "pygments_lexer": "ipython3",
   "version": "3.7.6"
  }
 },
 "nbformat": 4,
 "nbformat_minor": 2
}
