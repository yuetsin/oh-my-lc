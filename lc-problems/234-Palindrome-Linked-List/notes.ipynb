{
 "cells": [
  {
   "cell_type": "markdown",
   "metadata": {},
   "source": [
    "# 234\n",
    "不应该用 O(N) 的空间的…题目已经明确说了出来，O(1) 空间复杂度是本题的难点，我们应该想想怎么处理。\n",
    "\n",
    "Runtime: 80 ms, faster than 61.87% of Python3 online submissions for Palindrome Linked List.\n",
    "Memory Usage: 24.4 MB, less than 7.69% of Python3 online submissions for Palindrome Linked List.\n",
    "\n",
    "有一位神奇用户发明了一个「龟兔赛跑」算法：\n",
    "\n",
    "To avoid extra run over the linked list, I just launched hare & tortoise and when hare is done - tortoise is exactly in the middle\n",
    "Then we can promote tortoise reversing the right part of the list and after that - just compare 2 lists item by item.\n",
    "While reversing I use 'h' just to hold previous node\n",
    "\n",
    "    public bool IsPalindrome(ListNode head) {\n",
    "        ListNode t = head;\n",
    "        ListNode h = head;\n",
    "        \n",
    "\t\t// run\n",
    "        while (h != null) {\n",
    "            t = t.next;\n",
    "            h = h.next?.next;\n",
    "        }\n",
    "        \n",
    "        // when hare at finish, tortoise is exactly half way\n",
    "        \n",
    "        // since h is null, t now is a finish of right half - I'm just starting to reverse the right half here\n",
    "        // h is now just previous node to help in reversing\n",
    "        \n",
    "        while (t != null) {\n",
    "            var next = t.next;\n",
    "            t.next = h;\n",
    "            h = t;\n",
    "            t = next;\n",
    "        }\n",
    "        \n",
    "        // now we have 2 lists \"head\" and \"h\" and h is shorter or equal\n",
    "        while (h != null) {\n",
    "            if (h.val != head.val) {\n",
    "                return false;\n",
    "            }\n",
    "            // promote both nodes\n",
    "            head = head.next;\n",
    "            h = h.next;\n",
    "        }\n",
    "        return true;\n",
    "    }"
   ]
  }
 ],
 "metadata": {
  "kernelspec": {
   "display_name": "Python 3",
   "language": "python",
   "name": "python3"
  },
  "language_info": {
   "codemirror_mode": {
    "name": "ipython",
    "version": 3
   },
   "file_extension": ".py",
   "mimetype": "text/x-python",
   "name": "python",
   "nbconvert_exporter": "python",
   "pygments_lexer": "ipython3",
   "version": "3.7.4"
  }
 },
 "nbformat": 4,
 "nbformat_minor": 2
}
