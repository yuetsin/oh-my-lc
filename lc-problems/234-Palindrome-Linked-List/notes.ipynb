{
 "cells": [
  {
   "cell_type": "markdown",
   "metadata": {},
   "source": [
    "# 234\n",
    "不应该用 O(N) 的空间的…题目已经明确说了出来，O(1) 空间复杂度是本题的难点，我们应该想想怎么处理。\n",
    "\n",
    "Runtime: 80 ms, faster than 61.87% of Python3 online submissions for Palindrome Linked List.\n",
    "Memory Usage: 24.4 MB, less than 7.69% of Python3 online submissions for Palindrome Linked List.\n",
    "\n",
    "有为"
   ]
  }
 ],
 "metadata": {
  "kernelspec": {
   "display_name": "Python 3",
   "language": "python",
   "name": "python3"
  },
  "language_info": {
   "codemirror_mode": {
    "name": "ipython",
    "version": 3
   },
   "file_extension": ".py",
   "mimetype": "text/x-python",
   "name": "python",
   "nbconvert_exporter": "python",
   "pygments_lexer": "ipython3",
   "version": "3.7.4"
  }
 },
 "nbformat": 4,
 "nbformat_minor": 2
}
