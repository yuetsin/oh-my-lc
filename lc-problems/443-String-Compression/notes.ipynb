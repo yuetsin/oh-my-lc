{
 "cells": [
  {
   "cell_type": "markdown",
   "metadata": {},
   "source": [
    "# 443 String Compression\n",
    "\n",
    "还是写了一个 O(N) 空间复杂度的算法。\n",
    "\n",
    "Runtime: 60 ms, faster than 45.36% of Python3 online submissions for String Compression.\n",
    "Memory Usage: 12.9 MB, less than 100.00% of Python3 online submissions for String Compression.\n",
    "\n",
    "实际上把遍历和写入结合在一起完全没有问题；因为保证了 'a' => 'a', '1' 这种反向压缩是不允许的。所以可以保证我们覆写前面的值一定不会影响到後面值的读取。\n",
    "\n",
    "双指针就够了。"
   ]
  }
 ],
 "metadata": {
  "kernelspec": {
   "display_name": "Python 3",
   "language": "python",
   "name": "python3"
  },
  "language_info": {
   "codemirror_mode": {
    "name": "ipython",
    "version": 3
   },
   "file_extension": ".py",
   "mimetype": "text/x-python",
   "name": "python",
   "nbconvert_exporter": "python",
   "pygments_lexer": "ipython3",
   "version": "3.7.6"
  }
 },
 "nbformat": 4,
 "nbformat_minor": 2
}
