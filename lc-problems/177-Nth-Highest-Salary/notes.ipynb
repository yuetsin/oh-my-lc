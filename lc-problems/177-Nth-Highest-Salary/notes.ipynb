{
 "cells": [
  {
   "cell_type": "markdown",
   "metadata": {},
   "source": [
    "# 177\n",
    "\n",
    "SQL 写起来让人想自杀\n",
    "\n",
    "有种吃口香糖炒饭的感觉\n",
    "\n",
    "不能直接写 N - 1，非得先声明一个变量 M，SET M = N - 1，再用 N - 1 ……\n",
    "\n",
    "总之 # 177 也只是一个普通的 2 - N 的扩展而已。就是 SQL 的函数写起来…让人丧失生活的信心\n",
    "\n",
    "Runtime: 189 ms, faster than 58.95% of MySQL online submissions for Nth Highest Salary.\n",
    "Memory Usage: N/A"
   ]
  }
 ],
 "metadata": {
  "kernelspec": {
   "display_name": "Python 3",
   "language": "python",
   "name": "python3"
  },
  "language_info": {
   "codemirror_mode": {
    "name": "ipython",
    "version": 3
   },
   "file_extension": ".py",
   "mimetype": "text/x-python",
   "name": "python",
   "nbconvert_exporter": "python",
   "pygments_lexer": "ipython3",
   "version": "3.7.4"
  }
 },
 "nbformat": 4,
 "nbformat_minor": 2
}
