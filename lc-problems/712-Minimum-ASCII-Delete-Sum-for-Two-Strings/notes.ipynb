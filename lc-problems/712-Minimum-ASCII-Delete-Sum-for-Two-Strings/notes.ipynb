{
 "cells": [
  {
   "cell_type": "markdown",
   "metadata": {},
   "source": [
    "# 712 Minimum ASCII Delete Sum for Two Strings\n",
    "\n",
    "Runtime: 3584 ms, faster than 5.00% of Python3 online submissions for Minimum ASCII Delete Sum for Two Strings.\n",
    "\n",
    "Memory Usage: 545.3 MB, less than 50.00% of Python3 online submissions for Minimum ASCII Delete Sum for Two Strings.\n",
    "\n",
    "这是用 **Python 的字符串** 做了不知道多少次分割之类的事情之后得到的 Solution。\n",
    "\n",
    "然而实际上，可以感觉到，「删除」实际上只是个障眼法。我们做的其实只是用双指针遍历两个 String，并且从下面三种情况下选择：\n",
    "\n",
    "* 1. 将 s1 指针向前移动，并且在当前 ascii sum 结果中 + ord(s1[p1])\n",
    "* 2. 对 s2 做和 1 类似的事情\n",
    "* 3. 恰好 s1 和 s2 当前指针位置上的 char 一致，大家一起前进\n",
    "\n",
    "在某一根指针走不下去了的时候：\n",
    "\n",
    "* 假如另一根指针也刚好到头，非常好。直接返回 0\n",
    "* 否则，另一根指针後面的全部内容统统得被删除（在这种情况下），sum 起他们的 ascii code。\n",
    "\n",
    "就是这样——单向的遍历、而且指针之前的值根本不会对後面产生影响。永不回头看。\n",
    "\n",
    "这种时候，直接给 pointer i 作为参数，而不是疯狂 Slice string 是更好的解决方案。\n",
    "\n",
    "之前有过类似的（只是从两个字符串里删 char 但是保序）的题目。这种题用 WordLadder 式，就慢了。\n",
    "\n",
    "直接双指针遍历就足够了。\n",
    "\n",
    "更进一步地看到，可以把这个看作是一道 DP 题。因为是指定顺序的遍历，而且在每一个情况下的选择只有三种。\n",
    "\n",
    "这就很类似于 Longest Common Substring 了。只不过这里的值并非子字符串的长度，而是删掉的字符的 ASCII 码。"
   ]
  }
 ],
 "metadata": {
  "kernelspec": {
   "display_name": "Python 3",
   "language": "python",
   "name": "python3"
  },
  "language_info": {
   "codemirror_mode": {
    "name": "ipython",
    "version": 3
   },
   "file_extension": ".py",
   "mimetype": "text/x-python",
   "name": "python",
   "nbconvert_exporter": "python",
   "pygments_lexer": "ipython3",
   "version": "3.7.6"
  }
 },
 "nbformat": 4,
 "nbformat_minor": 4
}
