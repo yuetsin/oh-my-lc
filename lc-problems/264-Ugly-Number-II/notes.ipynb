{
 "cells": [
  {
   "cell_type": "markdown",
   "metadata": {},
   "source": [
    "# 264\n",
    "\n",
    "打表打表打表.jpg\n",
    "\n",
    "O(1) 时间复杂度，O(1) 空间复杂度（对呀，空间占用跟你的输入没关系：一直很大）\n",
    "\n",
    "Runtime: 36 ms, faster than 98.94% of Python3 online submissions for Ugly Number II.\n",
    "Memory Usage: 13.7 MB, less than 20.00% of Python3 online submissions for Ugly Number II.\n",
    "\n",
    "即便如此还是有人比我写的快…怎么做到的…\n",
    "\n",
    "人类的解法："
   ]
  },
  {
   "cell_type": "code",
   "execution_count": null,
   "metadata": {},
   "outputs": [],
   "source": [
    "def nthUglyNumber(self, n):\n",
    "    ugly = [1]\n",
    "    i2, i3, i5 = 0, 0, 0\n",
    "    while n > 1:\n",
    "        u2, u3, u5 = 2 * ugly[i2], 3 * ugly[i3], 5 * ugly[i5]\n",
    "        umin = min((u2, u3, u5))\n",
    "        if umin == u2:\n",
    "            i2 += 1\n",
    "        if umin == u3:\n",
    "            i3 += 1\n",
    "        if umin == u5:\n",
    "            i5 += 1\n",
    "        ugly.append(umin)\n",
    "        n -= 1\n",
    "    return ugly[-1]"
   ]
  }
 ],
 "metadata": {
  "kernelspec": {
   "display_name": "Python 3",
   "language": "python",
   "name": "python3"
  },
  "language_info": {
   "codemirror_mode": {
    "name": "ipython",
    "version": 3
   },
   "file_extension": ".py",
   "mimetype": "text/x-python",
   "name": "python",
   "nbconvert_exporter": "python",
   "pygments_lexer": "ipython3",
   "version": "3.7.4"
  }
 },
 "nbformat": 4,
 "nbformat_minor": 2
}
