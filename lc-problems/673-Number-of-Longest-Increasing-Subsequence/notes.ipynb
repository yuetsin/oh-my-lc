{
 "cells": [
  {
   "cell_type": "markdown",
   "metadata": {},
   "source": [
    "# 673 Number of Longest Increasing Subsequence\n",
    "\n",
    "要是求最长递增子序列的长度，不会这么难。直接一个 DFS 就得了。\n",
    "\n",
    "然而要求不同的种类…就很难办了。\n",
    "\n",
    "我们还是用一个 DP 表来保存吧。\n",
    "\n",
    "lengths 表保存着从 [0 : i] 这段的最长递增子序列的长度；\n",
    "\n",
    "counts 表则保存着 [0 : i] 这段的最长递增子序列的个数。\n",
    "\n",
    "                if nums[i] < nums[j]:\n",
    "                    if lengths[i] >= lengths[j]:\n",
    "                        lengths[j] = 1 + lengths[i]\n",
    "                        counts[j] = counts[i]\n",
    "                    elif lengths[i] + 1 == lengths[j]:\n",
    "                        counts[j] += counts[i]\n",
    "                        \n",
    "假如 nums[i] < nums[j]，也就是发现了一个递增对的话，我们可以把 i 给加入进来，以便往后延长链。\n",
    "也就是，假如 lengths[i] >= lengths[j] 的话，直接把 j 加到 [0:i] 这段链的后面。j 的那段数据就不要了。\n",
    "同时令 lengths[j] = 1 + lengths[i]；且 counts[j] = counts[i]。\n",
    "\n",
    "但如果 lengths[i]  + 1 == lengths[j]，也就是 i 延长一个 j 的长度之后，跟 j 原来的长度是一样的话，\n",
    "那就长度不足够覆盖原来的 lengths[j]，只能把 counts[j] += counts[i] 而已。\n",
    "\n",
    "假如 lengths[i] + 1 还不到 lengths[j]，那就是可以直接丢弃了。没用。\n",
    "\n",
    "最后，把 length 表中所有长度最大的值对应的 count 值加起来就好了。"
   ]
  }
 ],
 "metadata": {
  "kernelspec": {
   "display_name": "Python 3",
   "language": "python",
   "name": "python3"
  },
  "language_info": {
   "codemirror_mode": {
    "name": "ipython",
    "version": 3
   },
   "file_extension": ".py",
   "mimetype": "text/x-python",
   "name": "python",
   "nbconvert_exporter": "python",
   "pygments_lexer": "ipython3",
   "version": "3.7.6"
  }
 },
 "nbformat": 4,
 "nbformat_minor": 4
}
