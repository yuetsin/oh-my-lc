{
 "cells": [
  {
   "cell_type": "code",
   "execution_count": null,
   "metadata": {},
   "outputs": [],
   "source": [
    "这题。没做出来。本质上比 WordLadder 还要简单一点。但还是一如既往的废。让我们来看看这道题。"
   ]
  },
  {
   "cell_type": "code",
   "execution_count": null,
   "metadata": {},
   "outputs": [],
   "source": [
    "class Solution:\n",
    "    def minDistance(self, word1, word2):\n",
    "        \"\"\"Dynamic programming solution\"\"\"\n",
    "        m = len(word1)\n",
    "        n = len(word2)\n",
    "        table = [[0] * (n + 1) for _ in range(m + 1)]\n",
    "\n",
    "        for i in range(m + 1):\n",
    "            table[i][0] = i\n",
    "        for j in range(n + 1):\n",
    "            table[0][j] = j\n",
    "\n",
    "        for i in range(1, m + 1):\n",
    "            for j in range(1, n + 1):\n",
    "                if word1[i - 1] == word2[j - 1]:\n",
    "                    table[i][j] = table[i - 1][j - 1]\n",
    "                else:\n",
    "                    table[i][j] = 1 + min(table[i - 1][j], table[i][j - 1], table[i - 1][j - 1])\n",
    "        return table[-1][-1]"
   ]
  },
  {
   "cell_type": "code",
   "execution_count": null,
   "metadata": {},
   "outputs": [],
   "source": [
    "DP 大概是最神奇的东西。完全不能看出来他跟题目说的有什么关系。但是就是有用。对吧。"
   ]
  },
  {
   "cell_type": "code",
   "execution_count": null,
   "metadata": {},
   "outputs": [],
   "source": [
    "回忆一下在算法原理中我们学到的 DP 方法：\n",
    "循环遍历每一位，如果遇到了相等的 char，那么就直接照搬左上角的值，因为不需要多余的步骤就能完成这个变换；\n",
    "如果说遇到了不等的，那么就从：1、插入一个（table[i - 1][j]）；2、删除一个（table[i][j - 1]）；3、替换一个（table[i - 1][j - 1])）之中选择一个代价最小的，别忘了要 + 1（因为这三个都算是一种操作）\n",
    "最后到了右下角，看看到底需要多少步骤。"
   ]
  },
  {
   "cell_type": "code",
   "execution_count": null,
   "metadata": {},
   "outputs": [],
   "source": [
    "这个 DP 表的意义大概就是： (i, j) 位置的地方代表了，从 word1[:j] 到 word2[:i] 所需要经历的变换次数。"
   ]
  },
  {
   "cell_type": "code",
   "execution_count": null,
   "metadata": {},
   "outputs": [],
   "source": [
    "你可以好好地记得这道题目。"
   ]
  }
 ],
 "metadata": {
  "kernelspec": {
   "display_name": "Python 3",
   "language": "python",
   "name": "python3"
  }
 },
 "nbformat": 4,
 "nbformat_minor": 2
}
