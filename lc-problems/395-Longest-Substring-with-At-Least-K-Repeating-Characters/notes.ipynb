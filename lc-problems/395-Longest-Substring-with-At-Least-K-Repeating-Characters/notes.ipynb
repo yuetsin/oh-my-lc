{
 "cells": [
  {
   "cell_type": "markdown",
   "metadata": {},
   "source": [
    "# 395 Longest Substring ...\n",
    "\n",
    "這好像是算法課老師 Jiang Lihong 講過的東西哦。都忘記了？\n",
    "\n",
    "上代碼。"
   ]
  },
  {
   "cell_type": "code",
   "execution_count": null,
   "metadata": {},
   "outputs": [],
   "source": [
    "class Solution:\n",
    "    def longestSubstring(self, s: str, k: int) -> int:\n",
    "        if not s or len(s) < k:\n",
    "            return 0\n",
    "        if k < 2:\n",
    "            return len(s)\n",
    "        \n",
    "        my_dict = {}\n",
    "        for c in s:\n",
    "            my_dict[c] = my_dict.get(c, 0) + 1\n",
    "        \n",
    "        left = 0\n",
    "        partition = []\n",
    "        for right in range(len(s)):\n",
    "            if my_dict[s[right]] < k:\n",
    "                partition.append(s[left:right])\n",
    "                left = right + 1\n",
    "        partition.append(s[left:]) # don't forget the last segment\n",
    "        \n",
    "        if len(partition) == 1:\n",
    "            return len(s)\n",
    "        \n",
    "        res = 0\n",
    "        for subs in partition:\n",
    "            res = max(res, self.longestSubstring(subs, k))\n",
    "        \n",
    "        return res"
   ]
  },
  {
   "cell_type": "markdown",
   "metadata": {},
   "source": [
    "程序代碼做了什麼呢？首先是處理了一些平凡輸入。\n",
    "\n",
    "隨後，構造了一個神秘的 mydict，存儲每一個字母出現的次數。（my_dict[c] = my_dict.get(c, 0) + 1 意思是有則 + 1，無則新建）\n",
    "\n",
    "然後，開始對每一個 s 中元素，if my_dict[s[right]] < k，則 partition.append(s[left:right]) left = right + 1。\n",
    "\n",
    "Use a dict to record the letter count.\n",
    "\n",
    "The target substring cannot contain letters with less than K repeating.\n",
    "\n",
    "So we can use these letters as boundary and divide the source string into substrings and then check recursively on substrings.\n",
    "\n",
    "Time: O(n)\n",
    "\n",
    "Space: O(n)\n",
    "\n",
    "用人化來講思路就是：my_dict 存儲了每個元素出現的個數，目標 substring 不能包含 K 個重複字符，因此拿這些「有限制」的字符作為邊界，將原字符串劃分成一塊塊的。從中挑出最長解，即可。"
   ]
  }
 ],
 "metadata": {
  "kernelspec": {
   "display_name": "Python 3",
   "language": "python",
   "name": "python3"
  },
  "language_info": {
   "codemirror_mode": {
    "name": "ipython",
    "version": 3
   },
   "file_extension": ".py",
   "mimetype": "text/x-python",
   "name": "python",
   "nbconvert_exporter": "python",
   "pygments_lexer": "ipython3",
   "version": "3.7.4"
  }
 },
 "nbformat": 4,
 "nbformat_minor": 2
}
