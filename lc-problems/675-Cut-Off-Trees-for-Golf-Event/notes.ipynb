{
 "cells": [
  {
   "cell_type": "markdown",
   "metadata": {},
   "source": [
    "# 675 Cut Off Trees for Golf Event\n",
    "\n",
    "这是 BFS：\n",
    "\n",
    "Runtime: 7956 ms, faster than 28.18% of Python3 online submissions for Cut Off Trees for Golf Event.\n",
    "\n",
    "Memory Usage: 13.4 MB, less than 100.00% of Python3 online submissions for Cut Off Trees for Golf Event.\n",
    "\n",
    "这是我的 DFS：\n",
    "\n",
    "**Time Limit Exceeded**\n",
    "\n",
    "DFS 问题在哪啊，问题就在你会把之前访问过的 Node 给访问到，成环你就死了。\n",
    "\n",
    "所以为了防止成环，你就非得用一个 set 来保存 visited 不可。\n",
    "\n",
    "那不如直接就用这个 set 来做遍历啊，那不就变成 BFS 了啊。\n",
    "\n",
    "虽然 Python 这个 BFS 也是慢得要死。\n",
    "\n",
    "> 是 Python 的错，不是我的.jpg"
   ]
  }
 ],
 "metadata": {
  "kernelspec": {
   "display_name": "Python 3",
   "language": "python",
   "name": "python3"
  },
  "language_info": {
   "codemirror_mode": {
    "name": "ipython",
    "version": 3
   },
   "file_extension": ".py",
   "mimetype": "text/x-python",
   "name": "python",
   "nbconvert_exporter": "python",
   "pygments_lexer": "ipython3",
   "version": "3.7.6"
  }
 },
 "nbformat": 4,
 "nbformat_minor": 4
}
