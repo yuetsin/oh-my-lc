{
 "cells": [
  {
   "cell_type": "code",
   "execution_count": null,
   "metadata": {},
   "outputs": [],
   "source": [
    "中规中矩地中序遍历…结果也是慢得要死。\n",
    "Runtime: 52 ms, faster than 12.67% of Python3 online submissions for Binary Tree Inorder Traversal.\n",
    "Memory Usage: 13.1 MB, less than 5.64% of Python3 online submissions for Binary Tree Inorder Traversal."
   ]
  },
  {
   "cell_type": "code",
   "execution_count": null,
   "metadata": {},
   "outputs": [],
   "source": [
    "谁让你用递归呢？好一点的办法可能是 Iterative. Iterative 的方法是用栈："
   ]
  },
  {
   "cell_type": "code",
   "execution_count": null,
   "metadata": {},
   "outputs": [],
   "source": [
    "public class Solution {\n",
    "    public List < Integer > inorderTraversal(TreeNode root) {\n",
    "        List < Integer > res = new ArrayList < > ();\n",
    "        Stack < TreeNode > stack = new Stack < > ();\n",
    "        TreeNode curr = root;\n",
    "        while (curr != null || !stack.isEmpty()) {\n",
    "            while (curr != null) {\n",
    "                stack.push(curr);\n",
    "                curr = curr.left;\n",
    "            }\n",
    "            curr = stack.pop();\n",
    "            res.add(curr.val);\n",
    "            curr = curr.right;\n",
    "        }\n",
    "        return res;\n",
    "    }\n",
    "}"
   ]
  },
  {
   "cell_type": "code",
   "execution_count": null,
   "metadata": {},
   "outputs": [],
   "source": [
    "中序遍历最适合用栈来解决问题。其他两种都得考虑一下第几次进栈。中序就直接弹。多好哇。"
   ]
  }
 ],
 "metadata": {
  "kernelspec": {
   "display_name": "Python 3",
   "language": "python",
   "name": "python3"
  }
 },
 "nbformat": 4,
 "nbformat_minor": 2
}
