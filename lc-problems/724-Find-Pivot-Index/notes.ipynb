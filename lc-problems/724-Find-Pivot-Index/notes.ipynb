{
 "cells": [
  {
   "cell_type": "markdown",
   "metadata": {},
   "source": [
    "# 724 Find Pivot Index\n",
    "\n",
    "Runtime: 164 ms, faster than 49.37% of Python3 online submissions for Find Pivot Index.\n",
    "\n",
    "Memory Usage: 13.9 MB, less than 83.33% of Python3 online submissions for Find Pivot Index.\n",
    "\n",
    "谁都可以给个定义…\n",
    "\n",
    "比如之前的 Pivot Index 指的是把 Array 切成两半、并交换两半顺序後的切断点。\n",
    "\n",
    "这里的 Pivot index 指的是两边数字的和相等。好吧，这还算是比较靠谱的定义。\n",
    "\n",
    "那就直接用 Presum 就好了。\n",
    "\n",
    "注意这里不能直接用二分法——因为数字不保证是正数。\n",
    "\n",
    "所以总的时间复杂度只能是 O（N）。"
   ]
  }
 ],
 "metadata": {
  "kernelspec": {
   "display_name": "Python 3",
   "language": "python",
   "name": "python3"
  },
  "language_info": {
   "codemirror_mode": {
    "name": "ipython",
    "version": 3
   },
   "file_extension": ".py",
   "mimetype": "text/x-python",
   "name": "python",
   "nbconvert_exporter": "python",
   "pygments_lexer": "ipython3",
   "version": "3.7.6"
  }
 },
 "nbformat": 4,
 "nbformat_minor": 4
}
