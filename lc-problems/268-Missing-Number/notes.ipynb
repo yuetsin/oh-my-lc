{
 "cells": [
  {
   "cell_type": "markdown",
   "metadata": {},
   "source": [
    "# 268\n",
    "\n",
    "\n",
    "Runtime: 156 ms, faster than 68.69% of Python3 online submissions for Missing Number.\n",
    "Memory Usage: 14.8 MB, less than 6.45% of Python3 online submissions for Missing Number.\n",
    "\n",
    "找出谁缺了，不让用 Extra Space?\n",
    "\n",
    "好办，直接求和，跟高斯法算出来的一比就知道谁丢了\n",
    "\n",
    "（可我这种办法内存占用怎么这么大啊）\n",
    "\n",
    "更棒的办法：用 XOR（异或）：\n",
    "\n",
    "// ruby\n",
    "def missing_number(nums)\n",
    "  nums.zip(1.step).flatten.reduce(:^)\n",
    "end\n",
    "\n",
    "// python\n",
    "def missingNumber(self, nums):\n",
    "    return reduce(operator.xor, nums + range(len(nums)+1))"
   ]
  }
 ],
 "metadata": {
  "kernelspec": {
   "display_name": "Python 3",
   "language": "python",
   "name": "python3"
  },
  "language_info": {
   "codemirror_mode": {
    "name": "ipython",
    "version": 3
   },
   "file_extension": ".py",
   "mimetype": "text/x-python",
   "name": "python",
   "nbconvert_exporter": "python",
   "pygments_lexer": "ipython3",
   "version": "3.7.4"
  }
 },
 "nbformat": 4,
 "nbformat_minor": 2
}
