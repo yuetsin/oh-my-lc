{
 "cells": [
  {
   "cell_type": "code",
   "execution_count": null,
   "metadata": {},
   "outputs": [],
   "source": [
    "我好像找到了一个神奇的 Python 标准库："
   ]
  },
  {
   "cell_type": "code",
   "execution_count": null,
   "metadata": {},
   "outputs": [],
   "source": [
    "collections.Counter：\n",
    "Example：\n",
    "\n",
    ">>> c = Counter(\"abcdefgab\")\n",
    ">>> c[\"a\"]\n",
    "2\n",
    ">>> c[\"c\"]\n",
    "1\n",
    ">>> c[\"h\"]\n",
    "0"
   ]
  },
  {
   "cell_type": "code",
   "execution_count": null,
   "metadata": {},
   "outputs": [],
   "source": [
    "可以统计出 Iterable 中每个元素出现的次数。"
   ]
  },
  {
   "cell_type": "code",
   "execution_count": null,
   "metadata": {},
   "outputs": [],
   "source": [
    "本题中为什么需要这个东西呢？因为存在 s = \"a\", t = \"aa\" 这种情况。这种情况如果 for ch in t 来判断的话，会以为 s 包含了 t。其实不是。"
   ]
  },
  {
   "cell_type": "code",
   "execution_count": null,
   "metadata": {},
   "outputs": [],
   "source": [
    "如果用傻办法，找到一个删除一个，效率会很低很低。"
   ]
  },
  {
   "cell_type": "code",
   "execution_count": null,
   "metadata": {},
   "outputs": [],
   "source": [
    "记住了，下次可以用这个办法。"
   ]
  }
 ],
 "metadata": {
  "kernelspec": {
   "display_name": "Python 3",
   "language": "python",
   "name": "python3"
  }
 },
 "nbformat": 4,
 "nbformat_minor": 2
}
