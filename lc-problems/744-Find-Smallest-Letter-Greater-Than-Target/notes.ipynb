{
 "cells": [
  {
   "cell_type": "markdown",
   "metadata": {},
   "source": [
    "# 744 Find Smallest Letter Greater Than Target\n",
    "\n",
    "这都啥题啊…\n",
    "\n",
    "Runtime: 108 ms, faster than 89.91% of Python3 online submissions for Find Smallest Letter Greater Than Target.\n",
    "\n",
    "Memory Usage: 12.8 MB, less than 100.00% of Python3 online submissions for Find Smallest Letter Greater Than Target."
   ]
  }
 ],
 "metadata": {
  "kernelspec": {
   "display_name": "Python 3",
   "language": "python",
   "name": "python3"
  },
  "language_info": {
   "codemirror_mode": {
    "name": "ipython",
    "version": 3
   },
   "file_extension": ".py",
   "mimetype": "text/x-python",
   "name": "python",
   "nbconvert_exporter": "python",
   "pygments_lexer": "ipython3",
   "version": "3.7.6"
  }
 },
 "nbformat": 4,
 "nbformat_minor": 4
}
