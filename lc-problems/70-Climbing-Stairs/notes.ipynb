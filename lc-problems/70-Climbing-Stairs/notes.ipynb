{
 "cells": [
  {
   "cell_type": "code",
   "execution_count": null,
   "metadata": {},
   "outputs": [],
   "source": [
    "记住：下次再写出 f(x) -> f(x - 1) + f(x - 2) 这种 Fibonacci 式 recursion 的时候，你得记着可以做到空间换时间的 “DP” 可能性。"
   ]
  },
  {
   "cell_type": "code",
   "execution_count": null,
   "metadata": {},
   "outputs": [],
   "source": [
    "> Runtime: 36 ms, faster than 71.28% of Python3 online submissions for Climbing Stairs.\n",
    "> Memory Usage: 13.2 MB, less than 5.18% of Python3 online submissions for Climbing Stairs."
   ]
  },
  {
   "cell_type": "code",
   "execution_count": null,
   "metadata": {},
   "outputs": [],
   "source": [
    "虽然不一定总是适合。但知道还是好的，对吧？"
   ]
  },
  {
   "cell_type": "code",
   "execution_count": null,
   "metadata": {},
   "outputs": [],
   "source": [
    "刊误：这不是 Fibonacci 式……这就是 Fibonacci……"
   ]
  }
 ],
 "metadata": {
  "kernelspec": {
   "display_name": "Python 3",
   "language": "python",
   "name": "python3"
  }
 },
 "nbformat": 4,
 "nbformat_minor": 2
}
