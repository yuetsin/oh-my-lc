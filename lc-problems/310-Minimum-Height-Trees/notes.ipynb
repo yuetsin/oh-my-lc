{
 "cells": [
  {
   "cell_type": "markdown",
   "metadata": {},
   "source": [
    "# 310\n",
    "\n",
    "DFS 苦手…\n",
    "\n",
    "咱们好好看一下解答。\n",
    "\n",
    "有一个帮助函数 getLeaves，获取到所有只有一个连接的节点，那就是我们要找的叶子节点 Leaves。\n",
    "\n",
    "为啥要多次调用这个函数呢？因为我们要对原来的图做手脚。\n",
    "\n",
    "每一次，我们都要删除一个叶子节点。也就是每次删除一个节点、又因为是叶子，因此也会删除一条边；\n",
    "\n",
    "最后剩下的那一个一定就是 合适的 Root 节点。\n",
    "\n",
    "…思路过于巧妙而跳跃…\n",
    "\n",
    "Remove leaf nodes one level at a time until there are less than or equal to 2 nodes remaininig. The remaining nodes will be roots for min height trees. To make things easier use a dictionary to create a Graph adjacency list and at each iteration remove nodes with degree == 1 edge(u, v) , remove entry for u from the adjacency list and from the connecting node v. Capture the nodes need to be deleted in a list to avoid dictionary alteration during iteration exception and also to avoid altering the node degrees while identifying leaf nodes"
   ]
  },
  {
   "cell_type": "code",
   "execution_count": null,
   "metadata": {},
   "outputs": [],
   "source": [
    "class Solution:\n",
    "    def findMinHeightTrees(self, n: int, edges: List[List[int]]) -> List[int]:\n",
    "        def get_leaves(graph):\n",
    "            leaves = []\n",
    "            for node in graph.keys():\n",
    "                if len(graph[node]) == 1:\n",
    "                    leaves.append(node)\n",
    "            return leaves\n",
    "\t\t\t\n",
    "        if n==1: return [0]\n",
    "        g = {}\n",
    "        for edge in edges:\n",
    "            u, v = edge[0], edge[1]\n",
    "            if u not in g:\n",
    "                g[u] = set()\n",
    "            if v not in g:\n",
    "                g[v] = set()\n",
    "            g[u].add(v)\n",
    "            g[v].add(u)\n",
    "\n",
    "        while len(g) > 2:\n",
    "            to_delete = get_leaves(g)\n",
    "            for d in to_delete:\n",
    "                u, v = d, g[d].pop()\n",
    "                g[v].remove(u)\n",
    "                del g[d]\n",
    "        return list(g.keys())"
   ]
  }
 ],
 "metadata": {
  "kernelspec": {
   "display_name": "Python 3",
   "language": "python",
   "name": "python3"
  },
  "language_info": {
   "codemirror_mode": {
    "name": "ipython",
    "version": 3
   },
   "file_extension": ".py",
   "mimetype": "text/x-python",
   "name": "python",
   "nbconvert_exporter": "python",
   "pygments_lexer": "ipython3",
   "version": "3.7.4"
  }
 },
 "nbformat": 4,
 "nbformat_minor": 2
}
