{
 "cells": [
  {
   "cell_type": "markdown",
   "metadata": {},
   "source": [
    "# 525 Contiguous Array\n",
    "\n",
    "contiguous: 连续的、毗邻的\n",
    "\n",
    "我自作聪明，想要用 #523-Continuous-Subarray-Sum 的方法，把 0 => -1，1 => 1，k = 0 就好了。\n",
    "\n",
    "结果还是会 TLE。这根本不是靠谱的方法…（汗）\n",
    "\n",
    "@shadio 的解法：\n",
    "\n",
    "If you see 1, add 1 to curr sum, else -1. If your sum is a sum you've seen before, subtract the distance from the first time you saw it. Careful with 0, as you begin the algorithm assuming you've seen 0, so it's actually going to be just i + 1.\n",
    "\n",
    "优化点在于： If your sum is a sum you've seen before, subtract the distance from the first time you saw it. 不要老师从头开始求和。太慢。"
   ]
  },
  {
   "cell_type": "code",
   "execution_count": null,
   "metadata": {},
   "outputs": [],
   "source": [
    "class Solution:\n",
    "    def findMaxLength(self, nums: List[int]) -> int:\n",
    "        curr = res = 0\n",
    "        seen = {0 : 0}\n",
    "\t\t\n",
    "        for i, num in enumerate(nums):\n",
    "            curr += 1 if num else -1\n",
    "            if curr in seen:\n",
    "                res = max(res, i - seen[curr] if curr != 0 else i + 1)\n",
    "            else:\n",
    "                seen[curr] = i\n",
    "        return res"
   ]
  }
 ],
 "metadata": {
  "kernelspec": {
   "display_name": "Python 3",
   "language": "python",
   "name": "python3"
  },
  "language_info": {
   "codemirror_mode": {
    "name": "ipython",
    "version": 3
   },
   "file_extension": ".py",
   "mimetype": "text/x-python",
   "name": "python",
   "nbconvert_exporter": "python",
   "pygments_lexer": "ipython3",
   "version": "3.7.6"
  }
 },
 "nbformat": 4,
 "nbformat_minor": 4
}
