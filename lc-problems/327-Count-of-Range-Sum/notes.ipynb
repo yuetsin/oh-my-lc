{
 "cells": [
  {
   "cell_type": "markdown",
   "metadata": {},
   "source": [
    "# 327\n",
    "\n",
    "Count of Range Sum. 题面很简单，就是从一个 List 里面 Slice 出来 1/2 * n ^ 2 (左右) 个，求他们的和在 min 和 max 之间的个数。\n",
    "\n",
    "最常想到的办法也就是遍历每一个 SumRange，结果造成 O(n^2) 的复杂度。题目明确说明这是不可接受的。\n",
    "\n",
    "简单说，就是用类似于 303-Range-Sum-Query---Immutable 的方法，预先计算好 0 ~ i 和 i ~ n 的和，最后采用和之间相减的方法来实现求和。\n",
    "\n",
    "于是 pre_sums[i] - pre_sums[j] = sum(nums[j:i])。\n",
    "\n",
    "不过要注意：原题里面 bisect.insort 的操作时间复杂度是 O（N）。如果需要压缩时间复杂度到 O（NLogN），就要使用类似于 Hash Table 或者 Binary Search Tree 之类的方法了。"
   ]
  }
 ],
 "metadata": {
  "kernelspec": {
   "display_name": "Python 3",
   "language": "python",
   "name": "python3"
  },
  "language_info": {
   "codemirror_mode": {
    "name": "ipython",
    "version": 3
   },
   "file_extension": ".py",
   "mimetype": "text/x-python",
   "name": "python",
   "nbconvert_exporter": "python",
   "pygments_lexer": "ipython3",
   "version": "3.7.4"
  }
 },
 "nbformat": 4,
 "nbformat_minor": 2
}
