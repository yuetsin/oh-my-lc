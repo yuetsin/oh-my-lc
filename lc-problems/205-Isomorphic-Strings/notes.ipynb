{
 "cells": [
  {
   "cell_type": "markdown",
   "metadata": {},
   "source": [
    "# 205\n",
    "\n",
    "Runtime: 148 ms, faster than 6.13% of Python3 online submissions for Isomorphic Strings.\n",
    "Memory Usage: 14.5 MB, less than 15.00% of Python3 online submissions for Isomorphic Strings.\n",
    "\n",
    "判断是否同构…可以遍历一回，map 成 id 再做比较就好了。"
   ]
  },
  {
   "cell_type": "code",
   "execution_count": null,
   "metadata": {},
   "outputs": [],
   "source": [
    "def isIsomorphic1(self, s, t):\n",
    "    d1, d2 = {}, {}\n",
    "    for i, val in enumerate(s):\n",
    "        d1[val] = d1.get(val, []) + [i]\n",
    "    for i, val in enumerate(t):\n",
    "        d2[val] = d2.get(val, []) + [i]\n",
    "    return sorted(d1.values()) == sorted(d2.values())\n",
    "        \n",
    "def isIsomorphic2(self, s, t):\n",
    "    d1, d2 = [[] for _ in xrange(256)], [[] for _ in xrange(256)]\n",
    "    for i, val in enumerate(s):\n",
    "        d1[ord(val)].append(i)\n",
    "    for i, val in enumerate(t):\n",
    "        d2[ord(val)].append(i)\n",
    "    return sorted(d1) == sorted(d2)\n",
    "    \n",
    "def isIsomorphic3(self, s, t):\n",
    "    return len(set(zip(s, t))) == len(set(s)) == len(set(t))\n",
    "    \n",
    "def isIsomorphic4(self, s, t): \n",
    "    return [s.find(i) for i in s] == [t.find(j) for j in t]\n",
    "    \n",
    "def isIsomorphic5(self, s, t):\n",
    "    return map(s.find, s) == map(t.find, t)\n",
    "\n",
    "def isIsomorphic(self, s, t):\n",
    "    d1, d2 = [0 for _ in xrange(256)], [0 for _ in xrange(256)]\n",
    "    for i in xrange(len(s)):\n",
    "        if d1[ord(s[i])] != d2[ord(t[i])]:\n",
    "            return False\n",
    "        d1[ord(s[i])] = i+1\n",
    "        d2[ord(t[i])] = i+1\n",
    "    return True"
   ]
  }
 ],
 "metadata": {
  "kernelspec": {
   "display_name": "Python 3",
   "language": "python",
   "name": "python3"
  },
  "language_info": {
   "codemirror_mode": {
    "name": "ipython",
    "version": 3
   },
   "file_extension": ".py",
   "mimetype": "text/x-python",
   "name": "python",
   "nbconvert_exporter": "python",
   "pygments_lexer": "ipython3",
   "version": "3.7.4"
  }
 },
 "nbformat": 4,
 "nbformat_minor": 2
}
