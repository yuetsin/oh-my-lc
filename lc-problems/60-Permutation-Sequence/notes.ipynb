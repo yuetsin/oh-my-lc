{
 "cells": [
  {
   "cell_type": "code",
   "execution_count": null,
   "metadata": {},
   "outputs": [],
   "source": [
    "My solution was reusing the #31 Next Permutation, as trying to find next permutations for (n - 1) times,\n",
    "which is obviously a bad idea because of its serious slow speed."
   ]
  },
  {
   "cell_type": "code",
   "execution_count": null,
   "metadata": {},
   "outputs": [],
   "source": [
    "Let's see a\n",
    "> Runtime: 1 ms, faster than 100.00% of Java online submissions for Permutation Sequence.\n",
    "> Memory Usage: 35.9 MB, less than 100.00% of Java online submissions for Permutation Sequence.\n",
    "Java solution:"
   ]
  },
  {
   "cell_type": "code",
   "execution_count": null,
   "metadata": {},
   "outputs": [],
   "source": [
    "I'm sure somewhere can be simplified so it'd be nice if anyone can let me know. The pattern was that:\n",
    "\n",
    "say n = 4, you have {1, 2, 3, 4}\n",
    "\n",
    "If you were to list out all the permutations you have\n",
    "\n",
    "1 + (permutations of 2, 3, 4)\n",
    "\n",
    "2 + (permutations of 1, 3, 4)\n",
    "\n",
    "3 + (permutations of 1, 2, 4)\n",
    "\n",
    "4 + (permutations of 1, 2, 3)\n",
    "\n",
    "\n",
    "We know how to calculate the number of permutations of n numbers... n! So each of those with permutations of 3 numbers means there are 6 possible permutations. Meaning there would be a total of 24 permutations in this particular one. So if you were to look for the (k = 14) 14th permutation, it would be in the\n",
    "\n",
    "3 + (permutations of 1, 2, 4) subset.\n",
    "\n",
    "To programmatically get that, you take k = 13 (subtract 1 because of things always starting at 0) and divide that by the 6 we got from the factorial, which would give you the index of the number you want. In the array {1, 2, 3, 4}, k/(n-1)! = 13/(4-1)! = 13/3! = 13/6 = 2. The array {1, 2, 3, 4} has a value of 3 at index 2. So the first number is a 3.\n",
    "\n",
    "Then the problem repeats with less numbers.\n",
    "\n",
    "The permutations of {1, 2, 4} would be:\n",
    "\n",
    "1 + (permutations of 2, 4)\n",
    "\n",
    "2 + (permutations of 1, 4)\n",
    "\n",
    "4 + (permutations of 1, 2)\n",
    "\n",
    "But our k is no longer the 14th, because in the previous step, we've already eliminated the 12 4-number permutations starting with 1 and 2. So you subtract 12 from k.. which gives you 1. Programmatically that would be...\n",
    "\n",
    "k = k - (index from previous) * (n-1)! = k - 2*(n-1)! = 13 - 2*(3)! = 1\n",
    "\n",
    "In this second step, permutations of 2 numbers has only 2 possibilities, meaning each of the three permutations listed above a has two possibilities, giving a total of 6. We're looking for the first one, so that would be in the 1 + (permutations of 2, 4) subset.\n",
    "\n",
    "Meaning: index to get number from is k / (n - 2)! = 1 / (4-2)! = 1 / 2! = 0.. from {1, 2, 4}, index 0 is 1\n",
    "\n",
    "\n",
    "so the numbers we have so far is 3, 1... and then repeating without explanations.\n",
    "\n",
    "\n",
    "{2, 4}\n",
    "\n",
    "k = k - (index from pervious) * (n-2)! = k - 0 * (n - 2)! = 1 - 0 = 1;\n",
    "\n",
    "third number's index = k / (n - 3)! = 1 / (4-3)! = 1/ 1! = 1... from {2, 4}, index 1 has 4\n",
    "\n",
    "Third number is 4\n",
    "\n",
    "\n",
    "{2}\n",
    "\n",
    "k = k - (index from pervious) * (n - 3)! = k - 1 * (4 - 3)! = 1 - 1 = 0;\n",
    "\n",
    "third number's index = k / (n - 4)! = 0 / (4-4)! = 0/ 1 = 0... from {2}, index 0 has 2\n",
    "\n",
    "Fourth number is 2\n",
    "\n",
    "\n",
    "Giving us 3142. If you manually list out the permutations using DFS method, it would be 3142. Done! It really was all about pattern finding."
   ]
  },
  {
   "cell_type": "code",
   "execution_count": null,
   "metadata": {},
   "outputs": [],
   "source": [
    "Above is the solution's author. If you can find a specific pattern to solve the problem, that would be easier to solve the problem."
   ]
  }
 ],
 "metadata": {
  "kernelspec": {
   "display_name": "Python 3",
   "language": "python",
   "name": "python3"
  }
 },
 "nbformat": 4,
 "nbformat_minor": 2
}
