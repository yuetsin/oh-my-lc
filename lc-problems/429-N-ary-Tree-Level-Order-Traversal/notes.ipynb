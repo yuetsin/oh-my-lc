{
 "cells": [
  {
   "cell_type": "markdown",
   "metadata": {},
   "source": [
    "# 429 N-ary Tree Level Order Traversal\n",
    "\n",
    "很容易地可以用递归实现…当然用 Stack 也很简单。也不存在二叉树前序中序後序的问题（因为不同层分在不同的 List 里）。\n",
    "\n",
    "另：Test Case 又有空输入坑货。\n",
    "\n",
    "Runtime: 48 ms, faster than 87.25% of Python3 online submissions for N-ary Tree Level Order Traversal.\n",
    "Memory Usage: 14.7 MB, less than 100.00% of Python3 online submissions for N-ary Tree Level Order Traversal."
   ]
  }
 ],
 "metadata": {
  "kernelspec": {
   "display_name": "Python 3",
   "language": "python",
   "name": "python3"
  },
  "language_info": {
   "codemirror_mode": {
    "name": "ipython",
    "version": 3
   },
   "file_extension": ".py",
   "mimetype": "text/x-python",
   "name": "python",
   "nbconvert_exporter": "python",
   "pygments_lexer": "ipython3",
   "version": "3.7.6"
  }
 },
 "nbformat": 4,
 "nbformat_minor": 2
}
