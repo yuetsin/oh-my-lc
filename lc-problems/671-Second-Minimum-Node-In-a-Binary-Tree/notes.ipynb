{
 "cells": [
  {
   "cell_type": "markdown",
   "metadata": {},
   "source": [
    "# 671 Second Minimum Node In a Binary Tree\n",
    "\n",
    "Runtime: 24 ms, faster than 86.95% of Python3 online submissions for Second Minimum Node In a Binary Tree.\n",
    "\n",
    "Memory Usage: 12.8 MB, less than 100.00% of Python3 online submissions for Second Minimum Node In a Binary Tree.\n",
    "\n",
    "无聊题…没看到什么好解。也不是什么好题。"
   ]
  }
 ],
 "metadata": {
  "kernelspec": {
   "display_name": "Python 3",
   "language": "python",
   "name": "python3"
  },
  "language_info": {
   "codemirror_mode": {
    "name": "ipython",
    "version": 3
   },
   "file_extension": ".py",
   "mimetype": "text/x-python",
   "name": "python",
   "nbconvert_exporter": "python",
   "pygments_lexer": "ipython3",
   "version": "3.7.6"
  }
 },
 "nbformat": 4,
 "nbformat_minor": 4
}
