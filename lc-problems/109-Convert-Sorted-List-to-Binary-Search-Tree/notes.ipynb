{
 "cells": [
  {
   "cell_type": "code",
   "execution_count": null,
   "metadata": {},
   "outputs": [],
   "source": [
    "一如既往，有个 Bad Smell Solution：鉴于 Tree 相关都不太可能有极大量的数据，直接弄一个 Array 把 NodeList 弄成 Array 再操作。"
   ]
  },
  {
   "cell_type": "code",
   "execution_count": null,
   "metadata": {},
   "outputs": [],
   "source": [
    "结果就是：空间换了时间，\n",
    ">Runtime: 124 ms, faster than 96.65% of Python3 online submissions for Convert Sorted List to Binary Search Tree.\n",
    "> Memory Usage: 19.6 MB, less than 5.31% of Python3 online submissions for Convert Sorted List to Binary Search Tree.\n",
    "\n",
    "Memory Usage 惨不忍睹。"
   ]
  },
  {
   "cell_type": "code",
   "execution_count": null,
   "metadata": {},
   "outputs": [],
   "source": [
    "靠谱一点的办法是什么呢？利用一下一个特性：这个 NodeList 已经排好序了。现在，问题演变成只需要把一个个有序的元素往 BST 里插入就好。"
   ]
  },
  {
   "cell_type": "code",
   "execution_count": null,
   "metadata": {},
   "outputs": [],
   "source": [
    "但有一点不太美的操作是，不得不首先遍历一次全部，找到 Middle Node 作为 Root，再进行后面的递归操作。\n",
    "同样，每一次找中间元素的操作，都不得不伴随着一串遍历。时间长也就不奇怪了。\n",
    "\n",
    "本质上，只是前面寻找中间点的算法要重写，其他部分并没什么改变。该递归还是递归。"
   ]
  },
  {
   "cell_type": "code",
   "execution_count": null,
   "metadata": {},
   "outputs": [],
   "source": [
    "另附一种 Inorder 的操作方式，如下：\n",
    "\n",
    "1.Iterate over the linked list to find out it's length. We will make use of two different pointer variables here to mark the beginning and the end of the list. Let's call them start and end with their initial values being 0 and length - 1 respectively.\n",
    "2.Remember, we have to simulate the inorder traversal here. We can find out the middle element by using (start + end) / 2. Note that we don't really find out the middle node of the linked list. We just have a variable telling us the index of the middle element. We simply need this to make recursive calls on the two halves.\n",
    "3.Recurse on the left half by using start, mid - 1 as the starting and ending points.\n",
    "4.The invariance that we maintain in this algorithm is that whenever we are done building the left half of the BST, the head pointer in the linked list will point to the root node or the middle node (which becomes the root). So, we simply use the current value pointed to by head as the root node and progress the head node by once i.e. head = head.next\n",
    "5.We recurse on the right hand side using mid + 1, end as the starting and ending points.\n"
   ]
  }
 ],
 "metadata": {
  "kernelspec": {
   "display_name": "Python 3",
   "language": "python",
   "name": "python3"
  }
 },
 "nbformat": 4,
 "nbformat_minor": 2
}
