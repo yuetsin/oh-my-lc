{
 "cells": [
  {
   "cell_type": "markdown",
   "metadata": {},
   "source": [
    "# 501 Find Mode in Binary Search Tree\n",
    "\n",
    "Runtime: 48 ms, faster than 94.32% of Python3 online submissions for Find Mode in Binary Search Tree.\n",
    "\n",
    "Memory Usage: 16.7 MB, less than 100.00% of Python3 online submissions for Find Mode in Binary Search Tree.\n",
    "\n",
    "用了 Dict 来记录词频…结果 Memory Usage 居然还 Beat 了 100%…\n",
    "\n",
    "也没用到 BST 的特殊性质…\n",
    "\n",
    "这题的 Extended Version 还说能否不用额外空间完成…而实际上也并没占用多少…\n",
    "\n",
    "实际上，BST 的性质（左减右加）可以比起普通的二叉树更快地遍历到最大元素。\n",
    "\n",
    "遍历两次就足够了。First pass to count max occurance value and second pass to add that to result. 不占用额外空间。"
   ]
  }
 ],
 "metadata": {
  "kernelspec": {
   "display_name": "Python 3",
   "language": "python",
   "name": "python3"
  },
  "language_info": {
   "codemirror_mode": {
    "name": "ipython",
    "version": 3
   },
   "file_extension": ".py",
   "mimetype": "text/x-python",
   "name": "python",
   "nbconvert_exporter": "python",
   "pygments_lexer": "ipython3",
   "version": "3.7.6"
  }
 },
 "nbformat": 4,
 "nbformat_minor": 4
}
