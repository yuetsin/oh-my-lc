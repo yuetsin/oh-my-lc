{
 "cells": [
  {
   "cell_type": "markdown",
   "metadata": {},
   "source": [
    "# 322\n",
    "\n",
    "是个比较普通的 DP 题。\n",
    "\n",
    "\n",
    "Runtime: 2104 ms, faster than 9.87% of Python3 online submissions for Coin Change.\n",
    "Memory Usage: 24.4 MB, less than 8.33% of Python3 online submissions for Coin Change.\n",
    "\n",
    "跟小偷偷家，字符串 Token 匹配一样的题。不过稍微简单一点。这是 Top -> Bottom 类型（简称 Tom 类型）\n",
    "\n",
    "另外一种写法是 Bottom -> Up（Bop 类型）"
   ]
  }
 ],
 "metadata": {
  "kernelspec": {
   "display_name": "Python 3",
   "language": "python",
   "name": "python3"
  },
  "language_info": {
   "codemirror_mode": {
    "name": "ipython",
    "version": 3
   },
   "file_extension": ".py",
   "mimetype": "text/x-python",
   "name": "python",
   "nbconvert_exporter": "python",
   "pygments_lexer": "ipython3",
   "version": "3.7.4"
  }
 },
 "nbformat": 4,
 "nbformat_minor": 2
}
