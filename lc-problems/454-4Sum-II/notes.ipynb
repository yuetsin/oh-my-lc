{
 "cells": [
  {
   "cell_type": "markdown",
   "metadata": {},
   "source": [
    "# 454 4 Sum II\n",
    "\n",
    "首先，O(N ^ 4) 复杂度的算法就别写出来了。丢人。\n",
    "\n",
    "但我还是写出来试了一下。\n",
    "\n",
    "实际上，最终结果可以压到 O(N ^ 2)。首先，用 O(N^2) 的复杂度把 A 和 B 每个元素都加一遍，并把所有可能结果都存在 Dict 里。然后，对 C 和 D 同样操作，这次可以利用 sum_ab 里的结果直接算出 ret。"
   ]
  }
 ],
 "metadata": {
  "kernelspec": {
   "display_name": "Python 3",
   "language": "python",
   "name": "python3"
  },
  "language_info": {
   "codemirror_mode": {
    "name": "ipython",
    "version": 3
   },
   "file_extension": ".py",
   "mimetype": "text/x-python",
   "name": "python",
   "nbconvert_exporter": "python",
   "pygments_lexer": "ipython3",
   "version": "3.7.6"
  }
 },
 "nbformat": 4,
 "nbformat_minor": 2
}
