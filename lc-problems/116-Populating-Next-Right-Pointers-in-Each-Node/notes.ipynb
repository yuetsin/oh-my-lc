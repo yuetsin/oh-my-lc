{
 "cells": [
  {
   "cell_type": "code",
   "execution_count": null,
   "metadata": {},
   "outputs": [],
   "source": [
    "C++ Version, from @ragepyre"
   ]
  },
  {
   "cell_type": "code",
   "execution_count": null,
   "metadata": {},
   "outputs": [],
   "source": [
    "解决方案是这样的：这个问题是相当特殊的。一个满二叉树…"
   ]
  },
  {
   "cell_type": "code",
   "execution_count": null,
   "metadata": {},
   "outputs": [],
   "source": [
    "while(pre->left) {\n",
    "        cur = pre;\n",
    "        while(cur) {\n",
    "            cur->left->next = cur->right;\n",
    "            if(cur->next) cur->right->next = cur->next->left;\n",
    "            cur = cur->next;\n",
    "        }\n",
    "        pre = pre->left;\n",
    "    }"
   ]
  },
  {
   "cell_type": "code",
   "execution_count": null,
   "metadata": {},
   "outputs": [],
   "source": [
    "核心内容是这样的：如果 pre 还有左儿子（在这个特殊的题目里，pre 有左儿子 <=> pre 不是叶子结点）。"
   ]
  },
  {
   "cell_type": "code",
   "execution_count": null,
   "metadata": {},
   "outputs": [],
   "source": [
    "那么，我们就从左到右找。但我们如何依次往下寻找「同层级」的结点。通过什么？"
   ]
  },
  {
   "cell_type": "code",
   "execution_count": null,
   "metadata": {},
   "outputs": [],
   "source": [
    "普通的情况下，要依次遍历同层级的结点是不容易的。但是碰巧！本题有一个 next，指向同层级的正右结点。"
   ]
  },
  {
   "cell_type": "code",
   "execution_count": null,
   "metadata": {},
   "outputs": [],
   "source": [
    "因此我们可以用到上一层级帮我们写好的 next 信息，然后对每一个结点，把「这个节点的左指向右，上一个的右指向下一个的左。」\n",
    "注意因为我们在这里依赖了上一层级（上一次递归）帮我们写好的 next 信息，因此这一层级我们要把我们下一层级的 next 给写好。"
   ]
  },
  {
   "cell_type": "code",
   "execution_count": null,
   "metadata": {},
   "outputs": [],
   "source": [
    "这也就是为什么我们的第一个条件是pre 有左儿子：pre 有左儿子 <=> pre 不是叶子结点。如果已经到了叶子结点，那么下面的活不用做啦。"
   ]
  },
  {
   "cell_type": "code",
   "execution_count": null,
   "metadata": {},
   "outputs": [],
   "source": [
    "非常美的解答！"
   ]
  },
  {
   "cell_type": "code",
   "execution_count": null,
   "metadata": {},
   "outputs": [],
   "source": [
    "改写了一个 Python 版，Runtime: 44 ms, faster than 99.60% of Python3 online submissions for Populating Next Right Pointers in Each Node.\n",
    "Memory Usage: 15.3 MB, less than 51.24% of Python3 online submissions for Populating Next Right Pointers in Each Node。"
   ]
  }
 ],
 "metadata": {
  "kernelspec": {
   "display_name": "Python 3",
   "language": "python",
   "name": "python3"
  }
 },
 "nbformat": 4,
 "nbformat_minor": 2
}
