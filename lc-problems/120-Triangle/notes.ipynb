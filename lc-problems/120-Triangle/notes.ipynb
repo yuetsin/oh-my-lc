{
 "cells": [
  {
   "cell_type": "code",
   "execution_count": null,
   "metadata": {},
   "outputs": [],
   "source": [
    "此题又是一个挺好识别的动态规划题：首先把三角形拍扁。"
   ]
  },
  {
   "cell_type": "code",
   "execution_count": null,
   "metadata": {},
   "outputs": [],
   "source": [
    "    #\n",
    "    # [\n",
    "    # [2],\n",
    "    # [3,4],\n",
    "    # [6,5,7],\n",
    "    # [4,1,8,3] \n",
    "    # ]\n",
    "    #"
   ]
  },
  {
   "cell_type": "code",
   "execution_count": null,
   "metadata": {},
   "outputs": [],
   "source": [
    "这样，在你到了 (i, j) 位置的时候，如果还没到达底部，你有两种选择：\n",
    "a. 走向 (i + 1, j)，即直接向下走。\n",
    "b. 走向 (i + 1, j + 1)，即向右下方走。"
   ]
  },
  {
   "cell_type": "code",
   "execution_count": null,
   "metadata": {},
   "outputs": [],
   "source": [
    "为了减少 i、j 较大情况的函数重复调用，使用 DP 表来存储已有的有意义计算。"
   ]
  },
  {
   "cell_type": "code",
   "execution_count": null,
   "metadata": {},
   "outputs": [],
   "source": [
    "> Runtime: 44 ms, faster than 86.42% of Python3 online submissions for Triangle.\n",
    "> Memory Usage: 14.5 MB, less than 10.09% of Python3 online submissions for Triangle."
   ]
  },
  {
   "cell_type": "code",
   "execution_count": null,
   "metadata": {},
   "outputs": [],
   "source": [
    "空间还是不节约。这里提出一个优化方案：由于动态查找表的大小，甚至是每一行的大小都是完全固定的。\n",
    "因此如果使用一维数组来存储 DP 表可以同时节约时间跟空间。"
   ]
  },
  {
   "cell_type": "code",
   "execution_count": null,
   "metadata": {},
   "outputs": [],
   "source": [
    "顺便…从底向上进行计算其实更合理一点。见 sample。"
   ]
  }
 ],
 "metadata": {
  "kernelspec": {
   "display_name": "Python 3",
   "language": "python",
   "name": "python3"
  }
 },
 "nbformat": 4,
 "nbformat_minor": 2
}
