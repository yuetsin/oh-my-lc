{
 "cells": [
  {
   "cell_type": "markdown",
   "metadata": {},
   "source": [
    "# 226\n",
    "\n",
    "我觉得这题就只是单纯想玩儿一下那个梗*……\n",
    "\n",
    "*Trivia:\n",
    "\n",
    "This problem was inspired by this original tweet by Max Howell:\n",
    "\n",
    "Google: 90% of our engineers use the software you wrote (Homebrew), but you can’t invert a binary tree on a whiteboard so f*** off."
   ]
  },
  {
   "cell_type": "markdown",
   "metadata": {},
   "source": [
    "所以也就不多说了…一样的，什么序遍历都无所谓因为我只在意我的左右孩子把他们交换就好了… Stack 跟递归都能写的很漂亮。"
   ]
  }
 ],
 "metadata": {
  "kernelspec": {
   "display_name": "Python 3",
   "language": "python",
   "name": "python3"
  },
  "language_info": {
   "codemirror_mode": {
    "name": "ipython",
    "version": 3
   },
   "file_extension": ".py",
   "mimetype": "text/x-python",
   "name": "python",
   "nbconvert_exporter": "python",
   "pygments_lexer": "ipython3",
   "version": "3.7.4"
  }
 },
 "nbformat": 4,
 "nbformat_minor": 2
}
