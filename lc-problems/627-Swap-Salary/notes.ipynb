{
 "cells": [
  {
   "cell_type": "markdown",
   "metadata": {},
   "source": [
    "# 627 Swap Salary\n",
    "\n",
    "Runtime: 316 ms, faster than 79.58% of MySQL online submissions for Swap Salary.\n",
    "\n",
    "Memory Usage: 0B, less than 100.00% of MySQL online submissions for Swap Salary.\n",
    "\n",
    "要求：一次 UPDATE。不准用中间 SELECT。\n",
    "\n",
    "还是简单的…用 IF 就能解决。\n",
    "\n",
    "不过你这哪是 Swap Salary 啊…你这根本是 Swap Gender 嘛。"
   ]
  }
 ],
 "metadata": {
  "kernelspec": {
   "display_name": "Python 3",
   "language": "python",
   "name": "python3"
  },
  "language_info": {
   "codemirror_mode": {
    "name": "ipython",
    "version": 3
   },
   "file_extension": ".py",
   "mimetype": "text/x-python",
   "name": "python",
   "nbconvert_exporter": "python",
   "pygments_lexer": "ipython3",
   "version": "3.7.6"
  }
 },
 "nbformat": 4,
 "nbformat_minor": 4
}
