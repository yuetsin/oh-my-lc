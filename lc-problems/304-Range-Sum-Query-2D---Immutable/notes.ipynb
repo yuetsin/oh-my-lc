{
 "cells": [
  {
   "cell_type": "markdown",
   "metadata": {},
   "source": [
    "# 304\n",
    "\n",
    "Runtime: 1764 ms, faster than 5.19% of Python3 online submissions for Range Sum Query 2D - Immutable.\n",
    "\n",
    "Memory Usage: 16.7 MB, less than 16.67% of Python3 online submissions for Range Sum Query 2D - Immutable.\n",
    "\n",
    "总归只用到了 #304 里面的第二个 Approach（也就是一个 Cache）就通过了（虽然蛮差的）\n",
    "\n",
    "更好的办法跟上面也一样：\n",
    "\n",
    "\n",
    "\n",
    "缓存上左上角到每一个点的矩形块和，然后只需要用 Sum(右下角) + Sum(左上角) - Sum(左下角) - Sum(右上角) 就好了。\n",
    "\n",
    "不明白为什么去画个图自己比划比划。\n",
    "\n",
    "总归就是这样了。"
   ]
  }
 ],
 "metadata": {
  "kernelspec": {
   "display_name": "Python 3",
   "language": "python",
   "name": "python3"
  },
  "language_info": {
   "codemirror_mode": {
    "name": "ipython",
    "version": 3
   },
   "file_extension": ".py",
   "mimetype": "text/x-python",
   "name": "python",
   "nbconvert_exporter": "python",
   "pygments_lexer": "ipython3",
   "version": "3.7.4"
  }
 },
 "nbformat": 4,
 "nbformat_minor": 2
}
