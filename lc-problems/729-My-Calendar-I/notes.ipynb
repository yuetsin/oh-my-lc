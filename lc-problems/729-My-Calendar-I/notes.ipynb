{
 "cells": [
  {
   "cell_type": "markdown",
   "metadata": {},
   "source": [
    "# 729 My Calendar I\n",
    "\n",
    "Runtime: 748 ms, faster than 25.99% of Python3 online submissions for My Calendar I.\n",
    "\n",
    "Memory Usage: 13.1 MB, less than 100.00% of Python3 online submissions for My Calendar I.\n",
    "\n",
    "也是一个判断 Duration Overlapping 的问题。\n",
    "\n",
    "这里最多只有 1000 次…所以其实做不做 Sorted 都意义不大。\n",
    "\n",
    "优化一点的办法，用 BST 树来存储 Durations。"
   ]
  }
 ],
 "metadata": {
  "kernelspec": {
   "display_name": "Python 3",
   "language": "python",
   "name": "python3"
  },
  "language_info": {
   "codemirror_mode": {
    "name": "ipython",
    "version": 3
   },
   "file_extension": ".py",
   "mimetype": "text/x-python",
   "name": "python",
   "nbconvert_exporter": "python",
   "pygments_lexer": "ipython3",
   "version": "3.7.6"
  }
 },
 "nbformat": 4,
 "nbformat_minor": 4
}
