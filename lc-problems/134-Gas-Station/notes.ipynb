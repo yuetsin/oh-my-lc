{
 "cells": [
  {
   "cell_type": "code",
   "execution_count": null,
   "metadata": {},
   "outputs": [],
   "source": [
    "我这解也太慢了太慢了太慢了（"
   ]
  },
  {
   "cell_type": "code",
   "execution_count": null,
   "metadata": {},
   "outputs": [],
   "source": [
    "Runtime: 2036 ms, faster than 11.26% of Python3 online submissions for Gas Station.\n",
    "Memory Usage: 14.5 MB, less than 6.63% of Python3 online submissions for Gas Station."
   ]
  },
  {
   "cell_type": "code",
   "execution_count": null,
   "metadata": {},
   "outputs": [],
   "source": [
    "思路其实挺简单：首先把所有的 gas - cost 对应到一个新的 List 里头，然后找一条环路走下来始终 >= 0。如果找得出来，那就是得了。没有就是 -1。"
   ]
  },
  {
   "cell_type": "code",
   "execution_count": null,
   "metadata": {},
   "outputs": [],
   "source": [
    "但我想我的 List 拼接操作本来可以做得更好一些的，现在他有些太慢了，而且占用了好多空间。"
   ]
  },
  {
   "cell_type": "code",
   "execution_count": null,
   "metadata": {},
   "outputs": [],
   "source": [
    "事实上，更好的办法并不需要反复的生成 List 并走 n 遍。完全可以只走一遍，然后进行一次「容忍」：在遇到第一个出现复数的时候，选择从那里开始。"
   ]
  },
  {
   "cell_type": "code",
   "execution_count": null,
   "metadata": {},
   "outputs": [],
   "source": [
    "假如连这也不能成功，那就 -1 失败就好了。简单吧？"
   ]
  },
  {
   "cell_type": "code",
   "execution_count": null,
   "metadata": {},
   "outputs": [],
   "source": [
    "完全可以用 O(N) 的解法，生生弄成 O(N^2)。服了我"
   ]
  }
 ],
 "metadata": {
  "kernelspec": {
   "display_name": "Python 3",
   "language": "python",
   "name": "python3"
  }
 },
 "nbformat": 4,
 "nbformat_minor": 2
}
