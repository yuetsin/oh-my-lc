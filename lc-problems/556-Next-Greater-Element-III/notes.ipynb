{
 "cells": [
  {
   "cell_type": "markdown",
   "metadata": {},
   "source": [
    "# 556 Next Greater Element III\n",
    "\n",
    "我的思路：返向遍历，如果持续相等递增就继续向前遍历，直到发现第一个「递减项」。然后，采用 bisect 把它和后面的某一个尽可能小数字交换（用 bisect）。\n",
    "\n",
    "然而在遇到这个 Case 的时候会出错：\n",
    "\n",
    "230241\n",
    "\n",
    "reverseString 是 [4, 1] ，inserter 是 2.\n",
    "應該交换 4、2，得到 230421.\n",
    "\n",
    "实际上是 230412。我的想法有问题！\n",
    "\n",
    "实际上，在插入之后直接对插入点后续进行 sort（由小到大）就好了。只要能保证他的值是交换之后的最小值，就足够了。"
   ]
  },
  {
   "cell_type": "markdown",
   "metadata": {},
   "source": [
    "交出了两次 Compile Error……丢人……"
   ]
  }
 ],
 "metadata": {
  "kernelspec": {
   "display_name": "Python 3",
   "language": "python",
   "name": "python3"
  },
  "language_info": {
   "codemirror_mode": {
    "name": "ipython",
    "version": 3
   },
   "file_extension": ".py",
   "mimetype": "text/x-python",
   "name": "python",
   "nbconvert_exporter": "python",
   "pygments_lexer": "ipython3",
   "version": "3.7.6"
  }
 },
 "nbformat": 4,
 "nbformat_minor": 4
}
