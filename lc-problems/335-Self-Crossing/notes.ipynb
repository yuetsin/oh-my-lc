{
 "cells": [
  {
   "cell_type": "markdown",
   "metadata": {},
   "source": [
    "# 335\n",
    "\n",
    "自交吗？\n",
    "\n",
    "Runtime: 60 ms, faster than 5.49% of Python3 online submissions for Self Crossing.\n",
    "\n",
    "Memory Usage: 15.8 MB, less than 100.00% of Python3 online submissions for Self Crossing.\n",
    "\n",
    "好…好奇怪。明明我用了 Hash Set 来存储访问过的位置，可是居然 Memory 表现这么好。\n",
    "\n",
    "更优良的方案是：简化。\n",
    "\n",
    "For each line, just check its next 6 lines. If not crossed, then skip it and do the same \"6-line check\" on the next line. Because if a line doesn't get crossed in 6 steps, then even if it get crossed later, some other line must get crossed before it.\n",
    "\n",
    "对于每一条线，我们只需要检查接下来的 6 根线是否跟他相交。如果接下来的六根跟他不交，就不需要考虑他了。\n",
    "\n",
    "因为如果六根线之后还产生了跟他有关的相交，那么在此之前肯定还有其他的相交关系存在，且不超过「6-line」。"
   ]
  },
  {
   "cell_type": "code",
   "execution_count": null,
   "metadata": {},
   "outputs": [],
   "source": [
    "\n",
    "class Solution:\n",
    "    def isSelfCrossing(self, x: List[int]) -> bool:\n",
    "        n=len(x)\n",
    "        def helper(i):\n",
    "            steps=[x[k+i] if k+i<n else 0 for k in range(6)]\n",
    "            if steps[3]<steps[1]:\n",
    "                return False\n",
    "            if steps[2]<=steps[0]:\n",
    "                return True\n",
    "            if steps[3]>=steps[1] and steps[4]>=(steps[2]-steps[0]) and steps[4]<=steps[2] and steps[5]>=(steps[3]-steps[1]):\n",
    "                return True\n",
    "            return False\n",
    "        return any(helper(i) for i in range(n-3))"
   ]
  }
 ],
 "metadata": {
  "kernelspec": {
   "display_name": "Python 3",
   "language": "python",
   "name": "python3"
  },
  "language_info": {
   "codemirror_mode": {
    "name": "ipython",
    "version": 3
   },
   "file_extension": ".py",
   "mimetype": "text/x-python",
   "name": "python",
   "nbconvert_exporter": "python",
   "pygments_lexer": "ipython3",
   "version": "3.7.4"
  }
 },
 "nbformat": 4,
 "nbformat_minor": 2
}
