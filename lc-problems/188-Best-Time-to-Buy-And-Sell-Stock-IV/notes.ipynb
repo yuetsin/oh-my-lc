{
 "cells": [
  {
   "cell_type": "markdown",
   "metadata": {},
   "source": [
    "# 188\n",
    "\n",
    "炒股题重出江湖…\n",
    "\n",
    "咱们直接来看题目吧。也是有全部的交易信息，但是有一点限制：k 是最大交易手数。Buy 和 Sell 分别算一个 Transaction（交易）。\n",
    "而且在买之前必须保证你所有的现有股票都卖了\n",
    "（老实说这不符合常理…但咱们姑且这样看下去）"
   ]
  },
  {
   "cell_type": "code",
   "execution_count": null,
   "metadata": {},
   "outputs": [],
   "source": [
    "def maxProfit4(self, k, prices):\n",
    "    n = len(prices)\n",
    "    if n < 2:\n",
    "        return 0\n",
    "    # k is big enougth to cover all ramps.\n",
    "    if k >= n / 2:\n",
    "        return sum(i - j\n",
    "                   for i, j in zip(prices[1:], prices[:-1]) if i - j > 0)\n",
    "    globalMax = [[0] * n for _ in xrange(k + 1)]\n",
    "    for i in xrange(1, k + 1):\n",
    "        # The max profit with i transations and selling stock on day j.\n",
    "        localMax = [0] * n\n",
    "        for j in xrange(1, n):\n",
    "            profit = prices[j] - prices[j - 1]\n",
    "            localMax[j] = max(\n",
    "                # We have made max profit with (i - 1) transations in\n",
    "                # (j - 1) days.\n",
    "                # For the last transation, we buy stock on day (j - 1)\n",
    "                # and sell it on day j.\n",
    "                globalMax[i - 1][j - 1] + profit,\n",
    "                # We have made max profit with (i - 1) transations in\n",
    "                # (j - 1) days.\n",
    "                # For the last transation, we buy stock on day j and\n",
    "                # sell it on the same day, so we have 0 profit, apparently\n",
    "                # we do not have to add it.\n",
    "                globalMax[i - 1][j - 1],  # + 0,\n",
    "                # We have made profit in (j - 1) days.\n",
    "                # We want to cancel the day (j - 1) sale and sell it on\n",
    "                # day j.\n",
    "                localMax[j - 1] + profit)\n",
    "            globalMax[i][j] = max(globalMax[i][j - 1], localMax[j])\n",
    "    return globalMax[k][-1]\n"
   ]
  },
  {
   "cell_type": "markdown",
   "metadata": {},
   "source": [
    "首先，对 k / 2 向下取整，赋给 n。因为根据题设，单独的一手交易是没有意义的（你没有另一手把它卖出去。）\n",
    "\n",
    "n 就是可以买卖的次数。\n",
    "\n",
    "然后这又是一个动态规划题了：globalMax [] 是个二维数组，他给出了在 每一天，你还剩下 k 手交易额度的情况下最大可以赚的钱。\n",
    "\n",
    "注意：这里 n 已经 ／2 了，也就是说 k 包含了一买一卖（题目规定了每一笔买卖之间不可以重叠）\n",
    "\n",
    "然后就按照公式\n",
    "\n",
    "max(\n",
    "                # We have made max profit with (i - 1) transations in\n",
    "                # (j - 1) days.\n",
    "                # For the last transation, we buy stock on day (j - 1)\n",
    "                # and sell it on day j.\n",
    "                globalMax[i - 1][j - 1] + profit,\n",
    "                # We have made max profit with (i - 1) transations in\n",
    "                # (j - 1) days.\n",
    "                # For the last transation, we buy stock on day j and\n",
    "                # sell it on the same day, so we have 0 profit, apparently\n",
    "                # we do not have to add it.\n",
    "                globalMax[i - 1][j - 1],  # + 0,\n",
    "                # We have made profit in (j - 1) days.\n",
    "                # We want to cancel the day (j - 1) sale and sell it on\n",
    "                # day j.\n",
    "                localMax[j - 1] + profit)\n",
    "                \n",
    "递推完成 DP 表就好了。具体解释是这样的：\n",
    "\n",
    "max(globalMax[i - 1][j - 1] + profit, globalMax[i - 1][j - 1],  # + 0, localMax[j - 1] + profit)\n",
    "\n",
    "第一项指的是：完成最后一笔交易，在 j-1 天买入，j 天卖出。\n",
    "\n",
    "第二项指的是：只是先买入，但是先不卖掉，等以后某天卖出。\n",
    "\n",
    "第三项指的是：后悔药，前一天卖出了我不乐意，因为今天股票又涨了。我要改成今天卖（\n",
    "\n",
    "在此三项里面找一个最大的，作为这一点的最大收入。"
   ]
  }
 ],
 "metadata": {
  "kernelspec": {
   "display_name": "Python 3",
   "language": "python",
   "name": "python3"
  },
  "language_info": {
   "codemirror_mode": {
    "name": "ipython",
    "version": 3
   },
   "file_extension": ".py",
   "mimetype": "text/x-python",
   "name": "python",
   "nbconvert_exporter": "python",
   "pygments_lexer": "ipython3",
   "version": "3.7.4"
  }
 },
 "nbformat": 4,
 "nbformat_minor": 2
}
