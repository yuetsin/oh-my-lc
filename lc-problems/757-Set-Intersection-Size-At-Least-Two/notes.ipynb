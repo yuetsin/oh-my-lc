{
 "cells": [
  {
   "cell_type": "markdown",
   "metadata": {},
   "source": [
    "# 757 Set Intersection Size At Least Two\n",
    "\n",
    "我误读了题意…以为是要求出「包含在两个及以上 lapping 里的数字个数」。\n",
    "\n",
    "但是他要的是找出一个最小的新 set，让每个 intersection 跟 S 去取交集，都至少有两个公共元素。\n",
    "\n",
    "（理解完全错误…当然方法也就完全错误。\n",
    "\n",
    "实际上，解法非常漂亮。首先，把所有的 tuples 按照结束点升序排序。然后呢，用贪婪算法就好了——只在当前条件不满足（其中一个 set 跟 S 的交集不够两个元素）的时候，才去增加 s。而且总是默认加靠后的 s。\n",
    "\n",
    "Neat。"
   ]
  },
  {
   "cell_type": "code",
   "execution_count": null,
   "metadata": {},
   "outputs": [],
   "source": [
    "class Solution:\n",
    "    def intersectionSizeTwo(self, intervals: List[List[int]]) -> int:\n",
    "        intervals.sort(key = lambda x:x[1]) # sort by end-point\n",
    "        ans = 0\n",
    "        pre = []\n",
    "        for (s, t) in intervals:\n",
    "            if not pre or pre[1] < s:\n",
    "                ans += 2\n",
    "                pre = [t-1, t]\n",
    "            elif pre[0] < s:\n",
    "\t\t\t\tpre = [pre[1], t]\n",
    "\t\t\t\tans += 1\n",
    "        return ans"
   ]
  }
 ],
 "metadata": {
  "kernelspec": {
   "display_name": "Python 3",
   "language": "python",
   "name": "python3"
  },
  "language_info": {
   "codemirror_mode": {
    "name": "ipython",
    "version": 3
   },
   "file_extension": ".py",
   "mimetype": "text/x-python",
   "name": "python",
   "nbconvert_exporter": "python",
   "pygments_lexer": "ipython3",
   "version": "3.7.6"
  }
 },
 "nbformat": 4,
 "nbformat_minor": 4
}
