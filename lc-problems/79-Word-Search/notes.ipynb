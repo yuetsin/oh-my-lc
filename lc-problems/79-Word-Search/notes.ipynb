{
 "cells": [
  {
   "cell_type": "code",
   "execution_count": null,
   "metadata": {},
   "outputs": [],
   "source": [
    "这题让我想起了大概六年以前（初二那会儿）特别爱玩的游戏叫做 Wordament（Microsoft Wordament®）…\n",
    "不过这里只能横竖走，不让斜 45 度走。"
   ]
  },
  {
   "cell_type": "code",
   "execution_count": null,
   "metadata": {},
   "outputs": [],
   "source": [
    "思路大概还是那个递归，不过得要存储一个 visited 的 set()。用字典和 set() 差不多，应该都会套用 hash table，效率不会低。"
   ]
  },
  {
   "cell_type": "code",
   "execution_count": null,
   "metadata": {},
   "outputs": [],
   "source": [
    "记得每次进入递归函数的时候，把自己放到 visited 里面。\n",
    "如果到最后发现没有，那就把自己从 visited 里面踢出去。\n",
    "否则失败的尝试最后会填满 visited，造成正确的路线被遗漏的情况。"
   ]
  }
 ],
 "metadata": {
  "kernelspec": {
   "display_name": "Python 3",
   "language": "python",
   "name": "python3"
  }
 },
 "nbformat": 4,
 "nbformat_minor": 2
}
