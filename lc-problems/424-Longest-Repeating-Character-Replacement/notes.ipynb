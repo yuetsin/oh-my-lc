{
 "cells": [
  {
   "cell_type": "markdown",
   "metadata": {},
   "source": [
    "# 424 Longest Repeating Character Replacement\n",
    "\n",
    "简而言之…给出一串字符，允许你修改器中 k 个，要制造出最长重复字符列的长度。\n",
    "\n",
    "最简单的思路是，对于每个字符，都列出「间隔|连续长度|间隔|连续长度|间隔」的列，然后从中选择间隔段替换成这个字符，看最多能换出多少。\n",
    "\n",
    "首先，构造一个 dict 来保存每一种 char 出现的个数，并且找到那个出现次数最多的 Char。只对那一种字符试图进行替换。\n",
    "\n",
    "* 就算他们的位置很分散，最后的最佳结果也一定是填补那一种字符产生的。不证明这个结论。\n",
    "\n",
    "然后就是对这一种 char 拆东墙补西墙了。"
   ]
  },
  {
   "cell_type": "code",
   "execution_count": null,
   "metadata": {},
   "outputs": [],
   "source": [
    "def characterReplacement(self, s: str, k: int) -> int:\n",
    "    if not s:\n",
    "        return 0\n",
    "    # 1. keep track of counts per char\n",
    "    d = collections.defaultdict(int)\n",
    "    d[s[0]] += 1\n",
    "    # 2. keep track of count of char with max occurence\n",
    "    max_char_count = 1\n",
    "    # 3. keep track of starting point of sliding window\n",
    "    start = 0\n",
    "    # 4. store the global max sliding window len\n",
    "    max_window_len = 1\n",
    "    for i in range(1, len(s)):\n",
    "        d[s[i]] += 1\n",
    "        # 5. keep count of char with max occurence current\n",
    "        max_char_count = max(max_char_count, d[s[i]])\n",
    "        # 6. at each i we can calculate how many replacements we have used = current_window_size - max_char_count\n",
    "        # if this number if greater than k, we need to move our sliding starting window up one position and substract the that count\n",
    "        while i-start+1-max_char_count > k:\n",
    "            d[s[start]] -= 1\n",
    "            start += 1\n",
    "            # 7. update global max sliding window length\n",
    "        max_window_len = max(max_window_len, i-start+1)\n",
    "    return max_window_len"
   ]
  }
 ],
 "metadata": {
  "kernelspec": {
   "display_name": "Python 3",
   "language": "python",
   "name": "python3"
  },
  "language_info": {
   "codemirror_mode": {
    "name": "ipython",
    "version": 3
   },
   "file_extension": ".py",
   "mimetype": "text/x-python",
   "name": "python",
   "nbconvert_exporter": "python",
   "pygments_lexer": "ipython3",
   "version": "3.7.6"
  }
 },
 "nbformat": 4,
 "nbformat_minor": 2
}
