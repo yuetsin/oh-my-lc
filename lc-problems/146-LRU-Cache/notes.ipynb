{
 "cells": [
  {
   "cell_type": "code",
   "execution_count": null,
   "metadata": {},
   "outputs": [],
   "source": [
    "应该说这题是曾经做过的了……Cache Lab 也实际地用 C 实现了一个 Cache Line。\n",
    "但因为涉及到底层的硬件实现，并没有办法用什么复杂的链表等等来实现；因此只是实现了一个带 counter 的 O(N) TC 版本。"
   ]
  },
  {
   "cell_type": "code",
   "execution_count": null,
   "metadata": {},
   "outputs": [],
   "source": [
    "这里算是更加高层的一个仿真了：要求仅仅使用 O(1) 的时间复杂度来进行运算。那么很简单，直接上链表就可以了吧。\n",
    "另外，Sample Solution 为了加快速度，另用了 Dict 来实现 O(1) 的寻 key。这是很棒的。"
   ]
  },
  {
   "cell_type": "code",
   "execution_count": null,
   "metadata": {},
   "outputs": [],
   "source": [
    "Python 的 dict 也可以直接 len()... 幸福啊。"
   ]
  }
 ],
 "metadata": {
  "kernelspec": {
   "display_name": "Python 3",
   "language": "python",
   "name": "python3"
  }
 },
 "nbformat": 4,
 "nbformat_minor": 2
}
