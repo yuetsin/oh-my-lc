{
 "cells": [
  {
   "cell_type": "code",
   "execution_count": null,
   "metadata": {},
   "outputs": [],
   "source": [
    "好挫败…\n",
    "Runtime: 420 ms, faster than 5.48% of Python3 online submissions for Interleaving String.\n",
    "Memory Usage: 59.9 MB, less than 6.06% of Python3 online submissions for Interleaving String."
   ]
  },
  {
   "cell_type": "code",
   "execution_count": null,
   "metadata": {},
   "outputs": [],
   "source": [
    "老是写出这种 又慢又胖的代码……"
   ]
  },
  {
   "cell_type": "code",
   "execution_count": null,
   "metadata": {},
   "outputs": [],
   "source": [
    "用上了三维 List 来做 DP……居然用了 60 MiB 内存。我可服了。"
   ]
  },
  {
   "cell_type": "code",
   "execution_count": null,
   "metadata": {},
   "outputs": [],
   "source": [
    "但是，其实我们并不需要三维啊！p3 是可以通过 p1 + p2 算出来的。\n",
    "等于我浪费了很多空间和时间。"
   ]
  },
  {
   "cell_type": "code",
   "execution_count": null,
   "metadata": {},
   "outputs": [],
   "source": [
    " bool isInterleave(string s1, string s2, string s3) {\n",
    "    \n",
    "    if(s3.length() != s1.length() + s2.length())\n",
    "        return false;\n",
    "    \n",
    "    bool table[s1.length()+1][s2.length()+1];\n",
    "    \n",
    "    for(int i=0; i<s1.length()+1; i++)\n",
    "        for(int j=0; j< s2.length()+1; j++){\n",
    "            if(i==0 && j==0)\n",
    "                table[i][j] = true;\n",
    "            else if(i == 0)\n",
    "                table[i][j] = ( table[i][j-1] && s2[j-1] == s3[i+j-1]);\n",
    "            else if(j == 0)\n",
    "                table[i][j] = ( table[i-1][j] && s1[i-1] == s3[i+j-1]);\n",
    "            else\n",
    "                table[i][j] = (table[i-1][j] && s1[i-1] == s3[i+j-1] ) || (table[i][j-1] && s2[j-1] == s3[i+j-1] );\n",
    "        }\n",
    "        \n",
    "    return table[s1.length()][s2.length()];\n",
    "}"
   ]
  },
  {
   "cell_type": "code",
   "execution_count": null,
   "metadata": {},
   "outputs": [],
   "source": [
    "这是别人家的 DP…好好学着点。"
   ]
  },
  {
   "cell_type": "code",
   "execution_count": null,
   "metadata": {},
   "outputs": [],
   "source": [
    "最后还是提一句题目吧？一开始理解成 Interleaving 就是 s2 硬塞进 s1 里，或者是反过来。但是他们其实是「你中有我，我中有你」，\n",
    "更精确一点说，「这次你出一个，或者我出一个（实际上可能并不是轮换的次序）」，最后构成 string 3。就是这样的感觉。"
   ]
  }
 ],
 "metadata": {
  "kernelspec": {
   "display_name": "Python 3",
   "language": "python",
   "name": "python3"
  }
 },
 "nbformat": 4,
 "nbformat_minor": 2
}
