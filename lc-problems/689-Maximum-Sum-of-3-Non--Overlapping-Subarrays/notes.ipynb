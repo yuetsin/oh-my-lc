{
 "cells": [
  {
   "cell_type": "markdown",
   "metadata": {},
   "source": [
    "# 689 Maximum Sum of 3 Non-Overlapping Subarrays\n",
    "\n",
    "为什么一个这么 Non-General 的题目会 Hard？\n",
    "\n",
    "@awice 写答案上瘾了。可惜一如既往的没法看。\n",
    "\n",
    "假如他问的是「最大值是多少」而不是「哪几个值构成最大值」，那会更简单的一些。\n",
    "\n",
    "为了减少计算 k-length subarray 的重复计算，我们可以选择用 Sliding Window 来快速算出始于每个点的 k-length subarray 的和。O(N) 的复杂度哟。\n",
    "\n",
    "包围一层的时候，我们可以直接用 max() 求出 pre-sum array 的最大值就好了；\n",
    "但我们用一个 DP0 来记录 nums[:i] 中所能达到的最大值。\n",
    "\n",
    "包围两层的时候，我们需要用上面的 DP0 来算出 DP1。当然，也是 nums[:j] 区间的最大值。\n",
    "\n",
    "最后，我们就直接用 DP1 来找出三个 Array 的情况下的值就好了。\n",
    "\n",
    "留意到我们尽量选择靠前的数组。\n",
    "\n",
    "@awice 的答案只能用于 3 的特殊情况。而且代码风格相当糟糕，混乱且邪恶地混用 `K` 和 `k`。\n",
    "\n",
    "A problem with no solution is better than @awice's solution."
   ]
  }
 ],
 "metadata": {
  "kernelspec": {
   "display_name": "Python 3",
   "language": "python",
   "name": "python3"
  },
  "language_info": {
   "codemirror_mode": {
    "name": "ipython",
    "version": 3
   },
   "file_extension": ".py",
   "mimetype": "text/x-python",
   "name": "python",
   "nbconvert_exporter": "python",
   "pygments_lexer": "ipython3",
   "version": "3.7.6"
  }
 },
 "nbformat": 4,
 "nbformat_minor": 4
}
