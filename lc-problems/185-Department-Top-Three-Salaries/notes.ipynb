{
 "cells": [
  {
   "cell_type": "markdown",
   "metadata": {},
   "source": [
    "# 185\n",
    "\n",
    "emmm... 简单点说，就是各部门工资 DENSE_RANK <= 3 的人的集合打印出来。因为 DENSE RANK 的性质，每个部门可能会有超过三人被打印出来。\n",
    "\n",
    "所以呢你看解答也就是这么个思路：\n",
    "\n",
    "\n",
    "SELECT\n",
    "    d.Name AS 'Department', e1.Name AS 'Employee', e1.Salary\n",
    "FROM\n",
    "    Employee e1\n",
    "        JOIN\n",
    "    Department d ON e1.DepartmentId = d.Id\n",
    "    \n",
    "    -- 以上都是为了打印格式、部门名称的部分，下面才是重点\n",
    "WHERE\n",
    "    3 > (SELECT\n",
    "            COUNT(DISTINCT e2.Salary)\n",
    "        FROM\n",
    "            Employee e2\n",
    "        WHERE\n",
    "            e2.Salary > e1.Salary\n",
    "                AND e1.DepartmentId = e2.DepartmentId\n",
    "        )\n",
    ";\n",
    "\n",
    "SELECT COUNT(DISTINCT Salary) < 3 就说明DENSERANK的排序 <= 3(< 4)。想想为何有这个差别。\n",
    "\n",
    "总之…到此为止吧。SQL 什么的已经不需要了。因为已经没有 Query，值得去做了。"
   ]
  }
 ],
 "metadata": {
  "kernelspec": {
   "display_name": "Python 3",
   "language": "python",
   "name": "python3"
  },
  "language_info": {
   "codemirror_mode": {
    "name": "ipython",
    "version": 3
   },
   "file_extension": ".py",
   "mimetype": "text/x-python",
   "name": "python",
   "nbconvert_exporter": "python",
   "pygments_lexer": "ipython3",
   "version": "3.7.4"
  }
 },
 "nbformat": 4,
 "nbformat_minor": 2
}
