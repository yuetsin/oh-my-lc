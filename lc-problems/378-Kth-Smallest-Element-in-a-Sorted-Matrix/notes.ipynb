{
 "cells": [
  {
   "cell_type": "markdown",
   "metadata": {},
   "source": [
    "# 378\n",
    "\n",
    "bisect 大法好（\n",
    "\n",
    "总归，用二分法可以轻易地找出应该在一个有序数组里的什么位置插入合适。复杂度在 O(N Log N)。\n",
    "\n",
    "The following functions are provided:\n",
    "\n",
    "bisect.bisect_left(a, x, lo=0, hi=len(a))\n",
    "Locate the insertion point for x in a to maintain sorted order. The parameters lo and hi may be used to specify a subset of the list which should be considered; by default the entire list is used. If x is already present in a, the insertion point will be before (to the left of) any existing entries. The return value is suitable for use as the first parameter to list.insert() assuming that a is already sorted.\n",
    "\n",
    "The returned insertion point i partitions the array a into two halves so that all(val < x for val in a[lo:i]) for the left side and all(val >= x for val in a[i:hi]) for the right side.\n",
    "\n",
    "bisect.bisect_right(a, x, lo=0, hi=len(a))\n",
    "bisect.bisect(a, x, lo=0, hi=len(a))\n",
    "Similar to bisect_left(), but returns an insertion point which comes after (to the right of) any existing entries of x in a.\n",
    "\n",
    "The returned insertion point i partitions the array a into two halves so that all(val <= x for val in a[lo:i]) for the left side and all(val > x for val in a[i:hi]) for the right side.\n",
    "\n",
    "bisect.insort_left(a, x, lo=0, hi=len(a))\n",
    "Insert x in a in sorted order. This is equivalent to a.insert(bisect.bisect_left(a, x, lo, hi), x) assuming that a is already sorted. Keep in mind that the O(log n) search is dominated by the slow O(n) insertion step.\n",
    "\n",
    "bisect.insort_right(a, x, lo=0, hi=len(a))\n",
    "bisect.insort(a, x, lo=0, hi=len(a))\n",
    "Similar to insort_left(), but inserting x in a after any existing entries of x.\n",
    "\n",
    "总归，用 bisect(_left/_right) 来找出插入的 Insert point；用insort(_left/_right) 假定原数组有序的情况下去做插入。\n",
    "\n",
    "如果你没保证原数组有序，则上面的结果完全不可预料。\n",
    "\n",
    "Runtime: 380 ms, faster than 8.08% of Python3 online submissions for Kth Smallest Element in a Sorted Matrix.\n",
    "Memory Usage: 20 MB, less than 9.09% of Python3 online submissions for Kth Smallest Element in a Sorted Matrix.\n",
    "\n",
    "当然用 Heap 也是一个道理。"
   ]
  }
 ],
 "metadata": {
  "kernelspec": {
   "display_name": "Python 3",
   "language": "python",
   "name": "python3"
  },
  "language_info": {
   "codemirror_mode": {
    "name": "ipython",
    "version": 3
   },
   "file_extension": ".py",
   "mimetype": "text/x-python",
   "name": "python",
   "nbconvert_exporter": "python",
   "pygments_lexer": "ipython3",
   "version": "3.7.4"
  }
 },
 "nbformat": 4,
 "nbformat_minor": 2
}
