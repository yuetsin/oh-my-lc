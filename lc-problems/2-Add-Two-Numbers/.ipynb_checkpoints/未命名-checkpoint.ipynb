{
 "cells": [
  {
   "cell_type": "code",
   "execution_count": null,
   "metadata": {},
   "outputs": [],
   "source": [
    "# The greatest problem lies in \"Carry\".\n",
    "If two same-position nodes that adds up to 10 or more, it raises an \"carry\".\n",
    "The carry itself might raises another carry in greater bits, so the recursive function might be used.\n",
    "\n",
    "Here's a problem: if we add 5 -> 0 -> 0 + 5 -> 0 -> 0, it would actually cause a new bit to be created.\n",
    "So when we deal with the carry stuff, we must check if it's the peak bit. And if so, we must create a new bit after that one."
   ]
  }
 ],
 "metadata": {
  "kernelspec": {
   "display_name": "Python 3",
   "language": "python",
   "name": "python3"
  }
 },
 "nbformat": 4,
 "nbformat_minor": 2
}
