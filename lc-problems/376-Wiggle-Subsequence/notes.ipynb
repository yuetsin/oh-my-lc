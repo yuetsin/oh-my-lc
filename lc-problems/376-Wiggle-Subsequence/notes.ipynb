{
 "cells": [
  {
   "cell_type": "markdown",
   "metadata": {},
   "source": [
    "# 376\n",
    "\n",
    "谁再出 Wiggle 题我可生气了啊（\n",
    "\n",
    "⬇️Sample⬇️\n",
    "\n",
    "Runtime: 44 ms, faster than 41.72% of Python3 online submissions for Wiggle Subsequence.\n",
    "\n",
    "Memory Usage: 14 MB, less than 10.00% of Python3 online submissions for Wiggle Subsequence."
   ]
  },
  {
   "cell_type": "code",
   "execution_count": null,
   "metadata": {},
   "outputs": [],
   "source": [
    "class Solution:\n",
    "    def wiggleMaxLength(self, nums: List[int]) -> int:\n",
    "        if not nums:\n",
    "            return 0\n",
    "        # index means the index of last num in nums\n",
    "        # flag means 1,-1,up or down\n",
    "        result = 1\n",
    "        index = 0\n",
    "        flag = 0\n",
    "        for i in range(1, len(nums)):\n",
    "            n = nums[i]\n",
    "            n_index = nums[index]\n",
    "            if n > n_index:\n",
    "                index = i\n",
    "                if flag <= 0:\n",
    "                    flag = 1\n",
    "                    result += 1\n",
    "            if n < n_index:\n",
    "                index = i\n",
    "                if flag >= 0:\n",
    "                    flag = -1\n",
    "                    result += 1\n",
    "        return result"
   ]
  },
  {
   "cell_type": "markdown",
   "metadata": {},
   "source": [
    "思路很简单。一遍线性遍历，一路往下走。看有多少位数字是满足 Wiggle 条件的。\n",
    "\n",
    "index 存的是上一次符合条件的 index 位置。"
   ]
  }
 ],
 "metadata": {
  "kernelspec": {
   "display_name": "Python 3",
   "language": "python",
   "name": "python3"
  },
  "language_info": {
   "codemirror_mode": {
    "name": "ipython",
    "version": 3
   },
   "file_extension": ".py",
   "mimetype": "text/x-python",
   "name": "python",
   "nbconvert_exporter": "python",
   "pygments_lexer": "ipython3",
   "version": "3.7.4"
  }
 },
 "nbformat": 4,
 "nbformat_minor": 2
}
