{
 "cells": [
  {
   "cell_type": "markdown",
   "metadata": {},
   "source": [
    "# 672 Bulb Switcher II\n",
    "\n",
    "鬼题。\n",
    "\n",
    "首先，这四个开关的特点都是：Switch 特定位置上的灯泡。因为 Switch 只有两个状态，所以进行奇数次按钮和偶数次按钮根本没有任何影响。\n",
    "\n",
    "再次，我们发现灯泡的起始状态也没有影响。我们做的只是 反转开/关状态而已。只要观察我们对每一个 Light 进行反转次数的可能性数量，就好了。\n",
    "\n",
    "Switcher I - Flip all the lights.\n",
    "Switcher II - Flip lights with even numbers.\n",
    "Switcher III - Flip lights with odd numbers.\n",
    "Switcher IV - Flip lights with (3k + 1) numbers, k = 0, 1, 2, ...\n",
    "\n",
    "所以，I 的规律每 1 个都表现（每个灯都被点亮）；II 和 III 的规律每 2 个表现一次；IV 的规律每 3 个表现一次。\n",
    "\n",
    "所以，我们应该能理解，每六个灯的规律重复一次。\n",
    "\n",
    "记 a, b, c, d 是四个开关被拨动的次数，那么\n",
    "\n",
    "Light 1 = 1 + a + c + d\n",
    "Light 2 = 1 + a + b\n",
    "Light 3 = 1 + a + c\n",
    "Light 4 = 1 + a + b + d\n",
    "Light 5 = 1 + a + c\n",
    "Light 6 = 1 + a + b\n",
    "\n",
    "发现 Light 2, 3 跟 Light 6, 5 也是互相对称的。我们还可以往下压一个，变成\n",
    "\n",
    "Light 1 = 1 + a + c + d\n",
    "Light 2 = 1 + a + b\n",
    "Light 3 = 1 + a + c\n",
    "。\n",
    "\n",
    "所以 n = min(n, 3)，任你有多少盏灯，我最多只看前三盏。\n",
    "\n",
    "然后，我们的问题就极大简化了——只要看 m —— 即拨动开关的次数就好了。\n",
    "\n",
    "m = 0 的时候，显然地只有 1 种情况——您什么也做不了。\n",
    "\n",
    "剩下的情况——我们可以用 Binary Matrix 来观察，可能出现的情况数。"
   ]
  }
 ],
 "metadata": {
  "kernelspec": {
   "display_name": "Python 3",
   "language": "python",
   "name": "python3"
  },
  "language_info": {
   "codemirror_mode": {
    "name": "ipython",
    "version": 3
   },
   "file_extension": ".py",
   "mimetype": "text/x-python",
   "name": "python",
   "nbconvert_exporter": "python",
   "pygments_lexer": "ipython3",
   "version": "3.7.6"
  }
 },
 "nbformat": 4,
 "nbformat_minor": 4
}
