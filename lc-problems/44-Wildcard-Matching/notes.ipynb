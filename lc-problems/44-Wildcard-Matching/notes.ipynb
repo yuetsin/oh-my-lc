{
 "cells": [
  {
   "cell_type": "code",
   "execution_count": null,
   "metadata": {},
   "outputs": [],
   "source": [
    "Well... It seems exactly identical to Problem #10 10 Regular Expression Matching... Just a little different from its RE syntax."
   ]
  },
  {
   "cell_type": "code",
   "execution_count": null,
   "metadata": {},
   "outputs": [],
   "source": [
    "bool isMatch(const char* s, const char* p) {\n",
    "    const char* star = NULL;\n",
    "    const char* ss   = s;\n",
    "    while (*s) {\n",
    "        // advancing both pointers when (both characters match) or ('?' found in pattern)\n",
    "        // note that *p will not advance beyond its length\n",
    "        if ((*p == '?') || (*p == *s)) {\n",
    "            s++;\n",
    "            p++;\n",
    "            continue;\n",
    "        }\n",
    "\n",
    "        // * found in pattern, track index of *, only advancing pattern pointer\n",
    "        if (*p == '*') {\n",
    "            star = p++;\n",
    "            ss   = s;\n",
    "            continue;\n",
    "        }\n",
    "\n",
    "        // current characters didn't match, last pattern pointer was *, current pattern pointer is not *\n",
    "        // only advancing pattern pointer\n",
    "        if (star) {\n",
    "            p = star + 1;\n",
    "            s = ++ss;\n",
    "            continue;\n",
    "        }\n",
    "\n",
    "        // current pattern pointer is not star, last patter pointer was not *\n",
    "        // characters do not match\n",
    "        return false;\n",
    "    }\n",
    "\n",
    "    // check for remaining characters in pattern\n",
    "    while (*p == '*') {\n",
    "        p++;\n",
    "    }\n",
    "\n",
    "    return !*p;\n",
    "}"
   ]
  },
  {
   "cell_type": "code",
   "execution_count": null,
   "metadata": {},
   "outputs": [],
   "source": [
    "The best solution ever seen. O(N) time and O(1) space complexity.\n",
    "Use two pointers to access two strings, and goes on to check the correctness.\n",
    "Much better than my \"split\" of \"*\" idea. That's too slow and awkward."
   ]
  },
  {
   "cell_type": "code",
   "execution_count": null,
   "metadata": {},
   "outputs": [],
   "source": [
    "Migrated that to Python3:"
   ]
  },
  {
   "cell_type": "code",
   "execution_count": null,
   "metadata": {},
   "outputs": [],
   "source": [
    "> Runtime: 56 ms, faster than 100.00% of Python3 online submissions for Wildcard Matching.\n",
    "> Memory Usage: 13.2 MB, less than 66.92% of Python3 online submissions for Wildcard Matching."
   ]
  },
  {
   "cell_type": "code",
   "execution_count": null,
   "metadata": {},
   "outputs": [],
   "source": [
    "class Solution:\n",
    "    def isMatch(self, s: str, p: str) -> bool:\n",
    "        sptr = 0\n",
    "        pptr = 0\n",
    "        starptr = -1\n",
    "        strptr = 0\n",
    "        slen = len(s)\n",
    "        plen = len(p)\n",
    "        s += '.'\n",
    "        p += '.'\n",
    "        \n",
    "        while sptr < slen:\n",
    "            if p[pptr] == '?' or s[sptr] == p[pptr]:\n",
    "                sptr += 1\n",
    "                pptr += 1\n",
    "                continue\n",
    "                \n",
    "            if p[pptr] == '*':\n",
    "                starptr = pptr\n",
    "                pptr += 1\n",
    "                strptr = sptr\n",
    "                continue\n",
    "            \n",
    "            if starptr != -1:\n",
    "                pptr = starptr + 1\n",
    "                strptr += 1\n",
    "                sptr = strptr\n",
    "                continue\n",
    "            \n",
    "            return False\n",
    "        \n",
    "        while p[pptr] == '*':\n",
    "            pptr += 1\n",
    "        \n",
    "        return pptr >= plen"
   ]
  },
  {
   "cell_type": "code",
   "execution_count": null,
   "metadata": {},
   "outputs": [],
   "source": [
    "Brilliant."
   ]
  }
 ],
 "metadata": {
  "kernelspec": {
   "display_name": "Python 3",
   "language": "python",
   "name": "python3"
  }
 },
 "nbformat": 4,
 "nbformat_minor": 2
}
