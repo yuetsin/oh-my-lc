{
 "cells": [
  {
   "cell_type": "code",
   "execution_count": null,
   "metadata": {},
   "outputs": [],
   "source": [
    "我又来复用了（逃"
   ]
  },
  {
   "cell_type": "code",
   "execution_count": null,
   "metadata": {},
   "outputs": [],
   "source": [
    "这次简单了，不用往 list 里面 push 东西，只需要判断是否存在结点，然后设置 max_depth 就好啦。"
   ]
  },
  {
   "cell_type": "code",
   "execution_count": null,
   "metadata": {},
   "outputs": [],
   "source": [
    "> Runtime: 52 ms, faster than 53.58% of Python3 online submissions for Maximum Depth of Binary Tree.\n",
    "> Memory Usage: 16.1 MB, less than 5.13% of Python3 online submissions for Maximum Depth of Binary Tree."
   ]
  },
  {
   "cell_type": "code",
   "execution_count": null,
   "metadata": {},
   "outputs": [],
   "source": [
    "def maxDepth(self, root):\n",
    "    return 1 + max(map(self.maxDepth, (root.left, root.right))) if root else 0"
   ]
  },
  {
   "cell_type": "code",
   "execution_count": null,
   "metadata": {},
   "outputs": [],
   "source": [
    "# 1 liners 在这种时候就有点耍机灵的感觉了…"
   ]
  }
 ],
 "metadata": {
  "kernelspec": {
   "display_name": "Python 3",
   "language": "python",
   "name": "python3"
  }
 },
 "nbformat": 4,
 "nbformat_minor": 2
}
