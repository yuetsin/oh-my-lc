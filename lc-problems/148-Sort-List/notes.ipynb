{
 "cells": [
  {
   "cell_type": "code",
   "execution_count": null,
   "metadata": {},
   "outputs": [],
   "source": [
    "本题跟上一题基本一致，但是要求更加苛刻一些：O(N Log N) 的时间复杂度，O(1) 的空间复杂度。还是个链表。"
   ]
  },
  {
   "cell_type": "code",
   "execution_count": null,
   "metadata": {},
   "outputs": [],
   "source": [
    "基本是采用 MERGE SORT 的变种进行计算。代码如下："
   ]
  },
  {
   "cell_type": "code",
   "execution_count": null,
   "metadata": {},
   "outputs": [],
   "source": [
    "class Solution(object):\n",
    "    def merge(self, h1, h2):\n",
    "        dummy = tail = ListNode(None)\n",
    "        while h1 and h2:\n",
    "            if h1.val < h2.val:\n",
    "                tail.next, tail, h1 = h1, h1, h1.next\n",
    "            else:\n",
    "                tail.next, tail, h2 = h2, h2, h2.next\n",
    "    \n",
    "        tail.next = h1 or h2\n",
    "        return dummy.next\n",
    "    \n",
    "    def sortList(self, head):\n",
    "        if not head or not head.next:\n",
    "            return head\n",
    "    \n",
    "        pre, slow, fast = None, head, head\n",
    "        while fast and fast.next:\n",
    "            pre, slow, fast = slow, slow.next, fast.next.next\n",
    "        pre.next = None\n",
    "\n",
    "        return self.merge(*map(self.sortList, (head, slow)))"
   ]
  },
  {
   "cell_type": "code",
   "execution_count": null,
   "metadata": {},
   "outputs": [],
   "source": [
    "也就是，链表最基本的操作的是「交换」，由小到大进行 Merge 即可。"
   ]
  }
 ],
 "metadata": {
  "kernelspec": {
   "display_name": "Python 3",
   "language": "python",
   "name": "python3"
  }
 },
 "nbformat": 4,
 "nbformat_minor": 2
}
