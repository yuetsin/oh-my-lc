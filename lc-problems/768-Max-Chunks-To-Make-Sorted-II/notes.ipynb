{
 "cells": [
  {
   "cell_type": "markdown",
   "metadata": {},
   "source": [
    "# 768 Max Chunks To Make Sorted II\n",
    "\n",
    "这题跟一般的排序算法不同——他的方法是把原数组分成若干个连续的 Chunks，对每一个进行分别排序，然后按照分割前的顺序组合在一起。\n",
    "\n",
    "那么为了保证算法的有效性，我们就一定要小心地作分割才行。\n",
    "\n",
    "最简单的方法是——不分割，整个 Array 作为一个 Chunk。这当然是可以的。但是，我们还是希望能够尽量让每一次 Sort 粒度更细；对于 O(NLogN) 的排序操作来说，粒度越细，总耗时越短。\n",
    "\n",
    "那么，我们可以采用贪婪算法——既然排序之後，每个数字所在的 Chunk 不会改变（不能挪移到另外一个 Chunk 里头）。那么，我们直接把原始 array 和 sorted array 从头开始进行扫描，假如发现了从上一个 Chunk 结尾到当前位置之前的数字和排序之後的这段区间内的数字完全相同，那么我们就可以把这一段作为一个 Chunk 来存储。\n",
    "\n",
    "注意到数组里是存在重复元素的。因此我们得用一个 List 来存储扫描数字。用有序数组、二分插入的方法可以把时间复杂度降低到 O(N^2)。\n",
    "\n",
    "（比较 array 元素还是需要 O（N）时间呢。）\n",
    "\n",
    "Runtime: 84 ms, faster than 53.74% of Python3 online submissions for Max Chunks To Make Sorted II.\n",
    "\n",
    "Memory Usage: 13.2 MB, less than 100.00% of Python3 online submissions for Max Chunks To Make Sorted II.\n",
    "\n",
    "其实这题不该被归类到 Hard 里的。"
   ]
  }
 ],
 "metadata": {
  "kernelspec": {
   "display_name": "Python 3",
   "language": "python",
   "name": "python3"
  },
  "language_info": {
   "codemirror_mode": {
    "name": "ipython",
    "version": 3
   },
   "file_extension": ".py",
   "mimetype": "text/x-python",
   "name": "python",
   "nbconvert_exporter": "python",
   "pygments_lexer": "ipython3",
   "version": "3.7.6"
  }
 },
 "nbformat": 4,
 "nbformat_minor": 4
}
