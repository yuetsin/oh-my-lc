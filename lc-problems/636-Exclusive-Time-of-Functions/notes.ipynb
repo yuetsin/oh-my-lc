{
 "cells": [
  {
   "cell_type": "markdown",
   "metadata": {},
   "source": [
    "# 636 Exclusive Time of Functions\n",
    "\n",
    "Test Cases 真奇怪…\n",
    "\n",
    "居然还能有同一个 Task 的两段式调度…\n",
    "\n",
    "如果如此的话，那就是次序和结果有关系了…\n",
    "\n",
    "那就不好办了…\n",
    "\n",
    "既然跟顺序有关…那就用 stack 来保存吧。\n",
    "\n",
    "假如拿到一个 start point，那很好；但是遇到了一个 end 的时候，就得从 stack 里面弹出上一位（不一定是自己！可能是别的 task），然后计算这次耗时。\n",
    "\n",
    "这也可以解决 task 多次调度的情况。因为 stack 无记忆，可以多次往 timeSpent 里加。所以不会是个问题。"
   ]
  },
  {
   "cell_type": "code",
   "execution_count": null,
   "metadata": {},
   "outputs": [],
   "source": [
    "class Solution:\n",
    "    def exclusiveTime(self, n: int, logs: List[str]) -> List[int]:\n",
    "        stack = []\n",
    "        result = [0] * n\n",
    "\n",
    "        for processTime in logs:\n",
    "            processId, eventType, time = processTime.split(':')\n",
    "            \n",
    "            if eventType == \"start\":\n",
    "                stack.append([processId, time])\n",
    "            \n",
    "            elif eventType == \"end\":\n",
    "                processId, startTime = stack.pop()\n",
    "                timeSpent = int(time) - int(startTime) + 1 # Add 1 cause 0 is included\n",
    "                result[int(processId)] += timeSpent\n",
    "                \n",
    "                # Decrement time for next process in the stack\n",
    "                if len(stack) != 0:\n",
    "                    nextProcessId, timeSpentByNextProcess = stack[-1] #\n",
    "                    result[int(nextProcessId)] -= timeSpent\n",
    "                    \n",
    "        return result"
   ]
  }
 ],
 "metadata": {
  "kernelspec": {
   "display_name": "Python 3",
   "language": "python",
   "name": "python3"
  },
  "language_info": {
   "codemirror_mode": {
    "name": "ipython",
    "version": 3
   },
   "file_extension": ".py",
   "mimetype": "text/x-python",
   "name": "python",
   "nbconvert_exporter": "python",
   "pygments_lexer": "ipython3",
   "version": "3.7.6"
  }
 },
 "nbformat": 4,
 "nbformat_minor": 4
}
