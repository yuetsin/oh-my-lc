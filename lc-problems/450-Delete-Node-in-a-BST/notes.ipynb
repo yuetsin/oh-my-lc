{
 "cells": [
  {
   "cell_type": "markdown",
   "metadata": {},
   "source": [
    "# 450 Delete Node in a BST\n",
    "\n",
    "BST 要保证的是：所有节点的左儿子都小于她；所有的右儿子都大于它。\n",
    "\n",
    "这里做了一个 Trick：因为在删除的时候可能出现删根这种困难问题，因此添加了一个值为 float(\"-inf\")，没有左儿子，右儿子是 root 的 super root 节点。\n",
    "\n",
    "这样，就能保证 Root 一定不会被删除了。少了一种需要讨论的情况。\n",
    "\n",
    "情况1：结点没有左子树 \n",
    "如图：一棵没有左子树的二叉树 \n",
    " \n",
    "如果在此情况下删除结点，按照结点的位置又可以分为三种处理方式。如下\n",
    "\n",
    "删除根结点：删除根结点也就是删除结点 5，此时只需将根结点指针指向其右子树结点。如下图 \n",
    "\n",
    "\n",
    "删除叶子结点：如果删除的结点是叶子结点也就是结点9，此时只需将父节点指向NULL，如下图 \n",
    "\n",
    "\n",
    "三处中间结点：如果删除的结点是中间结点也就是结点6，此时只要将父节点指向右子结点即可。如下图 \n",
    "\n",
    "\n",
    "情况2：结点没有右子树 \n",
    "如图：一棵没有右子树的二叉树 \n",
    " \n",
    "如果在此情况下删除结点，按照结点的位置也可以分为三种处理方式。它和上面将到的没有左子树的三种情况一样只是左右指针的差异。这里不做过多的赘述。大家自己理解一下。\n",
    "\n",
    "情况3:结点具有左子树也有右子树 \n",
    "如图：如果二叉树是这种情况，其处理不会因为结点的位置不同而不同，但是处理过程就比较复杂。 \n",
    " \n",
    "观察上述二叉树，如果需要删除根结点5，我们若能找到一个结点也就是结点3和7之间，然后将它取代根节点的位置。这样整棵二叉树并不需要太对的搬动就可以完成结点删除的操作。例如：结点4正符合上面的要求，等到删除结点5 后其结构如图 \n",
    " \n",
    "我们可以发现真正删除的结点是原来的结点4，然后将原来根结点的内容5替换为4，就完成了删除的操作，问题是如何找到符合条件的结点4，其实我们观察二叉查找树的特性： \n",
    "其特性如下:\n",
    "\n",
    "每一个结点的值都不同，也就是整棵树中的每一个结点都拥有不同的值\n",
    "每一个结点的数据大于左子树结点（如果有的话）的数据，但是小于右子树的结点（如果有的话）的数据。\n",
    "左右两部分的子树，也是一课二叉查找树。\n",
    "如果想要删除结点后二叉树依然是一棵二叉查找树，可以发现符合这样要求的结点只有两个，那就是4和6.它们是从根结点5的左结点3一直从右子树走到叶子结点和右结点7一直往左子树走一直走到叶子结点。\n",
    "\n",
    "现在我们使用从左子结点开始寻找替换的结点，如果删除的结点是5，就从结点5的左子结点3开始往右子树找，直到达到叶子结点，找到的是结点4。接着删除此结点，其方法和情况1,2相同，最后取代原结点5成为4。\n",
    "\n",
    "如果删除的是结点3，此时左子结点2并没有右子结点，所以符合条件的就是结点2，删除的操作就是成为删除一个没有右子树的结点2，然后将原结点3的值取代成为2.其完整的操作如下图 \n",
    " \n",
    "至于从右子结点开始寻找和替换删除结点值的方法，和从左边结点开始寻找类似…….\n",
    "\n",
    "\n",
    "————————————————\n",
    "版权声明：本文为CSDN博主「zxnsirius」的原创文章，遵循 CC 4.0 BY-SA 版权协议，转载请附上原文出处链接及本声明。\n",
    "原文链接：https://blog.csdn.net/zxnsirius/article/details/52131433"
   ]
  },
  {
   "cell_type": "markdown",
   "metadata": {},
   "source": [
    "这种方式还是不很好。没法做到 O(LogN) 的复杂度。\n",
    "\n",
    "更好的方法是：在利用原有 BST 特性的前提下完成搜索！\n",
    "\n",
    "简单而优美的递归，利用 BST 来做二叉搜索，在找到节点的时候就能删掉他。\n",
    "\n",
    "然后，在需要删除的时候，就只需要不断找出其右节点，然后作 x.right = curr.left；curr.left = root.left 变换。"
   ]
  },
  {
   "cell_type": "code",
   "execution_count": null,
   "metadata": {},
   "outputs": [],
   "source": [
    "        if root is None:\n",
    "            return root\n",
    "        if root.val == key:\n",
    "            if root.left is None:\n",
    "                return root.right\n",
    "            if root.right is None:\n",
    "                return root.left\n",
    "\n",
    "            curr = root.right\n",
    "            x = root.left\n",
    "            while(x.right is not None):\n",
    "                x = x.right\n",
    "            x.right = curr.left\n",
    "            curr.left = root.left\n",
    "            return curr\n",
    "\n",
    "        if root.val > key:\n",
    "            root.left = self.deleteNode(root.left, key)\n",
    "        else:\n",
    "            root.right = self.deleteNode(root.right, key)\n",
    "        return root\n"
   ]
  }
 ],
 "metadata": {
  "kernelspec": {
   "display_name": "Python 3",
   "language": "python",
   "name": "python3"
  },
  "language_info": {
   "codemirror_mode": {
    "name": "ipython",
    "version": 3
   },
   "file_extension": ".py",
   "mimetype": "text/x-python",
   "name": "python",
   "nbconvert_exporter": "python",
   "pygments_lexer": "ipython3",
   "version": "3.7.6"
  }
 },
 "nbformat": 4,
 "nbformat_minor": 2
}
