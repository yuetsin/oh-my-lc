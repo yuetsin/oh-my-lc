{
 "cells": [
  {
   "cell_type": "markdown",
   "metadata": {},
   "source": [
    "# 190\n",
    "\n",
    "比较简单的题。因为跟 bit 操作有关，就不用 Python 写了，用 C/C++ 舒服点。\n",
    "\n",
    "Runtime: 4 ms, faster than 67.89% of C++ online submissions for Reverse Bits.\n",
    "Memory Usage: 8.2 MB, less than 75.00% of C++ online submissions for Reverse Bits.\n",
    "\n",
    "不过有一点忘了浪费了点时间：uint32 << i 并不是一个施加在 uint32 上的操作，而是把它左移之后的结果算出来，等待你赋值。\n",
    "（大概是 cout << 用多了，跟流提取／流插入操作符搞混了）\n",
    "\n",
    "要是在本地写代码，肯定报 unused_expression 警告了…\n",
    "\n",
    "另外，根据 C++ 的标准，无符号数(unsigned) 右移的时候，总是使用逻辑右移，即使用 0 补高位。\n",
    "有符号数则视具体平台而定。也就是…不可移植。Fine。"
   ]
  },
  {
   "cell_type": "markdown",
   "metadata": {},
   "source": [
    "class Solution {\n",
    "public:\n",
    "    uint32_t reverseBits(uint32_t n) {\n",
    "        n = (n >> 16) | (n << 16);\n",
    "        n = ((n & 0xff00ff00) >> 8) | ((n & 0x00ff00ff) << 8);\n",
    "        n = ((n & 0xf0f0f0f0) >> 4) | ((n & 0x0f0f0f0f) << 4);\n",
    "        n = ((n & 0xcccccccc) >> 2) | ((n & 0x33333333) << 2);\n",
    "        n = ((n & 0xaaaaaaaa) >> 1) | ((n & 0x55555555) << 1);\n",
    "        return n;\n",
    "    }\n",
    "};\n",
    "\n",
    "最后…这个O(1) 时间复杂度的我得拿出来说说。\n",
    "\n",
    "不过说到底…大家不都是 O(1) 吗。给出来的数字是定长的 32 位。\n",
    "\n",
    "author: @tworuler\n",
    "367\n",
    "Last Edit: October 16, 2018 2:41 AM\n",
    "52.0K VIEWS\n",
    "\n",
    "for 8 bit binary number abcdefgh, the process is as follow:\n",
    "\n",
    "abcdefgh -> efghabcd -> ghefcdab -> hgfedcba"
   ]
  }
 ],
 "metadata": {
  "kernelspec": {
   "display_name": "Python 3",
   "language": "python",
   "name": "python3"
  },
  "language_info": {
   "codemirror_mode": {
    "name": "ipython",
    "version": 3
   },
   "file_extension": ".py",
   "mimetype": "text/x-python",
   "name": "python",
   "nbconvert_exporter": "python",
   "pygments_lexer": "ipython3",
   "version": "3.7.4"
  }
 },
 "nbformat": 4,
 "nbformat_minor": 2
}
