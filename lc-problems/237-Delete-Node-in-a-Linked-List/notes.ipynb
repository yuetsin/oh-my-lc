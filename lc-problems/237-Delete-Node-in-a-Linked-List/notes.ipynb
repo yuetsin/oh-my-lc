{
 "cells": [
  {
   "cell_type": "markdown",
   "metadata": {},
   "source": [
    "# 238\n",
    "\n",
    "这题有点 为了 tricky 而…\n",
    "\n",
    "只告诉你一个 Node* ，让你删了它。但又保证了他不是尾巴上的那一个。\n",
    "\n",
    "class Solution:\n",
    "    def deleteNode(self, node):\n",
    "        \"\"\"\n",
    "        :type node: ListNode\n",
    "        :rtype: void Do not return anything, modify node in-place instead.\n",
    "        \"\"\"\n",
    "        newval = node.next.val\n",
    "        node.next = node.next.next\n",
    "        node.val = newval\n",
    "        \n",
    "把自己变成下一个，然后把它丢掉（如果是 C/C++ 还得 delete ptr）\n",
    "\n",
    "不是很有意思…"
   ]
  }
 ],
 "metadata": {
  "kernelspec": {
   "display_name": "Python 3",
   "language": "python",
   "name": "python3"
  },
  "language_info": {
   "codemirror_mode": {
    "name": "ipython",
    "version": 3
   },
   "file_extension": ".py",
   "mimetype": "text/x-python",
   "name": "python",
   "nbconvert_exporter": "python",
   "pygments_lexer": "ipython3",
   "version": "3.7.4"
  }
 },
 "nbformat": 4,
 "nbformat_minor": 2
}
