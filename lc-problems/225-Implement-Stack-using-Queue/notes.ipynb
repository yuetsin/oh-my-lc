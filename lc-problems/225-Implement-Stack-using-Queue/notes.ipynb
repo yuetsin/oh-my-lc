{
 "cells": [
  {
   "cell_type": "markdown",
   "metadata": {},
   "source": [
    "# 225\n",
    "\n",
    "Runtime: 40 ms, faster than 26.34% of Python3 online submissions for Implement Stack using Queues.\n",
    "Memory Usage: 13.9 MB, less than 20.00% of Python3 online submissions for Implement Stack using Queues.\n",
    "\n",
    "用 Python 写这种题目…几乎没有什么伸展空间…\n",
    "\n",
    "你要是用 List 吧，那几个函数都给你封装好了，你难道自己实现一遍吗（那也花不了多少时间）\n",
    "\n",
    "你要是不用 List 吧，又没有指针和 malloc，你自己实现也没法弄\n",
    "\n",
    "就 挺没意思的"
   ]
  },
  {
   "cell_type": "code",
   "execution_count": null,
   "metadata": {},
   "outputs": [],
   "source": [
    "class Stack {\n",
    "public:\n",
    "\tqueue<int> que;\n",
    "\t// Push element x onto stack.\n",
    "\tvoid push(int x) {\n",
    "\t\tque.push(x);\n",
    "\t\tfor(int i=0;i<que.size()-1;++i){\n",
    "\t\t\tque.push(que.front());\n",
    "\t\t\tque.pop();\n",
    "\t\t}\n",
    "\t}\n",
    "\n",
    "\t// Removes the element on top of the stack.\n",
    "\tvoid pop() {\n",
    "\t\tque.pop();\n",
    "\t}\n",
    "\n",
    "\t// Get the top element.\n",
    "\tint top() {\n",
    "\t\treturn que.front();\n",
    "\t}\n",
    "\n",
    "\t// Return whether the stack is empty.\n",
    "\tbool empty() {\n",
    "\t\treturn que.empty();\n",
    "\t}\n",
    "};"
   ]
  },
  {
   "cell_type": "markdown",
   "metadata": {},
   "source": [
    "好嘛 连 C++ 都这样……\n",
    "\n",
    "引用一句 Sample Solution 的 Comment：\n",
    "@jli794\n",
    "I think this is the best solution. Also shows why simulating stack with queue is simply a dumb idea."
   ]
  }
 ],
 "metadata": {
  "kernelspec": {
   "display_name": "Python 3",
   "language": "python",
   "name": "python3"
  },
  "language_info": {
   "codemirror_mode": {
    "name": "ipython",
    "version": 3
   },
   "file_extension": ".py",
   "mimetype": "text/x-python",
   "name": "python",
   "nbconvert_exporter": "python",
   "pygments_lexer": "ipython3",
   "version": "3.7.4"
  }
 },
 "nbformat": 4,
 "nbformat_minor": 2
}
