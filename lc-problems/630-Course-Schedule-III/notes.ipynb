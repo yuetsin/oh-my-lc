{
 "cells": [
  {
   "cell_type": "markdown",
   "metadata": {},
   "source": [
    "# 630 Course Schedule III\n",
    "\n",
    "> 三连 Hard 哭了\n",
    "\n",
    "还是说说吧…这题。要尽可能多地上课，课程由一个 Tuple 定义：一个 duration，和一个 deadline。\n",
    "\n",
    "也就是一个 Deadline 模型啦。Xia YB 说过，Deadline 模型可以用贪婪匹配法来做：按照距离 Deadline 的远近开始做。\n",
    "\n",
    "先做那些 Deadline 早的；假如发现一个 Deadline 时间不足了，那么就从之前学过的课程里删除那个耗时最长的。假如你就是耗时最长的，那就别学这个了，走下一个。\n",
    "\n",
    "为什么这种方法是正确且安全的？首先，删除那个耗时最长的课程一定是不会延长当前的学习时间的（因为总是删除最耗时的那门课。），所以原有的 Deadline 满足关系不会被破坏；而且，这门课的 Deadline 一定比后面的课要早，所以不可能还有机会去再学习它。可以把它抛弃。\n",
    "\n",
    "就这么简单。"
   ]
  }
 ],
 "metadata": {
  "kernelspec": {
   "display_name": "Python 3",
   "language": "python",
   "name": "python3"
  },
  "language_info": {
   "codemirror_mode": {
    "name": "ipython",
    "version": 3
   },
   "file_extension": ".py",
   "mimetype": "text/x-python",
   "name": "python",
   "nbconvert_exporter": "python",
   "pygments_lexer": "ipython3",
   "version": "3.7.6"
  }
 },
 "nbformat": 4,
 "nbformat_minor": 4
}
