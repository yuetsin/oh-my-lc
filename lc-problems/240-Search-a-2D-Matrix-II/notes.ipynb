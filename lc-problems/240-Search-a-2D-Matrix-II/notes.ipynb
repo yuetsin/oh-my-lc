{
 "cells": [
  {
   "cell_type": "markdown",
   "metadata": {},
   "source": [
    "# 240\n",
    "\n",
    "非常怀疑这题能不能被称得上是 Medium…\n",
    "\n",
    "如果要成为一道 Medium，总得把条件弄苛刻一点吧（\n",
    "\n",
    "P.S. 没有发现什么 Comments 区的回答…大概是大家都不太看得起这种题吧（"
   ]
  }
 ],
 "metadata": {
  "kernelspec": {
   "display_name": "Python 3",
   "language": "python",
   "name": "python3"
  },
  "language_info": {
   "codemirror_mode": {
    "name": "ipython",
    "version": 3
   },
   "file_extension": ".py",
   "mimetype": "text/x-python",
   "name": "python",
   "nbconvert_exporter": "python",
   "pygments_lexer": "ipython3",
   "version": "3.7.4"
  }
 },
 "nbformat": 4,
 "nbformat_minor": 2
}
