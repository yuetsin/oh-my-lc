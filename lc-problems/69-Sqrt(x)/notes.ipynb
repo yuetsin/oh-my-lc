{
 "cells": [
  {
   "cell_type": "code",
   "execution_count": null,
   "metadata": {},
   "outputs": [],
   "source": [
    "I always think the tricky way solving problem is immoral. That's alike an abuse of standard library authors. (But that feels good ya)"
   ]
  },
  {
   "cell_type": "code",
   "execution_count": null,
   "metadata": {},
   "outputs": [],
   "source": [
    "Say it right. The correct way to solve this problem might be using the Newton's technique."
   ]
  },
  {
   "cell_type": "code",
   "execution_count": null,
   "metadata": {},
   "outputs": [],
   "source": [
    " r = x\n",
    "    while r*r > x:\n",
    "        r = (r + x/r) / 2\n",
    "    return r"
   ]
  },
  {
   "cell_type": "code",
   "execution_count": null,
   "metadata": {},
   "outputs": [],
   "source": [
    "求 Sqrt(x) 等于是求 x ^ 2 == 0 方程正根的整数部分。牛顿法的切线逼近保证了 bias 一定偏向其中一个方向，因此不用担心产生一念之差的情况。"
   ]
  },
  {
   "cell_type": "code",
   "execution_count": null,
   "metadata": {},
   "outputs": [],
   "source": [
    "啊～写中文太爽了"
   ]
  }
 ],
 "metadata": {
  "kernelspec": {
   "display_name": "Python 3",
   "language": "python",
   "name": "python3"
  }
 },
 "nbformat": 4,
 "nbformat_minor": 2
}
