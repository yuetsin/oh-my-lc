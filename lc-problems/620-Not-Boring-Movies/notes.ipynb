{
 "cells": [
  {
   "cell_type": "markdown",
   "metadata": {},
   "source": [
    "# 620 Not Boring Movies\n",
    "\n",
    "Runtime: 124 ms, faster than 99.24% of MySQL online submissions for Not Boring Movies.\n",
    "\n",
    "Memory Usage: 0B, less than 100.00% of MySQL online submissions for Not Boring Movies.\n",
    "\n",
    "这种题目有什么意义吗？"
   ]
  }
 ],
 "metadata": {
  "kernelspec": {
   "display_name": "Python 3",
   "language": "python",
   "name": "python3"
  },
  "language_info": {
   "codemirror_mode": {
    "name": "ipython",
    "version": 3
   },
   "file_extension": ".py",
   "mimetype": "text/x-python",
   "name": "python",
   "nbconvert_exporter": "python",
   "pygments_lexer": "ipython3",
   "version": "3.7.6"
  }
 },
 "nbformat": 4,
 "nbformat_minor": 4
}
