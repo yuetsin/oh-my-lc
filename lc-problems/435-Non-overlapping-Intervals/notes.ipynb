{
 "cells": [
  {
   "cell_type": "markdown",
   "metadata": {},
   "source": [
    "# 435 Non-overlapping Intervals\n",
    "\n",
    "让我很伤心的是，有很多 Sample 甚至是 Solution，都是只管给出对的事情而不管证明的。\n",
    "\n",
    "像是这一题……贪婪法的结果是对的。但是呢…一句话也不给证明。\n",
    "\n",
    "做法就是提前把 intervals 按照 start 点来排序，然后遇到 Overlap 则选择去除 End 靠前的那位。\n",
    "\n",
    "这为什么能是对的…"
   ]
  },
  {
   "cell_type": "code",
   "execution_count": null,
   "metadata": {},
   "outputs": [],
   "source": [
    "class Solution:\n",
    "    def eraseOverlapIntervals(self, intervals: List[List[int]]) -> int:\n",
    "#         hashable_intervals = []\n",
    "#         for interval in intervals:\n",
    "#             # assert(len(interval) == 2)\n",
    "#             hashable_intervals.append((interval[0], interval[1]))\n",
    "        intervals.sort() #sort start\n",
    "        count = -1\n",
    "        smallerEnd = float('inf')\n",
    "        for a, b in intervals:\n",
    "            if smallerEnd > a: #overlap\n",
    "                count += 1\n",
    "                smallerEnd = min(smallerEnd,b)\n",
    "            else: \n",
    "                smallerEnd = b\n",
    "        return max(0, count)"
   ]
  }
 ],
 "metadata": {
  "kernelspec": {
   "display_name": "Python 3",
   "language": "python",
   "name": "python3"
  },
  "language_info": {
   "codemirror_mode": {
    "name": "ipython",
    "version": 3
   },
   "file_extension": ".py",
   "mimetype": "text/x-python",
   "name": "python",
   "nbconvert_exporter": "python",
   "pygments_lexer": "ipython3",
   "version": "3.7.6"
  }
 },
 "nbformat": 4,
 "nbformat_minor": 2
}
