{
 "cells": [
  {
   "cell_type": "markdown",
   "metadata": {},
   "source": [
    "# 331\n",
    "\n",
    "Runtime: 44 ms, faster than 49.37% of Python3 online submissions for Verify Preorder Serialization of a Binary Tree.\n",
    "\n",
    "Memory Usage: 13.6 MB, less than 25.00% of Python3 online submissions for Verify Preorder Serialization of a Binary Tree.\n",
    "\n",
    "用了个比较慢的递归；其实如果用 Stack 会快一点。\n",
    "\n",
    "甚至还可以干脆不用 Stack：一个遍历搞定；记录下深度就是了。"
   ]
  },
  {
   "cell_type": "code",
   "execution_count": null,
   "metadata": {},
   "outputs": [],
   "source": [
    "class Solution(object):\n",
    "    def isValidSerialization(self, preorder):\n",
    "        \"\"\"\n",
    "        :type preorder: str\n",
    "        :rtype: bool\n",
    "        \"\"\"\n",
    "        preorder = preorder.split(',')\n",
    "        N = len(preorder)\n",
    "        cnt = 0\n",
    "        for i in range(N-1, -1, -1):\n",
    "            if preorder[i] == '#':\n",
    "                cnt += 1\n",
    "            else:\n",
    "                if cnt <= 1:\n",
    "                    return False\n",
    "                cnt -= 1\n",
    "        return cnt == 1"
   ]
  }
 ],
 "metadata": {
  "kernelspec": {
   "display_name": "Python 3",
   "language": "python",
   "name": "python3"
  },
  "language_info": {
   "codemirror_mode": {
    "name": "ipython",
    "version": 3
   },
   "file_extension": ".py",
   "mimetype": "text/x-python",
   "name": "python",
   "nbconvert_exporter": "python",
   "pygments_lexer": "ipython3",
   "version": "3.7.4"
  }
 },
 "nbformat": 4,
 "nbformat_minor": 2
}
