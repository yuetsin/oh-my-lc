{
 "cells": [
  {
   "cell_type": "markdown",
   "metadata": {},
   "source": [
    "# 690 Employee Importance\n",
    "\n",
    "Runtime: 168 ms, faster than 36.84% of Python3 online submissions for Employee Importance.\n",
    "\n",
    "Memory Usage: 13.8 MB, less than 100.00% of Python3 online submissions for Employee Importance.\n",
    "\n",
    "你这个跟「Sum Up N-ary Tree」不是一回事吗？\n",
    "\n",
    "有什么意义呢？"
   ]
  }
 ],
 "metadata": {
  "kernelspec": {
   "display_name": "Python 3",
   "language": "python",
   "name": "python3"
  },
  "language_info": {
   "codemirror_mode": {
    "name": "ipython",
    "version": 3
   },
   "file_extension": ".py",
   "mimetype": "text/x-python",
   "name": "python",
   "nbconvert_exporter": "python",
   "pygments_lexer": "ipython3",
   "version": "3.7.6"
  }
 },
 "nbformat": 4,
 "nbformat_minor": 4
}
