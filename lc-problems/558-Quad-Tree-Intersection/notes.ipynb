{
 "cells": [
  {
   "cell_type": "markdown",
   "metadata": {},
   "source": [
    "# 558 Quad Tree Intersection\n",
    "\n",
    "我这个解是错的…因为没有 Coalesce 那些相同的叶子。所以结果是通不过 Tests 的。\n",
    "\n",
    "实在要进行一次 DFS 的合并也不是不行。但是，能一次遍历做好的事情，何必要做第二次呢？\n",
    "\n",
    "我们可以提升一点高度。既然直接 call 递归无法做 Coalesce，那我们就手动 call 并记录返回值，\n",
    "\n",
    "假如得到的结果是四片相同值的叶子，那么直接合并返回。"
   ]
  }
 ],
 "metadata": {
  "kernelspec": {
   "display_name": "Python 3",
   "language": "python",
   "name": "python3"
  },
  "language_info": {
   "codemirror_mode": {
    "name": "ipython",
    "version": 3
   },
   "file_extension": ".py",
   "mimetype": "text/x-python",
   "name": "python",
   "nbconvert_exporter": "python",
   "pygments_lexer": "ipython3",
   "version": "3.7.6"
  }
 },
 "nbformat": 4,
 "nbformat_minor": 4
}
