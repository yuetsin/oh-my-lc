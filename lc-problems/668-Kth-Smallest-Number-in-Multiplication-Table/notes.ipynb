{
 "cells": [
  {
   "cell_type": "markdown",
   "metadata": {},
   "source": [
    "# 668 Kth Smallest Number in Multiplication Table\n",
    "\n",
    "不愧是中国人（对，又是@南条爱乃）出的题（\n",
    "\n",
    "乘法口诀表挺上口的。可惜如果这乘法表是 30000 × 30000 的话，就不是那么容易了。\n",
    "\n",
    "首先，如果暴力地把这张表打出来（最好别这么做。），你得花费接近 1 GiB 的内存才能把它装下，还需要对九亿个数进行排序。\n",
    "\n",
    "1 liner 可能会这么写：`table = [i*j for i in range(1, m+1) for j in range(1, n+1)]`\n",
    "\n",
    "这个爆的都不是 TLE 了，是 MLE（Memory Limit Exceeded）。\n",
    "\n",
    "如果我们投机一点，在 k < m * n // 2 的时候用最小堆、在 k > m * n // 2 的时候用最大堆来存储数据，情况还是没有好转。空间复杂度还是 O(M * N)，况且还在上面的基础上平添了 O(LogN) 倍的时间复杂度。\n",
    "\n",
    "也不成。\n",
    "\n",
    "最后我们还是得用 Binary Search。\n",
    "\n",
    "因为有个性质：我们可以在 O(m) 的时间内判断 x 这个数的位次是否达到了 k。\n",
    "\n",
    "也就是，x 是否足够大，以便小于等于他的数字的个数达到了 k。\n",
    "\n",
    "怎么判断呢？乘法口诀表中，小于等于 x 的数字的求和，是多少呢？\n",
    "\n",
    "对于 1 ～ m 的每一个因数，有最多 x // i 个数字可以跟他乘。但是也不能超过 n 啊，所以是 `count += min(x // i, n)`。\n",
    "\n",
    "然后，我们只需要使用一个从小到大搜索的二分法就可以用 O（M Log (M * N) 的时间解决问题了。\n",
    "\n",
    "> 发现 @awice 不仅英文磕磕巴巴，连 LaTeX 也不太会打（你怎么能打出 $2 * i$ 这种公式？）"
   ]
  }
 ],
 "metadata": {
  "kernelspec": {
   "display_name": "Python 3",
   "language": "python",
   "name": "python3"
  },
  "language_info": {
   "codemirror_mode": {
    "name": "ipython",
    "version": 3
   },
   "file_extension": ".py",
   "mimetype": "text/x-python",
   "name": "python",
   "nbconvert_exporter": "python",
   "pygments_lexer": "ipython3",
   "version": "3.7.6"
  }
 },
 "nbformat": 4,
 "nbformat_minor": 4
}
