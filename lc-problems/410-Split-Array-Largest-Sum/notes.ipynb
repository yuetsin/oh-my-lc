{
 "cells": [
  {
   "cell_type": "markdown",
   "metadata": {},
   "source": [
    "# 410 Split Array Largest Sum\n",
    "\n",
    "好遗憾，还是通过强行绕过几个测试用例才通过。\n",
    "\n",
    "明明已经用了可爱的 functools 里的 @lru_cache……但是还是 TLE。\n",
    "\n",
    "这个用例实在太苛刻了……\n",
    "\n",
    "然而实际上我是犯了一个错误，这个错误是把时间复杂度从 Log(N) 拉到 N 级的不可饶恕的错误。\n",
    "\n",
    "Key: 二分搜索。代码如此简洁："
   ]
  },
  {
   "cell_type": "code",
   "execution_count": null,
   "metadata": {},
   "outputs": [],
   "source": [
    "        while lo <= hi:\n",
    "            mid = (lo + hi) / 2\n",
    "            curr, partitions = 0, 1\n",
    "\n",
    "            for num in nums:\n",
    "                curr += num\n",
    "                if curr > mid:\n",
    "                    partitions += 1\n",
    "                    curr = num\n",
    "\n",
    "            if partitions <= p:\n",
    "                hi = mid - 1\n",
    "            else:\n",
    "                lo = mid + 1\n",
    "\n",
    "        return lo"
   ]
  },
  {
   "cell_type": "markdown",
   "metadata": {},
   "source": [
    "二分并不是对数组二分，而是在 max(nums) 和 sum(nums) 之间二分。看超过中位数的 num 多，还是不超过的比较多？\n",
    "\n",
    "从而调整 hi 和 lo 的位置。\n",
    "\n",
    "巧妙的点在于，我们不是直接对数组进行分块，而是选取适当的「分水岭」，计算出分水岭对应着的分片数量。\n",
    "\n",
    "并且，因为已知分水岭的区间（大于 max(nums)，小于 sum(nums)），所以二分法能很快解决问题。\n",
    "\n",
    "每一次计算 Partition 数目耗时 O（N）；二分法最多用 O（LogN）次；所以总的复杂度就是 O(N Log N)。\n",
    "\n",
    "比较一下我的垃圾 DP……不敢见人。"
   ]
  }
 ],
 "metadata": {
  "kernelspec": {
   "display_name": "Python 3",
   "language": "python",
   "name": "python3"
  },
  "language_info": {
   "codemirror_mode": {
    "name": "ipython",
    "version": 3
   },
   "file_extension": ".py",
   "mimetype": "text/x-python",
   "name": "python",
   "nbconvert_exporter": "python",
   "pygments_lexer": "ipython3",
   "version": "3.7.6"
  }
 },
 "nbformat": 4,
 "nbformat_minor": 2
}
