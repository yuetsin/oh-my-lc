{
 "cells": [
  {
   "cell_type": "code",
   "execution_count": null,
   "metadata": {},
   "outputs": [],
   "source": [
    "我的馊主意#1：把所有的不满的二叉树的地方全部填充上空值，然后在连接的过程中跳过这些点，来实现这个效果。"
   ]
  },
  {
   "cell_type": "code",
   "execution_count": null,
   "metadata": {},
   "outputs": [],
   "source": [
    "然而事情并不简单…填满之后还要清除这些内容…相当费劲儿。总之为了复用 #116，不值得这么干。\n",
    "\n",
    "我们还是想想别的办法？"
   ]
  }
 ],
 "metadata": {
  "kernelspec": {
   "display_name": "Python 3",
   "language": "python",
   "name": "python3"
  }
 },
 "nbformat": 4,
 "nbformat_minor": 2
}
