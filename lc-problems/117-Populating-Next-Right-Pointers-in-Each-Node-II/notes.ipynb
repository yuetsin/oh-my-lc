{
 "cells": [
  {
   "cell_type": "code",
   "execution_count": null,
   "metadata": {},
   "outputs": [],
   "source": [
    "我的馊主意#1：把所有的不满的二叉树的地方全部填充上空值，然后在连接的过程中跳过这些点，来实现这个效果。"
   ]
  },
  {
   "cell_type": "code",
   "execution_count": null,
   "metadata": {},
   "outputs": [],
   "source": [
    "然而事情并不简单…填满之后还要清除这些内容…相当费劲儿。总之为了复用 #116，不值得这么干。\n",
    "\n",
    "我们还是想想别的办法？"
   ]
  },
  {
   "cell_type": "code",
   "execution_count": null,
   "metadata": {},
   "outputs": [],
   "source": [
    "事实上，更好的办法是在「给下一层的 Nodes 设定 next」的过程中，跳过那些为 None 的节点，一步到位设定好，\n",
    "\n",
    "下一步还可以开开心心地用 Node.next。是不是？"
   ]
  },
  {
   "cell_type": "code",
   "execution_count": null,
   "metadata": {},
   "outputs": [],
   "source": [
    "考虑到中间可能出现空穴，我们的「判断是否到了叶子」也不能和 cur.left != None 等价了。"
   ]
  },
  {
   "cell_type": "code",
   "execution_count": null,
   "metadata": {},
   "outputs": [],
   "source": [
    "我们要找到下一层的最左边 Node，那么我们也就没有简单的方式（cur = cur.left）到下一层了。\n",
    "所以我们就一个个按照 pre = pre.next 遍历，从左儿子到右儿子一个个找。找到就去下一层。"
   ]
  },
  {
   "cell_type": "code",
   "execution_count": null,
   "metadata": {},
   "outputs": [],
   "source": [
    "while True:\n",
    "    expect = pre.left\n",
    "    if expect == None:\n",
    "        expect = pre.right\n",
    "        if expect == None:\n",
    "            pre = pre.next\n",
    "        else:\n",
    "            break\n",
    "    else:\n",
    "        break\n",
    "pre = expect"
   ]
  },
  {
   "cell_type": "code",
   "execution_count": null,
   "metadata": {},
   "outputs": [],
   "source": [
    "> Runtime: 164 ms, faster than 96.13% of Python3 online submissions for Populating Next Right Pointers in Each Node II.\n",
    "> Memory Usage: 22.4 MB, less than 81.71% of Python3 online submissions for Populating Next Right Pointers in Each Node II."
   ]
  }
 ],
 "metadata": {
  "kernelspec": {
   "display_name": "Python 3",
   "language": "python",
   "name": "python3"
  }
 },
 "nbformat": 4,
 "nbformat_minor": 2
}
