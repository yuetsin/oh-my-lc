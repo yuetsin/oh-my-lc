{
 "cells": [
  {
   "cell_type": "markdown",
   "metadata": {},
   "source": [
    "# 398\n",
    "\n",
    "既然沒人想要修改傳入的 List，那我直接存一個亂序的 Index，按照這個順序來遍歷原來的 List，找出真正的 Index 返回就好了吧。\n",
    "\n",
    "\n",
    "Runtime: 376 ms, faster than 34.38% of Python3 online submissions for Random Pick Index.\n",
    "\n",
    "Memory Usage: 17.7 MB, less than 33.33% of Python3 online submissions for Random Pick Index."
   ]
  }
 ],
 "metadata": {
  "kernelspec": {
   "display_name": "Python 3",
   "language": "python",
   "name": "python3"
  },
  "language_info": {
   "codemirror_mode": {
    "name": "ipython",
    "version": 3
   },
   "file_extension": ".py",
   "mimetype": "text/x-python",
   "name": "python",
   "nbconvert_exporter": "python",
   "pygments_lexer": "ipython3",
   "version": "3.7.4"
  }
 },
 "nbformat": 4,
 "nbformat_minor": 2
}
