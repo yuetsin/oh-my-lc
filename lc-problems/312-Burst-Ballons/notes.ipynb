{
 "cells": [
  {
   "cell_type": "markdown",
   "metadata": {},
   "source": [
    "# 312\n",
    "\n",
    "TLE 日常…\n",
    "\n",
    "甚至 32 / 70 就把我给 TLE 了…\n",
    "\n",
    "[8,2,6,8,9,8,1,4,1,5,3,0,7,7,0,4,2,2,5]\n",
    "\n",
    "如此简单的 TestCase 都爆炸了…\n",
    "\n",
    "（自信心丧失）\n",
    "\n"
   ]
  }
 ],
 "metadata": {
  "kernelspec": {
   "display_name": "Python 3",
   "language": "python",
   "name": "python3"
  },
  "language_info": {
   "codemirror_mode": {
    "name": "ipython",
    "version": 3
   },
   "file_extension": ".py",
   "mimetype": "text/x-python",
   "name": "python",
   "nbconvert_exporter": "python",
   "pygments_lexer": "ipython3",
   "version": "3.7.4"
  }
 },
 "nbformat": 4,
 "nbformat_minor": 2
}
