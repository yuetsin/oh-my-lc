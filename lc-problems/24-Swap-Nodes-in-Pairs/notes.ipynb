{
 "cells": [
  {
   "cell_type": "code",
   "execution_count": null,
   "metadata": {},
   "outputs": [],
   "source": [
    "Here I didn't use the \"Nodelist Reverse\" method but use simpler \"Node Swap\" method.\n",
    "That means you would come with much more difficulty fighting with Problem #25... Just go and see."
   ]
  }
 ],
 "metadata": {
  "kernelspec": {
   "display_name": "Python 3",
   "language": "python",
   "name": "python3"
  }
 },
 "nbformat": 4,
 "nbformat_minor": 2
}
