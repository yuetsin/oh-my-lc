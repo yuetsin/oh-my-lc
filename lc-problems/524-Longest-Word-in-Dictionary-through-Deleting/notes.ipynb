{
 "cells": [
  {
   "cell_type": "markdown",
   "metadata": {},
   "source": [
    "# 524 Longest Word in Dictionary through Deleting\n",
    "\n",
    "Runtime: 448 ms, faster than 50.74% of Python3 online submissions for Longest Word in Dictionary through Deleting.\n",
    "\n",
    "Memory Usage: 14.7 MB, less than 25.00% of Python3 online submissions for Longest Word in Dictionary through Deleting.\n",
    "\n",
    "一个小小坑：Example 里的 d 都是排序好的，题目里却从来没说过这一点。可惜 Test Cases 里却不是。\n",
    "\n",
    "sort 一下就好了。"
   ]
  }
 ],
 "metadata": {
  "kernelspec": {
   "display_name": "Python 3",
   "language": "python",
   "name": "python3"
  },
  "language_info": {
   "codemirror_mode": {
    "name": "ipython",
    "version": 3
   },
   "file_extension": ".py",
   "mimetype": "text/x-python",
   "name": "python",
   "nbconvert_exporter": "python",
   "pygments_lexer": "ipython3",
   "version": "3.7.6"
  }
 },
 "nbformat": 4,
 "nbformat_minor": 4
}
