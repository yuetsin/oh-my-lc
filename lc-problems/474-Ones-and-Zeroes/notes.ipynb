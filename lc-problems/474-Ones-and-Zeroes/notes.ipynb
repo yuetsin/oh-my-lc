{
 "cells": [
  {
   "cell_type": "markdown",
   "metadata": {},
   "source": [
    "# 474 Ones and Zeroes\n",
    "\n",
    "今时不同往日…#473 里只用 DFS 就能通过的原因，主要是「所有的火柴都保证被使用」，而且结果只有 Yes 和 No 两种。\n",
    "\n",
    "这里，并非所有的词汇都需要被用上。需要动态地调配来实现词组的最大化。其实就是一个 0-1 背包问题，只不过每个商品需要同步地占用两个背包。\n",
    "\n",
    "直接应该想到的是动态规划。"
   ]
  },
  {
   "cell_type": "code",
   "execution_count": null,
   "metadata": {},
   "outputs": [],
   "source": [
    "class Solution:\n",
    "    def findMaxForm(self, strs: List[str], m: int, n: int) -> int:\n",
    "        dp = [[0 for i in range(m+1)] for j in range(n+1)]\n",
    "        for s in strs:\n",
    "            m1, n1 = 0, 0\n",
    "            for ch in s:\n",
    "                if ch == '1':\n",
    "                    n1 += 1\n",
    "                else:\n",
    "                    m1 += 1\n",
    "            for j in range(n, n1-1, -1):\n",
    "                for k in range(m, m1 - 1, -1):\n",
    "                    if j >= n1 and k >= m1:\n",
    "                        dp[j][k] = max(dp[j][k], dp[j - n1][k - m1] + 1)\n",
    "\n",
    "        return dp[-1][-1]"
   ]
  },
  {
   "cell_type": "markdown",
   "metadata": {},
   "source": [
    "要用到二维 DP[j][k]，因为我们有两个独立增长的背包。对于每一个点，我们的选项就是：拿起一个物品，或者不拿起。从中选择最佳的那项。\n",
    "\n",
    "从右下至左上来填满这张表。"
   ]
  }
 ],
 "metadata": {
  "kernelspec": {
   "display_name": "Python 3",
   "language": "python",
   "name": "python3"
  },
  "language_info": {
   "codemirror_mode": {
    "name": "ipython",
    "version": 3
   },
   "file_extension": ".py",
   "mimetype": "text/x-python",
   "name": "python",
   "nbconvert_exporter": "python",
   "pygments_lexer": "ipython3",
   "version": "3.7.6"
  }
 },
 "nbformat": 4,
 "nbformat_minor": 4
}
