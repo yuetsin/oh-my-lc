{
 "cells": [
  {
   "cell_type": "markdown",
   "metadata": {},
   "source": [
    "# 283\n",
    "\n",
    "Recursive is too damned slow......\n",
    "\n",
    "空间时间复杂度都差的不行。\n",
    "\n",
    "Runtime: 976 ms, faster than 5.04% of Python3 online submissions for Move Zeroes.\n",
    "Memory Usage: 27.3 MB, less than 5.97% of Python3 online submissions for Move Zeroes.\n",
    "\n",
    "而且还有个隐藏的 Bug。\n",
    "\n",
    "sum(nums[index:]) == 0 <= nums[index:] 为全 0，\n",
    "\n",
    "即 A 是 B 的必要不充分条件。这里说的不正确，在遇到 [-1, 1, 0] 的时候可能会炸。\n",
    "\n",
    "还不如下个狠手…直接新开一个 vector 完了…"
   ]
  },
  {
   "cell_type": "code",
   "execution_count": null,
   "metadata": {},
   "outputs": [],
   "source": [
    "void moveZeroes(vector<int>& nums) {\n",
    "    for (int lastNonZeroFoundAt = 0, cur = 0; cur < nums.size(); cur++) {\n",
    "        if (nums[cur] != 0) {\n",
    "            swap(nums[lastNonZeroFoundAt++], nums[cur]);\n",
    "        }\n",
    "    }\n",
    "}"
   ]
  },
  {
   "cell_type": "markdown",
   "metadata": {},
   "source": [
    "Swap 大法好。不需要多说了。\n",
    "\n",
    "lastNonZeroFoundAt 已经解释了他自己。\n",
    "\n",
    "这个就是我追求的解法，但是事与愿违。"
   ]
  }
 ],
 "metadata": {
  "kernelspec": {
   "display_name": "Python 3",
   "language": "python",
   "name": "python3"
  },
  "language_info": {
   "codemirror_mode": {
    "name": "ipython",
    "version": 3
   },
   "file_extension": ".py",
   "mimetype": "text/x-python",
   "name": "python",
   "nbconvert_exporter": "python",
   "pygments_lexer": "ipython3",
   "version": "3.7.4"
  }
 },
 "nbformat": 4,
 "nbformat_minor": 2
}
