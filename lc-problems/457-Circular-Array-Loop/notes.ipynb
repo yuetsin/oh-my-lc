{
 "cells": [
  {
   "cell_type": "markdown",
   "metadata": {},
   "source": [
    "# 457 Circular Array Loop\n",
    "\n",
    "想复杂了。其实很简单。\n",
    "\n",
    "这种成环的青蛙跳问题最后必循环。因为可以 Visit 的位置个数是有限的。\n",
    "\n",
    "他要排除下面两种情况：一来只能往一个方向跳，也就是所有的 Jump 方向都一致。\n",
    "\n",
    "而来，原地跳的情况要排除。这种情况只会是 step % count == 0 的时候，所以也很好排除。\n",
    "\n",
    "这本来是个可以递归解决的问题，用 lru_cache 还能更快。我写复杂了。对不起。\n",
    "\n",
    "Runtime: 544 ms, faster than 26.94% of Python3 online submissions for Circular Array Loop.\n",
    "Memory Usage: 12.8 MB, less than 100.00% of Python3 online submissions for Circular Array Loop."
   ]
  }
 ],
 "metadata": {
  "kernelspec": {
   "display_name": "Python 3",
   "language": "python",
   "name": "python3"
  },
  "language_info": {
   "codemirror_mode": {
    "name": "ipython",
    "version": 3
   },
   "file_extension": ".py",
   "mimetype": "text/x-python",
   "name": "python",
   "nbconvert_exporter": "python",
   "pygments_lexer": "ipython3",
   "version": "3.7.6"
  }
 },
 "nbformat": 4,
 "nbformat_minor": 2
}
