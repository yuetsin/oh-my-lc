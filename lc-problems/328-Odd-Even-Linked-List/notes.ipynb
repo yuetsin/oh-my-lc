{
 "cells": [
  {
   "cell_type": "markdown",
   "metadata": {},
   "source": [
    "# 328\n",
    "\n",
    "Odd-Even Linked List\n",
    "\n",
    "这是一道有点 Confusing 的题，而且大概率是作者有意为之。\n",
    "\n",
    "它并不是要把奇数值／偶数值分开，而是要把「奇数 ID」和「偶数 ID」的节点区分开。\n",
    "\n",
    "而第一个例子给的是 [1, 2, 3, 4, 5]……这就更让人混淆了。\n",
    "\n",
    "总归，这题有不用额外空间的解法："
   ]
  },
  {
   "cell_type": "code",
   "execution_count": null,
   "metadata": {},
   "outputs": [],
   "source": [
    "def oddEvenList(self, head):\n",
    "    odds = ListNode(0)\n",
    "    evens = ListNode(0)\n",
    "    oddsHead = odds\n",
    "    evensHead = evens\n",
    "    isOdd = True\n",
    "    while head:\n",
    "        if isOdd:\n",
    "            odds.next = head\n",
    "            odds = odds.next\n",
    "        else:\n",
    "            evens.next = head\n",
    "            evens = evens.next\n",
    "        isOdd = not isOdd\n",
    "        head = head.next\n",
    "    evens.next = None\n",
    "    odds.next = evensHead.next\n",
    "    return oddsHead.next"
   ]
  },
  {
   "cell_type": "markdown",
   "metadata": {},
   "source": [
    "清晰明了。维护两个指针（一个 odds 一个 evens），用 isOdd 来作为 flag 标记。\n",
    "\n",
    "一个个往下找，并把他们往 odd／even 后面接。\n",
    "\n",
    "最后把 odds 跟 evens 两个链表接起来就好了。\n",
    "\n",
    "是个很简单的思路。"
   ]
  }
 ],
 "metadata": {
  "kernelspec": {
   "display_name": "Python 3",
   "language": "python",
   "name": "python3"
  },
  "language_info": {
   "codemirror_mode": {
    "name": "ipython",
    "version": 3
   },
   "file_extension": ".py",
   "mimetype": "text/x-python",
   "name": "python",
   "nbconvert_exporter": "python",
   "pygments_lexer": "ipython3",
   "version": "3.7.4"
  }
 },
 "nbformat": 4,
 "nbformat_minor": 2
}
