{
 "cells": [
  {
   "cell_type": "markdown",
   "metadata": {},
   "source": [
    "# 301\n",
    "\n",
    "代码写成这种样子，我也不想怎么看了。\n",
    "\n",
    "但我还是很想了解我是哪里做得不对，哪里的枝没有剪掉。"
   ]
  },
  {
   "cell_type": "markdown",
   "metadata": {},
   "source": [
    "Intuition\n",
    "\n",
    "For this question, we are given an expression consisting of parentheses and there can be some misplaced or extra brackets in the expression that cause it to be invalid. An expression consisting of parentheses is considered valid only when every closing bracket has a corresponding opening bracket and vice versa.\n",
    "\n",
    "This means if we start looking at each of the bracket from left to right, as soon as we encounter a closing bracket, there should be an unmatched opening bracket available to match it. Otherwise the expression would become invalid. The expression can also become invalid if the number of opening parentheses i.e. ( are more than the number of closing parentheses i.e. ).\n",
    "\n",
    "Let us look at an invalid expression and all the possible valid expressions that can be formed from it by removing some of the brackets. There is no restriction on which parentheses we can remove. We simply have to make the expression valid.\n",
    "\n",
    "这些都是废话。总归有一句话最重要：\n",
    "\n",
    "Since we don't know which of the brackets can possibly be removed, we try out all the options!\n",
    "\n",
    "是啊！我就是这么想的啊！\n",
    "\n",
    "For every bracket we have two choices:\n",
    "\n",
    "Either it can be considered a part of the final expression OR\n",
    "It can be ignored i.e. we can delete it from our final expression.\n",
    "\n",
    "每一个 Bracket 可以有两种操作：\n",
    "\n",
    "要么留下来，作为最终的一部分\n",
    "\n",
    "要么把他从最终表达式中删除掉\n",
    "\n",
    "（这不废话吗）\n",
    "\n",
    "但关键就是，既然用这种思路，那么每一位 ( 和 ) 都会成为一个 ON/OFF 的位（保留／删除的位），因此最坏情况下我们可能需要尝试 2^N 次才能得出结果。\n",
    "\n",
    "也就是说，时间复杂度是 O(2^N)。写出这种复杂度的算法不可原谅。\n",
    "\n",
    "但我们这里有特殊保证。括号配对问题。\n",
    "\n",
    "假如说我们连续保留的 token 序列中包含了一个类似于 ()) 的子序列，也就是说 ( => +1, ) => -1 然后出现了求和 < 0  的中间情况，\n",
    "\n",
    "那么就是说我们失败了。在这种保留序列下面无论再接上什么后缀都是失败的。不可能成。\n",
    "\n",
    "所以我们就可以剪掉这一部分的枝。\n",
    "\n",
    "虽然剪枝了。最坏情况的时间复杂度仍然是 O(2^N)。没有改变。\n",
    "\n",
    "也没有更好的解决方案了。\n",
    "\n",
    "真伤心。"
   ]
  }
 ],
 "metadata": {
  "kernelspec": {
   "display_name": "Python 3",
   "language": "python",
   "name": "python3"
  },
  "language_info": {
   "codemirror_mode": {
    "name": "ipython",
    "version": 3
   },
   "file_extension": ".py",
   "mimetype": "text/x-python",
   "name": "python",
   "nbconvert_exporter": "python",
   "pygments_lexer": "ipython3",
   "version": "3.7.4"
  }
 },
 "nbformat": 4,
 "nbformat_minor": 2
}
