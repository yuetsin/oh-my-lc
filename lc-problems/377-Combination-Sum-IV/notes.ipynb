{
 "cells": [
  {
   "cell_type": "markdown",
   "metadata": {},
   "source": [
    "# 377\n",
    "\n",
    "@lru_cache 太舒服了…\n",
    "\n",
    "Runtime: 32 ms, faster than 100.00% of Python3 online submissions for Combination Sum IV.\n",
    "Memory Usage: 19 MB, less than 11.11% of Python3 online submissions for Combination Sum IV.\n",
    "\n",
    "就是有点吃内存…\n",
    "\n",
    "⬇️DP⬇️当然也挺好。也差不多了。"
   ]
  },
  {
   "cell_type": "code",
   "execution_count": null,
   "metadata": {},
   "outputs": [],
   "source": [
    "def combinationSum4(self, nums: List[int], target: int) -> int:\n",
    "\tdp = [1]+ [0]*target\n",
    "\tfor i in range(1,target+1):\n",
    "\t\tdp[i]=sum(dp[i-j] for j in nums if i-j>=0)\n",
    "\treturn dp[-1]"
   ]
  }
 ],
 "metadata": {
  "kernelspec": {
   "display_name": "Python 3",
   "language": "python",
   "name": "python3"
  },
  "language_info": {
   "codemirror_mode": {
    "name": "ipython",
    "version": 3
   },
   "file_extension": ".py",
   "mimetype": "text/x-python",
   "name": "python",
   "nbconvert_exporter": "python",
   "pygments_lexer": "ipython3",
   "version": "3.7.4"
  }
 },
 "nbformat": 4,
 "nbformat_minor": 2
}
