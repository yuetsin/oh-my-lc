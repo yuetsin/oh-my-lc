{
 "cells": [
  {
   "cell_type": "markdown",
   "metadata": {},
   "source": [
    "# 184\n",
    "有的时候，也蛮累的。\n",
    "\n",
    "Runtime: 383 ms, faster than 28.92% of MySQL online submissions for Department Highest Salary.\n",
    "Memory Usage: N/A\n",
    "\n",
    "不过有一点：SQL 里面没有所谓的「变量作用 Domain」。所有的东西都是全局的。也没有什么可以独立存在。都是在表里。\n",
    "\n",
    "表名自己用 AS 命名。只需要注意执行顺序，顺序对了，直接用表名就可以拿数据。没有访问控制。只有先后顺序。\n",
    "\n",
    "标准解：\n",
    "\n",
    "SELECT\n",
    "    Department.name AS 'Department',\n",
    "    Employee.name AS 'Employee',\n",
    "    Salary\n",
    "FROM\n",
    "    Employee\n",
    "        JOIN\n",
    "    Department ON Employee.DepartmentId = Department.Id\n",
    "WHERE\n",
    "    (Employee.DepartmentId , Salary) IN\n",
    "    (   SELECT\n",
    "            DepartmentId, MAX(Salary)\n",
    "        FROM\n",
    "            Employee\n",
    "        GROUP BY DepartmentId\n",
    "\t)\n",
    ";"
   ]
  }
 ],
 "metadata": {
  "kernelspec": {
   "display_name": "Python 3",
   "language": "python",
   "name": "python3"
  },
  "language_info": {
   "codemirror_mode": {
    "name": "ipython",
    "version": 3
   },
   "file_extension": ".py",
   "mimetype": "text/x-python",
   "name": "python",
   "nbconvert_exporter": "python",
   "pygments_lexer": "ipython3",
   "version": "3.7.4"
  }
 },
 "nbformat": 4,
 "nbformat_minor": 2
}
