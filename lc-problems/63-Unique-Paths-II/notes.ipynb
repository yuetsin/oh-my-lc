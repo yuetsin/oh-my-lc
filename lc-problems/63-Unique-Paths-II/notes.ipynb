{
 "cells": [
  {
   "cell_type": "code",
   "execution_count": null,
   "metadata": {},
   "outputs": [],
   "source": [
    "I need to think it over a little bit..."
   ]
  },
  {
   "cell_type": "code",
   "execution_count": null,
   "metadata": {},
   "outputs": [],
   "source": [
    "My original thought is: Input the start point, I'll tell you how many ways there are to going to the right bottom place. \n",
    "However it's not easy to deal with, mainly because it's hard to expand the methods to up and left. \n",
    "That means removing impossible situations, but it's not easy to do."
   ]
  },
  {
   "cell_type": "code",
   "execution_count": null,
   "metadata": {},
   "outputs": [],
   "source": [
    "The correct thought should be: try to get how many ways there are, if we start from the left up side. That's more natural thought than the thought above."
   ]
  },
  {
   "cell_type": "code",
   "execution_count": null,
   "metadata": {},
   "outputs": [],
   "source": [
    "P.S. I'm idiot who messes up row and column EVERY time."
   ]
  }
 ],
 "metadata": {
  "kernelspec": {
   "display_name": "Python 3",
   "language": "python",
   "name": "python3"
  }
 },
 "nbformat": 4,
 "nbformat_minor": 2
}
