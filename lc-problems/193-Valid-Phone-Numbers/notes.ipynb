{
 "cells": [
  {
   "cell_type": "markdown",
   "metadata": {},
   "source": [
    "# 193\n",
    "\n",
    "正则表达式 + Bash……\n",
    "不如直接弄死我得了\n",
    "\n",
    "cat file.txt | grep -E '^\\([0-9]{3}\\) [0-9]{3}-[0-9]{4}$|^[0-9]{3}-[0-9]{3}-[0-9]{4}$'\n",
    "\n",
    "硬着头皮慢慢看…先看 Shell 部分：\n",
    "\n",
    "cat file.txt 自然是先读取文件内容；\n",
    "\n",
    "grep -E 的 -E means use regular expression，用正则表达式来匹配，并只输出匹配正则表达式的行。\n",
    "\n",
    "后面这一串表达式嗯…\n",
    "\n",
    "^\\([0-9]{3}\\) [0-9]{3}-[0-9]{4}$|^[0-9]{3}-[0-9]{3}-[0-9]{4}$\n",
    "\n",
    "^ $ 标志着开头末尾不准有别的东西，这些先去掉。\n",
    "\n",
    "\\([0-9]{3}\\) [0-9]{3}-[0-9]{4}$|^[0-9]{3}-[0-9]{3}-[0-9]{4}\n",
    "\n",
    "然后发现是一个  | ，连接了两个子表达式：\n",
    "\n",
    "\\([0-9]{3}\\) [0-9]{3}-[0-9]{4}\n",
    "和\n",
    "[0-9]{3}-[0-9]{3}-[0-9]{4}\n",
    "\n",
    "\n",
    "先看 \\([0-9]{3}\\) 这块。\n",
    "\n",
    "首先，外面两个圆括号 () 不是正则表达式 控制 token，只是普通的字符（用了 \\ 转义），代表的就是 (010) 前三位区号可能会有圆括号包裹。\n",
    "\n",
    "后面 [0-9]{3} 代表刚好三个 digits，这个跟后面一样。\n",
    "\n",
    "子表达式也是简单的：表示了两种可接受的格式：\n",
    "\n",
    "987-123-4567\n",
    "(123) 456-7890\n",
    "\n",
    "除此之外的都不管。\n",
    "\n",
    "所以正则表达式就是这样啦。"
   ]
  }
 ],
 "metadata": {
  "kernelspec": {
   "display_name": "Python 3",
   "language": "python",
   "name": "python3"
  },
  "language_info": {
   "codemirror_mode": {
    "name": "ipython",
    "version": 3
   },
   "file_extension": ".py",
   "mimetype": "text/x-python",
   "name": "python",
   "nbconvert_exporter": "python",
   "pygments_lexer": "ipython3",
   "version": "3.7.4"
  }
 },
 "nbformat": 4,
 "nbformat_minor": 2
}
