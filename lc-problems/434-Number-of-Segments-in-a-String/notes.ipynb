{
 "cells": [
  {
   "cell_type": "markdown",
   "metadata": {},
   "source": [
    "# 434 Number of Segments in a String\n",
    "\n",
    "> Python 落泪\n",
    "\n",
    "注意一下 Python 的 split(str) 方法在遇到连续出现的 Separator 的时候，会认为两个连续的分隔符之间也存在一个 Part，并且把 '' 也放进结果里。\n",
    "\n",
    "所以这里用 [v for] 语法进行了过滤。\n",
    "\n",
    "Runtime: 16 ms, faster than 99.84% of Python3 online submissions for Number of Segments in a String.\n",
    "\n",
    "Memory Usage: 12.8 MB, less than 100.00% of Python3 online submissions for Number of Segments in a String."
   ]
  }
 ],
 "metadata": {
  "kernelspec": {
   "display_name": "Python 3",
   "language": "python",
   "name": "python3"
  },
  "language_info": {
   "codemirror_mode": {
    "name": "ipython",
    "version": 3
   },
   "file_extension": ".py",
   "mimetype": "text/x-python",
   "name": "python",
   "nbconvert_exporter": "python",
   "pygments_lexer": "ipython3",
   "version": "3.7.6"
  }
 },
 "nbformat": 4,
 "nbformat_minor": 2
}
