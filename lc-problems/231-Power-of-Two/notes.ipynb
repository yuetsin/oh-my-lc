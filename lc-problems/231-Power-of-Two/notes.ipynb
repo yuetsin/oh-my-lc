{
 "cells": [
  {
   "cell_type": "markdown",
   "metadata": {},
   "source": [
    "# 231\n",
    "\n",
    "没啥好说的…因为看了下其他语言的数据格式基本都是 Int32（signed），所以最大值应该也只能取到 2147483647，所以……\n",
    "\n",
    "这么点数据直接打表啊.jpg\n",
    "\n",
    "评论区已经变成各路妖魔show tricky code 的场所了…"
   ]
  }
 ],
 "metadata": {
  "kernelspec": {
   "display_name": "Python 3",
   "language": "python",
   "name": "python3"
  },
  "language_info": {
   "codemirror_mode": {
    "name": "ipython",
    "version": 3
   },
   "file_extension": ".py",
   "mimetype": "text/x-python",
   "name": "python",
   "nbconvert_exporter": "python",
   "pygments_lexer": "ipython3",
   "version": "3.7.4"
  }
 },
 "nbformat": 4,
 "nbformat_minor": 2
}
