{
 "cells": [
  {
   "cell_type": "code",
   "execution_count": null,
   "metadata": {},
   "outputs": [],
   "source": [
    "Here's another one stocking problem: You can exchange at most 2 times. 最多可以交易两手。"
   ]
  },
  {
   "cell_type": "code",
   "execution_count": null,
   "metadata": {},
   "outputs": [],
   "source": [
    "我的想法：拆成两部分，分别计算最大值，然后加合。"
   ]
  },
  {
   "cell_type": "code",
   "execution_count": null,
   "metadata": {},
   "outputs": [],
   "source": [
    "但是简单的这么干又是一个 O(n ^ 2)。做了一个小优化：加了一个 DP 查找表。"
   ]
  },
  {
   "cell_type": "code",
   "execution_count": null,
   "metadata": {},
   "outputs": [],
   "source": [
    "但是一个个算还是很费时间。我们这样做一个简化：\n",
    "如果说 getStock(since, till) 的 since 比上一个还要高（也就是还没买入的时候比原来还高），那么这一天是无意义的。总不会想要高进低出吧？\n",
    "如果说 till 比上一天还要低，也就是出手之后跌了（开心），也不用考虑。"
   ]
  },
  {
   "cell_type": "code",
   "execution_count": null,
   "metadata": {},
   "outputs": [],
   "source": [
    "这样就降低了一点复杂度。"
   ]
  }
 ],
 "metadata": {
  "kernelspec": {
   "display_name": "Python 3",
   "language": "python",
   "name": "python3"
  }
 },
 "nbformat": 4,
 "nbformat_minor": 2
}
