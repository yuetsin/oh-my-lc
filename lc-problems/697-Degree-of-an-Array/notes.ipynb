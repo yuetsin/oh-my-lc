{
 "cells": [
  {
   "cell_type": "markdown",
   "metadata": {},
   "source": [
    "# 697 Degree of an Array\n",
    "\n",
    "Runtime: 2672 ms, faster than 5.01% of Python3 online submissions for Degree of an Array.\n",
    "\n",
    "Memory Usage: 13.9 MB, less than 72.73% of Python3 online submissions for Degree of an Array.\n",
    "\n",
    "「Degree」，就是 Array 中出现频率最高的数字的频率…\n",
    "\n",
    "现在要尽可能在保证 Degree 不变的情况下，尽可能削短 Array。注意因为是削短，Subarray 必须是原有 Array 中连续的一部分。\n",
    "\n",
    "那很简单了，我们先决定谁是那个（要保留的）Most Frequent Number，然后以他为边缘削就好了。\n",
    "\n",
    "可能会有度重复的情况，所以对每一个都进行一次比较就好了。\n",
    "\n",
    "假设给出 N 个数字。假设最大度为 k，那么需要分开决断的不同 number 最多有 N // k 个。\n",
    "\n",
    "也就是总的复杂度是 O(k * N // k) = O(N)。还好还好。"
   ]
  }
 ],
 "metadata": {
  "kernelspec": {
   "display_name": "Python 3",
   "language": "python",
   "name": "python3"
  },
  "language_info": {
   "codemirror_mode": {
    "name": "ipython",
    "version": 3
   },
   "file_extension": ".py",
   "mimetype": "text/x-python",
   "name": "python",
   "nbconvert_exporter": "python",
   "pygments_lexer": "ipython3",
   "version": "3.7.6"
  }
 },
 "nbformat": 4,
 "nbformat_minor": 4
}
