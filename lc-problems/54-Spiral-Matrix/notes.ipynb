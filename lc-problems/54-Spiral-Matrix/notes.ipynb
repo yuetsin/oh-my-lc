{
 "cells": [
  {
   "cell_type": "code",
   "execution_count": null,
   "metadata": {},
   "outputs": [],
   "source": [
    "I want to take these problems together: #6 ZigZag Problem, #48 Rotate Image.\n",
    "They're operating the matrix (or at least matrix like data) in their own specific way."
   ]
  },
  {
   "cell_type": "code",
   "execution_count": null,
   "metadata": {},
   "outputs": [],
   "source": [
    "I think the best way to solve them is to do it on your own,\n",
    "try to sense how you're thinking functionally when performing according to its description.\n",
    "If you can figure out a mathematical solution, that would be great."
   ]
  },
  {
   "cell_type": "code",
   "execution_count": null,
   "metadata": {},
   "outputs": [],
   "source": [
    "return matrix and [*matrix.pop(0)] + self.spiralOrder([*zip(*matrix)][::-1])"
   ]
  },
  {
   "cell_type": "code",
   "execution_count": null,
   "metadata": {},
   "outputs": [],
   "source": [
    "One line python3."
   ]
  },
  {
   "cell_type": "code",
   "execution_count": null,
   "metadata": {},
   "outputs": [],
   "source": [
    "That's so cool...... Here's the author's explanation......"
   ]
  },
  {
   "cell_type": "code",
   "execution_count": null,
   "metadata": {},
   "outputs": [],
   "source": [
    "  spiral_order([[1, 2, 3],\n",
    "                [4, 5, 6],\n",
    "                [7, 8, 9]])\n",
    "\n",
    "= [1, 2, 3] + spiral_order([[6, 9],\n",
    "                            [5, 8],\n",
    "                            [4, 7]])\n",
    "\n",
    "= [1, 2, 3] + [6, 9] + spiral_order([[8, 7],\n",
    "                                     [5, 4]])\n",
    "\n",
    "= [1, 2, 3] + [6, 9] + [8, 7] + spiral_order([[4],\n",
    "                                              [5]])\n",
    "\n",
    "= [1, 2, 3] + [6, 9] + [8, 7] + [4] + spiral_order([[5]])\n",
    "\n",
    "= [1, 2, 3] + [6, 9] + [8, 7] + [4] + [5] + spiral_order([])\n",
    "\n",
    "= [1, 2, 3] + [6, 9] + [8, 7] + [4] + [5] + []\n",
    "\n",
    "= [1, 2, 3, 6, 9, 8, 7, 4, 5]"
   ]
  }
 ],
 "metadata": {
  "kernelspec": {
   "display_name": "Python 3",
   "language": "python",
   "name": "python3"
  }
 },
 "nbformat": 4,
 "nbformat_minor": 2
}
