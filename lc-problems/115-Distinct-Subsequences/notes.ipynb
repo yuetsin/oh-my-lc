{
 "cells": [
  {
   "cell_type": "code",
   "execution_count": null,
   "metadata": {},
   "outputs": [],
   "source": [
    "史前巨坑（"
   ]
  },
  {
   "cell_type": "code",
   "execution_count": null,
   "metadata": {},
   "outputs": [],
   "source": [
    "算完一次之后，一定一定要清零一下 DP 表跟 counter 之类的东西。\n",
    "否则…LeetCode 在连续给你检查 TestCase 的时候，上一次的 Remains 可能会影响到这一次的判断，返回错误的值，\n",
    "而这个值在你每次 Run Code 的时候是检查不出来的（因为你一次只跑一个 Case 啊）"
   ]
  },
  {
   "cell_type": "code",
   "execution_count": null,
   "metadata": {},
   "outputs": [],
   "source": [
    "说回来。代码的思路大概这样：函数手机 sptr 跟 tptr，分别是两边的指针。如果 tptr（更短的string）到头了，那么一切结束，返回 1。\n",
    "而如果 tptr 没到头， sptr 先到头了，那么返回 0，这里一个可能性都没有。\n",
    "\n",
    "如果俩都没到头呢？判断一下当前两个地方的指针指向的字符是不是一样。如果一样，result += getSince(sptr + 1, tptr + 1)，两位统一往下移动。\n",
    "同时，不管两个地方的字符一不一样，都可以不移动 tptr，只移动 sptr。result += getSince(sptr + 1, tptr)。然后返回 result。\n",
    "\n",
    "顺便，用 Dictionary（也是基于 HashSet）做一下数据缓存。"
   ]
  },
  {
   "cell_type": "code",
   "execution_count": null,
   "metadata": {},
   "outputs": [],
   "source": [
    "P.S. 更简单的办法是：用更厉害的 Dynamic Programming："
   ]
  },
  {
   "cell_type": "code",
   "execution_count": null,
   "metadata": {},
   "outputs": [],
   "source": [
    "dp[i][j] = dp[i][j - 1] + (t[i - 1] == s[j - 1] ? dp[i - 1][j - 1] : 0);"
   ]
  },
  {
   "cell_type": "code",
   "execution_count": null,
   "metadata": {},
   "outputs": [],
   "source": [
    "也不用哈希表了，直接用一个 i × j 的数组就好了。"
   ]
  },
  {
   "cell_type": "code",
   "execution_count": null,
   "metadata": {},
   "outputs": [],
   "source": [
    "减少了很多数据存储跟函数递归调用，肯定更快啊。"
   ]
  }
 ],
 "metadata": {
  "kernelspec": {
   "display_name": "Python 3",
   "language": "python",
   "name": "python3"
  }
 },
 "nbformat": 4,
 "nbformat_minor": 2
}
