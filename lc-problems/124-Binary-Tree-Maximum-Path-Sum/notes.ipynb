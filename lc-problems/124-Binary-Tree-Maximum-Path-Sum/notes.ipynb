{
 "cells": [
  {
   "cell_type": "code",
   "execution_count": null,
   "metadata": {},
   "outputs": [],
   "source": [
    "这题有点难办。主要原因是（我）没认真读题。"
   ]
  },
  {
   "cell_type": "code",
   "execution_count": null,
   "metadata": {},
   "outputs": [],
   "source": [
    "首先，题目明确提出：起始点和终末点都不一定要是叶子结点。不一定要经过根节点。因此这个路径除了「不许走回头路」以外基本上是毫无要求。"
   ]
  },
  {
   "cell_type": "code",
   "execution_count": null,
   "metadata": {},
   "outputs": [],
   "source": [
    "因此，我的代码函数 maxPathSince 代表从当前节点开始往左下/右下方向走，能达到的最大值。"
   ]
  },
  {
   "cell_type": "code",
   "execution_count": null,
   "metadata": {},
   "outputs": [],
   "source": [
    "注意，由于你可以选择中途停止（半途而废），因此最小值为 node.val。如果下面都是糟糕的更负的值，你总可以选择不走。"
   ]
  },
  {
   "cell_type": "code",
   "execution_count": null,
   "metadata": {},
   "outputs": [],
   "source": [
    "然后，DP。我想其他语言也能写出很舒服的 DP（比如，用指针作为 key），但 Python 还是写起来太舒服了。\n",
    "我知道 Python 会自动帮我用指针进入散列表，因此大可以直接让 node 作为 key。"
   ]
  },
  {
   "cell_type": "code",
   "execution_count": null,
   "metadata": {},
   "outputs": [],
   "source": [
    "于是在这一番鼓捣之后，通过了最后一个魔鬼 Case，结果：\n",
    "Runtime: 152 ms, faster than 5.32% of Python3 online submissions for Binary Tree Maximum Path Sum.\n",
    "Memory Usage: 25.6 MB, less than 5.00% of Python3 online submissions for Binary Tree Maximum Path Sum."
   ]
  },
  {
   "cell_type": "code",
   "execution_count": null,
   "metadata": {},
   "outputs": [],
   "source": [
    "嗷！这也太糟糕了。"
   ]
  },
  {
   "cell_type": "code",
   "execution_count": null,
   "metadata": {},
   "outputs": [],
   "source": [
    "然而想一下，其实我们是不是只需要往下遍历一次到叶，然后找出其中达到 max 的位置，然后记住这个值就行了？"
   ]
  },
  {
   "cell_type": "code",
   "execution_count": null,
   "metadata": {},
   "outputs": [],
   "source": [
    "只是起点需要一直变幻而已。我们从顶向下遍历，不存在重复的计算，也就没必要用到 DP 了。"
   ]
  },
  {
   "cell_type": "code",
   "execution_count": null,
   "metadata": {},
   "outputs": [],
   "source": [
    "所谓的「不经过 root」，其实完全不用特别考虑。假如不经过 Root 可以达到最大值，那么根另一边的值肯定为负，那咱们不 + 她就行了。"
   ]
  },
  {
   "cell_type": "code",
   "execution_count": null,
   "metadata": {},
   "outputs": [],
   "source": [
    "所以啊…为什么我这么糟糕的方法也能 Pass（怀疑人生）"
   ]
  }
 ],
 "metadata": {
  "kernelspec": {
   "display_name": "Python 3",
   "language": "python",
   "name": "python3"
  }
 },
 "nbformat": 4,
 "nbformat_minor": 2
}
