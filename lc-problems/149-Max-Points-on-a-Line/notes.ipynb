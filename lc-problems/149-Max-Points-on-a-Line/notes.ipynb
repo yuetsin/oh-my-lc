{
 "cells": [
  {
   "cell_type": "code",
   "execution_count": null,
   "metadata": {},
   "outputs": [],
   "source": [
    "刁钻的题目……"
   ]
  },
  {
   "cell_type": "code",
   "execution_count": null,
   "metadata": {},
   "outputs": [],
   "source": [
    "首先我们来看看一个头脑简单的版本：这个版本在 Test Case 更新前可以正常工作。但是在更新之后，这条 Case 会炸掉这种 Buggy 的 Solution：\n",
    "\n",
    "[[0,0],[94911151,94911150],[94911152,94911151]]"
   ]
  },
  {
   "cell_type": "code",
   "execution_count": null,
   "metadata": {},
   "outputs": [],
   "source": [
    "主要原因是：\n",
    ">>> 94911150/94911151\n",
    "0.9999999894638303\n",
    ">>> 94911151/94911152\n",
    "0.9999999894638303"
   ]
  },
  {
   "cell_type": "code",
   "execution_count": null,
   "metadata": {},
   "outputs": [],
   "source": [
    "浮点精度不够，产生了误差。"
   ]
  },
  {
   "cell_type": "code",
   "execution_count": null,
   "metadata": {},
   "outputs": [],
   "source": [
    "因此最好的解决方案只能是："
   ]
  },
  {
   "cell_type": "code",
   "execution_count": null,
   "metadata": {},
   "outputs": [],
   "source": [
    "def gcd(a, b):\n",
    "            if b == 0:\n",
    "                return a\n",
    "            return gcd(b, a % b)\n",
    "        \n",
    "        def frac(x,y):\n",
    "            g = gcd(x,y)\n",
    "            return x//g, y//g"
   ]
  },
  {
   "cell_type": "code",
   "execution_count": null,
   "metadata": {},
   "outputs": [],
   "source": [
    "使用这些 GCD 方法算出最简整数比，然后进行比较才行。"
   ]
  },
  {
   "cell_type": "code",
   "execution_count": null,
   "metadata": {},
   "outputs": [],
   "source": [
    "最终的 Solution：\n",
    "Runtime: 72 ms, faster than 76.51% of Python3 online submissions for Max Points on a Line.\n",
    "Memory Usage: 13.4 MB, less than 51.65% of Python3 online submissions for Max Points on a Line."
   ]
  }
 ],
 "metadata": {
  "kernelspec": {
   "display_name": "Python 3",
   "language": "python",
   "name": "python3"
  }
 },
 "nbformat": 4,
 "nbformat_minor": 2
}
