{
 "cells": [
  {
   "cell_type": "code",
   "execution_count": null,
   "metadata": {},
   "outputs": [],
   "source": [
    "> Runtime: 36 ms, faster than 97.97% of Python3 online submissions for Sort Colors.\n",
    "> Memory Usage: 13.1 MB, less than 5.06% of Python3 online submissions for Sort Colors."
   ]
  },
  {
   "cell_type": "code",
   "execution_count": null,
   "metadata": {},
   "outputs": [],
   "source": [
    "本题给出的挑战：\n",
    "*1、很容易想到的是用两次遍历的方法：先遍历一次统计 RGB 各自的个数，第二次遍历覆写 0 1 2。\n",
    "*2、有没有只需要遍历一次的方法？"
   ]
  },
  {
   "cell_type": "code",
   "execution_count": null,
   "metadata": {},
   "outputs": [],
   "source": [
    "办法来了，在这儿。"
   ]
  },
  {
   "cell_type": "code",
   "execution_count": null,
   "metadata": {},
   "outputs": [],
   "source": [
    "def sortColors(self, nums):\n",
    "    i = j = 0\n",
    "    for k in xrange(len(nums)):\n",
    "        v = nums[k]\n",
    "        nums[k] = 2\n",
    "        if v < 2:\n",
    "            nums[j] = 1\n",
    "            j += 1\n",
    "        if v == 0:\n",
    "            nums[i] = 0\n",
    "            i += 1\n",
    "\n",
    "# 86 / 86 test cases passed.\n",
    "# Status: Accepted\n",
    "# Runtime: 44 ms\n",
    "# 84.03%"
   ]
  },
  {
   "cell_type": "code",
   "execution_count": null,
   "metadata": {},
   "outputs": [],
   "source": [
    "非常类似的，在 QUICKSORT 里面常用的 SPLIT 方法。正好，这里只有 0 1 2 三种可能存在的元素。那么，我们以 1 作为 SPLIT 分界线，自然就分开了他们。"
   ]
  },
  {
   "cell_type": "code",
   "execution_count": null,
   "metadata": {},
   "outputs": [],
   "source": [
    "只需要保留两根指针。"
   ]
  }
 ],
 "metadata": {
  "kernelspec": {
   "display_name": "Python 3",
   "language": "python",
   "name": "python3"
  }
 },
 "nbformat": 4,
 "nbformat_minor": 2
}
