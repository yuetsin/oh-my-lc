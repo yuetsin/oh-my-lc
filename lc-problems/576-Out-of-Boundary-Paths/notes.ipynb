{
 "cells": [
  {
   "cell_type": "markdown",
   "metadata": {},
   "source": [
    "# 576 Out of Boundary Paths\n",
    "\n",
    "一开始想复杂了…其实 DFS + Cache 就够了。\n",
    "\n",
    "Runtime: 92 ms, faster than 98.12% of Python3 online submissions for Out of Boundary Paths.\n",
    "\n",
    "Memory Usage: 18 MB, less than 33.33% of Python3 online submissions for Out of Boundary Paths.\n",
    "\n",
    "开始以为不能走回头路（看到 Cannot move it back 就这么理解了），所以还用了一个 backtracking map。\n",
    "\n",
    "其实他说的意思是，移出棋盘之后就不能再移动回来了。这个意思。所以 map 没有必要。\n",
    "\n",
    "小坑：棋盘长/宽可能为 1。所以必须这么写："
   ]
  },
  {
   "cell_type": "code",
   "execution_count": null,
   "metadata": {},
   "outputs": [],
   "source": [
    "            if i == 0:\n",
    "                simple_v += 1\n",
    "            if i == m - 1:\n",
    "                simple_v += 1"
   ]
  },
  {
   "cell_type": "markdown",
   "metadata": {},
   "source": [
    "而不能："
   ]
  },
  {
   "cell_type": "code",
   "execution_count": null,
   "metadata": {},
   "outputs": [],
   "source": [
    "            if i == 0 or i == m - 1:\n",
    "                simple_v += 1"
   ]
  },
  {
   "cell_type": "markdown",
   "metadata": {},
   "source": [
    "否则会在这种情况下丢失可能性。"
   ]
  },
  {
   "cell_type": "markdown",
   "metadata": {},
   "source": [
    "小小坑：可以在 dfs return 的时候就对 1e9 + 7 取模。这样能减小处理的数字。"
   ]
  }
 ],
 "metadata": {
  "kernelspec": {
   "display_name": "Python 3",
   "language": "python",
   "name": "python3"
  },
  "language_info": {
   "codemirror_mode": {
    "name": "ipython",
    "version": 3
   },
   "file_extension": ".py",
   "mimetype": "text/x-python",
   "name": "python",
   "nbconvert_exporter": "python",
   "pygments_lexer": "ipython3",
   "version": "3.7.6"
  }
 },
 "nbformat": 4,
 "nbformat_minor": 4
}
