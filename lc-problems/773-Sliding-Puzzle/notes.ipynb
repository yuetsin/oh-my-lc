{
 "cells": [
  {
   "cell_type": "markdown",
   "metadata": {},
   "source": [
    "# 773 Sliding Puzzle\n",
    "\n",
    "首先…这题用 DFS（深度优先搜索）是不合适的！如果用 DFS，势必要到一个可以确认的终点才能停下来。而这里的『终点』只能是所有的子结点都是已经出现过的状况，无法再进一步移动之后才能返回。这就是说，深度太深，DFS 完全没必要地在一些地方深入了。\n",
    "\n",
    "例如例 `[[1,2,3],[4,0,5]]`，本来只需要一步就能移动到，但如果你的 DFS 先试着进行了其他的 Move，那就完蛋了——会一直一股脑地往下深入，直到穷竭了情况之后才会返回，试试自己的第一步做对没。这就完全无意义了。\n",
    "\n",
    "这种时候，用 BFS 就行了——优先尝试一下更广的方法，其中最浅的那一种到达了，那就没必要再继续了。\n",
    "\n",
    "况且，也能很好地规避重复情况。这不好吗？"
   ]
  }
 ],
 "metadata": {
  "kernelspec": {
   "display_name": "Python 3",
   "language": "python",
   "name": "python3"
  },
  "language_info": {
   "codemirror_mode": {
    "name": "ipython",
    "version": 3
   },
   "file_extension": ".py",
   "mimetype": "text/x-python",
   "name": "python",
   "nbconvert_exporter": "python",
   "pygments_lexer": "ipython3",
   "version": "3.7.6"
  }
 },
 "nbformat": 4,
 "nbformat_minor": 2
}
