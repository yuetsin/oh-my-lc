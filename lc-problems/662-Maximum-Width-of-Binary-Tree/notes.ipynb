{
 "cells": [
  {
   "cell_type": "markdown",
   "metadata": {},
   "source": [
    "# 662 Maximum Width of Binary Tree\n",
    "\n",
    "看起来很简单的…一道题，以为直接做 Depth Flatten 就好了。\n",
    "\n",
    "实际上不是这样！按照深度压平之后，没办法知道他们在原来树里面的位置了。\n",
    "\n",
    "所以我们用个 BFS 就行。\n",
    "\n",
    "\n",
    "In BFS, we make each node as following structure(node, indexAtCurrLevel)\n",
    "\n",
    "Each Level s width will be current queue's last item index - first item index\n",
    "\n",
    "also , for current node , its child index will be idx2 and idx2+1, this index assignment is same as Heap's indexing.\n",
    "\n",
    "Runtime: 40 ms, faster than 35.99% of Python3 online submissions for Maximum Width of Binary Tree.\n",
    "\n",
    "Memory Usage: 12.6 MB, less than 100.00% of Python3 online submissions for Maximum Width of Binary Tree.\n",
    "\n",
    "顺带一提，@awice 阿歪死的 Solution 实际上有溢出错误。不要看。虽然就算没问题我也不想读他的英文。"
   ]
  }
 ],
 "metadata": {
  "kernelspec": {
   "display_name": "Python 3",
   "language": "python",
   "name": "python3"
  },
  "language_info": {
   "codemirror_mode": {
    "name": "ipython",
    "version": 3
   },
   "file_extension": ".py",
   "mimetype": "text/x-python",
   "name": "python",
   "nbconvert_exporter": "python",
   "pygments_lexer": "ipython3",
   "version": "3.7.6"
  }
 },
 "nbformat": 4,
 "nbformat_minor": 4
}
