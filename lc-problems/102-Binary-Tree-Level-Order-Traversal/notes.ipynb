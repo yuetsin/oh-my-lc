{
 "cells": [
  {
   "cell_type": "code",
   "execution_count": null,
   "metadata": {},
   "outputs": [],
   "source": [
    "Level Order Traversal，层级遍历。"
   ]
  },
  {
   "cell_type": "code",
   "execution_count": null,
   "metadata": {},
   "outputs": [],
   "source": [
    "用了一个比较傻的办法。记录每一层的深度作为参数，然后往里面按照顺序丢。"
   ]
  },
  {
   "cell_type": "code",
   "execution_count": null,
   "metadata": {},
   "outputs": [],
   "source": [
    "> Runtime: 48 ms, faster than 27.75% of Python3 online submissions for Binary Tree Level Order Traversal.\n",
    "> Memory Usage: 14.3 MB, less than 5.17% of Python3 online submissions for Binary Tree Level Order Traversal."
   ]
  },
  {
   "cell_type": "code",
   "execution_count": null,
   "metadata": {},
   "outputs": [],
   "source": [
    "结果速度和空间都不太理想。\n",
    "其实更合适的办法是使用现成的数据结构：queue（队列）。"
   ]
  },
  {
   "cell_type": "code",
   "execution_count": null,
   "metadata": {},
   "outputs": [],
   "source": [
    "from collections import deque\n",
    "class Solution:\n",
    "    def levelOrder(self, root):\n",
    "        if not root: return []\n",
    "        queue, res = deque([root]), []\n",
    "        \n",
    "        while queue:\n",
    "            cur_level, size = [], len(queue)\n",
    "            for i in range(size):\n",
    "                node = queue.popleft()\n",
    "                if node.left:\n",
    "                    queue.append(node.left)\n",
    "                if node.right:\n",
    "                    queue.append(node.right)\n",
    "                cur_level.append(node.val)\n",
    "            res.append(cur_level)\n",
    "        return res"
   ]
  },
  {
   "cell_type": "code",
   "execution_count": null,
   "metadata": {},
   "outputs": [],
   "source": [
    "在所有元素都在 Queue 里面过了一遍之后，按照其 enqueue 顺序来走。"
   ]
  }
 ],
 "metadata": {
  "kernelspec": {
   "display_name": "Python 3",
   "language": "python",
   "name": "python3"
  }
 },
 "nbformat": 4,
 "nbformat_minor": 2
}
