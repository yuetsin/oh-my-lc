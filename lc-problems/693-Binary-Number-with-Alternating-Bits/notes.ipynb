{
 "cells": [
  {
   "cell_type": "markdown",
   "metadata": {},
   "source": [
    "# 693 Binary Number with Alternating Bits\n",
    "\n",
    "Runtime: 20 ms, faster than 96.77% of Python3 online submissions for Binary Number with Alternating Bits.\n",
    "\n",
    "Memory Usage: 12.5 MB, less than 100.00% of Python3 online submissions for Binary Number with Alternating Bits.\n",
    "\n",
    "这题…我曾经在之前的时候想过。这个…打表之后 O(1) 的时间复杂度。理论上不会更好了。"
   ]
  }
 ],
 "metadata": {
  "kernelspec": {
   "display_name": "Python 3",
   "language": "python",
   "name": "python3"
  },
  "language_info": {
   "codemirror_mode": {
    "name": "ipython",
    "version": 3
   },
   "file_extension": ".py",
   "mimetype": "text/x-python",
   "name": "python",
   "nbconvert_exporter": "python",
   "pygments_lexer": "ipython3",
   "version": "3.7.6"
  }
 },
 "nbformat": 4,
 "nbformat_minor": 4
}
