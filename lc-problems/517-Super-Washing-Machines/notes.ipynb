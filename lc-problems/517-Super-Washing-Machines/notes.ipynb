{
 "cells": [
  {
   "cell_type": "markdown",
   "metadata": {},
   "source": [
    "# 517 Super Washing Machines\n",
    "\n",
    "@InsZVA 说：\n",
    "\n",
    "首先求出最终的目标target，如果没有最终目标，直接返回-1.\n",
    "对于每个洗衣机，我们计算他需要移走多少衣服（负数表示他需要获得多少衣服）\n",
    "从任意一边开始计算，比如从左边：\n",
    "第一个洗衣机如果移走了衣服，那么肯定移给了他右边的洗衣机，所以右边的洗衣机在遍历时，要加上左边需要移走的；如果一个洗衣机需要移来衣服，他也是从右边的洗衣机获得，右边的洗衣机需要移来的衣服也是要加上左边的，故over这个变量要一直加下去。而且，他为负就表示从右边索要，他为正，说明左边来的已经超出了需要，转移给右边。\n",
    "对于任何一个洗衣机，如果他需要移走的衣服是正数，最终移动的数量肯定要大于这个数（显然），如果是负数，就不用大于他的绝对值了（因为可以从两边移动到这里）。而对于自己本来就比目标大的，最终移动的次数一定大于自己衣服减去目标数，因为不管是左边需要，还是右边需要，对于这个洗衣机，每次都最多只能出一个。这个最终移动的下界就是答案（他存在吗？存在，只要按照我们遍历的顺序去做，按照over指示的去做就可以达到）"
   ]
  }
 ],
 "metadata": {
  "kernelspec": {
   "display_name": "Python 3",
   "language": "python",
   "name": "python3"
  },
  "language_info": {
   "codemirror_mode": {
    "name": "ipython",
    "version": 3
   },
   "file_extension": ".py",
   "mimetype": "text/x-python",
   "name": "python",
   "nbconvert_exporter": "python",
   "pygments_lexer": "ipython3",
   "version": "3.7.6"
  }
 },
 "nbformat": 4,
 "nbformat_minor": 4
}
