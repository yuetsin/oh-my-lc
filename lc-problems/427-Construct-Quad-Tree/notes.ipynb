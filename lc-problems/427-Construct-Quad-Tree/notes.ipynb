{
 "cells": [
  {
   "cell_type": "markdown",
   "metadata": {},
   "source": [
    "# 427 Construct Quad Tree\n",
    "\n",
    "四叉树来表示方矩阵，在每个方块的值全相等的时候才造出叶子。\n",
    "\n",
    "挺有意思的。可惜表述不清。\n",
    "\n",
    "Runtime: 116 ms, faster than 99.30% of Python3 online submissions for Construct Quad Tree.\n",
    "Memory Usage: 13.6 MB, less than 100.00% of Python3 online submissions for Construct Quad Tree."
   ]
  }
 ],
 "metadata": {
  "kernelspec": {
   "display_name": "Python 3",
   "language": "python",
   "name": "python3"
  },
  "language_info": {
   "codemirror_mode": {
    "name": "ipython",
    "version": 3
   },
   "file_extension": ".py",
   "mimetype": "text/x-python",
   "name": "python",
   "nbconvert_exporter": "python",
   "pygments_lexer": "ipython3",
   "version": "3.7.6"
  }
 },
 "nbformat": 4,
 "nbformat_minor": 2
}
