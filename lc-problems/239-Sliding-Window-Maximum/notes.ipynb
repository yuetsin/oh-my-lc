{
 "cells": [
  {
   "cell_type": "markdown",
   "metadata": {},
   "source": [
    "# 239\n",
    "\n",
    "隐形坑：\n",
    "题目描述里讲了「You may assume k is always valid, 1 ≤ k ≤ input array's size **for non-empty array.**」\n",
    "\n",
    "也就是说…有可能给出 [] 的情况…\n",
    "\n",
    "Python 的话直接暴力解决，实际上也可以达到 O(nk) 的时间复杂度。\n",
    "\n",
    "那能否在 O(n) 里解决呢？可不可以呢？\n",
    "\n",
    "可！"
   ]
  },
  {
   "cell_type": "code",
   "execution_count": null,
   "metadata": {},
   "outputs": [],
   "source": [
    "def maxSlidingWindow(self, nums, k):\n",
    "    queue = collections.deque([])\n",
    "    res = []\n",
    "    for i in range(len(nums)):    \n",
    "        while queue and nums[i] > nums[queue[-1]]:\n",
    "            queue.pop()\n",
    "        queue.append(i)   \n",
    "                \n",
    "        if queue[0] <= i - k:\n",
    "            queue.popleft()\n",
    "            \n",
    "        if i >= k - 1:\n",
    "            res.append(nums[queue[0]])\n",
    "    \n",
    "    return res"
   ]
  },
  {
   "cell_type": "markdown",
   "metadata": {},
   "source": [
    "用 queue 的话就可以遍历一次达到效果。k 仅仅用来控制 dequeue 跟 queue 的时机，实际上不会影响复杂度。\n",
    "\n",
    "所以就变成 O(n) 啦！"
   ]
  }
 ],
 "metadata": {
  "kernelspec": {
   "display_name": "Python 3",
   "language": "python",
   "name": "python3"
  },
  "language_info": {
   "codemirror_mode": {
    "name": "ipython",
    "version": 3
   },
   "file_extension": ".py",
   "mimetype": "text/x-python",
   "name": "python",
   "nbconvert_exporter": "python",
   "pygments_lexer": "ipython3",
   "version": "3.7.4"
  }
 },
 "nbformat": 4,
 "nbformat_minor": 2
}
