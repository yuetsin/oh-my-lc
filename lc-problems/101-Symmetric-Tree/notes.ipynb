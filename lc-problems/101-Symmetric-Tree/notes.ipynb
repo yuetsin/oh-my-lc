{
 "cells": [
  {
   "cell_type": "code",
   "execution_count": null,
   "metadata": {},
   "outputs": [],
   "source": [
    "#100 说什么来着…真的来了个对称树的情况。\n",
    "\n",
    "不过这里，是判断自己是不是对称的。\n",
    "\n",
    "稍微改一下调用代码，注意判断 root == None or not.\n",
    "\n",
    "> Runtime: 40 ms, faster than 99.17% of Python3 online submissions for Symmetric Tree.\n",
    "> Memory Usage: 13.1 MB, less than 5.61% of Python3 online submissions for Symmetric Tree."
   ]
  },
  {
   "cell_type": "code",
   "execution_count": null,
   "metadata": {},
   "outputs": [],
   "source": [
    "当然，这种题你总是可以用 iteration + stack + inorder 来重写。"
   ]
  },
  {
   "cell_type": "code",
   "execution_count": null,
   "metadata": {},
   "outputs": [],
   "source": [
    "public boolean isSymmetric(TreeNode root) {\n",
    "    Queue<TreeNode> q = new LinkedList<>();\n",
    "    q.add(root);\n",
    "    q.add(root);\n",
    "    while (!q.isEmpty()) {\n",
    "        TreeNode t1 = q.poll();\n",
    "        TreeNode t2 = q.poll();\n",
    "        if (t1 == null && t2 == null) continue;\n",
    "        if (t1 == null || t2 == null) return false;\n",
    "        if (t1.val != t2.val) return false;\n",
    "        q.add(t1.left);\n",
    "        q.add(t2.right);\n",
    "        q.add(t1.right);\n",
    "        q.add(t2.left);\n",
    "    }\n",
    "    return true;\n",
    "}\n",
    "// Enjoy your Java"
   ]
  },
  {
   "cell_type": "code",
   "execution_count": null,
   "metadata": {},
   "outputs": [],
   "source": [
    "中序遍历跟栈真的是分不开的啊。"
   ]
  }
 ],
 "metadata": {
  "kernelspec": {
   "display_name": "Python 3",
   "language": "python",
   "name": "python3"
  }
 },
 "nbformat": 4,
 "nbformat_minor": 2
}
