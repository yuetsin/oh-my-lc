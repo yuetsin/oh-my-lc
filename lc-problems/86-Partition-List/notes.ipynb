{
 "cells": [
  {
   "cell_type": "code",
   "execution_count": null,
   "metadata": {},
   "outputs": [],
   "source": [
    "I thought my solution would never be able to pass... But it did.\n",
    "It's already annoying to deal with SPLIT algorithm. What about operation it with node list? Nightmare!"
   ]
  },
  {
   "cell_type": "code",
   "execution_count": null,
   "metadata": {},
   "outputs": [],
   "source": [
    "So let's just leave all that behind, put all these nodes' pointer into two lists, merge them, and re-generate the linking relation."
   ]
  },
  {
   "cell_type": "code",
   "execution_count": null,
   "metadata": {},
   "outputs": [],
   "source": [
    "Totally brutal... but \n",
    "Runtime: 40 ms, faster than 97.37% of Python3 online submissions for Partition List.\n",
    "Memory Usage: 13.2 MB, less than 6.12% of Python3 online submissions for Partition List."
   ]
  },
  {
   "cell_type": "code",
   "execution_count": null,
   "metadata": {},
   "outputs": [],
   "source": [
    "By default Python just storages the memory address to a self-defined class, so it will not copy the object many times."
   ]
  },
  {
   "cell_type": "code",
   "execution_count": null,
   "metadata": {},
   "outputs": [],
   "source": [
    "In case if you love node list and SPLIT algorithm..."
   ]
  },
  {
   "cell_type": "code",
   "execution_count": null,
   "metadata": {},
   "outputs": [],
   "source": [
    "ListNode *partition(ListNode *head, int x) {\n",
    "    ListNode node1(0), node2(0);\n",
    "    ListNode *p1 = &node1, *p2 = &node2;\n",
    "    while (head) {\n",
    "        if (head->val < x)\n",
    "            p1 = p1->next = head;\n",
    "        else\n",
    "            p2 = p2->next = head;\n",
    "        head = head->next;\n",
    "    }\n",
    "    p2->next = NULL;\n",
    "    p1->next = node2.next;\n",
    "    return node1.next;\n",
    "}"
   ]
  }
 ],
 "metadata": {
  "kernelspec": {
   "display_name": "Python 3",
   "language": "python",
   "name": "python3"
  }
 },
 "nbformat": 4,
 "nbformat_minor": 2
}
