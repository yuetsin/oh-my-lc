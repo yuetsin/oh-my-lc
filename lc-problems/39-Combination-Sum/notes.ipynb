{
 "cells": [
  {
   "cell_type": "code",
   "execution_count": null,
   "metadata": {},
   "outputs": [],
   "source": [
    "My idea is: RECURSIVE. For every candidate, make target -= candidate and call itself.\n",
    "If every candidate is greater than target, return [] (Nothing available.)\n",
    "Exception: target = 0 would return [[]] ([] is an available result.)"
   ]
  }
 ],
 "metadata": {
  "kernelspec": {
   "display_name": "Python 3",
   "language": "python",
   "name": "python3"
  }
 },
 "nbformat": 4,
 "nbformat_minor": 2
}
