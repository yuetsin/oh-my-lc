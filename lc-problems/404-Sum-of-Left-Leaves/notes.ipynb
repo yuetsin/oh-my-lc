{
 "cells": [
  {
   "cell_type": "markdown",
   "metadata": {},
   "source": [
    "# 404 Sum of Left Leaves\n",
    "\n",
    "Runtime: 32 ms, faster than 90.69% of Python3 online submissions for Sum of Left Leaves.\n",
    "Memory Usage: 13.3 MB, less than 100.00% of Python3 online submissions for Sum of Left Leaves.\n",
    "\n",
    "一个汉字都不用多说…"
   ]
  }
 ],
 "metadata": {
  "kernelspec": {
   "display_name": "Python 3",
   "language": "python",
   "name": "python3"
  },
  "language_info": {
   "codemirror_mode": {
    "name": "ipython",
    "version": 3
   },
   "file_extension": ".py",
   "mimetype": "text/x-python",
   "name": "python",
   "nbconvert_exporter": "python",
   "pygments_lexer": "ipython3",
   "version": "3.7.4"
  }
 },
 "nbformat": 4,
 "nbformat_minor": 2
}
