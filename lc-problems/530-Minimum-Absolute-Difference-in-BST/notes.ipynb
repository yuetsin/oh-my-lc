{
 "cells": [
  {
   "cell_type": "markdown",
   "metadata": {},
   "source": [
    "# 530 Minimum Absolute Difference in BST\n",
    "\n",
    "Runtime: 60 ms, faster than 41.16% of Python3 online submissions for Minimum Absolute Difference in BST.\n",
    "\n",
    "Memory Usage: 14.7 MB, less than 100.00% of Python3 online submissions for Minimum Absolute Difference in BST.\n",
    "\n",
    "二叉搜索树中最小的绝对差…\n",
    "\n",
    "其实直接忽略 BST，暴力解也通过了。\n",
    "\n",
    "Tree 相关题的最大问题就是，树的特性决定了复杂度几乎不会怎么爆炸，除非你自己也给出爆炸性尺寸的 Test Cases。\n",
    "\n",
    "说起来。BST 如何能加速这一过程呢？\n",
    "\n",
    "留意到，对于 BST 来说，往树下走的左儿子一定减小，往右走的右儿子一定增大。\n",
    "\n",
    "所以，我们是可以按照顺序遍历这棵树的。既然可以严格按照顺序遍历，那么就可以依次计算 min 了。简单吧？"
   ]
  },
  {
   "cell_type": "code",
   "execution_count": null,
   "metadata": {},
   "outputs": [],
   "source": [
    "# Swift\n",
    "\n",
    "class Solution {\n",
    "    var minDiff = Int.max\n",
    "    var last: Int? = nil\n",
    "    \n",
    "    func getMinimumDifference(_ root: TreeNode?) -> Int {\n",
    "        guard let node = root else { return 0 }\n",
    "        getMinimumDifference(node.left)\n",
    "        if let item = last { minDiff = min(minDiff, abs(node.val - item)) }\n",
    "        last = node.val\n",
    "        getMinimumDifference(node.right)\n",
    "        return minDiff\n",
    "    }\n",
    "}"
   ]
  },
  {
   "cell_type": "code",
   "execution_count": null,
   "metadata": {},
   "outputs": [],
   "source": [
    "# Python\n",
    "\n",
    "class Solution:\n",
    "    def getMinimumDifference(self, root: TreeNode) -> int:\n",
    "        self.prev = None\n",
    "        self.min = float('inf')\n",
    "\n",
    "        def recurse(root):\n",
    "            if root:\n",
    "                recurse(root.left)\n",
    "                if self.prev is not None:\n",
    "                    self.min = min(self.min, root.val-self.prev)\n",
    "                self.prev = root.val\n",
    "                recurse(root.right)\n",
    "        recurse(root)\n",
    "        return self.min"
   ]
  }
 ],
 "metadata": {
  "kernelspec": {
   "display_name": "Python 3",
   "language": "python",
   "name": "python3"
  },
  "language_info": {
   "codemirror_mode": {
    "name": "ipython",
    "version": 3
   },
   "file_extension": ".py",
   "mimetype": "text/x-python",
   "name": "python",
   "nbconvert_exporter": "python",
   "pygments_lexer": "ipython3",
   "version": "3.7.6"
  }
 },
 "nbformat": 4,
 "nbformat_minor": 4
}
