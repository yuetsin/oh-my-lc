{
 "cells": [
  {
   "cell_type": "markdown",
   "metadata": {},
   "source": [
    "# 204\n",
    "\n",
    "素数筛法其实可以用，我写出来感觉特别特别慢…\n",
    "\n",
    "Runtime: 1940 ms, faster than 5.07% of Python3 online submissions for Count Primes.\n",
    "Memory Usage: 187.4 MB, less than 10.34% of Python3 online submissions for Count Primes.\n",
    "\n",
    "我的解法给一个 7285842 case 就 TLE 了。\n",
    "\n",
    "// 1：这是最原始的筛法，还有待优化 \n",
    "#define Max 1000000\n",
    "bool prime[Max];\n",
    "void IsPrime(){\n",
    "     prime[0]=prime[1]=0;prime[2]=1;\n",
    "     for(int i=3;i<max;i++)\n",
    "        prime[i]=i%2==0?0:1;\n",
    "     int t=(int)sqrt(Max*1.0);\n",
    "     for(int i=3;i<=t;i++)\n",
    "       if(prime[i])\n",
    "         for(int j=i;j<Max;j+=i)\n",
    "            prime[j]=0;\n",
    "}\n",
    "//2：优化后的筛法，手动地模拟原始筛法就可以发现，某个数字可能被不止一次地删去\n",
    "//   优化后的筛法就可以避免这种不必要的删去操作 \n",
    "#define Max 1000000\n",
    "bool prime[Max];\n",
    "void IsPrime(){\n",
    "     prime[0]=prime[1]=0;prime[2]=1;\n",
    "     for(int i=3;i<max;i++)\n",
    "        prime[i]=i%2==0?0:1;\n",
    "     int t=(int)sqrt(Max*1.0);\n",
    "     for(int i=3;i<=t;i++)\n",
    "       if(prime[i])\n",
    "         for(int j=i*i;j<Max;j+=2*i)//优化 \n",
    "            prime[j]=0;\n",
    "}"
   ]
  },
  {
   "cell_type": "code",
   "execution_count": null,
   "metadata": {},
   "outputs": [],
   "source": [
    "class Solution:\n",
    "# @param {integer} n\n",
    "# @return {integer}\n",
    "def countPrimes(self, n):\n",
    "    if n < 3:\n",
    "        return 0\n",
    "    primes = [True] * n\n",
    "    primes[0] = primes[1] = False\n",
    "    for i in range(2, int(n ** 0.5) + 1):\n",
    "        if primes[i]:\n",
    "            primes[i * i: n: i] = [False] * len(primes[i * i: n: i])\n",
    "    return sum(primes)"
   ]
  },
  {
   "cell_type": "markdown",
   "metadata": {},
   "source": [
    "最大需要计算的值只到 int(n ** 0.5) + 1，虽然这个不太精确的…"
   ]
  }
 ],
 "metadata": {
  "kernelspec": {
   "display_name": "Python 3",
   "language": "python",
   "name": "python3"
  },
  "language_info": {
   "codemirror_mode": {
    "name": "ipython",
    "version": 3
   },
   "file_extension": ".py",
   "mimetype": "text/x-python",
   "name": "python",
   "nbconvert_exporter": "python",
   "pygments_lexer": "ipython3",
   "version": "3.7.4"
  }
 },
 "nbformat": 4,
 "nbformat_minor": 2
}
