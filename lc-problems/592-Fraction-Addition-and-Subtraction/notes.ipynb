{
 "cells": [
  {
   "cell_type": "markdown",
   "metadata": {},
   "source": [
    "# 592 Fraction Addition and Subtraction\n",
    "\n",
    "分数（有理数）的加加减减…\n",
    "\n",
    "简单的说，操作起来并不复杂。在进行计算的时候，完全不考虑「约分」；直接进行通分加减。\n",
    "\n",
    "然后，到了最后一步才进行约分，用 math.gcd 求出最大公倍数之后才处理。\n",
    "\n",
    "这是合理的操作。"
   ]
  }
 ],
 "metadata": {
  "kernelspec": {
   "display_name": "Python 3",
   "language": "python",
   "name": "python3"
  },
  "language_info": {
   "codemirror_mode": {
    "name": "ipython",
    "version": 3
   },
   "file_extension": ".py",
   "mimetype": "text/x-python",
   "name": "python",
   "nbconvert_exporter": "python",
   "pygments_lexer": "ipython3",
   "version": "3.7.6"
  }
 },
 "nbformat": 4,
 "nbformat_minor": 4
}
