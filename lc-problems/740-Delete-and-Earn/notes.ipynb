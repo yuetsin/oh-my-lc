{
 "cells": [
  {
   "cell_type": "markdown",
   "metadata": {},
   "source": [
    "# 740 Delete and Earn\n",
    "\n",
    "Runtime: 56 ms, faster than 67.89% of Python3 online submissions for Delete and Earn.\n",
    "\n",
    "Memory Usage: 12.7 MB, less than 100.00% of Python3 online submissions for Delete and Earn.\n",
    "\n",
    "DP 必要。这里直接用穷举 + DFS 会爆炸。\n",
    "\n",
    "要诀：每个数字实际上都有一个「价值」。对数字 i 来说，我们拿走了她，就必须牺牲掉所有的 i - 1 和 i + 1。同时考虑到，分多次拿走一个 i 和一次拿走全部的 i 是没区别的——你的牺牲已经做出了。因此，要拿 i 就得拿走全部的 i。\n",
    "\n",
    "因此，最后的抉择就变成了对于连续的一串数字来说，拿走那些数字和不拿走那些数字。\n",
    "\n",
    "这不就跟 House Robbery 问题很类似吗？就这么干。"
   ]
  },
  {
   "cell_type": "markdown",
   "metadata": {},
   "source": [
    "Algorithm\n",
    "\n",
    "For each unique value k of nums in increasing order, let's maintain the correct values of avoid and using, which represent the answer if we don't take or take k respectively.\n",
    "\n",
    "If the new value k is adjacent to the previously largest value prev, then the answer if we must take k is (the point value of k) + avoid, while the answer if we must not take k is max(avoid, using). Similarly, if k is not adjacent to prev, the answer if we must take k is (the point value of k) + max(avoid, using), and the answer if we must not take k is max(avoid, using).\n",
    "\n",
    "At the end, the best answer may or may not use the largest value in nums, so we return max(avoid, using).\n",
    "\n",
    "Our demonstrated solutions showcase two different kinds of sorts: a library one, and a radix sort. For each language, the other kind of solution can be done without much difficulty, by using an array (Python) or HashMap (Java) respectively."
   ]
  }
 ],
 "metadata": {
  "kernelspec": {
   "display_name": "Python 3",
   "language": "python",
   "name": "python3"
  },
  "language_info": {
   "codemirror_mode": {
    "name": "ipython",
    "version": 3
   },
   "file_extension": ".py",
   "mimetype": "text/x-python",
   "name": "python",
   "nbconvert_exporter": "python",
   "pygments_lexer": "ipython3",
   "version": "3.7.6"
  }
 },
 "nbformat": 4,
 "nbformat_minor": 4
}
