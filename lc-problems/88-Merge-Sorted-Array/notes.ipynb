{
 "cells": [
  {
   "cell_type": "code",
   "execution_count": null,
   "metadata": {},
   "outputs": [],
   "source": [
    "首先用 0 来作为 List 的不满填充符就有点傻。0 本身就可能作为输入值进来。鉴于 Python 那个万金油 List，放点儿别的不好么？比如 None？"
   ]
  },
  {
   "cell_type": "code",
   "execution_count": null,
   "metadata": {},
   "outputs": [],
   "source": [
    "好了不吐槽了。要做一个 Merge Sorted Array，就是 Merge Sort 的基本操作：合并两个有序数组。如果用上额外空间，此题毫无难度。\n",
    "但是为了节约空间。这里可以反向开始遍历并充入数据。这样，优先写入 A 的 offset 部分，不会产生 Destination 里的数据还要用的情况了。"
   ]
  },
  {
   "cell_type": "code",
   "execution_count": null,
   "metadata": {},
   "outputs": [],
   "source": [
    "OK，那就这样吧。这题不是很有趣。"
   ]
  }
 ],
 "metadata": {
  "kernelspec": {
   "display_name": "Python 3",
   "language": "python",
   "name": "python3"
  }
 },
 "nbformat": 4,
 "nbformat_minor": 2
}
