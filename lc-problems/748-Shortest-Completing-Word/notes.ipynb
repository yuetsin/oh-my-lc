{
 "cells": [
  {
   "cell_type": "markdown",
   "metadata": {},
   "source": [
    "# 748 Shortest Completing Word\n",
    "\n",
    "Runtime: 68 ms, faster than 78.67% of Python3 online submissions for Shortest Completing Word.\n",
    "\n",
    "Memory Usage: 12.8 MB, less than 100.00% of Python3 online submissions for Shortest Completing Word.\n",
    "\n",
    "故弄玄虚题…\n",
    "\n",
    "licensePlate 是不知道哪来的一个专有名词…\n",
    "\n",
    "不谈这个，licensePlate 里面的随机插入的空格、数字都是没用的（……）\n",
    "\n",
    "尽管如此，这题还是被评级为 Easy、获得 55.8% 的通过率、\n",
    "\n",
    "以及 150 个赞 和 542 个踩。\n",
    "\n",
    "作者是受了什么刺激吗？"
   ]
  }
 ],
 "metadata": {
  "kernelspec": {
   "display_name": "Python 3",
   "language": "python",
   "name": "python3"
  },
  "language_info": {
   "codemirror_mode": {
    "name": "ipython",
    "version": 3
   },
   "file_extension": ".py",
   "mimetype": "text/x-python",
   "name": "python",
   "nbconvert_exporter": "python",
   "pygments_lexer": "ipython3",
   "version": "3.7.6"
  }
 },
 "nbformat": 4,
 "nbformat_minor": 4
}
