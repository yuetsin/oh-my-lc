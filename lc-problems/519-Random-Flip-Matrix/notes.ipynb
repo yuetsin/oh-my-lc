{
 "cells": [
  {
   "cell_type": "markdown",
   "metadata": {},
   "source": [
    "# 519 Random Flip Matrix\n",
    "\n",
    "难点就是保证 Uniform。要有相等的概率挑选到所有的 Untouched Grid。\n",
    "\n",
    "把 Touched 的点存放在 Sorted List 里…然后，插入的复杂度就压到了 O(Log N)。得到 （Total - Touched）的随机数，然后从左上到右下地遍历 Touched 点，并填充那些在 Random Grid 之前的值。\n",
    "\n",
    "最后，返回就好了。\n",
    "\n",
    "Reset 做的事情就是清理 Touched 数组、重置 Counter。\n",
    "\n",
    "Runtime: 72 ms, faster than 30.51% of Python3 online submissions for Random Flip Matrix.\n",
    "\n",
    "Memory Usage: 12.8 MB, less than 100.00% of Python3 online submissions for Random Flip Matrix."
   ]
  }
 ],
 "metadata": {
  "kernelspec": {
   "display_name": "Python 3",
   "language": "python",
   "name": "python3"
  },
  "language_info": {
   "codemirror_mode": {
    "name": "ipython",
    "version": 3
   },
   "file_extension": ".py",
   "mimetype": "text/x-python",
   "name": "python",
   "nbconvert_exporter": "python",
   "pygments_lexer": "ipython3",
   "version": "3.7.6"
  }
 },
 "nbformat": 4,
 "nbformat_minor": 4
}
