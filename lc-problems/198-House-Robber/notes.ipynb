{
 "cells": [
  {
   "cell_type": "markdown",
   "metadata": {},
   "source": [
    "# 198  House Robber\n",
    "\n",
    "有一条十里长街，上面有一整排房子；不能 Rob 两件连续的房子；要 Rob 到最多的钱。\n",
    "\n",
    "中央网络安全和信息化委员会办公室：引诱犯罪，墙掉了（x）\n",
    "\n",
    "简单说，直接递归 + 动态规划就好了。\n",
    "\n",
    "为了减少多次创建临时 List 对象，选择把 List 放在全局，函数只取用 List 指针，并告知他从哪里开始数（尽量尽量减少 Slice List。太慢了那个）\n",
    "\n",
    "不加 DP 表会 TLE。加一个 hash 就好了。"
   ]
  }
 ],
 "metadata": {
  "kernelspec": {
   "display_name": "Python 3",
   "language": "python",
   "name": "python3"
  },
  "language_info": {
   "codemirror_mode": {
    "name": "ipython",
    "version": 3
   },
   "file_extension": ".py",
   "mimetype": "text/x-python",
   "name": "python",
   "nbconvert_exporter": "python",
   "pygments_lexer": "ipython3",
   "version": "3.7.4"
  }
 },
 "nbformat": 4,
 "nbformat_minor": 2
}
