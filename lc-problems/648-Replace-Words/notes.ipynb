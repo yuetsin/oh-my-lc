{
 "cells": [
  {
   "cell_type": "markdown",
   "metadata": {},
   "source": [
    "# 648 Replace Words\n",
    "\n",
    "Runtime: 192 ms, faster than 40.22% of Python3 online submissions for Replace Words.\n",
    "\n",
    "Memory Usage: 17.5 MB, less than 70.00% of Python3 online submissions for Replace Words.\n",
    "\n",
    "替代文本…没啥可说的。简单的想法（从开头开始截断词，找到就替代它）就足够了。\n",
    "\n",
    "P.S. 查词一定要用 set，可以降低时间复杂度一个级。\n",
    "\n",
    "P.S. LeetCode 刚把 Debugger 和 Autocomplete 给设置成 Premium Only 的功能了…\n",
    "\n",
    "随便吧…反正本来也不好使…"
   ]
  }
 ],
 "metadata": {
  "kernelspec": {
   "display_name": "Python 3",
   "language": "python",
   "name": "python3"
  },
  "language_info": {
   "codemirror_mode": {
    "name": "ipython",
    "version": 3
   },
   "file_extension": ".py",
   "mimetype": "text/x-python",
   "name": "python",
   "nbconvert_exporter": "python",
   "pygments_lexer": "ipython3",
   "version": "3.7.6"
  }
 },
 "nbformat": 4,
 "nbformat_minor": 4
}
