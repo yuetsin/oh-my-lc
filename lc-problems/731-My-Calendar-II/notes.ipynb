{
 "cells": [
  {
   "cell_type": "markdown",
   "metadata": {},
   "source": [
    "# 731 My Calendar II\n",
    "\n",
    "跟 Calendar I 很类似。只不过我们维护一个 overlapping 的 Tuple List，在第一次遇到 Overlapping 的时候允许之，并且将公共部分加入 List；第二次遇到跟 Overlapping 重复的时候，直接拒绝。\n",
    "\n",
    "就这么简单。"
   ]
  }
 ],
 "metadata": {
  "kernelspec": {
   "display_name": "Python 3",
   "language": "python",
   "name": "python3"
  },
  "language_info": {
   "codemirror_mode": {
    "name": "ipython",
    "version": 3
   },
   "file_extension": ".py",
   "mimetype": "text/x-python",
   "name": "python",
   "nbconvert_exporter": "python",
   "pygments_lexer": "ipython3",
   "version": "3.7.6"
  }
 },
 "nbformat": 4,
 "nbformat_minor": 4
}
