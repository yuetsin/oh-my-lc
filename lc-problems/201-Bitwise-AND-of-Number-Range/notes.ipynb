{
 "cells": [
  {
   "cell_type": "markdown",
   "metadata": {},
   "source": [
    "# 201\n",
    "\n",
    "Brute AND 操作：\n",
    "\n",
    "给定两个数 m - n，计算他们之间所有的数字的 AND 值。\n",
    "\n",
    "这个，如果你暴力 &= 肯定是会 TLE 的。（我还专门试验了一下"
   ]
  },
  {
   "cell_type": "code",
   "execution_count": null,
   "metadata": {},
   "outputs": [],
   "source": [
    "int rangeBitwiseAnd(int m, int n) {\n",
    "    while(m<n) n = n & (n-1);\n",
    "    return n;\n",
    "}"
   ]
  },
  {
   "cell_type": "markdown",
   "metadata": {},
   "source": [
    "正解在此(by @charlie.chen)：不停地对 n &= n - 1，直到 n 比 m 小。\n",
    "\n",
    "这似乎有一点反直觉：为什么会这样？我们来细细分析。\n",
    "\n",
    "（这个解答出现的时候，题目还没有给出 m <= n 的条件，所以他分了三种情况分析。）\n",
    "\n",
    "(1)if n>m, we should ask: why?\n",
    "\n",
    "经典的讨论来了：n > m。为什么 n > m？是因为他们的二进制表示一定是分为三部分：\n",
    "\n",
    "m := common bits + 0 + remaining bits of m\n",
    "n := common bits + 1 + remaining bits of n.\n",
    "(thx to @qeatzy's nicely summary)\n",
    "\n",
    "前面有一串公共部分，这一部分不影响它们的大小关系（当然，有些情况下这一部分 common bits 长度为 0，直接进入下一部分）\n",
    "然后在一处关键的 bit 上，n 取了 1，m 取了 0。从此以后他们后面的 1 或是 0 都无所谓了。不能再影响他们的值关系了。\n",
    "\n",
    "因此，我们想要去找到 m 到 n 之间全部的公共 bits，就是要清除掉 remaining bits（不影响 m 跟 n 大小关系的那部分）和那一位 critical bits（决定了 m 跟 n 大小关系的一部分），只留下 common bits。\n",
    "\n",
    "这样的话，我们的解答已经很明显了吧。只要不断往下递减 1，直到我们到了 m，就代表清除掉了那些我们不需要的 1 bits 啦。\n",
    "\n",
    "(2)when n==m, obviously n is the result.\n",
    "\n",
    "n == m 情况太 trivial。不谈。\n",
    "\n",
    "(3)when n < m, 同上自己想。\n",
    "\n",
    "以上。\n",
    "\n",
    "这种方案的复杂度：\n",
    "\n",
    "Runtime: 8 ms, faster than 92.57% of C++ online submissions for Bitwise AND of Numbers Range.\n",
    "\n",
    "Memory Usage: 8.3 MB, less than 72.73% of C++ online submissions for Bitwise AND of Numbers Range."
   ]
  }
 ],
 "metadata": {
  "kernelspec": {
   "display_name": "Python 3",
   "language": "python",
   "name": "python3"
  },
  "language_info": {
   "codemirror_mode": {
    "name": "ipython",
    "version": 3
   },
   "file_extension": ".py",
   "mimetype": "text/x-python",
   "name": "python",
   "nbconvert_exporter": "python",
   "pygments_lexer": "ipython3",
   "version": "3.7.4"
  }
 },
 "nbformat": 4,
 "nbformat_minor": 2
}
