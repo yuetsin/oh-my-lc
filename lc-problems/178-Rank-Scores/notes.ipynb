{
 "cells": [
  {
   "cell_type": "markdown",
   "metadata": {},
   "source": [
    "# 178\n",
    "很失败。这种题目都提交了四次。"
   ]
  },
  {
   "cell_type": "markdown",
   "metadata": {},
   "source": [
    "就是一个 DENSE RANK 的题目：不论得到相同成绩的人有多少，都只当作一个人计算，也不会因为重复的得分而产生「名次断层」。"
   ]
  },
  {
   "cell_type": "markdown",
   "metadata": {},
   "source": [
    "所以记得要用 COUNT(DISTINCT SCORE)。\n",
    "另外，HAVING 是用来筛选 聚合函数生成的 Column 的。普通列还是用 WHERE。你是个傻子。"
   ]
  }
 ],
 "metadata": {
  "kernelspec": {
   "display_name": "Python 3",
   "language": "python",
   "name": "python3"
  },
  "language_info": {
   "codemirror_mode": {
    "name": "ipython",
    "version": 3
   },
   "file_extension": ".py",
   "mimetype": "text/x-python",
   "name": "python",
   "nbconvert_exporter": "python",
   "pygments_lexer": "ipython3",
   "version": "3.7.4"
  }
 },
 "nbformat": 4,
 "nbformat_minor": 2
}
