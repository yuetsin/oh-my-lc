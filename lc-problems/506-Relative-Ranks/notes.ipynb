{
 "cells": [
  {
   "cell_type": "markdown",
   "metadata": {},
   "source": [
    "# 506 Relative Ranks\n",
    "\n",
    "这题真的没啥意思…\n",
    "\n",
    "就是求出最低位次，而且这个值还不重复的。没有任何复杂的重复问题。\n",
    "\n",
    "唯一的难点…大概就是要给 123 位分配特别 Medal 吧。\n",
    "\n",
    "Runtime: 120 ms, faster than 27.29% of Python3 online submissions for Relative Ranks.\n",
    "\n",
    "Memory Usage: 13.4 MB, less than 100.00% of Python3 online submissions for Relative Ranks."
   ]
  }
 ],
 "metadata": {
  "kernelspec": {
   "display_name": "Python 3",
   "language": "python",
   "name": "python3"
  },
  "language_info": {
   "codemirror_mode": {
    "name": "ipython",
    "version": 3
   },
   "file_extension": ".py",
   "mimetype": "text/x-python",
   "name": "python",
   "nbconvert_exporter": "python",
   "pygments_lexer": "ipython3",
   "version": "3.7.6"
  }
 },
 "nbformat": 4,
 "nbformat_minor": 4
}
