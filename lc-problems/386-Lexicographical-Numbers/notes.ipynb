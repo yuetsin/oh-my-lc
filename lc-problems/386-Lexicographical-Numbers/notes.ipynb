{
 "cells": [
  {
   "cell_type": "markdown",
   "metadata": {},
   "source": [
    "# 386\n",
    "\n",
    "明明…我之前也试过这种方法了。直接 str 然后 sort 的，\n",
    "\n",
    "但为什么你直接返回 List[str] 也可以通过啊…\n",
    "\n",
    "Judge 在干什么啊"
   ]
  }
 ],
 "metadata": {
  "kernelspec": {
   "display_name": "Python 3",
   "language": "python",
   "name": "python3"
  },
  "language_info": {
   "codemirror_mode": {
    "name": "ipython",
    "version": 3
   },
   "file_extension": ".py",
   "mimetype": "text/x-python",
   "name": "python",
   "nbconvert_exporter": "python",
   "pygments_lexer": "ipython3",
   "version": "3.7.4"
  }
 },
 "nbformat": 4,
 "nbformat_minor": 2
}
