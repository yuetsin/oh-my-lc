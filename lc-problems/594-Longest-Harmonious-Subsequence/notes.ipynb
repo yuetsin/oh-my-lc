{
 "cells": [
  {
   "cell_type": "markdown",
   "metadata": {},
   "source": [
    "# 594 Longest Harmonious Subsequence\n",
    "\n",
    "@just_not_over_12（南条爱乃）终于出了道能做的题…\n",
    "\n",
    "Runtime: 316 ms, faster than 97.01% of Python3 online submissions for Longest Harmonious Subsequence.\n",
    "\n",
    "Memory Usage: 14.2 MB, less than 100.00% of Python3 online submissions for Longest Harmonious Subsequence.\n",
    "\n",
    "虽然这题还是很软。直接 Counter 一下，O(N) 解决了。"
   ]
  }
 ],
 "metadata": {
  "kernelspec": {
   "display_name": "Python 3",
   "language": "python",
   "name": "python3"
  },
  "language_info": {
   "codemirror_mode": {
    "name": "ipython",
    "version": 3
   },
   "file_extension": ".py",
   "mimetype": "text/x-python",
   "name": "python",
   "nbconvert_exporter": "python",
   "pygments_lexer": "ipython3",
   "version": "3.7.6"
  }
 },
 "nbformat": 4,
 "nbformat_minor": 4
}
