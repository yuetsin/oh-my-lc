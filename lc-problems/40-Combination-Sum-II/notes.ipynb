{
 "cells": [
  {
   "cell_type": "code",
   "execution_count": null,
   "metadata": {},
   "outputs": [],
   "source": [
    "Similar as the solutions above... Just we need to remove the \"used\" value from the recursive parameters.\n",
    "Make a deepcopy every time is unacceptable... So we will: #1 del cand[i], #2 call subfunction, #3 insert(i, val)."
   ]
  },
  {
   "cell_type": "code",
   "execution_count": null,
   "metadata": {},
   "outputs": [],
   "source": [
    "Thus it would be faster well."
   ]
  }
 ],
 "metadata": {
  "kernelspec": {
   "display_name": "Python 3",
   "language": "python",
   "name": "python3"
  }
 },
 "nbformat": 4,
 "nbformat_minor": 2
}
