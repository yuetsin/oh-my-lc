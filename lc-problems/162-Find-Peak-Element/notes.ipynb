{
 "cells": [
  {
   "cell_type": "code",
   "execution_count": null,
   "metadata": {},
   "outputs": [],
   "source": [
    "啥是 Peak Element 啊？\n",
    "极大值点？（大概是这么个意思）\n",
    "\n",
    "但是找起来也没什么意思，只需要找出其中一个，而且边缘值认定两边都是悬崖（负无穷），也可能会出 Peak。"
   ]
  },
  {
   "cell_type": "code",
   "execution_count": null,
   "metadata": {},
   "outputs": [],
   "source": [
    "public class Solution {\n",
    "    public int findPeakElement(int[] nums) {\n",
    "        return search(nums, 0, nums.length - 1);\n",
    "    }\n",
    "    public int search(int[] nums, int l, int r) {\n",
    "        if (l == r)\n",
    "            return l;\n",
    "        int mid = (l + r) / 2;\n",
    "        if (nums[mid] > nums[mid + 1])\n",
    "            return search(nums, l, mid);\n",
    "        return search(nums, mid + 1, r);\n",
    "    }\n",
    "}"
   ]
  },
  {
   "cell_type": "code",
   "execution_count": null,
   "metadata": {},
   "outputs": [],
   "source": [
    "二分搜索／Iteration 法都可以变成 O(LogN) 的时间复杂度。总比我写的 Linear Search 强。"
   ]
  }
 ],
 "metadata": {
  "kernelspec": {
   "display_name": "Python 3",
   "language": "python",
   "name": "python3"
  },
  "language_info": {
   "codemirror_mode": {
    "name": "ipython",
    "version": 3
   },
   "file_extension": ".py",
   "mimetype": "text/x-python",
   "name": "python",
   "nbconvert_exporter": "python",
   "pygments_lexer": "ipython3",
   "version": "3.7.3"
  }
 },
 "nbformat": 4,
 "nbformat_minor": 2
}
