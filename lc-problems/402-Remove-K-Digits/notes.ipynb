{
 "cells": [
  {
   "cell_type": "markdown",
   "metadata": {},
   "source": [
    "# 402 Remove K Digits"
   ]
  },
  {
   "cell_type": "code",
   "execution_count": null,
   "metadata": {},
   "outputs": [],
   "source": [
    "class Solution:\n",
    "    def removeKdigits(self, num: str, k: int) -> str:\n",
    "        st = \"\"\n",
    "        \n",
    "        for d in num:\n",
    "            while k > 0 and len(st) > 0 and st[-1] > d:\n",
    "                st = st[:-1]\n",
    "                k -= 1\n",
    "            \n",
    "            st += d\n",
    "        \n",
    "        st = st[:-k] if k > 0 else st\n",
    "        return st.lstrip('0') or \"0\""
   ]
  },
  {
   "cell_type": "markdown",
   "metadata": {},
   "source": [
    "如此简单清洁…\n",
    "\n",
    "题目是：给出一个不超过 10002 位的数字，从中删除 k 个数位，使得结果最小。\n",
    "\n",
    "解答方案是做一次扫描，从中挑出一些元素不加入 st 中（也就类似是被删除了。）\n",
    "\n",
    "条件是什么呢？\n",
    "\n",
    "* k > 0，也就是还有可以删除的指标\n",
    "* len(st) > 0，也就是还可以删除的\n",
    "* st[-1] > d\n",
    "\n",
    "这个很重要；假若当前待处理集合中最後一位数字比当前值 d 大，就用当前值替换他。\n",
    "\n",
    "总保证了能更小的值我都尝试过了。\n",
    "\n",
    "因为数字大小的比较具有「位数决定论」，即前一位的大小比较一旦确定，後面的部分都不再重要。\n",
    "\n",
    "因此就是这样了。\n",
    "\n",
    "注意：特别处理 \"\" => \"0\" 的情况。"
   ]
  }
 ],
 "metadata": {
  "kernelspec": {
   "display_name": "Python 3",
   "language": "python",
   "name": "python3"
  },
  "language_info": {
   "codemirror_mode": {
    "name": "ipython",
    "version": 3
   },
   "file_extension": ".py",
   "mimetype": "text/x-python",
   "name": "python",
   "nbconvert_exporter": "python",
   "pygments_lexer": "ipython3",
   "version": "3.7.4"
  }
 },
 "nbformat": 4,
 "nbformat_minor": 2
}
