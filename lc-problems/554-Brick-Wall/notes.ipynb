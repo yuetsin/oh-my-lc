{
 "cells": [
  {
   "cell_type": "markdown",
   "metadata": {},
   "source": [
    "# 554 Brick Wall\n",
    "\n",
    "简单题…\n",
    "\n",
    "只要抓住一个关键点：能尽量少破开砖，目的就是尽量贴着接缝切。\n",
    "\n",
    "Runtime: 192 ms, faster than 64.91% of Python3 online submissions for Brick Wall.\n",
    "\n",
    "Memory Usage: 17.6 MB, less than 50.00% of Python3 online submissions for Brick Wall.\n",
    "\n",
    "numpy 作弊法参见 sample_numpy.py。"
   ]
  }
 ],
 "metadata": {
  "kernelspec": {
   "display_name": "Python 3",
   "language": "python",
   "name": "python3"
  },
  "language_info": {
   "codemirror_mode": {
    "name": "ipython",
    "version": 3
   },
   "file_extension": ".py",
   "mimetype": "text/x-python",
   "name": "python",
   "nbconvert_exporter": "python",
   "pygments_lexer": "ipython3",
   "version": "3.7.6"
  }
 },
 "nbformat": 4,
 "nbformat_minor": 4
}
