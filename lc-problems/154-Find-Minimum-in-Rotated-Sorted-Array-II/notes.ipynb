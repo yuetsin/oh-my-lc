{
 "cells": [
  {
   "cell_type": "code",
   "execution_count": null,
   "metadata": {},
   "outputs": [],
   "source": [
    "恐怖的事情：#153 的代码直接拿到 #154 来，居然可以跑……"
   ]
  },
  {
   "cell_type": "code",
   "execution_count": null,
   "metadata": {},
   "outputs": [],
   "source": [
    "Runtime: 32 ms, faster than 96.40% of Python3 online submissions for Find Minimum in Rotated Sorted Array II.\n",
    "Memory Usage: 13.5 MB, less than 49.81% of Python3 online submissions for Find Minimum in Rotated Sorted Array II."
   ]
  },
  {
   "cell_type": "code",
   "execution_count": null,
   "metadata": {},
   "outputs": [],
   "source": [
    "因为这个解法可以处理好重复元素的情况。你 - - - 一直往前走都没关系。只要你走了下坡路，就抓住你。"
   ]
  },
  {
   "cell_type": "code",
   "execution_count": null,
   "metadata": {},
   "outputs": [],
   "source": [
    "题干问道：\n",
    "Would allow duplicates affect the run-time complexity? How and why?"
   ]
  },
  {
   "cell_type": "code",
   "execution_count": null,
   "metadata": {},
   "outputs": [],
   "source": [
    "然而，O(N) 似乎已经是不可避免的了。按照 @daddev 的说法："
   ]
  },
  {
   "cell_type": "code",
   "execution_count": null,
   "metadata": {},
   "outputs": [],
   "source": [
    "Stop wasting your time. It most likely has to be O(n).\n",
    "@daddev\n",
    "Last Edit: October 7, 2018 8:32 AM\n",
    "3.5K VIEWS\n",
    "There is no faster way than O(n) to solve an input like \"1 1 1 1 1 0 1 1 1 1 1 1 1 1\". Binary search won't work in this case as your nums[start] == nums[mid] == nums[end], which half would you discard then? In other words, you have to examine all elements. With that being said, this is probably the only way to solve it. Run time: 6ms. Not bad at all.\n",
    "\n",
    "\n",
    "class Solution {\n",
    "public:\n",
    "    int findMin(vector& nums) {\n",
    "        int min = nums[0];\n",
    "        for (int val : nums)\n",
    "        {\n",
    "            if (min > val)\n",
    "            {\n",
    "                min = val;\n",
    "            }\n",
    "        }\n",
    "        \n",
    "        return min;\n",
    "    }\n",
    "};"
   ]
  },
  {
   "cell_type": "code",
   "execution_count": null,
   "metadata": {},
   "outputs": [],
   "source": [
    "这就是我们提的「Worst Case」了吧……"
   ]
  }
 ],
 "metadata": {
  "kernelspec": {
   "display_name": "Python 3",
   "language": "python",
   "name": "python3"
  }
 },
 "nbformat": 4,
 "nbformat_minor": 2
}
