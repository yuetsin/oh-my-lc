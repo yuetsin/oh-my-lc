{
 "cells": [
  {
   "cell_type": "code",
   "execution_count": null,
   "metadata": {},
   "outputs": [],
   "source": [
    "开始之前先讲个笑话：\n",
    "You may not modify the values in the list's nodes, only nodes itself may be changed."
   ]
  },
  {
   "cell_type": "code",
   "execution_count": null,
   "metadata": {},
   "outputs": [],
   "source": [
    "「不可以更改 Node 的值，只能更改 Node 自己」"
   ]
  },
  {
   "cell_type": "code",
   "execution_count": null,
   "metadata": {},
   "outputs": [],
   "source": [
    "人话？"
   ]
  },
  {
   "cell_type": "code",
   "execution_count": null,
   "metadata": {},
   "outputs": [],
   "source": [
    "其实想表达的是不可以通过改值的方式实现 Reorder，而是要通过更改 next 指针的方式来完成。（直说……）"
   ]
  },
  {
   "cell_type": "code",
   "execution_count": null,
   "metadata": {},
   "outputs": [],
   "source": [
    "然后我的方法还是一如既往的暴力……把所有的 Node 指针都收集到一块，然后再一个个重新指。"
   ]
  },
  {
   "cell_type": "code",
   "execution_count": null,
   "metadata": {},
   "outputs": [],
   "source": [
    "Runtime: 116 ms, faster than 11.73% of Python online submissions for Reorder List.\n",
    "Memory Usage: 29.7 MB, less than 31.23% of Python online submissions for Reorder List. "
   ]
  },
  {
   "cell_type": "code",
   "execution_count": null,
   "metadata": {},
   "outputs": [],
   "source": [
    "真正的好解法：\n",
    "# Splits in place a list in two halves, the first half is >= in size than the second.\n",
    "# @return A tuple containing the heads of the two halves\n",
    "def _splitList(head):\n",
    "    fast = head\n",
    "    slow = head\n",
    "    while fast and fast.next:\n",
    "        slow = slow.next\n",
    "        fast = fast.next\n",
    "        fast = fast.next\n",
    "\n",
    "    middle = slow.next\n",
    "    slow.next = None\n",
    "\n",
    "    return head, middle\n",
    "\n",
    "# Reverses in place a list.\n",
    "# @return Returns the head of the new reversed list\n",
    "def _reverseList(head):\n",
    "\n",
    "  last = None\n",
    "  currentNode = head\n",
    "\n",
    "  while currentNode:\n",
    "    nextNode = currentNode.next\n",
    "    currentNode.next = last\n",
    "    last = currentNode\n",
    "    currentNode = nextNode\n",
    "\n",
    "  return last\n",
    "\n",
    "# Merges in place two lists\n",
    "# @return The newly merged list.\n",
    "def _mergeLists(a, b):\n",
    "\n",
    "    tail = a\n",
    "    head = a\n",
    "\n",
    "    a = a.next\n",
    "    while b:\n",
    "        tail.next = b\n",
    "        tail = tail.next\n",
    "        b = b.next\n",
    "        if a:\n",
    "            a, b = b, a\n",
    "            \n",
    "    return head\n",
    "\n",
    "\n",
    "class Solution:\n",
    "\n",
    "    # @param head, a ListNode\n",
    "    # @return nothing\n",
    "    def reorderList(self, head):\n",
    "\n",
    "        if not head or not head.next:\n",
    "            return\n",
    "\n",
    "        a, b = _splitList(head)\n",
    "        b = _reverseList(b)\n",
    "        head = _mergeLists(a, b)"
   ]
  },
  {
   "cell_type": "code",
   "execution_count": null,
   "metadata": {},
   "outputs": [],
   "source": [
    "首先，把 List 拆分成两半，然后把后一半给 Reverse 掉。最后，再一个一个把他们俩 Merge 起来，就得到结果了。"
   ]
  },
  {
   "cell_type": "code",
   "execution_count": null,
   "metadata": {},
   "outputs": [],
   "source": [
    "把前面写过的几个写法都揉一块儿了……挺巧妙的。"
   ]
  },
  {
   "cell_type": "code",
   "execution_count": null,
   "metadata": {},
   "outputs": [],
   "source": [
    "顺带一提…这一套系列题目都是 Python2……没有 TypeLint 我要死了（不"
   ]
  }
 ],
 "metadata": {
  "kernelspec": {
   "display_name": "Python 3",
   "language": "python",
   "name": "python3"
  }
 },
 "nbformat": 4,
 "nbformat_minor": 2
}
