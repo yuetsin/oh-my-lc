{
 "cells": [
  {
   "cell_type": "markdown",
   "metadata": {},
   "source": [
    "# 628 Maximum Product of Three Numbers\n",
    "\n",
    "找三个数的乘积最大……\n",
    "\n",
    "这不是很简单嘛.jpg\n",
    "\n",
    "不过留意，因为是「三个数」，所以有可能是两个负数消去符号得到的「最大」。\n",
    "\n",
    "不至于会有人写出 O(N^3) 的解吧（\n",
    "\n",
    "Runtime: 260 ms, faster than 98.96% of Python3 online submissions for Maximum Product of Three Numbers.\n",
    "\n",
    "Memory Usage: 13.8 MB, less than 100.00% of Python3 online submissions for Maximum Product of Three Numbers.\n",
    "\n",
    "P.S. 其实这个还可以继续优化。目前的复杂度是 O(N LogN)。但实际上进行一次线性扫描，记录最大的三个数和最小的两个数。这样复杂度可以压到 O(N)。\n",
    "\n",
    "但没必要（逃"
   ]
  }
 ],
 "metadata": {
  "kernelspec": {
   "display_name": "Python 3",
   "language": "python",
   "name": "python3"
  },
  "language_info": {
   "codemirror_mode": {
    "name": "ipython",
    "version": 3
   },
   "file_extension": ".py",
   "mimetype": "text/x-python",
   "name": "python",
   "nbconvert_exporter": "python",
   "pygments_lexer": "ipython3",
   "version": "3.7.6"
  }
 },
 "nbformat": 4,
 "nbformat_minor": 4
}
