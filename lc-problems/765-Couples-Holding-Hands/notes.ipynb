{
 "cells": [
  {
   "cell_type": "markdown",
   "metadata": {},
   "source": [
    "# 765 Couples Holding Hands\n",
    "\n",
    "给出一个 shuffle(range(N))。只能进行「交换两个元素」的操作。\n",
    "\n",
    "最後，要保证 2i 和 2i + 1 两个元素一定要相邻。\n",
    "\n",
    "这题啊…就应该用 Union Find（并查集）。\n",
    "\n",
    "技巧在这里：1. 把夫妇二人（2i 和 2i + 1 两人）放入一个集合。2. 把在原始 row 里面位于 [2i]、[2i + 1] 的两人放入一个集合。\n",
    "\n",
    "那么最後，n // 2 减去并查集合的个数就是我们需要进行 Swap 的次数。\n",
    "\n",
    "## Explanation\n",
    "\n",
    "考虑每一次的 Swap。如果某一个 Swap 之後，Swap 的两个人都还没有组 CP 成功，那就说明这个交换是无效的——在最优解里面不会出现这种交换。\n",
    "\n",
    "因此每次的交换都会让 UFS 的个数增加 1，且只会增加 1。\n",
    "\n",
    "> This is because in a given connected component, for each swap, we can at most generate one additional connected component.\n",
    "\n",
    "我们最终需要达到的结果是：值为 2i 和 2i + 1 的人在数组中总是相邻。考虑到其中没有单身狗，而且数组不是成环的，所以他们的索引一定是 2j 和 2j + 1。（不可能形如 2j + 1、2j + 2。否则 0 和 n - 1 就无法 Hold Hands 了。）\n",
    "\n",
    "因此完美的结果应该是 2i 、2i + 1 的 Bond（CP 之间的 Bond）和 row[2j]、row[2j + 1] 的 Bond（物理位置的 Bond）完全重合；这样我们会得到 n // 2 个集合；每对夫妻都正好位于其中。这需要 n // 2 - ufs.count 次交换。\n",
    "\n",
    "Runtime: 32 ms, faster than 54.34% of Python3 online submissions for Couples Holding Hands.\n",
    "\n",
    "Memory Usage: 12.8 MB, less than 100.00% of Python3 online submissions for Couples Holding Hands."
   ]
  }
 ],
 "metadata": {
  "kernelspec": {
   "display_name": "Python 3",
   "language": "python",
   "name": "python3"
  },
  "language_info": {
   "codemirror_mode": {
    "name": "ipython",
    "version": 3
   },
   "file_extension": ".py",
   "mimetype": "text/x-python",
   "name": "python",
   "nbconvert_exporter": "python",
   "pygments_lexer": "ipython3",
   "version": "3.7.6"
  }
 },
 "nbformat": 4,
 "nbformat_minor": 4
}
