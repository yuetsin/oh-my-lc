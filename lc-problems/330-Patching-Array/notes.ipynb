{
 "cells": [
  {
   "cell_type": "markdown",
   "metadata": {},
   "source": [
    "# 330\n",
    "\n",
    "Patching Array\n",
    "\n",
    "这题…让我觉得有点可怕。\n",
    "\n",
    "甚至没有想出来一个 Brute force 的方法。这太奇怪了。\n",
    "\n",
    "题面很简单：给定一些数字 nums，以及一个限界 num。要求在 nums 中加入最少个数的数字，使得这些数字的选择性求和可以加和出 1 到 nums 中的任何一个数。"
   ]
  },
  {
   "cell_type": "code",
   "execution_count": null,
   "metadata": {},
   "outputs": [],
   "source": [
    "class Solution:\n",
    "    def minPatches(self, nums: List[int], n: int) -> int:\n",
    "        patch, miss, i = 0, 1, 0\n",
    "        while miss <= n:\n",
    "            if i < len(nums) and nums[i] <= miss:   # loop till miss = max of the covered range + 1 = (K+1)\n",
    "                                                    # if nums[i] > miss then nums[i] is out of range even after patching miss e.g. 23 in [1,2,4,23,43]\n",
    "                miss += nums[i]   # get to the max of the covered range + 1, where +1 comes from initializing miss to be 1\n",
    "                i += 1\n",
    "            else:\n",
    "                miss += miss   # patch miss and lift miss from (K+1) to (2K+2) for finding the new (K+1) for the remaining numbers in nums\n",
    "                patch += 1     # no. of patches + 1\n",
    "        return patch"
   ]
  },
  {
   "cell_type": "markdown",
   "metadata": {},
   "source": [
    "让我们来看看解决方案：\n",
    "\n",
    "首先我们要知道一个关键事实：\n",
    "\n",
    "if we have covered range [1 -> K], then adding the missing (K+1) can extend the range to [1 -> 2K + 1]\n",
    "\n",
    "这里，如果我们已经覆盖了 1 ~ K 之间的所有数字，那么只要加上 K + 1 这个数就能把我们的范围扩展到 2K + 1。\n",
    "\n",
    "patch or no patch: if next number in nums is within [1 -> 2K+1] range then no need to patch, else patch (2*K+1+1) again\n",
    "\n",
    "所以要不要添加一个 patch 呢？如果下一个数字是在 1 ~ 2K + 1 范围之内，那么我们就无需添加 Patch；\n",
    "\n",
    "假如超过这个范围，我们就需要额外添加 2 * K + 1 + 1 这个数字来让我们的范围再扩大一倍。\n",
    "\n",
    "啊？真的这么简单？这样就可以得到结果了吗？\n",
    "\n",
    "Runtime: 76 ms, faster than 41.00% of Python3 online submissions for Patching Array.\n",
    "\n",
    "Memory Usage: 13.8 MB, less than 50.00% of Python3 online submissions for Patching Array.\n",
    "\n",
    "真的就是。"
   ]
  }
 ],
 "metadata": {
  "kernelspec": {
   "display_name": "Python 3",
   "language": "python",
   "name": "python3"
  },
  "language_info": {
   "codemirror_mode": {
    "name": "ipython",
    "version": 3
   },
   "file_extension": ".py",
   "mimetype": "text/x-python",
   "name": "python",
   "nbconvert_exporter": "python",
   "pygments_lexer": "ipython3",
   "version": "3.7.4"
  }
 },
 "nbformat": 4,
 "nbformat_minor": 2
}
