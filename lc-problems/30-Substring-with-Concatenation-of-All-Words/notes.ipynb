{
 "cells": [
  {
   "cell_type": "code",
   "execution_count": null,
   "metadata": {},
   "outputs": [],
   "source": [
    "My thought: Every time we access a \"possible\" string concatenation of all words (judging its length), \n",
    "we made a copy of the word list, every time when we iterates the string, we remove the single word from the list.\n",
    "When we can't delete that in the list, it can't be a real concatenation."
   ]
  },
  {
   "cell_type": "code",
   "execution_count": null,
   "metadata": {},
   "outputs": [],
   "source": [
    "However... Copying and Removing elements from the list is so slow. The correct way to perform it should be the HashSet.\n",
    "Checking the existence and removing element in a hash set can be very quick in O(1) time complexity."
   ]
  }
 ],
 "metadata": {
  "kernelspec": {
   "display_name": "Python 3",
   "language": "python",
   "name": "python3"
  }
 },
 "nbformat": 4,
 "nbformat_minor": 2
}
