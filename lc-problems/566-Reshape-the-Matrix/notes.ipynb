{
 "cells": [
  {
   "cell_type": "markdown",
   "metadata": {},
   "source": [
    "# 566 Reshape the Matrix\n",
    "\n",
    "直接用 numpy 的 resize 偷就好了…\n",
    "\n",
    "Runtime: 168 ms, faster than 8.09% of Python3 online submissions for Reshape the Matrix.\n",
    "\n",
    "Memory Usage: 29 MB, less than 5.55% of Python3 online submissions for Reshape the Matrix.\n",
    "\n",
    "因为这题太简单（所以没有什么负罪感"
   ]
  }
 ],
 "metadata": {
  "kernelspec": {
   "display_name": "Python 3",
   "language": "python",
   "name": "python3"
  },
  "language_info": {
   "codemirror_mode": {
    "name": "ipython",
    "version": 3
   },
   "file_extension": ".py",
   "mimetype": "text/x-python",
   "name": "python",
   "nbconvert_exporter": "python",
   "pygments_lexer": "ipython3",
   "version": "3.7.6"
  }
 },
 "nbformat": 4,
 "nbformat_minor": 4
}
