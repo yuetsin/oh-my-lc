{
 "cells": [
  {
   "cell_type": "markdown",
   "metadata": {},
   "source": [
    "# 481 Magical String\n",
    "\n",
    "事情到底是怎么样，你明白了吗？\n",
    "\n",
    "这个字符串自己生成自己的后续。后续最终也成为自己的一部分，再去生成后续的后续。\n",
    "\n",
    "我们只需要指定一个开头，并一位一位向后遍历。遇到 1 的时候，就在最后加 1 个字符。遇到 2 的时候，就在最后加 2 个相同的字符。\n",
    "\n",
    "为了区别，每次加的字符在 1 和 2 之间交替。\n",
    "\n",
    "就这样，Magical String 就生成了。\n",
    "\n",
    "似乎也没那么魔法吧。\n",
    "\n",
    "Runtime: 112 ms, faster than 89.09% of Python3 online submissions for Magical String.\n",
    "\n",
    "Memory Usage: 13.9 MB, less than 75.00% of Python3 online submissions for Magical String."
   ]
  }
 ],
 "metadata": {
  "kernelspec": {
   "display_name": "Python 3",
   "language": "python",
   "name": "python3"
  },
  "language_info": {
   "codemirror_mode": {
    "name": "ipython",
    "version": 3
   },
   "file_extension": ".py",
   "mimetype": "text/x-python",
   "name": "python",
   "nbconvert_exporter": "python",
   "pygments_lexer": "ipython3",
   "version": "3.7.6"
  }
 },
 "nbformat": 4,
 "nbformat_minor": 4
}
