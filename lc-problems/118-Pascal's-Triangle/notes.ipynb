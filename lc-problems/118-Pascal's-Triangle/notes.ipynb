{
 "cells": [
  {
   "cell_type": "code",
   "execution_count": null,
   "metadata": {},
   "outputs": [],
   "source": [
    "杨辉/贾宪三角（Pascal's Triangle）…"
   ]
  },
  {
   "cell_type": "code",
   "execution_count": null,
   "metadata": {},
   "outputs": [],
   "source": [
    "> 梦回中学"
   ]
  },
  {
   "cell_type": "code",
   "execution_count": null,
   "metadata": {},
   "outputs": [],
   "source": [
    "本来可以写个很漂亮的 Recursive。但是鉴于这个问题有数学解决方案…那还是用数学的好了）"
   ]
  },
  {
   "cell_type": "code",
   "execution_count": null,
   "metadata": {},
   "outputs": [],
   "source": [
    "> Runtime: 24 ms, faster than 99.89% of Python3 online submissions for Pascal's Triangle.\n",
    "> Memory Usage: 12.8 MB, less than 92.00% of Python3 online submissions for Pascal's Triangle."
   ]
  },
  {
   "cell_type": "code",
   "execution_count": null,
   "metadata": {},
   "outputs": [],
   "source": [
    "附一个 PHP DP 解法："
   ]
  },
  {
   "cell_type": "code",
   "execution_count": null,
   "metadata": {},
   "outputs": [],
   "source": [
    "   /**\n",
    "     * @param Integer $numRows\n",
    "     * @return Integer[][]\n",
    "     */\n",
    "    function generate($numRows) {\n",
    "       $res=[];\n",
    "        for($i=0;$i<$numRows;$i++){\n",
    "            for($j=0;$j<=$i;++$j){\n",
    "                if($i==0 && $j==0) $res[0][0]=1;\n",
    "                else $res[$i][$j]=$res[$i-1][$j-1]+$res[$i-1][$j];\n",
    "                \n",
    "            }\n",
    "        }\n",
    "        return $res;\n",
    "    }"
   ]
  }
 ],
 "metadata": {
  "kernelspec": {
   "display_name": "Python 3",
   "language": "python",
   "name": "python3"
  }
 },
 "nbformat": 4,
 "nbformat_minor": 2
}
