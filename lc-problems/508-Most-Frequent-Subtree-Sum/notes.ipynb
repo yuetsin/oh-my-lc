{
 "cells": [
  {
   "cell_type": "markdown",
   "metadata": {},
   "source": [
    "# 508 Most Frequent Subtree Sum\n",
    "\n",
    "Runtime: 92 ms, faster than 10.30% of Python3 online submissions for Most Frequent Subtree Sum.\n",
    "\n",
    "Memory Usage: 16.2 MB, less than 100.00% of Python3 online submissions for Most Frequent Subtree Sum.\n",
    "\n",
    "不难…每个节点的 Sum 指的是他的值和他所有子节点（包括间接的）的值的和。用一个 Traverse O(N) 地统计出频率，然后 O(N) 拿到最大值。还不是一个很爆炸的复杂度。\n",
    "\n",
    "但是，有没有办法可以在 Traverse 的过程中就直接统计出来，而不必二次遍历呢？\n",
    "\n",
    "好像没有。\n",
    "\n",
    "唯一一点的优化，就是，可以在 Traverse 的过程中把最大频率给统计出来，而不必在最后再遍历 Dict。"
   ]
  }
 ],
 "metadata": {
  "kernelspec": {
   "display_name": "Python 3",
   "language": "python",
   "name": "python3"
  },
  "language_info": {
   "codemirror_mode": {
    "name": "ipython",
    "version": 3
   },
   "file_extension": ".py",
   "mimetype": "text/x-python",
   "name": "python",
   "nbconvert_exporter": "python",
   "pygments_lexer": "ipython3",
   "version": "3.7.6"
  }
 },
 "nbformat": 4,
 "nbformat_minor": 4
}
