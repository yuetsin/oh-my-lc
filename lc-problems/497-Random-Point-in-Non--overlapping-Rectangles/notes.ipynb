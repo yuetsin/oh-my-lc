{
 "cells": [
  {
   "cell_type": "markdown",
   "metadata": {},
   "source": [
    "# 497 Random Point in Non-overlapping Rectangles\n",
    "\n",
    "没啥好说的。留意到这其实是古典概型而非几何概型——整数点的数目是一定的。\n",
    "\n",
    "[x1, y1, x2, y2] 定下来的几何点个数其实有 [x2 + 1 - x1] * [y2 + 1 - y1] 这么多。因为有边沿点的情况。\n",
    "\n",
    "其实这里可以省两个 randint 的——直接用 total - rv 这一随机数来确定长方形内点。\n",
    "\n",
    "35 / 35 test cases passed.\n",
    "\n",
    "Status: Accepted\n",
    "\n",
    "Runtime: 220 ms\n",
    "\n",
    "Memory Usage: 16.8 MB"
   ]
  }
 ],
 "metadata": {
  "kernelspec": {
   "display_name": "Python 3",
   "language": "python",
   "name": "python3"
  },
  "language_info": {
   "codemirror_mode": {
    "name": "ipython",
    "version": 3
   },
   "file_extension": ".py",
   "mimetype": "text/x-python",
   "name": "python",
   "nbconvert_exporter": "python",
   "pygments_lexer": "ipython3",
   "version": "3.7.6"
  }
 },
 "nbformat": 4,
 "nbformat_minor": 4
}
