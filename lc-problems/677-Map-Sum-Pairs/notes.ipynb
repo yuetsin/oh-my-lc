{
 "cells": [
  {
   "cell_type": "markdown",
   "metadata": {},
   "source": [
    "# 677 Map Sum Pairs\n",
    "\n",
    "Runtime: 32 ms, faster than 48.74% of Python3 online submissions for Map Sum Pairs.\n",
    "\n",
    "Memory Usage: 12.8 MB, less than 100.00% of Python3 online submissions for Map Sum Pairs.\n",
    "\n",
    "最爱的应用题（\n",
    "\n",
    "写了一个用 dict 的解法，插入/更新的复杂度是 O(1)；但是统计的复杂度是 O(N)。\n",
    "\n",
    "如果我们采用 @awice 的办法 #2，每次插入一个 word 的时候就把所有的前缀可能都遍历一遍，并放到 dict 里。\n",
    "\n",
    "这样的话，插入/更新的时间复杂度就变成了 O(N ^ 2)，但是统计只需要耗费 O(1)。\n",
    "\n",
    "同时这里需要耗费 O(N^2) 的空间。\n",
    "\n",
    "我是觉得…这优化不太值得。"
   ]
  }
 ],
 "metadata": {
  "kernelspec": {
   "display_name": "Python 3",
   "language": "python",
   "name": "python3"
  },
  "language_info": {
   "codemirror_mode": {
    "name": "ipython",
    "version": 3
   },
   "file_extension": ".py",
   "mimetype": "text/x-python",
   "name": "python",
   "nbconvert_exporter": "python",
   "pygments_lexer": "ipython3",
   "version": "3.7.6"
  }
 },
 "nbformat": 4,
 "nbformat_minor": 4
}
