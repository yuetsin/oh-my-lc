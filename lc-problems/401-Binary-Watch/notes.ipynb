{
 "cells": [
  {
   "cell_type": "markdown",
   "metadata": {},
   "source": [
    "# 401 BinaryWatch\n",
    "\n",
    "只是一个用二进制 LED 灯来表示时间的表而已。\n",
    "\n",
    "利用十个灯管（4个给 Hour 6 个给 Minute）来表示时间。\n",
    "\n",
    "看起来太费劲了。\n",
    "\n",
    "P.S. 提前打的表是本地用递归拼出来的。\n",
    "\n",
    "因为写的不好看，所以打成 Hash Table 才放上去。\n",
    "\n",
    "其实用 functools.lru_cache 也能实现差不多的效果。\n",
    "\n",
    "Runtime: 28 ms, faster than 97.60% of Python3 online submissions for Binary Watch.\n",
    "\n",
    "Memory Usage: 12.7 MB, less than 100.00% of Python3 online submissions for Binary Watch.\n",
    "\n",
    "不多说了。"
   ]
  }
 ],
 "metadata": {
  "kernelspec": {
   "display_name": "Python 3",
   "language": "python",
   "name": "python3"
  },
  "language_info": {
   "codemirror_mode": {
    "name": "ipython",
    "version": 3
   },
   "file_extension": ".py",
   "mimetype": "text/x-python",
   "name": "python",
   "nbconvert_exporter": "python",
   "pygments_lexer": "ipython3",
   "version": "3.7.4"
  }
 },
 "nbformat": 4,
 "nbformat_minor": 2
}
