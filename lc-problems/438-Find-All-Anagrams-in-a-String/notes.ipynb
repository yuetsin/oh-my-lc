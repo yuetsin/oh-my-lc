{
 "cells": [
  {
   "cell_type": "markdown",
   "metadata": {},
   "source": [
    "# 438 Find All Anagrams in a String\n",
    "\n",
    "事实上很简单…直接在窗口移动的时候根据两端的 char 更新 Dictionary 的值就足够了。\n",
    "\n",
    "Dirty 办法对每个窗口都独立进行 Counter，每一个的复杂度都是 O(M)。而总共遍历的次数是 O(N)，所以总复杂度就是 O(MN) 了。\n",
    "\n",
    "但假如我们只是更新两段窗口，时间复杂度是 O(1) 的。加上最开始的两轮 Counter，总的复杂度只有 O(N + 2M)。\n",
    "\n",
    "Runtime: 112 ms, faster than 72.43% of Python3 online submissions for Find All Anagrams in a String.\n",
    "Memory Usage: 13.7 MB, less than 100.00% of Python3 online submissions for Find All Anagrams in a String."
   ]
  }
 ],
 "metadata": {
  "kernelspec": {
   "display_name": "Python 3",
   "language": "python",
   "name": "python3"
  },
  "language_info": {
   "codemirror_mode": {
    "name": "ipython",
    "version": 3
   },
   "file_extension": ".py",
   "mimetype": "text/x-python",
   "name": "python",
   "nbconvert_exporter": "python",
   "pygments_lexer": "ipython3",
   "version": "3.7.6"
  }
 },
 "nbformat": 4,
 "nbformat_minor": 2
}
