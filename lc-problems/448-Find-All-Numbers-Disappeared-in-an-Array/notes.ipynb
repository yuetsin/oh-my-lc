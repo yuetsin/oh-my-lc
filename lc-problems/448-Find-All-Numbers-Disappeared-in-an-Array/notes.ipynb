{
 "cells": [
  {
   "cell_type": "markdown",
   "metadata": {},
   "source": [
    "# 448 Find All Numbers Disappeared in an Array\n",
    "\n",
    "Runtime: 360 ms, faster than 90.43% of Python3 online submissions for Find All Numbers Disappeared in an Array.\n",
    "Memory Usage: 22.9 MB, less than 7.14% of Python3 online submissions for Find All Numbers Disappeared in an Array.\n",
    "\n",
    "Python 的标准库实现实在很好…（经得住我这么折腾）\n",
    "\n",
    "题目本身不难：1～n 的数字，有些出现了两次，于是就有些没有出现。要找出哪些丢失的数字。\n",
    "\n",
    "用 set difference 当然好；但是，怎么不用额外空间来实现呢？\n",
    "\n",
    "同样要用到 #442 里面的，把原来的 List 当作哈希表来放，把那一个符号 Bit 拿来自己用。\n",
    "\n",
    "We use the input array itself as a hashmap to store if a number has been already encountered. Whenever we encounter a number, we set the element on that index to its negation. In the end, we check which numbers in the array are still positive. Those would be the missing elements.\n",
    "\n",
    "这样一次遍历就能找到哪些元素被访问过了，哪些没有。\n",
    "\n",
    "注意存在有些值出现了「恰好两次」。一定要注意不要把它们翻转回去了。"
   ]
  }
 ],
 "metadata": {
  "kernelspec": {
   "display_name": "Python 3",
   "language": "python",
   "name": "python3"
  },
  "language_info": {
   "codemirror_mode": {
    "name": "ipython",
    "version": 3
   },
   "file_extension": ".py",
   "mimetype": "text/x-python",
   "name": "python",
   "nbconvert_exporter": "python",
   "pygments_lexer": "ipython3",
   "version": "3.7.6"
  }
 },
 "nbformat": 4,
 "nbformat_minor": 2
}
