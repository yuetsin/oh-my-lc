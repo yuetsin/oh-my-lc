{
 "cells": [
  {
   "cell_type": "markdown",
   "metadata": {},
   "source": [
    "# 499 Keyboard Row\n",
    "\n",
    "有哪些词是可以只用键盘上的一行打出来的？\n",
    "\n",
    "拍脑袋想出来的题…没啥意思…\n",
    "\n",
    "P.S. MacBook Pro 的蝶式键盘百无一用。\n",
    "除了在这种需要输入「qwertyuiop」一连串字母的时候…可以「真正地」滑动输入…\n",
    "\n",
    "P.S. Kotlin 解为了快不择手段（\n",
    "\n",
    "Runtime: 28 ms, faster than 60.02% of Python3 online submissions for Keyboard Row.\n",
    "\n",
    "Memory Usage: 12.8 MB, less than 100.00% of Python3 online submissions for Keyboard Row."
   ]
  }
 ],
 "metadata": {
  "kernelspec": {
   "display_name": "Python 3",
   "language": "python",
   "name": "python3"
  },
  "language_info": {
   "codemirror_mode": {
    "name": "ipython",
    "version": 3
   },
   "file_extension": ".py",
   "mimetype": "text/x-python",
   "name": "python",
   "nbconvert_exporter": "python",
   "pygments_lexer": "ipython3",
   "version": "3.7.6"
  }
 },
 "nbformat": 4,
 "nbformat_minor": 4
}
