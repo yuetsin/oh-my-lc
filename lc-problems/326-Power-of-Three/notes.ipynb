{
 "cells": [
  {
   "cell_type": "markdown",
   "metadata": {},
   "source": [
    "# 326\n",
    "\n",
    "事实上，我对这几个「Solution」都不太能接受，除了第一个「Naïve Version」。\n",
    "\n",
    "第一个解决方案就是辗转除，直到等于 1 或者除不尽为止。\n",
    "\n",
    "第二个方案就比较扯了：转换成 3 进制之后看 Trailing 0？我觉得正常人类都不会想出来这种方案。而且性能表现也告诉我们这个很差。\n",
    "\n",
    "第三个方案：取对数。好吧，这个精度大了肯定会出问题，绝对的。\n",
    "\n",
    "第四个方案：@aicioara 说这里有个隐含条件：\n",
    "\n",
    "\n",
    "In particular, n is of type int. In Java, this means it is a 4 byte, signed integer [ref]. The maximum value of this data type is 2147483647。\n",
    "\n",
    "然而只有 Java 有这么一说。C/C++ 是表示「至少」2147483647. Python 是根本没有限制。\n",
    "\n",
    "所以就是说方案 3 无法保证精度，方案 4 则是在超过限制之后完全不工作。\n",
    "\n",
    "多少你也在题目里讲一句限制呢…\n",
    "\n",
    "总归，除了 Solution 1 ／ 2 我认为都不正确。而 Solutoin 2 正常人类不会使用。又慢又难想。就这样。"
   ]
  }
 ],
 "metadata": {
  "kernelspec": {
   "display_name": "Python 3",
   "language": "python",
   "name": "python3"
  },
  "language_info": {
   "codemirror_mode": {
    "name": "ipython",
    "version": 3
   },
   "file_extension": ".py",
   "mimetype": "text/x-python",
   "name": "python",
   "nbconvert_exporter": "python",
   "pygments_lexer": "ipython3",
   "version": "3.7.4"
  }
 },
 "nbformat": 4,
 "nbformat_minor": 2
}
