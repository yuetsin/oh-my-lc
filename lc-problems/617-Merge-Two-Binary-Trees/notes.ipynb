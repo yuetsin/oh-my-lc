{
 "cells": [
  {
   "cell_type": "markdown",
   "metadata": {},
   "source": [
    "# 617 Merge Two Binary Trees\n",
    "\n",
    "Runtime: 88 ms, faster than 61.20% of Python3 online submissions for Merge Two Binary Trees.\n",
    "\n",
    "Memory Usage: 13.8 MB, less than 74.29% of Python3 online submissions for Merge Two Binary Trees.\n",
    "\n",
    "树的递归真是令人心情舒畅啊～\n",
    "\n",
    "尤其是这种，不用写 helper function 的时候…"
   ]
  }
 ],
 "metadata": {
  "kernelspec": {
   "display_name": "Python 3",
   "language": "python",
   "name": "python3"
  },
  "language_info": {
   "codemirror_mode": {
    "name": "ipython",
    "version": 3
   },
   "file_extension": ".py",
   "mimetype": "text/x-python",
   "name": "python",
   "nbconvert_exporter": "python",
   "pygments_lexer": "ipython3",
   "version": "3.7.6"
  }
 },
 "nbformat": 4,
 "nbformat_minor": 4
}
