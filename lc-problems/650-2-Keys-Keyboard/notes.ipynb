{
 "cells": [
  {
   "cell_type": "markdown",
   "metadata": {},
   "source": [
    "# 650 2 Keys Keyboard\n",
    "\n",
    "可以进行这两个操作：\n",
    "\n",
    "1. 要么，把当前所有的字符放到剪贴板里；\n",
    "2. 要么，把剪贴板里的字符粘贴一份到当前字符串的末尾。\n",
    "\n",
    "我以为这会是一个 DFS 什么的「选择问题」…实际上就是个数学问题。\n",
    "\n",
    "因为考虑一下我们的延长字符串的过程，肯定可以展开成这样：\n",
    "\n",
    "一个 Copy + 若干 Paste。若干个这一类组的组合。其中每一类的 Paste 产生的数量都相同，且等于上一个 Tuple 结果的数量。\n",
    "\n",
    "我们需要考虑，虽然每次 Copy 和 Paste 的数量大不同，但本质上就是把它按照上次的结果翻 k 倍。既然是「翻倍」，那么 Scale 就不再重要了。每一次翻倍都是平等的。\n",
    "\n",
    "因为不可以删除多出来的结果…所以必须完全得到预期的 string。所以问题就变成了「求公因式个数」了嘛…\n",
    "\n",
    "公因式有多少，就组合起来就好了嘛。\n",
    "\n",
    "完毕。\n",
    "\n",
    "挺有意思的一道数学题。\n",
    "\n",
    "\n",
    "Runtime: 28 ms, faster than 88.75% of Python3 online submissions for 2 Keys Keyboard.\n",
    "\n",
    "Memory Usage: 12.8 MB, less than 100.00% of Python3 online submissions for 2 Keys Keyboard."
   ]
  }
 ],
 "metadata": {
  "kernelspec": {
   "display_name": "Python 3",
   "language": "python",
   "name": "python3"
  },
  "language_info": {
   "codemirror_mode": {
    "name": "ipython",
    "version": 3
   },
   "file_extension": ".py",
   "mimetype": "text/x-python",
   "name": "python",
   "nbconvert_exporter": "python",
   "pygments_lexer": "ipython3",
   "version": "3.7.6"
  }
 },
 "nbformat": 4,
 "nbformat_minor": 4
}
