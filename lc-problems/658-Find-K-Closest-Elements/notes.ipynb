{
 "cells": [
  {
   "cell_type": "markdown",
   "metadata": {},
   "source": [
    "# 658 Find K Closest Elements\n",
    "\n",
    "Runtime: 336 ms, faster than 54.00% of Python3 online submissions for Find K Closest Elements.\n",
    "\n",
    "Memory Usage: 14.2 MB, less than 70.83% of Python3 online submissions for Find K Closest Elements.\n",
    "\n",
    "与其用 bisect，找半天，分析各种奇数偶数情况……麻烦的要死。\n",
    "\n",
    "不如，咱们就直接以 abs(v - x) 作为第一 key，之前的 value 作为顺位第二 key 排序就好了。\n",
    "\n",
    "注意在得到结果之后还得把它给 sort 回去。"
   ]
  }
 ],
 "metadata": {
  "kernelspec": {
   "display_name": "Python 3",
   "language": "python",
   "name": "python3"
  },
  "language_info": {
   "codemirror_mode": {
    "name": "ipython",
    "version": 3
   },
   "file_extension": ".py",
   "mimetype": "text/x-python",
   "name": "python",
   "nbconvert_exporter": "python",
   "pygments_lexer": "ipython3",
   "version": "3.7.6"
  }
 },
 "nbformat": 4,
 "nbformat_minor": 4
}
