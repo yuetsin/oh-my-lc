{
 "cells": [
  {
   "cell_type": "markdown",
   "metadata": {},
   "source": [
    "# 491 Increasing Subsequences\n",
    "\n",
    "这题可以用回溯法。\n",
    "\n",
    "首先，为了优化，我们不用 List[List] 这种时间杀手。转而使用 Set + Tuple 的方式。之所以用 Tuple，是因为 List 是 Unhashable 的。\n",
    "\n",
    "当然，坏处也有，那就是 Tuple 不可变。操作起来略微麻烦一点。"
   ]
  },
  {
   "cell_type": "code",
   "execution_count": null,
   "metadata": {},
   "outputs": [],
   "source": [
    "        def backtrack(seq, i):\n",
    "            # Exhausted the nums list.\n",
    "            if i == len(nums):\n",
    "                return\n",
    "            \n",
    "            for j in range(i, len(nums)):\n",
    "                # If the seq is empty then, create a new sequence and recurse.\n",
    "                if not seq:\n",
    "                    backtrack((nums[j],), j+1)\n",
    "                \n",
    "                # Else if monotonically increasing then add it to the result and recurse\n",
    "                elif nums[j] >= seq[-1]:\n",
    "                    new_seq = seq + (nums[j],)\n",
    "                    results.add(new_seq)\n",
    "                    backtrack(new_seq, j+1)"
   ]
  },
  {
   "cell_type": "markdown",
   "metadata": {},
   "source": [
    "回溯的代码就这么一点：跟 mine_tle 的思路类似，也是不断往里面加，只不过我的代码里是先把所有可能的情况都加了一遍再筛除不成立的情况（这是因为一开始错误理解了题意…认为需要把 list 给排序之后再算子列…这当然不对了）；但是其实可以在构造的时候就选择性地往里面加元素。通过对 Tuple 末元素进行比较，就能知道这个值到底放不放得进去。\n",
    "\n",
    "时间复杂度呢…其实是 O(2^n)。但是考虑到 len(nums) < 15，问题还不大。"
   ]
  }
 ],
 "metadata": {
  "kernelspec": {
   "display_name": "Python 3",
   "language": "python",
   "name": "python3"
  },
  "language_info": {
   "codemirror_mode": {
    "name": "ipython",
    "version": 3
   },
   "file_extension": ".py",
   "mimetype": "text/x-python",
   "name": "python",
   "nbconvert_exporter": "python",
   "pygments_lexer": "ipython3",
   "version": "3.7.6"
  }
 },
 "nbformat": 4,
 "nbformat_minor": 4
}
