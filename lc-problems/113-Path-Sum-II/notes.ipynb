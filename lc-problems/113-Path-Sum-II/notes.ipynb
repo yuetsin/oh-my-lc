{
 "cells": [
  {
   "cell_type": "code",
   "execution_count": null,
   "metadata": {},
   "outputs": [],
   "source": [
    "没有什么特别的地方…只是上面只要找出一条 Chain 就可以返回 True，这里需要把所有的情况都找出来放到 global_list 里面去。"
   ]
  },
  {
   "cell_type": "code",
   "execution_count": null,
   "metadata": {},
   "outputs": [],
   "source": [
    "> Runtime: 60 ms, faster than 58.33% of Python3 online submissions for Path Sum II.\n",
    "> Memory Usage: 18.7 MB, less than 5.23% of Python3 online submissions for Path Sum II."
   ]
  },
  {
   "cell_type": "code",
   "execution_count": null,
   "metadata": {},
   "outputs": [],
   "source": [
    "空间占用太大了，因为保存的 Chain 表里头不止是一个个 int，而是整个的 NodeList。\n",
    "虽然 Python 对于这种 Reference 对象只会存指针，但到底还是存了一些无意义的东西。"
   ]
  },
  {
   "cell_type": "code",
   "execution_count": null,
   "metadata": {},
   "outputs": [],
   "source": [
    "C++ Sample 用的是回溯法，代码逻辑很简单，直接去看就好。"
   ]
  }
 ],
 "metadata": {
  "kernelspec": {
   "display_name": "Python 3",
   "language": "python",
   "name": "python3"
  }
 },
 "nbformat": 4,
 "nbformat_minor": 2
}
