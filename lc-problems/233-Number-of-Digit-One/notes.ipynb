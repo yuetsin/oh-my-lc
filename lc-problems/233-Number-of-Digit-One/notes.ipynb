{
 "cells": [
  {
   "cell_type": "markdown",
   "metadata": {},
   "source": [
    "# 233\n",
    "笑不出来\n",
    "\n",
    "又让我来做数学题"
   ]
  },
  {
   "cell_type": "markdown",
   "metadata": {},
   "source": [
    "`min(max((n mod (i*10))−i+1,0),i)` 这种公式就别说了\n",
    "（代表的是 1 ～ n 中第 i 位出现 1 的总个数"
   ]
  },
  {
   "cell_type": "code",
   "execution_count": null,
   "metadata": {},
   "outputs": [],
   "source": [
    "class Solution {\n",
    "    public int countDigitOne(int n) {\n",
    "        if (n <= 0) return 0;\n",
    "        int[] digits = new int[10];        \n",
    "        int pos = 0;\n",
    "        while (n > 0) {\n",
    "            digits[pos++] = n % 10;\n",
    "            n /= 10;\n",
    "        }\n",
    "        return dfs(digits, pos - 1, new int[10][10], 0, true);\n",
    "    }\n",
    "    \n",
    "    public int dfs(int[] digits, int pos, int[][] dp, int cnt, boolean limit) {\n",
    "        if (pos == -1) return cnt;\n",
    "        if (!limit && dp[pos][cnt] != 0) return dp[pos][cnt];\n",
    "        int up = limit ? digits[pos] : 9;\n",
    "        int ans = 0;\n",
    "        for (int i = 0; i <= up; i++) {\n",
    "            ans += dfs(digits, pos - 1, dp, cnt + (i == 1 ? 1 : 0), limit && i == up);\n",
    "        }\n",
    "        if (!limit) dp[pos][cnt] = ans;\n",
    "        return ans;\n",
    "    }\n",
    "}"
   ]
  },
  {
   "cell_type": "markdown",
   "metadata": {},
   "source": [
    "好的 DP 做法可以将时间复杂度降低到 O(LogN) 的。"
   ]
  }
 ],
 "metadata": {
  "kernelspec": {
   "display_name": "Python 3",
   "language": "python",
   "name": "python3"
  },
  "language_info": {
   "codemirror_mode": {
    "name": "ipython",
    "version": 3
   },
   "file_extension": ".py",
   "mimetype": "text/x-python",
   "name": "python",
   "nbconvert_exporter": "python",
   "pygments_lexer": "ipython3",
   "version": "3.7.4"
  }
 },
 "nbformat": 4,
 "nbformat_minor": 2
}
