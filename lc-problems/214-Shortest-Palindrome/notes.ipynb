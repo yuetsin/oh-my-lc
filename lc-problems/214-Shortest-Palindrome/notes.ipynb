{
 "cells": [
  {
   "cell_type": "markdown",
   "metadata": {},
   "source": [
    "# 214\n",
    "\n",
    "Astonishing Accepted...\n",
    "\n",
    "Runtime: 996 ms, faster than 5.42% of Python3 online submissions for Shortest Palindrome.\n",
    "Memory Usage: 14.1 MB, less than 14.29% of Python3 online submissions for Shortest Palindrome.\n",
    "\n",
    "虽说很不好看就是了。\n",
    "\n",
    "最直接的思路：每次从结尾取出一段，反过来贴在前面，判断这个新字符串是不是对称的。从短往长取，这样能确保得到的就是最短的。\n",
    "\n",
    "这个最坏情况下能达到 O(N^2)。\n",
    "\n",
    "即使使用双指针方法，也还是保持 O(N^2) 复杂度。\n",
    "\n",
    "唯一的办法就是用 KMP 来用 O(N) 的空间复杂度来换 O(N) 的时间复杂度了。\n",
    "\n",
    "string shortestPalindrome(string s)\n",
    "{\n",
    "    int n = s.size();\n",
    "    string rev(s);\n",
    "    reverse(rev.begin(), rev.end());\n",
    "    string s_new = s + \"#\" + rev;\n",
    "    int n_new = s_new.size();\n",
    "    vector<int> f(n_new, 0);\n",
    "    for (int i = 1; i < n_new; i++) {\n",
    "        int t = f[i - 1];\n",
    "        while (t > 0 && s_new[i] != s_new[t])\n",
    "            t = f[t - 1];\n",
    "        if (s_new[i] == s_new[t])\n",
    "            ++t;\n",
    "        f[i] = t;\n",
    "    }\n",
    "    return rev.substr(0, n - f[n_new - 1]) + s;\n",
    "}\n",
    "    \n",
    "    \n",
    "KMP 代码如此：简单说，KMP 是一点点扩大从字符串开头向后取出部分的值，并判断剩余部分能不能和之前的部分「贴起来」。\n",
    "\n",
    "由于 KMP 用了合适的空间来存储，所以判断「后面的一截是不是前面一截的倒序」是可以在常数级别时间内完成的。\n",
    "\n",
    "这种方法也未必见得好…空间消耗也有些过分。总之，这三种方法都是 acceptable 的。"
   ]
  }
 ],
 "metadata": {
  "kernelspec": {
   "display_name": "Python 3",
   "language": "python",
   "name": "python3"
  },
  "language_info": {
   "codemirror_mode": {
    "name": "ipython",
    "version": 3
   },
   "file_extension": ".py",
   "mimetype": "text/x-python",
   "name": "python",
   "nbconvert_exporter": "python",
   "pygments_lexer": "ipython3",
   "version": "3.7.4"
  }
 },
 "nbformat": 4,
 "nbformat_minor": 2
}
