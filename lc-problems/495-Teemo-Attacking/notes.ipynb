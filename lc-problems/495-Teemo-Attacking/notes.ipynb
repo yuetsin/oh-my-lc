{
 "cells": [
  {
   "cell_type": "markdown",
   "metadata": {},
   "source": [
    "# 495 Teemo Attacking\n",
    "\n",
    "又是南条爱乃的~~辣鸡~~题…\n",
    "\n",
    "LOL，Teemo，Ashe 什么鬼的都不重要。就是问始于 timeSeries 点、每个长度均为 duration 的这一系列片段，在考虑并合并 Overlapping 之后的总长度是多少。\n",
    "\n",
    "因为长度一致，所以不存在什么「完全覆盖」、「多重覆盖」之类的问题，只用遍历一次就好了。\n",
    "\n",
    "Easy。\n",
    "\n",
    "Runtime: 268 ms, faster than 90.59% of Python3 online submissions for Teemo Attacking.\n",
    "\n",
    "Memory Usage: 14.1 MB, less than 100.00% of Python3 online submissions for Teemo Attacking."
   ]
  }
 ],
 "metadata": {
  "kernelspec": {
   "display_name": "Python 3",
   "language": "python",
   "name": "python3"
  },
  "language_info": {
   "codemirror_mode": {
    "name": "ipython",
    "version": 3
   },
   "file_extension": ".py",
   "mimetype": "text/x-python",
   "name": "python",
   "nbconvert_exporter": "python",
   "pygments_lexer": "ipython3",
   "version": "3.7.6"
  }
 },
 "nbformat": 4,
 "nbformat_minor": 4
}
