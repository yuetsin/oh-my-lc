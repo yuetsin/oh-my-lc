{
 "cells": [
  {
   "cell_type": "markdown",
   "metadata": {},
   "source": [
    "# 674 Longest Continuous Increasing Subsequence\n",
    "\n",
    "Runtime: 76 ms, faster than 81.12% of Python3 online submissions for Longest Continuous Increasing Subsequence.\n",
    "\n",
    "Memory Usage: 14 MB, less than 78.26% of Python3 online submissions for Longest Continuous Increasing Subsequence.\n",
    "\n",
    "简单题。"
   ]
  }
 ],
 "metadata": {
  "kernelspec": {
   "display_name": "Python 3",
   "language": "python",
   "name": "python3"
  },
  "language_info": {
   "codemirror_mode": {
    "name": "ipython",
    "version": 3
   },
   "file_extension": ".py",
   "mimetype": "text/x-python",
   "name": "python",
   "nbconvert_exporter": "python",
   "pygments_lexer": "ipython3",
   "version": "3.7.6"
  }
 },
 "nbformat": 4,
 "nbformat_minor": 4
}
