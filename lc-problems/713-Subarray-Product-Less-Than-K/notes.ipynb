{
 "cells": [
  {
   "cell_type": "markdown",
   "metadata": {},
   "source": [
    "# 713 Subarray Product Less Than K\n",
    "\n",
    "怎么说呢…最坏 O(N^2) Brute Force 被全 1 列这个 case 给破了。\n",
    "\n",
    "还记得吗？之前的连续子序列的和问题，可以通过 Presum Array 的方式，把多次重复的加变成 Presum Array 元素的减。\n",
    "\n",
    "同样，我们可以 Preproduct，把重复的乘变成 Presum Array 元素的除。\n",
    "\n",
    "所有数字的乘积完全有可能突破 Int32。为了防止 Overflow，可以用 Java 的 BigInt，或者 Python 自带的 int 就可以。\n",
    "\n",
    "如果希望减少使用大整数的花费，可以对所有元素和 K 取对数，这样问题就简化成了 Subarray Sum 问题了。\n",
    "\n",
    "不过注意因为 Log 是近似值，必须用 epsilon 表示法。觉得没什么必要，算对数的花费可能不会比用 BigInt 的少。"
   ]
  }
 ],
 "metadata": {
  "kernelspec": {
   "display_name": "Python 3",
   "language": "python",
   "name": "python3"
  },
  "language_info": {
   "codemirror_mode": {
    "name": "ipython",
    "version": 3
   },
   "file_extension": ".py",
   "mimetype": "text/x-python",
   "name": "python",
   "nbconvert_exporter": "python",
   "pygments_lexer": "ipython3",
   "version": "3.7.6"
  }
 },
 "nbformat": 4,
 "nbformat_minor": 4
}
