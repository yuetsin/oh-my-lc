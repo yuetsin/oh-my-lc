{
 "cells": [
  {
   "cell_type": "markdown",
   "metadata": {},
   "source": [
    "# 307\n",
    "\n",
    "这里因为是 Mutable，所以如果还是按照 #303 的做法的话，每次 update 都可能要改很多个 Cached Values。O(N) 级别的。\n",
    "\n",
    "当然 Approach 2 就更不行了，每次 Update 都可能会导致之前的 Cached Parameters 作废。\n",
    "\n",
    "所以有一个比较可怕的解决方案：\n",
    "\n",
    "构造一棵树…\n",
    "\n",
    "让叶子节点成为我们所有的值，同时让每个非叶子节点的值为他两个儿子的和。\n",
    "\n",
    "这样，每次 Update 所可能带来的更新缓存量只可能是 O(LogN) 级别的。\n",
    "\n",
    "这样就开心多啦。"
   ]
  }
 ],
 "metadata": {
  "kernelspec": {
   "display_name": "Python 3",
   "language": "python",
   "name": "python3"
  },
  "language_info": {
   "codemirror_mode": {
    "name": "ipython",
    "version": 3
   },
   "file_extension": ".py",
   "mimetype": "text/x-python",
   "name": "python",
   "nbconvert_exporter": "python",
   "pygments_lexer": "ipython3",
   "version": "3.7.4"
  }
 },
 "nbformat": 4,
 "nbformat_minor": 2
}
