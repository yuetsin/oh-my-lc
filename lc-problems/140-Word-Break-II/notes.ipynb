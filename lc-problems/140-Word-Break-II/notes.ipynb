{
 "cells": [
  {
   "cell_type": "code",
   "execution_count": null,
   "metadata": {},
   "outputs": [],
   "source": [
    "没有什么特别的地方，只是不能只返回下一步的 Index 了，还得返回之前的 Strings。要进一步优化可以只存储 WordDict 的 Index。\n",
    "但到这里加上 DP 表已经可以完成任务了。也就不多说了。"
   ]
  },
  {
   "cell_type": "code",
   "execution_count": null,
   "metadata": {},
   "outputs": [],
   "source": [
    "Runtime: 60 ms, faster than 42.60% of Python3 online submissions for Word Break II.\n",
    "Memory Usage: 13.6 MB, less than 14.89% of Python3 online submissions for Word Break II."
   ]
  }
 ],
 "metadata": {
  "kernelspec": {
   "display_name": "Python 3",
   "language": "python",
   "name": "python3"
  }
 },
 "nbformat": 4,
 "nbformat_minor": 2
}
