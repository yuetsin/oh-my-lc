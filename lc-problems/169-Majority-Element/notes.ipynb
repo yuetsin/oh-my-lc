{
 "cells": [
  {
   "cell_type": "markdown",
   "metadata": {},
   "source": [
    "# 169 Majority Element\n",
    "\n",
    "就是「编程之美」里面「寻找灌水怪」题啊…\n",
    "\n",
    "当时给出的解法是每次删掉两个不同元素，然后最后剩下 1 个或 2 个就算结束。\n",
    "\n",
    "但是最开始的解法为："
   ]
  },
  {
   "cell_type": "code",
   "execution_count": null,
   "metadata": {},
   "outputs": [],
   "source": [
    "class Solution:\n",
    "    def majorityElement(self, nums: List[int]) -> int:\n",
    "        count = len(nums)\n",
    "        while count > 2:\n",
    "            first = nums[0]\n",
    "            flag = True\n",
    "            for i in range(1, count):\n",
    "                if nums[i] != first:\n",
    "                    del nums[i]\n",
    "                    del nums[0]\n",
    "                    count -= 2\n",
    "                    flag = False\n",
    "                    break\n",
    "            if flag:\n",
    "                # All equal\n",
    "                break\n",
    "        return nums[0]"
   ]
  },
  {
   "cell_type": "markdown",
   "metadata": {},
   "source": [
    "主要是，如果从左向右地寻找不同元素，就会在 Case #43 上爆炸：nums = [1, 1, 1, ......., 1, 2, 2, 2, ..., 2]，这样就不得不每次遍历半个 list，非常费事。\n",
    "\n",
    "最后改成从右往左找不同元素就过了……这太依赖于特定的 Case 了。最终我的数据为 \n",
    "Runtime: 404 ms, faster than 5.25% of Python3 online submissions for Majority Element.\n",
    "Memory Usage: 14.8 MB, less than 7.14% of Python3 online submissions for Majority Element.\n",
    "不算什么好成绩。\n",
    "\n",
    "所以这个方案怎么说也是有问题的。"
   ]
  },
  {
   "cell_type": "code",
   "execution_count": null,
   "metadata": {},
   "outputs": [],
   "source": [
    "public class Solution {\n",
    "    public int majorityElement(int[] num) {\n",
    "\n",
    "        int major=num[0], count = 1;\n",
    "        for(int i=1; i<num.length;i++){\n",
    "            if(count==0){\n",
    "                count++;\n",
    "                major=num[i];\n",
    "            }else if(major==num[i]){\n",
    "                count++;\n",
    "            }else count--;\n",
    "            \n",
    "        }\n",
    "        return major;\n",
    "    }\n",
    "}"
   ]
  },
  {
   "cell_type": "code",
   "execution_count": null,
   "metadata": {},
   "outputs": [],
   "source": [
    "事实上，维护一个 count 数字就好了：遇到一个相同的，就 + 1，如果遇到不同的，就 -1；如果遇到 count = 0，说明他不是最多的，改朝换代。\n",
    "\n",
    "O(N) 时间，O(1)空间。\n",
    "\n",
    "书里面给出的 Solution 看起来奇妙，实际上在这里并不可取……"
   ]
  }
 ],
 "metadata": {
  "kernelspec": {
   "display_name": "Python 3",
   "language": "python",
   "name": "python3"
  },
  "language_info": {
   "codemirror_mode": {
    "name": "ipython",
    "version": 3
   },
   "file_extension": ".py",
   "mimetype": "text/x-python",
   "name": "python",
   "nbconvert_exporter": "python",
   "pygments_lexer": "ipython3",
   "version": "3.7.4"
  }
 },
 "nbformat": 4,
 "nbformat_minor": 2
}
