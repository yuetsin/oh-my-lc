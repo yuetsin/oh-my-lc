{
 "cells": [
  {
   "cell_type": "markdown",
   "metadata": {},
   "source": [
    "# 396 Rotate Function\n",
    "\n",
    "在 15 之 17 個測試用例處掛掉了⋯\n",
    "\n",
    "慘。\n",
    "\n",
    "不過反過來想，這樣暴力搜索的方法確實不太可能通過的。\n",
    "\n",
    "Tricky 的方法！\n",
    "\n",
    "預先把 A 的 Sum 算出來。\n",
    "\n",
    "for i in range(len(A)), do res += i * A[i]\n",
    "\n",
    "然後再對每個 A 的元素，求出 0 * A[0] + 1 * A[1] + 2 * A[2] + ... ... 的值，放在 res 裡。\n",
    "\n",
    "這就是從 0 開頭計算的結果。\n",
    "\n",
    "然後再對 1 ~ n 每個值求旋轉積。但是完全不用重新 for 一邊；f(0) 跟 f(1) 的差別只不過是 + S, - n * item。\n",
    "\n",
    "所以計算 f(0) 的代價是 O(n)；計算剩下 n - 1 個 f(i) 的代價總共是 O(n - 1)。結果就是 O(n) 的。"
   ]
  },
  {
   "cell_type": "code",
   "execution_count": null,
   "metadata": {},
   "outputs": [],
   "source": [
    "class Solution:\n",
    "    def maxRotateFunction(self, A: List[int]) -> int:\n",
    "        n = len(A)\n",
    "        if n == 0:\n",
    "            return 0\n",
    "        res = 0\n",
    "        S = sum(A)\n",
    "    \n",
    "        for i in range(len(A)):\n",
    "            res += i * A[i]\n",
    "        f = res\n",
    "        for j in range(1, n):\n",
    "            item = A.pop()\n",
    "            f = f + S - n*item\n",
    "            if f > res:\n",
    "                res = f\n",
    "        return res"
   ]
  }
 ],
 "metadata": {
  "kernelspec": {
   "display_name": "Python 3",
   "language": "python",
   "name": "python3"
  },
  "language_info": {
   "codemirror_mode": {
    "name": "ipython",
    "version": 3
   },
   "file_extension": ".py",
   "mimetype": "text/x-python",
   "name": "python",
   "nbconvert_exporter": "python",
   "pygments_lexer": "ipython3",
   "version": "3.7.4"
  }
 },
 "nbformat": 4,
 "nbformat_minor": 2
}
