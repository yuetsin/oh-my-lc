{
 "cells": [
  {
   "cell_type": "markdown",
   "metadata": {},
   "source": [
    "# 649 Dota2 Senate\n",
    "\n",
    "Dota 2 未来决定委员会的民主投票法：\n",
    "\n",
    "按照确定的顺序一个一个投票——可以 Ban（踢出）一位异己，也可以在剩余人全部是自己党的人的时候，宣布胜利。\n",
    "\n",
    "这里，实际上没有一个简单的办法。只能 Simulate（模拟）每一次的投票。\n",
    "\n",
    "因为对于一个 Democratic Party 的人来说，如果你能够 Ban 一位 Republican，那就 Ban 掉它；如果不能的话，就计算当前的 count。\n",
    "\n",
    "对于 Republican 来说也一样。"
   ]
  }
 ],
 "metadata": {
  "kernelspec": {
   "display_name": "Python 3",
   "language": "python",
   "name": "python3"
  },
  "language_info": {
   "codemirror_mode": {
    "name": "ipython",
    "version": 3
   },
   "file_extension": ".py",
   "mimetype": "text/x-python",
   "name": "python",
   "nbconvert_exporter": "python",
   "pygments_lexer": "ipython3",
   "version": "3.7.6"
  }
 },
 "nbformat": 4,
 "nbformat_minor": 4
}
