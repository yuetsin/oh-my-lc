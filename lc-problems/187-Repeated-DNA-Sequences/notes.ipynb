{
 "cells": [
  {
   "cell_type": "markdown",
   "metadata": {},
   "source": [
    "# 187\n",
    "\n",
    "DNA 片段查重\n",
    "\n",
    "huh，好在没让我考虑 A-T C-G 碱基配对问题……\n",
    "\n",
    "总之，线性扫描一遍，两个哈希表就够了。\n",
    "\n",
    "\n",
    "Runtime: 76 ms, faster than 49.48% of Python3 online submissions for Repeated DNA Sequences.\n",
    "Memory Usage: 25.9 MB, less than 66.67% of Python3 online submissions for Repeated DNA Sequences.\n",
    "\n",
    "O(N) + O(N) 的复杂度。还凑合\n",
    "\n",
    "改进方法当然还多，比如你这个字符串切片太费时间（尤其是 Python 的字符串），可以改用数字，甚至类似 `sample.cpp` 一样夸张一点，\n",
    "用两个位操作来尽可能节约…\n",
    "\n",
    "但我不管了。就这样吧"
   ]
  }
 ],
 "metadata": {
  "kernelspec": {
   "display_name": "Python 3",
   "language": "python",
   "name": "python3"
  },
  "language_info": {
   "codemirror_mode": {
    "name": "ipython",
    "version": 3
   },
   "file_extension": ".py",
   "mimetype": "text/x-python",
   "name": "python",
   "nbconvert_exporter": "python",
   "pygments_lexer": "ipython3",
   "version": "3.7.4"
  }
 },
 "nbformat": 4,
 "nbformat_minor": 2
}
