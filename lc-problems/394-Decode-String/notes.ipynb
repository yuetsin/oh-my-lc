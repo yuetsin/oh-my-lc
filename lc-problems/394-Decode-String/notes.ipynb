{
 "cells": [
  {
   "cell_type": "markdown",
   "metadata": {},
   "source": [
    "# 394\n",
    "\n",
    "Runtime: 28 ms, faster than 96.59% of Python3 online submissions for Decode String.\n",
    "Memory Usage: 12.7 MB, less than 100.00% of Python3 online submissions for Decode String.\n",
    "\n",
    "还是一个递归的思路。分成很多块小块来对 String 进行处理。因为本质上是可以自相似的问题。\n",
    "\n",
    "没想到写得代码效率能这么好。我猜大概是 Python 给 str 操作进行了优化的关系。\n",
    "\n",
    "本来如果使用 index 传递来代替 String slice 可能会更好。但是不管了。就这样吧。"
   ]
  }
 ],
 "metadata": {
  "kernelspec": {
   "display_name": "Python 3",
   "language": "python",
   "name": "python3"
  },
  "language_info": {
   "codemirror_mode": {
    "name": "ipython",
    "version": 3
   },
   "file_extension": ".py",
   "mimetype": "text/x-python",
   "name": "python",
   "nbconvert_exporter": "python",
   "pygments_lexer": "ipython3",
   "version": "3.7.4"
  }
 },
 "nbformat": 4,
 "nbformat_minor": 2
}
