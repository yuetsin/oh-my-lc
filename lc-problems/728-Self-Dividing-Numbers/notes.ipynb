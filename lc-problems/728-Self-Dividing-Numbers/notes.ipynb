{
 "cells": [
  {
   "cell_type": "markdown",
   "metadata": {},
   "source": [
    "# 728 Self Dividing Numbers\n",
    "\n",
    "Runtime: 56 ms, faster than 45.97% of Python3 online submissions for Self Dividing Numbers.\n",
    "\n",
    "Memory Usage: 15.3 MB, less than 8.00% of Python3 online submissions for Self Dividing Numbers.\n",
    "\n",
    "实话说，一看到他要求的是「所有数字的 List」而不是「数字的个数」，就可以知道这个算起来不是很慢了。\n",
    "\n",
    "最大只要求到 10000。\n",
    "\n",
    "算每一个数字需要的时间复杂度是 O(lg i)；而总共有 n 个数字，所以复杂度最差也是 O(N Log N)。\n",
    "\n",
    "何况其中有些不用算到头就发现不行了；况且带 0 的还可以直接丢弃。\n",
    "\n",
    "加上 Cache，可以更快。\n",
    "\n",
    "就算从 1 算到 10000，也只需要 30 多 ms 而已。\n",
    "\n",
    "很善良的一道题。"
   ]
  }
 ],
 "metadata": {
  "kernelspec": {
   "display_name": "Python 3",
   "language": "python",
   "name": "python3"
  },
  "language_info": {
   "codemirror_mode": {
    "name": "ipython",
    "version": 3
   },
   "file_extension": ".py",
   "mimetype": "text/x-python",
   "name": "python",
   "nbconvert_exporter": "python",
   "pygments_lexer": "ipython3",
   "version": "3.7.6"
  }
 },
 "nbformat": 4,
 "nbformat_minor": 4
}
