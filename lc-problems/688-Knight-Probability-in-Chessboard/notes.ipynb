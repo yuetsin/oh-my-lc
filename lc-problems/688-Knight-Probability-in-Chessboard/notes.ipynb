{
 "cells": [
  {
   "cell_type": "markdown",
   "metadata": {},
   "source": [
    "# 688 Knights Probability in Chessboard\n",
    "\n",
    "Runtime: 160 ms, faster than 87.79% of Python3 online submissions for Knight Probability in Chessboard.\n",
    "\n",
    "Memory Usage: 18.5 MB, less than 61.54% of Python3 online submissions for Knight Probability in Chessboard.\n",
    "\n",
    "本质上是连续乘积的问题。那这还不好用 Recursive 法吗？\n",
    "\n",
    "加上 Cache，最后 Dfs 函数最多被 Call N * N * K 次。\n",
    "\n",
    "还好还好。"
   ]
  }
 ],
 "metadata": {
  "kernelspec": {
   "display_name": "Python 3",
   "language": "python",
   "name": "python3"
  },
  "language_info": {
   "codemirror_mode": {
    "name": "ipython",
    "version": 3
   },
   "file_extension": ".py",
   "mimetype": "text/x-python",
   "name": "python",
   "nbconvert_exporter": "python",
   "pygments_lexer": "ipython3",
   "version": "3.7.6"
  }
 },
 "nbformat": 4,
 "nbformat_minor": 4
}
