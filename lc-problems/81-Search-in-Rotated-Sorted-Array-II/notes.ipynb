{
 "cells": [
  {
   "cell_type": "code",
   "execution_count": null,
   "metadata": {},
   "outputs": [],
   "source": [
    "如果要比一下的话…这题大概是我写出来最丑的一道了。\n",
    "直接对 list 去重然后套用 Search I 的代码…\n",
    "\n",
    "> Runtime: 60 ms, faster than 9.53% of Python3 online submissions for Search in Rotated Sorted Array II.\n",
    "> Memory Usage: 13.6 MB, less than 6.40% of Python3 online submissions for Search in Rotated Sorted Array II."
   ]
  },
  {
   "cell_type": "code",
   "execution_count": null,
   "metadata": {},
   "outputs": [],
   "source": [
    "我相信正确的做法不应该是这样的。"
   ]
  },
  {
   "cell_type": "code",
   "execution_count": null,
   "metadata": {},
   "outputs": [],
   "source": [
    "@sucsliu34"
   ]
  },
  {
   "cell_type": "code",
   "execution_count": null,
   "metadata": {},
   "outputs": [],
   "source": [
    "本质上这还是一个二分查找，只不过出现了一个问题：\n",
    "while low < high and nums[low] == nums[high]:\n",
    "\tlow += 1  \n",
    "    \n",
    "low < high 之上还需要一个条件：nums[low] == nums[high]。\n",
    "I 的解法可以直接找转换点，II 由于出现了重复元素…非常难解。最坏情况下时间复杂度会退化到 O(n)。"
   ]
  },
  {
   "cell_type": "code",
   "execution_count": null,
   "metadata": {},
   "outputs": [],
   "source": [
    "就是这种神仙 Case："
   ]
  },
  {
   "cell_type": "code",
   "execution_count": null,
   "metadata": {},
   "outputs": [],
   "source": [
    "[1, 1, ..., 1, 1, -1, 1, 1, ..., 1, 1]"
   ]
  },
  {
   "cell_type": "code",
   "execution_count": null,
   "metadata": {},
   "outputs": [],
   "source": [
    "做不到二分……"
   ]
  }
 ],
 "metadata": {
  "kernelspec": {
   "display_name": "Python 3",
   "language": "python",
   "name": "python3"
  }
 },
 "nbformat": 4,
 "nbformat_minor": 2
}
