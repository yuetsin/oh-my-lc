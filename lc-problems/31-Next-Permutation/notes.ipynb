{
 "cells": [
  {
   "cell_type": "code",
   "execution_count": null,
   "metadata": {},
   "outputs": [],
   "source": [
    "It's yet another problem that trapped me for a long time."
   ]
  },
  {
   "cell_type": "code",
   "execution_count": null,
   "metadata": {},
   "outputs": [],
   "source": [
    "How can we find the literally \"Next Permutation\"?"
   ]
  },
  {
   "cell_type": "code",
   "execution_count": null,
   "metadata": {},
   "outputs": [],
   "source": [
    "#1: Start from the tail backward, find the first ptr that matches nums[ptr + 1] > nums[ptr]"
   ]
  },
  {
   "cell_type": "code",
   "execution_count": null,
   "metadata": {},
   "outputs": [],
   "source": [
    "#2: Inverse nums[ptr + 1 : ]. You may not use the [::-1] trick because you can't give value to a subscription."
   ]
  },
  {
   "cell_type": "code",
   "execution_count": null,
   "metadata": {},
   "outputs": [],
   "source": [
    "#3: From nums[ptr + 1 : ], find the biggest value and swap it with nums[ptr]."
   ]
  },
  {
   "cell_type": "code",
   "execution_count": null,
   "metadata": {},
   "outputs": [],
   "source": [
    "Why that would work? Because after #1, We know that nums[ptr + 1 : ] goes exactly a descending series.\n",
    "The #2 Reverse make sure the it's ascending.\n",
    "So the only way to do that is find the next value backward and replace nums[ptr]."
   ]
  },
  {
   "cell_type": "code",
   "execution_count": null,
   "metadata": {},
   "outputs": [],
   "source": [
    "P.S. The brute force method would cause TLE."
   ]
  }
 ],
 "metadata": {
  "kernelspec": {
   "display_name": "Python 3",
   "language": "python",
   "name": "python3"
  }
 },
 "nbformat": 4,
 "nbformat_minor": 2
}
