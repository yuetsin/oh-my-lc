{
 "cells": [
  {
   "cell_type": "markdown",
   "metadata": {},
   "source": [
    "# 472 Concatenated Words\n",
    "\n",
    "从一个词典里找出所有由其他词组合而成的合成词。\n",
    "\n",
    "按理说，对每一个词都进行 lptr + rptr 的词法分析应该能工作。（Lexical Parser 既视感？）\n",
    "\n",
    "然而，和词法分析一样的问题，有一些词语是相互包含的。例如 cat 和 cats 就都在词典里面。\n",
    "\n",
    "> 单收复数型，这词典就离谱\n",
    "\n",
    "所以…我们非得用 DFS 往深了搜才能填补这些情况。\n",
    "\n",
    "万幸是这个词典的词数不超过一万，总字母数量不超过六十万。所以 Python 这个低效 str 的劣势还不特别明显。"
   ]
  },
  {
   "cell_type": "code",
   "execution_count": null,
   "metadata": {},
   "outputs": [],
   "source": [
    "from functools import lru_cache\n",
    "\n",
    "class Solution:\n",
    "    def findAllConcatenatedWordsInADict(self, words: List[str]) -> List[str]:\n",
    "        \n",
    "        words = set(words)\n",
    "                \n",
    "        @lru_cache(maxsize=10000)\n",
    "        def dfs(word):\n",
    "            for i in range(1, len(word)):\n",
    "                prefix = word[:i]\n",
    "                suffix = word[i:]\n",
    "                \n",
    "                if prefix in words and suffix in words:\n",
    "                    return True\n",
    "                \n",
    "                if prefix in words and dfs(suffix):\n",
    "                    return True\n",
    "            \n",
    "            return False\n",
    "        \n",
    "        return [word for word in words if dfs(word)]"
   ]
  },
  {
   "cell_type": "markdown",
   "metadata": {},
   "source": [
    "dfs 的实现很简单：因为合成词一定至少由两个词组成（废话），所以咱们可以每次从前面抽字典中的字符。\n",
    "\n",
    "然后，用 lru_cache 来减少重复 dfs call。就这样。\n",
    "\n",
    "Runtime: 472 ms, faster than 57.98% of Python3 online submissions for Concatenated Words.\n",
    "Memory Usage: 41.1 MB, less than 50.00% of Python3 online submissions for Concatenated Words.\n",
    "\n",
    "不需要写很精妙的答案来 Get accepted。"
   ]
  }
 ],
 "metadata": {
  "kernelspec": {
   "display_name": "Python 3",
   "language": "python",
   "name": "python3"
  },
  "language_info": {
   "codemirror_mode": {
    "name": "ipython",
    "version": 3
   },
   "file_extension": ".py",
   "mimetype": "text/x-python",
   "name": "python",
   "nbconvert_exporter": "python",
   "pygments_lexer": "ipython3",
   "version": "3.7.6"
  }
 },
 "nbformat": 4,
 "nbformat_minor": 4
}
