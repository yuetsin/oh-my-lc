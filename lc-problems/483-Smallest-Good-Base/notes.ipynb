{
 "cells": [
  {
   "cell_type": "markdown",
   "metadata": {},
   "source": [
    "# 483 Smallest Good Base\n",
    "\n",
    "惊了…这居然也是 BiSect 题…\n",
    "\n",
    "因为我们知道下限一定至少是 2（一进制是小孩玩的），上限是 n-1（这还是一个一定可行的值）。\n",
    "\n",
    "所以，我们要做的事情是：对每一个 11 直到 1111...1111 的数字表示，都用二分查找的办法找一找他们对应的进制数能不能配得上原数字。\n",
    "\n",
    "1 的个数最少是 11（也就是 n-1 进制的时候），最多是 len(bin(n))。最长不过二进制（\n",
    "\n",
    "因为我们要求进制数尽可能小，所以就先确认那些具有更长 1 列的表示，数字长进制数小。\n",
    "\n",
    "最后，复杂度应该是 O(N LogN) 吧（LogN 是每位的二分查找，N 是 1 列长度的可能性。\n",
    "\n",
    "很贴心的是，因为这题的数字并不一定是十进制，所以输入输出都是 str 类型。"
   ]
  }
 ],
 "metadata": {
  "kernelspec": {
   "display_name": "Python 3",
   "language": "python",
   "name": "python3"
  },
  "language_info": {
   "codemirror_mode": {
    "name": "ipython",
    "version": 3
   },
   "file_extension": ".py",
   "mimetype": "text/x-python",
   "name": "python",
   "nbconvert_exporter": "python",
   "pygments_lexer": "ipython3",
   "version": "3.7.6"
  }
 },
 "nbformat": 4,
 "nbformat_minor": 4
}
