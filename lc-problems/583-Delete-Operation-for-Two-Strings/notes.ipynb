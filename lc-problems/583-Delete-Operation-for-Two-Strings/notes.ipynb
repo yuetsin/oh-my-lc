{
 "cells": [
  {
   "cell_type": "markdown",
   "metadata": {},
   "source": [
    "# 583 Delete Operation for Two Strings\n",
    "\n",
    "我还是想得太简单了…\n",
    "\n",
    "一开始想要直接 Counter 之后比较每个 char 的差值。但这没有考虑到：相同的 char 不一定有着相同的顺序。所以这结果是不对的。\n",
    "\n",
    "当然我们也可以先求出 Longest Common Substring（LCS，不是@南条爱乃 的垃圾 LUS）（对，再黑一次 #521 #522），再比较 Counter。\n",
    "\n",
    "更好一点的办法是：一维的 Dynamic Programming。\n",
    "\n",
    "Runtime: 276 ms, faster than 79.32% of Python3 online submissions for Delete Operation for Two Strings.\n",
    "\n",
    "Memory Usage: 12.7 MB, less than 100.00% of Python3 online submissions for Delete Operation for Two Strings."
   ]
  },
  {
   "cell_type": "code",
   "execution_count": null,
   "metadata": {},
   "outputs": [],
   "source": [
    "public class Solution {\n",
    "    public int minDistance(String s1, String s2) {\n",
    "        int[] dp = new int[s2.length() + 1];\n",
    "        for (int i = 0; i <= s1.length(); i++) {\n",
    "            int[] temp=new int[s2.length()+1];\n",
    "            for (int j = 0; j <= s2.length(); j++) {\n",
    "                if (i == 0 || j == 0)\n",
    "                    temp[j] = i + j;\n",
    "                else if (s1.charAt(i - 1) == s2.charAt(j - 1))\n",
    "                    temp[j] = dp[j - 1];\n",
    "                else\n",
    "                    temp[j] = 1 + Math.min(dp[j], temp[j - 1]);\n",
    "            }\n",
    "            dp=temp;\n",
    "        }\n",
    "        return dp[s2.length()];\n",
    "    }\n",
    "}"
   ]
  }
 ],
 "metadata": {
  "kernelspec": {
   "display_name": "Python 3",
   "language": "python",
   "name": "python3"
  },
  "language_info": {
   "codemirror_mode": {
    "name": "ipython",
    "version": 3
   },
   "file_extension": ".py",
   "mimetype": "text/x-python",
   "name": "python",
   "nbconvert_exporter": "python",
   "pygments_lexer": "ipython3",
   "version": "3.7.6"
  }
 },
 "nbformat": 4,
 "nbformat_minor": 4
}
