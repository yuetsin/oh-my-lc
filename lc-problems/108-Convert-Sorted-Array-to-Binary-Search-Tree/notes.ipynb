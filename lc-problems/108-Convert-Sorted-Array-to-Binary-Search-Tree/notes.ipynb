{
 "cells": [
  {
   "cell_type": "code",
   "execution_count": null,
   "metadata": {},
   "outputs": [],
   "source": [
    "My solution doesn't work, complicated, and wrong. Gosh."
   ]
  },
  {
   "cell_type": "code",
   "execution_count": null,
   "metadata": {},
   "outputs": [],
   "source": [
    "Here's the sample code's performance:\n",
    "Runtime: 60 ms, faster than 98.91% of Python3 online submissions for Convert Sorted Array to Binary Search Tree.\n",
    "Memory Usage: 15.6 MB, less than 5.70% of Python3 online submissions for Convert Sorted Array to Binary Search Tree."
   ]
  },
  {
   "cell_type": "code",
   "execution_count": null,
   "metadata": {},
   "outputs": [],
   "source": [
    "The key point of the Sample idea is to find the root node first, and then build the left and right subtree recursively."
   ]
  },
  {
   "cell_type": "code",
   "execution_count": null,
   "metadata": {},
   "outputs": [],
   "source": [
    "My solution didn't consider the importance of the selection of the root node, so if i select an extreme node as root, \n",
    "it would generate a very imbalance tree, far from the requested BST."
   ]
  },
  {
   "cell_type": "code",
   "execution_count": null,
   "metadata": {},
   "outputs": [],
   "source": [
    "However, it always takes len(list) // 2 as the \"floor division\", but not the comment signal."
   ]
  },
  {
   "cell_type": "code",
   "execution_count": null,
   "metadata": {},
   "outputs": [],
   "source": [
    "Python (both 2 / 3) supports // to merely keeps the floor part of the result. That would be tricky and simple in some special algorithms."
   ]
  },
  {
   "cell_type": "code",
   "execution_count": null,
   "metadata": {},
   "outputs": [],
   "source": [
    "It's marked easy, and no need to say too much then. Bye."
   ]
  }
 ],
 "metadata": {
  "kernelspec": {
   "display_name": "Python 3",
   "language": "python",
   "name": "python3"
  }
 },
 "nbformat": 4,
 "nbformat_minor": 2
}
