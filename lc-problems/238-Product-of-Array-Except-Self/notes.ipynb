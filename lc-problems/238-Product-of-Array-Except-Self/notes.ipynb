{
 "cells": [
  {
   "cell_type": "markdown",
   "metadata": {},
   "source": [
    "# 238\n",
    "\n",
    "如果 Array 里有两个及以上的 0：完蛋。大家一起 000\n",
    "\n",
    "如果有一个 0：先假装求积（当然除开 0），然后遇到 0 就把积放进去，遇到非 0 就填 0 进去。\n",
    "\n",
    "如果没有 0：大家一起 total//num"
   ]
  }
 ],
 "metadata": {
  "kernelspec": {
   "display_name": "Python 3",
   "language": "python",
   "name": "python3"
  },
  "language_info": {
   "codemirror_mode": {
    "name": "ipython",
    "version": 3
   },
   "file_extension": ".py",
   "mimetype": "text/x-python",
   "name": "python",
   "nbconvert_exporter": "python",
   "pygments_lexer": "ipython3",
   "version": "3.7.4"
  }
 },
 "nbformat": 4,
 "nbformat_minor": 2
}
