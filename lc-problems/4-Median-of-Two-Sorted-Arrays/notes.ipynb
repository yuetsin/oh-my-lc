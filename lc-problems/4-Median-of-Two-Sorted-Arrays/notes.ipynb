{
 "cells": [
  {
   "cell_type": "code",
   "execution_count": null,
   "metadata": {},
   "outputs": [],
   "source": [
    "The key problem we must know is that how \"Median\" numbers are defined.\n",
    "\n",
    "Either the most middle 1 number, or the average number of 2 middle numbers, depending on the count of the numbers is odd or even.\n",
    "\n",
    "And importantly, two number lists given are both sorted in ascend.\n",
    "\n",
    "So we just need to:\n",
    "\n",
    "#1 Figure out how many numbers we must get\n",
    "\n",
    "#2 Use \"Merge Sort\" Idea to get the No.x number (or two, according to the definition above)\n",
    "\n",
    "#3 return the answer."
   ]
  }
 ],
 "metadata": {
  "kernelspec": {
   "display_name": "Python 3",
   "language": "python",
   "name": "python3"
  }
 },
 "nbformat": 4,
 "nbformat_minor": 2
}
