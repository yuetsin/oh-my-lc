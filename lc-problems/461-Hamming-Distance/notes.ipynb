{
 "cells": [
  {
   "cell_type": "markdown",
   "metadata": {},
   "source": [
    "# 461 Hamming Distance\n",
    "\n",
    "汉明距离…这不是 袁卓 做 CV 的时候用的算法么…\n",
    "\n",
    "\n",
    "Runtime: 40 ms, faster than 5.90% of Python3 online submissions for Hamming Distance.\n",
    "\n",
    "Memory Usage: 12.5 MB, less than 100.00% of Python3 online submissions for Hamming Distance.\n",
    "\n",
    "给定了取值范围是 1 ~ 2 ** 31，所以直接对每一位判断 & == & 就行。\n",
    "\n",
    "或者也可以异或之后，Count Bits 就行了。"
   ]
  }
 ],
 "metadata": {
  "kernelspec": {
   "display_name": "Python 3",
   "language": "python",
   "name": "python3"
  },
  "language_info": {
   "codemirror_mode": {
    "name": "ipython",
    "version": 3
   },
   "file_extension": ".py",
   "mimetype": "text/x-python",
   "name": "python",
   "nbconvert_exporter": "python",
   "pygments_lexer": "ipython3",
   "version": "3.7.6"
  }
 },
 "nbformat": 4,
 "nbformat_minor": 4
}
