{
 "cells": [
  {
   "cell_type": "markdown",
   "metadata": {},
   "source": [
    "# 783 Minimum Distance Between BST Nodes\n",
    "\n",
    "Runtime: 24 ms, faster than 93.91% of Python3 online submissions for Minimum Distance Between BST Nodes.\n",
    "\n",
    "Memory Usage: 13.7 MB, less than 7.69% of Python3 online submissions for Minimum Distance Between BST Nodes.\n",
    "\n",
    "这题…跟 #530 完全一致…@awice 出来挨打\n",
    "\n",
    "首先，如果你不介意用 O(N LogN) 的时间+ O(N) 的空间复杂度，那么其实问题也不大。直接遍历写下来就好了。用 `bisect` 插入可以自动有序。\n",
    "\n",
    "但是，这总该有个什么体面的解答吧？用 O(N) 时间 + 小于 O(N) 的空间就能解决的办法？\n",
    "\n",
    "翻了下 Comments 区，我没找到任何这样的 Python 解答。（摔\n",
    "\n",
    "但是，有个 Java 解看起来很美妙：\n",
    "\n",
    "BST 嘛，往左一定更大，往右一定更小。因此，最小的 Distance 一定是发生在「左子树的最大值/节点/柚子树的最小值」这个三角关系之间。\n",
    "\n",
    "那我们递归地遍历一次就得到结果了呀。"
   ]
  }
 ],
 "metadata": {
  "kernelspec": {
   "display_name": "Python 3",
   "language": "python",
   "name": "python3"
  },
  "language_info": {
   "codemirror_mode": {
    "name": "ipython",
    "version": 3
   },
   "file_extension": ".py",
   "mimetype": "text/x-python",
   "name": "python",
   "nbconvert_exporter": "python",
   "pygments_lexer": "ipython3",
   "version": "3.7.6"
  }
 },
 "nbformat": 4,
 "nbformat_minor": 4
}
