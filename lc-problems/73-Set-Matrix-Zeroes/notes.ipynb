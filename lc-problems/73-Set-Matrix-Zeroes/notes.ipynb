{
 "cells": [
  {
   "cell_type": "code",
   "execution_count": null,
   "metadata": {},
   "outputs": [],
   "source": [
    "Follow up:\n",
    "\n",
    "A straight forward solution using O(mn) space is probably a bad idea.\n",
    "A simple improvement uses O(m + n) space, but still not the best solution.\n",
    "Could you devise a constant space solution?"
   ]
  },
  {
   "cell_type": "code",
   "execution_count": null,
   "metadata": {},
   "outputs": [],
   "source": [
    "这道题给了很有意思的一个限制：对于空间复杂度的限制。\n",
    "如果说直接新开一份那么大的 List[List[Int]] 然后选择性拷贝的话，应该就达到了题目中要求的 O(mn) 空间复杂度。"
   ]
  },
  {
   "cell_type": "code",
   "execution_count": null,
   "metadata": {},
   "outputs": [],
   "source": [
    "当然是一个 Bad Idea，题目中说明了这是一个就地 Modify 列表的题目。"
   ]
  },
  {
   "cell_type": "code",
   "execution_count": null,
   "metadata": {},
   "outputs": [],
   "source": [
    "O(m + n) 当然还是很好达成的，只需要用两个 set 存放需要清零的 row index 和 column index 就可以啦。"
   ]
  },
  {
   "cell_type": "code",
   "execution_count": null,
   "metadata": {},
   "outputs": [],
   "source": [
    "至于完全的就地解决，仅仅引入 Constant 级的解决方案？我们来看看 Solution："
   ]
  },
  {
   "cell_type": "code",
   "execution_count": null,
   "metadata": {},
   "outputs": [],
   "source": [
    "Approach 3: O(1) Space, Efficient Solution\n",
    "\n",
    "Intuition\n",
    "\n",
    "The inefficiency in the second approach is that we might be repeatedly setting a row or column even if it was set to zero already. We can avoid this by postponing the step of setting a row or a column to zeroes.\n",
    "\n",
    "We can rather use the first cell of every row and column as a flag. This flag would determine whether a row or column has been set to zero. This means for every cell instead of going to \n",
    "M\n",
    "+\n",
    "N\n",
    "M+N cells and setting it to zero we just set the flag in two cells.\n",
    "if cell[i][j] == 0 {\n",
    "    cell[i][0] = 0\n",
    "    cell[0][j] = 0\n",
    "}\n",
    "These flags are used later to update the matrix. If the first cell of a row is set to zero this means the row should be marked zero. If the first cell of a column is set to zero this means the column should be marked zero.\n",
    "\n",
    "Algorithm\n",
    "\n",
    "We iterate over the matrix and we mark the first cell of a row i and first cell of a column j, if the condition in the pseudo code above is satisfied. i.e. if cell[i][j] == 0.\n",
    "\n",
    "The first cell of row and column for the first row and first column is the same i.e. cell[0][0]. Hence, we use an additional variable to tell us if the first column had been marked or not and the cell[0][0] would be used to tell the same for the first row.\n",
    "\n",
    "Now, we iterate over the original matrix starting from second row and second column i.e. matrix[1][1] onwards. For every cell we check if the row r or column c had been marked earlier by checking the respective first row cell or first column cell. If any of them was marked, we set the value in the cell to 0. Note the first row and first column serve as the row_set and column_set that we used in the first approach.\n",
    "\n",
    "We then check if cell[0][0] == 0, if this is the case, we mark the first row as zero.\n",
    "\n",
    "And finally, we check if the first column was marked, we make all entries in it as zeros.\n",
    "\n"
   ]
  },
  {
   "cell_type": "code",
   "execution_count": null,
   "metadata": {},
   "outputs": [],
   "source": [
    "这个方案，大概就是当你遍历矩阵，发现一个 0 位置的时候，就去把这一行/这一列的第一个元素都设置为 0。原话说，AS A FLAG。\n",
    "那么，这样在我们最后决定需不需要清空这一行/这一列。\n",
    "然后，由于我们始终向右向下遍历，我们就不会遇见把我们的标识符当作原有的值，进行清零的操作了。\n",
    "最后，只要看「左上两条边」上面的 0/1，就可以解决这些问题了。"
   ]
  }
 ],
 "metadata": {
  "kernelspec": {
   "display_name": "Python 3",
   "language": "python",
   "name": "python3"
  }
 },
 "nbformat": 4,
 "nbformat_minor": 2
}
