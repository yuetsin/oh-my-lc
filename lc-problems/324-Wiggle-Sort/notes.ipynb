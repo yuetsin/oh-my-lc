{
 "cells": [
  {
   "cell_type": "markdown",
   "metadata": {},
   "source": [
    "# 324\n",
    "\n",
    "我的算法又臭又长。很伤心。\n",
    "\n",
    "我的思路是先进行一次排序，然后按照\n",
    "\n",
    "1 3 5 7 9 .....\n",
    " 2 4 6 8 ......\n",
    " \n",
    "这样的方式穿插就能实现 Wiggle。\n",
    "\n",
    "但事实上不是这样的。在这个 Case 的时候会错：\n",
    "\n",
    "[4, 6, 5, 5]\n",
    "\n",
    "在这里我的算法会给出一个\n",
    "\n",
    "[4, 5, 5, 6] 或者 [6, 5, 5, 4] 的结果，但实际上正确结果是 [5, 6, 4, 5]。"
   ]
  },
  {
   "cell_type": "code",
   "execution_count": null,
   "metadata": {},
   "outputs": [],
   "source": [
    "class Solution:\n",
    "\tdef wiggleSort(self, nums: List[int]) -> None:\n",
    "\t\t\"\"\"\n",
    "\t\tDo not return anything, modify nums in-place instead.\n",
    "\t\t\"\"\"\n",
    "\t\tnums.sort(reverse = True)\n",
    "\t\tn = len(nums) // 2\n",
    "\t\tpos = len(nums) // 2\n",
    "\t\twhile n > 0:\n",
    "\t\t\tnums.insert(pos, nums.pop(0))\n",
    "\t\t\tn -= 1\n",
    "\t\t\tpos += 1\n",
    "            \n",
    "正解为此：也还是排序，从小到大地排序。"
   ]
  }
 ],
 "metadata": {
  "kernelspec": {
   "display_name": "Python 3",
   "language": "python",
   "name": "python3"
  },
  "language_info": {
   "codemirror_mode": {
    "name": "ipython",
    "version": 3
   },
   "file_extension": ".py",
   "mimetype": "text/x-python",
   "name": "python",
   "nbconvert_exporter": "python",
   "pygments_lexer": "ipython3",
   "version": "3.7.4"
  }
 },
 "nbformat": 4,
 "nbformat_minor": 2
}
