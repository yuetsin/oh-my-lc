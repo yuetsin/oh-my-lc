{
 "cells": [
  {
   "cell_type": "markdown",
   "metadata": {},
   "source": [
    "# 766 Toeplitz Matrix\n",
    "\n",
    "Runtime: 96 ms, faster than 20.45% of Python3 online submissions for Toeplitz Matrix.\n",
    "\n",
    "Memory Usage: 12.7 MB, less than 100.00% of Python3 online submissions for Toeplitz Matrix.\n",
    "\n",
    "要求每条「\\」形斜向下的数字都一致。\n",
    "\n",
    "稍微考虑一下，每条线上的 (x, y) 都有一样的 x - y。如果是「/」 形状的，那就是 x + y 一样。\n",
    "\n",
    "defaultdict 真好用.jpg"
   ]
  }
 ],
 "metadata": {
  "kernelspec": {
   "display_name": "Python 3",
   "language": "python",
   "name": "python3"
  },
  "language_info": {
   "codemirror_mode": {
    "name": "ipython",
    "version": 3
   },
   "file_extension": ".py",
   "mimetype": "text/x-python",
   "name": "python",
   "nbconvert_exporter": "python",
   "pygments_lexer": "ipython3",
   "version": "3.7.6"
  }
 },
 "nbformat": 4,
 "nbformat_minor": 4
}
