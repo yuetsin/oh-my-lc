{
 "cells": [
  {
   "cell_type": "markdown",
   "metadata": {},
   "source": [
    "# 329\n",
    "\n",
    "一个简单的 Matrix DP 问题。\n",
    "\n",
    "这里的 (x, y) 是可以直接 Hash 之后拿来 DP 的。因为你要求的是「Increasing Path」，因此任何中间路径的结果都不会和已访问的 Nodes 相冲突。\n",
    "\n",
    "因此状态无关，可以直接 DP。\n",
    "\n",
    "因此事实上将 Visited 节点设定为 -1 其实也不必要了。反正他比你小就对了。不会有影响。"
   ]
  }
 ],
 "metadata": {
  "kernelspec": {
   "display_name": "Python 3",
   "language": "python",
   "name": "python3"
  },
  "language_info": {
   "codemirror_mode": {
    "name": "ipython",
    "version": 3
   },
   "file_extension": ".py",
   "mimetype": "text/x-python",
   "name": "python",
   "nbconvert_exporter": "python",
   "pygments_lexer": "ipython3",
   "version": "3.7.4"
  }
 },
 "nbformat": 4,
 "nbformat_minor": 2
}
