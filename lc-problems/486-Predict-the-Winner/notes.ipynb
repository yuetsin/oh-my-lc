{
 "cells": [
  {
   "cell_type": "markdown",
   "metadata": {},
   "source": [
    "# 486 Predict the Winner\n",
    "\n",
    "题目想法很好。遗憾的是根本没讲清楚，Test Cases 也一塌糊涂。\n",
    "\n",
    "意思：从一个 Array 中轮流拿数字，最后谁分数高（原题的描述是：The player with the maximum score wins）谁赢。\n",
    "\n",
    "而且，Each time a player picks a number, that number will not be available for the next player.\n",
    "\n",
    "然而他没有讲清楚的是：两人分数一样怎么处理？只有一个数字 0，那么拿到了（0）和没拿到数字的（None）是否相等？\n",
    "\n",
    "更离谱的是：数字不能重复拿，到底是只是被挑选的这个数字，还是所有跟这个数字相等的全部 Disable？\n",
    "\n",
    "统统没讲清楚。\n",
    "\n",
    "Note 的角落（最后一条）里说： If the scores of both players are equal, then player 1 is still the winner.\n",
    "\n",
    "我T…"
   ]
  },
  {
   "cell_type": "markdown",
   "metadata": {},
   "source": [
    "最后，这题用 dfs 浪费了。其实 dp 足够了。\n",
    "\n",
    "dp: dp(i, j) = max(nums[i] - dp(i+1, j), nums[j] - dp(i, j-1))\n",
    "base case: dp(a, a) <- dp(a+1, a), dp(a,a-1)"
   ]
  }
 ],
 "metadata": {
  "kernelspec": {
   "display_name": "Python 3",
   "language": "python",
   "name": "python3"
  },
  "language_info": {
   "codemirror_mode": {
    "name": "ipython",
    "version": 3
   },
   "file_extension": ".py",
   "mimetype": "text/x-python",
   "name": "python",
   "nbconvert_exporter": "python",
   "pygments_lexer": "ipython3",
   "version": "3.7.6"
  }
 },
 "nbformat": 4,
 "nbformat_minor": 4
}
