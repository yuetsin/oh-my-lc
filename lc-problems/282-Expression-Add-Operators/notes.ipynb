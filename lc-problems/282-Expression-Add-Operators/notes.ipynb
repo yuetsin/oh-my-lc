{
 "cells": [
  {
   "cell_type": "markdown",
   "metadata": {},
   "source": [
    "# 282\n",
    "\n",
    "加强版 24 点游戏（雾\n",
    "\n",
    "简单说，给出一串数字 类似于 “123985738234”，以及一个 Target 数字，要求不改变这串数字的顺序，在其中\n",
    "\n",
    "插入 + - * 符号（而且他们全部都是二元操作符，也就是不可以把 + - 放在开头或结尾），\n",
    "\n",
    "使得他们的计算结果为 Target。同时注意，可以在某些位置不插入符号，使得他们被解读成一个多位数字进行运算。\n",
    "\n",
    "另外，需要遵循运算符优先级。\n",
    "\n",
    "最直接的思路应该就是：在任何可能插入运算符的位置插入 +、-、* 或者是不插入（也就是插入 ‘’）中选择任意一个进行操作，\n",
    "\n",
    "得到所有结果之后就可以一个个进行 eval，看结果是否等于 Target。\n",
    "\n",
    "这个复杂度是 n ^ 4……（n 为字符串长度），事实上是非常慢的。\n",
    "\n",
    "慢到 TLE。\n",
    "\n",
    "（悄悄补充一句：事实上自己写一个简单的 eval（只支持 + - * 和整数的那种）是可以通过的，但是 Python 内置的 eval 功能太强了，就通过不了。）\n",
    "\n",
    "有没有办法可以剪枝呢？"
   ]
  },
  {
   "cell_type": "code",
   "execution_count": null,
   "metadata": {},
   "outputs": [],
   "source": [
    "class Solution:\n",
    "    def addOperators(self, num: 'str', target: 'int') -> 'List[str]':\n",
    "\n",
    "        N = len(num)\n",
    "        answers = []\n",
    "        def recurse(index, prev_operand, current_operand, value, string):\n",
    "\n",
    "            # Done processing all the digits in num\n",
    "            if index == N:\n",
    "\n",
    "                # If the final value == target expected AND\n",
    "                # no operand is left unprocessed\n",
    "                if value == target and current_operand == 0:\n",
    "                    answers.append(\"\".join(string[1:]))\n",
    "                return\n",
    "\n",
    "            # Extending the current operand by one digit\n",
    "            current_operand = current_operand*10 + int(num[index])\n",
    "            str_op = str(current_operand)\n",
    "\n",
    "            # To avoid cases where we have 1 + 05 or 1 * 05 since 05 won't be a\n",
    "            # valid operand. Hence this check\n",
    "            if current_operand > 0:\n",
    "\n",
    "                # NO OP recursion\n",
    "                recurse(index + 1, prev_operand, current_operand, value, string)\n",
    "\n",
    "            # ADDITION\n",
    "            string.append('+'); string.append(str_op)\n",
    "            recurse(index + 1, current_operand, 0, value + current_operand, string)\n",
    "            string.pop();string.pop()\n",
    "\n",
    "            # Can subtract or multiply only if there are some previous operands\n",
    "            if string:\n",
    "\n",
    "                # SUBTRACTION\n",
    "                string.append('-'); string.append(str_op)\n",
    "                recurse(index + 1, -current_operand, 0, value - current_operand, string)\n",
    "                string.pop();string.pop()\n",
    "\n",
    "                # MULTIPLICATION\n",
    "                string.append('*'); string.append(str_op)\n",
    "                recurse(index + 1, current_operand * prev_operand, 0, value - prev_operand + (current_operand * prev_operand), string)\n",
    "                string.pop();string.pop()\n",
    "        recurse(0, 0, 0, 0, [])    \n",
    "        return answers"
   ]
  }
 ],
 "metadata": {
  "kernelspec": {
   "display_name": "Python 3",
   "language": "python",
   "name": "python3"
  },
  "language_info": {
   "codemirror_mode": {
    "name": "ipython",
    "version": 3
   },
   "file_extension": ".py",
   "mimetype": "text/x-python",
   "name": "python",
   "nbconvert_exporter": "python",
   "pygments_lexer": "ipython3",
   "version": "3.7.4"
  }
 },
 "nbformat": 4,
 "nbformat_minor": 2
}
