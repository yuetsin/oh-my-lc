{
 "cells": [
  {
   "cell_type": "markdown",
   "metadata": {},
   "source": [
    "# 441 Arranging Coins\n",
    "\n",
    "Runtime: 32 ms, faster than 78.53% of Python3 online submissions for Arranging Coins.\n",
    "Memory Usage: 12.8 MB, less than 100.00% of Python3 online submissions for Arranging Coins.\n",
    "\n",
    "这绝对不是什么编程问题…而是初中数学问题。"
   ]
  }
 ],
 "metadata": {
  "kernelspec": {
   "display_name": "Python 3",
   "language": "python",
   "name": "python3"
  },
  "language_info": {
   "codemirror_mode": {
    "name": "ipython",
    "version": 3
   },
   "file_extension": ".py",
   "mimetype": "text/x-python",
   "name": "python",
   "nbconvert_exporter": "python",
   "pygments_lexer": "ipython3",
   "version": "3.7.6"
  }
 },
 "nbformat": 4,
 "nbformat_minor": 2
}
