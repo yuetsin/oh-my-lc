{
 "cells": [
  {
   "cell_type": "markdown",
   "metadata": {},
   "source": [
    "# 540 Single Element in a Sorted Array\n",
    "\n",
    "Runtime: 84 ms, faster than 18.62% of Python3 online submissions for Single Element in a Sorted Array.\n",
    "\n",
    "Memory Usage: 15 MB, less than 7.69% of Python3 online submissions for Single Element in a Sorted Array.\n",
    "\n",
    "直接大家全异或，O(N) 一回其实还行。但是没用到 Sorted 这个大性质，还是慢了。\n",
    "\n",
    "实际上，有更 Tricky 的办法：因为（几乎所有数都重复出现一次，只有一个数仅仅出现一次），所以一共一定有奇数个数字。\n",
    "\n",
    "把所有的奇数项加起来，减去所有的偶数项…\n",
    "\n",
    "（如果我们用计算机人的说法，从 0 开始数，那么就是偶数项多于奇数项。反过来）"
   ]
  },
  {
   "cell_type": "code",
   "execution_count": null,
   "metadata": {},
   "outputs": [],
   "source": [
    "class Solution:\n",
    "    def singleNonDuplicate(self, nums: List[int]) -> int:\n",
    "        return sum(nums[::2])-sum(nums[1::2])"
   ]
  }
 ],
 "metadata": {
  "kernelspec": {
   "display_name": "Python 3",
   "language": "python",
   "name": "python3"
  },
  "language_info": {
   "codemirror_mode": {
    "name": "ipython",
    "version": 3
   },
   "file_extension": ".py",
   "mimetype": "text/x-python",
   "name": "python",
   "nbconvert_exporter": "python",
   "pygments_lexer": "ipython3",
   "version": "3.7.6"
  }
 },
 "nbformat": 4,
 "nbformat_minor": 4
}
