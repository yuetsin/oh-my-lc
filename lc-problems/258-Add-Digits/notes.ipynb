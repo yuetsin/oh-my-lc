{
 "cells": [
  {
   "cell_type": "markdown",
   "metadata": {},
   "source": [
    "# 258\n",
    "\n",
    "这题嘛，sum([int(digit) for digit in str(num)])\n",
    "就可以直接酸楚每一位数字的和\n",
    "\n",
    "但是…这还是一个用到了 Recursive 循环的算法。题目的附加要求是：\n",
    "\n",
    "Follow up:\n",
    "Could you do it without any loop/recursion in O(1) runtime?\n",
    "\n",
    "不用递归不用循环，O（1）复杂度解答疑难\n",
    "\n",
    "这真的可能吗？"
   ]
  },
  {
   "cell_type": "code",
   "execution_count": null,
   "metadata": {},
   "outputs": [],
   "source": [
    "int addDigits(int num){\n",
    "    return (num - 1) % 9 + 1;\n",
    "}"
   ]
  },
  {
   "cell_type": "markdown",
   "metadata": {},
   "source": [
    "出现了，数学怪\n",
    "\n",
    "(num - 1) % 9 + 1\n",
    "\n",
    "这到底是为什么啊.jpg\n",
    "\n",
    "The problem, widely known as digit root problem, has a congruence formula:\n",
    "\n",
    "https://en.wikipedia.org/wiki/Digital_root#Congruence_formula\n",
    "For base b (decimal case b = 10), the digit root of an integer is:\n",
    "\n",
    "dr(n) = 0 if n == 0\n",
    "dr(n) = (b-1) if n != 0 and n % (b-1) == 0\n",
    "dr(n) = n mod (b-1) if n % (b-1) != 0\n",
    "or\n",
    "\n",
    "dr(n) = 1 + (n - 1) % 9\n",
    "Note here, when n = 0, since (n - 1) % 9 = -1, the return value is zero (correct).\n",
    "\n",
    "From the formula, we can find that the result of this problem is immanently periodic, with period (b-1).\n",
    "\n",
    "Output sequence for decimals (b = 10):\n",
    "\n",
    "~input: 0 1 2 3 4 ...\n",
    "output: 0 1 2 3 4 5 6 7 8 9 1 2 3 4 5 6 7 8 9 1 2 3 ....\n",
    "\n",
    "Henceforth, we can write the following code, whose time and space complexities are both O(1).\n",
    "\n",
    "class Solution {\n",
    "public:\n",
    "    int addDigits(int num) {\n",
    "        return 1 + (num - 1) % 9;\n",
    "    }\n",
    "};\n",
    "\n",
    "绝了…"
   ]
  }
 ],
 "metadata": {
  "kernelspec": {
   "display_name": "Python 3",
   "language": "python",
   "name": "python3"
  },
  "language_info": {
   "codemirror_mode": {
    "name": "ipython",
    "version": 3
   },
   "file_extension": ".py",
   "mimetype": "text/x-python",
   "name": "python",
   "nbconvert_exporter": "python",
   "pygments_lexer": "ipython3",
   "version": "3.7.4"
  }
 },
 "nbformat": 4,
 "nbformat_minor": 2
}
