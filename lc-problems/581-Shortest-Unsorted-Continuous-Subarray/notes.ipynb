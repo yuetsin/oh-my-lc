{
 "cells": [
  {
   "cell_type": "markdown",
   "metadata": {},
   "source": [
    "# 581 Shortest Unsorted Continuous Subarray\n",
    "\n",
    "Runtime: 236 ms, faster than 43.52% of Python3 online submissions for Shortest Unsorted Continuous Subarray.\n",
    "\n",
    "Memory Usage: 13.9 MB, less than 95.00% of Python3 online submissions for Shortest Unsorted Continuous Subarray.\n",
    "\n",
    "要 Sorted，还只能挑一个…\n",
    "\n",
    "那不就是先排序好，然后逐个比较那些数字在不对的位置上，拿到 min 和 max，之后 max - min + 1 就是长度了。\n",
    "\n",
    "留意到如果所有的数字都在位（已经排序好了），要返回个 0 的。"
   ]
  }
 ],
 "metadata": {
  "kernelspec": {
   "display_name": "Python 3",
   "language": "python",
   "name": "python3"
  },
  "language_info": {
   "codemirror_mode": {
    "name": "ipython",
    "version": 3
   },
   "file_extension": ".py",
   "mimetype": "text/x-python",
   "name": "python",
   "nbconvert_exporter": "python",
   "pygments_lexer": "ipython3",
   "version": "3.7.6"
  }
 },
 "nbformat": 4,
 "nbformat_minor": 4
}
