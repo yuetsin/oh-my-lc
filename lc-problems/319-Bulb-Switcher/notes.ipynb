{
 "cells": [
  {
   "cell_type": "markdown",
   "metadata": {},
   "source": [
    "# 319\n",
    "\n",
    "It was a good problem. But the description fails to clarify it so it's totally unsolvable at all and got awful reputation.\n",
    "\n",
    "Maybe it's put up by @awice.\n",
    "\n",
    "Anyway, the key point is that only those that is \"perfect square numbers\" could keep on at last. Why?\n",
    "\n",
    "Because only those \"PSN\" can have exactly matched factors.\n",
    "\n",
    "And on the other hand, if a number has exactly matched factors that could 一一对应，那么他也一定是个完全平方数了！\n",
    "\n",
    "所以我们只需要统计完全平方数的个数就好了。"
   ]
  }
 ],
 "metadata": {
  "kernelspec": {
   "display_name": "Python 3",
   "language": "python",
   "name": "python3"
  },
  "language_info": {
   "codemirror_mode": {
    "name": "ipython",
    "version": 3
   },
   "file_extension": ".py",
   "mimetype": "text/x-python",
   "name": "python",
   "nbconvert_exporter": "python",
   "pygments_lexer": "ipython3",
   "version": "3.7.4"
  }
 },
 "nbformat": 4,
 "nbformat_minor": 2
}
