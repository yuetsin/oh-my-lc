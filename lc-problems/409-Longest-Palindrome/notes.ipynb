{
 "cells": [
  {
   "cell_type": "markdown",
   "metadata": {},
   "source": [
    "# 409 Longest Palindrome\n",
    "\n",
    "这题 Easy…给出一堆字母（大小写敏感），看能组合出最长的回文序列长度。\n",
    "\n",
    "先统计出每个字符出现次数；如果是偶数，那么正好可以直接贴在两边，长度++；如果是奇数，那只能遗憾丢弃一个；假如这个数就是 1，那么直接没了。\n",
    "\n",
    "但是考虑到回文序列可以在正正中间加一个不需要和任何数字对称的数字；如果说存在被我们舍弃的奇数，那就可以给最终结果 + 1；如果没有，那就是 0。\n",
    "\n",
    "基本把这个思路写下来就是 python 代码了。\n",
    "\n",
    "Runtime: 32 ms, faster than 50.65% of Python3 online submissions for Longest Palindrome.\n",
    "\n",
    "Memory Usage: 12.7 MB, less than 100.00% of Python3 online submissions for Longest Palindrome."
   ]
  }
 ],
 "metadata": {
  "kernelspec": {
   "display_name": "Python 3",
   "language": "python",
   "name": "python3"
  },
  "language_info": {
   "codemirror_mode": {
    "name": "ipython",
    "version": 3
   },
   "file_extension": ".py",
   "mimetype": "text/x-python",
   "name": "python",
   "nbconvert_exporter": "python",
   "pygments_lexer": "ipython3",
   "version": "3.7.6"
  }
 },
 "nbformat": 4,
 "nbformat_minor": 2
}
