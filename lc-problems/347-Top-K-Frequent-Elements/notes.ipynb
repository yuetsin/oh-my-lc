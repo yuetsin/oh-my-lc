{
 "cells": [
  {
   "cell_type": "markdown",
   "metadata": {},
   "source": [
    "# 347\n",
    "\n",
    "Runtime: 120 ms, faster than 67.73% of Python3 online submissions for Top K Frequent Elements.\n",
    "\n",
    "Memory Usage: 18.2 MB, less than 6.25% of Python3 online submissions for Top K Frequent Elements.\n",
    "\n",
    "内存吃大了…\n",
    "\n",
    "而且，也不用自己实现 collections.Counter.\n",
    "\n",
    "而且也不用把它给排序好。用 Heap 就够了。O(nlogn) 复杂度可以压到 O(n logk)。"
   ]
  },
  {
   "cell_type": "code",
   "execution_count": null,
   "metadata": {},
   "outputs": [],
   "source": [
    "class Solution:\n",
    "    def topKFrequent(self, nums, k):\n",
    "        \"\"\"\n",
    "        :type nums: List[int]\n",
    "        :type k: int\n",
    "        :rtype: List[int]\n",
    "        \"\"\" \n",
    "        count = collections.Counter(nums)   \n",
    "        return heapq.nlargest(k, count.keys(), key=count.get) "
   ]
  }
 ],
 "metadata": {
  "kernelspec": {
   "display_name": "Python 3",
   "language": "python",
   "name": "python3"
  },
  "language_info": {
   "codemirror_mode": {
    "name": "ipython",
    "version": 3
   },
   "file_extension": ".py",
   "mimetype": "text/x-python",
   "name": "python",
   "nbconvert_exporter": "python",
   "pygments_lexer": "ipython3",
   "version": "3.7.4"
  }
 },
 "nbformat": 4,
 "nbformat_minor": 2
}
