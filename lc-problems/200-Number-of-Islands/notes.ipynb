{
 "cells": [
  {
   "cell_type": "markdown",
   "metadata": {},
   "source": [
    "# 200 Number of Islands\n",
    "\n",
    "这是 Medium 题？？？？？\n",
    "不敢相信\n",
    "\n",
    "写得像是又臭又长的裹脚布，而且还是错的"
   ]
  },
  {
   "cell_type": "code",
   "execution_count": null,
   "metadata": {},
   "outputs": [],
   "source": [
    "def numIslands(self, grid):\n",
    "    if not grid:\n",
    "        return 0\n",
    "        \n",
    "    count = 0\n",
    "    for i in range(len(grid)):\n",
    "        for j in range(len(grid[0])):\n",
    "            if grid[i][j] == '1':\n",
    "                self.dfs(grid, i, j)\n",
    "                count += 1\n",
    "    return count\n",
    "\n",
    "def dfs(self, grid, i, j):\n",
    "    if i<0 or j<0 or i>=len(grid) or j>=len(grid[0]) or grid[i][j] != '1':\n",
    "        return\n",
    "    grid[i][j] = '#'\n",
    "    self.dfs(grid, i+1, j)\n",
    "    self.dfs(grid, i-1, j)\n",
    "    self.dfs(grid, i, j+1)\n",
    "    self.dfs(grid, i, j-1)"
   ]
  },
  {
   "cell_type": "markdown",
   "metadata": {},
   "source": [
    "简单的 DFS 应该这么干：直接用树来搜索。别用孙焱老师的扫描表法。至少你别用。因为你写的太菜了。\n",
    "\n",
    "用 `#` 来代表扫描过的 1 区块。\n",
    "\n",
    "说起来这种算法之前有过一道一样的题目吧，就是那道「判断 1 区块是否临近边界」的那道题。\n",
    "\n",
    "你怎么就是记不住呢？"
   ]
  }
 ],
 "metadata": {
  "kernelspec": {
   "display_name": "Python 3",
   "language": "python",
   "name": "python3"
  },
  "language_info": {
   "codemirror_mode": {
    "name": "ipython",
    "version": 3
   },
   "file_extension": ".py",
   "mimetype": "text/x-python",
   "name": "python",
   "nbconvert_exporter": "python",
   "pygments_lexer": "ipython3",
   "version": "3.7.4"
  }
 },
 "nbformat": 4,
 "nbformat_minor": 2
}
