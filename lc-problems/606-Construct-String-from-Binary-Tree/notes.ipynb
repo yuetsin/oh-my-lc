{
 "cells": [
  {
   "cell_type": "markdown",
   "metadata": {},
   "source": [
    "# 606 Construct String from Binary Tree\n",
    "\n",
    "Runtime: 52 ms, faster than 54.21% of Python3 online submissions for Construct String from Binary Tree.\n",
    "\n",
    "Memory Usage: 14.5 MB, less than 100.00% of Python3 online submissions for Construct String from Binary Tree.\n",
    "\n",
    "简单地说：就是尽可能地减少 ()：有左子树没有柚子的话，就可以省略掉柚子树的 ()；但是有柚子树没有左子树的话，就不能省略掉左子树的 () 了。"
   ]
  }
 ],
 "metadata": {
  "kernelspec": {
   "display_name": "Python 3",
   "language": "python",
   "name": "python3"
  },
  "language_info": {
   "codemirror_mode": {
    "name": "ipython",
    "version": 3
   },
   "file_extension": ".py",
   "mimetype": "text/x-python",
   "name": "python",
   "nbconvert_exporter": "python",
   "pygments_lexer": "ipython3",
   "version": "3.7.6"
  }
 },
 "nbformat": 4,
 "nbformat_minor": 4
}
