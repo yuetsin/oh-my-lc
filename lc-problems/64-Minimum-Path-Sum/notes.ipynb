{
 "cells": [
  {
   "cell_type": "code",
   "execution_count": null,
   "metadata": {},
   "outputs": [],
   "source": [
    "It's yet another variety of Problem #62 and #63. Much in love with that \"码形结合\" (Code with the shape) problem."
   ]
  },
  {
   "cell_type": "code",
   "execution_count": null,
   "metadata": {},
   "outputs": [],
   "source": [
    "Still the fantastic Dynamic Programming Problem.\n",
    "Just in case if you're going to initialize a multi-dimension list, DON'T use [[0] * x] * y. That's shallow copy of list."
   ]
  },
  {
   "cell_type": "code",
   "execution_count": null,
   "metadata": {},
   "outputs": [],
   "source": [
    " Use [[0 for col in range(n)] for row in range(m)] instead."
   ]
  }
 ],
 "metadata": {
  "kernelspec": {
   "display_name": "Python 3",
   "language": "python",
   "name": "python3"
  }
 },
 "nbformat": 4,
 "nbformat_minor": 2
}
