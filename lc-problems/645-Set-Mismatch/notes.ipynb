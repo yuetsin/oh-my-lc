{
 "cells": [
  {
   "cell_type": "markdown",
   "metadata": {},
   "source": [
    "# 645 Set Mismatch\n",
    "\n",
    "Runtime: 200 ms, faster than 88.31% of Python3 online submissions for Set Mismatch.\n",
    "\n",
    "Memory Usage: 14.6 MB, less than 22.22% of Python3 online submissions for Set Mismatch.\n",
    "\n",
    "這裏，只需要用一個數學公式——等差數列的求和公式就可以知道 actual 和 expected 差多少——也就是那個損壞數和重複數差了多少。\n",
    "\n",
    "然後簡單的計算就可以了。\n",
    "\n",
    "多個 O(N) 的疊加⋯"
   ]
  }
 ],
 "metadata": {
  "kernelspec": {
   "display_name": "Python 3",
   "language": "python",
   "name": "python3"
  },
  "language_info": {
   "codemirror_mode": {
    "name": "ipython",
    "version": 3
   },
   "file_extension": ".py",
   "mimetype": "text/x-python",
   "name": "python",
   "nbconvert_exporter": "python",
   "pygments_lexer": "ipython3",
   "version": "3.7.6"
  }
 },
 "nbformat": 4,
 "nbformat_minor": 4
}
