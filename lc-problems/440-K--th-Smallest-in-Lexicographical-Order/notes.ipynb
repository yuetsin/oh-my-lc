{
 "cells": [
  {
   "cell_type": "markdown",
   "metadata": {},
   "source": [
    "# 440 K-th Smallest in Lexicographical Order\n",
    "\n",
    "有一点很微弱地感觉。感觉是可以用 Stack 来完成的。\n",
    "\n",
    "然而实际上不是。\n",
    "\n",
    "上次做过一个和这题一样的 Lexicographical Order 的题。把数字的字符串表示跟十进制绑定得死死的。没有任何实际意义。\n",
    "\n",
    "虽说讨厌这题。实际上的解法却是很简单：只需要计算出以 pre 为前缀的数字的个数就可以了。注意 pre 是递归的，也就是 pre 可以大于 10，以多个数字作为前缀也是可以的。\n",
    "\n",
    "然后，知道了每个前缀的个数就可以快速逼近目标所在的位置，从而简单计算出结果。"
   ]
  }
 ],
 "metadata": {
  "kernelspec": {
   "display_name": "Python 3",
   "language": "python",
   "name": "python3"
  },
  "language_info": {
   "codemirror_mode": {
    "name": "ipython",
    "version": 3
   },
   "file_extension": ".py",
   "mimetype": "text/x-python",
   "name": "python",
   "nbconvert_exporter": "python",
   "pygments_lexer": "ipython3",
   "version": "3.7.6"
  }
 },
 "nbformat": 4,
 "nbformat_minor": 2
}
