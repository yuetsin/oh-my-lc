{
 "cells": [
  {
   "cell_type": "markdown",
   "metadata": {},
   "source": [
    "# 696 Count Binary Substrings\n",
    "\n",
    "Runtime: 172 ms, faster than 59.17% of Python3 online submissions for Count Binary Substrings.\n",
    "\n",
    "Memory Usage: 13 MB, less than 100.00% of Python3 online submissions for Count Binary Substrings.\n",
    "\n",
    "简单的。\n",
    "\n",
    "首先了解一点：1 和 0 区分无意义。只要明白他们是两个间断状态就好了。\n",
    "\n",
    "到头来可以抽象成数组 [] lens，其中每个 i 表示 i 个和之前不同的 alternating bits。\n",
    "\n",
    "然后，我们要知道：每个点可能构成的最长 Substring，若其长度为 k，那么连同他自己一共可以贡献 k 个满足这种要求的 Substring。\n",
    "\n",
    "最后，我们知道：根据构成原理，lens 数组中的 [i] 和 [i + 1] 的数字们能够构成最长满足要求的 Substring，长度为 min([i], [i + 1])。\n",
    "\n",
    "相邻两个 lens 构成的起讫 bit 是相反的；绝不可能重复。而不相邻的没有公共 element，更不会重复了。\n",
    "\n",
    "所以，就这么简单。"
   ]
  }
 ],
 "metadata": {
  "kernelspec": {
   "display_name": "Python 3",
   "language": "python",
   "name": "python3"
  },
  "language_info": {
   "codemirror_mode": {
    "name": "ipython",
    "version": 3
   },
   "file_extension": ".py",
   "mimetype": "text/x-python",
   "name": "python",
   "nbconvert_exporter": "python",
   "pygments_lexer": "ipython3",
   "version": "3.7.6"
  }
 },
 "nbformat": 4,
 "nbformat_minor": 4
}
