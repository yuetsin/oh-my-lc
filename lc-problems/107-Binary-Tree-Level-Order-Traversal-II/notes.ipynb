{
 "cells": [
  {
   "cell_type": "code",
   "execution_count": null,
   "metadata": {},
   "outputs": [],
   "source": [
    "这个 II 完全没有 II 该有的水准嘛…"
   ]
  },
  {
   "cell_type": "code",
   "execution_count": null,
   "metadata": {},
   "outputs": [],
   "source": [
    "只是让最终的层级遍历从树叶向树根…我 reverse 一下也成吧，或者把原来的 从尾插入 结构改成 从头插入 结构，其实也就行了…\n",
    "\n",
    "有位大哥（@Zzz_）直接用了链表来存储结构（当然是 Java 的 LinkedList ）。我想这样的确会节约点时间吧……"
   ]
  },
  {
   "cell_type": "code",
   "execution_count": null,
   "metadata": {},
   "outputs": [],
   "source": [
    "> \n",
    "Runtime: 44 ms, faster than 77.65% of Python3 online submissions for Binary Tree Level Order Traversal II.\n",
    "Memory Usage: 14 MB, less than 5.23% of Python3 online submissions for Binary Tree Level Order Traversal II.\n",
    "（没啥意义，仅供参考）"
   ]
  },
  {
   "cell_type": "code",
   "execution_count": null,
   "metadata": {},
   "outputs": [],
   "source": [
    "@caikehe 的做法（见 sample.py）可以选择使用 Stack 或者 Queue 结合 DFS 来解题。"
   ]
  }
 ],
 "metadata": {
  "kernelspec": {
   "display_name": "Python 3",
   "language": "python",
   "name": "python3"
  }
 },
 "nbformat": 4,
 "nbformat_minor": 2
}
