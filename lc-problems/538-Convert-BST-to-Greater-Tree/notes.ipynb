{
 "cells": [
  {
   "cell_type": "markdown",
   "metadata": {},
   "source": [
    "# 538 Convert BST to Greater Tree\n",
    "\n",
    "Runtime: 120 ms, faster than 12.11% of Python3 online submissions for Convert BST to Greater Tree.\n",
    "\n",
    "Memory Usage: 15.9 MB, less than 6.25% of Python3 online submissions for Convert BST to Greater Tree.\n",
    "\n",
    "先遍历一次，用 bisect 加速…这样时间复杂度就是 O(N LogN)。然后用 sum_v 算出大于等于它的全部值，求和起来。这个可以在 O(N) 里完成。\n",
    "\n",
    "最后，遍历一回，再写回原来的值。这样复杂度是 O(N LogN）。\n",
    "\n",
    "但这完全没用到一个性质：所有大于节点 Node 的点，都出现在 Node 的右节点。这是 BST 的性质！"
   ]
  }
 ],
 "metadata": {
  "kernelspec": {
   "display_name": "Python 3",
   "language": "python",
   "name": "python3"
  },
  "language_info": {
   "codemirror_mode": {
    "name": "ipython",
    "version": 3
   },
   "file_extension": ".py",
   "mimetype": "text/x-python",
   "name": "python",
   "nbconvert_exporter": "python",
   "pygments_lexer": "ipython3",
   "version": "3.7.6"
  }
 },
 "nbformat": 4,
 "nbformat_minor": 4
}
