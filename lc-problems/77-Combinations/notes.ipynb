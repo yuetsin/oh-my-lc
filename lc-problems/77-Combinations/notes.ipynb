{
 "cells": [
  {
   "cell_type": "code",
   "execution_count": null,
   "metadata": {},
   "outputs": [],
   "source": [
    "本题的想法…还是递归。我多么爱递归呢）"
   ]
  },
  {
   "cell_type": "code",
   "execution_count": null,
   "metadata": {},
   "outputs": [],
   "source": [
    "就是，要找 k 个 Combination，就先定下来最高位的值 i（可以从 k 取到 n），然后再 call 自己从 i - 1 开始往下，找出 k - 1 的 Combination，最后一一缝起来。"
   ]
  },
  {
   "cell_type": "code",
   "execution_count": null,
   "metadata": {},
   "outputs": [],
   "source": [
    "做了一个小优化：在 k == n 的时候，直接返回 list(range(k))。省的递归那么多次没用的。"
   ]
  },
  {
   "cell_type": "code",
   "execution_count": null,
   "metadata": {},
   "outputs": [],
   "source": [
    "> Runtime: 132 ms, faster than 83.41% of Python3 online submissions for Combinations.\n",
    "> Memory Usage: 14.9 MB, less than 7.73% of Python3 online submissions for Combinations."
   ]
  }
 ],
 "metadata": {
  "kernelspec": {
   "display_name": "Python 3",
   "language": "python",
   "name": "python3"
  }
 },
 "nbformat": 4,
 "nbformat_minor": 2
}
