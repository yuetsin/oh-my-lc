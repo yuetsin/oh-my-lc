{
 "cells": [
  {
   "cell_type": "markdown",
   "metadata": {},
   "source": [
    "# 275\n",
    "\n",
    "这种题就是典型的：先想到一个解法，然后反过来去编出一到题目，\n",
    "\n",
    "然后再把这个题目里巧妙的地方抽出来，编出一到 Problem II。\n",
    "\n",
    "然后大家看了 Problem II，觉得摸不着头脑，然后你给出一个很轻松的解答，然后大家觉得你好厉害。\n",
    "\n",
    "思路跟上一题的 Sol 一模一样。只是你都不需要 Sort 了。好耶。"
   ]
  }
 ],
 "metadata": {
  "kernelspec": {
   "display_name": "Python 3",
   "language": "python",
   "name": "python3"
  },
  "language_info": {
   "codemirror_mode": {
    "name": "ipython",
    "version": 3
   },
   "file_extension": ".py",
   "mimetype": "text/x-python",
   "name": "python",
   "nbconvert_exporter": "python",
   "pygments_lexer": "ipython3",
   "version": "3.7.4"
  }
 },
 "nbformat": 4,
 "nbformat_minor": 2
}
