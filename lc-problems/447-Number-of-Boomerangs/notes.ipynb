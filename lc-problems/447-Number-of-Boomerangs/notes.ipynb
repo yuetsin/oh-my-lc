{
 "cells": [
  {
   "cell_type": "markdown",
   "metadata": {},
   "source": [
    "# 447 Number of Boomerangs\n",
    "\n",
    "Boomerangs = 回旋镖…\n",
    "\n",
    "也就是，想找出形如 A=>B=>C 且 |AB| = |BC| 的点组合有多少。\n",
    "\n",
    "看起来很简单…只要把每个点连接到其他点的距离种类求一下和就行了。\n",
    "\n",
    "事实上也是那么简单……参见 1 line 的解法。\n",
    "\n",
    "Mine 之所以 Incorrect 的原因是，把所有的点之间的关系混合计算了，然而要求是必须有一个公共点才能构成 Boomerangs 的。\n",
    "\n",
    "所以，对每个点分开计算就好了。他们一定不会重复，因为我们选定了「Pivot」点这是不会重复的。"
   ]
  }
 ],
 "metadata": {
  "kernelspec": {
   "display_name": "Python 3",
   "language": "python",
   "name": "python3"
  },
  "language_info": {
   "codemirror_mode": {
    "name": "ipython",
    "version": 3
   },
   "file_extension": ".py",
   "mimetype": "text/x-python",
   "name": "python",
   "nbconvert_exporter": "python",
   "pygments_lexer": "ipython3",
   "version": "3.7.6"
  }
 },
 "nbformat": 4,
 "nbformat_minor": 2
}
