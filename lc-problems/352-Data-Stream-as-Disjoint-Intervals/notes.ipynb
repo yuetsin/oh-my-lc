{
 "cells": [
  {
   "cell_type": "markdown",
   "metadata": {},
   "source": [
    "# 352\n",
    "\n",
    "简单说，这题就跟 #228 Summary Ranges 一样；只不过，他是一点点来的数据，要求我们渐进式地处理数据。\n",
    "\n",
    "那么我们当然也可以简单地不利用这个条件，直接照搬 #228 的代码：\n",
    "\n",
    "\n",
    "Runtime: 504 ms, faster than 7.38% of Python3 online submissions for Data Stream as Disjoint Intervals.\n",
    "\n",
    "Memory Usage: 18.3 MB, less than 50.00% of Python3 online submissions for Data Stream as Disjoint Intervals.\n",
    "\n",
    "当然我们也可以在来到一个新数字的时候，试着去把它添加到原来的数组里，同时进行一些合并（如果可以的话）操作。\n",
    "\n",
    "一堆 if 嘛。"
   ]
  },
  {
   "cell_type": "code",
   "execution_count": null,
   "metadata": {},
   "outputs": [],
   "source": [
    "import bisect\n",
    "class SummaryRanges:\n",
    "\n",
    "    def __init__(self):\n",
    "        \"\"\"\n",
    "        Initialize your data structure here.\n",
    "        \"\"\"\n",
    "        self.inter = []\n",
    "\n",
    "    def addNum(self, val: int) -> None:\n",
    "        print(val)\n",
    "        idx = bisect.bisect_left(self.inter, [val,val])\n",
    "        left =idx-1\n",
    "        right = idx\n",
    "        if not self.inter:\n",
    "            self.inter.append([val,val])\n",
    "            return\n",
    "        if left>=0 and self.inter[left][0]<=val and self.inter[left][1]>=val:\n",
    "            return \n",
    "        if right<=len(self.inter)-1 and self.inter[right][0]<=val and self.inter[right][1]>=val:\n",
    "            return\n",
    "        if left>=0 and right<=len(self.inter)-1 and self.inter[left][1]==val-1 and self.inter[right][0]==val+1:\n",
    "            newi = [self.inter[left][0], self.inter[right][1]]\n",
    "            del self.inter[right]\n",
    "            del self.inter[left]\n",
    "            bisect.insort(self.inter, newi)\n",
    "        elif left>=0 and self.inter[left][1]==val-1:\n",
    "            newi = [self.inter[left][0],val]\n",
    "            del self.inter[left]\n",
    "            bisect.insort(self.inter, newi)\n",
    "        elif right<=len(self.inter)-1 and self.inter[right][0]==val+1:\n",
    "            newi = [val, self.inter[right][1]]\n",
    "            del self.inter[right]\n",
    "            bisect.insort(self.inter, newi)\n",
    "        else:\n",
    "            bisect.insort(self.inter, [val,val])\n",
    "    def getIntervals(self) -> List[List[int]]:\n",
    "        return self.inter"
   ]
  }
 ],
 "metadata": {
  "kernelspec": {
   "display_name": "Python 3",
   "language": "python",
   "name": "python3"
  },
  "language_info": {
   "codemirror_mode": {
    "name": "ipython",
    "version": 3
   },
   "file_extension": ".py",
   "mimetype": "text/x-python",
   "name": "python",
   "nbconvert_exporter": "python",
   "pygments_lexer": "ipython3",
   "version": "3.7.4"
  }
 },
 "nbformat": 4,
 "nbformat_minor": 2
}
