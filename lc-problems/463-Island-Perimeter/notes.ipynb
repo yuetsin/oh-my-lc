{
 "cells": [
  {
   "cell_type": "markdown",
   "metadata": {},
   "source": [
    "# 463 Island Perimeter\n",
    "\n",
    "求岛周长么…\n",
    "\n",
    "Runtime: 852 ms, faster than 6.95% of Python3 online submissions for Island Perimeter.\n",
    "\n",
    "Memory Usage: 12.9 MB, less than 100.00% of Python3 online submissions for Island Perimeter.\n",
    "\n",
    "很简单。遍历一下，如果是四条边儿挨着的，就 perimeter -= 1。\n",
    "\n",
    "更好的办法就是：用 BFS 广度优先搜索，要是找到了挨着的 Block，就 DFS 往下找；要是没了，就可以 + 边了。\n",
    "\n",
    "这真的是 DFS 最棒的利用了。"
   ]
  }
 ],
 "metadata": {
  "kernelspec": {
   "display_name": "Python 3",
   "language": "python",
   "name": "python3"
  },
  "language_info": {
   "codemirror_mode": {
    "name": "ipython",
    "version": 3
   },
   "file_extension": ".py",
   "mimetype": "text/x-python",
   "name": "python",
   "nbconvert_exporter": "python",
   "pygments_lexer": "ipython3",
   "version": "3.7.6"
  }
 },
 "nbformat": 4,
 "nbformat_minor": 4
}
