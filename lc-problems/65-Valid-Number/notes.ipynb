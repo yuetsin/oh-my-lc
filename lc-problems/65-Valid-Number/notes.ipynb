{
 "cells": [
  {
   "cell_type": "code",
   "execution_count": null,
   "metadata": {},
   "outputs": [],
   "source": [
    "Holy again... Another atoi style problem."
   ]
  },
  {
   "cell_type": "code",
   "execution_count": null,
   "metadata": {},
   "outputs": [],
   "source": [
    "But here's something I wanna say:"
   ]
  },
  {
   "cell_type": "code",
   "execution_count": null,
   "metadata": {},
   "outputs": [],
   "source": [
    "class Solution(object):\n",
    "  def isNumber(self, s):\n",
    "      \"\"\"\n",
    "      :type s: str\n",
    "      :rtype: bool\n",
    "      \"\"\"\n",
    "      #define a DFA\n",
    "      state = [{}, \n",
    "              {'blank': 1, 'sign': 2, 'digit':3, '.':4}, \n",
    "              {'digit':3, '.':4},\n",
    "              {'digit':3, '.':5, 'e':6, 'blank':9},\n",
    "              {'digit':5},\n",
    "              {'digit':5, 'e':6, 'blank':9},\n",
    "              {'sign':7, 'digit':8},\n",
    "              {'digit':8},\n",
    "              {'digit':8, 'blank':9},\n",
    "              {'blank':9}]\n",
    "      currentState = 1\n",
    "      for c in s:\n",
    "          if c >= '0' and c <= '9':\n",
    "              c = 'digit'\n",
    "          if c == ' ':\n",
    "              c = 'blank'\n",
    "          if c in ['+', '-']:\n",
    "              c = 'sign'\n",
    "          if c not in state[currentState].keys():\n",
    "              return False\n",
    "          currentState = state[currentState][c]\n",
    "      if currentState not in [3,5,8,9]:\n",
    "          return False\n",
    "      return True"
   ]
  },
  {
   "cell_type": "code",
   "execution_count": null,
   "metadata": {},
   "outputs": [],
   "source": [
    "Here's a smart DFA solution. It's based on how we read numbers is merely a 状态机.\n",
    "I'm pretty sure that's the best solution, despite this awful problem."
   ]
  }
 ],
 "metadata": {
  "kernelspec": {
   "display_name": "Python 3",
   "language": "python",
   "name": "python3"
  }
 },
 "nbformat": 4,
 "nbformat_minor": 2
}
