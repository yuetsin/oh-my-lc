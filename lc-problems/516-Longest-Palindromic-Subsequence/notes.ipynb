{
 "cells": [
  {
   "attachments": {},
   "cell_type": "markdown",
   "metadata": {},
   "source": [
    "# 516 Longest Palindromic Subsequence\n",
    "\n",
    "也是从一个 string 里找最长字串…而这个字串要满足的条件是「回文」。\n",
    "\n",
    "人呐，最喜欢出的就是保留顺序的字串问题。因为这样一个不小心复杂度就上了指数级。\n",
    "\n",
    "实际上呢，这题跟 Longest Common Subsequence 是一个变形。\n",
    "\n",
    "直接把原来的字符串做一个反序，然后找他们俩的最长公共子序列。您想一想，他们的「公共子串」难道不就是回文的吗？\n",
    "\n",
    "狡猾！\n",
    "\n",
    "复习一下 Longest Common Subsequence 用 DP 是怎么做的。\n",
    "\n",
    "The longest common subsequence problem is: Given two strings A and B of length n and m, respectively, over an alphabet , determine the length of the longest subsequence that is common to both A and B. Here a subsequence of A=a1a2...an is a string of the form ai1ai2...aik, where each ij is between 1 and n and 1<=i1<i2<...<ik<=n。\n",
    "\n",
    "用一张 n × n 的 DP 表，类似于双指针的做法，每一个不等 char 位置的值都基于上面格和左面格的最大值。等 char 位置，则直接从左上格 + 1 作为结果。\n",
    "\n",
    "把所有的边缘值都定为 0，然后就可以开始了。右下角的结果就是了。\n",
    "\n",
    "这题关键在于把 LPS 转化为 LCS 问题。"
   ]
  }
 ],
 "metadata": {
  "kernelspec": {
   "display_name": "Python 3",
   "language": "python",
   "name": "python3"
  },
  "language_info": {
   "codemirror_mode": {
    "name": "ipython",
    "version": 3
   },
   "file_extension": ".py",
   "mimetype": "text/x-python",
   "name": "python",
   "nbconvert_exporter": "python",
   "pygments_lexer": "ipython3",
   "version": "3.7.6"
  }
 },
 "nbformat": 4,
 "nbformat_minor": 4
}
