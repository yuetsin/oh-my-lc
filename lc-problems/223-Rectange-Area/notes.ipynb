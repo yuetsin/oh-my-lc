{
 "cells": [
  {
   "cell_type": "markdown",
   "metadata": {},
   "source": [
    "# 223\n",
    "我就不吐槽这题了… 题目里说的好好的两个长方形，给一个左下角的点跟一个右上角的点。\n",
    "\n",
    "结果到了测试用例里面就开始瞎给点了，居然还给了一个 (0,0,0,0) 管这个叫长方形。\n",
    "\n",
    "对于此类流氓 Case，我能找到的最简单的办法就是：直接取出四个点所构成的外接长方形，然后剪掉左上角和右下角的多余部分）如果有）。\n",
    "\n",
    "int computeArea(int A, int B, int C, int D, int E, int F, int G, int H) {\n",
    "    int left = max(A,E), right = max(min(C,G), left);\n",
    "    int bottom = max(B,F), top = max(min(D,H), bottom);\n",
    "    return (C-A)*(D-B) - (right-left)*(top-bottom) + (G-E)*(H-F);\n",
    "}\n",
    "\n",
    "这大概是能做到的最简单方法了。"
   ]
  }
 ],
 "metadata": {
  "kernelspec": {
   "display_name": "Python 3",
   "language": "python",
   "name": "python3"
  },
  "language_info": {
   "codemirror_mode": {
    "name": "ipython",
    "version": 3
   },
   "file_extension": ".py",
   "mimetype": "text/x-python",
   "name": "python",
   "nbconvert_exporter": "python",
   "pygments_lexer": "ipython3",
   "version": "3.7.4"
  }
 },
 "nbformat": 4,
 "nbformat_minor": 2
}
