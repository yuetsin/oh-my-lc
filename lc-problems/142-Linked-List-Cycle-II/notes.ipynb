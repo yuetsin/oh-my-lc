{
 "cells": [
  {
   "cell_type": "code",
   "execution_count": null,
   "metadata": {},
   "outputs": [],
   "source": [
    "我对此题的表述感到一种厌恶，甚至高于 2019 年高考的全国卷 I 数学里面的论述。"
   ]
  },
  {
   "cell_type": "code",
   "execution_count": null,
   "metadata": {},
   "outputs": [],
   "source": [
    "应该返回的东西用小字儿（还是灰色的 Second Primary Color) 写在开头的序言部分，让返回那个 Node 或者 null（其实 Python 里是 None，这我先不说）\n",
    "然后，这题还不提供 Python 3 环境，也就是说完全没有返回类型的提示（类似 -> 'Node'）的。\n",
    "再然后，给出的示例是这个格式："
   ]
  },
  {
   "cell_type": "code",
   "execution_count": null,
   "metadata": {},
   "outputs": [],
   "source": [
    "Output: tail connects to node index 1"
   ]
  },
  {
   "cell_type": "code",
   "execution_count": null,
   "metadata": {},
   "outputs": [],
   "source": [
    "Output: tail connects to node index 0"
   ]
  },
  {
   "cell_type": "code",
   "execution_count": null,
   "metadata": {},
   "outputs": [],
   "source": [
    "Output: no cycle"
   ]
  },
  {
   "cell_type": "code",
   "execution_count": null,
   "metadata": {},
   "outputs": [],
   "source": [
    "于是我还认真地抄了一遍这个字符串格式。hhhhhhhh。"
   ]
  },
  {
   "cell_type": "code",
   "execution_count": null,
   "metadata": {},
   "outputs": [],
   "source": [
    "错误报告也不爆一个正常的 Wrong Answer 居然给我报 TimeLimitExceeded……我看是你结果检查代码 TLE 了吧！"
   ]
  },
  {
   "cell_type": "code",
   "execution_count": null,
   "metadata": {},
   "outputs": [],
   "source": [
    "总之……心情有点差，随便说两句，Nevermind"
   ]
  },
  {
   "cell_type": "code",
   "execution_count": null,
   "metadata": {},
   "outputs": [],
   "source": [
    "题目本身倒是简单的……"
   ]
  }
 ],
 "metadata": {
  "kernelspec": {
   "display_name": "Python 3",
   "language": "python",
   "name": "python3"
  }
 },
 "nbformat": 4,
 "nbformat_minor": 2
}
