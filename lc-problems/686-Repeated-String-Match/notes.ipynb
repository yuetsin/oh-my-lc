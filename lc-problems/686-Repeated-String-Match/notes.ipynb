{
 "cells": [
  {
   "cell_type": "markdown",
   "metadata": {},
   "source": [
    "# 686 Repeated String Match\n",
    "\n",
    "\n",
    "Runtime: 9916 ms, faster than 5.47% of Python3 online submissions for Repeated String Match.\n",
    "\n",
    "Memory Usage: 12.7 MB, less than 100.00% of Python3 online submissions for Repeated String Match.\n",
    "\n",
    "我记得之前有个更复杂的题目。跟这个类似。把 A 想象成无限循环字符串。\n",
    "\n",
    "只需要遍历一次 B 就可以了。\n",
    "\n",
    "这里的问题多一点点：需要考虑从哪儿开始遍历。这里我们直接把所有首字母对的上的都试一遍。大部分都会很快结束的，因为啮合不上。\n",
    "\n",
    "活活跑了十秒钟。我的错。"
   ]
  }
 ],
 "metadata": {
  "kernelspec": {
   "display_name": "Python 3",
   "language": "python",
   "name": "python3"
  },
  "language_info": {
   "codemirror_mode": {
    "name": "ipython",
    "version": 3
   },
   "file_extension": ".py",
   "mimetype": "text/x-python",
   "name": "python",
   "nbconvert_exporter": "python",
   "pygments_lexer": "ipython3",
   "version": "3.7.6"
  }
 },
 "nbformat": 4,
 "nbformat_minor": 4
}
