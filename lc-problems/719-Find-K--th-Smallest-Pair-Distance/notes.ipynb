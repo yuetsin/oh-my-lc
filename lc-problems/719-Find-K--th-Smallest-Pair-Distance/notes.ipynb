{
 "cells": [
  {
   "cell_type": "markdown",
   "metadata": {},
   "source": [
    "# 719 Find K-th Smallest Pair Distance\n",
    "\n",
    "感觉这题毫无头绪——可不得遍历所有的情况吗？\n",
    "\n",
    "假如我们遍历所有的 Pair，那么这就需要耗费 O(N^2) 的复杂度。\n",
    "\n",
    "然而别忘了，我们还得找到第 k 小的那个 Pair。因此最坏情况下，k 最大会到 O(N^2) 级别。空间复杂度会大到不可忍受。\n",
    "\n",
    "很难想到多项式时间的解法。但是我们考虑他所对应的 NP 问题——我们需要多少时间才能确认给出的值是否是正确结果？\n",
    "\n",
    "用 Presum 数组，或是 Sliding Window，就能用接近 O(N) 的时间来验证我们的 num 是否正确。\n",
    "\n",
    "下面的 Sliding Window 代码必定是 O（N）级别的；因为 left 只增不减，最后一定只会进行 N 次循环。\n",
    "\n",
    "当然这件事情的前提是我们要先用 O（NLogN）的时间把原数组排序，这样 left 越往后越大，最後就不可能大于 guess 了。"
   ]
  },
  {
   "cell_type": "code",
   "execution_count": null,
   "metadata": {},
   "outputs": [],
   "source": [
    "count = left = 0\n",
    "\n",
    "for right, x in enumerate(nums):\n",
    "    while x - nums[left] > guess:\n",
    "        left += 1\n",
    "    count += right - left\n",
    "return count >= k"
   ]
  },
  {
   "cell_type": "markdown",
   "metadata": {},
   "source": [
    "而我们需要用二分法来猜测 guess，每次都用上面的办法进行一次验证。guess 的取值范围大小是 max(nums) - min(nums)。\n",
    "\n",
    "假设这段宽度为 W，那么总的时间复杂度就是 O（NLogN + NLogW）= O（N Log （N × W））。\n",
    "\n",
    "这是合理的。"
   ]
  }
 ],
 "metadata": {
  "kernelspec": {
   "display_name": "Python 3",
   "language": "python",
   "name": "python3"
  },
  "language_info": {
   "codemirror_mode": {
    "name": "ipython",
    "version": 3
   },
   "file_extension": ".py",
   "mimetype": "text/x-python",
   "name": "python",
   "nbconvert_exporter": "python",
   "pygments_lexer": "ipython3",
   "version": "3.7.6"
  }
 },
 "nbformat": 4,
 "nbformat_minor": 4
}
