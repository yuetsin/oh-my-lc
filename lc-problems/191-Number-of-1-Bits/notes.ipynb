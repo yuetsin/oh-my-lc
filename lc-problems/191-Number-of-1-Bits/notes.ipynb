{
 "cells": [
  {
   "cell_type": "markdown",
   "metadata": {},
   "source": [
    "# 191\n",
    "\n",
    " Runtime: 4 ms, faster than 66.21% of C++ online submissions for Number of 1 Bits.\n",
    "Memory Usage: 8.2 MB, less than 75.61% of C++ online submissions for Number of 1 Bits.\n",
    "\n",
    "就算使用最 naïve 的算法（32 个移位），也已经能达到这种程度了。\n",
    "\n",
    "（所以比这个还慢的是怎么写出来的）"
   ]
  },
  {
   "cell_type": "code",
   "execution_count": null,
   "metadata": {},
   "outputs": [],
   "source": [
    "以及 Java Tricky 方法：\n",
    "\n",
    "public int hammingWeight(int n) {\n",
    "    int sum = 0;\n",
    "    while (n != 0) {\n",
    "        sum++;\n",
    "        n &= (n - 1);\n",
    "    }\n",
    "    return sum;\n",
    "}"
   ]
  },
  {
   "cell_type": "markdown",
   "metadata": {},
   "source": [
    "以及作弊方法：\n",
    "\n",
    "python\n",
    "\n",
    "return bin(n).count('1')\n"
   ]
  },
  {
   "cell_type": "code",
   "execution_count": null,
   "metadata": {},
   "outputs": [],
   "source": [
    "以及作弊方法二：\n",
    "\n",
    "java\n",
    "return Integer.bitCount(n);"
   ]
  },
  {
   "cell_type": "code",
   "execution_count": null,
   "metadata": {},
   "outputs": [],
   "source": [
    "本题啊由于太过经典，有些语言已经提供了 bitCount 操作……（虽然实际上我觉得用不上）"
   ]
  }
 ],
 "metadata": {
  "kernelspec": {
   "display_name": "Python 3",
   "language": "python",
   "name": "python3"
  },
  "language_info": {
   "codemirror_mode": {
    "name": "ipython",
    "version": 3
   },
   "file_extension": ".py",
   "mimetype": "text/x-python",
   "name": "python",
   "nbconvert_exporter": "python",
   "pygments_lexer": "ipython3",
   "version": "3.7.4"
  }
 },
 "nbformat": 4,
 "nbformat_minor": 2
}
