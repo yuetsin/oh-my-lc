{
 "cells": [
  {
   "cell_type": "markdown",
   "metadata": {},
   "source": [
    "# 227\n",
    "\n",
    "这题比起上一题类似，只不过增加了 * / 运算符号，去除了括号（甚至可能简单了一些），但是增加了负数的表示（-可能出现在开头，取相反数）\n",
    "\n",
    "为了 Trick，我们需要记住这里的 / 是始终向 0 取整的除法，要想直接 call eval 需要先 '/' => '//'...\n",
    "\n",
    "但是正经的做法我们来看一下。\n",
    "\n",
    "@caikehe:"
   ]
  },
  {
   "cell_type": "code",
   "execution_count": null,
   "metadata": {},
   "outputs": [],
   "source": [
    "def calculate(self, s):\n",
    "    if not s:\n",
    "        return \"0\"\n",
    "    stack, num, sign = [], 0, \"+\"\n",
    "    for i in xrange(len(s)):\n",
    "        if s[i].isdigit():\n",
    "            num = num*10+ord(s[i])-ord(\"0\")\n",
    "        if (not s[i].isdigit() and not s[i].isspace()) or i == len(s)-1:\n",
    "            if sign == \"-\":\n",
    "                stack.append(-num)\n",
    "            elif sign == \"+\":\n",
    "                stack.append(num)\n",
    "            elif sign == \"*\":\n",
    "                stack.append(stack.pop()*num)\n",
    "            else:\n",
    "                tmp = stack.pop()\n",
    "                if tmp//num < 0 and tmp%num != 0:\n",
    "                    stack.append(tmp//num+1)\n",
    "                else:\n",
    "                    stack.append(tmp//num)\n",
    "            sign = s[i]\n",
    "            num = 0\n",
    "    return sum(stack)"
   ]
  },
  {
   "cell_type": "markdown",
   "metadata": {},
   "source": [
    "一点点来看：首先还是把他们按照 Stack 一个个拆分成 tokens，然后遇到 * ／ 就现场算出来，遇到 + 和 - 就直接把他们变成数字（奥义！sum！）\n",
    "最后直接 sumUp。\n",
    "\n",
    "而我们是采用了 stack，严格从左到右的计算顺序保证了我们不会出现弄错运算顺序的情况。"
   ]
  }
 ],
 "metadata": {
  "kernelspec": {
   "display_name": "Python 3",
   "language": "python",
   "name": "python3"
  },
  "language_info": {
   "codemirror_mode": {
    "name": "ipython",
    "version": 3
   },
   "file_extension": ".py",
   "mimetype": "text/x-python",
   "name": "python",
   "nbconvert_exporter": "python",
   "pygments_lexer": "ipython3",
   "version": "3.7.4"
  }
 },
 "nbformat": 4,
 "nbformat_minor": 2
}
