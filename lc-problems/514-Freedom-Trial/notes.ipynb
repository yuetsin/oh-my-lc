{
 "cells": [
  {
   "cell_type": "markdown",
   "metadata": {},
   "source": [
    "# 514 Freedom Trial\n",
    "\n",
    "辐射 4 玩家出题…\n",
    "\n",
    "也是一个 DFS + Cached 就解决了。因为要找到下一个可用的 Char，能做的只有顺时针转到/逆时针转到。\n",
    "\n",
    "因为转完之后到达的位置和后续的转动也有关系，所以不用贪婪匹配（也不知道贪婪好不好使，主要）。\n",
    "\n",
    "每一种情况都尝试一回，反正我用了 lru_cached 问题也不大。\n",
    "\n",
    "但是顺逆时针的旋转结果是一样的，那我们应该尽可能地节约转动数，没必要进行两回 dfs 了。\n",
    "\n",
    "P.S. 移动到对应 Char 之后，还要按一次中央石。所以得 +1。\n",
    "\n",
    "以上。\n",
    "\n",
    "Runtime: 544 ms, faster than 14.06% of Python3 online submissions for Freedom Trail.\n",
    "\n",
    "Memory Usage: 13.6 MB, less than 50.00% of Python3 online submissions for Freedom Trail."
   ]
  }
 ],
 "metadata": {
  "kernelspec": {
   "display_name": "Python 3",
   "language": "python",
   "name": "python3"
  },
  "language_info": {
   "codemirror_mode": {
    "name": "ipython",
    "version": 3
   },
   "file_extension": ".py",
   "mimetype": "text/x-python",
   "name": "python",
   "nbconvert_exporter": "python",
   "pygments_lexer": "ipython3",
   "version": "3.7.6"
  }
 },
 "nbformat": 4,
 "nbformat_minor": 4
}
