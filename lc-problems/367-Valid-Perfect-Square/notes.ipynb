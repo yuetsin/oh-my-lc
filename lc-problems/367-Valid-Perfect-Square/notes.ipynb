{
 "cells": [
  {
   "cell_type": "markdown",
   "metadata": {},
   "source": [
    "# 367\n",
    "\n",
    "总归，不让用 math.sqrt 有点傻。\n",
    "\n",
    "但是如果实在不能用，我们可以用「拉灯」法：观察 从 1 ~ n / 2，可以整除 n 的数字；假如他们完全对称，（所有质因数恰好出现偶数次）\n",
    "\n",
    "则是完全平方数。\n",
    "\n",
    "其他也不必多说了。"
   ]
  }
 ],
 "metadata": {
  "kernelspec": {
   "display_name": "Python 3",
   "language": "python",
   "name": "python3"
  },
  "language_info": {
   "codemirror_mode": {
    "name": "ipython",
    "version": 3
   },
   "file_extension": ".py",
   "mimetype": "text/x-python",
   "name": "python",
   "nbconvert_exporter": "python",
   "pygments_lexer": "ipython3",
   "version": "3.7.4"
  }
 },
 "nbformat": 4,
 "nbformat_minor": 2
}
