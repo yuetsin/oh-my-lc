{
 "cells": [
  {
   "cell_type": "markdown",
   "metadata": {},
   "source": [
    "# 453 Minimum Moves to Equal Array Elements\n",
    "\n",
    "Runtime: 268 ms, faster than 69.46% of Python3 online submissions for Minimum Moves to Equal Array Elements.\n",
    "\n",
    "Memory Usage: 13.9 MB, less than 100.00% of Python3 online submissions for Minimum Moves to Equal Array Elements.\n",
    "\n",
    "数学题…\n",
    "\n",
    "\tminimum = min(nums)\n",
    "    length= len(nums)\n",
    "    total=sum(nums)\n",
    "    \n",
    "    return total- length*minimum\n",
    "    \n",
    "实际的代码就这么多，为了简化，用了一些中间变量来表记。\n",
    "\n",
    "\n",
    "To understand the math -\n",
    "Another way to ask this questions is number of changes required in the list to make all elements equal in the list and you can make one change at time.\n",
    "\n",
    "解释性语句也很简单：要让所有的值都相等，每次只能把 n - 1 个数都增加 1 —— 那不就是一次只能把一个数减少 1 嘛。\n",
    "\n",
    "水准线增加降低，有什么要紧呢。\n",
    "\n",
    "所以最後要做的事情就是 total = length * min。把所有的值都降低到 minimum level 就是了。\n",
    "\n",
    "题目出得有点太刻意了。"
   ]
  }
 ],
 "metadata": {
  "kernelspec": {
   "display_name": "Python 3",
   "language": "python",
   "name": "python3"
  },
  "language_info": {
   "codemirror_mode": {
    "name": "ipython",
    "version": 3
   },
   "file_extension": ".py",
   "mimetype": "text/x-python",
   "name": "python",
   "nbconvert_exporter": "python",
   "pygments_lexer": "ipython3",
   "version": "3.7.6"
  }
 },
 "nbformat": 4,
 "nbformat_minor": 2
}
