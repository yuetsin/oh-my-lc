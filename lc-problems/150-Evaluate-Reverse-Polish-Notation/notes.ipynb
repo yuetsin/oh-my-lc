{
 "cells": [
  {
   "cell_type": "code",
   "execution_count": null,
   "metadata": {},
   "outputs": [],
   "source": [
    "Runtime: 44 ms, faster than 85.84% of Python3 online submissions for Evaluate Reverse Polish Notation.\n",
    "Memory Usage: 13.4 MB, less than 25.61% of Python3 online submissions for Evaluate Reverse Polish Notation."
   ]
  },
  {
   "cell_type": "code",
   "execution_count": null,
   "metadata": {},
   "outputs": [],
   "source": [
    "记得去年这个时候突击 C 做辅导员的时候就在 K&R 的神书里面看到过这个例子……逆波兰表达式还是最适合用来熟悉 Stack 跟离散数学/算法原理的。"
   ]
  },
  {
   "cell_type": "code",
   "execution_count": null,
   "metadata": {},
   "outputs": [],
   "source": [
    "class Solution {\n",
    "public:\n",
    "    int evalRPN(vector<string>& tokens) {\n",
    "        unordered_map<string, function<int (int, int) > > map = {\n",
    "            { \"+\" , [] (int a, int b) { return a + b; } },\n",
    "            { \"-\" , [] (int a, int b) { return a - b; } },\n",
    "            { \"*\" , [] (int a, int b) { return a * b; } },\n",
    "            { \"/\" , [] (int a, int b) { return a / b; } }\n",
    "        };\n",
    "        std::stack<int> stack;\n",
    "        for (string& s : tokens) {\n",
    "            if (!map.count(s)) {\n",
    "                stack.push(stoi(s));\n",
    "            } else {\n",
    "                int op1 = stack.top();\n",
    "                stack.pop();\n",
    "                int op2 = stack.top();\n",
    "                stack.pop();\n",
    "                stack.push(map[s](op2, op1));\n",
    "            }\n",
    "        }\n",
    "        return stack.top();\n",
    "    }\n",
    "};"
   ]
  },
  {
   "cell_type": "code",
   "execution_count": null,
   "metadata": {},
   "outputs": [],
   "source": [
    "这个还是很漂亮的解法。"
   ]
  }
 ],
 "metadata": {
  "kernelspec": {
   "display_name": "Python 3",
   "language": "python",
   "name": "python3"
  }
 },
 "nbformat": 4,
 "nbformat_minor": 2
}
