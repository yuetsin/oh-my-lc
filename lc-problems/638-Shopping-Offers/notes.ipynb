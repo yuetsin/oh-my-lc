{
 "cells": [
  {
   "cell_type": "markdown",
   "metadata": {},
   "source": [
    "# 638 Shopping Offers\n",
    "\n",
    "Runtime: 64 ms, faster than 91.84% of Python3 online submissions for Shopping Offers.\n",
    "\n",
    "Memory Usage: 12.8 MB, less than 100.00% of Python3 online submissions for Shopping Offers.\n",
    "\n",
    "標準得不能更標準的「DFS」。\n",
    "\n",
    "留意到這裡為了使用 lru_cache，沒有使用 Unhashable 的 List，而改用 Hashable 的 Tuple。"
   ]
  }
 ],
 "metadata": {
  "kernelspec": {
   "display_name": "Python 3",
   "language": "python",
   "name": "python3"
  },
  "language_info": {
   "codemirror_mode": {
    "name": "ipython",
    "version": 3
   },
   "file_extension": ".py",
   "mimetype": "text/x-python",
   "name": "python",
   "nbconvert_exporter": "python",
   "pygments_lexer": "ipython3",
   "version": "3.7.6"
  }
 },
 "nbformat": 4,
 "nbformat_minor": 4
}
