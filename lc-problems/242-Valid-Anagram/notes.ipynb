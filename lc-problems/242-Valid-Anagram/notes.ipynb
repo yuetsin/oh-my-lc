{
 "cells": [
  {
   "cell_type": "markdown",
   "metadata": {},
   "source": [
    "# 242\n",
    "\n",
    "Anagram -> 相同种类和数量的字母构成的不同词。\n",
    "\n",
    "有意思的是附加题：\n",
    "\n",
    "Follow up:\n",
    "What if the inputs contain unicode characters? How would you adapt your solution to such case?\n",
    "\n",
    "更有意思的是\n",
    "\n",
    "Python 3 可以原生支持不同编码（甚至是混合编码！）构成的字符串。因此代码根本不用改。\n",
    "\n",
    "更更有意思的是\n",
    "\n",
    "我用了个 TestCase 来测试：\n",
    "\n",
    "```\n",
    "\"上海自来水\"\n",
    "\"水来自海上\"\n",
    "```\n",
    "\n",
    "然后……\n",
    "\n",
    "```\n",
    "Runtime Error\n",
    "Playground Debug \n",
    "\n",
    "UnicodeEncodeError: 'utf-8' codec can't encode characters in position 1-15: surrogates not allowed\n",
    "Line 42 in _deserialize (./python3/__deserializer__.py)\n",
    "Line 23 in _driver (Solution.py)\n",
    "Line 40 in <module> (Solution.py)\n",
    "```\n",
    "\n",
    "LeetCode 的 Case Checker 不支持 UTF-8…\n",
    "哈哈哈。让我笑会"
   ]
  }
 ],
 "metadata": {
  "kernelspec": {
   "display_name": "Python 3",
   "language": "python",
   "name": "python3"
  },
  "language_info": {
   "codemirror_mode": {
    "name": "ipython",
    "version": 3
   },
   "file_extension": ".py",
   "mimetype": "text/x-python",
   "name": "python",
   "nbconvert_exporter": "python",
   "pygments_lexer": "ipython3",
   "version": "3.7.4"
  }
 },
 "nbformat": 4,
 "nbformat_minor": 2
}
