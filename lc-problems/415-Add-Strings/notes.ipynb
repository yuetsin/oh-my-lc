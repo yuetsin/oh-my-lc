{
 "cells": [
  {
   "cell_type": "markdown",
   "metadata": {},
   "source": [
    "# 415 Add Strings\n",
    "\n",
    "就是大数加而已…\n",
    "\n",
    "Runtime: 32 ms, faster than 89.33% of Python3 online submissions for Add Strings.\n",
    "Memory Usage: 12.9 MB, less than 100.00% of Python3 online submissions for Add Strings.\n",
    "\n",
    "本来可以直接用 Python 标准库…但是还是忍住了。自己写吧。\n",
    "\n",
    "一点新东西：在两个数字不等长度的时候，直接给短数字字符串补 0 更简单。\n",
    "\n",
    "最后别忘了加上最后一位的 Carry（如果有）。"
   ]
  }
 ],
 "metadata": {
  "kernelspec": {
   "display_name": "Python 3",
   "language": "python",
   "name": "python3"
  },
  "language_info": {
   "codemirror_mode": {
    "name": "ipython",
    "version": 3
   },
   "file_extension": ".py",
   "mimetype": "text/x-python",
   "name": "python",
   "nbconvert_exporter": "python",
   "pygments_lexer": "ipython3",
   "version": "3.7.6"
  }
 },
 "nbformat": 4,
 "nbformat_minor": 2
}
