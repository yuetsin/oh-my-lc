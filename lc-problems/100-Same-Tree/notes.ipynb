{
 "cells": [
  {
   "cell_type": "code",
   "execution_count": null,
   "metadata": {},
   "outputs": [],
   "source": [
    "大概也就写了……三十秒……\n",
    "Problem #1 都没写这么快。"
   ]
  },
  {
   "cell_type": "code",
   "execution_count": null,
   "metadata": {},
   "outputs": [],
   "source": [
    "总之，数据结构练习里头还有一道很类似但是更有趣的题：判断两个 Tree 是不是 Mirror Tree。\n",
    "同样的方法，只要你传参的时候反过来 (p.left, q.right), (p.right, q.left) 就行啦。比这个更有意思。"
   ]
  },
  {
   "cell_type": "code",
   "execution_count": null,
   "metadata": {},
   "outputs": [],
   "source": [
    "其他也没啥说的了。Discussion 区大型炫耀现场。"
   ]
  }
 ],
 "metadata": {
  "kernelspec": {
   "display_name": "Python 3",
   "language": "python",
   "name": "python3"
  }
 },
 "nbformat": 4,
 "nbformat_minor": 2
}
