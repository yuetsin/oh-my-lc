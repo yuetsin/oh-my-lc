{
 "cells": [
  {
   "cell_type": "markdown",
   "metadata": {},
   "source": [
    "# 279\n",
    "\n",
    "咱的思路：\n",
    "\n",
    "先找出所有比 n 小的完全平方数，然后一个个从 n 中减掉 v 并递归地 call 自己，取出其中的最小值。\n",
    "\n",
    "我也用了 DP 表存结果啊？为什么还是会在 n = 8829 的时候爆炸呢？\n",
    "\n",
    "明明是双倍的快…（x\n",
    "\n",
    "一看答案，有 Mathematical Solution。手动再见（\n",
    "\n"
   ]
  },
  {
   "cell_type": "code",
   "execution_count": null,
   "metadata": {},
   "outputs": [],
   "source": [
    "DP 表：\n",
    "\n",
    "\n",
    "class Solution \n",
    "{\n",
    "public:\n",
    "    int numSquares(int n) \n",
    "    {\n",
    "        if (n <= 0)\n",
    "        {\n",
    "            return 0;\n",
    "        }\n",
    "        \n",
    "        // cntPerfectSquares[i] = the least number of perfect square numbers \n",
    "        // which sum to i. Note that cntPerfectSquares[0] is 0.\n",
    "        vector<int> cntPerfectSquares(n + 1, INT_MAX);\n",
    "        cntPerfectSquares[0] = 0;\n",
    "        for (int i = 1; i <= n; i++)\n",
    "        {\n",
    "            // For each i, it must be the sum of some number (i - j*j) and \n",
    "            // a perfect square number (j*j).\n",
    "            for (int j = 1; j*j <= i; j++)\n",
    "            {\n",
    "                cntPerfectSquares[i] = \n",
    "                    min(cntPerfectSquares[i], cntPerfectSquares[i - j*j] + 1);\n",
    "            }\n",
    "        }\n",
    "        \n",
    "        return cntPerfectSquares.back();\n",
    "    }\n",
    "};"
   ]
  },
  {
   "cell_type": "markdown",
   "metadata": {},
   "source": [
    "事实上我的 DP 表比较低效率，你只存了一个一维度的。实际上可以用这个公式：\n",
    "\n",
    "cntPerfectSquares[i] = \n",
    "                    min(cntPerfectSquares[i], cntPerfectSquares[i - j*j] + 1);\n",
    "    \n",
    "    二维的 DP 就可以快很多了。"
   ]
  },
  {
   "cell_type": "markdown",
   "metadata": {},
   "source": [
    "至于数学法……\n",
    "\n",
    "\n",
    "Legendre's three-square theorem 自己去看 Wiki（"
   ]
  }
 ],
 "metadata": {
  "kernelspec": {
   "display_name": "Python 3",
   "language": "python",
   "name": "python3"
  },
  "language_info": {
   "codemirror_mode": {
    "name": "ipython",
    "version": 3
   },
   "file_extension": ".py",
   "mimetype": "text/x-python",
   "name": "python",
   "nbconvert_exporter": "python",
   "pygments_lexer": "ipython3",
   "version": "3.7.4"
  }
 },
 "nbformat": 4,
 "nbformat_minor": 2
}
