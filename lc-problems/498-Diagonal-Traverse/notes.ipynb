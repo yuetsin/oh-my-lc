{
 "cells": [
  {
   "cell_type": "markdown",
   "metadata": {},
   "source": [
    "# 498 Diagonal Traverse\n",
    "\n",
    "这种题很好做…只要想象一下你在划线的时候是怎么想的就好了。一步一步慢慢来。\n",
    "\n",
    "Runtime: 188 ms, faster than 98.83% of Python3 online submissions for Diagonal Traverse.\n",
    "\n",
    "Memory Usage: 15.5 MB, less than 33.33% of Python3 online submissions for Diagonal Traverse.\n",
    "\n",
    "\n",
    "P.S. 因为两个特殊情况（[] 空值和 [[1]] 单点值）连错两次。考虑不周，对不起。"
   ]
  }
 ],
 "metadata": {
  "kernelspec": {
   "display_name": "Python 3",
   "language": "python",
   "name": "python3"
  },
  "language_info": {
   "codemirror_mode": {
    "name": "ipython",
    "version": 3
   },
   "file_extension": ".py",
   "mimetype": "text/x-python",
   "name": "python",
   "nbconvert_exporter": "python",
   "pygments_lexer": "ipython3",
   "version": "3.7.6"
  }
 },
 "nbformat": 4,
 "nbformat_minor": 4
}
