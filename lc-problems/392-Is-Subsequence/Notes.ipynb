{
 "cells": [
  {
   "cell_type": "markdown",
   "metadata": {},
   "source": [
    "# 392\n",
    "\n",
    "\n",
    "Runtime: 80 ms, faster than 75.63% of Python3 online submissions for Is Subsequence.\n",
    "Memory Usage: 17.2 MB, less than 26.67% of Python3 online submissions for Is Subsequence.\n",
    "\n",
    "不难解，两枚指针就可以了。\n",
    "\n",
    "附加问题才是比较有趣的：\n",
    "\n",
    "Follow up:\n",
    "If there are lots of incoming S, say S1, S2, ... , Sk where k >= 1B, and you want to check one by one to see if T has its subsequence. In this scenario, how would you change your code?\n",
    "\n",
    "如果 S 很多，但是很长的 T 却不变。这样的话，就不得不无数次遍历 T。开销巨大。有没有什么好办法？\n",
    "\n",
    "没人给解答。我猜测是先使用一个 Hash 表之类的东西进行准入判断；只有满足了基本条件再进行检查；\n",
    "\n",
    "另外，考虑到 S 连续快速来到访问，可以考虑对其进行缓存。"
   ]
  }
 ],
 "metadata": {
  "kernelspec": {
   "display_name": "Python 3",
   "language": "python",
   "name": "python3"
  },
  "language_info": {
   "codemirror_mode": {
    "name": "ipython",
    "version": 3
   },
   "file_extension": ".py",
   "mimetype": "text/x-python",
   "name": "python",
   "nbconvert_exporter": "python",
   "pygments_lexer": "ipython3",
   "version": "3.7.4"
  }
 },
 "nbformat": 4,
 "nbformat_minor": 2
}
