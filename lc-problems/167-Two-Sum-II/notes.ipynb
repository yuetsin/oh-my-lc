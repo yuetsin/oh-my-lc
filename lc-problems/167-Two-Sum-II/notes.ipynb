{
 "cells": [
  {
   "cell_type": "markdown",
   "metadata": {},
   "source": [
    "# 167\n",
    "\n",
    "我写的也太差了（深刻感想\n",
    "\n",
    "Runtime: 100 ms, faster than 11.34% of Python3 online submissions for Two Sum II - Input array is sorted.\n",
    "Memory Usage: 14.3 MB, less than 5.80% of Python3 online submissions for Two Sum II - Input array is sorted.\n",
    "\n",
    "首先，针对给出的「numbers 数组」是一个不严格单调递增的数组，我们可以做以下优化：\n",
    "\n",
    "在遇到 n[i] + n[j] > target 的情况下，直接爆炸，拒绝继续增加 j。\n",
    "\n",
    "在遍历区间内，n[i] = n[i - 1] 时，直接跳过 n[i]。对 j 类似（注意 j 从 i + 1 开始数，否则 case [0,0,3,4] & 0 过不了）\n",
    "\n",
    "这是我能想出来的两个解决方案。"
   ]
  },
  {
   "cell_type": "code",
   "execution_count": null,
   "metadata": {},
   "outputs": [],
   "source": [
    "# two-pointer\n",
    "def twoSum1(self, numbers, target):\n",
    "    l, r = 0, len(numbers)-1\n",
    "    while l < r:\n",
    "        s = numbers[l] + numbers[r]\n",
    "        if s == target:\n",
    "            return [l+1, r+1]\n",
    "        elif s < target:\n",
    "            l += 1\n",
    "        else:\n",
    "            r -= 1\n",
    " \n",
    "# dictionary           \n",
    "def twoSum2(self, numbers, target):\n",
    "    dic = {}\n",
    "    for i, num in enumerate(numbers):\n",
    "        if target-num in dic:\n",
    "            return [dic[target-num]+1, i+1]\n",
    "        dic[num] = i\n",
    " \n",
    "# binary search        \n",
    "def twoSum(self, numbers, target):\n",
    "    for i in xrange(len(numbers)):\n",
    "        l, r = i+1, len(numbers)-1\n",
    "        tmp = target - numbers[i]\n",
    "        while l <= r:\n",
    "            mid = l + (r-l)//2\n",
    "            if numbers[mid] == tmp:\n",
    "                return [i+1, mid+1]\n",
    "            elif numbers[mid] < tmp:\n",
    "                l = mid+1\n",
    "            else:\n",
    "                r = mid-1"
   ]
  },
  {
   "cell_type": "markdown",
   "metadata": {},
   "source": [
    "然而这三种方法都比我不知高到哪里去（"
   ]
  },
  {
   "cell_type": "code",
   "execution_count": null,
   "metadata": {},
   "outputs": [],
   "source": [
    "1、双指针法：从两边逼近，小了左指针往右，大了右指针往左。这个办法对于排序好的 numbers 来说绝无问题。最多遍历一次不走回头路，因此时间复杂度只能是 O(N)。\n",
    "2、字典法：这办法比较神奇…如果只是普通的为每一个 n[i]，寻找另一个对应的 n[j] 使得 n[j] = target - n[i]，那体现不出来优势。\n",
    "    优势在于，先把 numbers 做成一个 {}（集合），对每一个元素 i，计算出 complement（补全值），然后看他在不在这个 set 里。\n",
    "    由于判断 target - num in dic => true/false 只需要 O(1) 时间复杂度，所以这个方案也是 O(N) 时间复杂度的，只是需要 O(N) 空间来帮忙。\n",
    "3、二分搜索法：类似上面的字典法，只不过不采用O(N)空间存储 set 集合，而是对每一次都进行一次 Binary Search，时间复杂度变成了O(NLogN)，但是节约了空间。Nice。\n",
    "\n",
    "综上，不管哪一种都比我写的好多了（"
   ]
  }
 ],
 "metadata": {
  "kernelspec": {
   "display_name": "Python 3",
   "language": "python",
   "name": "python3"
  },
  "language_info": {
   "codemirror_mode": {
    "name": "ipython",
    "version": 3
   },
   "file_extension": ".py",
   "mimetype": "text/x-python",
   "name": "python",
   "nbconvert_exporter": "python",
   "pygments_lexer": "ipython3",
   "version": "3.7.4"
  }
 },
 "nbformat": 4,
 "nbformat_minor": 2
}
