{
 "cells": [
  {
   "cell_type": "markdown",
   "metadata": {},
   "source": [
    "# 605 Can Place Flowers\n",
    "\n",
    "Runtime: 176 ms, faster than 70.37% of Python3 online submissions for Can Place Flowers.\n",
    "\n",
    "Memory Usage: 12.7 MB, less than 100.00% of Python3 online submissions for Can Place Flowers.\n",
    "\n",
    "是个贪婪的：尽量往前贴着种，就好了。\n",
    "\n",
    "最后比较一下最佳的结果。\n",
    "\n",
    "这个不难。"
   ]
  }
 ],
 "metadata": {
  "kernelspec": {
   "display_name": "Python 3",
   "language": "python",
   "name": "python3"
  },
  "language_info": {
   "codemirror_mode": {
    "name": "ipython",
    "version": 3
   },
   "file_extension": ".py",
   "mimetype": "text/x-python",
   "name": "python",
   "nbconvert_exporter": "python",
   "pygments_lexer": "ipython3",
   "version": "3.7.6"
  }
 },
 "nbformat": 4,
 "nbformat_minor": 4
}
