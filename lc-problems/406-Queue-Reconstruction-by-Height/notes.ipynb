{
 "cells": [
  {
   "cell_type": "markdown",
   "metadata": {},
   "source": [
    "# 406 Queue Reconstruction by Height\n",
    "\n",
    "简单说，想要让它们按顺序排成一排，而且前面高度大于或等于她的数量等于一个指定的值。\n",
    "\n",
    "trick！\n",
    "\n",
    "    def reconstructQueue(self, people: List[List[int]]) -> List[List[int]]:\n",
    "        res = []\n",
    "        for i in sorted(people, key = lambda x: (x[0], -x[1]), reverse = True):\n",
    "            res.insert(i[1], i)\n",
    "        return res\n",
    "        \n",
    "这些代码干了什么？\n",
    "按照 x[0] 排序；如果 x[0] 分不出真假，就按照 - x[1] 排序。\n",
    "\n",
    "然后，将它们按照这个顺序插入 i[1] 处。\n",
    "\n",
    "For better understanding\n",
    "\n",
    "Input [[7, 0], [7, 1], [6, 1], [5, 0], [5, 2], [4, 4]]\n",
    "\n",
    "Logs..\n",
    "<[outlist], [person record]>\n",
    "[] [7, 0]\n",
    "[[7, 0]] [7, 1]\n",
    "[[7, 0], [7, 1]] [6, 1]\n",
    "[[7, 0], [6, 1], [7, 1]] [5, 0]\n",
    "[[5, 0], [7, 0], [6, 1], [7, 1]] [5, 2]\n",
    "[[5, 0], [7, 0], [5, 2], [6, 1], [7, 1]] [4, 4]\n",
    "[[5, 0], [7, 0], [5, 2], [6, 1], [4, 4], [7, 1]]\n",
    "\n",
    "The trickest part is we don\n",
    "t "
   ]
  }
 ],
 "metadata": {
  "kernelspec": {
   "display_name": "Python 3",
   "language": "python",
   "name": "python3"
  },
  "language_info": {
   "codemirror_mode": {
    "name": "ipython",
    "version": 3
   },
   "file_extension": ".py",
   "mimetype": "text/x-python",
   "name": "python",
   "nbconvert_exporter": "python",
   "pygments_lexer": "ipython3",
   "version": "3.7.4"
  }
 },
 "nbformat": 4,
 "nbformat_minor": 2
}
