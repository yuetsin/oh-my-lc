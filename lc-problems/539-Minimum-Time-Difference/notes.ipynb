{
 "cells": [
  {
   "cell_type": "markdown",
   "metadata": {},
   "source": [
    "# 539 Minimum Time Difference\n",
    "\n",
    "Runtime: 96 ms, faster than 24.15% of Python3 online submissions for Minimum Time Difference.\n",
    "\n",
    "Memory Usage: 15.7 MB, less than 100.00% of Python3 online submissions for Minimum Time Difference.\n",
    "\n",
    "也是简单题…为了防止越过 24:00（0:00）的时间差被忽略的情况，把排序之后的第一个值 + 1440（一天有 1440 分钟）append 到尾部。\n",
    "\n",
    "再做 Python zip（或者手动做也行）就好了。\n",
    "\n",
    "Elegant 写法："
   ]
  },
  {
   "cell_type": "code",
   "execution_count": null,
   "metadata": {},
   "outputs": [],
   "source": [
    "class Solution:\n",
    "    def findMinDifference(self, timePoints: List[str]) -> int:\n",
    "        minutes = sorted(list(map(lambda x: int(x[:2]) * 60 + int(x[3:]), timePoints)))\n",
    "        return min((y - x) % (24 * 60) for x, y in zip(minutes, minutes[1:] + minutes[:1]))"
   ]
  }
 ],
 "metadata": {
  "kernelspec": {
   "display_name": "Python 3",
   "language": "python",
   "name": "python3"
  },
  "language_info": {
   "codemirror_mode": {
    "name": "ipython",
    "version": 3
   },
   "file_extension": ".py",
   "mimetype": "text/x-python",
   "name": "python",
   "nbconvert_exporter": "python",
   "pygments_lexer": "ipython3",
   "version": "3.7.6"
  }
 },
 "nbformat": 4,
 "nbformat_minor": 4
}
