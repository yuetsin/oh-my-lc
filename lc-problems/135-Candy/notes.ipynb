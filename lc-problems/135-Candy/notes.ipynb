{
 "cells": [
  {
   "cell_type": "code",
   "execution_count": null,
   "metadata": {},
   "outputs": [],
   "source": [
    "/* Weird Problem */"
   ]
  },
  {
   "cell_type": "code",
   "execution_count": null,
   "metadata": {},
   "outputs": [],
   "source": [
    "首先吧，我的思路比较简单（贬义"
   ]
  },
  {
   "cell_type": "code",
   "execution_count": null,
   "metadata": {},
   "outputs": [],
   "source": [
    "一个一个遍历，如果遇到了不成立的孩子（它得到的糖果数量和他隔壁的小朋友不合理），就多给他一粒糖，并再次 checkValid。"
   ]
  },
  {
   "cell_type": "code",
   "execution_count": null,
   "metadata": {},
   "outputs": [],
   "source": [
    "效率……很低很低。试着做了一点点优化（用 self.sum 代替 SUM 函数）也没好到哪去。"
   ]
  },
  {
   "cell_type": "code",
   "execution_count": null,
   "metadata": {},
   "outputs": [],
   "source": [
    "\n",
    "Complexity Analysis\n",
    "\n",
    "Time complexity : \n",
    "O\n",
    "(\n",
    "n\n",
    "2\n",
    ")\n",
    "O(n \n",
    "2\n",
    " ). We need to traverse the array at most \n",
    "n\n",
    "n times.\n",
    "\n",
    "Space complexity : \n",
    "O\n",
    "(\n",
    "n\n",
    ")\n",
    "O(n). One \n",
    "c\n",
    "a\n",
    "n\n",
    "d\n",
    "i\n",
    "e\n",
    "s\n",
    "candies array of size \n",
    "n\n",
    "n is used. "
   ]
  },
  {
   "cell_type": "code",
   "execution_count": null,
   "metadata": {},
   "outputs": [],
   "source": [
    "更好的办法：从左到右开始发糖果：如果没有特别要求就只发一粒糖，如果有要求就按照要求给他 + 1。这样的话时间复杂度又从 N^2 > N。\n",
    "（不知道我怎么就能轻松地写出超数量级复杂度的代码……）"
   ]
  },
  {
   "cell_type": "code",
   "execution_count": null,
   "metadata": {},
   "outputs": [],
   "source": [
    "有点搞不明白我的思路。怎么这么喜欢写循环？"
   ]
  }
 ],
 "metadata": {
  "kernelspec": {
   "display_name": "Python 3",
   "language": "python",
   "name": "python3"
  }
 },
 "nbformat": 4,
 "nbformat_minor": 2
}
