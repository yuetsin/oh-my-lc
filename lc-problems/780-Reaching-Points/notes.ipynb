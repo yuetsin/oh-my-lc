{
 "cells": [
  {
   "cell_type": "markdown",
   "metadata": {},
   "source": [
    "# 780 Reaching Points\n",
    "\n",
    "类似于 BFS 的搜索。结束条件是 1.假如找到了 target point；2.目前所有可能的发现点都已经超过了目标的 x 或 y。\n",
    "\n",
    "但是…这个解决方案爆炸了。因为理论上为了抵达这个位置，我们得指数式地爆炸到那个位置。而最大坐标 10^9 让人无法接受。\n",
    "\n",
    "有没有数学解呢？\n",
    "\n",
    "```python\n",
    "class Solution:\n",
    "    def reachingPoints(self, sx: int, sy: int, tx: int, ty: int) -> bool:\n",
    "        if tx == 0 or ty == 0:\n",
    "            return (sx, sy) == (tx, ty)\n",
    "        while not (sx == tx and sy == ty):\n",
    "            if sx > tx or sy > ty:\n",
    "                return False\n",
    "            elif tx == ty:\n",
    "                return ((0, ty) == (sx, sy) or (tx, 0) == (sx, sy))\n",
    "\n",
    "            if ty > tx:\n",
    "                if tx == sx:\n",
    "                    return (ty-sy) % sx == 0\n",
    "                ty %= tx\n",
    "            else:\n",
    "                if ty == sy:\n",
    "                    return (tx-sx) % sy == 0\n",
    "                tx %= ty\n",
    "\n",
    "        return True\n",
    "```\n",
    "\n",
    "这里是个简单的思路：首先，(0, 0) 起始和终点在起点左下角的情况都很平凡，直接返回就好了。\n",
    "\n",
    "另外，tx == ty 的情况下，只可能是从 (0, t) 和 (t, 0) 两点到的。别的中间情况都不可能做到。\n",
    "\n",
    "平凡的情况，我们该用「逆向思路」——从终点依次往起点去：既然 (x, y) => (x + y, y) / (x, x + y)，那么我们只需要取模就能往前走一步。而反向进行就不会导致指数爆炸了。\n",
    "\n",
    "Good Idea！"
   ]
  }
 ],
 "metadata": {
  "kernelspec": {
   "display_name": "Python 3",
   "language": "python",
   "name": "python3"
  },
  "language_info": {
   "codemirror_mode": {
    "name": "ipython",
    "version": 3
   },
   "file_extension": ".py",
   "mimetype": "text/x-python",
   "name": "python",
   "nbconvert_exporter": "python",
   "pygments_lexer": "ipython3",
   "version": "3.7.6"
  }
 },
 "nbformat": 4,
 "nbformat_minor": 2
}
