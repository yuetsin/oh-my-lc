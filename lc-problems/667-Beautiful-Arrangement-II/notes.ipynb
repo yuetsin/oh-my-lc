{
 "cells": [
  {
   "cell_type": "markdown",
   "metadata": {},
   "source": [
    "# 667 Beautiful Arrangement II\n",
    "\n",
    "简单说，给你 n 个数字，要求您把它给排列起来。依次求出每两个相邻的数字的差值的绝对值，要求不同的绝对值数字的个数恰好为 k 个。\n",
    "\n",
    "> 这 Beautiful 个锤子"
   ]
  },
  {
   "cell_type": "code",
   "execution_count": null,
   "metadata": {},
   "outputs": [],
   "source": [
    "class Solution:\n",
    "    def constructArray(self, n: int, k: int) -> List[int]:\n",
    "        # 你说什么 Beautiful 什么就 Beautiful 嘛？\n",
    "        ans = list(range(1, n - k))\n",
    "        for i in range(k + 1):\n",
    "            if i % 2 == 0:\n",
    "                ans.append(n - k + i // 2)\n",
    "            else:\n",
    "                ans.append(n - i // 2)\n",
    "\n",
    "        return ans"
   ]
  },
  {
   "cell_type": "markdown",
   "metadata": {},
   "source": [
    "解释一下这段代码：为了实现 k 个差的绝对值不同的数列，我们就简单地从 list(range(n)) 里依次拿数字：一次从最顶部，一次从最底部。一直拿到 k 的个数达标了，我们就把剩下的那些还没用到的数字给原序填进去。\n",
    "\n",
    "因为这题不要求所有结果…或者要求所有可能结果的个数…他只要求一种可能的结果。\n",
    "\n",
    "这种方案一定能产生一个可能的结果。那就对了。不用多想。那些问题留到 Ugly Arrangement III 再说。\n",
    "\n",
    "Runtime: 56 ms, faster than 24.81% of Python3 online submissions for Beautiful Arrangement II.\n",
    "\n",
    "Memory Usage: 13.7 MB, less than 100.00% of Python3 online submissions for Beautiful Arrangement II."
   ]
  }
 ],
 "metadata": {
  "kernelspec": {
   "display_name": "Python 3",
   "language": "python",
   "name": "python3"
  },
  "language_info": {
   "codemirror_mode": {
    "name": "ipython",
    "version": 3
   },
   "file_extension": ".py",
   "mimetype": "text/x-python",
   "name": "python",
   "nbconvert_exporter": "python",
   "pygments_lexer": "ipython3",
   "version": "3.7.6"
  }
 },
 "nbformat": 4,
 "nbformat_minor": 4
}
