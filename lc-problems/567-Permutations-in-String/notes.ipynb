{
 "cells": [
  {
   "cell_type": "markdown",
   "metadata": {},
   "source": [
    "# 567 Permutations in String\n",
    "\n",
    "Runtime: 48 ms, faster than 98.88% of Python3 online submissions for Permutation in String.\n",
    "\n",
    "Memory Usage: 12.7 MB, less than 100.00% of Python3 online submissions for Permutation in String.\n",
    "\n",
    "不难办……Python 的 dict 支持快速的无序比较 ==，所以我们只要滑动窗口遍历一遍，每次用 O（1）的时间就可以更新 Counter。\n",
    "\n",
    "总的复杂度就只是 O(N) 而已。"
   ]
  }
 ],
 "metadata": {
  "kernelspec": {
   "display_name": "Python 3",
   "language": "python",
   "name": "python3"
  },
  "language_info": {
   "codemirror_mode": {
    "name": "ipython",
    "version": 3
   },
   "file_extension": ".py",
   "mimetype": "text/x-python",
   "name": "python",
   "nbconvert_exporter": "python",
   "pygments_lexer": "ipython3",
   "version": "3.7.6"
  }
 },
 "nbformat": 4,
 "nbformat_minor": 4
}
