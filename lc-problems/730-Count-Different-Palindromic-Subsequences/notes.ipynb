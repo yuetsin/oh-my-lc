{
 "cells": [
  {
   "cell_type": "markdown",
   "metadata": {},
   "source": [
    "# 730 Count Different Palindromic Subsequences\n",
    "\n",
    "这题，数字非常大，甚至需要 MOD 1e9 + 7。但这也是有代价的——可能出现的 char 就只有四种——'abcd'。\n",
    "\n",
    "这就导致我们的算法和前面的都不太一样——\n",
    "\n",
    "可以直接用 dfs 法得到结果。\n",
    "\n",
    "本质上，我们要做的就是选择——从哪些位置上拿去 char，并在此同时保证拿到的 string 还是个回文的。\n",
    "\n",
    "为了保证回文——我们肯定不能一个一个拿，那样怎么保证回文呢。我们还是需要两个两个拿。\n",
    "\n",
    "拿的选择也是非常少——只能从 a、b、c、d 里选一个。结果就是当我们拿到一个 string 的的时候，先决定拿 abcd 中的谁。\n",
    "\n",
    "比如拿 a 吧，那么我们就从我们的输入 string 里找到最左边、和最右边出现的那一位——\n",
    "\n",
    "假如这两位不一样，也就是，里面还有一些数字，那么把外面这一圈削掉，获取里面的 dfs(left + 1, right) 这一部分的不一样的回文数的个数——然后把得到的值 + 2。+2 的意思是，可以「贴」，也可以不「贴」。\n",
    "\n",
    "假如这两位一样，也就是 string 里一共就只有一个 a，那么只能给一个 1。\n",
    "\n",
    "假如根本没有这么一位数字——那么用 try-except，什么也不做。\n",
    "\n",
    "对 abcd 都做这样的事情。\n",
    "\n",
    "这种算法是如何防止重复的呢？\n",
    "\n",
    "用数学归纳法的思路。我们假设 dfs(left + 1, right) 总是能告诉我们这一部分 string 里的回文数。然后，我们能做的就是——在外面贴东西；同时在两边加上同样的一个 char。每一次贴的 char 在 dfs 内不会重复——都不是一样的 char，不可能重复。\n",
    "\n",
    "既然内层递归函数给出的值是不重复的，那么我们在外面贴牌的结果也肯定是不重复的。"
   ]
  }
 ],
 "metadata": {
  "kernelspec": {
   "display_name": "Python 3",
   "language": "python",
   "name": "python3"
  },
  "language_info": {
   "codemirror_mode": {
    "name": "ipython",
    "version": 3
   },
   "file_extension": ".py",
   "mimetype": "text/x-python",
   "name": "python",
   "nbconvert_exporter": "python",
   "pygments_lexer": "ipython3",
   "version": "3.7.6"
  }
 },
 "nbformat": 4,
 "nbformat_minor": 4
}
