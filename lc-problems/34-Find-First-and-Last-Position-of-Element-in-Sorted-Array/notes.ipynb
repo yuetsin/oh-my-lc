{
 "cells": [
  {
   "cell_type": "code",
   "execution_count": null,
   "metadata": {},
   "outputs": [],
   "source": [
    "I made a simple solution: Since the list is sorted ascendingly, the same element must occur continuously."
   ]
  },
  {
   "cell_type": "code",
   "execution_count": null,
   "metadata": {},
   "outputs": [],
   "source": [
    "So First we use the binary search in O(log n) time complexity to find one matching target, and goes backward and forward from this one"
   ]
  },
  {
   "cell_type": "code",
   "execution_count": null,
   "metadata": {},
   "outputs": [],
   "source": [
    "until we reached the first and last occurance."
   ]
  },
  {
   "cell_type": "code",
   "execution_count": null,
   "metadata": {},
   "outputs": [],
   "source": [
    "There should be more elegant solution here:"
   ]
  },
  {
   "cell_type": "code",
   "execution_count": null,
   "metadata": {},
   "outputs": [],
   "source": [
    "In order to complete this problem, we need to slightly adjust our binary search:"
   ]
  },
  {
   "cell_type": "code",
   "execution_count": null,
   "metadata": {},
   "outputs": [],
   "source": [
    "1. If A[mid] < target, then the range must begins on the right of mid (hence i = mid+1 for the next iteration)\n",
    "2. If A[mid] > target, it means the range must begins on the left of mid (j = mid-1)\n",
    "3. If A[mid] = target, then the range must begins on the left of or at mid (j= mid)"
   ]
  },
  {
   "cell_type": "code",
   "execution_count": null,
   "metadata": {},
   "outputs": [],
   "source": [
    "#1 and #2 are identical as before. But the #3 is the key point: When we found an equal, we won't know if it lies in the head, the middle, or the tail."
   ]
  },
  {
   "cell_type": "code",
   "execution_count": null,
   "metadata": {},
   "outputs": [],
   "source": []
  }
 ],
 "metadata": {
  "kernelspec": {
   "display_name": "Python 3",
   "language": "python",
   "name": "python3"
  }
 },
 "nbformat": 4,
 "nbformat_minor": 2
}
