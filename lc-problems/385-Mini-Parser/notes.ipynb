{
 "cells": [
  {
   "cell_type": "markdown",
   "metadata": {},
   "source": [
    "# 385\n",
    "\n",
    "这种 Parser 题总归是需要用到 Stack 的。\n",
    "\n",
    "Trick：\n",
    "Python 里头 split 很容易闹出一些 ‘’ 空白字符串来。这时候只需要用 list(filter(None, [...])) 就能去除这些。 None 替换成其他返回 Boolean 的判别函数也有奇效。\n",
    "\n",
    "\n",
    "Runtime: 76 ms, faster than 93.20% of Python3 online submissions for Mini Parser.\n",
    "\n",
    "Memory Usage: 18.1 MB, less than 33.33% of Python3 online submissions for Mini Parser."
   ]
  },
  {
   "cell_type": "code",
   "execution_count": null,
   "metadata": {},
   "outputs": [],
   "source": [
    "当然 Recursive 更好写，也更慢。"
   ]
  }
 ],
 "metadata": {
  "kernelspec": {
   "display_name": "Python 3",
   "language": "python",
   "name": "python3"
  },
  "language_info": {
   "codemirror_mode": {
    "name": "ipython",
    "version": 3
   },
   "file_extension": ".py",
   "mimetype": "text/x-python",
   "name": "python",
   "nbconvert_exporter": "python",
   "pygments_lexer": "ipython3",
   "version": "3.7.4"
  }
 },
 "nbformat": 4,
 "nbformat_minor": 2
}
