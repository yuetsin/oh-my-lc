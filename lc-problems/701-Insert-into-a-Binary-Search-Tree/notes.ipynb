{
 "cells": [
  {
   "cell_type": "markdown",
   "metadata": {},
   "source": [
    "# 701 Insert into a Binary Search Tree\n",
    "\n",
    "Runtime: 132 ms, faster than 73.18% of Python3 online submissions for Insert into a Binary Search Tree.\n",
    "\n",
    "Memory Usage: 15 MB, less than 100.00% of Python3 online submissions for Insert into a Binary Search Tree.\n",
    "\n",
    "有无数种方法可以插入；最合理的还是把它插在——树叶上。利用 BST 的性质可以保证我们把她安在合适的叶子位置。\n",
    "\n",
    "只是留意，当树本来是空的时候，要手动造一棵单节点树，把 val 放进去，然后把它返回。\n",
    "\n",
    "这属于极特殊的情况了。"
   ]
  }
 ],
 "metadata": {
  "kernelspec": {
   "display_name": "Python 3",
   "language": "python",
   "name": "python3"
  },
  "language_info": {
   "codemirror_mode": {
    "name": "ipython",
    "version": 3
   },
   "file_extension": ".py",
   "mimetype": "text/x-python",
   "name": "python",
   "nbconvert_exporter": "python",
   "pygments_lexer": "ipython3",
   "version": "3.7.6"
  }
 },
 "nbformat": 4,
 "nbformat_minor": 4
}
