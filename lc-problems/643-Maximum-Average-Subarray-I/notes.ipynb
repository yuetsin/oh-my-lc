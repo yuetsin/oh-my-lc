{
 "cells": [
  {
   "cell_type": "markdown",
   "metadata": {},
   "source": [
    "# 643 Maximum Average Subarray I\n",
    "\n",
    "Runtime: 956 ms, faster than 34.82% of Python3 online submissions for Maximum Average Subarray I.\n",
    "\n",
    "Memory Usage: 16.3 MB, less than 12.50% of Python3 online submissions for Maximum Average Subarray I.\n",
    "\n",
    "简单…也是用 Presum array 的办法，把 k 个数列的求和时间复杂度从 O(k) => O(1)。\n",
    "\n",
    "Sliding Window 也是 O(1) 的——而且只需要 O(1) 的空间呢。"
   ]
  }
 ],
 "metadata": {
  "kernelspec": {
   "display_name": "Python 3",
   "language": "python",
   "name": "python3"
  },
  "language_info": {
   "codemirror_mode": {
    "name": "ipython",
    "version": 3
   },
   "file_extension": ".py",
   "mimetype": "text/x-python",
   "name": "python",
   "nbconvert_exporter": "python",
   "pygments_lexer": "ipython3",
   "version": "3.7.6"
  }
 },
 "nbformat": 4,
 "nbformat_minor": 4
}
