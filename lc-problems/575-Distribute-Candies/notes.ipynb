{
 "cells": [
  {
   "cell_type": "markdown",
   "metadata": {},
   "source": [
    "# 575 Distribute Candies\n",
    "\n",
    "Runtime: 976 ms, faster than 23.18% of Python3 online submissions for Distribute Candies.\n",
    "\n",
    "Memory Usage: 14.4 MB, less than 100.00% of Python3 online submissions for Distribute Candies.\n",
    "\n",
    "没被 Locked 的就只剩这种题了么…失望…"
   ]
  }
 ],
 "metadata": {
  "kernelspec": {
   "display_name": "Python 3",
   "language": "python",
   "name": "python3"
  },
  "language_info": {
   "codemirror_mode": {
    "name": "ipython",
    "version": 3
   },
   "file_extension": ".py",
   "mimetype": "text/x-python",
   "name": "python",
   "nbconvert_exporter": "python",
   "pygments_lexer": "ipython3",
   "version": "3.7.6"
  }
 },
 "nbformat": 4,
 "nbformat_minor": 4
}
