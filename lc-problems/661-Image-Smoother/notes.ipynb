{
 "cells": [
  {
   "cell_type": "markdown",
   "metadata": {},
   "source": [
    "# 661 Image Smoother\n",
    "\n",
    "Runtime: 864 ms, faster than 32.39% of Python3 online submissions for Image Smoother.\n",
    "\n",
    "Memory Usage: 28.5 MB, less than 33.33% of Python3 online submissions for Image Smoother.\n",
    "\n",
    "这题你要是让我用 cv2 的话…那还不是一行代码的事？（狗头"
   ]
  }
 ],
 "metadata": {
  "kernelspec": {
   "display_name": "Python 3",
   "language": "python",
   "name": "python3"
  },
  "language_info": {
   "codemirror_mode": {
    "name": "ipython",
    "version": 3
   },
   "file_extension": ".py",
   "mimetype": "text/x-python",
   "name": "python",
   "nbconvert_exporter": "python",
   "pygments_lexer": "ipython3",
   "version": "3.7.6"
  }
 },
 "nbformat": 4,
 "nbformat_minor": 4
}
