{
 "cells": [
  {
   "cell_type": "markdown",
   "metadata": {},
   "source": [
    "Runtime: 356 ms, faster than 45.56% of MySQL online submissions for Rising Temperature.\n",
    "Memory Usage: 0B, less than 100.00% of MySQL online submissions for Rising Temperature.\n",
    "\n",
    "# 197\n",
    "简单说…直接自己跟自己做 Join。如果你遇到一道题想要写一个循环来完成的话，那么直接做 JOIN + 约束可能更好。（对 SQL 来说）\n",
    "\n",
    "另外，Oracle SQL 是可以用 +1 -1 来直接对 DATE 类型字段做计算的，等于是后一天、前一天。\n",
    "\n",
    "然而 MySQL 不可以。需要用 DATEDIFF(w1.RecordDate, w2.RecordDate) 来计算日期之间的差值（w1 - w2）。\n",
    "\n",
    "That's it."
   ]
  }
 ],
 "metadata": {
  "kernelspec": {
   "display_name": "Python 3",
   "language": "python",
   "name": "python3"
  },
  "language_info": {
   "codemirror_mode": {
    "name": "ipython",
    "version": 3
   },
   "file_extension": ".py",
   "mimetype": "text/x-python",
   "name": "python",
   "nbconvert_exporter": "python",
   "pygments_lexer": "ipython3",
   "version": "3.7.4"
  }
 },
 "nbformat": 4,
 "nbformat_minor": 2
}
