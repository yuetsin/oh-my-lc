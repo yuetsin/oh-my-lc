{
 "cells": [
  {
   "cell_type": "markdown",
   "metadata": {},
   "source": [
    "# 528 Random Pick with Weight\n",
    "\n",
    "提前算好 pre-sum，然后 bisect.bisect_left 就 OK。\n",
    "\n",
    "Runtime: 232 ms, faster than 85.60% of Python3 online submissions for Random Pick with Weight.\n",
    "\n",
    "Memory Usage: 17.2 MB, less than 53.33% of Python3 online submissions for Random Pick with Weight."
   ]
  }
 ],
 "metadata": {
  "kernelspec": {
   "display_name": "Python 3",
   "language": "python",
   "name": "python3"
  },
  "language_info": {
   "codemirror_mode": {
    "name": "ipython",
    "version": 3
   },
   "file_extension": ".py",
   "mimetype": "text/x-python",
   "name": "python",
   "nbconvert_exporter": "python",
   "pygments_lexer": "ipython3",
   "version": "3.7.6"
  }
 },
 "nbformat": 4,
 "nbformat_minor": 4
}
