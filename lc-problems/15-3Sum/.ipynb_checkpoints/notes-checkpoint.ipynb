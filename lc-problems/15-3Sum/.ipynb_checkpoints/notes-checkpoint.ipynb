{
 "cells": [
  {
   "cell_type": "code",
   "execution_count": null,
   "metadata": {},
   "outputs": [],
   "source": [
    "Well, I remembered my algorithm professor Li Guoqiang ever mentioned this 3-Sum Problem.\n",
    "However, solving it might be more difficulty than theoretically analyses. (or opposite?)"
   ]
  },
  {
   "cell_type": "code",
   "execution_count": null,
   "metadata": {},
   "outputs": [],
   "source": [
    "I used two recursive loop, which caused TLE in the very beginning.\n",
    "P.S. The best solution would also be O(n^2) time complexity."
   ]
  },
  {
   "cell_type": "code",
   "execution_count": null,
   "metadata": {},
   "outputs": [],
   "source": [
    "In order to make a little optimization, here's how I made it:"
   ]
  },
  {
   "cell_type": "code",
   "execution_count": null,
   "metadata": {},
   "outputs": [],
   "source": [
    "l += 1\n",
    "try:\n",
    "    while nums[l - 1] == nums[l]:\n",
    "        l += 1\n",
    "\n",
    "except IndexError:\n",
    "    pass"
   ]
  },
  {
   "cell_type": "code",
   "execution_count": null,
   "metadata": {},
   "outputs": [],
   "source": [
    "That means, if we found a match set, we must move the pointer to a totally different number set."
   ]
  },
  {
   "cell_type": "code",
   "execution_count": null,
   "metadata": {},
   "outputs": [],
   "source": [
    "Must admit that the try - except trick seems too ugly. Apologize."
   ]
  }
 ],
 "metadata": {
  "kernelspec": {
   "display_name": "Python 3",
   "language": "python",
   "name": "python3"
  }
 },
 "nbformat": 4,
 "nbformat_minor": 2
}
