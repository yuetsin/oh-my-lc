{
 "cells": [
  {
   "cell_type": "code",
   "execution_count": null,
   "metadata": {},
   "outputs": [],
   "source": [
    "Python 用户大欢喜"
   ]
  },
  {
   "cell_type": "code",
   "execution_count": null,
   "metadata": {},
   "outputs": [],
   "source": [
    "不过要留意下，Python 的 str.split(' ') 在遇到多个 Splitter 重复出现时，会 Split 出一些 ''（空字符串）。因此要注意一下。"
   ]
  },
  {
   "cell_type": "code",
   "execution_count": null,
   "metadata": {},
   "outputs": [],
   "source": [
    "再说说这题，也是蛮无聊的（"
   ]
  },
  {
   "cell_type": "code",
   "execution_count": null,
   "metadata": {},
   "outputs": [],
   "source": [
    "Runtime: 48 ms, faster than 29.06% of Python3 online submissions for Reverse Words in a String.\n",
    "Memory Usage: 13.3 MB, less than 84.98% of Python3 online submissions for Reverse Words in a String."
   ]
  },
  {
   "cell_type": "code",
   "execution_count": null,
   "metadata": {},
   "outputs": [],
   "source": [
    "C++ Solution 比较有趣，记录下：按照找到的词来 call reverseWord 函数，找到一个就 Reverse 一下。这样就避免了 Extra Space。"
   ]
  }
 ],
 "metadata": {
  "kernelspec": {
   "display_name": "Python 3",
   "language": "python",
   "name": "python3"
  }
 },
 "nbformat": 4,
 "nbformat_minor": 2
}
