{
 "cells": [
  {
   "cell_type": "markdown",
   "metadata": {},
   "source": [
    "# 180\n",
    "\n",
    "写 SQL 跟过人生的感觉类似。到处报错还没错误提示，此时彼时有不同的标准，做一件事情麻烦的要死，\n",
    "实际的解法看起来很蠢，看起来聪明的解法实现不了。\n",
    "而且还没什么选择的自由。"
   ]
  },
  {
   "cell_type": "markdown",
   "metadata": {},
   "source": [
    "所以呢。Consecutive means 连续的。而且这里的说明为 id column 作为自然数连续就可以了。\n",
    "\n",
    "SELECT DISTINCT\n",
    "    l1.Num AS ConsecutiveNums\n",
    "FROM\n",
    "    Logs l1,\n",
    "    Logs l2,\n",
    "    Logs l3\n",
    "WHERE\n",
    "    l1.Id = l2.Id - 1\n",
    "    AND l2.Id = l3.Id - 1\n",
    "    AND l1.Num = l2.Num\n",
    "    AND l2.Num = l3.Num\n",
    ";\n",
    "\n",
    "死板一点的做法就是直接把三张 Log 表全联接，然后做比较。\n",
    "\n",
    "我也没什么可说的了。"
   ]
  }
 ],
 "metadata": {
  "kernelspec": {
   "display_name": "Python 3",
   "language": "python",
   "name": "python3"
  },
  "language_info": {
   "codemirror_mode": {
    "name": "ipython",
    "version": 3
   },
   "file_extension": ".py",
   "mimetype": "text/x-python",
   "name": "python",
   "nbconvert_exporter": "python",
   "pygments_lexer": "ipython3",
   "version": "3.7.4"
  }
 },
 "nbformat": 4,
 "nbformat_minor": 2
}
