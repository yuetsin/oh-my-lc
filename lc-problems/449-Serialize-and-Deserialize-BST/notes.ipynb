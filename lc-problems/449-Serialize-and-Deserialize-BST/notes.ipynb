{
 "cells": [
  {
   "cell_type": "markdown",
   "metadata": {},
   "source": [
    "# 449 Serialize and Deserialize BST\n",
    "\n",
    "\n",
    "Runtime: 688 ms, faster than 5.25% of Python3 online submissions for Serialize and Deserialize BST.\n",
    "Memory Usage: 17.1 MB, less than 100.00% of Python3 online submissions for Serialize and Deserialize BST.\n",
    "\n",
    "用了很 Trivial 的办法（对所有的二叉树都适用的），没有利用好 BST 的性质。\n",
    "\n",
    "所以，慢死了。\n",
    "\n",
    "sample 里用了 Queue 来做：直接把它们按照前序遍历的次序写下来。这信息就足够用来重建 BST 了。\n",
    "\n",
    "See: https://liam.page/2019/08/29/rebuild-a-binary-search-tree-from-its-preorder-traversal-result/"
   ]
  }
 ],
 "metadata": {
  "kernelspec": {
   "display_name": "Python 3",
   "language": "python",
   "name": "python3"
  },
  "language_info": {
   "codemirror_mode": {
    "name": "ipython",
    "version": 3
   },
   "file_extension": ".py",
   "mimetype": "text/x-python",
   "name": "python",
   "nbconvert_exporter": "python",
   "pygments_lexer": "ipython3",
   "version": "3.7.6"
  }
 },
 "nbformat": 4,
 "nbformat_minor": 2
}
