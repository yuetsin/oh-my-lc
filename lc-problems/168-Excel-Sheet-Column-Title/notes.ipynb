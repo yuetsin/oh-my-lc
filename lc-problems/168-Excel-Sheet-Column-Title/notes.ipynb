{
 "cells": [
  {
   "cell_type": "markdown",
   "metadata": {},
   "source": [
    "# 168\n",
    "非常实用的一道题…… Excel 的列使用 26 个字母组合来构成，相当于一个 26 进制，说到底只是一个进制转换的问题。\n",
    "\n",
    "十进制如何转换成 N 进制，这似乎是高考数学的考查范围吧（笑\n",
    "\n",
    "> Runtime: 36 ms, faster than 62.60% of Python3 online submissions for Excel Sheet Column Title.\n",
    "Memory Usage: 13.8 MB, less than 6.25% of Python3 online submissions for Excel Sheet Column Title."
   ]
  },
  {
   "cell_type": "code",
   "execution_count": null,
   "metadata": {},
   "outputs": [],
   "source": [
    "就是因为把 A～Z 全都放进内存里所以内存表现这么捉急吗…我错了…"
   ]
  },
  {
   "cell_type": "code",
   "execution_count": null,
   "metadata": {},
   "outputs": [],
   "source": [
    "Let's see the relationship between the Excel sheet column title and the number:\n",
    "\n",
    "A   1     AA    26+ 1     BA  2×26+ 1     ...     ZA  26×26+ 1     AAA  1×26²+1×26+ 1\n",
    "B   2     AB    26+ 2     BB  2×26+ 2     ...     ZB  26×26+ 2     AAB  1×26²+1×26+ 2\n",
    ".   .     ..    .....     ..  .......     ...     ..  ........     ...  .............   \n",
    ".   .     ..    .....     ..  .......     ...     ..  ........     ...  .............\n",
    ".   .     ..    .....     ..  .......     ...     ..  ........     ...  .............\n",
    "Z  26     AZ    26+26     BZ  2×26+26     ...     ZZ  26×26+26     AAZ  1×26²+1×26+26\n",
    "Now we can see that ABCD＝A×26³＋B×26²＋C×26¹＋D＝1×26³＋2×26²＋3×26¹＋4\n",
    "\n",
    "But how to get the column title from the number? We can't simply use the n%26 method because:\n",
    "\n",
    "ZZZZ＝Z×26³＋Z×26²＋Z×26¹＋Z＝26×26³＋26×26²＋26×26¹＋26\n",
    "\n",
    "We can use (n-1)%26 instead, then we get a number range from 0 to 25.\n",
    "\n",
    "class Solution:\n",
    "    # @return a string\n",
    "    def convertToTitle(self, num):\n",
    "        capitals = [chr(x) for x in range(ord('A'), ord('Z')+1)]\n",
    "        result = []\n",
    "        while num > 0:\n",
    "            result.append(capitals[(num-1)%26])\n",
    "            num = (num-1) // 26\n",
    "        result.reverse()\n",
    "        return ''.join(result)"
   ]
  },
  {
   "cell_type": "code",
   "execution_count": null,
   "metadata": {},
   "outputs": [],
   "source": [
    "优良的解决方案，by @yuzhiqiang"
   ]
  }
 ],
 "metadata": {
  "kernelspec": {
   "display_name": "Python 3",
   "language": "python",
   "name": "python3"
  },
  "language_info": {
   "codemirror_mode": {
    "name": "ipython",
    "version": 3
   },
   "file_extension": ".py",
   "mimetype": "text/x-python",
   "name": "python",
   "nbconvert_exporter": "python",
   "pygments_lexer": "ipython3",
   "version": "3.7.4"
  }
 },
 "nbformat": 4,
 "nbformat_minor": 2
}
