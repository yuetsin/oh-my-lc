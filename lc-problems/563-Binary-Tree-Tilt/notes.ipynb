{
 "cells": [
  {
   "cell_type": "markdown",
   "metadata": {},
   "source": [
    "# 563 Binary Tree Tilt\n",
    "\n",
    "最 Naïve 的思路：递归地求出左、右子树的和作差。\n",
    "\n",
    "为了减少反复的 sum Node，咱们就用 lru_cache 来带个缓存。\n",
    "\n",
    "Runtime: 88 ms, faster than 17.40% of Python3 online submissions for Binary Tree Tilt.\n",
    "\n",
    "Memory Usage: 21.2 MB, less than 8.33% of Python3 online submissions for Binary Tree Tilt."
   ]
  }
 ],
 "metadata": {
  "kernelspec": {
   "display_name": "Python 3",
   "language": "python",
   "name": "python3"
  },
  "language_info": {
   "codemirror_mode": {
    "name": "ipython",
    "version": 3
   },
   "file_extension": ".py",
   "mimetype": "text/x-python",
   "name": "python",
   "nbconvert_exporter": "python",
   "pygments_lexer": "ipython3",
   "version": "3.7.6"
  }
 },
 "nbformat": 4,
 "nbformat_minor": 4
}
