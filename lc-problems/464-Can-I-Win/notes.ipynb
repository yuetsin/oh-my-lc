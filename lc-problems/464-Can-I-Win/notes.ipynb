{
 "cells": [
  {
   "cell_type": "markdown",
   "metadata": {},
   "source": [
    "# 464 Can I Win\n",
    "\n",
    "也就是 Nim 问题的翻版…\n",
    "\n",
    "首先，把两种特殊情况给抬出来。\n",
    "\n",
    "假如 desiredTotal <= maxChoosableInteger，也就是第一次就能达到 Desired，那先手一定可以赢。\n",
    "\n",
    "但假如 (1 + maxChoosableInteger) * maxChoosableInteger / 2 < desiredTotal，那么就不可能赢。\n",
    "\n",
    "（因为题目里有个条件，那就是数字不可以重复使用。双方共享的可用数字库。假如 (1 + m) * m / 2 还不到 desired，那就是大家把数字都用完了都达不到。）\n",
    "\n",
    "顺便吐槽一句…题目里这个条件是以疑问句的情况给出来的：What if we change the game so that players cannot re-use integers?\n",
    "\n",
    "简直跟高考命题一样讨打。\n",
    "\n",
    "然后，一般的问题可以归化为这样：先手可以从 1 ~ maxCI 里选一个数字，记为 i，然后把 desiredTotal 减少到 dT - i，自己变成后手。然后看到什么时候情况完全探明，即输赢可以确定。\n",
    "\n",
    "注意到所有的选手选择的数字都会是自己可以赢的那一种。\n",
    "\n",
    "不可以用重复的数字，那么只需要在递归函数里加一个 visited 就好了。这个 visited 可以用 integer 的 bit 实现（因为给的数据范围实在太窄了），也可以用 set 来实现。只是轻微地影响了空间占用而已。别在意。"
   ]
  }
 ],
 "metadata": {
  "kernelspec": {
   "display_name": "Python 3",
   "language": "python",
   "name": "python3"
  },
  "language_info": {
   "codemirror_mode": {
    "name": "ipython",
    "version": 3
   },
   "file_extension": ".py",
   "mimetype": "text/x-python",
   "name": "python",
   "nbconvert_exporter": "python",
   "pygments_lexer": "ipython3",
   "version": "3.7.6"
  }
 },
 "nbformat": 4,
 "nbformat_minor": 2
}
