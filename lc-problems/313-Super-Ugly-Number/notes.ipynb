{
 "cells": [
  {
   "cell_type": "markdown",
   "metadata": {},
   "source": [
    "# 313\n",
    "\n",
    "不出所料…简单的思路是过不去 TestCase 的。\n",
    "\n",
    "但是因为这里「Prime List」的值不是钉死的，因此不能用 Ugly Number 里面那种 Hacky 的办法。\n",
    "\n",
    "难办…"
   ]
  },
  {
   "cell_type": "code",
   "execution_count": null,
   "metadata": {},
   "outputs": [],
   "source": [
    "def nthSuperUglyNumber(self, n, primes):\n",
    "        \"\"\"\n",
    "        :type n: int\n",
    "        :type primes: List[int]\n",
    "        :rtype: int\n",
    "        \"\"\"\n",
    "        if n == 1:\n",
    "            return 1\n",
    "        nums = [1]\n",
    "        m = len(primes)\n",
    "        dp = [0 for i in range(m)]\n",
    "        while n > 1:\n",
    "            temp = []\n",
    "            for i in range(m):\n",
    "                temp.append(nums[dp[i]]*primes[i])\n",
    "            mv = min(temp)\n",
    "            for i in range(m):\n",
    "                if nums[dp[i]]*primes[i] == mv:\n",
    "                    dp[i] += 1\n",
    "            nums.append(mv)\n",
    "            n -=1 \n",
    "        return mv"
   ]
  },
  {
   "cell_type": "markdown",
   "metadata": {},
   "source": [
    "分析一下：他做了什么呢…\n",
    "\n",
    "还是 n --> 0 递减作为循环判断依据；但是我们每找到一个Ugly Number，就把它放进 nums 数组里。\n",
    "\n",
    "而下一个可能的丑丑数，可能就是之前出现的 Ugly Number * 所有的素数。找出其中最小的那个作为下一个丑数。"
   ]
  }
 ],
 "metadata": {
  "kernelspec": {
   "display_name": "Python 3",
   "language": "python",
   "name": "python3"
  },
  "language_info": {
   "codemirror_mode": {
    "name": "ipython",
    "version": 3
   },
   "file_extension": ".py",
   "mimetype": "text/x-python",
   "name": "python",
   "nbconvert_exporter": "python",
   "pygments_lexer": "ipython3",
   "version": "3.7.4"
  }
 },
 "nbformat": 4,
 "nbformat_minor": 2
}
