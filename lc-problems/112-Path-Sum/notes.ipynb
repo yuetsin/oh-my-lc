{
 "cells": [
  {
   "cell_type": "code",
   "execution_count": null,
   "metadata": {},
   "outputs": [],
   "source": [
    "> Runtime: 52 ms, faster than 83.81% of Python3 online submissions for Path Sum.\n",
    "> Memory Usage: 15.1 MB, less than 5.00% of Python3 online submissions for Path Sum."
   ]
  },
  {
   "cell_type": "code",
   "execution_count": null,
   "metadata": {},
   "outputs": [],
   "source": [
    "Here it is. Just use recursive. But make sure the end 'true' result should occur when the sum == val and the node has no children."
   ]
  }
 ],
 "metadata": {
  "kernelspec": {
   "display_name": "Python 3",
   "language": "python",
   "name": "python3"
  }
 },
 "nbformat": 4,
 "nbformat_minor": 2
}
