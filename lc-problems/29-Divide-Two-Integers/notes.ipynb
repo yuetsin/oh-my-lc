{
 "cells": [
  {
   "cell_type": "code",
   "execution_count": null,
   "metadata": {},
   "outputs": [],
   "source": [
    "Weird in the same way as Problem #7 (Reverse Integer)...\n",
    "Meaninglessly limits that \"without using multiplication, division and mod operator.\"\n",
    "Plus the awkward [−2^31,  2^31 − 1] limit. Unfriendly towards Python."
   ]
  },
  {
   "cell_type": "code",
   "execution_count": null,
   "metadata": {},
   "outputs": [],
   "source": [
    "For C++ Users, there's some interesting ideas, like the bit operation solution. I assume this problem was supposed to be solved with bitwise operation."
   ]
  },
  {
   "cell_type": "code",
   "execution_count": null,
   "metadata": {},
   "outputs": [],
   "source": [
    "Be aware that abs(MIN_VALUE) is a little greater than MAX_VALUE. So divided by -1 may cause overflow or something, uh."
   ]
  }
 ],
 "metadata": {
  "kernelspec": {
   "display_name": "Python 3",
   "language": "python",
   "name": "python3"
  }
 },
 "nbformat": 4,
 "nbformat_minor": 2
}
