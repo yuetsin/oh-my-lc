{
 "cells": [
  {
   "cell_type": "markdown",
   "metadata": {},
   "source": [
    "# 299\n",
    "\n",
    "*去他妈的公牛母牛*\n",
    "\n",
    "Bulls - 完全匹配，位置和值都一样。\n",
    "\n",
    "Cows - 有一样的值，但是位置不一样。（match the secret number but locate in the wrong position）\n",
    "\n",
    "只是这么说完全没有很好地定义这个游戏。\n",
    "\n",
    "得告诉你，Bulls 匹配好的两位不能再被匹配成 Cows（那当然，毕竟他们位置一样）\n",
    "\n",
    "而且 Bulls 中匹配的之中任何一方都不能再跟其他任何 Digits 匹配成 Cows（好像被用掉了一样）\n",
    "\n",
    "再而且，Cows 中匹配好的任何一方都不能再和其他 Digits 匹配成 Cows。\n",
    "\n",
    "再再而且，如果一个 Digit 既可以和对应的一位匹配成 Bulls 也可以和另外一位匹配成 Cows，那么优先匹配成 Bulls。\n",
    "\n",
    "这些他都没告诉你。\n",
    "\n",
    "偏偏我需要对已经搜寻过的 String 价格标记，但 Python tm 只提供不可变字符串，我要想修改其中一位就得切片！切两片！再把三片拼起来！\n",
    "\n",
    "Solution 区全都是莫名其妙的 `Counter` 和 `zip`。\n",
    "\n",
    "我还是去死得了。"
   ]
  }
 ],
 "metadata": {
  "kernelspec": {
   "display_name": "Python 3",
   "language": "python",
   "name": "python3"
  },
  "language_info": {
   "codemirror_mode": {
    "name": "ipython",
    "version": 3
   },
   "file_extension": ".py",
   "mimetype": "text/x-python",
   "name": "python",
   "nbconvert_exporter": "python",
   "pygments_lexer": "ipython3",
   "version": "3.7.4"
  }
 },
 "nbformat": 4,
 "nbformat_minor": 2
}
