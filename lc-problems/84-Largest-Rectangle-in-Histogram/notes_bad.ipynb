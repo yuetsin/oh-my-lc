{
 "cells": [
  {
   "cell_type": "code",
   "execution_count": null,
   "metadata": {},
   "outputs": [],
   "source": [
    "这题我的第一提交是错的。想到了之前的一个积水问题 Problem #11（那还只是个 Medium 题……）\n",
    "这里不一样的是，#11 装水的多少仅仅取决于左右两根的 min，因此移动的时候可以保证只要往内丢弃短的那根，就不会丢掉更大值。\n",
    "但是本题并不一样。是要找到一个范围，这个范围内所有 value 的最小值共同决定。"
   ]
  },
  {
   "cell_type": "code",
   "execution_count": null,
   "metadata": {},
   "outputs": [],
   "source": [
    "今天累了…明天接着肝这道。错误答案留作纪念（雾"
   ]
  },
  {
   "cell_type": "code",
   "execution_count": null,
   "metadata": {},
   "outputs": [],
   "source": [
    "The stack maintain the indexes of buildings with ascending height. \n",
    "Before adding a new building pop the building who is taller than the new one.\n",
    "The building popped out represent the height of a rectangle with the new building \n",
    "as the right boundary and the current stack top as the left boundary. \n",
    "Calculate its area and update ans of maximum area. \n",
    "\n",
    "Boundary is handled using dummy buildings."
   ]
  },
  {
   "cell_type": "code",
   "execution_count": null,
   "metadata": {},
   "outputs": [],
   "source": [
    "这是答案作者 @dietpepsi (又是你…) 的解释。"
   ]
  },
  {
   "cell_type": "code",
   "execution_count": null,
   "metadata": {},
   "outputs": [],
   "source": [
    "def largestRectangleArea(self, height):\n",
    "    height.append(0)\n",
    "    stack = [-1]\n",
    "    ans = 0\n",
    "    for i in xrange(len(height)):\n",
    "        while height[i] < height[stack[-1]]:\n",
    "            h = height[stack.pop()]\n",
    "            w = i - stack[-1] - 1\n",
    "            ans = max(ans, h * w)\n",
    "        stack.append(i)\n",
    "    height.pop()\n",
    "    return ans\n",
    "\n",
    "\n",
    "\n",
    "# 94 / 94 test cases passed.\n",
    "# Status: Accepted\n",
    "# Runtime: 76 ms\n",
    "# 97.34%"
   ]
  },
  {
   "cell_type": "code",
   "execution_count": null,
   "metadata": {},
   "outputs": [],
   "source": [
    "这个程序做了什么呢？首先，为了防止弹空 Stack，给栈的初始值给了一个 -1。由于高度为 -1 的矩形不会影响到最终的结果。\n",
    "为了 Cover edge cases，加了一句 height.append(0)。\n",
    "\n",
    "后来呢，对每一个 i ，把 stack 里所有比他高的矩形都弹出来。由于这个规定，所以栈中的所有高度都是升序排列的。\n",
    "因此只需要找到一个比指定元素矮的高度，就说明栈更深处的所有东西都比他矮，因此可以一直维持这样的一个水平。"
   ]
  },
  {
   "cell_type": "code",
   "execution_count": null,
   "metadata": {},
   "outputs": [],
   "source": [
    "最后呢，判断一下 h * w 是不是值得更新 ans。stack pop 出来的一定是一个最小值，看一下走完全部的 ans 之后……"
   ]
  },
  {
   "cell_type": "code",
   "execution_count": null,
   "metadata": {},
   "outputs": [],
   "source": [
    "我觉得我在说胡话。还是看看正经的讲法："
   ]
  },
  {
   "cell_type": "code",
   "execution_count": null,
   "metadata": {},
   "outputs": [],
   "source": [
    "This idea is really beautiful. However I felt a bit confused when reading the explanation. （吹一波）\n",
    "After thinking for a while, here is my thought if it is helpful.（客套话）\n",
    "\n",
    "For any bar x, if it's in a rectangle of which the height is also the height of x, \n",
    "we know that every bar in the rectangle must be no shorter than x. \n",
    "\n",
    "要确定这个矩形的面积，只需要我们确定左边的界限和右边的界限就可以了。\n",
    "\n",
    "Then the issue is to find the left and right boundary where the bars are shorter than x. \n",
    "According to the code, when a bar is popped out from the stack, \n",
    "we know it must be higher than the bar at position i, \n",
    "so bar[i] must be the right boundary (exclusive) of the rectangle, \n",
    "\n",
    "and the previous bar in the stack is the first one that is shorter than the popped one \n",
    "so it must be the left boundary (also exclusive). Then we find the rectangle."
   ]
  }
 ],
 "metadata": {
  "kernelspec": {
   "display_name": "Python 3",
   "language": "python",
   "name": "python3"
  }
 },
 "nbformat": 4,
 "nbformat_minor": 2
}
