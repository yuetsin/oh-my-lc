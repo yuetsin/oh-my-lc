{
 "cells": [
  {
   "cell_type": "code",
   "execution_count": null,
   "metadata": {},
   "outputs": [],
   "source": [
    "这题我的第一提交是错的。想到了之前的一个积水问题 Problem #11（那还只是个 Medium 题……）\n",
    "这里不一样的是，#11 装水的多少仅仅取决于左右两根的 min，因此移动的时候可以保证只要往内丢弃短的那根，就不会丢掉更大值。\n",
    "但是本题并不一样。是要找到一个范围，这个范围内所有 value 的最小值共同决定。"
   ]
  },
  {
   "cell_type": "code",
   "execution_count": null,
   "metadata": {},
   "outputs": [],
   "source": [
    "今天累了…明天接着肝这道。错误答案留作纪念（雾"
   ]
  }
 ],
 "metadata": {
  "kernelspec": {
   "display_name": "Python 3",
   "language": "python",
   "name": "python3"
  }
 },
 "nbformat": 4,
 "nbformat_minor": 2
}
