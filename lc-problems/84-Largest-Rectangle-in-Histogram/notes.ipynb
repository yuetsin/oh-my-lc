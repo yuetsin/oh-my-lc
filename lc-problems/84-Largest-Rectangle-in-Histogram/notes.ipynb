{
 "cells": [
  {
   "cell_type": "code",
   "execution_count": null,
   "metadata": {},
   "outputs": [],
   "source": [
    "这里有一个更加人性化的解法：新建两个 List，\n",
    "left[i] 里面存放着：i 及 i 以左的元素有多少个元素**连续地**大于等于 i（包括 i）。\n",
    "right[i] 里面存放着：i 及 i 以右的元素有多少个**连续地**大于等于 i（包括 i）。"
   ]
  },
  {
   "cell_type": "code",
   "execution_count": null,
   "metadata": {},
   "outputs": [],
   "source": [
    "于是，包括 bar[i] 的最大值就是 height[i] * (left[i] + right[i] - 1)。"
   ]
  },
  {
   "cell_type": "code",
   "execution_count": null,
   "metadata": {},
   "outputs": [],
   "source": [
    "注意：一定是需要连续地才可以。不可以出现了一个“坑”然后跳过。"
   ]
  },
  {
   "cell_type": "code",
   "execution_count": null,
   "metadata": {},
   "outputs": [],
   "source": [
    "这个解答方案虽然\n",
    "> Runtime: 76 ms, faster than 34.80% of Python3 online submissions for Largest Rectangle in Histogram.\n",
    "> Memory Usage: 15.8 MB, less than 13.04% of Python3 online submissions for Largest Rectangle in Histogram.\n",
    "不快也不省，但是他好就好在他的 intuition 符合。"
   ]
  }
 ],
 "metadata": {
  "kernelspec": {
   "display_name": "Python 3",
   "language": "python",
   "name": "python3"
  }
 },
 "nbformat": 4,
 "nbformat_minor": 2
}
