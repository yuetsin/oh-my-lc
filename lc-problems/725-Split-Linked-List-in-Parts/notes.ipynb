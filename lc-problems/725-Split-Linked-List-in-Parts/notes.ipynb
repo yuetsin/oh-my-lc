{
 "cells": [
  {
   "cell_type": "markdown",
   "metadata": {},
   "source": [
    "# 725 Split Linked List in Parts\n",
    "\n",
    "Runtime: 32 ms, faster than 91.48% of Python3 online submissions for Split Linked List in Parts.\n",
    "\n",
    "Memory Usage: 13.1 MB, less than 100.00% of Python3 online submissions for Split Linked List in Parts.\n",
    "\n",
    "首先，遍历第一次，目的是获取总链长度。这一步时不能做 Split 的操作，因为还不知道要分成几份。\n",
    "\n",
    "第二次，就是根据 len // k 和 len % k 的结果拆解原来的链，就好了。\n",
    "\n",
    "这一次我直接把所有的 node 指针都存到 List 里了。最多就只有 1000 个 Node，没有必要再来一次吧…"
   ]
  }
 ],
 "metadata": {
  "kernelspec": {
   "display_name": "Python 3",
   "language": "python",
   "name": "python3"
  },
  "language_info": {
   "codemirror_mode": {
    "name": "ipython",
    "version": 3
   },
   "file_extension": ".py",
   "mimetype": "text/x-python",
   "name": "python",
   "nbconvert_exporter": "python",
   "pygments_lexer": "ipython3",
   "version": "3.7.6"
  }
 },
 "nbformat": 4,
 "nbformat_minor": 4
}
