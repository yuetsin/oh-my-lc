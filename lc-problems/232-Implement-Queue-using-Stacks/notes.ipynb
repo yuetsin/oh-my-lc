{
 "cells": [
  {
   "cell_type": "markdown",
   "metadata": {},
   "source": [
    "# 232\n",
    "\n",
    "Runtime: 28 ms, faster than 98.29% of Python3 online submissions for Implement Queue using Stacks.\n",
    "Memory Usage: 13.9 MB, less than 10.00% of Python3 online submissions for Implement Queue using Stacks.\n",
    "\n",
    "还是那句话，用 Python 写数据结构题…好像隔着一层纱或者雾在砍人一样（x）"
   ]
  }
 ],
 "metadata": {
  "kernelspec": {
   "display_name": "Python 3",
   "language": "python",
   "name": "python3"
  },
  "language_info": {
   "codemirror_mode": {
    "name": "ipython",
    "version": 3
   },
   "file_extension": ".py",
   "mimetype": "text/x-python",
   "name": "python",
   "nbconvert_exporter": "python",
   "pygments_lexer": "ipython3",
   "version": "3.7.4"
  }
 },
 "nbformat": 4,
 "nbformat_minor": 2
}
