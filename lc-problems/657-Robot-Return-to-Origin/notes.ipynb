{
 "cells": [
  {
   "cell_type": "markdown",
   "metadata": {},
   "source": [
    "# 657 Robot Return to Origin\n",
    "\n",
    "什么鬼题啊）\n",
    "\n",
    "感觉大脑遭到了重击\n",
    "\n",
    "Runtime: 64 ms, faster than 50.30% of Python3 online submissions for Robot Return to Origin.\n",
    "\n",
    "Memory Usage: 12.7 MB, less than 100.00% of Python3 online submissions for Robot Return to Origin."
   ]
  }
 ],
 "metadata": {
  "kernelspec": {
   "display_name": "Python 3",
   "language": "python",
   "name": "python3"
  },
  "language_info": {
   "codemirror_mode": {
    "name": "ipython",
    "version": 3
   },
   "file_extension": ".py",
   "mimetype": "text/x-python",
   "name": "python",
   "nbconvert_exporter": "python",
   "pygments_lexer": "ipython3",
   "version": "3.7.6"
  }
 },
 "nbformat": 4,
 "nbformat_minor": 4
}
