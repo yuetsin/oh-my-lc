{
 "cells": [
  {
   "cell_type": "markdown",
   "metadata": {},
   "source": [
    "# 315\n",
    "\n",
    "... 天天写出 TLE\n",
    "\n",
    "…况且在试图 Cheat 的时候，还打出了一个 Submit Failure（因为作弊结果太长了…）\n",
    "\n",
    "好好好，好好写。\n",
    "\n",
    "事实上我们可以做的很简单。\n",
    "\n",
    "从右向左，依次进行一下排序就好了。\n",
    "\n",
    "用内置的 bisect，因为从右向左慢慢排序因此每一次的代价是很小的(用二分查找可以压到 O(logN))。\n",
    "\n",
    "到最后完全排序好了之后，把 nums[0] 放到合适的位置，算出比他小的值的个数， Over.\n",
    "\n",
    "bisect.bisect 函数的目的在于查找该数值将会插入的位置并返回，但不会真的进行插入操作。\n",
    "\n",
    "（left 跟 right 后缀意在说明在出现重复元素的情况下，决定我们往左插还是往右插。）\n",
    "\n",
    "bisect. Awesome."
   ]
  },
  {
   "cell_type": "code",
   "execution_count": null,
   "metadata": {},
   "outputs": [],
   "source": [
    "import bisect\n",
    "class Solution(object):\n",
    "    def countSmaller(self, nums):\n",
    "        res = []\n",
    "        stack = []\n",
    "        for i in range(len(nums)-1, -1, -1):\n",
    "            index = bisect.bisect_left(stack, nums[i])\n",
    "            res.append(index)\n",
    "            bisect.insort_left(stack, nums[i])\n",
    "        res.reverse()\n",
    "        return res"
   ]
  }
 ],
 "metadata": {
  "kernelspec": {
   "display_name": "Python 3",
   "language": "python",
   "name": "python3"
  },
  "language_info": {
   "codemirror_mode": {
    "name": "ipython",
    "version": 3
   },
   "file_extension": ".py",
   "mimetype": "text/x-python",
   "name": "python",
   "nbconvert_exporter": "python",
   "pygments_lexer": "ipython3",
   "version": "3.7.4"
  }
 },
 "nbformat": 4,
 "nbformat_minor": 2
}
