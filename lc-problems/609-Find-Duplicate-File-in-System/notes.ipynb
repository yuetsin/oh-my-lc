{
 "cells": [
  {
   "cell_type": "markdown",
   "metadata": {},
   "source": [
    "# 609 Find Duplicate File in System\n",
    "\n",
    "Runtime: 96 ms, faster than 50.47% of Python3 online submissions for Find Duplicate File in System.\n",
    "\n",
    "Memory Usage: 22.4 MB, less than 90.91% of Python3 online submissions for Find Duplicate File in System.\n",
    "\n",
    "怎么可能有这种表示目录的方法…好差劲…\n",
    "\n",
    "Hashmap 是最快的。\n",
    "\n",
    "不过注意。要求的 Duplicate，Content 出现次数一定要 >1。只出现一次的就别了。"
   ]
  }
 ],
 "metadata": {
  "kernelspec": {
   "display_name": "Python 3",
   "language": "python",
   "name": "python3"
  },
  "language_info": {
   "codemirror_mode": {
    "name": "ipython",
    "version": 3
   },
   "file_extension": ".py",
   "mimetype": "text/x-python",
   "name": "python",
   "nbconvert_exporter": "python",
   "pygments_lexer": "ipython3",
   "version": "3.7.6"
  }
 },
 "nbformat": 4,
 "nbformat_minor": 4
}
