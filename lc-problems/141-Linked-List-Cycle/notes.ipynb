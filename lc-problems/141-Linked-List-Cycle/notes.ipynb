{
 "cells": [
  {
   "cell_type": "code",
   "execution_count": null,
   "metadata": {},
   "outputs": [],
   "source": [
    "思路挺清晰的，总的说来……一分钟以内可以写完。"
   ]
  },
  {
   "cell_type": "code",
   "execution_count": null,
   "metadata": {},
   "outputs": [],
   "source": [
    "但是有意思的一点事情是，测试了一下用 set() 跟用 list 的速度区别，结果是……"
   ]
  },
  {
   "cell_type": "code",
   "execution_count": null,
   "metadata": {},
   "outputs": [],
   "source": [
    "a few seconds ago\tAccepted\t32 ms\t18.7 MB\tpython\n",
    "a few seconds ago\tAccepted\t1168 ms\t18.4 MB\tpython"
   ]
  },
  {
   "cell_type": "code",
   "execution_count": null,
   "metadata": {},
   "outputs": [],
   "source": [
    "hmmmmmm……\n",
    "姑且认为是 Python 的 List 实现太弱鸡了吧"
   ]
  },
  {
   "cell_type": "code",
   "execution_count": null,
   "metadata": {},
   "outputs": [],
   "source": [
    "Runtime: 32 ms, faster than 98.46% of Python online submissions for Linked List Cycle.\n",
    "Memory Usage: 18.7 MB, less than 15.35% of Python online submissions for Linked List Cycle."
   ]
  },
  {
   "cell_type": "code",
   "execution_count": null,
   "metadata": {},
   "outputs": [],
   "source": [
    "（顺便吐槽一句，您这题为什么不让用 Python3 写啊）"
   ]
  },
  {
   "cell_type": "code",
   "execution_count": null,
   "metadata": {},
   "outputs": [],
   "source": [
    "但这儿有个有意思的解法：O(1) 空间复杂度的算法。"
   ]
  },
  {
   "cell_type": "code",
   "execution_count": null,
   "metadata": {},
   "outputs": [],
   "source": [
    "public boolean hasCycle(ListNode head) {\n",
    "    if(head==null) return false;\n",
    "    ListNode walker = head;\n",
    "    ListNode runner = head;\n",
    "    while(runner.next!=null && runner.next.next!=null) {\n",
    "        walker = walker.next;\n",
    "        runner = runner.next.next;\n",
    "        if(walker==runner) return true;\n",
    "    }\n",
    "    return false;\n",
    "}"
   ]
  },
  {
   "cell_type": "code",
   "execution_count": null,
   "metadata": {},
   "outputs": [],
   "source": [
    "用俩指针，一个 Walker，一个 Runner。Runner 每次都比 Walker 多走一步。那么如果说最后 walker 跟 runner 走到了一块，就说明出现了死循环。\n",
    "厉害！"
   ]
  }
 ],
 "metadata": {
  "kernelspec": {
   "display_name": "Python 3",
   "language": "python",
   "name": "python3"
  }
 },
 "nbformat": 4,
 "nbformat_minor": 2
}
