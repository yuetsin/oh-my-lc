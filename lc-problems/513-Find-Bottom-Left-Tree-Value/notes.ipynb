{
 "cells": [
  {
   "cell_type": "markdown",
   "metadata": {},
   "source": [
    "# 513 Find Bottom Left Tree Value\n",
    "\n",
    "Runtime: 44 ms, faster than 61.94% of Python3 online submissions for Find Bottom Left Tree Value.\n",
    "\n",
    "Memory Usage: 15.6 MB, less than 100.00% of Python3 online submissions for Find Bottom Left Tree Value.\n",
    "\n",
    "非常好办。因为我们永远只考虑到最深的那一层，所以我们可以记录下来目前所知的最深层级，并只在遇到最深的节点的时候才填入数据。如果发现了更深的数据，那么前层级的数据都是垃圾了。直接 clear。\n",
    "\n",
    "然后，遍历顺序不重要，只要先遍历左孩子再遍历右孩子就好了。"
   ]
  }
 ],
 "metadata": {
  "kernelspec": {
   "display_name": "Python 3",
   "language": "python",
   "name": "python3"
  },
  "language_info": {
   "codemirror_mode": {
    "name": "ipython",
    "version": 3
   },
   "file_extension": ".py",
   "mimetype": "text/x-python",
   "name": "python",
   "nbconvert_exporter": "python",
   "pygments_lexer": "ipython3",
   "version": "3.7.6"
  }
 },
 "nbformat": 4,
 "nbformat_minor": 4
}
