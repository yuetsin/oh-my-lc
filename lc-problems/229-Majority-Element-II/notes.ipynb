{
 "cells": [
  {
   "cell_type": "markdown",
   "metadata": {},
   "source": [
    "# 229\n",
    "\n",
    "实际上并没有严格遵循题目要求…题目要求是 O(1) 的 空间复杂度，也就是只能开常数级别的内存空间。（然而事实上做不到）\n",
    "\n",
    "Runtime: 136 ms, faster than 75.97% of Python3 online submissions for Majority Element II.\n",
    "Memory Usage: 15 MB, less than 5.88% of Python3 online submissions for Majority Element II.\n",
    "\n",
    "你也可以看到我的内存吃的是非常多的…"
   ]
  },
  {
   "cell_type": "markdown",
   "metadata": {},
   "source": [
    "For those who aren't familiar with Boyer-Moore Majority Vote algorithm,\n",
    "I found a great article (http://goo.gl/64Nams) that helps me to understand this fantastic algorithm!!\n",
    "Please check it out!\n",
    "\n",
    "The essential concepts is you keep a counter for the majority number X. If you find a number Y that is not X, the current counter should deduce 1. The reason is that if there is 5 X and 4 Y, there would be one (5-4) more X than Y. This could be explained as \"4 X being paired out by 4 Y\".\n",
    "\n",
    "And since the requirement is finding the majority for more than ceiling of [n/3], the answer would be less than or equal to two numbers.\n",
    "So we can modify the algorithm to maintain two counters for two majorities.\n",
    "\n",
    "Followings are my sample Python code:"
   ]
  },
  {
   "cell_type": "code",
   "execution_count": null,
   "metadata": {},
   "outputs": [],
   "source": [
    "class Solution:\n",
    "# @param {integer[]} nums\n",
    "# @return {integer[]}\n",
    "def majorityElement(self, nums):\n",
    "    if not nums:\n",
    "        return []\n",
    "    count1, count2, candidate1, candidate2 = 0, 0, 0, 1\n",
    "    for n in nums:\n",
    "        if n == candidate1:\n",
    "            count1 += 1\n",
    "        elif n == candidate2:\n",
    "            count2 += 1\n",
    "        elif count1 == 0:\n",
    "            candidate1, count1 = n, 1\n",
    "        elif count2 == 0:\n",
    "            candidate2, count2 = n, 1\n",
    "        else:\n",
    "            count1, count2 = count1 - 1, count2 - 1\n",
    "    return [n for n in (candidate1, candidate2)\n",
    "                    if nums.count(n) > len(nums) // 3]"
   ]
  },
  {
   "cell_type": "code",
   "execution_count": null,
   "metadata": {},
   "outputs": [],
   "source": [
    "分析一下：在之前的 Majority Element 里面，我们只需要一个 count 和 candidate 就足够存储计算出谁是最大值了。\n",
    "\n",
    "但是，现在我们是需要两个 count 跟 candidate 来保存，否则 n//3 的值就算不出来了……\n",
    "\n",
    "另外，> n//3 的数字最多有两个。为啥不能有三个，自己想（"
   ]
  }
 ],
 "metadata": {
  "kernelspec": {
   "display_name": "Python 3",
   "language": "python",
   "name": "python3"
  },
  "language_info": {
   "codemirror_mode": {
    "name": "ipython",
    "version": 3
   },
   "file_extension": ".py",
   "mimetype": "text/x-python",
   "name": "python",
   "nbconvert_exporter": "python",
   "pygments_lexer": "ipython3",
   "version": "3.7.4"
  }
 },
 "nbformat": 4,
 "nbformat_minor": 2
}
