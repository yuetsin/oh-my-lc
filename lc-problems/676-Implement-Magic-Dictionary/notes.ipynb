{
 "cells": [
  {
   "cell_type": "markdown",
   "metadata": {},
   "source": [
    "# 676 Implement Magic Dictionary\n",
    "\n",
    "Runtime: 28 ms, faster than 81.79% of Python3 online submissions for Implement Magic Dictionary.\n",
    "\n",
    "Memory Usage: 12.7 MB, less than 100.00% of Python3 online submissions for Implement Magic Dictionary.\n",
    "\n",
    "简单。搜索的时候只需要以 25^i（i = len(word)) 个可能变成的字符串。构造出来，比较一下就行了。\n",
    "\n",
    "这个复杂度…比较恐怖…\n",
    "\n",
    "一旦文字长了，就会很爆炸。\n",
    "\n",
    "还好 Test Cases 还算比较和蔼。"
   ]
  }
 ],
 "metadata": {
  "kernelspec": {
   "display_name": "Python 3",
   "language": "python",
   "name": "python3"
  },
  "language_info": {
   "codemirror_mode": {
    "name": "ipython",
    "version": 3
   },
   "file_extension": ".py",
   "mimetype": "text/x-python",
   "name": "python",
   "nbconvert_exporter": "python",
   "pygments_lexer": "ipython3",
   "version": "3.7.6"
  }
 },
 "nbformat": 4,
 "nbformat_minor": 4
}
