{
 "cells": [
  {
   "cell_type": "markdown",
   "metadata": {},
   "source": [
    "# 520 Detect Capital\n",
    "\n",
    "Runtime: 16 ms, faster than 99.68% of Python3 online submissions for Detect Capital.\n",
    "\n",
    "Memory Usage: 12.7 MB, less than 100.00% of Python3 online submissions for Detect Capital.\n",
    "\n",
    "啥题啊这是…\n",
    "\n",
    "又是[南条爱乃](https://leetcode.com/just_not_over_12/)的神题（×）\n",
    "\n",
    "Python 自带了 islower、isupper、istitle 三个函数。可以解决此题。\n",
    "\n",
    "（这题我觉得用库函数都不过分。因为这题是在太无聊了）"
   ]
  }
 ],
 "metadata": {
  "kernelspec": {
   "display_name": "Python 3",
   "language": "python",
   "name": "python3"
  },
  "language_info": {
   "codemirror_mode": {
    "name": "ipython",
    "version": 3
   },
   "file_extension": ".py",
   "mimetype": "text/x-python",
   "name": "python",
   "nbconvert_exporter": "python",
   "pygments_lexer": "ipython3",
   "version": "3.7.6"
  }
 },
 "nbformat": 4,
 "nbformat_minor": 4
}
