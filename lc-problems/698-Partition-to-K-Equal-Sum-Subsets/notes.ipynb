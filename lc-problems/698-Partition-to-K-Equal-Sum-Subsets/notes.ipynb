{
 "cells": [
  {
   "cell_type": "markdown",
   "metadata": {},
   "source": [
    "# 698 Partition to K Equal Sum Subsets\n",
    "\n",
    "Runtime: 52 ms, faster than 65.43% of Python3 online submissions for Partition to K Equal Sum Subsets.\n",
    "\n",
    "Memory Usage: 13.4 MB, less than 11.11% of Python3 online submissions for Partition to K Equal Sum Subsets.\n",
    "\n",
    "把一个数组拆分成 k 个和相等的数组。\n",
    "\n",
    "首先，我们排除三种显然的平凡情况：k = 1，num_count < k，以及 sum(nums) % k != 0。这三种情况可以直接判断为 True、False、False。\n",
    "\n",
    "然后，我们可以采用 backtracking 的办法：\n",
    "\n",
    "backt(paired_count, current_sum)\n",
    "\n",
    "就是，已经组成的 SubArray 的数组数量，以及下一个还没完成的 SubArray 的当前和数。\n",
    "\n",
    "我们想象 K 个口袋，然后从第一个开始往里面放东西；假如倒数第二个口袋刚好被填满，那么就无需继续了；最后一个口袋一定能对上。（前提是已经排除了 sum % k != 0 的情况。）\n",
    "\n",
    "假如我们在试着往某个未满的口袋里填充的时候，发现剩下的数字哪一个塞进去都过大了，那么只好返回 False。并且，将 (pocket_id, current_sum, to_add_num) 这一对直接加入黑名单。\n",
    "\n",
    "优化点：我们尽量优先把较大的数放入口袋里；这样就能减少无意义的把大块留到最后，很容易出现 Error 後大量的 Backtracking。\n",
    "\n",
    "所以，我们先对给出的 Array sort(reverse=True)。\n",
    "\n",
    "另外，我们的 bad_tuple set 可以减少不正确的分支，也能加快速度。"
   ]
  }
 ],
 "metadata": {
  "kernelspec": {
   "display_name": "Python 3",
   "language": "python",
   "name": "python3"
  },
  "language_info": {
   "codemirror_mode": {
    "name": "ipython",
    "version": 3
   },
   "file_extension": ".py",
   "mimetype": "text/x-python",
   "name": "python",
   "nbconvert_exporter": "python",
   "pygments_lexer": "ipython3",
   "version": "3.7.6"
  }
 },
 "nbformat": 4,
 "nbformat_minor": 4
}
