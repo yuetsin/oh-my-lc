{
 "cells": [
  {
   "cell_type": "code",
   "execution_count": null,
   "metadata": {},
   "outputs": [],
   "source": [
    "这题还是跟 #136 一脉相承。不过这里的限制条件变成了「要么出现三次，唯一一个数字出现 1 次」。\n",
    "而这个特别的限制条件又能带来怎样的优化呢？"
   ]
  },
  {
   "cell_type": "code",
   "execution_count": null,
   "metadata": {},
   "outputs": [],
   "source": [
    "首先我还是给大家表演一个 O(N) 空间复杂度的垃圾算法：\n",
    "Runtime: 36 ms, faster than 95.11% of Python3 online submissions for Single Number II.\n",
    "Memory Usage: 14.8 MB, less than 9.56% of Python3 online submissions for Single Number II."
   ]
  },
  {
   "cell_type": "code",
   "execution_count": null,
   "metadata": {},
   "outputs": [],
   "source": [
    "而这个 Tricky 方法则依赖于对「异或」的改造：也就是，三次重复操作之后 = 0.但这真的就没有 #136 那样的连续 Xor 来的爽快，直接。"
   ]
  },
  {
   "cell_type": "code",
   "execution_count": null,
   "metadata": {},
   "outputs": [],
   "source": [
    "并且还假定了 32 位数字输入的限制。我不喜欢这种做法，但还是把答案贴上来。"
   ]
  }
 ],
 "metadata": {
  "kernelspec": {
   "display_name": "Python 3",
   "language": "python",
   "name": "python3"
  }
 },
 "nbformat": 4,
 "nbformat_minor": 2
}
