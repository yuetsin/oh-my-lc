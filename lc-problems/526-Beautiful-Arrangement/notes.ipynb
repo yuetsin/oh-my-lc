{
 "cells": [
  {
   "cell_type": "markdown",
   "metadata": {},
   "source": [
    "# 526 Beautiful Arrangement\n",
    "\n",
    "这里…用回溯法可解。\n",
    "\n",
    "We consider all ways of satisfying constraints at every given step, and proceed forward, for each way. If at some point, we are unable to satisfy the constraints, we know that the chosen way of previous steps is incorrect, and hence return 0. If we have reached the end, then we know that it is a valid solution and return 1.\n",
    "\n",
    "Each valid way is unique, and the set is exhaustive."
   ]
  },
  {
   "cell_type": "code",
   "execution_count": null,
   "metadata": {},
   "outputs": [],
   "source": [
    "#!/usr/bin/env python\n",
    "\n",
    "\n",
    "class Solution:\n",
    "    def Backtrack(self, nums: List[int], ind: int) -> int:\n",
    "        x = ind + 1\n",
    "        if len(nums) == 1:\n",
    "            if x % nums[0] == 0 or nums[0] % x == 0:\n",
    "                return 1\n",
    "            return 0\n",
    "        Sum = 0\n",
    "        for i in range(len(nums)):\n",
    "            if nums[i] % x == 0 or x % nums[i] == 0:\n",
    "                Sum = Sum + self.Backtrack(nums[:i] + nums[i + 1:], x)\n",
    "        return Sum\n",
    "\n",
    "    def countArrangement(self, N: int) -> int:\n",
    "        L = []\n",
    "        for i in range(N):\n",
    "            L.append(i + 1)\n",
    "        return self.Backtrack(L, 0)"
   ]
  }
 ],
 "metadata": {
  "kernelspec": {
   "display_name": "Python 3",
   "language": "python",
   "name": "python3"
  },
  "language_info": {
   "codemirror_mode": {
    "name": "ipython",
    "version": 3
   },
   "file_extension": ".py",
   "mimetype": "text/x-python",
   "name": "python",
   "nbconvert_exporter": "python",
   "pygments_lexer": "ipython3",
   "version": "3.7.6"
  }
 },
 "nbformat": 4,
 "nbformat_minor": 4
}
