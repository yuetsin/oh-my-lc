{
 "cells": [
  {
   "cell_type": "markdown",
   "metadata": {},
   "source": [
    "# 565 Array Nesting\n",
    "\n",
    "只要从头往后嵌套地遍历就好了。\n",
    "\n",
    "可以用 set 来确认成环的时间点；当然也可以把遍历之后的值都设定为 -1。\n",
    "\n",
    "不用担心设定 -1 截断了更长的节点。因为这是一个「环」。在任何位置开始计算长度都一致。环上的任何一个节点都会落入这节点。不必担心。"
   ]
  }
 ],
 "metadata": {
  "kernelspec": {
   "display_name": "Python 3",
   "language": "python",
   "name": "python3"
  },
  "language_info": {
   "codemirror_mode": {
    "name": "ipython",
    "version": 3
   },
   "file_extension": ".py",
   "mimetype": "text/x-python",
   "name": "python",
   "nbconvert_exporter": "python",
   "pygments_lexer": "ipython3",
   "version": "3.7.6"
  }
 },
 "nbformat": 4,
 "nbformat_minor": 4
}
