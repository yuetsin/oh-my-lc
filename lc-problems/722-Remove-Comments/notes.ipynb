{
 "cells": [
  {
   "cell_type": "markdown",
   "metadata": {},
   "source": [
    "# 722 Remove Comments\n",
    "\n",
    "这题。真的恼火。\n",
    "\n",
    "比看起来…要难得多。\n",
    "\n",
    "首先，两种注释方式可能互相嵌套。这里的规定是——先出现的那个注释符号有效。\n",
    "\n",
    "另外，多行注释在被 split 之后，其中的换行符号也要被删除。\n",
    "\n",
    "这个的奇怪之处在于，他要求直接删除其中的一切内容，连一个空格都不留。把两边的关键字都黏一块儿了！\n",
    "\n",
    "gcc -E -P 都不是这么实现的。\n",
    "\n",
    "所以用 Regex 很恼火，不好处理；用 Parsing，状态有特别多。\n",
    "\n",
    "同一行里面可能还有多种复杂的情况：比如，在一个 // 後面跟随一个 /* ，那么 /* 无效；\n",
    "\n",
    "如果在 Comment 状态里遇到 // 後面跟随一个 */ ，则会因为 Comment 状态里 // 无效，从而 */ 有效。\n",
    "\n",
    "但如果在 */ 後面跟随一个 //，则会两者均发挥作用。\n",
    "\n",
    "你说他不真实吧，他有一堆实际的恼火问题。\n",
    "\n",
    "你说他实际吧，他又不完全按照标准来，有他自己的想法。\n",
    "\n",
    "烂题。\n",
    "\n",
    "> 他要是按标准来我就直接用 `os.popen('gcc -E -P)'` 调用 gcc 的预处理器了…"
   ]
  }
 ],
 "metadata": {
  "kernelspec": {
   "display_name": "Python 3",
   "language": "python",
   "name": "python3"
  },
  "language_info": {
   "codemirror_mode": {
    "name": "ipython",
    "version": 3
   },
   "file_extension": ".py",
   "mimetype": "text/x-python",
   "name": "python",
   "nbconvert_exporter": "python",
   "pygments_lexer": "ipython3",
   "version": "3.7.6"
  }
 },
 "nbformat": 4,
 "nbformat_minor": 4
}
