{
 "cells": [
  {
   "cell_type": "markdown",
   "metadata": {},
   "source": [
    "# 684 Redundant Connection\n",
    "\n",
    "给出了一张图，1～n 的数字组成的。这张图本来是一棵树，可惜仅仅多了一条边，导致它成了环。\n",
    "\n",
    "要求删除一条边，来解除这种成环的情况。这条边在给出的 List 中的顺序要尽可能靠后。\n",
    "\n",
    "简单的。DFS 可解。只不过不能像我这么 DFS。得给出 src 和 dst，然后可以得知这两个节点（目前）是不是通的。\n",
    "\n",
    "但是我们要保证尽可能遍历到靠后的 Link 啊？怎么办？\n",
    "\n",
    "我们选择一个个地把我们的边加入图里，在加入之前先判断这两个点是不是已经通了。如果通了，那就直接拒绝，然后返回这一对。\n",
    "\n",
    "这样，我们一定会在加入那条靠后的边的时候遇到「Loop」，也就是「在两个已经联通的边上加边」这种事情。"
   ]
  },
  {
   "cell_type": "code",
   "execution_count": null,
   "metadata": {},
   "outputs": [],
   "source": [
    "        def dfs(source, target):\n",
    "            if source not in seen:\n",
    "                seen.add(source)\n",
    "                if source == target: return True\n",
    "                return any(dfs(nei, target) for nei in dic[source])"
   ]
  },
  {
   "cell_type": "markdown",
   "metadata": {},
   "source": [
    "Runtime: 72 ms, faster than 29.73% of Python3 online submissions for Redundant Connection.\n",
    "\n",
    "Memory Usage: 13.9 MB, less than 28.57% of Python3 online submissions for Redundant Connection."
   ]
  }
 ],
 "metadata": {
  "kernelspec": {
   "display_name": "Python 3",
   "language": "python",
   "name": "python3"
  },
  "language_info": {
   "codemirror_mode": {
    "name": "ipython",
    "version": 3
   },
   "file_extension": ".py",
   "mimetype": "text/x-python",
   "name": "python",
   "nbconvert_exporter": "python",
   "pygments_lexer": "ipython3",
   "version": "3.7.6"
  }
 },
 "nbformat": 4,
 "nbformat_minor": 4
}
