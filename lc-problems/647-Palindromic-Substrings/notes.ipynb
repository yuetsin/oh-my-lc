{
 "cells": [
  {
   "cell_type": "markdown",
   "metadata": {},
   "source": [
    "# 647 Palindromic Substrings\n",
    "\n",
    "Runtime: 360 ms, faster than 30.79% of Python3 online submissions for Palindromic Substrings.\n",
    "\n",
    "Memory Usage: 20.5 MB, less than 50.00% of Python3 online submissions for Palindromic Substrings.\n",
    "\n",
    "我怀疑 Alex Wice(@awice) 是魁北克人，他的母语不是英语.jpg\n",
    "\n",
    "否则怎么能写出这么糟糕的英文啊！这 Solution 还不如没有，锁起来别给我看得了。\n",
    "\n",
    "看代码：\n",
    "\n",
    "开了一个 n * n 的 Memo。\n",
    "\n",
    "Intuitive 的想法，当然就是遍历所有的 Substring；\n",
    "\n",
    "        for i in range(length):\n",
    "            for r in range(i, length):\n",
    "            \n",
    "这么遍历。但是如果我们这么做，时间复杂度并不是 O(N^2)；因为判断回文的复杂度是 O(N)，所以总的复杂度是 O(N^3)。\n",
    "\n",
    "用 DP，我们可以压缩到 O(N^2)！\n",
    "\n",
    "假如 r == c，也就是 single char 长度的 palindrome，肯定是 True。\n",
    "\n",
    "然后，假如他们距离为 1，那么就判断是否相等。长度为 2 的 char 就是全部相等。\n",
    "\n",
    "假如再长，就是 1）和 2）的组合了。(memo[r + 1][c - 1] and s[r] == s[c])\n",
    "\n",
    "确保原来是回文，且可以往两边扩展两个相同的 char。 "
   ]
  }
 ],
 "metadata": {
  "kernelspec": {
   "display_name": "Python 3",
   "language": "python",
   "name": "python3"
  },
  "language_info": {
   "codemirror_mode": {
    "name": "ipython",
    "version": 3
   },
   "file_extension": ".py",
   "mimetype": "text/x-python",
   "name": "python",
   "nbconvert_exporter": "python",
   "pygments_lexer": "ipython3",
   "version": "3.7.6"
  }
 },
 "nbformat": 4,
 "nbformat_minor": 4
}
