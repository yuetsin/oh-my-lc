{
 "cells": [
  {
   "cell_type": "markdown",
   "metadata": {},
   "source": [
    "# 172\n",
    "\n",
    "我的解决方案：完全没好好用出 BST (Binary Search Tree) 的特殊功能，任何一个二叉树都可用这种做法。\n",
    "\n",
    "换句话说，我的解决方案没有用好题设条件。垃圾解法。\n",
    "\n",
    "Runtime: 96 ms, faster than 31.50% of Python3 online submissions for Binary Search Tree Iterator.\n",
    "Memory Usage: 20.5 MB, less than 7.69% of Python3 online submissions for Binary Search Tree Iterator."
   ]
  },
  {
   "cell_type": "markdown",
   "metadata": {},
   "source": [
    "上面的方案也就是 Solution 中说的 Approach 1: Flattening the BST。构造树需要 O(NLogN)。next 跟 hasNext 都是 O(1)。\n",
    "    "
   ]
  },
  {
   "cell_type": "code",
   "execution_count": null,
   "metadata": {},
   "outputs": [],
   "source": [
    "# 正确的做法应该是使用 Stack（栈！）来进行。\n",
    "\n",
    "class BSTIterator:\n",
    "    # @param root, a binary search tree's root node\n",
    "    def __init__(self, root):\n",
    "        self.stack = list()\n",
    "        self.pushAll(root)\n",
    "\n",
    "    # @return a boolean, whether we have a next smallest number\n",
    "    def hasNext(self):\n",
    "        return self.stack\n",
    "\n",
    "    # @return an integer, the next smallest number\n",
    "    def next(self):\n",
    "        tmpNode = self.stack.pop()\n",
    "        self.pushAll(tmpNode.right)\n",
    "        return tmpNode.val\n",
    "        \n",
    "    def pushAll(self, node):\n",
    "        while node is not None:\n",
    "            self.stack.append(node)\n",
    "            node = node.left\n",
    "            \n"
   ]
  },
  {
   "cell_type": "markdown",
   "metadata": {},
   "source": [
    "来看看这个解决方案：init 的时候，用 O（N）的时间复杂度把他的左儿子全部入栈。然后呢，hasNext 只需要看栈是否见底，O(1)搞定。\n",
    "\n",
    "置于 next，直接 pop 出来之后把右儿子给 push 进去就行。\n",
    "\n",
    "Nice Solution!"
   ]
  }
 ],
 "metadata": {
  "kernelspec": {
   "display_name": "Python 3",
   "language": "python",
   "name": "python3"
  },
  "language_info": {
   "codemirror_mode": {
    "name": "ipython",
    "version": 3
   },
   "file_extension": ".py",
   "mimetype": "text/x-python",
   "name": "python",
   "nbconvert_exporter": "python",
   "pygments_lexer": "ipython3",
   "version": "3.7.4"
  }
 },
 "nbformat": 4,
 "nbformat_minor": 2
}
