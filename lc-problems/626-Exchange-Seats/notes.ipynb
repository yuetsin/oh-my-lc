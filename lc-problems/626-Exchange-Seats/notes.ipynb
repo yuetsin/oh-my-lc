{
 "cells": [
  {
   "cell_type": "markdown",
   "metadata": {},
   "source": [
    "# 626 Exchange Seats\n",
    "\n",
    "\n",
    "Runtime: 431 ms, faster than 46.99% of MySQL online submissions for Exchange Seats.\n",
    "\n",
    "Memory Usage: 0B, less than 100.00% of MySQL online submissions for Exchange Seats.\n",
    "\n",
    "简单的事情用 SQL 做起来…就会无比吃力…\n",
    "\n",
    "而且暴力…并不是「暴力的美」…因为这一点都不美…"
   ]
  }
 ],
 "metadata": {
  "kernelspec": {
   "display_name": "Python 3",
   "language": "python",
   "name": "python3"
  },
  "language_info": {
   "codemirror_mode": {
    "name": "ipython",
    "version": 3
   },
   "file_extension": ".py",
   "mimetype": "text/x-python",
   "name": "python",
   "nbconvert_exporter": "python",
   "pygments_lexer": "ipython3",
   "version": "3.7.6"
  }
 },
 "nbformat": 4,
 "nbformat_minor": 4
}
