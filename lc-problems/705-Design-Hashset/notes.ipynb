{
 "cells": [
  {
   "cell_type": "markdown",
   "metadata": {},
   "source": [
    "# 705 Design Hashset\n",
    "\n",
    "首先，如果用标准库的 set()，那么得到的结果是这样的：\n",
    "\n",
    "Runtime: 152 ms, faster than 92.91% of Python3 online submissions for Design HashSet.\n",
    "\n",
    "Memory Usage: 17.3 MB, less than 53.85% of Python3 online submissions for Design HashSet.\n",
    "\n",
    "留意到这个 Designed Hashset 支持 remove 一个不存在的 element，这时候什么都不做。\n",
    "\n",
    "但是这里，数字的范围限定在 [0, 1000000] 里面…\n",
    "\n",
    "假如我直接开一个 bit vector（C++ 的事实标准中，vector<bool> 每个元素只占用一个 bit。），那这连 1 MiB 的内存都吃不掉。\n",
    "    \n",
    "Python 里 List<bool> 不能做到这么好，但是也完全足够了。\n",
    "    \n",
    "Runtime: 296 ms, faster than 34.71% of Python3 online submissions for Design HashSet.\n",
    "\n",
    "Memory Usage: 39.8 MB, less than 7.69% of Python3 online submissions for Design HashSet.\n",
    "    \n",
    "不愧是 Easy 题…"
   ]
  }
 ],
 "metadata": {
  "kernelspec": {
   "display_name": "Python 3",
   "language": "python",
   "name": "python3"
  },
  "language_info": {
   "codemirror_mode": {
    "name": "ipython",
    "version": 3
   },
   "file_extension": ".py",
   "mimetype": "text/x-python",
   "name": "python",
   "nbconvert_exporter": "python",
   "pygments_lexer": "ipython3",
   "version": "3.7.6"
  }
 },
 "nbformat": 4,
 "nbformat_minor": 4
}
