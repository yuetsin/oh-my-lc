{
 "cells": [
  {
   "cell_type": "code",
   "execution_count": null,
   "metadata": {},
   "outputs": [],
   "source": [
    "很好奇。既然你问说要最短 Ladder 的长度，那么有没有什么更好的办法，除了把最后的结果退化？"
   ]
  },
  {
   "cell_type": "code",
   "execution_count": null,
   "metadata": {},
   "outputs": [],
   "source": [
    "我想有的。至少有这样的一个办法：在 BFS 里面，当我们发现第 N 次的可能变换结果中出现了 endWord，那么就直接 return N 就好了，不必再回溯。"
   ]
  },
  {
   "cell_type": "code",
   "execution_count": null,
   "metadata": {},
   "outputs": [],
   "source": [
    "这道题的确是 Word Ladder II 的先导。我想如果这题放在 #126 前面，可能会更容易知道：应该用 BFS 解法，然后可以更容易扩展到 #126。"
   ]
  },
  {
   "cell_type": "code",
   "execution_count": null,
   "metadata": {},
   "outputs": [],
   "source": [
    "以上"
   ]
  }
 ],
 "metadata": {
  "kernelspec": {
   "display_name": "Python 3",
   "language": "python",
   "name": "python3"
  }
 },
 "nbformat": 4,
 "nbformat_minor": 2
}
