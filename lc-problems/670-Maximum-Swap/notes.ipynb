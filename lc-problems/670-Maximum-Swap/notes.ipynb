{
 "cells": [
  {
   "cell_type": "markdown",
   "metadata": {},
   "source": [
    "# 670 Maximum Swap\n",
    "\n",
    "Runtime: 20 ms, faster than 96.52% of Python3 online submissions for Maximum Swap.\n",
    "\n",
    "Memory Usage: 12.8 MB, less than 100.00% of Python3 online submissions for Maximum Swap.\n",
    "\n",
    "这也能递归？？？.jpg\n",
    "\n",
    "只需要尽可能找到一个最靠右的最大值，把它跟第一个值做交换。假如第一个值就是最大的…那就递归地处理后面的一部分。\n",
    "\n",
    "就这样~"
   ]
  }
 ],
 "metadata": {
  "kernelspec": {
   "display_name": "Python 3",
   "language": "python",
   "name": "python3"
  },
  "language_info": {
   "codemirror_mode": {
    "name": "ipython",
    "version": 3
   },
   "file_extension": ".py",
   "mimetype": "text/x-python",
   "name": "python",
   "nbconvert_exporter": "python",
   "pygments_lexer": "ipython3",
   "version": "3.7.6"
  }
 },
 "nbformat": 4,
 "nbformat_minor": 4
}
