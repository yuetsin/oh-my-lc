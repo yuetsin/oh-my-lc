{
 "cells": [
  {
   "cell_type": "markdown",
   "metadata": {},
   "source": [
    "# 480 Sliding Window Median\n",
    "\n",
    "以 k 为大小的窗口…中的中位数。需要求出来。\n",
    "\n",
    "假如用呆子的方法，时间复杂度就是 O(N * k)。这个是爆炸的。\n",
    "\n",
    "我们还是用一块 O(k) 的内存来保存窗口的大小。但，在此同时保持其有序。\n",
    "\n",
    "这样，往里面插入后续元素、删除前序元素都可以在 O(Log k) 内完成。\n",
    "\n",
    "总的复杂度就变成了 O(N Log k)。\n",
    "\n",
    "Runtime: 112 ms, faster than 96.77% of Python3 online submissions for Sliding Window Median.\n",
    "\n",
    "Memory Usage: 14.2 MB, less than 100.00% of Python3 online submissions for Sliding Window Median.\n",
    "\n",
    "成了。\n",
    "\n",
    "另外…可以直接用标准库里的 heap 啦…不用自己实现一个。"
   ]
  }
 ],
 "metadata": {
  "kernelspec": {
   "display_name": "Python 3",
   "language": "python",
   "name": "python3"
  },
  "language_info": {
   "codemirror_mode": {
    "name": "ipython",
    "version": 3
   },
   "file_extension": ".py",
   "mimetype": "text/x-python",
   "name": "python",
   "nbconvert_exporter": "python",
   "pygments_lexer": "ipython3",
   "version": "3.7.6"
  }
 },
 "nbformat": 4,
 "nbformat_minor": 4
}
