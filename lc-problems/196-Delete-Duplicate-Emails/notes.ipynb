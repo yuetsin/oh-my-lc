{
 "cells": [
  {
   "cell_type": "markdown",
   "metadata": {},
   "source": [
    "# 196\n",
    "\n",
    "DELETE p1 FROM Person p1,\n",
    "    Person p2\n",
    "WHERE\n",
    "    p1.Email = p2.Email AND p1.Id > p2.Id\n",
    "    \n",
    "SQL 重出江湖…\n",
    "\n",
    "直接 JOIN，看谁敢重复我删谁。\n",
    "简单粗暴…\n",
    "\n",
    "另外注意，这里是需要从 Person 表中删除重复记录。\n",
    "而不是把不重复的部分 SELECT 出来。\n",
    "\n",
    "第一句注释稍微有点误导性，因为用了 `query statement`……\n",
    "> # Write your MySQL query statement below\n"
   ]
  }
 ],
 "metadata": {
  "kernelspec": {
   "display_name": "Python 3",
   "language": "python",
   "name": "python3"
  },
  "language_info": {
   "codemirror_mode": {
    "name": "ipython",
    "version": 3
   },
   "file_extension": ".py",
   "mimetype": "text/x-python",
   "name": "python",
   "nbconvert_exporter": "python",
   "pygments_lexer": "ipython3",
   "version": "3.7.4"
  }
 },
 "nbformat": 4,
 "nbformat_minor": 2
}
