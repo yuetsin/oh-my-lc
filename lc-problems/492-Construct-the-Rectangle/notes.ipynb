{
 "cells": [
  {
   "cell_type": "markdown",
   "metadata": {},
   "source": [
    "# 492 Construct the Rectangle\n",
    "\n",
    "这题的意思呢…给出一个面积，让你把他分解成 W * H 的形式。其中要求 W <= H，而且 H - W 尽可能小。\n",
    "\n",
    "题目漏说的条件是，W、H 必须是整数。\n",
    "\n",
    "这题是一个网名「南条爱乃」的中国人提交的…\n",
    "\n",
    "英文表述能力堪忧。用 Length + Width 来表示「长 + 宽」显然是误译…\n",
    "\n",
    "罢了罢了。莫要裁断人。"
   ]
  }
 ],
 "metadata": {
  "kernelspec": {
   "display_name": "Python 3",
   "language": "python",
   "name": "python3"
  },
  "language_info": {
   "codemirror_mode": {
    "name": "ipython",
    "version": 3
   },
   "file_extension": ".py",
   "mimetype": "text/x-python",
   "name": "python",
   "nbconvert_exporter": "python",
   "pygments_lexer": "ipython3",
   "version": "3.7.6"
  }
 },
 "nbformat": 4,
 "nbformat_minor": 4
}
