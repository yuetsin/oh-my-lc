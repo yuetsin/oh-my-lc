{
 "cells": [
  {
   "cell_type": "markdown",
   "metadata": {},
   "source": [
    "# 171\n",
    "fuckin'life.\n",
    "\n",
    "简单说，这是一道数学题，或者说找规律的题。f(n) = 十进制下 n! 末尾 0 的个数。\n",
    "\n",
    "就算是 Python，也没可能用硬乘 n! 的办法来计算 f(n)。1808548329! = ？能算吗？\n",
    "\n",
    "不可能。\n",
    "\n",
    "mine.py 的方法是找规律，O(Log N) 时间复杂度里完成。\n",
    "Runtime: 32 ms, faster than 93.73% of Python3 online submissions for Factorial Trailing Zeroes.\n",
    "Memory Usage: 13.8 MB, less than 10.00% of Python3 online submissions for Factorial Trailing Zeroes.\n",
    "\n",
    "具体的思路如下：\n",
    "\n",
    "首先，末尾 0 的出现只可能为一组质因数 2 * 5 的组合。多一组 2 * 5，末尾就多一个 0。\n",
    "\n",
    "鉴于尾数为 2、4、6、8、0 的阶乘因子都含有 2 这一质因数，简单可以思考出 分解质因数之后，2 的数量远远多于 5。\n",
    "\n",
    "因此我们只要知道了质因数分解之后 5 的个数，就能了解最终 0 的个数。（不用再算 2 有多少个了，肯定用不完的）\n",
    "\n",
    "\n",
    "质因数分解中 5 的个数利用这个公式计算：\n",
    "\n",
    "f(n)=n/5+f(n/5)!\n",
    "\n",
    "因此就有了递归和非递归两种答案。均列于此。"
   ]
  }
 ],
 "metadata": {
  "kernelspec": {
   "display_name": "Python 3",
   "language": "python",
   "name": "python3"
  },
  "language_info": {
   "codemirror_mode": {
    "name": "ipython",
    "version": 3
   },
   "file_extension": ".py",
   "mimetype": "text/x-python",
   "name": "python",
   "nbconvert_exporter": "python",
   "pygments_lexer": "ipython3",
   "version": "3.7.4"
  }
 },
 "nbformat": 4,
 "nbformat_minor": 2
}
