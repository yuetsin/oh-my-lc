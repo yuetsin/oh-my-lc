{
 "cells": [
  {
   "cell_type": "markdown",
   "metadata": {},
   "source": [
    "# 303\n",
    "\n",
    "这题他想让你干什么呢…对了…就是想让你学会 Caching（x）\n",
    "\n",
    "对请求做 (x, y) Caching，正常地球人类做到这一步也就算了。\n",
    "\n",
    "但Approach 3 说，不，这还不够。\n",
    " \n",
    " 他提前计算出了由 0 到 n - 1 所有数字的和；如此这般，一般的求和只需要做一个差就好了。\n",
    " \n",
    " 因为已经知道了一定求的是连续数字的和，因此这样可以把 O(N^2) 的时间复杂度压倒 O(N)，但只是多花一份时间。\n",
    " \n",
    " 巧妙。"
   ]
  }
 ],
 "metadata": {
  "kernelspec": {
   "display_name": "Python 3",
   "language": "python",
   "name": "python3"
  },
  "language_info": {
   "codemirror_mode": {
    "name": "ipython",
    "version": 3
   },
   "file_extension": ".py",
   "mimetype": "text/x-python",
   "name": "python",
   "nbconvert_exporter": "python",
   "pygments_lexer": "ipython3",
   "version": "3.7.4"
  }
 },
 "nbformat": 4,
 "nbformat_minor": 2
}
