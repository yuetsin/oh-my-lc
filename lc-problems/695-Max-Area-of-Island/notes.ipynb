{
 "cells": [
  {
   "cell_type": "markdown",
   "metadata": {},
   "source": [
    "# 695 Max Area of Island\n",
    "\n",
    "Runtime: 120 ms, faster than 98.24% of Python3 online submissions for Max Area of Island.\n",
    "\n",
    "Memory Usage: 15.3 MB, less than 90.91% of Python3 online submissions for Max Area of Island.\n",
    "\n",
    "那不就是 CV 老师 Sun Yan 的分块法吗？\n",
    "\n",
    "用 DFS 过河拆桥当然可以；用 BFS + Stack 也好。可以省一些 Function Call 的代价。"
   ]
  }
 ],
 "metadata": {
  "kernelspec": {
   "display_name": "Python 3",
   "language": "python",
   "name": "python3"
  },
  "language_info": {
   "codemirror_mode": {
    "name": "ipython",
    "version": 3
   },
   "file_extension": ".py",
   "mimetype": "text/x-python",
   "name": "python",
   "nbconvert_exporter": "python",
   "pygments_lexer": "ipython3",
   "version": "3.7.6"
  }
 },
 "nbformat": 4,
 "nbformat_minor": 4
}
