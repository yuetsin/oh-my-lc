{
 "cells": [
  {
   "cell_type": "markdown",
   "metadata": {},
   "source": [
    "# 459 Repeated Substring Pattern\n",
    "\n",
    "走错了思路，Easy 题也能写得一塌糊涂。\n",
    "\n",
    "试图通过 collections.Counter 提前确定循环节的长度。然而事实是你不遍历 String，你不知道他的组合方式是什么。我是猪[Problem #458]。\n",
    "\n",
    "实际上您直接暴力判断有多少个循环节就行了。"
   ]
  }
 ],
 "metadata": {
  "kernelspec": {
   "display_name": "Python 3",
   "language": "python",
   "name": "python3"
  },
  "language_info": {
   "codemirror_mode": {
    "name": "ipython",
    "version": 3
   },
   "file_extension": ".py",
   "mimetype": "text/x-python",
   "name": "python",
   "nbconvert_exporter": "python",
   "pygments_lexer": "ipython3",
   "version": "3.7.6"
  }
 },
 "nbformat": 4,
 "nbformat_minor": 2
}
