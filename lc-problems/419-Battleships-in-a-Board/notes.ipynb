{
 "cells": [
  {
   "cell_type": "markdown",
   "metadata": {},
   "source": [
    "# 419 Battleships in a Board\n",
    "\n",
    "虽然题目描述支离破碎。但是题还是不错。也不难。\n",
    "\n",
    "Runtime: 68 ms, faster than 86.16% of Python3 online submissions for Battleships in a Board.\n",
    "\n",
    "Memory Usage: 13.2 MB, less than 58.33% of Python3 online submissions for Battleships in a Board.\n",
    "\n",
    "基本上就是数出横竖的线有多少条。为了减少 Ambiguity，规定了构成不同线的点不会相邻。\n",
    "\n",
    "扩展题有点意思：用 O(1) 的空间，在不更改原始 Board List 的情况下实现。\n",
    "\n",
    "解决方案是不观察 X，而是观察 '.'（空席）。\n",
    "\n",
    "目的是始终保证找到的是首个 '.'。假如我们找到的 X，他的左边和上面都是 '.'，或者直接挨着边儿了，那就说明是「端点」。\n",
    "\n",
    "找这样的端点就行了。\n",
    "\n",
    "The goal is to only increase the count when you're sure it's the first \"X\" you're seeing from that ship.\n",
    "\n",
    "If you're at the left most cell OR the cell to the left is a \".\" THEN you are sure it's the first ship relative to the left bound.\n",
    "If you're at the top most cell OR the cell above is a \".\" THEN you are sure it's the first ship relative to the upper bound.\n",
    "\n",
    "You need both those conditions to guarantee this is the first time seeing the ship and therefore contributing to your count."
   ]
  },
  {
   "cell_type": "code",
   "execution_count": null,
   "metadata": {},
   "outputs": [],
   "source": [
    "def countBattleships(self, board: List[List[str]]) -> int:\n",
    "    l_n = len(board)\n",
    "    l_m = len(board[0])\n",
    "    \n",
    "    count = 0\n",
    "    \n",
    "    for i in range(l_n):\n",
    "        for j in range(l_m):\n",
    "            if board[i][j] == \".\":\n",
    "                continue\n",
    "            \n",
    "            if (i == 0 or board[i-1][j] == \".\") and (j == 0 or board[i][j-1] == \".\"):\n",
    "                count += 1\n",
    "                \n",
    "    return count"
   ]
  }
 ],
 "metadata": {
  "kernelspec": {
   "display_name": "Python 3",
   "language": "python",
   "name": "python3"
  },
  "language_info": {
   "codemirror_mode": {
    "name": "ipython",
    "version": 3
   },
   "file_extension": ".py",
   "mimetype": "text/x-python",
   "name": "python",
   "nbconvert_exporter": "python",
   "pygments_lexer": "ipython3",
   "version": "3.7.6"
  }
 },
 "nbformat": 4,
 "nbformat_minor": 2
}
