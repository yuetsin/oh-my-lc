{
 "cells": [
  {
   "cell_type": "markdown",
   "metadata": {},
   "source": [
    "# 236\n",
    "\n",
    "比起 #235，这个少了一个条件：这不是一棵 BST 了…：（\n",
    "\n",
    "所以我们没办法用上一题 sample solution 里面的「歧路」法了；任何 Node 可能出现在任何位置。\n",
    "\n",
    "Runtime: 104 ms, faster than 15.88% of Python3 online submissions for Lowest Common Ancestor of a Binary Tree.\n",
    "Memory Usage: 30.5 MB, less than 5.55% of Python3 online submissions for Lowest Common Ancestor of a Binary Tree.\n",
    "\n",
    "平凡的解决方案，每次 traverse 都需要 O(N LogN) 的复杂度。\n",
    "\n",
    "这题的优化点儿只能是尽可能让 traverse 快一些了…没有什么可以避免 traverse 的方法（因为一般二叉树任何 Node 可能出现在任何位置，你不得不遍历一回。）\n",
    "\n",
    "这个 Traverse 妙在可以在遍历的过程中记录每个 Node 的 Parent，为了保证效率用了 Dictionary 来存。（O(1) 的 R/W）\n",
    "\n",
    "这样从下一个往上回溯就不需要用递归 + callee stack 了。直接从 parent dictionary 里头找 pointer，这样可以用栈来解决，大大节约了时间。"
   ]
  },
  {
   "cell_type": "code",
   "execution_count": null,
   "metadata": {},
   "outputs": [],
   "source": [
    "class Solution:\n",
    "\n",
    "    def lowestCommonAncestor(self, root, p, q):\n",
    "        \"\"\"\n",
    "        :type root: TreeNode\n",
    "        :type p: TreeNode\n",
    "        :type q: TreeNode\n",
    "        :rtype: TreeNode\n",
    "        \"\"\"\n",
    "\n",
    "        # Stack for tree traversal\n",
    "        stack = [root]\n",
    "\n",
    "        # Dictionary for parent pointers\n",
    "        parent = {root: None}\n",
    "\n",
    "        # Iterate until we find both the nodes p and q\n",
    "        while p not in parent or q not in parent:\n",
    "\n",
    "            node = stack.pop()\n",
    "\n",
    "            # While traversing the tree, keep saving the parent pointers.\n",
    "            if node.left:\n",
    "                parent[node.left] = node\n",
    "                stack.append(node.left)\n",
    "            if node.right:\n",
    "                parent[node.right] = node\n",
    "                stack.append(node.right)\n",
    "\n",
    "        # Ancestors set() for node p.\n",
    "        ancestors = set()\n",
    "\n",
    "        # Process all ancestors for node p using parent pointers.\n",
    "        while p:\n",
    "            ancestors.add(p)\n",
    "            p = parent[p]\n",
    "\n",
    "        # The first ancestor of q which appears in\n",
    "        # p's ancestor set() is their lowest common ancestor.\n",
    "        while q not in ancestors:\n",
    "            q = parent[q]\n",
    "        return q"
   ]
  }
 ],
 "metadata": {
  "kernelspec": {
   "display_name": "Python 3",
   "language": "python",
   "name": "python3"
  },
  "language_info": {
   "codemirror_mode": {
    "name": "ipython",
    "version": 3
   },
   "file_extension": ".py",
   "mimetype": "text/x-python",
   "name": "python",
   "nbconvert_exporter": "python",
   "pygments_lexer": "ipython3",
   "version": "3.7.4"
  }
 },
 "nbformat": 4,
 "nbformat_minor": 2
}
