{
 "cells": [
  {
   "cell_type": "markdown",
   "metadata": {},
   "source": [
    "# 746 Min Cost Climbing Stairs\n",
    "\n",
    "Runtime: 60 ms, faster than 48.54% of Python3 online submissions for Min Cost Climbing Stairs.\n",
    "\n",
    "Memory Usage: 15.3 MB, less than 7.69% of Python3 online submissions for Min Cost Climbing Stairs.\n",
    "\n",
    "DFS 很简单吧…盗贼偷家问题，之类的。不都是这样吗。\n",
    "\n",
    "这里实际上调用 dfs 的次数是一定的。是 O(N) 的水平。"
   ]
  }
 ],
 "metadata": {
  "kernelspec": {
   "display_name": "Python 3",
   "language": "python",
   "name": "python3"
  },
  "language_info": {
   "codemirror_mode": {
    "name": "ipython",
    "version": 3
   },
   "file_extension": ".py",
   "mimetype": "text/x-python",
   "name": "python",
   "nbconvert_exporter": "python",
   "pygments_lexer": "ipython3",
   "version": "3.7.6"
  }
 },
 "nbformat": 4,
 "nbformat_minor": 4
}
