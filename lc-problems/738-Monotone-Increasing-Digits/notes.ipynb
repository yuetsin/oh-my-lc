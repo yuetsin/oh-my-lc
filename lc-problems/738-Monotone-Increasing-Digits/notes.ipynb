{
 "cells": [
  {
   "cell_type": "markdown",
   "metadata": {},
   "source": [
    "# 738 Monotone Increasing Digits\n",
    "\n",
    "Runtime: 28 ms, faster than 67.91% of Python3 online submissions for Monotone Increasing Digits.\n",
    "\n",
    "Memory Usage: 12.7 MB, less than 100.00% of Python3 online submissions for Monotone Increasing Digits.\n",
    "\n",
    "有的时候吧，Python 字符串不可变还挺恼火的…\n",
    "\n",
    "找到第一个可以满足递增的数字，然后把後面的全部改成 9。\n",
    "\n",
    "这题没啥意思…"
   ]
  }
 ],
 "metadata": {
  "kernelspec": {
   "display_name": "Python 3",
   "language": "python",
   "name": "python3"
  },
  "language_info": {
   "codemirror_mode": {
    "name": "ipython",
    "version": 3
   },
   "file_extension": ".py",
   "mimetype": "text/x-python",
   "name": "python",
   "nbconvert_exporter": "python",
   "pygments_lexer": "ipython3",
   "version": "3.7.6"
  }
 },
 "nbformat": 4,
 "nbformat_minor": 4
}
