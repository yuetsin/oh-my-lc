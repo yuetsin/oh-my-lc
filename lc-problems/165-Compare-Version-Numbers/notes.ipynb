{
 "cells": [
  {
   "cell_type": "code",
   "execution_count": null,
   "metadata": {},
   "outputs": [],
   "source": [
    "倒是一个蛮实用的题目呢……"
   ]
  },
  {
   "cell_type": "code",
   "execution_count": null,
   "metadata": {},
   "outputs": [],
   "source": [
    "bump 版本号的快乐感，大概就在这里了吧"
   ]
  },
  {
   "cell_type": "code",
   "execution_count": null,
   "metadata": {},
   "outputs": [],
   "source": [
    "（虽然本题目被319⬆️1147⬇️），主要原因可能是TestCases 比较反常识吧）"
   ]
  },
  {
   "cell_type": "code",
   "execution_count": null,
   "metadata": {},
   "outputs": [],
   "source": [
    "    def compareVersion(self, version1: str, version2: str) -> int:\n",
    "        \n",
    "        version1 = version1.split(\".\")\n",
    "        version2 = version2.split(\".\")\n",
    "        if len(version1) < len(version2):\n",
    "            version1 += [\"0\"] * (len(version2) - len(version1))\n",
    "        if len(version1) > len(version2):\n",
    "            version2 += [\"0\"] * (len(version1) - len(version2))\n",
    "        for v1, v2 in zip(version1, version2):\n",
    "            if int(v1) < int(v2):\n",
    "                return -1\n",
    "            if int(v2) < int(v1):\n",
    "                return 1\n",
    "        \n",
    "        return 0"
   ]
  }
 ],
 "metadata": {
  "kernelspec": {
   "display_name": "Python 3",
   "language": "python",
   "name": "python3"
  },
  "language_info": {
   "codemirror_mode": {
    "name": "ipython",
    "version": 3
   },
   "file_extension": ".py",
   "mimetype": "text/x-python",
   "name": "python",
   "nbconvert_exporter": "python",
   "pygments_lexer": "ipython3",
   "version": "3.7.3"
  }
 },
 "nbformat": 4,
 "nbformat_minor": 2
}
