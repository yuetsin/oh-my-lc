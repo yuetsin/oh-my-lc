{
 "cells": [
  {
   "cell_type": "markdown",
   "metadata": {},
   "source": [
    "# 700 Search in a Binary Search Tree\n",
    "\n",
    "Runtime: 76 ms, faster than 61.89% of Python3 online submissions for Search in a Binary Search Tree.\n",
    "\n",
    "Memory Usage: 14.6 MB, less than 100.00% of Python3 online submissions for Search in a Binary Search Tree.\n",
    "\n",
    "用 BST 的性质，就能方便地写出 Neat 的解答。\n",
    "\n",
    "实至名归的 Easy 题。"
   ]
  }
 ],
 "metadata": {
  "kernelspec": {
   "display_name": "Python 3",
   "language": "python",
   "name": "python3"
  },
  "language_info": {
   "codemirror_mode": {
    "name": "ipython",
    "version": 3
   },
   "file_extension": ".py",
   "mimetype": "text/x-python",
   "name": "python",
   "nbconvert_exporter": "python",
   "pygments_lexer": "ipython3",
   "version": "3.7.6"
  }
 },
 "nbformat": 4,
 "nbformat_minor": 4
}
