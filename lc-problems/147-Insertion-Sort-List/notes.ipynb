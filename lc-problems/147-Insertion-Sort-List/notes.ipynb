{
 "cells": [
  {
   "cell_type": "code",
   "execution_count": null,
   "metadata": {},
   "outputs": [],
   "source": [
    "这题嘛……我觉得没什么好玩的。插入排序……还不如我全部抽出来 Node List 然后 qsort 来的快。"
   ]
  },
  {
   "cell_type": "code",
   "execution_count": null,
   "metadata": {},
   "outputs": [],
   "source": [
    "Runtime: 52 ms, faster than 99.81% of Python3 online submissions for Insertion Sort List.\n",
    "Memory Usage: 15.1 MB, less than 47.44% of Python3 online submissions for Insertion Sort List."
   ]
  },
  {
   "cell_type": "code",
   "execution_count": null,
   "metadata": {},
   "outputs": [],
   "source": [
    "顺便，用特别的 Key 进行排序的标准方法是：\n",
    "def some_func(elem):\n",
    "    return elem.value\n",
    "\n",
    "然后 lists.sort(key = some_func) 就可以了。"
   ]
  }
 ],
 "metadata": {
  "kernelspec": {
   "display_name": "Python 3",
   "language": "python",
   "name": "python3"
  }
 },
 "nbformat": 4,
 "nbformat_minor": 2
}
