{
 "cells": [
  {
   "cell_type": "code",
   "execution_count": null,
   "metadata": {},
   "outputs": [],
   "source": [
    "这题 II 比起其他的 II 要有水平一些。"
   ]
  },
  {
   "cell_type": "code",
   "execution_count": null,
   "metadata": {},
   "outputs": [],
   "source": [
    "要求求出最少的切片次数。"
   ]
  },
  {
   "cell_type": "code",
   "execution_count": null,
   "metadata": {},
   "outputs": [],
   "source": [
    "思路1:直接按照 #131 的方法得到全部 List[str] 之后求 minlen - 1。这样的结果是……只过了 23/29 个 Test Case。"
   ]
  },
  {
   "cell_type": "code",
   "execution_count": null,
   "metadata": {},
   "outputs": [],
   "source": [
    "看来 #132 的 Time Limit 严苛更多……"
   ]
  },
  {
   "cell_type": "code",
   "execution_count": null,
   "metadata": {},
   "outputs": [],
   "source": [
    "因此我重写了一遍，改成不要把字符串写进 List 里，直接返回数量就可以。合成的时候用 左边的分拆次数 + 右边的分拆次数 + 1（左分右也算一次）。\n",
    "另外如果在 call 的时候就发现是 isPal 就别分拆了。肯定就是最小的了。"
   ]
  },
  {
   "cell_type": "code",
   "execution_count": null,
   "metadata": {},
   "outputs": [],
   "source": [
    "后来还用了 String 作为 Hash 索引的 DP 表，结果！结果！还是超时…"
   ]
  },
  {
   "cell_type": "code",
   "execution_count": null,
   "metadata": {},
   "outputs": [],
   "source": [
    "后来想了一下可能换这种方法更好，就是上次那种「一串连续的数字，有多少种解读可能」。\n",
    "从头到尾往下读，在遇到不对称的时候决定要不要 Cut，看最大值是多少。这种类型可以处理「明显就有很多不可能 Pal 的字符列」的情况。"
   ]
  },
  {
   "cell_type": "code",
   "execution_count": null,
   "metadata": {},
   "outputs": [],
   "source": [
    "这个解法才是对的……\n",
    "Runtime: 4 ms, faster than 99.95% of C++ online submissions for Palindrome Partitioning II.\n",
    "Memory Usage: 8.6 MB, less than 83.52% of C++ online submissions for Palindrome Partitioning II.\n",
    "甚至我怀疑存在数量级的差别（"
   ]
  }
 ],
 "metadata": {
  "kernelspec": {
   "display_name": "Python 3",
   "language": "python",
   "name": "python3"
  }
 },
 "nbformat": 4,
 "nbformat_minor": 2
}
