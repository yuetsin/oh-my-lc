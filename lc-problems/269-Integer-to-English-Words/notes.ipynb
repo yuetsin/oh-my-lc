{
 "cells": [
  {
   "cell_type": "markdown",
   "metadata": {},
   "source": [
    "# 269\n",
    "\n",
    "老实说这种题真的没有什么做的欲望…\n",
    "\n",
    "阿拉伯数字不好吗？\n",
    "\n",
    "英文数字表示跟傻子一样，各种数词变位不规范就算了，and 加不加，在哪儿加自己也没个准信，题目里也讲不清楚，\n",
    "\n",
    "要不是我没付钱就直接…"
   ]
  }
 ],
 "metadata": {
  "kernelspec": {
   "display_name": "Python 3",
   "language": "python",
   "name": "python3"
  },
  "language_info": {
   "codemirror_mode": {
    "name": "ipython",
    "version": 3
   },
   "file_extension": ".py",
   "mimetype": "text/x-python",
   "name": "python",
   "nbconvert_exporter": "python",
   "pygments_lexer": "ipython3",
   "version": "3.7.4"
  }
 },
 "nbformat": 4,
 "nbformat_minor": 2
}
