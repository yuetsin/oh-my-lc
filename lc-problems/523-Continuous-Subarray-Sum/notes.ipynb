{
 "cells": [
  {
   "cell_type": "markdown",
   "metadata": {},
   "source": [
    "# 523 Continuous Subarray Sum\n",
    "\n",
    "怎么快速算出 sum(nums[i:j])？\n",
    "\n",
    "简单：用 O(N) 的空间，开一个数组 sums：sums[i] = sum(nums[:i])。这样，我们只需要用 sums[j] - sums[i] = sum(nums[i:j]) 就能用 O(1) 的复杂度完成计算。\n",
    "\n",
    "这样，总时间复杂度就压缩到了 O(N^2)。\n",
    "\n",
    "Runtime: 1020 ms, faster than 12.85% of Python3 online submissions for Continuous Subarray Sum.\n",
    "\n",
    "Memory Usage: 13.1 MB, less than 100.00% of Python3 online submissions for Continuous Subarray Sum."
   ]
  }
 ],
 "metadata": {
  "kernelspec": {
   "display_name": "Python 3",
   "language": "python",
   "name": "python3"
  },
  "language_info": {
   "codemirror_mode": {
    "name": "ipython",
    "version": 3
   },
   "file_extension": ".py",
   "mimetype": "text/x-python",
   "name": "python",
   "nbconvert_exporter": "python",
   "pygments_lexer": "ipython3",
   "version": "3.7.6"
  }
 },
 "nbformat": 4,
 "nbformat_minor": 4
}
