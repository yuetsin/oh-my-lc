{
 "cells": [
  {
   "cell_type": "code",
   "execution_count": null,
   "metadata": {},
   "outputs": [],
   "source": [
    "恭喜我又喜提了一个 TLE）"
   ]
  },
  {
   "cell_type": "code",
   "execution_count": null,
   "metadata": {},
   "outputs": [],
   "source": [
    "直接照搬 #95，最后求 len() 的方法实在太慢太慢了。不可以接受的慢。到 12 的时候就爆炸了。"
   ]
  },
  {
   "cell_type": "code",
   "execution_count": null,
   "metadata": {},
   "outputs": [],
   "source": [
    "那么，还是一个找规律的题目了？"
   ]
  },
  {
   "cell_type": "code",
   "execution_count": null,
   "metadata": {},
   "outputs": [],
   "source": [
    "在此之前，我们可以进行这些优化：\n",
    "#1. List 既然是共享的，只是从中取切片的不同而已。所以其实我们可以保留一个完整的 List，仅仅通过 int start 和 int end 来访问。\n",
    "可以节约一点点时间。\n",
    "\n",
    "#2. 既然有这么大量的计算量，我们可以使用 DP 来存储已经进行的计算，减少无意义的重复性计算。"
   ]
  },
  {
   "cell_type": "code",
   "execution_count": null,
   "metadata": {},
   "outputs": [],
   "source": [
    "#3. 其实这本身就有规律…"
   ]
  },
  {
   "cell_type": "code",
   "execution_count": null,
   "metadata": {},
   "outputs": [],
   "source": [
    "就跟斐波那契数列一样，我们把n = 0 时赋为1，因为空树也算一种二叉搜索树，那么n = 1时的情况可以看做是其左子树个数乘以右子树的个数，左右字数都是空树，所以1乘1还是1。那么n = 2时，由于1和2都可以为跟，分别算出来，再把它们加起来即可。n = 2的情况可由下面式子算出：\n",
    "\n",
    "dp[2] =  dp[0] * dp[1]　　　(1为根的情况)\n",
    "\n",
    "　　　　+ dp[1] * dp[0]　　  (2为根的情况)\n",
    "\n",
    "同理可写出 n = 3 的计算方法：\n",
    "\n",
    "dp[3] =  dp[0] * dp[2]　　　(1为根的情况)\n",
    "\n",
    "　　　　+ dp[1] * dp[1]　　  (2为根的情况)\n",
    "\n",
    " 　　　  + dp[2] * dp[0]　　  (3为根的情况)\n",
    "\n",
    "由此可以得出卡塔兰数列的递推式为：\n",
    "\n",
    "C_0 = 1 \\quad \\mbox{and} \\quad C_{n+1}=\\sum_{i=0}^{n}C_i\\,C_{n-i}\\quad\\mbox{for }n\\ge 0."
   ]
  },
  {
   "cell_type": "code",
   "execution_count": null,
   "metadata": {},
   "outputs": [],
   "source": [
    "这个数列还挺有意思的…就是没有斐波那契兔子繁殖数列那么直观…还得用二叉树来解释（逃"
   ]
  },
  {
   "cell_type": "code",
   "execution_count": null,
   "metadata": {},
   "outputs": [],
   "source": [
    "# Catalan Number  (2n)!/((n+1)!*n!)  \n",
    "def numTrees(self, n):\n",
    "    return math.factorial(2*n)/(math.factorial(n)*math.factorial(n+1))"
   ]
  }
 ],
 "metadata": {
  "kernelspec": {
   "display_name": "Python 3",
   "language": "python",
   "name": "python3"
  }
 },
 "nbformat": 4,
 "nbformat_minor": 2
}
