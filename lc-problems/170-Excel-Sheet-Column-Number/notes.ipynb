{
 "cells": [
  {
   "cell_type": "markdown",
   "metadata": {},
   "source": [
    "# 170\n",
    "\n",
    "什么是无趣的生活呢？大概就是把几乎一样的题拿来不停做，做完了还得写笔记。\n",
    "\n",
    "但这仅仅是一个 168-Excel-Sheet-Column-Title 的变形…也就是 26 进制转 10 进制而已。想不到什么可以写的。\n",
    "\n",
    "即便如此……也没有写出很高效的解答。\n",
    "\n",
    "Runtime: 44 ms, faster than 23.18% of Python3 online submissions for Excel Sheet Column Number.\n",
    "Memory Usage: 13.9 MB, less than 9.09% of Python3 online submissions for Excel Sheet Column Number.\n",
    "\n",
    "……真绝望。\n",
    "\n",
    "请看参考答案。"
   ]
  },
  {
   "cell_type": "code",
   "execution_count": null,
   "metadata": {},
   "outputs": [],
   "source": [
    "def titleToNumber(s):\n",
    "    return sum((ord(char) - 64) * (26 ** exp) for exp, char in enumerate(s[::-1]))"
   ]
  },
  {
   "cell_type": "markdown",
   "metadata": {},
   "source": [
    "或许有人会对 1 Line Sol 兴奋。我不。"
   ]
  }
 ],
 "metadata": {
  "kernelspec": {
   "display_name": "Python 3",
   "language": "python",
   "name": "python3"
  },
  "language_info": {
   "codemirror_mode": {
    "name": "ipython",
    "version": 3
   },
   "file_extension": ".py",
   "mimetype": "text/x-python",
   "name": "python",
   "nbconvert_exporter": "python",
   "pygments_lexer": "ipython3",
   "version": "3.7.4"
  }
 },
 "nbformat": 4,
 "nbformat_minor": 2
}
