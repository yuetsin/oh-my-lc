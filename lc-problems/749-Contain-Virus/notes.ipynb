{
 "cells": [
  {
   "cell_type": "markdown",
   "metadata": {},
   "source": [
    "# 749 Contain Virus\n",
    "\n",
    "这是 Grid 模型里面的比较难的题了——因为是回合制。\n",
    "\n",
    "城邦分为感染的和未感染的两种。每一天你可以在两个「上下左右」毗邻的城邦之间设立隔离墙。\n",
    "\n",
    "但是只能在那个「有可能感染最多正常城邦」的感染城邦上建（帮你剪枝！）。他保证这里不会有 tie（相等的为难情况）。\n",
    "\n",
    "而在每次建墙之后，感染的病毒都会往上下左右四个方向上扩散病毒（如果没有墙的话）。\n",
    "\n",
    "问最后达到一个无墙可再建（可能是病毒被围住了，也可能是全世界都被感染了）的情况下，最少需要几天。\n",
    "\n",
    "然后，你发现了吗？实际上我们能做的只有建墙。而且，建墙的城邦已经被指定了（那个周围未感染城邦最多的城邦。只能在那里筑墙。）。又因为，没有必要在两个已经感染的城邦之间筑墙，因此可能的筑墙选择只有 1 ～ 4 种。\n",
    "\n",
    "实际上是一个不那么费事的 DFS。因为条件已经被小心地限制了。"
   ]
  }
 ],
 "metadata": {
  "kernelspec": {
   "display_name": "Python 3",
   "language": "python",
   "name": "python3"
  },
  "language_info": {
   "codemirror_mode": {
    "name": "ipython",
    "version": 3
   },
   "file_extension": ".py",
   "mimetype": "text/x-python",
   "name": "python",
   "nbconvert_exporter": "python",
   "pygments_lexer": "ipython3",
   "version": "3.7.6"
  }
 },
 "nbformat": 4,
 "nbformat_minor": 4
}
