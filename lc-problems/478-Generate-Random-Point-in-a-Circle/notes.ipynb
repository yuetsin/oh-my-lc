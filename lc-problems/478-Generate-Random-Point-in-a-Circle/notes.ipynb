{
 "cells": [
  {
   "cell_type": "markdown",
   "metadata": {},
   "source": [
    "# 478 Generate Random Point in a Circle\n",
    "\n",
    "烂题…\n",
    "\n",
    "@beetle_b says:\n",
    "\n",
    "I didn't like this problem because:\n",
    "\n",
    "Mathematically, there are not more points in a larger circle than in a smaller one.\n",
    "\n",
    "Just as there aren't more points in [0,2] than in [0,1].\n",
    "Just as there aren't more points in [0,1] than in [0,1]x[0,1] (i.e. the number of points in the interval [0,1] is same as in the unit square.\n",
    "\n",
    "As counterintuitive as it is, this is pretty well established.\n",
    "\n",
    "See https://www.storyofmathematics.com/19th_cantor.html and https://math.stackexchange.com/questions/467407/number-of-points-on-two-circles\n",
    "\n",
    "Now when dealing with a finite set of floating point numbers, then yes - it's easy to show there are more floating point coordinates in a larger circle because we've discretized the space. But that wasn't clear from the problem statement...\n",
    "\n",
    "总归…用（有限精度的浮点数）来表示点，自然可以有所谓的 Uniformed。然而在数学里并没有。\n",
    "\n",
    "但如果要贴近这个题目的意思…我们只好给每个 Radius 分配不同的权重，这个权重等于圆弧的周长，等于圆弧的半径（Pi 比例）。用 random.uniform 就可以了。\n",
    "\n",
    "答案在 sample_``fixed''.py 里面。\n",
    "\n",
    "fixed 加引号是因为我觉得我的答案并没有什么需要 Fix 的地方。\n",
    "\n",
    "谁叫题干不说清楚（丢锅，逃"
   ]
  }
 ],
 "metadata": {
  "kernelspec": {
   "display_name": "Python 3",
   "language": "python",
   "name": "python3"
  },
  "language_info": {
   "codemirror_mode": {
    "name": "ipython",
    "version": 3
   },
   "file_extension": ".py",
   "mimetype": "text/x-python",
   "name": "python",
   "nbconvert_exporter": "python",
   "pygments_lexer": "ipython3",
   "version": "3.7.6"
  }
 },
 "nbformat": 4,
 "nbformat_minor": 4
}
