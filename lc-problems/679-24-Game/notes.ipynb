{
 "cells": [
  {
   "cell_type": "markdown",
   "metadata": {},
   "source": [
    "# 679 24 Game\n",
    "\n",
    "这个 24 点比较困难一些——可以交换次序，可以加括号。\n",
    "\n",
    "最暴力的方案在这里其实还是最好的。\n",
    "\n",
    "我们随便排布四种运算符号，按照任意的次序。\n",
    "\n",
    "一共也就 12 * 6 * 2 * 4 * 4 = 9216 种可能性。\n",
    "\n",
    "我们直接遍历就好了…"
   ]
  }
 ],
 "metadata": {
  "kernelspec": {
   "display_name": "Python 3",
   "language": "python",
   "name": "python3"
  },
  "language_info": {
   "codemirror_mode": {
    "name": "ipython",
    "version": 3
   },
   "file_extension": ".py",
   "mimetype": "text/x-python",
   "name": "python",
   "nbconvert_exporter": "python",
   "pygments_lexer": "ipython3",
   "version": "3.7.6"
  }
 },
 "nbformat": 4,
 "nbformat_minor": 4
}
