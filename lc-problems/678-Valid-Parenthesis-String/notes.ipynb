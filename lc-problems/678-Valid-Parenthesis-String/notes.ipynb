{
 "cells": [
  {
   "cell_type": "markdown",
   "metadata": {},
   "source": [
    "# 678 Valid Parenthesis String\n",
    "\n",
    "Runtime: 32 ms, faster than 29.80% of Python3 online submissions for Valid Parenthesis String.\n",
    "\n",
    "Memory Usage: 13.5 MB, less than 28.57% of Python3 online submissions for Valid Parenthesis String.\n",
    "\n",
    "很简单地用一个 Cache + Recursive 就好了。\n",
    "\n",
    "Key 只需要 (since: int, depth: int) 就好了。"
   ]
  }
 ],
 "metadata": {
  "kernelspec": {
   "display_name": "Python 3",
   "language": "python",
   "name": "python3"
  },
  "language_info": {
   "codemirror_mode": {
    "name": "ipython",
    "version": 3
   },
   "file_extension": ".py",
   "mimetype": "text/x-python",
   "name": "python",
   "nbconvert_exporter": "python",
   "pygments_lexer": "ipython3",
   "version": "3.7.6"
  }
 },
 "nbformat": 4,
 "nbformat_minor": 4
}
