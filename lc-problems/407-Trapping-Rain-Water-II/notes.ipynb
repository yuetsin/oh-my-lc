{
 "cells": [
  {
   "cell_type": "markdown",
   "metadata": {},
   "source": [
    "# 407\n",
    "\n",
    "积水问题的三维版本。\n",
    "\n",
    "这里有一个绝好的 O(n log n) 解。\n",
    "\n",
    "我们模拟一下下雨时後发生的事情。雨水总是从最低处积累起来，最后到达一个稳定值，即积水的最大值。\n",
    "\n",
    "首先存储 (x, y) <=> height[x][y] 映射对，并使用最小化的 Heap 来存储它，以便我们总能从堆头拿出值最小（对应空间位置最低的那格）。\n",
    "另外留意到 Map 边缘不可以积累任何水（都会流开），所以把他们直接初始化为底部高度值。\n",
    "\n",
    "拿出来之後，我们应当检查他的邻居们的 water_top（水位线，不能超过的限定值）。假如会产生溢出，那么就拒绝这个值，并直接把这个点从 Mapping 对中删掉。它不可能再积累更多水了。\n",
    "\n",
    "否则假如这个值可以安稳地装下，那么就把这个新值作为这一点的高度（把水变成水泥填满，并记录下填满的空间有多大），更新 Heap，再次从高度最低的地方继续。\n",
    "\n",
    "如此这般，直到没有可以更新的值，即结束。"
   ]
  }
 ],
 "metadata": {
  "kernelspec": {
   "display_name": "Python 3",
   "language": "python",
   "name": "python3"
  },
  "language_info": {
   "codemirror_mode": {
    "name": "ipython",
    "version": 3
   },
   "file_extension": ".py",
   "mimetype": "text/x-python",
   "name": "python",
   "nbconvert_exporter": "python",
   "pygments_lexer": "ipython3",
   "version": "3.7.6"
  }
 },
 "nbformat": 4,
 "nbformat_minor": 2
}
