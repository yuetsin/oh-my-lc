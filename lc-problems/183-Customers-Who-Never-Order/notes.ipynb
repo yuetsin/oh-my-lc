{
 "cells": [
  {
   "cell_type": "markdown",
   "metadata": {},
   "source": [
    "# 183\n",
    "\n",
    "写得非常痛苦。是心情原因，我的猜测。\n",
    "\n",
    "总之要留意：Name 可能重复，但 CustomerId 不会。因此所有查重操作都应该先对 CustomerId 操作，然后再投影到 Name 上。\n",
    "\n",
    "select customers.name as 'Customers'\n",
    "from customers\n",
    "where customers.id not in\n",
    "(\n",
    "    select customerid from orders\n",
    ");\n",
    "\n",
    "标答不出所料比我的简单干净。完全没必要进行聚合操作的…我是傻了。\n",
    "\n",
    "我对不起蒋建伟老师。"
   ]
  }
 ],
 "metadata": {
  "kernelspec": {
   "display_name": "Python 3",
   "language": "python",
   "name": "python3"
  },
  "language_info": {
   "codemirror_mode": {
    "name": "ipython",
    "version": 3
   },
   "file_extension": ".py",
   "mimetype": "text/x-python",
   "name": "python",
   "nbconvert_exporter": "python",
   "pygments_lexer": "ipython3",
   "version": "3.7.4"
  }
 },
 "nbformat": 4,
 "nbformat_minor": 2
}
