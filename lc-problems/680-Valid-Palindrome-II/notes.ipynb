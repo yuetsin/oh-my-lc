{
 "cells": [
  {
   "cell_type": "markdown",
   "metadata": {},
   "source": [
    "# 680 Valid Palindrome II\n",
    "\n",
    "简单。两根指针，一根从左一根从右往中间走。遇到一样的就可以各自往里走一步；遇到不同的，就根据下一个值决定一下移动哪一位。\n",
    "\n",
    "如果遇到「走不下去的情况」超过 1 次，那就直接再见。"
   ]
  }
 ],
 "metadata": {
  "kernelspec": {
   "display_name": "Python 3",
   "language": "python",
   "name": "python3"
  },
  "language_info": {
   "codemirror_mode": {
    "name": "ipython",
    "version": 3
   },
   "file_extension": ".py",
   "mimetype": "text/x-python",
   "name": "python",
   "nbconvert_exporter": "python",
   "pygments_lexer": "ipython3",
   "version": "3.7.6"
  }
 },
 "nbformat": 4,
 "nbformat_minor": 4
}
