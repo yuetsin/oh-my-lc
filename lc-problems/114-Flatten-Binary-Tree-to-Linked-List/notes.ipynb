{
 "cells": [
  {
   "cell_type": "code",
   "execution_count": null,
   "metadata": {},
   "outputs": [],
   "source": [
    "Flatten: 啥意思呢？把一个二叉树给退化成一个链表。\n",
    "按照前序顺序（⬅️这句话题目没有明说，但是看条件可以推断出来），把整个二叉树给拍扁成一个简单链表。"
   ]
  },
  {
   "cell_type": "code",
   "execution_count": null,
   "metadata": {},
   "outputs": [],
   "source": [
    "因为 Python 对于这种 Reference Class 在传递的时候都是指针传递，因此直接开一个 List 往里面放前序遍历的结果，指针数组。\n",
    "然后一个个修正指针就可以了。（空间复杂度爆炸算法）\n",
    "\n",
    "\n",
    "225 / 225 test cases passed.\n",
    "Status: Accepted\n",
    "Runtime: 40 ms\n",
    "Memory Usage: 13.6 MB"
   ]
  },
  {
   "cell_type": "code",
   "execution_count": null,
   "metadata": {},
   "outputs": [],
   "source": [
    "C++ Sample, (@zjulyx)，无递归，无额外空间。"
   ]
  }
 ],
 "metadata": {
  "kernelspec": {
   "display_name": "Python 3",
   "language": "python",
   "name": "python3"
  }
 },
 "nbformat": 4,
 "nbformat_minor": 2
}
