{
 "cells": [
  {
   "cell_type": "markdown",
   "metadata": {},
   "source": [
    "# 654 Maximum Binary Tree\n",
    "\n",
    "Runtime: 240 ms, faster than 33.41% of Python3 online submissions for Maximum Binary Tree.\n",
    "\n",
    "Memory Usage: 13 MB, less than 100.00% of Python3 online submissions for Maximum Binary Tree.\n",
    "\n",
    "Easy one.\n",
    "\n",
    "简单的 Recursive。"
   ]
  }
 ],
 "metadata": {
  "kernelspec": {
   "display_name": "Python 3",
   "language": "python",
   "name": "python3"
  },
  "language_info": {
   "codemirror_mode": {
    "name": "ipython",
    "version": 3
   },
   "file_extension": ".py",
   "mimetype": "text/x-python",
   "name": "python",
   "nbconvert_exporter": "python",
   "pygments_lexer": "ipython3",
   "version": "3.7.6"
  }
 },
 "nbformat": 4,
 "nbformat_minor": 4
}
