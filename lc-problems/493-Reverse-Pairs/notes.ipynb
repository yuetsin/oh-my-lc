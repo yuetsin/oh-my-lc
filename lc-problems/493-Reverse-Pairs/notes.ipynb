{
 "cells": [
  {
   "cell_type": "markdown",
   "metadata": {},
   "source": [
    "# 493 Reverse Pairs\n",
    "\n",
    "求所有满足 i < j and nums[i] > 2*nums[j] 的 (i, j) 对。\n",
    "\n",
    "直接遍历所有的对，结果就是 O(N^2) 的。\n",
    "\n",
    "但是，如果我们从右往左遍历，并且把所有经过的数字都保存在一个有序表里，那么就可以在平均 O（Log N）的时间里完成新值的插入和 Pair 数计算。\n",
    "\n",
    "这样，用 O(N) 的空间换来了总复杂度降低到 O(N LogN)。"
   ]
  }
 ],
 "metadata": {
  "kernelspec": {
   "display_name": "Python 3",
   "language": "python",
   "name": "python3"
  },
  "language_info": {
   "codemirror_mode": {
    "name": "ipython",
    "version": 3
   },
   "file_extension": ".py",
   "mimetype": "text/x-python",
   "name": "python",
   "nbconvert_exporter": "python",
   "pygments_lexer": "ipython3",
   "version": "3.7.6"
  }
 },
 "nbformat": 4,
 "nbformat_minor": 4
}
