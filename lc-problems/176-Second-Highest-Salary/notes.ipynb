{
 "cells": [
  {
   "cell_type": "markdown",
   "metadata": {},
   "source": [
    "# 176\n",
    "\n",
    "新题型的开头总是亲切的…\n",
    "\n",
    "「获取工资第二高的员工的工资」意义在哪里我就不问了\n",
    "\n",
    "提供的 TestCase 里有一个只有一个员工的 Case 我觉得也还能接受（最多不给返回值就好了\n",
    "\n",
    "\n",
    "结果这两种返回值您居然觉得不一样？\n",
    "\n",
    "{\"headers\":[\"SecondHighestSalary\"],\"values\":[]}\n",
    "{\"headers\":[\"SecondHighestSalary\"],\"values\":[[null]]}\n",
    "\n",
    "LIMIT 1, 1 在值不足的时候就是不给值啊我有什么办法"
   ]
  },
  {
   "cell_type": "markdown",
   "metadata": {},
   "source": [
    "当然还有些另外的解法：\n",
    "\n",
    "SELECT\n",
    "    (SELECT DISTINCT\n",
    "            Salary\n",
    "        FROM\n",
    "            Employee\n",
    "        ORDER BY Salary DESC\n",
    "        LIMIT 1 OFFSET 1) AS SecondHighestSalary\n",
    ";\n",
    "\n",
    "LIMIT 1 OFFSET 1 和 LIMIT 1,1 一毛一样……只是这里外面再 SELECT了一次。好吧……我的确写的不对……"
   ]
  },
  {
   "cell_type": "markdown",
   "metadata": {},
   "source": [
    "还有手写判断语句的\n",
    "\n",
    "SELECT MAX(Salary) as SecondHighestSalary\n",
    "FROM Employee\n",
    "WHERE Salary <\n",
    "(SELECT MAX(Salary)\n",
    "FROM Employee);"
   ]
  },
  {
   "cell_type": "code",
   "execution_count": null,
   "metadata": {},
   "outputs": [],
   "source": [
    "……总之都可以吧……没脾气"
   ]
  }
 ],
 "metadata": {
  "kernelspec": {
   "display_name": "Python 3",
   "language": "python",
   "name": "python3"
  },
  "language_info": {
   "codemirror_mode": {
    "name": "ipython",
    "version": 3
   },
   "file_extension": ".py",
   "mimetype": "text/x-python",
   "name": "python",
   "nbconvert_exporter": "python",
   "pygments_lexer": "ipython3",
   "version": "3.7.4"
  }
 },
 "nbformat": 4,
 "nbformat_minor": 2
}
