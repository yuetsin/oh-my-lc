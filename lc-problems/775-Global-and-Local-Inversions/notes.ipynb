{
 "cells": [
  {
   "cell_type": "markdown",
   "metadata": {},
   "source": [
    "# 775 Global and Local Inversions\n",
    "\n",
    "完全可以被归类为 Easy…\n",
    "\n",
    "Runtime: 352 ms, faster than 94.50% of Python3 online submissions for Global and Local Inversions.\n",
    "\n",
    "Memory Usage: 13.5 MB, less than 50.00% of Python3 online submissions for Global and Local Inversions.\n",
    "\n",
    "首先，给了两个新鲜的定义——其实也没什么新鲜的，The number of (global) inversions is the number of i < j with 0 <= i < j < N and A[i] > A[j]. And the number of local inversions is the number of i with 0 <= i < N and A[i] > A[i+1].\n",
    "\n",
    "简单说，Local 逆序对就是 global 逆序对的 distance = 1 的特殊情况。\n",
    "\n",
    "那么，你考虑一下，要让「Local 逆序对」的数量等于「Global 逆序对」的数量，也就是所有的逆序对都要是 Local 的。\n",
    "\n",
    "也就是，所有的逆序对之间的 distance 都是 1。\n",
    "\n",
    "也就是说，这个 Perfect Perm 是通过交换两个相邻元素得到的，而且没有一个元素会被交换多次。\n",
    "\n",
    "代码就很好写啦。直接比较产生 offset 的差，只能是 0（没有被交换）、1（被往高位交换了一次）、-1（被往低位交换了一次）。否则就一定会产生非 Local 的 Inversion。"
   ]
  }
 ],
 "metadata": {
  "kernelspec": {
   "display_name": "Python 3",
   "language": "python",
   "name": "python3"
  },
  "language_info": {
   "codemirror_mode": {
    "name": "ipython",
    "version": 3
   },
   "file_extension": ".py",
   "mimetype": "text/x-python",
   "name": "python",
   "nbconvert_exporter": "python",
   "pygments_lexer": "ipython3",
   "version": "3.7.6"
  }
 },
 "nbformat": 4,
 "nbformat_minor": 2
}
