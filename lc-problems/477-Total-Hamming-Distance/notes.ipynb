{
 "cells": [
  {
   "cell_type": "markdown",
   "metadata": {},
   "source": [
    "# 477 Total Hamming Distance\n",
    "\n",
    "每次遇到一个扩展题，就回去翻旧代码改一改试图通过…… 这可是不行的。\n",
    "\n",
    "比如这里……虽然每一次求汉明距离的算法都是 O(1) 的，但是总的时间复杂度还是 O(N^2)，因为有一个「两两比较」的过程。还是不可以接受。\n",
    "\n",
    "正解是只允许线性时间复杂度的。\n",
    "\n",
    "解决方案是只进行一次遍历，或者说，对每一个 Bit 只进行一次遍历。\n",
    "\n",
    "用 Bit mask 掩码取出需要的位，遍历所有的数字来得到其出现次数。这会使得总的汉明距离增加 counter * (nums_len - counter)。\n",
    "\n",
    "出现位数 × 不出现位数。因为 Hamming Distance 的意义就是：一个存在的位和不存在的位造成一个单位汉明距离。\n",
    "\n",
    "这样的时间复杂度就是 O(N)。因为数字长就是 32 位，不会增长。"
   ]
  }
 ],
 "metadata": {
  "kernelspec": {
   "display_name": "Python 3",
   "language": "python",
   "name": "python3"
  },
  "language_info": {
   "codemirror_mode": {
    "name": "ipython",
    "version": 3
   },
   "file_extension": ".py",
   "mimetype": "text/x-python",
   "name": "python",
   "nbconvert_exporter": "python",
   "pygments_lexer": "ipython3",
   "version": "3.7.6"
  }
 },
 "nbformat": 4,
 "nbformat_minor": 4
}
