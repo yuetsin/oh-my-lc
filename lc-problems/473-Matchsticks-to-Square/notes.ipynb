{
 "cells": [
  {
   "cell_type": "markdown",
   "metadata": {},
   "source": [
    "# 473 Matchsticks to Square\n",
    "\n",
    "这题我写出了一个……爆炸性的 TLE……\n",
    "\n",
    "她的时间复杂度…是…O(4 ^ n)…\n",
    "\n",
    "思路是 DFS 地往四条边上放火柴。\n",
    "\n",
    "上过算法课的人写出这种算法，当撞墙自尽。\n",
    "\n",
    "事实上他走到 [16,8,8,8,5,1,16,3,11,1,11,12,20,6,6] 这个 Case 就爆炸了…"
   ]
  },
  {
   "cell_type": "code",
   "execution_count": null,
   "metadata": {},
   "outputs": [],
   "source": [
    "#!/usr/bin/env python\n",
    "\n",
    "from functools import lru_cache\n",
    "\n",
    "\n",
    "class Solution:\n",
    "    def makesquare(self, nums: List[int]) -> bool:\n",
    "        if nums == []:\n",
    "            return False\n",
    "\n",
    "        sumup = sum(nums)\n",
    "        numcnts = len(nums)\n",
    "\n",
    "        if sumup % 4 != 0:\n",
    "            return False\n",
    "\n",
    "        target = sumup // 4\n",
    "\n",
    "        if max(nums) > target:\n",
    "            return False\n",
    "\n",
    "        @lru_cache(maxsize=1000)\n",
    "        def dfs(idx: int, l1: int = 0, l2: int = 0, l3: int = 0, l4: int = 0) -> bool:\n",
    "            if idx == numcnts:\n",
    "                return l1 == l2 and l2 == l3 and l3 == l4\n",
    "            return dfs(idx + 1, l1 + nums[idx], l2, l3, l4) or dfs(idx + 1, l1, l2 + nums[idx], l3, l4) or dfs(idx + 1, l1, l2, l3 + nums[idx], l4) or dfs(idx + 1, l1, l2, l3, l4 + nums[idx])\n",
    "\n",
    "        return dfs(0)\n"
   ]
  },
  {
   "cell_type": "markdown",
   "metadata": {},
   "source": [
    "好吧，咱们还是好好看看有没有什么可优化的点。\n",
    "\n",
    "首先，lru_cache 几乎不可能命中，这时候加这个只是浪费空间而已。而且，我们没必要拷贝大量的 l1 - l4，而是可以通过一个全局值来存放。\n",
    "因为每一个 dfs 都可以在需要的时候撤销自己带来的影响（放上去的那一根火柴）。\n",
    "\n",
    "另外，假如放上一根火柴会使得长度超限，那就不要 call 这个 dfs。\n",
    "\n",
    "经过这些比较浅显的优化之后，还是会爆炸。\n",
    "\n",
    "这里有个 Trick：我们先做逆向排序，尽可能先放长木棍。\n",
    "\n",
    "首先，这个改变不会影响正确性（显然），能组成的还是能组成。\n",
    "\n",
    "但是，trying a longer matchstick first will get to negative conclusion earlier.\n",
    "\n",
    "先尝试比较长的火柴，那么那些「不可能组合」暴露得就越快。一些边的长度会最快地超过平均水准，这会使得无法再放置木棍。"
   ]
  }
 ],
 "metadata": {
  "kernelspec": {
   "display_name": "Python 3",
   "language": "python",
   "name": "python3"
  },
  "language_info": {
   "codemirror_mode": {
    "name": "ipython",
    "version": 3
   },
   "file_extension": ".py",
   "mimetype": "text/x-python",
   "name": "python",
   "nbconvert_exporter": "python",
   "pygments_lexer": "ipython3",
   "version": "3.7.6"
  }
 },
 "nbformat": 4,
 "nbformat_minor": 4
}
