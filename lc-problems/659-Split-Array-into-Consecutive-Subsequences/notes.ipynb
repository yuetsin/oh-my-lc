{
 "cells": [
  {
   "cell_type": "markdown",
   "metadata": {},
   "source": [
    "# 659 Split Array into Consecutive Subsequences\n",
    "\n",
    "我误解了题目意思，以为是把 Array 拆成几个等差数列…\n",
    "\n",
    "其实题目更简单，要求一定「连续」，也就是强要公差为 1 的等差数列…\n",
    "\n",
    "那我还存 List 干嘛？那么慢？\n",
    "\n",
    "直接存在一个 Dict 里，key 是当前值，value 是长度不就好了？\n",
    "\n",
    "出现撞 key 的情况的话，我们尽量把它贴到长度较小的那个 Array 上。\n",
    "\n",
    "因为我们的目的不是把链拉长，而是使得短链尽可能少（否则就无法覆盖完全元素了。\n",
    "\n",
    "又因为给出来的 Array 是 sorted 了…在「公差一定为 1」的情况下实际上不需要我这样的遍历-搜寻的办法了。\n",
    "\n",
    "if there is a sequence ending with e-1: e can append to exsiting sequence with the shortest length, because we want to maximum the length of each sequence\n",
    "\n",
    "if there is no sequence ending with e-1: create a new sequence d is a dictionary which can help find e-1 easily. The key of d is the end of sequence, the value of d is a heap. This heap stores all the length of sequences ending with e-1.\n",
    "\n",
    "我傻死了（"
   ]
  }
 ],
 "metadata": {
  "kernelspec": {
   "display_name": "Python 3",
   "language": "python",
   "name": "python3"
  },
  "language_info": {
   "codemirror_mode": {
    "name": "ipython",
    "version": 3
   },
   "file_extension": ".py",
   "mimetype": "text/x-python",
   "name": "python",
   "nbconvert_exporter": "python",
   "pygments_lexer": "ipython3",
   "version": "3.7.6"
  }
 },
 "nbformat": 4,
 "nbformat_minor": 4
}
