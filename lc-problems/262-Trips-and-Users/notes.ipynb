{
 "cells": [
  {
   "cell_type": "markdown",
   "metadata": {},
   "source": [
    "# 262\n",
    "\n",
    "此题比较无聊的是在题干里加了很多无聊的限制，而这些基本上都没什么意义。\n",
    "\n",
    "比如说，强行要求了 Date 在 2013-10-01 - 2013-10-03 之间（显然这已经严重过时了），以及保留两位小数（这你在题干里也没讲就直接拿来 Judge）\n",
    "\n",
    "不过还是记录一下：\n",
    "判断 Date 在某个范围内用：\n",
    "\n",
    "Day BETWEEN '2013-10-01' AND '2013-10-03'\n",
    "\n",
    "保留两位小数的方法：\n",
    "\n",
    "Round(Number, 2)"
   ]
  }
 ],
 "metadata": {
  "kernelspec": {
   "display_name": "Python 3",
   "language": "python",
   "name": "python3"
  },
  "language_info": {
   "codemirror_mode": {
    "name": "ipython",
    "version": 3
   },
   "file_extension": ".py",
   "mimetype": "text/x-python",
   "name": "python",
   "nbconvert_exporter": "python",
   "pygments_lexer": "ipython3",
   "version": "3.7.4"
  }
 },
 "nbformat": 4,
 "nbformat_minor": 2
}
