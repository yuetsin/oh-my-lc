{
 "cells": [
  {
   "cell_type": "markdown",
   "metadata": {},
   "source": [
    "# 704 Binary Search\n",
    "\n",
    "Runtime: 264 ms, faster than 55.99% of Python3 online submissions for Binary Search.\n",
    "\n",
    "Memory Usage: 13.9 MB, less than 100.00% of Python3 online submissions for Binary Search.\n",
    "\n",
    "这题没按要求。没用二分法。\n",
    "\n",
    "我说，你就最多一万个数字你遍历一遍又能怎么样呢？"
   ]
  }
 ],
 "metadata": {
  "kernelspec": {
   "display_name": "Python 3",
   "language": "python",
   "name": "python3"
  },
  "language_info": {
   "codemirror_mode": {
    "name": "ipython",
    "version": 3
   },
   "file_extension": ".py",
   "mimetype": "text/x-python",
   "name": "python",
   "nbconvert_exporter": "python",
   "pygments_lexer": "ipython3",
   "version": "3.7.6"
  }
 },
 "nbformat": 4,
 "nbformat_minor": 4
}
