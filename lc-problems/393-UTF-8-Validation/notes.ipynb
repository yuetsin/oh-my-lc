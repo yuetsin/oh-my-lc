{
 "cells": [
  {
   "cell_type": "markdown",
   "metadata": {},
   "source": [
    "# 393\n",
    "\n",
    "Validate UTF-8... 听起来我又可以 call Python 库了。\n",
    "\n",
    "好遗憾的是，题目里面，不明白是出于什么目的，并没有用标准的 UTF-8。这是个 LeetCode Fork。\n",
    "\n",
    "Your problem specification, and the UTF-8 standard (https://tools.ietf.org/html/rfc3629) both define what set of codes can be encoded in each number of bytes. Your problem statement even has a big chart that says, \"This is how the UTF-8 encoding would work:\"\n",
    "\n",
    "However, your \"solution\", and the online judge, fail to check this and fail to reject invalid encodings, and mark our solutions as incorrect if they actually do correctly check this.\n",
    "\n",
    "For example, character 63 ('?', or 0x3F, or 0b0011111) is only correctly encoded as a single byte, [63]. Your solution & online judge will accept an encoding of [192,191] for this, and will mark wrong our implementations if they correctly reject this invalid overlong encoding.\n",
    "\n",
    "但总归，思路是一样的。\n",
    "\n",
    "要么转成 String 按照 Character 操作；要么直接对 Int 进行位操作。\n",
    "\n",
    "（在 Python，尤其是 Python 3 里头做位操作太危险。）附上一份 C Solution."
   ]
  }
 ],
 "metadata": {
  "kernelspec": {
   "display_name": "Python 3",
   "language": "python",
   "name": "python3"
  },
  "language_info": {
   "codemirror_mode": {
    "name": "ipython",
    "version": 3
   },
   "file_extension": ".py",
   "mimetype": "text/x-python",
   "name": "python",
   "nbconvert_exporter": "python",
   "pygments_lexer": "ipython3",
   "version": "3.7.4"
  }
 },
 "nbformat": 4,
 "nbformat_minor": 2
}
