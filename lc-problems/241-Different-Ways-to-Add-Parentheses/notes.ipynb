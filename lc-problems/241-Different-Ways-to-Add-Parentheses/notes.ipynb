{
 "cells": [
  {
   "cell_type": "markdown",
   "metadata": {},
   "source": [
    "# 241\n",
    "\n",
    "题目比较奇妙。\n",
    "\n",
    "总的来说，如果忽略所有的运算符号优先级，一共可以得到的不同结果。\n",
    "\n",
    "事实上看了一下给的 Example，發现很奇怪的：有些数值重复了，有些却没有。重复的条件是什么？\n",
    "\n",
    "只要采用这种算法：\n",
    "\n",
    "对于每个式子，都根据运算符号进行拆分。左边和右边，分别递归地调用自己，然后拼合在一起。\n",
    "\n",
    "没有运算符号时，返回唯一的值。\n",
    "\n",
    "Runtime: 36 ms, faster than 92.67% of Python3 online submissions for Different Ways to Add Parentheses.\n",
    "Memory Usage: 13.8 MB, less than 11.11% of Python3 online submissions for Different Ways to Add Parentheses.\n",
    "\n",
    "基本就是这么个思路。\n",
    "\n",
    "（注意 mine_wrong: 里面的算法强行限定了只能左结合／右结合，没考虑可以从中间分开的情况，写了一长串烂代码（别看）"
   ]
  }
 ],
 "metadata": {
  "kernelspec": {
   "display_name": "Python 3",
   "language": "python",
   "name": "python3"
  },
  "language_info": {
   "codemirror_mode": {
    "name": "ipython",
    "version": 3
   },
   "file_extension": ".py",
   "mimetype": "text/x-python",
   "name": "python",
   "nbconvert_exporter": "python",
   "pygments_lexer": "ipython3",
   "version": "3.7.4"
  }
 },
 "nbformat": 4,
 "nbformat_minor": 2
}
