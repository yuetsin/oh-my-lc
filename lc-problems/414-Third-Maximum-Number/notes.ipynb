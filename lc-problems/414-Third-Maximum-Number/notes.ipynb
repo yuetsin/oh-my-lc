{
 "cells": [
  {
   "cell_type": "markdown",
   "metadata": {},
   "source": [
    "# 413 Third Maximum Number\n",
    "\n",
    "垃圾题。\n",
    "\n",
    "Runtime: 52 ms, faster than 70.48% of Python3 online submissions for Third Maximum Number.\n",
    "Memory Usage: 14.2 MB, less than 30.77% of Python3 online submissions for Third Maximum Number.\n",
    "\n",
    "返回第三大的数字\n",
    "\n",
    "不光是因为反直觉的两条规则\n",
    "\n",
    "* 在数字不够三个的时候，返回最大的数字（？）\n",
    "* 重复数字不算（？？？）\n",
    "\n",
    "更是因为…这题根本没意义。要求的第三大数字是定死的，我直接写三个变量都足够了。\n",
    "\n",
    "但根本不值。"
   ]
  }
 ],
 "metadata": {
  "kernelspec": {
   "display_name": "Python 3",
   "language": "python",
   "name": "python3"
  },
  "language_info": {
   "codemirror_mode": {
    "name": "ipython",
    "version": 3
   },
   "file_extension": ".py",
   "mimetype": "text/x-python",
   "name": "python",
   "nbconvert_exporter": "python",
   "pygments_lexer": "ipython3",
   "version": "3.7.6"
  }
 },
 "nbformat": 4,
 "nbformat_minor": 2
}
