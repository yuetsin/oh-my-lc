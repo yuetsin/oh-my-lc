{
 "cells": [
  {
   "cell_type": "markdown",
   "metadata": {},
   "source": [
    "# 375\n",
    "\n",
    "从这题你学到了什么呢？\n",
    "\n",
    "1. `from functools import lru_cache`\n",
    "\n",
    "并且在函数前面使用 `@lru_cache(maxsize = None)`\n",
    "\n",
    "可以不用自己写缓存表，自动帮你缓存函数调用，还能限制最多缓存多少个呢！\n",
    "\n",
    "这样有些简单的 DP 就不用自己写了。\n",
    "\n",
    "2. 我数学很差。\n",
    "\n",
    "最优解还是二分法可以算出来。\n",
    "\n",
    "加上上面的自动缓存，效率挺高的。"
   ]
  }
 ],
 "metadata": {
  "kernelspec": {
   "display_name": "Python 3",
   "language": "python",
   "name": "python3"
  },
  "language_info": {
   "codemirror_mode": {
    "name": "ipython",
    "version": 3
   },
   "file_extension": ".py",
   "mimetype": "text/x-python",
   "name": "python",
   "nbconvert_exporter": "python",
   "pygments_lexer": "ipython3",
   "version": "3.7.4"
  }
 },
 "nbformat": 4,
 "nbformat_minor": 2
}
