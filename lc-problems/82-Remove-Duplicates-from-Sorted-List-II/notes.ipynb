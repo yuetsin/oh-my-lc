{
 "cells": [
  {
   "cell_type": "code",
   "execution_count": null,
   "metadata": {},
   "outputs": [],
   "source": [
    "这题有一点点特别：遇到 N 个重复元素，不是删除 N - 1 个让他不重复就可以了，而是赶尽杀绝地删掉所有 N 个，让重复的一个不留。"
   ]
  },
  {
   "cell_type": "code",
   "execution_count": null,
   "metadata": {},
   "outputs": [],
   "source": [
    "所以就造成了一个问题…本来有元素的可能给你删成空 NodeList 了…遇到这种可能出现 None 的情况，我选择再 call 一次自己…"
   ]
  },
  {
   "cell_type": "code",
   "execution_count": null,
   "metadata": {},
   "outputs": [],
   "source": [
    "P.S. 不要再写 == None 之类的了……直接用 if implicitly 判断他是否为空就好啦。"
   ]
  }
 ],
 "metadata": {
  "kernelspec": {
   "display_name": "Python 3",
   "language": "python",
   "name": "python3"
  }
 },
 "nbformat": 4,
 "nbformat_minor": 2
}
