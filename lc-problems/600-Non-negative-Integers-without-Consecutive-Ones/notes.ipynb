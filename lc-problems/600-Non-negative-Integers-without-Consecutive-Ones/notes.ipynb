{
 "cells": [
  {
   "cell_type": "markdown",
   "metadata": {},
   "source": [
    "# 600 Non-negative Integers without Consecutive Ones\n",
    "\n",
    "如果题目是「不能有连续两个数字」，那就简单了——\n",
    "\n",
    "那样数字只会有 \n",
    "\n",
    "0，1，10，101，1010，10101，101010……这些。\n",
    "\n",
    "然而这里要求的是：没有连续的「1」。这就难办了（\n",
    "\n",
    "用 map 的 O(1) 解（取决于 int 长度），参见 rtfd。"
   ]
  }
 ],
 "metadata": {
  "kernelspec": {
   "display_name": "Python 3",
   "language": "python",
   "name": "python3"
  },
  "language_info": {
   "codemirror_mode": {
    "name": "ipython",
    "version": 3
   },
   "file_extension": ".py",
   "mimetype": "text/x-python",
   "name": "python",
   "nbconvert_exporter": "python",
   "pygments_lexer": "ipython3",
   "version": "3.7.6"
  }
 },
 "nbformat": 4,
 "nbformat_minor": 4
}
