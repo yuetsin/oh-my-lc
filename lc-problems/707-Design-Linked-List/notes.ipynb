{
 "cells": [
  {
   "cell_type": "markdown",
   "metadata": {},
   "source": [
    "# 707 Design Linked List\n",
    "\n",
    "Runtime: 76 ms, faster than 98.62% of Python3 online submissions for Design Linked List.\n",
    "\n",
    "Memory Usage: 12.9 MB, less than 100.00% of Python3 online submissions for Design Linked List.\n",
    "\n",
    "够了，不要再让我…Design 现存的东西了…\n",
    "\n",
    "我总忍不住…伸手拿现成的…\n",
    "\n",
    "不过在 Compiler Labs 里倒是到处都是这 Linked List…而且还一个类型有一个。\n",
    "\n",
    "恼火。"
   ]
  }
 ],
 "metadata": {
  "kernelspec": {
   "display_name": "Python 3",
   "language": "python",
   "name": "python3"
  },
  "language_info": {
   "codemirror_mode": {
    "name": "ipython",
    "version": 3
   },
   "file_extension": ".py",
   "mimetype": "text/x-python",
   "name": "python",
   "nbconvert_exporter": "python",
   "pygments_lexer": "ipython3",
   "version": "3.7.6"
  }
 },
 "nbformat": 4,
 "nbformat_minor": 4
}
