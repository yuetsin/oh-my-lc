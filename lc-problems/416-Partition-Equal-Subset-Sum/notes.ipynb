{
 "cells": [
  {
   "cell_type": "markdown",
   "metadata": {},
   "source": [
    "# 416 Partition Equal Subset Sum\n",
    "\n",
    "没啥思路首先…\n",
    "\n",
    "这里，首先对原来的 nums 进行排序。并且，计算出需求的平分值 sum / 2。假如不是整数，那么直接爆炸，拒绝进一步计算。\n",
    "\n",
    "但如果有可能进行分割，怎么处理？\n",
    "\n",
    "DFS。所谓的，深度优先搜索。\n",
    "\n",
    "关键性语句：\n",
    "\n",
    "dfs(vector<int>& nums, int i, int acc, int t)::\n",
    "dfs(nums, i-1, acc+nums[i], t) || dfs(nums, i-1, acc, t)\n",
    "\n",
    "在 DFS 的路上，我们每遇到一个值都有两种选项：要么拿这个 Element，要么不拿。总之最后要凑齐。\n",
    "\n",
    "本质上好像也没什么高级的…\n",
    "\n",
    "P.S. @narcissist1 给出了一个优化方案：先把最大的那个值拿出来，这样能减少很多无用的递归。"
   ]
  }
 ],
 "metadata": {
  "kernelspec": {
   "display_name": "Python 3",
   "language": "python",
   "name": "python3"
  },
  "language_info": {
   "codemirror_mode": {
    "name": "ipython",
    "version": 3
   },
   "file_extension": ".py",
   "mimetype": "text/x-python",
   "name": "python",
   "nbconvert_exporter": "python",
   "pygments_lexer": "ipython3",
   "version": "3.7.6"
  }
 },
 "nbformat": 4,
 "nbformat_minor": 2
}
