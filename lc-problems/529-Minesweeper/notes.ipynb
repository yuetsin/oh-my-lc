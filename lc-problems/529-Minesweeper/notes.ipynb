{
 "cells": [
  {
   "cell_type": "markdown",
   "metadata": {},
   "source": [
    "# 529 Minesweeper\n",
    "\n",
    "不得不让人感叹…Minesweeper 真不愧是程序员设计的游戏啊。\n",
    "\n",
    "当我们点击一个格子的时候，会发生什么？\n",
    "\n",
    "1. 如果这个格子下面是炸弹（'M'），就将其改成 'X'，游戏结束。\n",
    "2. 假如这个格子下面是空白的，那么遍历其八个邻居格子（边缘格子可能少于八个邻居。），统计出邻居中炸弹的个数。假如个数大于等于 1，就把这个格子的数字更改为对应数字；假如是 0，那么 Dfs 遍历所有邻居格子。（因为邻居炸弹个数为 0，所以不可能出现 dfs 出炸弹的情况。这也是合理的——假如你在游戏的时候知道一个格子邻居炸弹数为 0，那也一定会毫不犹豫地把所有的邻居都戳一遍的。）\n",
    "\n",
    "\n",
    "\n",
    "Runtime: 192 ms, faster than 83.21% of Python3 online submissions for Minesweeper.\n",
    "\n",
    "Memory Usage: 15 MB, less than 40.00% of Python3 online submissions for Minesweeper."
   ]
  }
 ],
 "metadata": {
  "kernelspec": {
   "display_name": "Python 3",
   "language": "python",
   "name": "python3"
  },
  "language_info": {
   "codemirror_mode": {
    "name": "ipython",
    "version": 3
   },
   "file_extension": ".py",
   "mimetype": "text/x-python",
   "name": "python",
   "nbconvert_exporter": "python",
   "pygments_lexer": "ipython3",
   "version": "3.7.6"
  }
 },
 "nbformat": 4,
 "nbformat_minor": 4
}
