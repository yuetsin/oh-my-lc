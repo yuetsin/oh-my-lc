{
 "cells": [
  {
   "cell_type": "markdown",
   "metadata": {},
   "source": [
    "# 219\n",
    "\n",
    "HUH...相比 217 也就只是多了一个限制：绝对距离超过 k 的咱们就不算他重复了。\n",
    "\n",
    "但这还是很简单…前面是往 set 里面放，这里往 dictionary 里面放，因为要记住每个元素的位置（来判断他们的距离是否超过 k）。\n",
    "\n",
    "也还是没什么多说的。晚安。"
   ]
  }
 ],
 "metadata": {
  "kernelspec": {
   "display_name": "Python 3",
   "language": "python",
   "name": "python3"
  },
  "language_info": {
   "codemirror_mode": {
    "name": "ipython",
    "version": 3
   },
   "file_extension": ".py",
   "mimetype": "text/x-python",
   "name": "python",
   "nbconvert_exporter": "python",
   "pygments_lexer": "ipython3",
   "version": "3.7.4"
  }
 },
 "nbformat": 4,
 "nbformat_minor": 2
}
