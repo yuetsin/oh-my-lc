{
 "cells": [
  {
   "cell_type": "markdown",
   "metadata": {},
   "source": [
    "# 743 Network Delay Time\n",
    "\n",
    "本该是一道简单的图论题，甚至是最基础的。\n",
    "\n",
    "花最少的时间连通所有的 Node？也就是构造一个最小联通图，其中根（Node K）到任意节点的距离的最长值应该最小。\n",
    "\n",
    "那可不就是 Dijkstra 算法吗？\n",
    "\n",
    "当然，一定要用 DFS 也不是不可以，但是如果不加优化会造成 TLE。假如用 visited set 来规避成环的话时间又不够。\n",
    "\n",
    "trick 是，要把至今已经经历的时间（信息传播时间）elapsed time 给作为参数传入。假如这已经超过了目前的上界，那么就直接退出拒绝继续。\n",
    "\n",
    "（翻煎饼问题好像也是这样？）"
   ]
  }
 ],
 "metadata": {
  "kernelspec": {
   "display_name": "Python 3",
   "language": "python",
   "name": "python3"
  },
  "language_info": {
   "codemirror_mode": {
    "name": "ipython",
    "version": 3
   },
   "file_extension": ".py",
   "mimetype": "text/x-python",
   "name": "python",
   "nbconvert_exporter": "python",
   "pygments_lexer": "ipython3",
   "version": "3.7.6"
  }
 },
 "nbformat": 4,
 "nbformat_minor": 4
}
