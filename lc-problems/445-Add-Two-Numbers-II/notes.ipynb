{
 "cells": [
  {
   "cell_type": "markdown",
   "metadata": {},
   "source": [
    "# 445 Add Two Numbers II\n",
    "\n",
    "这里也并不难…两次链表遍历，一次构造链表都是可以 O(N) 完成的。不难。\n",
    "\n",
    "不过要特别注意… 0 + 0 = 0 的情况需要特别处理一下。\n",
    "\n",
    "Runtime: 72 ms, faster than 56.56% of Python3 online submissions for Add Two Numbers II.\n",
    "Memory Usage: 12.6 MB, less than 100.00% of Python3 online submissions for Add Two Numbers II."
   ]
  }
 ],
 "metadata": {
  "kernelspec": {
   "display_name": "Python 3",
   "language": "python",
   "name": "python3"
  },
  "language_info": {
   "codemirror_mode": {
    "name": "ipython",
    "version": 3
   },
   "file_extension": ".py",
   "mimetype": "text/x-python",
   "name": "python",
   "nbconvert_exporter": "python",
   "pygments_lexer": "ipython3",
   "version": "3.7.6"
  }
 },
 "nbformat": 4,
 "nbformat_minor": 2
}
