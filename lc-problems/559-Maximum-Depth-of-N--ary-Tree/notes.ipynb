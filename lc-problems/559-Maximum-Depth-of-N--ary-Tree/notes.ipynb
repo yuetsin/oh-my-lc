{
 "cells": [
  {
   "cell_type": "markdown",
   "metadata": {},
   "source": [
    "# 559 Maximum Depth of N-ary Tree\n",
    "\n",
    "Runtime: 56 ms, faster than 15.09% of Python3 online submissions for Maximum Depth of N-ary Tree.\n",
    "\n",
    "Memory Usage: 17.9 MB, less than 8.33% of Python3 online submissions for Maximum Depth of N-ary Tree.\n",
    "\n",
    "一個帶 Cache 的 DFS 就夠了⋯\n",
    "\n",
    "sample 看看广度优先搜索。用 Stack 往里加，确认最深的深度。\n",
    "\n",
    "亦可。"
   ]
  }
 ],
 "metadata": {
  "kernelspec": {
   "display_name": "Python 3",
   "language": "python",
   "name": "python3"
  },
  "language_info": {
   "codemirror_mode": {
    "name": "ipython",
    "version": 3
   },
   "file_extension": ".py",
   "mimetype": "text/x-python",
   "name": "python",
   "nbconvert_exporter": "python",
   "pygments_lexer": "ipython3",
   "version": "3.7.6"
  }
 },
 "nbformat": 4,
 "nbformat_minor": 4
}
