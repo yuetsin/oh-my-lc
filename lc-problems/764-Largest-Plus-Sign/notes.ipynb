{
 "cells": [
  {
   "cell_type": "markdown",
   "metadata": {},
   "source": [
    "# 764 Largest Plus Sign\n",
    "\n",
    "给出一个 N × N 的二值化 Map。要在里面找出最大的「➕」。\n",
    "\n",
    "简单地，可以写出 O(N^3)（实际上跟 O(N^2) 接近） 的解决方案。也可以剪枝，在已知当前最大值为 i 的基础上，可以不用考虑落在 i 单位 Margin 里的东西。\n",
    "\n",
    "但是这样的解法会爆炸。\n",
    "\n",
    "实际上，这题有一个很美妙的 DP 解法。\n",
    "\n",
    "我们可以记录下每个点、四个方向上出现连续「1」的个数。采用 DP 的方法的话，每个点平摊到的计算都是 O(1) 级别。因此只需要 O(N^2) 的时间就能构造出这张 DP 表。\n",
    "\n",
    "然后，就算我们再用粗暴遍历的方法进行，因为有了上面的 DP 表，我们可以在每个节点上只花费常数级别。再加上剪枝可以更快。总的时间复杂度会是 O(N^2)。\n",
    "\n",
    "最终的时间复杂度可以优化到 O(N^2)。空间复杂度同样也是 O(N^2)。"
   ]
  }
 ],
 "metadata": {
  "kernelspec": {
   "display_name": "Python 3",
   "language": "python",
   "name": "python3"
  },
  "language_info": {
   "codemirror_mode": {
    "name": "ipython",
    "version": 3
   },
   "file_extension": ".py",
   "mimetype": "text/x-python",
   "name": "python",
   "nbconvert_exporter": "python",
   "pygments_lexer": "ipython3",
   "version": "3.7.6"
  }
 },
 "nbformat": 4,
 "nbformat_minor": 4
}
