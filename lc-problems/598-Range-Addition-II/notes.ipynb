{
 "cells": [
  {
   "cell_type": "markdown",
   "metadata": {},
   "source": [
    "# 598 Range Addition II\n",
    "\n",
    "Runtime: 68 ms, faster than 78.48% of Python3 online submissions for Range Addition II.\n",
    "\n",
    "Memory Usage: 14.7 MB, less than 33.33% of Python3 online submissions for Range Addition II.\n",
    "\n",
    "很显然的事实，因为总是以左上角点作为增加点，所以最终的 Max Rect 一定以左上角为原点。\n",
    "\n",
    "然后，谁被加的次数多谁就是 max 了，所以一定是 min(op[0]), min(op[1]) 这以内的点最大。\n",
    "\n",
    "这里有个 trick：把 min_x 和 min_y 初始化为 m 和 n。\n",
    "\n",
    "原因不光是因为 op 的值不可能超过变长（废话），\n",
    "\n",
    "也是因为假如 op 为空（没有进行递增操作），那么就应该返回 m * n，也就是所有人都是最大的。\n",
    "\n",
    "所谓共产主义（逃"
   ]
  }
 ],
 "metadata": {
  "kernelspec": {
   "display_name": "Python 3",
   "language": "python",
   "name": "python3"
  },
  "language_info": {
   "codemirror_mode": {
    "name": "ipython",
    "version": 3
   },
   "file_extension": ".py",
   "mimetype": "text/x-python",
   "name": "python",
   "nbconvert_exporter": "python",
   "pygments_lexer": "ipython3",
   "version": "3.7.6"
  }
 },
 "nbformat": 4,
 "nbformat_minor": 4
}
