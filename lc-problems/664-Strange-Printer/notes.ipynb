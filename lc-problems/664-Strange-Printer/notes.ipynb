{
 "cells": [
  {
   "cell_type": "markdown",
   "metadata": {},
   "source": [
    "# 664 Strange Printer\n",
    "\n",
    "什么时候适合使用 DP？\n",
    "\n",
    "在那些要求一定的结果、却不要求确定的步骤的题目，你就该想到 DP 了。\n",
    "\n",
    "这题的意思是——这个 Printer 可以在一个连续区间打印若干个 Char。特别地，后打印的 char 可以覆盖前打印的。\n",
    "\n",
    "DP[i][j] 存放的是 string[i~j] 最小的「打印」次数。\n",
    "\n",
    "i == j，也就是打印一个 Char，那没什么好说的。只能也只应该用 1 次。\n",
    "\n",
    "而 DP[i][i + 1] 呢？假如说 s[i] == s[i + 1]，那么不需要增加打印次数。不相等的时候，我们才需要增加 1 次。\n",
    "\n",
    "这还不算完。因为这里我们没考虑到「覆写」的问题。\n",
    "\n",
    "假如我们的字符串长这样：\n",
    "\n",
    "a...(b, c)...a。边缘的两个 a 其实可以一次写完。\n",
    "\n",
    "所以我们有这么一个优化措施：\n",
    "\n",
    "```\n",
    "index |start  ...  start + k| |start + k + 1 ... start + len|\n",
    "char  |  a    ...       b   | |      c       ...      b     |\n",
    "```\n",
    "\n",
    "假如 s[start + k] == s[start + len]，那么我们就可以只写 dp[start][start + k] + dp[start + k + 1][start + len] - 1 这么多次，省了一次。\n",
    "\n",
    "我们从 s[2] 开始迭代，一直往后走，同时更新 DP。\n",
    "\n",
    "最后查阅 DP[0, end] 就好了。\n",
    "\n",
    "P.S. 极其巧妙的优化方法：\n",
    "\n",
    "留意到了吗？Printer 可以一次打印出任意长度的相同 char 列，所以每个 char 连续出现的次数并不要紧。完全可以认为他们出现的次数都是 1。\n",
    "\n",
    "所以…咱们先做一次「连续同 char 相消，只留一个」的操作，就（可能）可以大大减少时空复杂度。\n",
    "\n",
    "巧妙啊～"
   ]
  }
 ],
 "metadata": {
  "kernelspec": {
   "display_name": "Python 3",
   "language": "python",
   "name": "python3"
  },
  "language_info": {
   "codemirror_mode": {
    "name": "ipython",
    "version": 3
   },
   "file_extension": ".py",
   "mimetype": "text/x-python",
   "name": "python",
   "nbconvert_exporter": "python",
   "pygments_lexer": "ipython3",
   "version": "3.7.6"
  }
 },
 "nbformat": 4,
 "nbformat_minor": 4
}
