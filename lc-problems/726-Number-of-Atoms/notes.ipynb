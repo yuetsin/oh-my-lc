{
 "cells": [
  {
   "cell_type": "markdown",
   "metadata": {},
   "source": [
    "# 726 Number of Atoms\n",
    "\n",
    "Runtime: 28 ms, faster than 79.01% of Python3 online submissions for Number of Atoms.\n",
    "\n",
    "Memory Usage: 12.8 MB, less than 100.00% of Python3 online submissions for Number of Atoms.\n",
    "\n",
    "好题…没有难懂的情景。没有刁钻的 Corner Case。\n",
    "\n",
    "只是我太弱了。三次才过。\n",
    "\n",
    "而且写的并不美观。\n",
    "\n",
    "我觉得 parse string 的都不可能写得很美观。除非……用 re.findall。"
   ]
  }
 ],
 "metadata": {
  "kernelspec": {
   "display_name": "Python 3",
   "language": "python",
   "name": "python3"
  },
  "language_info": {
   "codemirror_mode": {
    "name": "ipython",
    "version": 3
   },
   "file_extension": ".py",
   "mimetype": "text/x-python",
   "name": "python",
   "nbconvert_exporter": "python",
   "pygments_lexer": "ipython3",
   "version": "3.7.6"
  }
 },
 "nbformat": 4,
 "nbformat_minor": 4
}
