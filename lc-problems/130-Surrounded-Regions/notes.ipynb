{
 "cells": [
  {
   "cell_type": "code",
   "execution_count": null,
   "metadata": {},
   "outputs": [],
   "source": [
    "我的写法实在是太捞了…整了个 Memory Limit Exceeded 出来，前所未见"
   ]
  },
  {
   "cell_type": "code",
   "execution_count": null,
   "metadata": {},
   "outputs": [],
   "source": [
    "def solve(self, board):\n",
    "    if not any(board): return\n",
    "\n",
    "    m, n = len(board), len(board[0])\n",
    "    save = [ij for k in range(m+n) for ij in ((0, k), (m-1, k), (k, 0), (k, n-1))]\n",
    "    while save:\n",
    "        i, j = save.pop()\n",
    "        if 0 <= i < m and 0 <= j < n and board[i][j] == 'O':\n",
    "            board[i][j] = 'S'\n",
    "            save += (i, j-1), (i, j+1), (i-1, j), (i+1, j)\n",
    "\n",
    "    board[:] = [['XO'[c == 'S'] for c in row] for row in board]"
   ]
  },
  {
   "cell_type": "code",
   "execution_count": null,
   "metadata": {},
   "outputs": [],
   "source": [
    "可读性极差…来看看 Java（啰嗦）版的 BFS Solution："
   ]
  },
  {
   "cell_type": "code",
   "execution_count": null,
   "metadata": {},
   "outputs": [],
   "source": [
    "首先，把所有边缘位置的 'O'（他们都不可能会被 'X' 化），因此将其标记为 '+' （特别的符号）。\n",
    "在完成这一操作之后（已经到 Line 33 了（所以说 Java 啰嗦啊））"
   ]
  },
  {
   "cell_type": "code",
   "execution_count": null,
   "metadata": {},
   "outputs": [],
   "source": [
    "开始从 queue 里 poll 东西出来。一个个判断，如果说上下左右有 'O' 的话，就把它设定为 '+，并且放到 Queue 里面。"
   ]
  },
  {
   "cell_type": "code",
   "execution_count": null,
   "metadata": {},
   "outputs": [],
   "source": [
    "注意这里利用了 && / || 的短路原则：如果 && 左边的情况为真，或者 || 左边的情况为假，那么右边的语句就不会被执行。"
   ]
  },
  {
   "cell_type": "code",
   "execution_count": null,
   "metadata": {},
   "outputs": [],
   "source": [
    "最后，遍历一下所有没有被腐蚀成 '+' 的 'O'，他们就是外部的该被吃掉的围棋子。\n",
    "所有是 '+' 的再改回'O' 就行了。"
   ]
  },
  {
   "cell_type": "code",
   "execution_count": null,
   "metadata": {},
   "outputs": [],
   "source": [
    "所以本质上，只需要让边缘的 O 变成 + ，然后向内陆尽可能多地扩散。\n",
    "无法再扩散之后，就知道哪些 O 该留下，哪些 O 该吃掉了。"
   ]
  },
  {
   "cell_type": "code",
   "execution_count": null,
   "metadata": {},
   "outputs": [],
   "source": [
    "记住这个 BFS 哦。"
   ]
  }
 ],
 "metadata": {
  "kernelspec": {
   "display_name": "Python 3",
   "language": "python",
   "name": "python3"
  }
 },
 "nbformat": 4,
 "nbformat_minor": 2
}
