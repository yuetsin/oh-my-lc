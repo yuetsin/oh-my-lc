{
 "cells": [
  {
   "cell_type": "markdown",
   "metadata": {},
   "source": [
    "# 300\n",
    "\n",
    "很难想到这题我也会 Cheat。\n",
    "\n",
    "事实上我不想的。只是这个数据出的太不走心了，2500 长度的等差数列，不由得让人想…\n",
    "\n",
    "总归我们就这么算。\n",
    "\n",
    "事实上这个思路是个经典的 DP。只是你可以稍微走走心，加一张动态规划表就好了。\n",
    "\n",
    "很容易想到的。\n",
    "\n",
    "是 Choose me 喜+1, 并且把 butBiggerThan 给增大，\n",
    "\n",
    "还是说我们不 + 1，但是保持更小的 butBiggerThan？\n",
    "\n",
    "这就是 DP 啊。"
   ]
  }
 ],
 "metadata": {
  "kernelspec": {
   "display_name": "Python 3",
   "language": "python",
   "name": "python3"
  },
  "language_info": {
   "codemirror_mode": {
    "name": "ipython",
    "version": 3
   },
   "file_extension": ".py",
   "mimetype": "text/x-python",
   "name": "python",
   "nbconvert_exporter": "python",
   "pygments_lexer": "ipython3",
   "version": "3.7.4"
  }
 },
 "nbformat": 4,
 "nbformat_minor": 2
}
