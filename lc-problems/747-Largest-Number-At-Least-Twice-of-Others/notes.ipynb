{
 "cells": [
  {
   "cell_type": "markdown",
   "metadata": {},
   "source": [
    "# 747 Largest Number At Least Twice of Others\n",
    "\n",
    "Runtime: 32 ms, faster than 80.57% of Python3 online submissions for Largest Number At Least Twice of Others.\n",
    "\n",
    "Memory Usage: 12.6 MB, less than 100.00% of Python3 online submissions for Largest Number At Least Twice of Others.\n",
    "\n",
    "什么？我把原 Array Copy 了一份居然还是 Beat 了 100% 的 Memory？\n",
    "\n",
    "鉴于您这个 len 最长只有 99 个数字（开玩笑吗…）…我猜怎么写也不会 TLE 的吧…"
   ]
  }
 ],
 "metadata": {
  "kernelspec": {
   "display_name": "Python 3",
   "language": "python",
   "name": "python3"
  },
  "language_info": {
   "codemirror_mode": {
    "name": "ipython",
    "version": 3
   },
   "file_extension": ".py",
   "mimetype": "text/x-python",
   "name": "python",
   "nbconvert_exporter": "python",
   "pygments_lexer": "ipython3",
   "version": "3.7.6"
  }
 },
 "nbformat": 4,
 "nbformat_minor": 4
}
