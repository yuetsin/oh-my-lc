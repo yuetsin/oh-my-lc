{
 "cells": [
  {
   "cell_type": "code",
   "execution_count": null,
   "metadata": {},
   "outputs": [],
   "source": [
    "> Runtime: 40 ms, faster than 76.80% of Python3 online submissions for Search a 2D Matrix.\n",
    "> Memory Usage: 14 MB, less than 5.71% of Python3 online submissions for Search a 2D Matrix."
   ]
  },
  {
   "cell_type": "code",
   "execution_count": null,
   "metadata": {},
   "outputs": [],
   "source": [
    "其实写的挺差的。只是按行来索引，通过 line[0] 和 line[-1] 来判断本行是不是有可能存在元素。以此来盘查。\n",
    "确定范围之后也就是直接用 list.index。二分也没用（感觉不会太长）"
   ]
  },
  {
   "cell_type": "code",
   "execution_count": null,
   "metadata": {},
   "outputs": [],
   "source": [
    "有一种新奇的思路是，把它当作一个 Sorted List 搜索会很简单。"
   ]
  },
  {
   "cell_type": "code",
   "execution_count": null,
   "metadata": {},
   "outputs": [],
   "source": [
    "好像也不太新奇……除了索引方式让二分查找变得比较难看之外。本来应该这么写的。"
   ]
  }
 ],
 "metadata": {
  "kernelspec": {
   "display_name": "Python 3",
   "language": "python",
   "name": "python3"
  }
 },
 "nbformat": 4,
 "nbformat_minor": 2
}
