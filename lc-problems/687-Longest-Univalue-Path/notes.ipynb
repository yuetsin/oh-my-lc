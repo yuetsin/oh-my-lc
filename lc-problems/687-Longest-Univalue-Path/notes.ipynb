{
 "cells": [
  {
   "cell_type": "markdown",
   "metadata": {},
   "source": [
    "# 687 Longest Univalue Path\n",
    "\n",
    "Runtime: 856 ms, faster than 5.04% of Python3 online submissions for Longest Univalue Path.\n",
    "\n",
    "Memory Usage: 88.4 MB, less than 16.67% of Python3 online submissions for Longest Univalue Path.\n",
    "\n",
    "记住这种：如何遍历一段（不一定经过根的）路径？\n",
    "\n",
    "用一个 canBeRoot 的标识位就好了。"
   ]
  }
 ],
 "metadata": {
  "kernelspec": {
   "display_name": "Python 3",
   "language": "python",
   "name": "python3"
  },
  "language_info": {
   "codemirror_mode": {
    "name": "ipython",
    "version": 3
   },
   "file_extension": ".py",
   "mimetype": "text/x-python",
   "name": "python",
   "nbconvert_exporter": "python",
   "pygments_lexer": "ipython3",
   "version": "3.7.6"
  }
 },
 "nbformat": 4,
 "nbformat_minor": 4
}
