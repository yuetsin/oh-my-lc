{
 "cells": [
  {
   "cell_type": "code",
   "execution_count": null,
   "metadata": {},
   "outputs": [],
   "source": [
    "我的代码是很慢的。因为不得要领）。但还是记录一下："
   ]
  },
  {
   "cell_type": "code",
   "execution_count": null,
   "metadata": {},
   "outputs": [],
   "source": [
    "最初的方法，也是大概在一年之前（18 年 5 月，还在刷跑步的时候）跟 wym 讲起这道题目。\n",
    "当时自己的想法是给每一个单词都构成一个 Class，里面维护一个 List，保存所有该单词「一次变换」所能达到的其他单词的指针。"
   ]
  },
  {
   "cell_type": "code",
   "execution_count": null,
   "metadata": {},
   "outputs": [],
   "source": [
    "However。这个实现不是很好，主要是我在遍历的时候 call 了 List[Word] 作为参数，而且还每次都是 new 出来的。再加上用了一堆递归…不慢才有鬼。\n",
    "而且，我的 differ / buildNext 实现也不好。"
   ]
  },
  {
   "cell_type": "code",
   "execution_count": null,
   "metadata": {},
   "outputs": [],
   "source": [
    "我们来看看 Elegant Solution："
   ]
  },
  {
   "cell_type": "code",
   "execution_count": null,
   "metadata": {},
   "outputs": [],
   "source": [
    "class Solution(object):\n",
    "    def findLadders(self, beginWord, endWord, wordList):\n",
    "\n",
    "        wordList = set(wordList)\n",
    "        res = []\n",
    "        layer = {}\n",
    "        layer[beginWord] = [[beginWord]]\n",
    "\n",
    "        while layer:\n",
    "            newlayer = collections.defaultdict(list)\n",
    "            for w in layer:\n",
    "                if w == endWord: \n",
    "                    res.extend(k for k in layer[w])\n",
    "                else:\n",
    "                    for i in range(len(w)):\n",
    "                        for c in 'abcdefghijklmnopqrstuvwxyz':\n",
    "                            neww = w[:i]+c+w[i+1:]\n",
    "                            if neww in wordList:\n",
    "                                newlayer[neww]+=[j+[neww] for j in layer[w]]\n",
    "\n",
    "            wordList -= set(newlayer.keys())\n",
    "            layer = newlayer\n",
    "\n",
    "        return res"
   ]
  },
  {
   "cell_type": "code",
   "execution_count": null,
   "metadata": {},
   "outputs": [],
   "source": [
    "一个个看：\n",
    "#1 没必要新建一个 Class。只需要把 word string 作为散列值放到 set() 里面，就可以高效率地实现 str => [Next] 了。（dict 也一样）"
   ]
  },
  {
   "cell_type": "code",
   "execution_count": null,
   "metadata": {},
   "outputs": [],
   "source": [
    "#2 假设出现到了最终值 (endWord)，那么，这一定是最小的出现方式（或之一），由于有明确的分层，因此不会产生绕弯子的情况。"
   ]
  },
  {
   "cell_type": "code",
   "execution_count": null,
   "metadata": {},
   "outputs": [],
   "source": [
    "#3 找到之后，我们拿出这一个 key，然后反向向上找。假如出现多个可能的变换，那就可能是有多种一样长度的最短路。"
   ]
  },
  {
   "cell_type": "code",
   "execution_count": null,
   "metadata": {},
   "outputs": [],
   "source": [
    "然后打印所有结果就行了。"
   ]
  }
 ],
 "metadata": {
  "kernelspec": {
   "display_name": "Python 3",
   "language": "python",
   "name": "python3"
  }
 },
 "nbformat": 4,
 "nbformat_minor": 2
}
