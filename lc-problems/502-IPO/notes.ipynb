{
 "cells": [
  {
   "cell_type": "markdown",
   "metadata": {},
   "source": [
    "# 502 IPO\n",
    "\n",
    "又是南条爱乃（@just_not_over_12）的大作…\n",
    "\n",
    "标题党。这题跟 IPO 没有任何关系。就是一道投资问题。不过，是有条件的投资。要完成一笔交易必须先具有一定的资本。\n",
    "\n",
    "真是想不到，社会主义的小青年，居然会出出这么 Capitalis 的 LC 题…（打死\n",
    "\n",
    "这题呢，用了一个 backtracking 试着写了下。结果直接爆炸了。因为我总是把所有的投资可能性都试了一遍。其实完全没必要！\n",
    "\n",
    "在本金足够的情况下，当然应该选择能得到最高回报的那笔交易啊！难道还需要反复尝试吗？这 Greedy 都拍脸上了。\n",
    "\n",
    "资本家就是这么想的啊！他们始终会选择更高净利润的那些投资项目。唯一的阻碍可能就是资本不足。\n",
    "\n",
    "Sample 用了个 Heap 来存，因为可以方便地在保证有序的情况下拿取元素。"
   ]
  }
 ],
 "metadata": {
  "kernelspec": {
   "display_name": "Python 3",
   "language": "python",
   "name": "python3"
  },
  "language_info": {
   "codemirror_mode": {
    "name": "ipython",
    "version": 3
   },
   "file_extension": ".py",
   "mimetype": "text/x-python",
   "name": "python",
   "nbconvert_exporter": "python",
   "pygments_lexer": "ipython3",
   "version": "3.7.6"
  }
 },
 "nbformat": 4,
 "nbformat_minor": 4
}
