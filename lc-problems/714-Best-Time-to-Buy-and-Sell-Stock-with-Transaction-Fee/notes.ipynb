{
 "cells": [
  {
   "cell_type": "markdown",
   "metadata": {},
   "source": [
    "# 714 Best Time to Buy and Sell Stock with Transaction Fee\n",
    "\n",
    "这次遇到的 Runtime Error…是因为…Maximum Recursion Depth Exceeded…\n",
    "\n",
    "递归的次数爆炸了。因为最多的 Price 天数是 50000。而 Python 的最大迭代次数是（Windows 下）四千多次和（Linux 下）两万多次。\n",
    "\n",
    "实际上这里有个非常美妙的解法。\n",
    "\n",
    "只消耗两个 int 的 DP…\n",
    "\n",
    "Intuition and Algorithm\n",
    "\n",
    "At the end of the i-th day, we maintain cash, the maximum profit we could have if we did not have a share of stock, and hold, the maximum profit we could have if we owned a share of stock.\n",
    "\n",
    "To transition from the i-th day to the i+1-th day, we either sell our stock cash = max(cash, hold + prices[i] - fee) or buy a stock hold = max(hold, cash - prices[i]). At the end, we want to return cash. We can transform cash first without using temporary variables because selling and buying on the same day can't be better than just continuing to hold the stock."
   ]
  }
 ],
 "metadata": {
  "kernelspec": {
   "display_name": "Python 3",
   "language": "python",
   "name": "python3"
  },
  "language_info": {
   "codemirror_mode": {
    "name": "ipython",
    "version": 3
   },
   "file_extension": ".py",
   "mimetype": "text/x-python",
   "name": "python",
   "nbconvert_exporter": "python",
   "pygments_lexer": "ipython3",
   "version": "3.7.6"
  }
 },
 "nbformat": 4,
 "nbformat_minor": 4
}
