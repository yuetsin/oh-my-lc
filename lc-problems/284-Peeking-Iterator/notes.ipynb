{
 "cells": [
  {
   "cell_type": "markdown",
   "metadata": {},
   "source": [
    "# 284\n",
    "\n",
    "最容易想到的方法自然是一开始就把那个不支持 Peeping 的 Iterator 的值都拿出来，然后存在自己的 list 里面，进行所有的 peep、next、hasNext 操作。\n",
    "\n",
    "\n",
    "快是快啦…总归比较吃内存。\n",
    "\n",
    "Runtime: 40 ms, faster than 58.02% of Python3 online submissions for Peeking Iterator.\n",
    "Memory Usage: 13.7 MB, less than 9.09% of Python3 online submissions for Peeking Iterator.\n",
    "\n",
    "而且好像再快也没有多快。"
   ]
  }
 ],
 "metadata": {
  "kernelspec": {
   "display_name": "Python 3",
   "language": "python",
   "name": "python3"
  },
  "language_info": {
   "codemirror_mode": {
    "name": "ipython",
    "version": 3
   },
   "file_extension": ".py",
   "mimetype": "text/x-python",
   "name": "python",
   "nbconvert_exporter": "python",
   "pygments_lexer": "ipython3",
   "version": "3.7.4"
  }
 },
 "nbformat": 4,
 "nbformat_minor": 2
}
