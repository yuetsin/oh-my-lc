{
 "cells": [
  {
   "cell_type": "markdown",
   "metadata": {},
   "source": [
    "# 475 Heaters\n",
    "\n",
    "这题其实跟那个「找出和最大项的最小值」那题一样。都是隐藏的二分查找。在一块插满了箭的木板上画靶子。\n",
    "\n",
    "这里也是一样，先确定 Heater 的辐射范围再去判断是否可行；根据这个结果回头更改 Heater。\n",
    "\n",
    "遗憾的是我的二分查找爆炸了。即使是修正了上界之后也还是错。\n",
    "\n",
    "瞧瞧人家的 neat solution 是怎么写的。\n",
    "\n",
    "我的算法，是求出上下界之后做二分查找，一共需要做 O(Log R) 次；每一次都要验证一下 Heater 跟 House 的关系，这操作需要 O(MN) 的时间复杂度。最终的结果就是 O(MNLogR)。\n",
    "\n",
    "然而他呢？他是对每一个 House 做二分查找。因为对每一个 House 来说，他的界限一般会比较窄，这使得其可以快速结束；另一方面，因为供暖需要大家都接受的一个最小值，所以可以直接把目前已经得到的 target 作为下界限，进一步减少迭代次数。\n",
    "\n",
    "所以这种办法看起来没有减少时间，但实际上可以加快很多。\n",
    "\n",
    "我的错。"
   ]
  }
 ],
 "metadata": {
  "kernelspec": {
   "display_name": "Python 3",
   "language": "python",
   "name": "python3"
  },
  "language_info": {
   "codemirror_mode": {
    "name": "ipython",
    "version": 3
   },
   "file_extension": ".py",
   "mimetype": "text/x-python",
   "name": "python",
   "nbconvert_exporter": "python",
   "pygments_lexer": "ipython3",
   "version": "3.7.6"
  }
 },
 "nbformat": 4,
 "nbformat_minor": 4
}
