{
 "cells": [
  {
   "cell_type": "markdown",
   "metadata": {},
   "source": [
    "# 504 Base 7\n",
    "\n",
    "十进制转七进制…没啥好说的。有高位向低位一个个除就好了。高中数学的办法。\n",
    "\n",
    "说来也奇怪…Python 提供了 int(<str>, <base>) 来解读任意进制的字符串，但是却不提供方法来把 int 转化到任意进制，只提供了 oct、hex、bin 这类特殊函数。当然是没有转七进制的函数的（不然我早用了\n",
    "\n",
    "Runtime: 32 ms, faster than 23.34% of Python3 online submissions for Base 7.\n",
    "    \n",
    "Memory Usage: 12.6 MB, less than 100.00% of Python3 online submissions for Base 7."
   ]
  }
 ],
 "metadata": {
  "kernelspec": {
   "display_name": "Python 3",
   "language": "python",
   "name": "python3"
  },
  "language_info": {
   "codemirror_mode": {
    "name": "ipython",
    "version": 3
   },
   "file_extension": ".py",
   "mimetype": "text/x-python",
   "name": "python",
   "nbconvert_exporter": "python",
   "pygments_lexer": "ipython3",
   "version": "3.7.6"
  }
 },
 "nbformat": 4,
 "nbformat_minor": 4
}
