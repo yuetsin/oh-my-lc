{
 "cells": [
  {
   "cell_type": "markdown",
   "metadata": {},
   "source": [
    "# 390\n",
    "\n",
    "写的太慢了……\n",
    "\n",
    "第一次忘了注释 Debug 代码，爆了 Output Limit Exceeded...\n",
    "\n",
    "然后因为每次循环都开了新的 Array，爆了 Memory Limit Exceeded...\n",
    "\n",
    "优化掉这个之后肯定就是 Time Limit Exceeded 了…\n",
    "\n",
    "Runtime: 2512 ms, faster than 5.96% of Python3 online submissions for Elimination Game.\n",
    "Memory Usage: 13.3 MB, less than 25.00% of Python3 online submissions for Elimination Game.\n",
    "\n",
    "这也太惨淡了。一定有什么「数学的」方法吧？\n",
    "\n",
    "`1 + ((Integer.highestOneBit(n) - 1) & (n | 0x55555555))`\n",
    "\n",
    "On every ith iteration if it is from left to right we shift the leftiest element on 1 << i\n",
    "if we are moving from right to left we have a new leftiest element (shift on 1 << i) only if we have an odd quanity of remaining elements. And it is odd if we have 1 in ith position of n\n",
    "\n",
    "What the hell???????????????????"
   ]
  }
 ],
 "metadata": {
  "kernelspec": {
   "display_name": "Python 3",
   "language": "python",
   "name": "python3"
  },
  "language_info": {
   "codemirror_mode": {
    "name": "ipython",
    "version": 3
   },
   "file_extension": ".py",
   "mimetype": "text/x-python",
   "name": "python",
   "nbconvert_exporter": "python",
   "pygments_lexer": "ipython3",
   "version": "3.7.4"
  }
 },
 "nbformat": 4,
 "nbformat_minor": 2
}
