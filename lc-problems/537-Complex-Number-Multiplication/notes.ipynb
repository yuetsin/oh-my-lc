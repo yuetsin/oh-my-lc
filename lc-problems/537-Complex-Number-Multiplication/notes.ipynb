{
 "cells": [
  {
   "cell_type": "markdown",
   "metadata": {},
   "source": [
    "# 537 Complex Number Multiplication\n",
    "\n",
    "小二题…\n",
    "\n",
    "一个字都不用多写。\n",
    "\n",
    "Runtime: 28 ms, faster than 65.70% of Python3 online submissions for Complex Number Multiplication.\n",
    "\n",
    "Memory Usage: 12.6 MB, less than 100.00% of Python3 online submissions for Complex Number Multiplication."
   ]
  }
 ],
 "metadata": {
  "kernelspec": {
   "display_name": "Python 3",
   "language": "python",
   "name": "python3"
  },
  "language_info": {
   "codemirror_mode": {
    "name": "ipython",
    "version": 3
   },
   "file_extension": ".py",
   "mimetype": "text/x-python",
   "name": "python",
   "nbconvert_exporter": "python",
   "pygments_lexer": "ipython3",
   "version": "3.7.6"
  }
 },
 "nbformat": 4,
 "nbformat_minor": 4
}
