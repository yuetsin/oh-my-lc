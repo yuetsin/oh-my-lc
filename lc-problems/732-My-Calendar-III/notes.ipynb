{
 "cells": [
  {
   "cell_type": "markdown",
   "metadata": {},
   "source": [
    "# 732 My Calendar III\n",
    "\n",
    "要找出最多有多少个日程 Overlap 在一起。\n",
    "\n",
    "有个很巧妙的办法。\n",
    "\n",
    "想象一下我们的日程是一簇蛋糕。如果我们按照时间顺序把她们排列在时间轴上，他们会在交叠的地方断裂，并且填满底部，逐渐堆高。\n",
    "\n",
    "那么每当我们遇到一件日程的开始的时候，高度就自然 + 1；遇到一件日程的结束，高度就 - 1。\n",
    "\n",
    "这样还不好找最高的位置，也就是最大 Overlapping 的个数吗？\n",
    "\n",
    "When booking a new event [start, end), \n",
    "\n",
    "count delta[start]++ and delta[end]--. \n",
    "\n",
    "When processing the values of delta in sorted order of their keys, the largest such value is the answer.\n",
    "\n",
    "In Python, we sort the set each time instead, as there is no analog to TreeMap available.\n",
    "\n",
    "这样的总复杂度是 O(N^2)。"
   ]
  }
 ],
 "metadata": {
  "kernelspec": {
   "display_name": "Python 3",
   "language": "python",
   "name": "python3"
  },
  "language_info": {
   "codemirror_mode": {
    "name": "ipython",
    "version": 3
   },
   "file_extension": ".py",
   "mimetype": "text/x-python",
   "name": "python",
   "nbconvert_exporter": "python",
   "pygments_lexer": "ipython3",
   "version": "3.7.6"
  }
 },
 "nbformat": 4,
 "nbformat_minor": 4
}
