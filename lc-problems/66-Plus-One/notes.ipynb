{
 "cells": [
  {
   "cell_type": "code",
   "execution_count": null,
   "metadata": {},
   "outputs": [],
   "source": [
    "This is not a very challenging problem... Just keep in mind that carrying may cause an extra bit at the first place."
   ]
  },
  {
   "cell_type": "code",
   "execution_count": null,
   "metadata": {},
   "outputs": [],
   "source": [
    "> Runtime: 36 ms, faster than 98.41% of Python3 online submissions for Plus One.\n",
    "> Memory Usage: 12.9 MB, less than 5.29% of Python3 online submissions for Plus One."
   ]
  },
  {
   "cell_type": "code",
   "execution_count": null,
   "metadata": {},
   "outputs": [],
   "source": [
    "However this problem is still not clear enough. For example, should we assume we're using a decimal-carry system? Is the right bits higher or lower?"
   ]
  },
  {
   "cell_type": "code",
   "execution_count": null,
   "metadata": {},
   "outputs": [],
   "source": [
    "Don't think this problem needs any samples."
   ]
  }
 ],
 "metadata": {
  "kernelspec": {
   "display_name": "Python 3",
   "language": "python",
   "name": "python3"
  }
 },
 "nbformat": 4,
 "nbformat_minor": 2
}
