{
 "cells": [
  {
   "cell_type": "markdown",
   "metadata": {},
   "source": [
    "# 274\n",
    "\n",
    "我大概知道了…好题都被锁起来了，我能做的就这种垃圾题了…\n",
    "\n",
    "H-Index 是指在发的所有文章中，\n",
    "\n",
    "被引用次数 >= k 的数量等于 k。\n",
    "\n",
    "但你这个定义在 [0] 的情况下，没有任何一个 k 可以满足。\n",
    "\n",
    "所以我返回 None 有问题吗？你一定要一个 0？\n",
    "\n",
    "B******t."
   ]
  }
 ],
 "metadata": {
  "kernelspec": {
   "display_name": "Python 3",
   "language": "python",
   "name": "python3"
  },
  "language_info": {
   "codemirror_mode": {
    "name": "ipython",
    "version": 3
   },
   "file_extension": ".py",
   "mimetype": "text/x-python",
   "name": "python",
   "nbconvert_exporter": "python",
   "pygments_lexer": "ipython3",
   "version": "3.7.4"
  }
 },
 "nbformat": 4,
 "nbformat_minor": 2
}
