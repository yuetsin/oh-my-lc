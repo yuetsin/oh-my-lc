{
 "cells": [
  {
   "cell_type": "markdown",
   "metadata": {},
   "source": [
    "# 541 Reverse String II\n",
    "\n",
    "\n",
    "Runtime: 48 ms, faster than 9.23% of Python3 online submissions for Reverse String II.\n",
    "\n",
    "Memory Usage: 12.6 MB, less than 100.00% of Python3 online submissions for Reverse String II.\n",
    "\n",
    "无聊题…\n",
    "\n",
    "就连这个 1-Liner 都这么难看…"
   ]
  },
  {
   "cell_type": "code",
   "execution_count": null,
   "metadata": {},
   "outputs": [],
   "source": [
    "class Solution:\n",
    "    def reverseStr(self, s: str, k: int) -> str:\n",
    "        return ''.join(s[i*k:(i+1)*k] if i%2 else s[i*k:(i+1)*k][::-1] for i in range(len(s)//k + 1))"
   ]
  }
 ],
 "metadata": {
  "kernelspec": {
   "display_name": "Python 3",
   "language": "python",
   "name": "python3"
  },
  "language_info": {
   "codemirror_mode": {
    "name": "ipython",
    "version": 3
   },
   "file_extension": ".py",
   "mimetype": "text/x-python",
   "name": "python",
   "nbconvert_exporter": "python",
   "pygments_lexer": "ipython3",
   "version": "3.7.6"
  }
 },
 "nbformat": 4,
 "nbformat_minor": 4
}
