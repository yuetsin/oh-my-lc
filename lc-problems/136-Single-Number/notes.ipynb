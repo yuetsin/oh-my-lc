{
 "cells": [
  {
   "cell_type": "code",
   "execution_count": null,
   "metadata": {},
   "outputs": [],
   "source": [
    "Solution #1: 解决方案是：维护两个 set() 一个 visited 一个 possible。遇到不重复的加入 visited，遇到重复的，从 possible 中删除。"
   ]
  },
  {
   "cell_type": "code",
   "execution_count": null,
   "metadata": {},
   "outputs": [],
   "source": [
    "Runtime: 40 ms, faster than 92.73% of Python3 online submissions for Single Number.\n",
    "Memory Usage: 15.7 MB, less than 5.19% of Python3 online submissions for Single Number."
   ]
  },
  {
   "cell_type": "code",
   "execution_count": null,
   "metadata": {},
   "outputs": [],
   "source": [
    "还好 Python 的 set 实现蛮高效的…"
   ]
  },
  {
   "cell_type": "code",
   "execution_count": null,
   "metadata": {},
   "outputs": [],
   "source": [
    "但我也没用到一个重要的东西。题中指明了：每个元素要么出现两次，要么出现一次（唯一一个）。这个条件没用到，其实还是蛮浪费的。"
   ]
  },
  {
   "cell_type": "code",
   "execution_count": null,
   "metadata": {},
   "outputs": [],
   "source": [
    "数学解决方案：\n",
    "class Solution(object):\n",
    "    def singleNumber(self, nums):\n",
    "        \"\"\"\n",
    "        :type nums: List[int]\n",
    "        :rtype: int\n",
    "        \"\"\"\n",
    "        return 2 * sum(set(nums)) - sum(nums)"
   ]
  },
  {
   "cell_type": "code",
   "execution_count": null,
   "metadata": {},
   "outputs": [],
   "source": [
    "十分服气…"
   ]
  },
  {
   "cell_type": "code",
   "execution_count": null,
   "metadata": {},
   "outputs": [],
   "source": [
    "Approach 4: Bit Manipulation\n",
    "\n",
    "Concept\n",
    "\n",
    "If we take XOR of zero and some bit, it will return that bit\n",
    "a\n",
    "⊕\n",
    "0\n",
    "=\n",
    "a\n",
    "a⊕0=a\n",
    "If we take XOR of two same bits, it will return 0\n",
    "a\n",
    "⊕\n",
    "a\n",
    "=\n",
    "0\n",
    "a⊕a=0\n",
    "a\n",
    "⊕\n",
    "b\n",
    "⊕\n",
    "a\n",
    "=\n",
    "(\n",
    "a\n",
    "⊕\n",
    "a\n",
    ")\n",
    "⊕\n",
    "b\n",
    "=\n",
    "0\n",
    "⊕\n",
    "b\n",
    "=\n",
    "b\n",
    "a⊕b⊕a=(a⊕a)⊕b=0⊕b=b\n",
    "So we can XOR all bits together to find the unique number."
   ]
  },
  {
   "cell_type": "code",
   "execution_count": null,
   "metadata": {},
   "outputs": [],
   "source": [
    "Bit Manipulation，利用了 (a⊕a) = 0, (a⊕0) = a 的特性以及 ⊕ 可交换的特性，一直亦或到底就行了……"
   ]
  },
  {
   "cell_type": "code",
   "execution_count": null,
   "metadata": {},
   "outputs": [],
   "source": [
    "这是目前为止我最喜欢的解决方案了。"
   ]
  }
 ],
 "metadata": {
  "kernelspec": {
   "display_name": "Python 3",
   "language": "python",
   "name": "python3"
  }
 },
 "nbformat": 4,
 "nbformat_minor": 2
}
