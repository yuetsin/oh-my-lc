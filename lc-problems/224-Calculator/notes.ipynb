{
 "cells": [
  {
   "cell_type": "markdown",
   "metadata": {},
   "source": [
    "# 224\n",
    "\n",
    "我现在严重怀疑我的小学数学水平…\n",
    "\n",
    "觉得「啊，只有加减的话优先级应该不重要吧，优先级不重要的话括号也不重要吧，那么我直接把括号去掉可以吧」\n",
    "\n",
    "不可以啊……去括号要变号的啊）"
   ]
  }
 ],
 "metadata": {
  "kernelspec": {
   "display_name": "Python 3",
   "language": "python",
   "name": "python3"
  },
  "language_info": {
   "codemirror_mode": {
    "name": "ipython",
    "version": 3
   },
   "file_extension": ".py",
   "mimetype": "text/x-python",
   "name": "python",
   "nbconvert_exporter": "python",
   "pygments_lexer": "ipython3",
   "version": "3.7.4"
  }
 },
 "nbformat": 4,
 "nbformat_minor": 2
}
