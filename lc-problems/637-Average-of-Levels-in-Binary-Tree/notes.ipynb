{
 "cells": [
  {
   "cell_type": "markdown",
   "metadata": {},
   "source": [
    "# 637 Average of Levels in Binary Tree\n",
    "\n",
    "Runtime: 72 ms, faster than 12.99% of Python3 online submissions for Average of Levels in Binary Tree.\n",
    "\n",
    "Memory Usage: 15.7 MB, less than 28.57% of Python3 online submissions for Average of Levels in Binary Tree.\n",
    "\n",
    "做一个深度遍历就好了；记录下来。\n",
    "\n",
    "优化办法：不需要保存一个 List，只需要保存当前的 Average Num 和 Count —— 就能根据此得到下一步的 Average Num 了。\n",
    "\n",
    "节约空间——O(N) 压缩到 O(1)。"
   ]
  }
 ],
 "metadata": {
  "kernelspec": {
   "display_name": "Python 3",
   "language": "python",
   "name": "python3"
  },
  "language_info": {
   "codemirror_mode": {
    "name": "ipython",
    "version": 3
   },
   "file_extension": ".py",
   "mimetype": "text/x-python",
   "name": "python",
   "nbconvert_exporter": "python",
   "pygments_lexer": "ipython3",
   "version": "3.7.6"
  }
 },
 "nbformat": 4,
 "nbformat_minor": 4
}
