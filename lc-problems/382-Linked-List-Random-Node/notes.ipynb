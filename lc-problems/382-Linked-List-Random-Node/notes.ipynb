{
 "cells": [
  {
   "cell_type": "markdown",
   "metadata": {},
   "source": [
    "# 382\n",
    "\n",
    "我大概猜出来题目是怎么判断是否随机了。\n",
    "\n",
    "不从同一次里看是否随机出现，而是多次垂直比较，看同样的条件下是否能给出类似随机的结果。\n",
    "\n",
    "---\n",
    "\n",
    "回到这题。\n",
    "\n",
    "\n",
    "Runtime: 96 ms, faster than 83.81% of Python3 online submissions for Linked List Random Node.\n",
    "\n",
    "Memory Usage: 16.9 MB, less than 16.67% of Python3 online submissions for Linked List Random Node.\n",
    "\n",
    "首先是用作弊法，直接 dump 到 List 里做。就这样还能 beat 16.67% 的 memory？他们在用内存烤蛋糕吗？\n",
    "\n"
   ]
  },
  {
   "cell_type": "code",
   "execution_count": null,
   "metadata": {},
   "outputs": [],
   "source": [
    "丢人法：\n",
    "\n",
    " * Definition for singly-linked list.\n",
    " * struct ListNode {\n",
    " *     int val;\n",
    " *     ListNode *next;\n",
    " *     ListNode(int x) : val(x), next(NULL) {}\n",
    " * };\n",
    " */\n",
    "class Solution {\n",
    "public:\n",
    "    /** @param head The linked list's head.\n",
    "        Note that the head is guaranteed to be not null, so it contains at least one node. */\n",
    "    Solution(ListNode* head) {\n",
    "        if(head == nullptr)\n",
    "            return;\n",
    "        this->head = head;\n",
    "    }\n",
    "    \n",
    "    /** Returns a random node's value. */\n",
    "    int getRandom() {\n",
    "        ListNode* cur = head;\n",
    "        int len = 0;\n",
    "        while(cur){\n",
    "            cur = cur->next;\n",
    "            len++;\n",
    "        }\n",
    "        int random_num = 0 + rand() % len;\n",
    "        int tmp = random_num;\n",
    "        cur = head;\n",
    "        while(tmp--){\n",
    "            cur = cur->next;\n",
    "        }\n",
    "        return cur->val;\n",
    "    }\n",
    "private:\n",
    "    ListNode* head;\n",
    "    int len;\n",
    "\n",
    "};\n",
    "\n",
    "/**\n",
    " * Your Solution object will be instantiated and called as such:\n",
    " * Solution* obj = new Solution(head);\n",
    " * int param_1 = obj->getRandom();\n",
    " */"
   ]
  },
  {
   "cell_type": "code",
   "execution_count": null,
   "metadata": {},
   "outputs": [],
   "source": [
    "对随机有一点厌烦了。"
   ]
  }
 ],
 "metadata": {
  "kernelspec": {
   "display_name": "Python 3",
   "language": "python",
   "name": "python3"
  },
  "language_info": {
   "codemirror_mode": {
    "name": "ipython",
    "version": 3
   },
   "file_extension": ".py",
   "mimetype": "text/x-python",
   "name": "python",
   "nbconvert_exporter": "python",
   "pygments_lexer": "ipython3",
   "version": "3.7.4"
  }
 },
 "nbformat": 4,
 "nbformat_minor": 2
}
