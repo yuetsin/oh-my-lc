{
 "cells": [
  {
   "cell_type": "markdown",
   "metadata": {},
   "source": [
    "# 691 Stickers to Spell Word\n",
    "\n",
    "\n",
    "Runtime: 5852 ms, faster than 5.34% of Python3 online submissions for Stickers to Spell Word.\n",
    "\n",
    "Memory Usage: 15.6 MB, less than 25.00% of Python3 online submissions for Stickers to Spell Word.\n",
    "\n",
    "活活跑了五秒钟…\n",
    "\n",
    "这题不是很有趣。总的来说。\n",
    "\n",
    "没有那道 Bonus 购物的题有趣。没有 IPO 募资那道题难。\n",
    "\n",
    "而且连要求也不那么严——我的答案都 Accepted 了。\n",
    "\n",
    "（虽然基本上就是给捏的答案垫背了）"
   ]
  }
 ],
 "metadata": {
  "kernelspec": {
   "display_name": "Python 3",
   "language": "python",
   "name": "python3"
  },
  "language_info": {
   "codemirror_mode": {
    "name": "ipython",
    "version": 3
   },
   "file_extension": ".py",
   "mimetype": "text/x-python",
   "name": "python",
   "nbconvert_exporter": "python",
   "pygments_lexer": "ipython3",
   "version": "3.7.6"
  }
 },
 "nbformat": 4,
 "nbformat_minor": 4
}
