{
 "cells": [
  {
   "cell_type": "code",
   "execution_count": null,
   "metadata": {},
   "outputs": [],
   "source": [
    "这题可以说做得很戏剧性了😂"
   ]
  },
  {
   "cell_type": "code",
   "execution_count": null,
   "metadata": {},
   "outputs": [],
   "source": [
    "首先，我的解法是：每一个递归的 SubFunction 都接受一个后面全部的字符串，然后返回一个 List[str]，里面包含可能的走向。"
   ]
  },
  {
   "cell_type": "code",
   "execution_count": null,
   "metadata": {},
   "outputs": [],
   "source": [
    "谁要真的这么写大概是脑子有包（就是我"
   ]
  },
  {
   "cell_type": "code",
   "execution_count": null,
   "metadata": {},
   "outputs": [],
   "source": [
    "然后，我做了一点「优化」：不要再返回 String 了，返回出现的种类数就够了。\n",
    "然后，在 TestCase = \"9371597631128776948387197132267188677349946742344217846154932859125134924241649584251978418763151253\"\n",
    "时，还是被吊打（"
   ]
  },
  {
   "cell_type": "code",
   "execution_count": null,
   "metadata": {},
   "outputs": [],
   "source": [
    "然后，想着不要去每一次 call subfunction 都去做一次 string slice，那太慢了，干脆直接把 at 作为参数，然后大家一起用一个公共的 string（多方便）"
   ]
  },
  {
   "cell_type": "code",
   "execution_count": null,
   "metadata": {},
   "outputs": [],
   "source": [
    "结果！还是 TLE！"
   ]
  },
  {
   "cell_type": "code",
   "execution_count": null,
   "metadata": {},
   "outputs": [],
   "source": [
    "最后没办法…只能用了 Dynamic Planning 动态查找表……终于……过了。"
   ]
  },
  {
   "cell_type": "code",
   "execution_count": null,
   "metadata": {},
   "outputs": [],
   "source": [
    "Runtime: 40 ms, faster than 94.28% of Python3 online submissions for Decode Ways.\n",
    "Memory Usage: 14.4 MB, less than 5.09% of Python3 online submissions for Decode Ways."
   ]
  },
  {
   "cell_type": "code",
   "execution_count": null,
   "metadata": {},
   "outputs": [],
   "source": [
    "结果一点不意外，空间占用还是太大了。"
   ]
  },
  {
   "cell_type": "code",
   "execution_count": null,
   "metadata": {},
   "outputs": [],
   "source": [
    "Discussion 区一片 PD 祥和之声。"
   ]
  }
 ],
 "metadata": {
  "kernelspec": {
   "display_name": "Python 3",
   "language": "python",
   "name": "python3"
  }
 },
 "nbformat": 4,
 "nbformat_minor": 2
}
