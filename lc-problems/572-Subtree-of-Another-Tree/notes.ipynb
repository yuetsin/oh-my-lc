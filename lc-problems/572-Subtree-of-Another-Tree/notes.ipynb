{
 "cells": [
  {
   "cell_type": "markdown",
   "metadata": {},
   "source": [
    "# 572 Subtree of Another Tree\n",
    "\n",
    "简单，递归地判断就好了。\n",
    "\n",
    "Runtime: 248 ms, faster than 60.21% of Python3 online submissions for Subtree of Another Tree.\n",
    "\n",
    "Memory Usage: 13.8 MB, less than 100.00% of Python3 online submissions for Subtree of Another Tree.\n",
    "\n",
    "第一次提交失败是…忘了判断 val 相等…我错了（"
   ]
  }
 ],
 "metadata": {
  "kernelspec": {
   "display_name": "Python 3",
   "language": "python",
   "name": "python3"
  },
  "language_info": {
   "codemirror_mode": {
    "name": "ipython",
    "version": 3
   },
   "file_extension": ".py",
   "mimetype": "text/x-python",
   "name": "python",
   "nbconvert_exporter": "python",
   "pygments_lexer": "ipython3",
   "version": "3.7.6"
  }
 },
 "nbformat": 4,
 "nbformat_minor": 4
}
