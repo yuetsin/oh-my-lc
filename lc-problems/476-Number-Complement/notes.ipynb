{
 "cells": [
  {
   "cell_type": "markdown",
   "metadata": {},
   "source": [
    "# 476 Number Complement\n",
    "\n",
    "求补码……这是 ICS 最最最开头的内容。\n",
    "\n",
    "就算是暴力转化为 String，手动改写 0、1，再转回去都能通过。\n",
    "\n",
    "Runtime: 28 ms, faster than 57.56% of Python3 online submissions for Number Complement.\n",
    "Memory Usage: 12.7 MB, less than 100.00% of Python3 online submissions for Number Complement.\n",
    "\n",
    "写成一行可以是这样："
   ]
  },
  {
   "cell_type": "code",
   "execution_count": null,
   "metadata": {},
   "outputs": [],
   "source": [
    "return int(''.join(chr(97 - ord(ch)) for ch in bin(num)[2:]),2)"
   ]
  }
 ],
 "metadata": {
  "kernelspec": {
   "display_name": "Python 3",
   "language": "python",
   "name": "python3"
  },
  "language_info": {
   "codemirror_mode": {
    "name": "ipython",
    "version": 3
   },
   "file_extension": ".py",
   "mimetype": "text/x-python",
   "name": "python",
   "nbconvert_exporter": "python",
   "pygments_lexer": "ipython3",
   "version": "3.7.6"
  }
 },
 "nbformat": 4,
 "nbformat_minor": 4
}
