{
 "cells": [
  {
   "cell_type": "markdown",
   "metadata": {},
   "source": [
    "# 230\n",
    "\n",
    "找出二叉查找树里面第 k 小的元素…\n",
    "\n",
    "我的解法又是把它当作一个退化的普通二叉树来进行处理了。这样没用到 BST 的特殊功能，显然是浪费了空间\n",
    "\n",
    "\n",
    "Runtime: 56 ms, faster than 84.72% of Python3 online submissions for Kth Smallest Element in a BST.\n",
    "Memory Usage: 18.1 MB, less than 5.45% of Python3 online submissions for Kth Smallest Element in a BST.\n",
    "\n",
    "BST是对于任意的node x，如果node y是node x的左边的节点, 那么Key(y) <= Key(x); 对于任意的node x， 如果node y 是node x的右边的节点， 那么key(y)>=key(x).\n",
    "\n",
    "然而事实上**按照中序遍历的话，得到的 BST 遍历结果就是升序排序好的**…\n",
    "\n",
    "在这项大前提的基础上，用递归还是用栈都已经无所谓了。"
   ]
  },
  {
   "cell_type": "code",
   "execution_count": null,
   "metadata": {},
   "outputs": [],
   "source": [
    "class Solution:\n",
    "    def kthSmallest(self, root, k):\n",
    "        \"\"\"\n",
    "        :type root: TreeNode\n",
    "        :type k: int\n",
    "        :rtype: int\n",
    "        \"\"\"\n",
    "        def inorder(r):\n",
    "            return inorder(r.left) + [r.val] + inorder(r.right) if r else []\n",
    "    \n",
    "        return inorder(root)[k - 1]"
   ]
  },
  {
   "cell_type": "code",
   "execution_count": null,
   "metadata": {},
   "outputs": [],
   "source": [
    "class Solution:\n",
    "    def kthSmallest(self, root, k):\n",
    "        \"\"\"\n",
    "        :type root: TreeNode\n",
    "        :type k: int\n",
    "        :rtype: int\n",
    "        \"\"\"\n",
    "        stack = []\n",
    "        \n",
    "        while True:\n",
    "            while root:\n",
    "                stack.append(root)\n",
    "                root = root.left\n",
    "            root = stack.pop()\n",
    "            k -= 1\n",
    "            if not k:\n",
    "                return root.val\n",
    "            root = root.right"
   ]
  }
 ],
 "metadata": {
  "kernelspec": {
   "display_name": "Python 3",
   "language": "python",
   "name": "python3"
  },
  "language_info": {
   "codemirror_mode": {
    "name": "ipython",
    "version": 3
   },
   "file_extension": ".py",
   "mimetype": "text/x-python",
   "name": "python",
   "nbconvert_exporter": "python",
   "pygments_lexer": "ipython3",
   "version": "3.7.4"
  }
 },
 "nbformat": 4,
 "nbformat_minor": 2
}
