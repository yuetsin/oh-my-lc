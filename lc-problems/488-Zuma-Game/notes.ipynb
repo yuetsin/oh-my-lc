{
 "cells": [
  {
   "cell_type": "markdown",
   "metadata": {},
   "source": [
    "# 488 Zuma Game\n",
    "\n",
    "这是个标标准准的 DFS…\n",
    "\n",
    "首先，没玩过祖玛游戏的人得先学一下规则。一个线性的棋盘，我们手上有一些彩珠。\n",
    "\n",
    "目的是通过插入彩珠、实现三消的方式清除所有的盘面彩珠。手上彩珠的顺序、盈余都不重要。\n",
    "\n",
    "所以我们先把手上的彩珠 hand 进行 collections.Counter 操作。\n",
    "\n",
    "然后，这个 dfs 函数干了什么呢？\n",
    "\n",
    "先用双指针 i j 把 board 给转换成 [char, int] 组合的表示形式，方便后面进行合并处理\n",
    "\n",
    "然后，想办法插入彩珠消除他们。\n",
    "\n",
    "注意，在之前一直有个误区：我一直认为是需要从 board 中删除或者交换来实现 3 碰。这或许是受对对碰这类游戏的影响吧（\n",
    "\n",
    "然而实际上是我们需要进行插入来消除。很对不起。这样改过之后，代码就很容易看了。"
   ]
  },
  {
   "cell_type": "markdown",
   "metadata": {},
   "source": [
    "breaking the board into consecutive subsequences of the same char\n",
    "\n",
    "xxx bbb sss d tttttt ffff \n",
    "etc...\n",
    "\n",
    "each group has at least a character\n",
    "\n",
    "dfs on board swiping through each subgroup sbg\n",
    "if removable (aka if my hand has enough elements to remove that subgroup), then do it and recurse\n",
    "\n",
    "(of course it might be preferable to leave that subgroup to combine it later, so one subgroup is removed at a time)\n",
    "\n",
    "if the graph was physically saved in memory\n",
    "\n",
    "u = xxx bbb sss d tttttt ffff \n",
    "the neighbours v would be\n",
    "v0 =        bbb sss d tttttt ffff \n",
    "v1 = xxx         sss d tttttt ffff \n",
    "v2 = xxx bbb        d tttttt ffff \n",
    "v3 = xxx bbb sss    tttttt ffff \n",
    "v4 = xxx bbb sss d          ffff \n",
    "how many letters to remove a group\n",
    "of size 1?: 2\n",
    "of size 2?: 1\n",
    "of size 3?: 0\n",
    "of size 4?: 0\n",
    "of size 5?: 0"
   ]
  },
  {
   "cell_type": "code",
   "execution_count": null,
   "metadata": {},
   "outputs": [],
   "source": [
    "#!/usr/bin/env python\n",
    "\n",
    "class Solution:\n",
    "    def findMinStep(self, board, hand):\n",
    "        r = self.dfs(board, collections.Counter(hand))\n",
    "        return r if r < +float('inf') else -1\n",
    "\n",
    "    def dfs(self, board, cc):\n",
    "        i, j = 0, 0\n",
    "        res = +float('inf')\n",
    "        while(j < len(board)):\n",
    "            while(j < len(board) and board[j] == board[i]):\n",
    "                j += 1\n",
    "            length = (j - i)\n",
    "\n",
    "            # the length of the substring to be removed\n",
    "            need = {3: 0, 2: 1, 1: 2}[min(3, length)]\n",
    "            # or need = 3 - min(3,j - i)\n",
    "            # but its tough to see whats going on\n",
    "\n",
    "            # is it removable\n",
    "            # if yes then go ahead and consider this option\n",
    "            # other wise\n",
    "\n",
    "            if cc[board[i]] >= need:\n",
    "                cc[board[i]] -= need\n",
    "                res = min(res, need + self.dfs(board[:i] + board[j:], cc))\n",
    "                cc[board[i]] += need\n",
    "            i = j\n",
    "        return res if board else 0"
   ]
  }
 ],
 "metadata": {
  "kernelspec": {
   "display_name": "Python 3",
   "language": "python",
   "name": "python3"
  },
  "language_info": {
   "codemirror_mode": {
    "name": "ipython",
    "version": 3
   },
   "file_extension": ".py",
   "mimetype": "text/x-python",
   "name": "python",
   "nbconvert_exporter": "python",
   "pygments_lexer": "ipython3",
   "version": "3.7.6"
  }
 },
 "nbformat": 4,
 "nbformat_minor": 4
}
