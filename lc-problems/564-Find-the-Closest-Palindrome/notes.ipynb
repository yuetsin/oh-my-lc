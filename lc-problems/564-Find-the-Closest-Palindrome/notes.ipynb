{
 "cells": [
  {
   "cell_type": "markdown",
   "metadata": {},
   "source": [
    "# 564 Find the Closest Palindrome\n",
    "\n",
    "糟糕题。\n",
    "\n",
    "未良定义的 Tie（平手）情况。"
   ]
  },
  {
   "cell_type": "code",
   "execution_count": null,
   "metadata": {},
   "outputs": [],
   "source": [
    "#!/usr/bin/env python\n",
    "\n",
    "\n",
    "class Solution:\n",
    "    def nearestPalindromic(self, n: str) -> str:\n",
    "        length = len(n)\n",
    "        if length != 1 and n[:-1] == '1' + '0' * (length - 2) and (n[-1] == '0' or n[-1] == '1'):\n",
    "            return '9' * (length - 1)\n",
    "        elif n == '9' * length and length != 1:\n",
    "            return '1' + '0' * (length - 1) + '1'\n",
    "        isPalindrome = True\n",
    "        for i in range(length // 2):\n",
    "            if n[i] != n[length - 1 - i]:\n",
    "                isPalindrome = False\n",
    "                break\n",
    "        if isPalindrome:\n",
    "            mid = int(n[length // 2])\n",
    "            mid = mid - 1 if mid != 0 else mid + 1\n",
    "            if length % 2 == 0:\n",
    "                return n[:length // 2 - 1] + str(mid) * 2 + n[length // 2 + 1:]\n",
    "            else:\n",
    "                return n[:length // 2] + str(mid) + n[length // 2 + 1:]\n",
    "        else:\n",
    "            pos = length // 2 + 1 if length % 2 else length // 2\n",
    "            same = n[:pos] + n[:length // 2][::-1]\n",
    "            front = int(n[:pos])\n",
    "            add1 = str(front + 1)\n",
    "            sub1 = str(front - 1)\n",
    "            if length % 2:\n",
    "                incr = add1 + add1[:-1][::-1]\n",
    "                decr = sub1 + sub1[:-1][::-1]\n",
    "            else:\n",
    "                incr = add1 + add1[::-1]\n",
    "                decr = sub1 + sub1[::-1]\n",
    "            num = int(n)\n",
    "            candi = [(abs(int(same) - num), same),\n",
    "                     (int(incr) - num, incr), (num - int(decr), decr)]\n",
    "            return min(candi)[1]\n",
    "\n"
   ]
  }
 ],
 "metadata": {
  "kernelspec": {
   "display_name": "Python 3",
   "language": "python",
   "name": "python3"
  },
  "language_info": {
   "codemirror_mode": {
    "name": "ipython",
    "version": 3
   },
   "file_extension": ".py",
   "mimetype": "text/x-python",
   "name": "python",
   "nbconvert_exporter": "python",
   "pygments_lexer": "ipython3",
   "version": "3.7.6"
  }
 },
 "nbformat": 4,
 "nbformat_minor": 4
}
