{
 "cells": [
  {
   "cell_type": "markdown",
   "metadata": {},
   "source": [
    "# 762 Prime Number of Set Bits in Binary Representation\n",
    "\n",
    "这个呢…描述题目用的自然语言题干甚至还没有 Python 代码好懂。\n",
    "\n",
    "最好想到的解法就是 O(N) 的；而可惜也没有更好的解法了。\n",
    "\n",
    "就像生活一样无趣。\n",
    "\n",
    "唯一一点可能有点意思的就是，大到 19 的质数表就够用了。因为题目给出的数据不会超过 2 ** 19。\n",
    "\n",
    "Runtime: 188 ms, faster than 87.85% of Python3 online submissions for Prime Number of Set Bits in Binary Representation.\n",
    "\n",
    "Memory Usage: 12.9 MB, less than 100.00% of Python3 online submissions for Prime Number of Set Bits in Binary Representation."
   ]
  }
 ],
 "metadata": {
  "kernelspec": {
   "display_name": "Python 3",
   "language": "python",
   "name": "python3"
  },
  "language_info": {
   "codemirror_mode": {
    "name": "ipython",
    "version": 3
   },
   "file_extension": ".py",
   "mimetype": "text/x-python",
   "name": "python",
   "nbconvert_exporter": "python",
   "pygments_lexer": "ipython3",
   "version": "3.7.6"
  }
 },
 "nbformat": 4,
 "nbformat_minor": 4
}
