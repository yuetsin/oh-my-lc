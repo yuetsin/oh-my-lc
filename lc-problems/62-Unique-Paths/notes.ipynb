{
 "cells": [
  {
   "cell_type": "code",
   "execution_count": null,
   "metadata": {},
   "outputs": [],
   "source": [
    "I'll say senior high math education really helped me a lot. Never thought in this way."
   ]
  },
  {
   "cell_type": "code",
   "execution_count": null,
   "metadata": {},
   "outputs": [],
   "source": [
    "We may express it as C(n - 1, m - 1 + n - 1) (or C(m - 1, m - 1 + n - 1) is the same).\n",
    "There are m + n - 2 steps to go in total, and m - 1 right and n - 1 down. It's a simplest Permutation and Combination Problem."
   ]
  }
 ],
 "metadata": {
  "kernelspec": {
   "display_name": "Python 3",
   "language": "python",
   "name": "python3"
  }
 },
 "nbformat": 4,
 "nbformat_minor": 2
}
