{
 "cells": [
  {
   "cell_type": "markdown",
   "metadata": {},
   "source": [
    "# 479 Largest Palindrome Product\n",
    "\n",
    "两个 n 位数字乘积所能得到的最大回文数 % 1337 是多少？\n",
    "\n",
    "因为限定 n 只能取 1 到 8，这么窄的取值范围直接 CheatSheet 啊…\n",
    "\n",
    "（另外，题目的 Test Case Runner 还有 bug，等于 8 直接爆炸…）\n",
    "\n",
    "但是，我们还是看看靠谱的解法吧…"
   ]
  },
  {
   "cell_type": "markdown",
   "metadata": {},
   "source": [
    "事实上，这里用 Brute Force 就能解决了。先用 10^(i - 1) ~ 10^i 之间的两个数构造出所有可能的回文数，再看他们能否被分解成两个 n 位数字的乘积。\n",
    "\n",
    "回文数很少（相对而言）啊，而且我们从大往小找，一定能先找出最大的。聪明吧？"
   ]
  }
 ],
 "metadata": {
  "kernelspec": {
   "display_name": "Python 3",
   "language": "python",
   "name": "python3"
  },
  "language_info": {
   "codemirror_mode": {
    "name": "ipython",
    "version": 3
   },
   "file_extension": ".py",
   "mimetype": "text/x-python",
   "name": "python",
   "nbconvert_exporter": "python",
   "pygments_lexer": "ipython3",
   "version": "3.7.6"
  }
 },
 "nbformat": 4,
 "nbformat_minor": 4
}
