{
 "cells": [
  {
   "cell_type": "markdown",
   "metadata": {},
   "source": [
    "# 332\n",
    "\n",
    "Runtime: 92 ms, faster than 71.78% of Python3 online submissions for Reconstruct Itinerary.\n",
    "\n",
    "Memory Usage: 13.9 MB, less than 7.69% of Python3 online submissions for Reconstruct Itinerary.\n",
    "\n",
    "完全不知道这题想干什么…\n",
    "\n",
    "简单说，有一堆机票，从 JFK 出发。要通过这些机票走遍所有这些地方，并且要求走过的路线的字母序最小（沙雕限制）。\n",
    "\n",
    "结果就是得用 DFS。\n",
    "\n",
    "DFS 嘛。\n",
    "\n",
    "只要我们先把 Graph 中每一个可及机场的列表（也就是 graph[src]）事先按照字典顺序排序好，\n",
    "\n",
    "就可以保证 DFS（深度优先搜索）的时候走出字典序最小的一条路。"
   ]
  },
  {
   "cell_type": "code",
   "execution_count": null,
   "metadata": {},
   "outputs": [],
   "source": [
    "#!/usr/bin/env python\n",
    "\n",
    "class Solution:\n",
    "    def findItinerary(self, tickets: List[List[str]]) -> List[str]:\n",
    "        graph = collections.defaultdict(list)\n",
    "        num_edge = 0\n",
    "        for ticket in tickets:\n",
    "            src, dst = ticket\n",
    "            num_edge += 1\n",
    "            graph[src].append(dst)\n",
    "\n",
    "        for src in graph:\n",
    "            graph[src].sort(reverse=True)\n",
    "\n",
    "        path_tmp = list()\n",
    "        path_left = list()\n",
    "        path_right = list()\n",
    "\n",
    "        stk = [\"JFK\"]\n",
    "        num_edge_visited = 0\n",
    "        while len(stk) > 0:\n",
    "            node = stk.pop()\n",
    "            num_edge_visited += 1\n",
    "            path_tmp.append(node)\n",
    "            if len(graph[node]) > 0:\n",
    "                next_node = graph[node].pop()\n",
    "                stk.append(next_node)\n",
    "            else:\n",
    "                path = path_left + path_tmp + path_right\n",
    "                if num_edge_visited - 1 < num_edge:\n",
    "\n",
    "                    N = len(path)\n",
    "                    for i in range(N-1, -1, -1):\n",
    "                        if len(graph[path[i]]) > 0:\n",
    "                            node_next = graph[path[i]].pop()\n",
    "                            stk.append(node_next)\n",
    "                            path_left = path[:i+1]\n",
    "                            path_right = path[i+1:]\n",
    "                            path_tmp = list()\n",
    "                            break\n",
    "                else:\n",
    "                    return path"
   ]
  }
 ],
 "metadata": {
  "kernelspec": {
   "display_name": "Python 3",
   "language": "python",
   "name": "python3"
  },
  "language_info": {
   "codemirror_mode": {
    "name": "ipython",
    "version": 3
   },
   "file_extension": ".py",
   "mimetype": "text/x-python",
   "name": "python",
   "nbconvert_exporter": "python",
   "pygments_lexer": "ipython3",
   "version": "3.7.4"
  }
 },
 "nbformat": 4,
 "nbformat_minor": 2
}
