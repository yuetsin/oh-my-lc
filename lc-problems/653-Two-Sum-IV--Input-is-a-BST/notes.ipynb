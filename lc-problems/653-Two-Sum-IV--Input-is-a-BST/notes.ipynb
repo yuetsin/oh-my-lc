{
 "cells": [
  {
   "cell_type": "markdown",
   "metadata": {},
   "source": [
    "# 653 Two Sum IV - Input is a BST\n",
    "\n",
    "Runtime: 92 ms, faster than 27.62% of Python3 online submissions for Two Sum IV - Input is a BST.\n",
    "\n",
    "Memory Usage: 15.1 MB, less than 100.00% of Python3 online submissions for Two Sum IV - Input is a BST.\n",
    "\n",
    "用 Dict 就好了。\n",
    "\n",
    "只不过，留意到如果是 target == k * 2，那就必须保证 k 的出现次数大于 1 才能加得起来。\n",
    "\n",
    "不过，这好像也没有用到 BST 的性质啊？\n",
    "\n",
    "Check if the sum of the elements pointed by l and r is equal to the required sum k. If so, return a True immediately.\n",
    "\n",
    "Otherwise, if the sum of the current two elements is lesser than the required sum k, update l to point to the next element. This is done, because, we need to increase the sum of the current elements, which can only be done by increasing the smaller number.\n",
    "\n",
    "Otherwise, if the sum of the current two elements is larger than the required sum k, update r to point to the previous element. This is done, because, we need to decrease the sum of the current elements, which can only be done by reducing the larger number.\n",
    "\n",
    "Continue steps 1. to 3. till the left pointer l crosses the right pointer r.\n",
    "\n",
    "这就是利用 BST 的性质。"
   ]
  }
 ],
 "metadata": {
  "kernelspec": {
   "display_name": "Python 3",
   "language": "python",
   "name": "python3"
  },
  "language_info": {
   "codemirror_mode": {
    "name": "ipython",
    "version": 3
   },
   "file_extension": ".py",
   "mimetype": "text/x-python",
   "name": "python",
   "nbconvert_exporter": "python",
   "pygments_lexer": "ipython3",
   "version": "3.7.6"
  }
 },
 "nbformat": 4,
 "nbformat_minor": 4
}
