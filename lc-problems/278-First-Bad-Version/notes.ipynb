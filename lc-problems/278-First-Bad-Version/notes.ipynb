{
 "cells": [
  {
   "cell_type": "markdown",
   "metadata": {},
   "source": [
    "# 278\n",
    "\n",
    "维护两根指针，初始化为 -1 -> n，一个是 minBadVersion，一个是 maxGoodVersion。\n",
    "\n",
    "考虑到一定有返回值，也就是说 bad Version 一定存在，因此 minBadVersion 初始化为 n。\n",
    "\n",
    "但是 good Version 不一定存在，可能到头来全部都是 bad version。所以 maxGoodVersion 得初始化为 -1。\n",
    "\n",
    "每次决定中间的那个是不是 bad Version，然后就可以把范围缩窄*性心包炎*\n",
    "\n",
    "（缩窄…居然给我联想出来这个）\n",
    "\n",
    "…缩窄一半。然后只需要调用 LogN 次 API 就好了。\n",
    "\n",
    "\n",
    "坑（我完美避过的坑）\n",
    "\n",
    "用某些语言的时候，需要用 low + ( high - low ) / 2 来计算中值来避免移除。\n",
    "\n",
    "（但是谁叫你用 Python 写的呢…）"
   ]
  }
 ],
 "metadata": {
  "kernelspec": {
   "display_name": "Python 3",
   "language": "python",
   "name": "python3"
  },
  "language_info": {
   "codemirror_mode": {
    "name": "ipython",
    "version": 3
   },
   "file_extension": ".py",
   "mimetype": "text/x-python",
   "name": "python",
   "nbconvert_exporter": "python",
   "pygments_lexer": "ipython3",
   "version": "3.7.4"
  }
 },
 "nbformat": 4,
 "nbformat_minor": 2
}
