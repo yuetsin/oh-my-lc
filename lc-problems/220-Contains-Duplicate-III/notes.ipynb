{
 "cells": [
  {
   "cell_type": "markdown",
   "metadata": {},
   "source": [
    "# 220\n",
    "\n",
    "Contains Duplicate 应该可以在看过的系列题里面排倒数。"
   ]
  },
  {
   "cell_type": "code",
   "execution_count": null,
   "metadata": {},
   "outputs": [],
   "source": [
    "class Solution:\n",
    "    def containsNearbyAlmostDuplicate(self, nums: List[int], k: int, t: int) -> bool:\n",
    "        if k < 1 or t < 0:\n",
    "            return False\n",
    "        dic = collections.OrderedDict()\n",
    "        for n in nums:\n",
    "            key = n if not t else n // t\n",
    "            for m in (dic.get(key - 1), dic.get(key), dic.get(key + 1)):\n",
    "                if m is not None and abs(n - m) <= t:\n",
    "                    return True\n",
    "            if len(dic) == k:\n",
    "                dic.popitem(False)\n",
    "            dic[key] = n\n",
    "        return False"
   ]
  },
  {
   "cell_type": "markdown",
   "metadata": {},
   "source": [
    "这个 Solution 嘛…可能需要一点额外解释：\n",
    "\n",
    "如果： | nums[i] - nums[j] | <= t 式a\n",
    "\n",
    "等价： | nums[i] / t - nums[j] / t | <= 1 式b\n",
    "\n",
    "推出： | floor(nums[i] / t) - floor(nums[j] / t) | <= 1 式c\n",
    "\n",
    "等价： floor(nums[j] / t) ∈ {floor(nums[i] / t) - 1, floor(nums[i] / t), floor(nums[i] / t) + 1} 式d\n",
    "\n",
    "其中式b是式c的充分非必要条件，因为逆否命题与原命题等价，所以：\n",
    "\n",
    "如果： floor(nums[j] / t) ∉ {floor(nums[i] / t) - 1, floor(nums[i] / t), floor(nums[i] / t) + 1} 非d\n",
    "\n",
    "推出： | nums[i] - nums[j] | > t 非 a"
   ]
  },
  {
   "cell_type": "markdown",
   "metadata": {},
   "source": [
    "虽然上面这种方式套了两个 for 循环，但实际上里面那个 for 循环的内容是一定的（只有三项），因此可以认定这一层循环不会增加复杂度。"
   ]
  },
  {
   "cell_type": "markdown",
   "metadata": {},
   "source": [
    "事实上还有一个完全等价，但是更易懂的方法。那就是使用 BucketSort（桶排序！真没想到还能碰见这个）"
   ]
  },
  {
   "cell_type": "code",
   "execution_count": null,
   "metadata": {},
   "outputs": [],
   "source": [
    "def containsNearbyAlmostDuplicate(self, nums, k, t):\n",
    "    # Bucket sort. Each bucket has size of t. For each number, the possible\n",
    "    # candidate can only be in the same bucket or the two buckets besides.\n",
    "    # Keep as many as k buckets to ensure that the difference is at most k.\n",
    "    buckets = {}\n",
    "    for i, v in enumerate(nums):\n",
    "        # t == 0 is a special case where we only have to check the bucket\n",
    "        # that v is in.\n",
    "        bucketNum, offset = (v / t, 1) if t else (v, 0)\n",
    "        for idx in xrange(bucketNum - offset, bucketNum + offset + 1):\n",
    "            if idx in buckets and abs(buckets[idx] - nums[i]) <= t:\n",
    "                return True\n",
    "\n",
    "        buckets[bucketNum] = nums[i]\n",
    "        if len(buckets) > k:\n",
    "            # Remove the bucket which is too far away. Beware of zero t.\n",
    "            del buckets[nums[i - k] / t if t else nums[i - k]]\n",
    "\n",
    "    return False"
   ]
  },
  {
   "cell_type": "markdown",
   "metadata": {},
   "source": [
    "因为你要求了差值小于 t 且距离小于 k 的才计入之中对吧，那么事情简单了，我们只需要回溯其中一部分判断是否重复就可以了。\n",
    "也就是我们的前一个和后一个 bucket。"
   ]
  }
 ],
 "metadata": {
  "kernelspec": {
   "display_name": "Python 3",
   "language": "python",
   "name": "python3"
  },
  "language_info": {
   "codemirror_mode": {
    "name": "ipython",
    "version": 3
   },
   "file_extension": ".py",
   "mimetype": "text/x-python",
   "name": "python",
   "nbconvert_exporter": "python",
   "pygments_lexer": "ipython3",
   "version": "3.7.4"
  }
 },
 "nbformat": 4,
 "nbformat_minor": 2
}
