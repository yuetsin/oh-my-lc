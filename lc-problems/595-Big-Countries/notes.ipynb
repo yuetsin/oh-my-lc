{
 "cells": [
  {
   "cell_type": "markdown",
   "metadata": {},
   "source": [
    "# 595 Big Countries\n",
    "\n",
    "Runtime: 435 ms, faster than 42.60% of MySQL online submissions for Big Countries.\n",
    "\n",
    "Memory Usage: 0B, less than 100.00% of MySQL online submissions for Big Countries.\n",
    "\n",
    "SELECT WHERE 初级教程…那不谈"
   ]
  }
 ],
 "metadata": {
  "kernelspec": {
   "display_name": "Python 3",
   "language": "python",
   "name": "python3"
  },
  "language_info": {
   "codemirror_mode": {
    "name": "ipython",
    "version": 3
   },
   "file_extension": ".py",
   "mimetype": "text/x-python",
   "name": "python",
   "nbconvert_exporter": "python",
   "pygments_lexer": "ipython3",
   "version": "3.7.6"
  }
 },
 "nbformat": 4,
 "nbformat_minor": 4
}
