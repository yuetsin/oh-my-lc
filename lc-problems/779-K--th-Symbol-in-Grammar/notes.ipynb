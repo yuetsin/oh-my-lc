{
 "cells": [
  {
   "cell_type": "markdown",
   "metadata": {},
   "source": [
    "# 779 K-th Symbol in Grammar\n",
    "\n",
    "简单思考一下。把 0 -> 01，1 -> 10 延拓，结果是什么？\n",
    "\n",
    "所有奇数位上的数字都和上一层对应的数相同；偶数位则刚好相反。\n",
    "\n",
    "这样不就很简单了。顺便，大家都用 lru_cache 盖一层，更快一些。\n",
    "\n",
    "Runtime: 28 ms, faster than 66.41% of Python3 online submissions for K-th Symbol in Grammar.\n",
    "\n",
    "Memory Usage: 13.8 MB, less than 25.00% of Python3 online submissions for K-th Symbol in Grammar."
   ]
  }
 ],
 "metadata": {
  "kernelspec": {
   "display_name": "Python 3",
   "language": "python",
   "name": "python3"
  },
  "language_info": {
   "codemirror_mode": {
    "name": "ipython",
    "version": 3
   },
   "file_extension": ".py",
   "mimetype": "text/x-python",
   "name": "python",
   "nbconvert_exporter": "python",
   "pygments_lexer": "ipython3",
   "version": "3.7.6"
  }
 },
 "nbformat": 4,
 "nbformat_minor": 2
}
