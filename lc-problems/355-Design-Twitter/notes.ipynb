{
 "cells": [
  {
   "cell_type": "markdown",
   "metadata": {},
   "source": [
    "# 355\n",
    "\n",
    "原来 Twitter 写得这么烂\n",
    "\n",
    "难怪国内上不去（x）\n",
    "\n",
    "Runtime: 256 ms, faster than 19.20% of Python3 online submissions for Design Twitter.\n",
    "\n",
    "Memory Usage: 20.7 MB, less than 5.26% of Python3 online submissions for Design Twitter.\n",
    "\n",
    "总归，两个坑：\n",
    "\n",
    "1.就算我谁也没关注，我也应该能看到我自己发的 Tweet；\n",
    "\n",
    "2.Python set 试图 remove 一个不存在的值会抛异常。\n",
    "\n",
    "以上。"
   ]
  }
 ],
 "metadata": {
  "kernelspec": {
   "display_name": "Python 3",
   "language": "python",
   "name": "python3"
  },
  "language_info": {
   "codemirror_mode": {
    "name": "ipython",
    "version": 3
   },
   "file_extension": ".py",
   "mimetype": "text/x-python",
   "name": "python",
   "nbconvert_exporter": "python",
   "pygments_lexer": "ipython3",
   "version": "3.7.4"
  }
 },
 "nbformat": 4,
 "nbformat_minor": 2
}
