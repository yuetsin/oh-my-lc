{
 "cells": [
  {
   "cell_type": "code",
   "execution_count": null,
   "metadata": {},
   "outputs": [],
   "source": [
    "难得一个 Easy 题…这题就是 #82 的弱化版了。只要不是传进来 None，就不可能出现空链表的情况。"
   ]
  },
  {
   "cell_type": "code",
   "execution_count": null,
   "metadata": {},
   "outputs": [],
   "source": [
    "顺带一提，本题的条件给的稍强了一点。Sorted List 其实只用到了「value 相同的元素必定相邻」这一个弱化条件。"
   ]
  }
 ],
 "metadata": {
  "kernelspec": {
   "display_name": "Python 3",
   "language": "python",
   "name": "python3"
  }
 },
 "nbformat": 4,
 "nbformat_minor": 2
}
