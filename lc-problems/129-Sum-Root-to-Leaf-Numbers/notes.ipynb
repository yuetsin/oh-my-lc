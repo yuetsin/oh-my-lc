{
 "cells": [
  {
   "cell_type": "code",
   "execution_count": null,
   "metadata": {},
   "outputs": [],
   "source": [
    "这题…如果使用 int 来传递，有个大问题：我们在根节点的时候，并不知道他的位数是多少。不同的枝会有不同的长度，同一个节点也可能代表不同的位。\n",
    "Int 没法写。"
   ]
  },
  {
   "cell_type": "code",
   "execution_count": null,
   "metadata": {},
   "outputs": [],
   "source": [
    "所以还是用 String 吧？很开心。每次往前加，不用管现在是哪一位。"
   ]
  },
  {
   "cell_type": "code",
   "execution_count": null,
   "metadata": {},
   "outputs": [],
   "source": [
    "> Runtime: 36 ms, faster than 95.83% of Python3 online submissions for Sum Root to Leaf Numbers.\n",
    "> Memory Usage: 13.3 MB, less than 23.76% of Python3 online submissions for Sum Root to Leaf Numbers."
   ]
  },
  {
   "cell_type": "code",
   "execution_count": null,
   "metadata": {},
   "outputs": [],
   "source": [
    "当然因为用了 STRING，所以空间占用还是很大的。"
   ]
  },
  {
   "cell_type": "code",
   "execution_count": null,
   "metadata": {},
   "outputs": [],
   "source": [
    "Sample 办法？简单说，不要用 String 来存。只用到了 0 - 9 十个 ASCII，却引入了几百个（Python 而言，由于默认用 UTF-8，可能还不止此数）charset。"
   ]
  },
  {
   "cell_type": "code",
   "execution_count": null,
   "metadata": {},
   "outputs": [],
   "source": [
    "还不如直接用 List[int]（还减少了 str <=> int 的耗费时间）"
   ]
  }
 ],
 "metadata": {
  "kernelspec": {
   "display_name": "Python 3",
   "language": "python",
   "name": "python3"
  }
 },
 "nbformat": 4,
 "nbformat_minor": 2
}
