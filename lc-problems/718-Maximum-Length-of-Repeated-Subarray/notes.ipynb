{
 "cells": [
  {
   "cell_type": "markdown",
   "metadata": {},
   "source": [
    "# 718 Maximum Length of Repeated Subarray\n",
    "\n",
    "这题心态爆炸…\n",
    "\n",
    "先是用了普通的 Naive 方法，没有在「到头」的时候停止搜索。结果，在 A == B 的时候 TLE。\n",
    "\n",
    "后来加了这一条。然后，却在 A 几乎完全 == B，只在很靠后的一个地方 != 的时候 TLE。\n",
    "\n",
    "实际上，用一张 (m + 1) × (n + 1) 的 DP 表就好了…\n",
    "\n",
    "完全没必要搞得那么麻烦。\n",
    "\n",
    "虽说如此，Python DP 还是跑了六秒半钟。\n",
    "\n",
    "> 不愧是 Python，轻易.jpg"
   ]
  }
 ],
 "metadata": {
  "kernelspec": {
   "display_name": "Python 3",
   "language": "python",
   "name": "python3"
  },
  "language_info": {
   "codemirror_mode": {
    "name": "ipython",
    "version": 3
   },
   "file_extension": ".py",
   "mimetype": "text/x-python",
   "name": "python",
   "nbconvert_exporter": "python",
   "pygments_lexer": "ipython3",
   "version": "3.7.6"
  }
 },
 "nbformat": 4,
 "nbformat_minor": 4
}
