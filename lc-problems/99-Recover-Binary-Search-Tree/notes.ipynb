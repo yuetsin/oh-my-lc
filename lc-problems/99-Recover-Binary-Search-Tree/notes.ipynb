{
 "cells": [
  {
   "cell_type": "code",
   "execution_count": null,
   "metadata": {},
   "outputs": [],
   "source": [
    "写得中规中矩，一个 O(N) 空间复杂度的算法。\n",
    "基于这一点共识：BST 的中序遍历一定是严格递增的。\n",
    "\n",
    "然后我为了找出哪两个元素一交换就有序了…\n",
    "真的给她排了个序然后一位位比较…\n",
    "我觉得有点傻。真的。但是（基于这个思路下）好像也没找到更好的办法了。\n",
    "\n",
    "> Runtime: 88 ms, faster than 74.10% of Python3 online submissions for Recover Binary Search Tree.\n",
    "> Memory Usage: 13.5 MB, less than 5.45% of Python3 online submissions for Recover Binary Search Tree."
   ]
  },
  {
   "cell_type": "code",
   "execution_count": null,
   "metadata": {},
   "outputs": [],
   "source": [
    "顺带一提，按自定义 key 的排序可以这么写：\n",
    "\n",
    "aList.sort(key=lambda i : i.property)\n",
    "\n",
    "就是对一堆 i 进行排序的时候，按照 i.property 作为排序基准。"
   ]
  },
  {
   "cell_type": "code",
   "execution_count": null,
   "metadata": {},
   "outputs": [],
   "source": [
    "挑战在这里：\n",
    "\n",
    "A solution using O(n) space is pretty straight forward.\n",
    "Could you devise a constant space solution?"
   ]
  },
  {
   "cell_type": "code",
   "execution_count": null,
   "metadata": {},
   "outputs": [],
   "source": [
    "答案是使用 Morris Traversal。这种遍历方式可以轻松地实现 O(1) 空间复杂度的中序遍历。\n",
    "然而在 n = 2 即只有两个结点时，MT 不工作。因此 @fentoyal 的答案对这种情况进行了特殊处理。"
   ]
  }
 ],
 "metadata": {
  "kernelspec": {
   "display_name": "Python 3",
   "language": "python",
   "name": "python3"
  }
 },
 "nbformat": 4,
 "nbformat_minor": 2
}
