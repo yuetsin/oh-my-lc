{
 "cells": [
  {
   "cell_type": "code",
   "execution_count": null,
   "metadata": {},
   "outputs": [],
   "source": [
    "有点无聊的题目…我有点好奇为什么跟 #105 比起来，#106 的通过率居然更低…"
   ]
  },
  {
   "cell_type": "code",
   "execution_count": null,
   "metadata": {},
   "outputs": [],
   "source": [
    "> Runtime: 212 ms, faster than 41.47% of Python3 online submissions for Construct Binary Tree from Inorder and Postorder Traversal.\n",
    "> Memory Usage: 87.7 MB, less than 6.58% of Python3 online submissions for Construct Binary Tree from Inorder and Postorder Traversal."
   ]
  },
  {
   "cell_type": "code",
   "execution_count": null,
   "metadata": {},
   "outputs": [],
   "source": [
    "就连这个也没怎么变。几乎一致。\n",
    "Sample 嘛…还是用 Stack 来实现。只是调用的时候再改一下参数就好啦。"
   ]
  },
  {
   "cell_type": "code",
   "execution_count": null,
   "metadata": {},
   "outputs": [],
   "source": [
    "# Definition for a  binary tree node\n",
    "# class TreeNode:\n",
    "#     def __init__(self, x):\n",
    "#         self.val = x\n",
    "#         self.left = None\n",
    "#         self.right = None\n",
    "\n",
    "class Solution:\n",
    "    # @param inorder, a list of integers\n",
    "    # @param postorder, a list of integers\n",
    "    # @return a tree node\n",
    "    # 12:00\n",
    "    def buildTree(self, inorder, postorder):\n",
    "        if not inorder or not postorder:\n",
    "            return None\n",
    "        \n",
    "        root = TreeNode(postorder.pop())\n",
    "        inorderIndex = inorder.index(root.val)\n",
    "\n",
    "        root.right = self.buildTree(inorder[inorderIndex+1:], postorder)\n",
    "        root.left = self.buildTree(inorder[:inorderIndex], postorder)\n",
    "\n",
    "        return root"
   ]
  }
 ],
 "metadata": {
  "kernelspec": {
   "display_name": "Python 3",
   "language": "python",
   "name": "python3"
  }
 },
 "nbformat": 4,
 "nbformat_minor": 2
}
