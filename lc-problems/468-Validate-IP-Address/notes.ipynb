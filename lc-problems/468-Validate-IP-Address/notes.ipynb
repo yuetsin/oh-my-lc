{
 "cells": [
  {
   "cell_type": "markdown",
   "metadata": {},
   "source": [
    "# 468 Validate IP Address\n",
    "\n",
    "无聊题。\n",
    "\n",
    "直接用 Python 3.8 新增的 ipaddress 包可解。注意到 ipaddress 在遇到 IP 节前缀 0（无论是 IPv4 还是 v6）时，会把它当作八进制来解读，并以此来确认其是否满足条件。因此需要特别处理。\n",
    "\n",
    "题目里直接把「前缀 0」作为一个特征拿出来规定并不合适。"
   ]
  }
 ],
 "metadata": {
  "kernelspec": {
   "display_name": "Python 3",
   "language": "python",
   "name": "python3"
  },
  "language_info": {
   "codemirror_mode": {
    "name": "ipython",
    "version": 3
   },
   "file_extension": ".py",
   "mimetype": "text/x-python",
   "name": "python",
   "nbconvert_exporter": "python",
   "pygments_lexer": "ipython3",
   "version": "3.7.6"
  }
 },
 "nbformat": 4,
 "nbformat_minor": 4
}
