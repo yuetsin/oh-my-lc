{
 "cells": [
  {
   "cell_type": "code",
   "execution_count": null,
   "metadata": {},
   "outputs": [],
   "source": [
    "The limitation of this problem is strict: Your algorithm should run in O(n) time and uses constant extra space."
   ]
  },
  {
   "cell_type": "code",
   "execution_count": null,
   "metadata": {},
   "outputs": [],
   "source": [
    "So that basically means we can't perform any kind of sorting or that would violate the time complexity limit."
   ]
  },
  {
   "cell_type": "code",
   "execution_count": null,
   "metadata": {},
   "outputs": [],
   "source": [
    "But there is the fastest Python3 submission:"
   ]
  },
  {
   "cell_type": "code",
   "execution_count": null,
   "metadata": {},
   "outputs": [],
   "source": [
    "class Solution:\n",
    "    def firstMissingPositive(self, nums: 'List[int]') -> 'int':\n",
    "        nums = sorted(list({num for num in nums if num > 0}))\n",
    "        prev = 0\n",
    "        for num in nums:\n",
    "            if num - prev > 1:\n",
    "                return prev + 1\n",
    "            prev = num\n",
    "        return prev + 1"
   ]
  },
  {
   "cell_type": "code",
   "execution_count": null,
   "metadata": {},
   "outputs": [],
   "source": [
    "That's not what it should be. sorted(list({num for num in nums if num > 0})) might goes over O(n), even most occasions it would not be slow at all."
   ]
  },
  {
   "cell_type": "code",
   "execution_count": null,
   "metadata": {},
   "outputs": [],
   "source": [
    "The C++ real solution is really admirable: "
   ]
  },
  {
   "cell_type": "code",
   "execution_count": null,
   "metadata": {},
   "outputs": [],
   "source": [
    "> Put each number in its right place.\n",
    "\n",
    "> For example:\n",
    "\n",
    "> When we find 5, then swap it with A[4].\n",
    "\n",
    "> At last, the first place where its number is not right, return the place + 1."
   ]
  },
  {
   "cell_type": "code",
   "execution_count": null,
   "metadata": {},
   "outputs": [],
   "source": [
    "Brilliant."
   ]
  }
 ],
 "metadata": {
  "kernelspec": {
   "display_name": "Python 3",
   "language": "python",
   "name": "python3"
  }
 },
 "nbformat": 4,
 "nbformat_minor": 2
}
