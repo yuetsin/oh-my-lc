{
 "cells": [
  {
   "cell_type": "markdown",
   "metadata": {},
   "source": [
    "# 665 Non-decreasing Array\n",
    "\n",
    "并不是一道「Easy」题啊…\n",
    "\n",
    "Runtime: 200 ms, faster than 68.33% of Python3 online submissions for Non-decreasing Array.\n",
    "\n",
    "Memory Usage: 13.7 MB, less than 100.00% of Python3 online submissions for Non-decreasing Array.\n",
    "\n",
    "首先，按照直觉，我们先统计一下有多少个 pair <A[p], A[p + 1]> 有 A[p] > A[p+1] 存在，也就是有多少个相邻的逆序对。\n",
    "\n",
    "假如有两个及以上，咱们就不用看了。一定是 False。\n",
    "\n",
    "证明：假如这两个 Pair 不连续，那么就存在 a b ... c d 满足 a > b 且 c > d。显然只能更改一个数的值无法同时修正这两个 >。\n",
    "\n",
    "假如这两个 Pair 连续，也就是存在 a b c 满足 a > b > c。那么这样 a 也 > c。无论更新 a、b、c 里的哪一个，都还是会存在递减对。\n",
    "\n",
    "因此这样的话可以直接判 False。\n",
    "\n",
    "假如是 0 个，那太好了。直接 True。\n",
    "\n",
    "问题出在「存在 1 个逆序对」的时候。\n",
    "\n",
    "假设只存在一个逆序对 pair<A[p], A[p + 1]>。\n",
    "\n",
    "p = 0 的时候，完全🈚️问题。直接覆盖 A[p] := A[p + 1] 就好了，因为 A[0] 前面没有需要满足的数字约束了。\n",
    "\n",
    "p = len(A) - 2 的时候同理，直接令 A[p + 1] = A[p]。\n",
    "\n",
    "除去这两种（极其特殊的）情况，我们需要考虑的数字有四个：\n",
    "\n",
    "A[p - 1]，A[p]，A[p + 1]，A[p + 2]。而且满足 A[p - 1] <= A[p]，A[p] > A[p + 1]，A[p + 1] <= A[p + 2]。\n",
    "\n",
    "要想把这个关系给弄直了，我们要么把 A[p] := A[p + 1]，这时候要求 A[p - 1] <= A[p + 1] 还能满足；\n",
    "\n",
    "要么把 A[p + 1] := A[p]，这时候要求 A[p] <= A[p + 2] 还满足。\n",
    "\n",
    "就是这么回事。\n",
    "\n",
    "@awice 这个Solution 还勉强能懂…\n",
    "\n",
    "就是，我想象不出来会不会有人用 Brute Force 做这道题…太勉强了…"
   ]
  }
 ],
 "metadata": {
  "kernelspec": {
   "display_name": "Python 3",
   "language": "python",
   "name": "python3"
  },
  "language_info": {
   "codemirror_mode": {
    "name": "ipython",
    "version": 3
   },
   "file_extension": ".py",
   "mimetype": "text/x-python",
   "name": "python",
   "nbconvert_exporter": "python",
   "pygments_lexer": "ipython3",
   "version": "3.7.6"
  }
 },
 "nbformat": 4,
 "nbformat_minor": 4
}
