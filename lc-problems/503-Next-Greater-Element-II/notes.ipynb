{
 "cells": [
  {
   "cell_type": "markdown",
   "metadata": {},
   "source": [
    "# 503 Next Greater Element II\n",
    "\n",
    "比起 #496 有何不同？一个，只给一个 Array，在成环的自 Array 里找下一个大于的值。\n",
    "\n",
    "直接 Copy 一份贴尾就好了。\n",
    "\n",
    "Runtime: 2752 ms, faster than 5.14% of Python3 online submissions for Next Greater Element II.\n",
    "\n",
    "Memory Usage: 14.1 MB, less than 100.00% of Python3 online submissions for Next Greater Element II.\n",
    "\n",
    "Memory 表现这么好？？\n",
    "（还是其他实现的 Memory 太差了）\n",
    "\n",
    "看看 Sample 版本：用 Stack 来存放单调递减的 (key, index) 对。这样，要找某一位的 Next Greater Element，只需要直接查 Stack 就有了。用 O（N） 就能完成操作。厉害吧？\n",
    "\n",
    "更妙的是，因为存在成环的情况，所以根本不用担心找不到，直接往后找就行了。一定能找到！"
   ]
  },
  {
   "cell_type": "code",
   "execution_count": null,
   "metadata": {},
   "outputs": [],
   "source": [
    "class Solution:\n",
    "    def nextGreaterElements(self, nums: List[int]) -> List[int]:\n",
    "        if not nums:\n",
    "            return []\n",
    "\n",
    "        my_stack = []\n",
    "        nums_len = len(nums)\n",
    "        nums += nums\n",
    "        res = [-1]*len(nums)\n",
    "        for idx, n in enumerate(nums):\n",
    "            while my_stack and n > my_stack[-1][0]:\n",
    "                val, i = my_stack.pop()\n",
    "                res[i] = n\n",
    "            my_stack += [(n, idx)]\n",
    "        return res[:nums_len]"
   ]
  }
 ],
 "metadata": {
  "kernelspec": {
   "display_name": "Python 3",
   "language": "python",
   "name": "python3"
  },
  "language_info": {
   "codemirror_mode": {
    "name": "ipython",
    "version": 3
   },
   "file_extension": ".py",
   "mimetype": "text/x-python",
   "name": "python",
   "nbconvert_exporter": "python",
   "pygments_lexer": "ipython3",
   "version": "3.7.6"
  }
 },
 "nbformat": 4,
 "nbformat_minor": 4
}
