{
 "cells": [
  {
   "cell_type": "markdown",
   "metadata": {},
   "source": [
    "# 733 Flood Fill\n",
    "\n",
    "Runtime: 76 ms, faster than 76.91% of Python3 online submissions for Flood Fill.\n",
    "\n",
    "Memory Usage: 13 MB, less than 100.00% of Python3 online submissions for Flood Fill.\n",
    "\n",
    "简单的 DFS…\n",
    "\n",
    "当然用 stack 存也可以。\n",
    "\n",
    "这种题见得多了（"
   ]
  }
 ],
 "metadata": {
  "kernelspec": {
   "display_name": "Python 3",
   "language": "python",
   "name": "python3"
  },
  "language_info": {
   "codemirror_mode": {
    "name": "ipython",
    "version": 3
   },
   "file_extension": ".py",
   "mimetype": "text/x-python",
   "name": "python",
   "nbconvert_exporter": "python",
   "pygments_lexer": "ipython3",
   "version": "3.7.6"
  }
 },
 "nbformat": 4,
 "nbformat_minor": 4
}
