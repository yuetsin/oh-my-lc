{
 "cells": [
  {
   "cell_type": "markdown",
   "metadata": {},
   "source": [
    "# 706 Design Hashmap\n",
    "\n",
    "Python STL Solution:\n",
    "\n",
    "Runtime: 196 ms, faster than 90.62% of Python3 online submissions for Design HashMap.\n",
    "\n",
    "Memory Usage: 15.4 MB, less than 100.00% of Python3 online submissions for Design HashMap.\n",
    "\n",
    "Linear Mapping Solution:\n",
    "\n",
    "Runtime: 372 ms, faster than 20.82% of Python3 online submissions for Design HashMap.\n",
    "\n",
    "Memory Usage: 38.4 MB, less than 9.09% of Python3 online submissions for Design HashMap.\n",
    "\n",
    "跟上题差不多…"
   ]
  }
 ],
 "metadata": {
  "kernelspec": {
   "display_name": "Python 3",
   "language": "python",
   "name": "python3"
  },
  "language_info": {
   "codemirror_mode": {
    "name": "ipython",
    "version": 3
   },
   "file_extension": ".py",
   "mimetype": "text/x-python",
   "name": "python",
   "nbconvert_exporter": "python",
   "pygments_lexer": "ipython3",
   "version": "3.7.6"
  }
 },
 "nbformat": 4,
 "nbformat_minor": 4
}
