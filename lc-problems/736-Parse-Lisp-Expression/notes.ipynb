{
 "cells": [
  {
   "cell_type": "markdown",
   "metadata": {},
   "source": [
    "# 736 Parse Lisp Expression\n",
    "\n",
    "Runtime: 28 ms, faster than 97.44% of Python3 online submissions for Parse Lisp Expression.\n",
    "\n",
    "Memory Usage: 12.8 MB, less than 100.00% of Python3 online submissions for Parse Lisp Expression.\n",
    "\n",
    "我的 Parsing 解法写到最后能用的时候总是一塌糊涂。\n",
    "\n",
    "瞧瞧别人的巧妙解法吧！\n",
    "\n",
    "首先，括号匹配用 '(' => '( '、')' => ' )' 之后 split。然后，就相当于在一个 stack 里头了；\n",
    "\n",
    "得到了前缀式…就好做了。"
   ]
  },
  {
   "cell_type": "code",
   "execution_count": null,
   "metadata": {},
   "outputs": [],
   "source": [
    "class Solution:\n",
    "    def evaluate(self, expression: str) -> int:\n",
    "        def get_num(exps, i, var_val):\n",
    "            if exps[i] == '(':\n",
    "                num, i = parse(exps, i+1, var_val)\n",
    "            else:\n",
    "                try:\n",
    "                    num, i = int(exps[i]), i+1\n",
    "                except:\n",
    "                    num, i = var_val[exps[i]], i+1\n",
    "            return num, i\n",
    "\n",
    "        def parse(exps, i, var_val):\n",
    "            var_val = var_val.copy()\n",
    "            op, i = exps[i], i+1\n",
    "            if op == 'let':\n",
    "                while True:\n",
    "                    try:\n",
    "                        var = exps[i]\n",
    "                        val, i = get_num(exps, i+1, var_val)\n",
    "                        var_val[var] = val\n",
    "                    except:\n",
    "                        expr, i = get_num(exps, i, var_val)\n",
    "                        return expr, i+1\n",
    "            else:\n",
    "                num1, i = get_num(exps, i, var_val)\n",
    "                num2, i = get_num(exps, i, var_val)\n",
    "                val = num1 + num2 if op == 'add' else num1 * num2\n",
    "                return val, i+1\n",
    "\n",
    "        expression = expression.replace(')', ' )').replace('(', '( ')\n",
    "        return parse(expression.split(), 1, {})[0]"
   ]
  }
 ],
 "metadata": {
  "kernelspec": {
   "display_name": "Python 3",
   "language": "python",
   "name": "python3"
  },
  "language_info": {
   "codemirror_mode": {
    "name": "ipython",
    "version": 3
   },
   "file_extension": ".py",
   "mimetype": "text/x-python",
   "name": "python",
   "nbconvert_exporter": "python",
   "pygments_lexer": "ipython3",
   "version": "3.7.6"
  }
 },
 "nbformat": 4,
 "nbformat_minor": 4
}
