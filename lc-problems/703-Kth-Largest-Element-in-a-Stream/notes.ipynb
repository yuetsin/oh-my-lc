{
 "cells": [
  {
   "cell_type": "markdown",
   "metadata": {},
   "source": [
    "# 703 Kth Largest Element in a Stream\n",
    "\n",
    "Runtime: 160 ms, faster than 24.94% of Python3 online submissions for Kth Largest Element in a Stream.\n",
    "\n",
    "Memory Usage: 16.6 MB, less than 78.26% of Python3 online submissions for Kth Largest Element in a Stream.\n",
    "\n",
    "身败名裂…这么简单的题居然还 Runtime Error 了一次…\n",
    "\n",
    "总归，用 maxheap 就好了。如果你像我一样想不开，用 bisect 也成。"
   ]
  }
 ],
 "metadata": {
  "kernelspec": {
   "display_name": "Python 3",
   "language": "python",
   "name": "python3"
  },
  "language_info": {
   "codemirror_mode": {
    "name": "ipython",
    "version": 3
   },
   "file_extension": ".py",
   "mimetype": "text/x-python",
   "name": "python",
   "nbconvert_exporter": "python",
   "pygments_lexer": "ipython3",
   "version": "3.7.6"
  }
 },
 "nbformat": 4,
 "nbformat_minor": 4
}
