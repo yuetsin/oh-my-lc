{
 "cells": [
  {
   "cell_type": "markdown",
   "metadata": {},
   "source": [
    "# 769 Max Chunks To Make Sorted\n",
    "\n",
    "Runtime: 24 ms, faster than 85.84% of Python3 online submissions for Max Chunks To Make Sorted.\n",
    "\n",
    "Memory Usage: 12.7 MB, less than 100.00% of Python3 online submissions for Max Chunks To Make Sorted.\n",
    "\n",
    "把 #769 放在 #768 後面，是比较合理的。因为这就是针对 #768 的优化：既然没有重复元素，那么采用插入时间复杂度 O（LogN）的有序列表来保存 visited numbers 就没有意义。直接用 set，插入复杂度降到 O（1）。\n",
    "\n",
    "当然，如果这么想那就浪费了。考虑到这题的特殊性（输入数字的范围刚好落在 0 ～ N - 1 之间），我们就可以直接连续对 visited numbers 求和。\n",
    "\n",
    "这样，排序的 O（NLogN）时间也省了；每次计算、比较都是常数级别。直接 O（N）解决。\n",
    "\n",
    "天才！\n",
    "\n",
    "（当然，假如输入范围不这么特殊，那么这种方法也就不能用了。）"
   ]
  }
 ],
 "metadata": {
  "kernelspec": {
   "display_name": "Python 3",
   "language": "python",
   "name": "python3"
  },
  "language_info": {
   "codemirror_mode": {
    "name": "ipython",
    "version": 3
   },
   "file_extension": ".py",
   "mimetype": "text/x-python",
   "name": "python",
   "nbconvert_exporter": "python",
   "pygments_lexer": "ipython3",
   "version": "3.7.6"
  }
 },
 "nbformat": 4,
 "nbformat_minor": 4
}
