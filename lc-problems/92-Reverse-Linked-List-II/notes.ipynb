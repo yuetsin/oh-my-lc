{
 "cells": [
  {
   "cell_type": "code",
   "execution_count": null,
   "metadata": {},
   "outputs": [],
   "source": [
    "咳咳…我又开始胡写了…用 Python 解链表题很难让人不动歪脑筋。\n",
    "条件太宽松了（我猜也是因为 Python 指针操作太弱鸡），搞得我这种烂操作都能得到\n",
    "> Runtime: 40 ms, faster than 38.78% of Python3 online submissions for Reverse Linked List II.\n",
    "> Memory Usage: 13.3 MB, less than 5.22% of Python3 online submissions for Reverse Linked List II."
   ]
  },
  {
   "cell_type": "code",
   "execution_count": null,
   "metadata": {},
   "outputs": [],
   "source": [
    "难点其实是：如何一次遍历解决问题。（当然不是我这种记小本本的作弊方式"
   ]
  },
  {
   "cell_type": "code",
   "execution_count": null,
   "metadata": {},
   "outputs": [],
   "source": [
    "third = cur.next\n",
    "cur.next = prev\n",
    "prev = cur\n",
    "cur = third"
   ]
  },
  {
   "cell_type": "code",
   "execution_count": null,
   "metadata": {},
   "outputs": [],
   "source": [
    "这四行是关键代码。记好了。\n",
    "We need two pointers, prev and cur as explained above.\n",
    "\n",
    "The prev pointer should be initialized to None initially while cur is initialized to the head of the linked list.\n",
    "\n",
    "We progress the cur pointer one step at a time and the prev pointer follows it.\n",
    "\n",
    "We keep progressing the two pointers in this way until the cur pointer reaches the \n",
    "m\n",
    "t\n",
    "h\n",
    "m \n",
    "th\n",
    "  node from the beginning of the list. This is the point from where we start reversing our linked list.\n",
    "\n",
    "An important thing to note here is the usage of two additional pointers which we will call as tail and con. The tail pointer points to the \n",
    "m\n",
    "t\n",
    "h\n",
    "m \n",
    "th\n",
    "  node from the beginning of the linked list and we call it a tail pointer since this node becomes the tail of the reverse sublist. The con points to the node one before \n",
    "m\n",
    "t\n",
    "h\n",
    "m \n",
    "th\n",
    "  node and this connects to the new head of the reversed sublist. Let's take a look at a figure to understand these two pointers better.\n"
   ]
  },
  {
   "cell_type": "code",
   "execution_count": null,
   "metadata": {},
   "outputs": [],
   "source": [
    "思路其实就是：每往下遍历一个，就把指针反过来指，然后在最后的时候把这一串的首尾对调，就实现了这一段的 Reverse。我比较喜欢这种方法。"
   ]
  },
  {
   "cell_type": "code",
   "execution_count": null,
   "metadata": {},
   "outputs": [],
   "source": [
    "不过还是那句老话：小心连头一起 reverse，小心指向自己造成死循环。我说完了。"
   ]
  }
 ],
 "metadata": {
  "kernelspec": {
   "display_name": "Python 3",
   "language": "python",
   "name": "python3"
  }
 },
 "nbformat": 4,
 "nbformat_minor": 2
}
