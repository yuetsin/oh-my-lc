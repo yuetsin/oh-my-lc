{
 "cells": [
  {
   "cell_type": "markdown",
   "metadata": {},
   "source": [
    "# 208\n",
    "\n",
    "## Implement Trie\n",
    "\n",
    "Runtime: 1028 ms, faster than 5.02% of Python3 online submissions for Implement Trie (Prefix Tree).\n",
    "Memory Usage: 20 MB, less than 100.00% of Python3 online submissions for Implement Trie (Prefix Tree).\n",
    "\n",
    "简单说…要同时实现遍历查找和无序查找（check in），我就写了俩…同时维护 list 跟 set（反正你也不用删）"
   ]
  }
 ],
 "metadata": {
  "kernelspec": {
   "display_name": "Python 3",
   "language": "python",
   "name": "python3"
  },
  "language_info": {
   "codemirror_mode": {
    "name": "ipython",
    "version": 3
   },
   "file_extension": ".py",
   "mimetype": "text/x-python",
   "name": "python",
   "nbconvert_exporter": "python",
   "pygments_lexer": "ipython3",
   "version": "3.7.4"
  }
 },
 "nbformat": 4,
 "nbformat_minor": 2
}
