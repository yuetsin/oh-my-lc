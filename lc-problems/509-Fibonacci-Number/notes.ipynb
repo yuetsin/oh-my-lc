{
 "cells": [
  {
   "cell_type": "markdown",
   "metadata": {},
   "source": [
    "# 509 Fibonacci Number\n",
    "\n",
    "Runtime: 48 ms, faster than 29.92% of Python3 online submissions for Fibonacci Number.\n",
    "\n",
    "Memory Usage: 12.6 MB, less than 100.00% of Python3 online submissions for Fibonacci Number.\n",
    "\n",
    "这都是些什么题啊（掀桌\n",
    "\n",
    "难道有谁学编程没写过 Fibonacci 吗？我不相信。\n",
    "\n",
    "只不过，这里用 lru_cache 可以保证每个 case 的平均复杂度是 O(1)。假如测试的时候，把所有的 Case 都跑一边的话。"
   ]
  }
 ],
 "metadata": {
  "kernelspec": {
   "display_name": "Python 3",
   "language": "python",
   "name": "python3"
  },
  "language_info": {
   "codemirror_mode": {
    "name": "ipython",
    "version": 3
   },
   "file_extension": ".py",
   "mimetype": "text/x-python",
   "name": "python",
   "nbconvert_exporter": "python",
   "pygments_lexer": "ipython3",
   "version": "3.7.6"
  }
 },
 "nbformat": 4,
 "nbformat_minor": 4
}
