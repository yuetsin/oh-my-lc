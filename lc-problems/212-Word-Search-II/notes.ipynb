{
 "cells": [
  {
   "cell_type": "markdown",
   "metadata": {},
   "source": [
    "# 212\n",
    "\n",
    "我被 @caikehe 折服了……\n",
    "\n",
    "上一题实现的 Trie 结构，就是用来做这题用的…\n",
    "\n",
    "简单说一下题目吧，微软以前的 Wordament 玩过没？就是那样的，从一个字母格子里上下左右走，组合成一个个单词。\n",
    "\n",
    "我的算法嘛…总归是 TLE 了，但总体思路是基于回溯的，回溯主要是避免走回头路\n",
    "\n",
    "回溯：走过一遍的路都给封死，走到头了（无论是找到结果了还是走到死路了）就倒着往回走一步步拆掉（按照调用栈，每一层都记得自己封的是哪一格）\n",
    "\n",
    "大概还是有的地方值得优化，比如发现值不对就不要 call 一遍函数了，省得多一次调用呢（"
   ]
  }
 ],
 "metadata": {
  "kernelspec": {
   "display_name": "Python 3",
   "language": "python",
   "name": "python3"
  },
  "language_info": {
   "codemirror_mode": {
    "name": "ipython",
    "version": 3
   },
   "file_extension": ".py",
   "mimetype": "text/x-python",
   "name": "python",
   "nbconvert_exporter": "python",
   "pygments_lexer": "ipython3",
   "version": "3.7.4"
  }
 },
 "nbformat": 4,
 "nbformat_minor": 2
}
