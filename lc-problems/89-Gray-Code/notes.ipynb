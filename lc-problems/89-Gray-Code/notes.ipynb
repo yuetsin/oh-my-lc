{
 "cells": [
  {
   "cell_type": "code",
   "execution_count": null,
   "metadata": {},
   "outputs": [],
   "source": [
    "总的来说，Python 没有（靠谱的）位操作写起这个来是浑身难受……"
   ]
  },
  {
   "cell_type": "code",
   "execution_count": null,
   "metadata": {},
   "outputs": [],
   "source": [
    "> Runtime: 72 ms, faster than 5.42% of Python3 online submissions for Gray Code.\n",
    "> Memory Usage: 13.7 MB, less than 13.63% of Python3 online submissions for Gray Code."
   ]
  },
  {
   "cell_type": "code",
   "execution_count": null,
   "metadata": {},
   "outputs": [],
   "source": [
    "我写的可以说是非常菜了…还是用了递归的思路，每一次增加一位，就是在前面加上 0/1，不过为了保证 Gray Code 性，后一半子数组要 reverse 一下"
   ]
  },
  {
   "cell_type": "code",
   "execution_count": null,
   "metadata": {},
   "outputs": [],
   "source": [
    "（我怀疑就是那个 deepcopy 搞得我代码这么慢⬅️推锅"
   ]
  },
  {
   "cell_type": "code",
   "execution_count": null,
   "metadata": {},
   "outputs": [],
   "source": [
    "最后 List[bool] 转 Integer 还得手动算幂次…想想 C 的直接对 int 做操作多幸福啊（大雾"
   ]
  }
 ],
 "metadata": {
  "kernelspec": {
   "display_name": "Python 3",
   "language": "python",
   "name": "python3"
  }
 },
 "nbformat": 4,
 "nbformat_minor": 2
}
