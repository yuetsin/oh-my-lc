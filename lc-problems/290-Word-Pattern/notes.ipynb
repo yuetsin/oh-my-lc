{
 "cells": [
  {
   "cell_type": "markdown",
   "metadata": {},
   "source": [
    "# 290\n",
    "\n",
    "思路：对每一个 Token 序列，都可以造出一个词典列表，用词典中的单词 ID 来表示这个字符串的「Pattern」情况。\n",
    "\n",
    "如果除开词典本身，这个序列和阿猫阿狗序列的运算结果一样，那么就认为这是 Same Pattern 的。\n",
    "\n",
    "以上。"
   ]
  }
 ],
 "metadata": {
  "kernelspec": {
   "display_name": "Python 3",
   "language": "python",
   "name": "python3"
  },
  "language_info": {
   "codemirror_mode": {
    "name": "ipython",
    "version": 3
   },
   "file_extension": ".py",
   "mimetype": "text/x-python",
   "name": "python",
   "nbconvert_exporter": "python",
   "pygments_lexer": "ipython3",
   "version": "3.7.4"
  }
 },
 "nbformat": 4,
 "nbformat_minor": 2
}
