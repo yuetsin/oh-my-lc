{
 "cells": [
  {
   "cell_type": "markdown",
   "metadata": {},
   "source": [
    "# 336\n",
    "\n",
    "最容易想到的解法就是 O(n^2) 的 遍历了。\n",
    "\n",
    "可惜会 TLE。"
   ]
  },
  {
   "cell_type": "code",
   "execution_count": null,
   "metadata": {},
   "outputs": [],
   "source": [
    "解决方案可以想成这样：\n",
    "\n",
    "不去试图拼接所有的字符串，我们针对每一个字符串，把他们当作一个回文数的一部分。因为大部分字符串都不是自回文的，因此可以推断出的扩展也很少。\n",
    "\n",
    "然后我们只要去找缺失的那一部分就好了。因为已知给出的字符串不重复，因此 O(1) 时间内可完成（set() 就成。）。"
   ]
  }
 ],
 "metadata": {
  "kernelspec": {
   "display_name": "Python 3",
   "language": "python",
   "name": "python3"
  },
  "language_info": {
   "codemirror_mode": {
    "name": "ipython",
    "version": 3
   },
   "file_extension": ".py",
   "mimetype": "text/x-python",
   "name": "python",
   "nbconvert_exporter": "python",
   "pygments_lexer": "ipython3",
   "version": "3.7.4"
  }
 },
 "nbformat": 4,
 "nbformat_minor": 2
}
