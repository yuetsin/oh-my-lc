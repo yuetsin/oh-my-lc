{
 "cells": [
  {
   "cell_type": "markdown",
   "metadata": {},
   "source": [
    "# 380\n",
    "\n",
    "事实上我对那个判断「是否随机」的算法更感兴趣…\n",
    "\n",
    "为啥我非随机地有规律地循环就被拒绝\n",
    "\n",
    "真正随机就能被识别呢…\n",
    "\n",
    "想不通（\n",
    "\n",
    "大概是已经预先存了一些模式吧？\n",
    "\n",
    "Runtime: 252 ms, faster than 30.81% of Python3 online submissions for Insert Delete GetRandom O(1).\n",
    "\n",
    "Memory Usage: 17.9 MB, less than 12.50% of Python3 online submissions for Insert Delete GetRandom O(1)."
   ]
  }
 ],
 "metadata": {
  "kernelspec": {
   "display_name": "Python 3",
   "language": "python",
   "name": "python3"
  },
  "language_info": {
   "codemirror_mode": {
    "name": "ipython",
    "version": 3
   },
   "file_extension": ".py",
   "mimetype": "text/x-python",
   "name": "python",
   "nbconvert_exporter": "python",
   "pygments_lexer": "ipython3",
   "version": "3.7.4"
  }
 },
 "nbformat": 4,
 "nbformat_minor": 2
}
