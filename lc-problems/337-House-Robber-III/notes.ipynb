{
 "cells": [
  {
   "cell_type": "markdown",
   "metadata": {},
   "source": [
    "# 337\n",
    "\n",
    "Runtime: 104 ms, faster than 6.86% of Python3 online submissions for House Robber III.\n",
    "\n",
    "Memory Usage: 19.9 MB, less than 6.67% of Python3 online submissions for House Robber III.\n",
    "\n",
    "有点菜…\n",
    "\n",
    "事实上，非得用 DP 不可。否则会 TLE。\n",
    "\n",
    "但我们并不一定要把 node 跟 canRob 一起 hash；放在俩 Hash 表里不就好了！"
   ]
  }
 ],
 "metadata": {
  "kernelspec": {
   "display_name": "Python 3",
   "language": "python",
   "name": "python3"
  },
  "language_info": {
   "codemirror_mode": {
    "name": "ipython",
    "version": 3
   },
   "file_extension": ".py",
   "mimetype": "text/x-python",
   "name": "python",
   "nbconvert_exporter": "python",
   "pygments_lexer": "ipython3",
   "version": "3.7.4"
  }
 },
 "nbformat": 4,
 "nbformat_minor": 2
}
