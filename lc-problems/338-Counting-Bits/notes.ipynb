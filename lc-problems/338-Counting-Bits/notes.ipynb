{
 "cells": [
  {
   "cell_type": "markdown",
   "metadata": {},
   "source": [
    "# 338\n",
    "\n",
    "Counting Bits 这件事已经变得无聊了。\n",
    "\n",
    "不过这个 DP 还是一个非常特别的算法：\n",
    "\n",
    "dp[i] = dp[i%curr] + 1\n",
    "\n",
    "平时的 DP 表基本都是从相邻的格子里拿数据。这个不一样了：直接从 i%curr 里拿。\n",
    "\n",
    "Interesting。"
   ]
  }
 ],
 "metadata": {
  "kernelspec": {
   "display_name": "Python 3",
   "language": "python",
   "name": "python3"
  },
  "language_info": {
   "codemirror_mode": {
    "name": "ipython",
    "version": 3
   },
   "file_extension": ".py",
   "mimetype": "text/x-python",
   "name": "python",
   "nbconvert_exporter": "python",
   "pygments_lexer": "ipython3",
   "version": "3.7.4"
  }
 },
 "nbformat": 4,
 "nbformat_minor": 2
}
