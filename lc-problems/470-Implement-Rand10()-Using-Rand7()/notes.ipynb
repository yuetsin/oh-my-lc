{
 "cells": [
  {
   "cell_type": "markdown",
   "metadata": {},
   "source": [
    "# 470 Implement Rand10() Using Rand7()\n",
    "\n",
    "用 1 - 7 的随机分布生成 1 - 10 的…\n",
    "\n",
    "就直接生成 1 - 7 的两次，然后 Remap 吧。因为 7 * 7 => 49，所以把其中 9 份丢弃（再次生成），把剩下的 40 种概率等比例地映射到 1 - 10 中就好了。\n",
    "\n",
    "说实话这题比较无聊…"
   ]
  }
 ],
 "metadata": {
  "kernelspec": {
   "display_name": "Python 3",
   "language": "python",
   "name": "python3"
  },
  "language_info": {
   "codemirror_mode": {
    "name": "ipython",
    "version": 3
   },
   "file_extension": ".py",
   "mimetype": "text/x-python",
   "name": "python",
   "nbconvert_exporter": "python",
   "pygments_lexer": "ipython3",
   "version": "3.7.6"
  }
 },
 "nbformat": 4,
 "nbformat_minor": 4
}
