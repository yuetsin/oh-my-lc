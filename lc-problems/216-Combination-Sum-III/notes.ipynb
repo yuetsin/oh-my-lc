{
 "cells": [
  {
   "cell_type": "markdown",
   "metadata": {},
   "source": [
    "# 216\n",
    "\n",
    "中规中矩…可以用 stack，也可以递归解决…\n",
    "\n",
    "Runtime: 892 ms, faster than 6.13% of Python3 online submissions for Combination Sum III.\n",
    "Memory Usage: 13.4 MB, less than 11.11% of Python3 online submissions for Combination Sum III.\n",
    "\n",
    "一开始被轻微坑了一下。本来为了想要节约时间，想用 DP 存一下 k n 节约时间。后来没想到这个 usable 是不一样的…如果说那么做就会导致重复。\n",
    "\n",
    "所以要么把这个也加入 hash，但那样就几乎不可能 hit 了…\n",
    "\n",
    "所以注释掉这部分才给过。\n",
    "\n",
    "好一点的办法是用回溯，像是那道 Wordament 题（#212），先走一步拆一步，走到头了再搭回来进行下一次…"
   ]
  }
 ],
 "metadata": {
  "kernelspec": {
   "display_name": "Python 3",
   "language": "python",
   "name": "python3"
  },
  "language_info": {
   "codemirror_mode": {
    "name": "ipython",
    "version": 3
   },
   "file_extension": ".py",
   "mimetype": "text/x-python",
   "name": "python",
   "nbconvert_exporter": "python",
   "pygments_lexer": "ipython3",
   "version": "3.7.4"
  }
 },
 "nbformat": 4,
 "nbformat_minor": 2
}
