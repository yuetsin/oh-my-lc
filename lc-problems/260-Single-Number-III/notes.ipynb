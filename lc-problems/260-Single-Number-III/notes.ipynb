{
 "cells": [
  {
   "cell_type": "markdown",
   "metadata": {},
   "source": [
    "# 260\n",
    "\n",
    "Runtime: 72 ms, faster than 59.26% of Python3 online submissions for Single Number III.\n",
    "Memory Usage: 15.6 MB, less than 50.00% of Python3 online submissions for Single Number III.\n",
    "\n",
    "总归 O(N) 线性时间复杂度就是了。\n",
    "\n",
    "因为已经说明了要么出现两次，要么出现一次。而且出现一次的元素有且仅有俩。\n",
    "\n",
    "那就是 set（）咯。连 Dict 都不用的。"
   ]
  }
 ],
 "metadata": {
  "kernelspec": {
   "display_name": "Python 3",
   "language": "python",
   "name": "python3"
  },
  "language_info": {
   "codemirror_mode": {
    "name": "ipython",
    "version": 3
   },
   "file_extension": ".py",
   "mimetype": "text/x-python",
   "name": "python",
   "nbconvert_exporter": "python",
   "pygments_lexer": "ipython3",
   "version": "3.7.4"
  }
 },
 "nbformat": 4,
 "nbformat_minor": 2
}
