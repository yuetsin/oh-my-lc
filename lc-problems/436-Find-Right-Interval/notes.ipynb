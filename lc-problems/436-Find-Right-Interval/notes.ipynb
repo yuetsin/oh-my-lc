{
 "cells": [
  {
   "cell_type": "markdown",
   "metadata": {},
   "source": [
    "# 436 Find Right Interval\n",
    "\n",
    "思路很 Naïve：直接把他们按照 Start Point 排序，然后向后找出第一个满足 Right Interval 条件的家伙。因为在排序之後 ID 乱了，所以在此之前提前把它们的 ID 加入 List。\n",
    "\n",
    "很遗憾的是在第 15 个 Case 的时候就爆炸了。因为我的算法本质上是基于插入排序的算法，一次插入的时间复杂度是 O(N)，总的就是 O(N^2) 了。\n",
    "\n",
    "所以优化的关键点就是…直接用 Bisect，即二分查找的方式来确定插入点。直接把复杂度降到了 NLogN 级别。\n",
    "\n",
    "很遗憾，对这种问题总还是不太敏感。"
   ]
  }
 ],
 "metadata": {
  "kernelspec": {
   "display_name": "Python 3",
   "language": "python",
   "name": "python3"
  },
  "language_info": {
   "codemirror_mode": {
    "name": "ipython",
    "version": 3
   },
   "file_extension": ".py",
   "mimetype": "text/x-python",
   "name": "python",
   "nbconvert_exporter": "python",
   "pygments_lexer": "ipython3",
   "version": "3.7.6"
  }
 },
 "nbformat": 4,
 "nbformat_minor": 2
}
