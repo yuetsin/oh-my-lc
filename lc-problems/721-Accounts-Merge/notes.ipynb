{
 "cells": [
  {
   "cell_type": "markdown",
   "metadata": {},
   "source": [
    "# 721 Accounts Merge\n",
    "\n",
    "Runtime: 288 ms, faster than 32.88% of Python3 online submissions for Accounts Merge.\n",
    "\n",
    "Memory Usage: 16.4 MB, less than 100.00% of Python3 online submissions for Accounts Merge.\n",
    "\n",
    "这题啊，就是最适合用 UnionFind 法了。\n",
    "\n",
    "另外，据我测试说明，这里的题目隐含了一件事情——没有两个名字不同的人会拥有同一个电子邮件地址。\n",
    "\n",
    "如果我构造这么一个 Case，他会直接爆炸，拒绝给出任何结果。所以完全没有问题，每个 set 里面的 name 都是一样的。可以保证。"
   ]
  }
 ],
 "metadata": {
  "kernelspec": {
   "display_name": "Python 3",
   "language": "python",
   "name": "python3"
  },
  "language_info": {
   "codemirror_mode": {
    "name": "ipython",
    "version": 3
   },
   "file_extension": ".py",
   "mimetype": "text/x-python",
   "name": "python",
   "nbconvert_exporter": "python",
   "pygments_lexer": "ipython3",
   "version": "3.7.6"
  }
 },
 "nbformat": 4,
 "nbformat_minor": 4
}
