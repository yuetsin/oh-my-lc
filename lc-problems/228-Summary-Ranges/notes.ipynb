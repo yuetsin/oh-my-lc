{
 "cells": [
  {
   "cell_type": "markdown",
   "metadata": {},
   "source": [
    "# 228\n",
    "\n",
    "感动哭了…这大概是我用过的最实用的题目了…\n",
    "\n",
    "Electsys Utility 里面展示上课周数和上课节次里面就用了这个算法…\n",
    "\n",
    "也感谢这个 Problem 帮我写了 Test Cases 并且通过了（笑）\n",
    "\n",
    "\n",
    "Runtime: 8 ms, faster than 26.79% of Swift online submissions for Summary Ranges.\n",
    "Memory Usage: 20.8 MB, less than 100.00% of Swift online submissions for Summary Ranges."
   ]
  },
  {
   "cell_type": "code",
   "execution_count": null,
   "metadata": {},
   "outputs": [],
   "source": [
    "（估计也没什么人用 Swift 写吧）"
   ]
  }
 ],
 "metadata": {
  "kernelspec": {
   "display_name": "Python 3",
   "language": "python",
   "name": "python3"
  },
  "language_info": {
   "codemirror_mode": {
    "name": "ipython",
    "version": 3
   },
   "file_extension": ".py",
   "mimetype": "text/x-python",
   "name": "python",
   "nbconvert_exporter": "python",
   "pygments_lexer": "ipython3",
   "version": "3.7.4"
  }
 },
 "nbformat": 4,
 "nbformat_minor": 2
}
