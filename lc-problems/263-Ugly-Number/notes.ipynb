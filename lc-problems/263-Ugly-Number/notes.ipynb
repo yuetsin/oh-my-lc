{
 "cells": [
  {
   "cell_type": "markdown",
   "metadata": {},
   "source": [
    "# 263\n",
    "\n",
    "明明…应该是那么简单的解答。\n",
    "\n",
    "从 2 3 5 里找一个能除尽的去除，直到除不了了就去除 1…\n",
    "\n",
    "这么直接的思路…为什么我…就是没想出来呢…"
   ]
  },
  {
   "cell_type": "markdown",
   "metadata": {},
   "source": [
    "另一个吓掉下巴的思路：\n",
    "\n",
    "\n",
    "        # n = (2**30)*(3**20)*(5**13) = 4570198050078720000000000000L\n",
    "        return False if num < 1 or (4570198050078720000000000000) % num != 0 else True\n",
    "\n",
    "因为题目中的输入数据是在 2 ^ 31 之内的……\n",
    "\n",
    "所以就直接把最大的那个找出来…然后对他 mod……\n",
    "\n",
    "神了…"
   ]
  }
 ],
 "metadata": {
  "kernelspec": {
   "display_name": "Python 3",
   "language": "python",
   "name": "python3"
  },
  "language_info": {
   "codemirror_mode": {
    "name": "ipython",
    "version": 3
   },
   "file_extension": ".py",
   "mimetype": "text/x-python",
   "name": "python",
   "nbconvert_exporter": "python",
   "pygments_lexer": "ipython3",
   "version": "3.7.4"
  }
 },
 "nbformat": 4,
 "nbformat_minor": 2
}
