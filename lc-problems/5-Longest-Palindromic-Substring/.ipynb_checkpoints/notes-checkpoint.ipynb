{
 "cells": [
  {
   "cell_type": "code",
   "execution_count": null,
   "metadata": {},
   "outputs": [],
   "source": [
    "Yeah, using s[::-1] to inverse a string in python seems very cool.\n",
    "But actually how it works?\n",
    "\n",
    "In python, the syntax looks like this:\n",
    "list(or string)[<start>:<stop>:<step>]\n",
    "\n",
    "[::-1] indicates no start and no stop, but every time it goes -1 step. That means, goes 1 step back.\n",
    "\n",
    "So that could perform the inverse function. Interesting!\n",
    "\n",
    "Now you can do more precise slices onto a string(or list, etc.)"
   ]
  }
 ],
 "metadata": {
  "kernelspec": {
   "display_name": "Python 3",
   "language": "python",
   "name": "python3"
  }
 },
 "nbformat": 4,
 "nbformat_minor": 2
}
