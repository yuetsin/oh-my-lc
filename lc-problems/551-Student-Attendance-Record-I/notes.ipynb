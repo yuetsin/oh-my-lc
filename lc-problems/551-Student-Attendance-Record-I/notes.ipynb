{
 "cells": [
  {
   "cell_type": "markdown",
   "metadata": {},
   "source": [
    "# 551 Student Attendance Record I\n",
    "\n",
    "没什么意思的题。\n",
    "\n",
    "A 出现超过 1 次，或者 L 连续出现超过两次，就不准评优。\n",
    "\n",
    "Runtime: 36 ms, faster than 14.76% of Python3 online submissions for Student Attendance Record I.\n",
    "\n",
    "Memory Usage: 12.8 MB, less than 100.00% of Python3 online submissions for Student Attendance Record I.\n",
    "\n",
    "比起来，我更好奇这种题怎么演化出 SAR II。"
   ]
  }
 ],
 "metadata": {
  "kernelspec": {
   "display_name": "Python 3",
   "language": "python",
   "name": "python3"
  },
  "language_info": {
   "codemirror_mode": {
    "name": "ipython",
    "version": 3
   },
   "file_extension": ".py",
   "mimetype": "text/x-python",
   "name": "python",
   "nbconvert_exporter": "python",
   "pygments_lexer": "ipython3",
   "version": "3.7.6"
  }
 },
 "nbformat": 4,
 "nbformat_minor": 4
}
