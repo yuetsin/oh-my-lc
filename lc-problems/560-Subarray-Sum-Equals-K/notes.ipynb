{
 "cells": [
  {
   "cell_type": "markdown",
   "metadata": {},
   "source": [
    "# 560 Subarray Sum Equals K\n",
    "\n",
    "Pre-sum 的方法是爆炸的…用 Window Slider 也是。它们都具有 O(N^2) 的时间复杂度。\n",
    "\n",
    "看了下 Solution，大概是 Python 的限制太严格了，这两种都被 Reject 了\n",
    "\n",
    "Py thon 落 泪\n",
    "\n",
    "只有最佳的 O（N）方法是可接受的（对于可怜的 Python）"
   ]
  },
  {
   "cell_type": "code",
   "execution_count": null,
   "metadata": {},
   "outputs": [],
   "source": [
    "public class Solution {\n",
    "    public int subarraySum(int[] nums, int k) {\n",
    "        int count = 0, sum = 0;\n",
    "        HashMap < Integer, Integer > map = new HashMap < > ();\n",
    "        map.put(0, 1);\n",
    "        for (int i = 0; i < nums.length; i++) {\n",
    "            sum += nums[i];\n",
    "            if (map.containsKey(sum - k))\n",
    "                count += map.get(sum - k);\n",
    "            map.put(sum, map.getOrDefault(sum, 0) + 1);\n",
    "        }\n",
    "        return count;\n",
    "    }\n",
    "}"
   ]
  },
  {
   "cell_type": "markdown",
   "metadata": {},
   "source": [
    "只需要遍历一次？只需要、遍历、一次？这是，怎么做到的？\n",
    "\n",
    "答案是：每次遍历的时候，使用 Hashmap 来储存每个 [0:i] 出现的次数。然后，在得到一个 sum 之后，用 sum - k，在前头的 map 里寻找这个值，出现的次数就是以此点作为 Consecut Subarray 末尾的 Array 的个数。\n",
    "\n",
    "这就是遍历一次解决问题的方法。"
   ]
  }
 ],
 "metadata": {
  "kernelspec": {
   "display_name": "Python 3",
   "language": "python",
   "name": "python3"
  },
  "language_info": {
   "codemirror_mode": {
    "name": "ipython",
    "version": 3
   },
   "file_extension": ".py",
   "mimetype": "text/x-python",
   "name": "python",
   "nbconvert_exporter": "python",
   "pygments_lexer": "ipython3",
   "version": "3.7.6"
  }
 },
 "nbformat": 4,
 "nbformat_minor": 4
}
