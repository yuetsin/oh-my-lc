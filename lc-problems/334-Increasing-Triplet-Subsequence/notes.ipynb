{
 "cells": [
  {
   "cell_type": "markdown",
   "metadata": {},
   "source": [
    "# 334\n",
    "\n",
    "Simple 到极点的解法，但是你自己就是想不出来。\n",
    "\n",
    "记录 top_first 跟 second_first。因为我们先比较 top_first 再比较记录 second_first，所以可以保证 second_first 一定在 top_first 之后。\n",
    "\n",
    "最后如果发现了第三者比他们俩都大，bam！找到了。"
   ]
  }
 ],
 "metadata": {
  "kernelspec": {
   "display_name": "Python 3",
   "language": "python",
   "name": "python3"
  },
  "language_info": {
   "codemirror_mode": {
    "name": "ipython",
    "version": 3
   },
   "file_extension": ".py",
   "mimetype": "text/x-python",
   "name": "python",
   "nbconvert_exporter": "python",
   "pygments_lexer": "ipython3",
   "version": "3.7.4"
  }
 },
 "nbformat": 4,
 "nbformat_minor": 2
}
