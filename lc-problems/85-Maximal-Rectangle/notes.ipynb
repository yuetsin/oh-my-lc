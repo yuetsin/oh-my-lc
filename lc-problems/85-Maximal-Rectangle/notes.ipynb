{
 "cells": [
  {
   "cell_type": "code",
   "execution_count": null,
   "metadata": {},
   "outputs": [],
   "source": [
    "我的辣鸡解法的思路是…从每一个有可能参与构成矩形的点开始，把它向四边扩张（本质上四个值确定一个矩形位置，因此是四种），\n",
    "将其扩大到不再增大或者贴到边缘的时候停止。得到的是有这个点参与的构成矩形的最大值。\n",
    "然后，将这个矩形里所有的点从 set() 中剔除，并继续判断其他 set 中元素。如此计算出最大值。"
   ]
  },
  {
   "cell_type": "code",
   "execution_count": null,
   "metadata": {},
   "outputs": [],
   "source": [
    "然而最后还是 TLE 了…我猜测可能是扩张的停滞判断没做好…但这个思路可能真的不太好，虽然挺直接的。"
   ]
  },
  {
   "cell_type": "code",
   "execution_count": null,
   "metadata": {},
   "outputs": [],
   "source": [
    "正确的做法还是使用 Dynamic Programming..."
   ]
  },
  {
   "cell_type": "code",
   "execution_count": null,
   "metadata": {},
   "outputs": [],
   "source": [
    "left(i,j) = max(left(i-1,j), cur_left), cur_left can be determined from the current row\n",
    "\n",
    "right(i,j) = min(right(i-1,j), cur_right), cur_right can be determined from the current row\n",
    "\n",
    "height(i,j) = height(i-1,j) + 1, if matrix[i][j]=='1';\n",
    "\n",
    "height(i,j) = 0, if matrix[i][j]=='0'"
   ]
  },
  {
   "cell_type": "code",
   "execution_count": null,
   "metadata": {},
   "outputs": [],
   "source": [
    "原版 sample 给的代码比较模糊…参见一下给过注释的 sample_opt.cpp。"
   ]
  }
 ],
 "metadata": {
  "kernelspec": {
   "display_name": "Python 3",
   "language": "python",
   "name": "python3"
  }
 },
 "nbformat": 4,
 "nbformat_minor": 2
}
