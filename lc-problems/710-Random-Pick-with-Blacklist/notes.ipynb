{
 "cells": [
  {
   "cell_type": "markdown",
   "metadata": {},
   "source": [
    "# 710 Random Pick with Blacklist\n",
    "\n",
    "思路还是很简单：既然要在保证 Uniform 的前提下，排除一些 blacklist 值，那么——简单了。\n",
    "\n",
    "生成 [0, N - len(blacklist)] 之间的随机数，然后从小到大遍历 blacklist 值，如果发现当前的 index >= blacklist，说明这个 blacklist 占了一个空间，需要把 index += 1。\n",
    "\n",
    "最后，返回 offset 就好了。\n",
    "\n",
    "然而…这题的数据集…巨大…\n",
    "\n",
    "1 <= N <= 1000000000\n",
    "\n",
    "0 <= B.length < min(100000, N)\n",
    "\n",
    "我的 Solution 爆炸了…\n",
    "\n",
    "但是，我们回想一下。我们到底是为什么要每个都遍历一次呢？到任何一个数字的 Inflation 值仅仅取决于它位于 blacklist 数字分割的区间的位置。\n",
    "\n",
    "我们只需要把每个 blacklist 之前可用数字数量保存一下，然后只需要对他做一个 Binary Search 就可以了。\n",
    "\n",
    "因为我们的 Blacklist 长度不小于 100000，所以理论上 O(N) => O(LogN)，可以节约大概十几倍的样子。"
   ]
  }
 ],
 "metadata": {
  "kernelspec": {
   "display_name": "Python 3",
   "language": "python",
   "name": "python3"
  },
  "language_info": {
   "codemirror_mode": {
    "name": "ipython",
    "version": 3
   },
   "file_extension": ".py",
   "mimetype": "text/x-python",
   "name": "python",
   "nbconvert_exporter": "python",
   "pygments_lexer": "ipython3",
   "version": "3.7.6"
  }
 },
 "nbformat": 4,
 "nbformat_minor": 4
}
