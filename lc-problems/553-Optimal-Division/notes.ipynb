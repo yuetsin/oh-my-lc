{
 "cells": [
  {
   "cell_type": "markdown",
   "metadata": {},
   "source": [
    "# 553 Optimal Division\n",
    "\n",
    "给一串正整数，只能修改 / 的优先级次序。要使得最终结果最大。\n",
    "\n",
    "这题呢……暴力解可以，带 Memo 的暴力解也可以。\n",
    "\n",
    "然而实际上…只要稍微动一下脑筋，就能知道——\n",
    "\n",
    "分母变小，或分子变大，则最终值变大。\n",
    "\n",
    "又因为所有的数字都是「正整数」，不可能会小于 1。\n",
    "\n",
    "For expression like a/b/c/d/e/f... answer will be a/(b/c/d/e/f...).\n",
    "\n",
    "永远这么做，就好了。以第一个数为分子，后续所有数直接连除作为分母。\n",
    "\n",
    "就是这样…"
   ]
  },
  {
   "cell_type": "markdown",
   "metadata": {},
   "source": [
    "这题提交失败了一次，原因是…试图用 str.join 一个 List[int]..."
   ]
  }
 ],
 "metadata": {
  "kernelspec": {
   "display_name": "Python 3",
   "language": "python",
   "name": "python3"
  },
  "language_info": {
   "codemirror_mode": {
    "name": "ipython",
    "version": 3
   },
   "file_extension": ".py",
   "mimetype": "text/x-python",
   "name": "python",
   "nbconvert_exporter": "python",
   "pygments_lexer": "ipython3",
   "version": "3.7.6"
  }
 },
 "nbformat": 4,
 "nbformat_minor": 4
}
