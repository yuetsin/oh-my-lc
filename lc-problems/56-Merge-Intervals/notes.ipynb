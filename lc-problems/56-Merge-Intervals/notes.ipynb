{
 "cells": [
  {
   "cell_type": "code",
   "execution_count": null,
   "metadata": {},
   "outputs": [],
   "source": [
    "> Just go through the intervals sorted by start coordinate and either combine the current interval with the previous one if they overlap, or add it to the output by itself if they don't."
   ]
  },
  {
   "cell_type": "code",
   "execution_count": null,
   "metadata": {},
   "outputs": [],
   "source": [
    "That's real elegant solution for sure. The key point not to omit any combination is to sort the list by the start point in advance."
   ]
  },
  {
   "cell_type": "code",
   "execution_count": null,
   "metadata": {},
   "outputs": [],
   "source": [
    "def merge(self, intervals):\n",
    "    out = []\n",
    "    for i in sorted(intervals, key=lambda i: i.start):\n",
    "        if out and i.start <= out[-1].end:\n",
    "            out[-1].end = max(out[-1].end, i.end)\n",
    "        else:\n",
    "            out += i,\n",
    "    return out"
   ]
  },
  {
   "cell_type": "code",
   "execution_count": null,
   "metadata": {},
   "outputs": [],
   "source": [
    "The sorting operation would take O(N * log N) time complexity, and the rest piece is O(1). So the total time complexity is O(N * log N).\n",
    "However the extra space complexity (result not included) is O(1) or O(N), depending on your sorting method."
   ]
  }
 ],
 "metadata": {
  "kernelspec": {
   "display_name": "Python 3",
   "language": "python",
   "name": "python3"
  }
 },
 "nbformat": 4,
 "nbformat_minor": 2
}
