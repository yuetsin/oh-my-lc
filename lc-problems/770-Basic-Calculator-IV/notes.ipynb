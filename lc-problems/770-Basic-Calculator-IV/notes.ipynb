{
 "cells": [
  {
   "cell_type": "markdown",
   "metadata": {},
   "source": [
    "# 770 Basic Calculator IV\n",
    "\n",
    "对所有用一般编程语言，强写 Parser 的题目感到难过。\n",
    "\n",
    "对绝大部分 Alex Wice 的题目和解答感到难过。\n",
    "\n",
    "现在，两样难过的东西汇聚到一起……\n",
    "\n",
    "我说，这种事情就该交给 Lex + Yacc 这类工具去做。手写的代码很难没有 Bug。\n",
    "\n",
    "不过，不过如果你真的要写的话，建议以这种方式进行（yuanzhi's Solution）：\n",
    "\n",
    "先按照括号把 expression 分开，然后递归地计算内层括号，然后是外层括号。\n",
    "\n",
    "然后，再分立 operator，按照 + 和 * 的方式计算出来。\n",
    "\n",
    "实际上，这就和之前做的「分析化合物元素组成」题一样。慢慢 Parse 就好。\n",
    "\n",
    "然后，evalvars 的引入完全没有任何意义。只不过增加了一点表述上的复杂度。实际上直接替换字符串进去，再 parse 也完全没问题。\n",
    "\n",
    "（Alex Wice 的英文，还有什么会是更糟糕的呢？）"
   ]
  }
 ],
 "metadata": {
  "kernelspec": {
   "display_name": "Python 3",
   "language": "python",
   "name": "python3"
  },
  "language_info": {
   "codemirror_mode": {
    "name": "ipython",
    "version": 3
   },
   "file_extension": ".py",
   "mimetype": "text/x-python",
   "name": "python",
   "nbconvert_exporter": "python",
   "pygments_lexer": "ipython3",
   "version": "3.7.6"
  }
 },
 "nbformat": 4,
 "nbformat_minor": 4
}
