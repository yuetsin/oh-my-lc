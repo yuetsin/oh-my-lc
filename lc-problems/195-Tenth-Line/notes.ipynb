{
 "cells": [
  {
   "cell_type": "markdown",
   "metadata": {},
   "source": [
    "# 195\n",
    "\n",
    "做 Shell 题总有一种哄小孩子的感觉…\n",
    "\n",
    "awk 'NR == 10' file.txt\n",
    "\n",
    "要不然就是用 awk 牛刀来马杀鸡（Massage）。\n",
    "\n",
    "人生真无趣。"
   ]
  }
 ],
 "metadata": {
  "kernelspec": {
   "display_name": "Python 3",
   "language": "python",
   "name": "python3"
  },
  "language_info": {
   "codemirror_mode": {
    "name": "ipython",
    "version": 3
   },
   "file_extension": ".py",
   "mimetype": "text/x-python",
   "name": "python",
   "nbconvert_exporter": "python",
   "pygments_lexer": "ipython3",
   "version": "3.7.4"
  }
 },
 "nbformat": 4,
 "nbformat_minor": 2
}
