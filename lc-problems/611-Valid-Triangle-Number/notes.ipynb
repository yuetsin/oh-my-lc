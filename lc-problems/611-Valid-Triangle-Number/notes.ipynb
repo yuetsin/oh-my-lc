{
 "cells": [
  {
   "cell_type": "markdown",
   "metadata": {},
   "source": [
    "# 611 Valid Triangle Number\n",
    "\n",
    "真的是好久好久好久没有写出过 TLE 的答案了（\n",
    "\n",
    "这次挂在 #219 of 220 Test Cases 上。\n",
    "\n",
    "写出了一个 O(N^3) 时间复杂度的答案，这个会挂的（当然了）。\n",
    "\n",
    "可以做这里的一些优化：先用 O(N LogN) 的时间排序一下，存放好；然后只用 O(N^2) 的时间复杂度拿出两个遍历，然后只需要 O（LogN）的时间就能用 Binary Search 的办法来找出有多少个数字满足「第三边长」。\n",
    "\n",
    "这是优化到了 O(N^2 LogN)。\n",
    "\n",
    "然而，还可以用 Linear Search（线性搜索）的办法来再次优化到 O(N^2)。\n",
    "\n",
    "直接在排序好的 nums 里揪出两个 i、j，然后找出下一个 k。\n",
    "\n",
    "直接把 count += (k - j - i) 就好了。"
   ]
  }
 ],
 "metadata": {
  "kernelspec": {
   "display_name": "Python 3",
   "language": "python",
   "name": "python3"
  },
  "language_info": {
   "codemirror_mode": {
    "name": "ipython",
    "version": 3
   },
   "file_extension": ".py",
   "mimetype": "text/x-python",
   "name": "python",
   "nbconvert_exporter": "python",
   "pygments_lexer": "ipython3",
   "version": "3.7.6"
  }
 },
 "nbformat": 4,
 "nbformat_minor": 4
}
