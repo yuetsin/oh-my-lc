{
 "cells": [
  {
   "cell_type": "markdown",
   "metadata": {},
   "source": [
    "# 494 Target Sum\n",
    "\n",
    "简化版的二十四点问题。\n",
    "\n",
    "简单用 Recursive + Cache 就行了。\n",
    "\n",
    "> 提交的时候忘了写 @lru_cache 的 annotation……白吃了一 Reject。\n",
    "\n",
    "Runtime: 268 ms, faster than 62.41% of Python3 online submissions for Target Sum.\n",
    "\n",
    "Memory Usage: 40.9 MB, less than 41.67% of Python3 online submissions for Target Sum.\n",
    "\n",
    "用 DP 也可以，但是 DP 也不过是一个 Cache Map 而已。意义不大。"
   ]
  }
 ],
 "metadata": {
  "kernelspec": {
   "display_name": "Python 3",
   "language": "python",
   "name": "python3"
  },
  "language_info": {
   "codemirror_mode": {
    "name": "ipython",
    "version": 3
   },
   "file_extension": ".py",
   "mimetype": "text/x-python",
   "name": "python",
   "nbconvert_exporter": "python",
   "pygments_lexer": "ipython3",
   "version": "3.7.6"
  }
 },
 "nbformat": 4,
 "nbformat_minor": 4
}
