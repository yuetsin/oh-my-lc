{
 "cells": [
  {
   "cell_type": "code",
   "execution_count": null,
   "metadata": {},
   "outputs": [],
   "source": [
    "Weak me... Spending 1 hour on this problem... Always making TLE because I make a NodeList->next = itself. So when printing the node list, it died in a dead loop."
   ]
  },
  {
   "cell_type": "code",
   "execution_count": null,
   "metadata": {},
   "outputs": [],
   "source": [
    "Remember how to reverse (part of) a node list:"
   ]
  },
  {
   "cell_type": "code",
   "execution_count": null,
   "metadata": {},
   "outputs": [],
   "source": [
    "preStart = head\n",
    "            start = head.next\n",
    "            \n",
    "            for _ in range(k - 1):\n",
    "                temp = start.next\n",
    "                start.next = temp.next\n",
    "                temp.next = preStart.next\n",
    "                preStart.next = temp"
   ]
  },
  {
   "cell_type": "code",
   "execution_count": null,
   "metadata": {},
   "outputs": [],
   "source": [
    "As usual, you must get the previous node of one node to modify it correctly."
   ]
  },
  {
   "cell_type": "code",
   "execution_count": null,
   "metadata": {},
   "outputs": [],
   "source": [
    "P.S. It's not allowed to create a new node list nor overwriting its value."
   ]
  }
 ],
 "metadata": {
  "kernelspec": {
   "display_name": "Python 3",
   "language": "python",
   "name": "python3"
  }
 },
 "nbformat": 4,
 "nbformat_minor": 2
}
