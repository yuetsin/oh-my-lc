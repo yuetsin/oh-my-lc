{
 "cells": [
  {
   "cell_type": "markdown",
   "metadata": {},
   "source": [
    "# 641 Design Circular Deque\n",
    "\n",
    "Runtime: 64 ms, faster than 97.60% of Python3 online submissions for Design Circular Deque.\n",
    "\n",
    "Memory Usage: 13.2 MB, less than 100.00% of Python3 online submissions for Design Circular Deque.\n",
    "\n",
    "應用題我愛（因為不容易出錯，而且寫起來還有意思"
   ]
  }
 ],
 "metadata": {
  "kernelspec": {
   "display_name": "Python 3",
   "language": "python",
   "name": "python3"
  },
  "language_info": {
   "codemirror_mode": {
    "name": "ipython",
    "version": 3
   },
   "file_extension": ".py",
   "mimetype": "text/x-python",
   "name": "python",
   "nbconvert_exporter": "python",
   "pygments_lexer": "ipython3",
   "version": "3.7.6"
  }
 },
 "nbformat": 4,
 "nbformat_minor": 4
}
