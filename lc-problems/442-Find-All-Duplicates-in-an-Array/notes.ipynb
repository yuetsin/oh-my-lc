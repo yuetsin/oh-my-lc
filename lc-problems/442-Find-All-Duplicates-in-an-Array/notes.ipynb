{
 "cells": [
  {
   "cell_type": "markdown",
   "metadata": {},
   "source": [
    "# 442 Find All Duplicates in an Array\n",
    "\n",
    "\n",
    "Runtime: 360 ms, faster than 95.00% of Python3 online submissions for Find All Duplicates in an Array.\n",
    "Memory Usage: 22.4 MB, less than 7.14% of Python3 online submissions for Find All Duplicates in an Array.\n",
    "\n",
    "写的是很普通的做法，因此空间复杂度比较差。毕竟你几乎重新保存了一份 Input。\n",
    "\n",
    "这种做法就跟直接用 collections.Counter 没差别。\n",
    "\n",
    "条件是保持 O(N) 的时间复杂度，同时不使用额外空间。\n",
    "\n",
    "重要的事情是，我们没用到给出的条件：所有的值都在 1～n 之间。\n",
    "\n",
    "所以，我们大可以把原来的那个 List 作为 Hash table 用（？！）。\n",
    "\n",
    "映射范围是 [1, n]。但是我们要在里面放信息，虽然只有一个 Bit。\n",
    "\n",
    "所以，很巧妙地，可以使用正负来携带这一个 Bit 的信息。依次扫描一遍，如果发现「Hash」到了一个已经存在的结果（已经被标记为 -1 的了），那么就得到结果了。\n",
    "\n",
    "参见 Sample，巧妙的做法。\n",
    "（还黑了一把 Java 没有 Unsigned int）"
   ]
  }
 ],
 "metadata": {
  "kernelspec": {
   "display_name": "Python 3",
   "language": "python",
   "name": "python3"
  },
  "language_info": {
   "codemirror_mode": {
    "name": "ipython",
    "version": 3
   },
   "file_extension": ".py",
   "mimetype": "text/x-python",
   "name": "python",
   "nbconvert_exporter": "python",
   "pygments_lexer": "ipython3",
   "version": "3.7.6"
  }
 },
 "nbformat": 4,
 "nbformat_minor": 2
}
