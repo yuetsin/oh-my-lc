{
 "cells": [
  {
   "cell_type": "markdown",
   "metadata": {},
   "source": [
    "# 458 Poor Pigs\n",
    "\n",
    "拒绝数学题…\n",
    "\n",
    "今天网络很差…做得很折磨。\n",
    "\n",
    "This is actually an encoding problem.\n",
    "First define attempt = minutesToTest/MinutesToDie\n",
    "As all other post says, with x pigs, you could test up to (attempt+1)^x buckets. But why?\n",
    "\n",
    "First define base = (attempt+1), it is the base of encoding, and we label buckets from 0~N-1\n",
    "\n",
    "Let's see example of attempt=1 so base = 2, meaning to use binary encoding to represent bucket j, we let pig i to drink bucket j if j's i bit is 1 (For instance pig 1 drink bucket 1/3/5/7 ...)\n",
    "If the pig dies, we know the poionous bucket has 1 in j's bit and o otherwise. View all pigs death, we then know for each position whether it should be 1 or 0. Thus with x pigs, we could encode and predict x^2 buckets\n",
    "\n",
    "As an example, consider 3 pigs\n",
    "bucket 0: 000\n",
    "bucket 1: 001\n",
    "bucket 2: 010 \n",
    "bucket 3: 011\n",
    "bucket 4: 100\n",
    "bucket 5: 101\n",
    "bucket 6: 110\n",
    "bucket 7: 111\n",
    "Pig 1 drinks bucket 1 3 5 7\n",
    "Pig 2 drinks bucket 2 3 6 7\n",
    "Pig 3 drinks bucket 4 5 6 7\n",
    "If pig 1 die we know bucket has 1 in first bit 0 otherwise\n",
    "If pig 2 die we know bucket has 1 in second bit 0 otherwise\n",
    "If pig 3 die we know bucket has 1 in third bit 0 otherwise\n",
    "\n",
    "Similarily, let attempt =x-1 and base = x, we use x base encoding to represent bucket j, and let pig i to drink bucket j at attempt k if bucket j's i bit is k, if pig dies, then we know the bucket's i bit has a value of k."
   ]
  }
 ],
 "metadata": {
  "kernelspec": {
   "display_name": "Python 3",
   "language": "python",
   "name": "python3"
  },
  "language_info": {
   "codemirror_mode": {
    "name": "ipython",
    "version": 3
   },
   "file_extension": ".py",
   "mimetype": "text/x-python",
   "name": "python",
   "nbconvert_exporter": "python",
   "pygments_lexer": "ipython3",
   "version": "3.7.6"
  }
 },
 "nbformat": 4,
 "nbformat_minor": 2
}
