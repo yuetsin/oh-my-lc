{
 "cells": [
  {
   "cell_type": "code",
   "execution_count": null,
   "metadata": {},
   "outputs": [],
   "source": [
    "A little ashamed... I failed to solve this problem except a brute force solution, which, out of the question, ended up with 'TLE'."
   ]
  },
  {
   "cell_type": "code",
   "execution_count": null,
   "metadata": {},
   "outputs": [],
   "source": [
    "The point is we must figure out how the two edges affect the water containing amount.\n",
    "Unlike the \"Bucket\" problem, the two sides' height decides the water containing amount. (Which means, the boards between two edges would affect nothing.)"
   ]
  },
  {
   "cell_type": "code",
   "execution_count": null,
   "metadata": {},
   "outputs": [],
   "source": [
    "We need to know that statement:\n",
    "We will start from the very left and very right. We select the boards in middle until they meet each other.\n",
    "Under current situation, if we don't move the lower board but moving the higher board inside (to middle), the water containing result would never go higher.\n",
    "\n",
    "Since as the situation goes further, the width gets more and more narrow but the height was limited by the lower board.\n",
    "\n",
    "So if we want to go over all possible situation, we must move the higher board every time."
   ]
  }
 ],
 "metadata": {
  "kernelspec": {
   "display_name": "Python 3",
   "language": "python",
   "name": "python3"
  }
 },
 "nbformat": 4,
 "nbformat_minor": 2
}
