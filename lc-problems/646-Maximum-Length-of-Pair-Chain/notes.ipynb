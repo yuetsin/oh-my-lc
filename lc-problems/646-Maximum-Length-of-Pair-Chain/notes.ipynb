{
 "cells": [
  {
   "cell_type": "markdown",
   "metadata": {},
   "source": [
    "# 646 Maximum Length of Pair Chain\n",
    "\n",
    "Runtime: 208 ms, faster than 95.26% of Python3 online submissions for Maximum Length of Pair Chain.\n",
    "\n",
    "Memory Usage: 13 MB, less than 100.00% of Python3 online submissions for Maximum Length of Pair Chain.\n",
    "\n",
    "這是非常直觀的 Greedy——因為每個 Pair 的權值都相同，所以我們一定是優先選擇那些 End 更早的。"
   ]
  }
 ],
 "metadata": {
  "kernelspec": {
   "display_name": "Python 3",
   "language": "python",
   "name": "python3"
  },
  "language_info": {
   "codemirror_mode": {
    "name": "ipython",
    "version": 3
   },
   "file_extension": ".py",
   "mimetype": "text/x-python",
   "name": "python",
   "nbconvert_exporter": "python",
   "pygments_lexer": "ipython3",
   "version": "3.7.6"
  }
 },
 "nbformat": 4,
 "nbformat_minor": 4
}
