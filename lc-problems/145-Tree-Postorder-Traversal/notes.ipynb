{
 "cells": [
  {
   "cell_type": "code",
   "execution_count": null,
   "metadata": {},
   "outputs": [],
   "source": [
    "Runtime: 32 ms, faster than 95.24% of Python3 online submissions for Binary Tree Postorder Traversal.\n",
    "Memory Usage: 13.1 MB, less than 66.68% of Python3 online submissions for Binary Tree Postorder Traversal."
   ]
  },
  {
   "cell_type": "code",
   "execution_count": null,
   "metadata": {},
   "outputs": [],
   "source": [
    "还可以……我想大概这是最简单的一个 Hard Marked 题目了……"
   ]
  },
  {
   "cell_type": "code",
   "execution_count": null,
   "metadata": {},
   "outputs": [],
   "source": [
    "但还是照例，给出 Iterative 的解法：\n",
    "对于 前序遍历，并不需要任何特别的操作就可以实现 Stack，进出顺序和我们需要的顺序是一致的。\n",
    "\n",
    "但是对于其他两个顺序，需要维护一个 Flag 位，标记他是否是第一次进入 Stack，或者是第二次。"
   ]
  },
  {
   "cell_type": "code",
   "execution_count": null,
   "metadata": {},
   "outputs": [],
   "source": [
    "还有一种 Trickest 的方法：进行一次「中右左」的顺序的遍历，然后把结果 Reverse 一下。"
   ]
  },
  {
   "cell_type": "code",
   "execution_count": null,
   "metadata": {},
   "outputs": [],
   "source": [
    "这……"
   ]
  }
 ],
 "metadata": {
  "kernelspec": {
   "display_name": "Python 3",
   "language": "python",
   "name": "python3"
  }
 },
 "nbformat": 4,
 "nbformat_minor": 2
}
