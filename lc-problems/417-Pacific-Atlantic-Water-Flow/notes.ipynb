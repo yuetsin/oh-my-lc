{
 "cells": [
  {
   "cell_type": "markdown",
   "metadata": {},
   "source": [
    "# 417 Pacific & Atlantic Waterflow\n",
    "\n",
    "一道 Normal 题写了这么久…\n",
    "\n",
    "Runtime: 300 ms, faster than 71.34% of Python3 online submissions for Pacific Atlantic Water Flow.\n",
    "Memory Usage: 13.9 MB, less than 90.00% of Python3 online submissions for Pacific Atlantic Water Flow.\n",
    "\n",
    "主要原因：\n",
    "\n",
    "双倍快乐（×）Pacific 和 Atlantic 要求重复的代码段很多，犯了很多改了这里忘那里的错\n",
    "\n",
    "另外，再一次把上下左右四个方向写成了斜四个方向，Debug 了半天。\n",
    "\n",
    "注释里写的很清楚，就是一个用 Stack 的广度优先搜索，没啥好说的。"
   ]
  }
 ],
 "metadata": {
  "kernelspec": {
   "display_name": "Python 3",
   "language": "python",
   "name": "python3"
  },
  "language_info": {
   "codemirror_mode": {
    "name": "ipython",
    "version": 3
   },
   "file_extension": ".py",
   "mimetype": "text/x-python",
   "name": "python",
   "nbconvert_exporter": "python",
   "pygments_lexer": "ipython3",
   "version": "3.7.6"
  }
 },
 "nbformat": 4,
 "nbformat_minor": 2
}
