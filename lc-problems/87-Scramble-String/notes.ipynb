{
 "cells": [
  {
   "cell_type": "code",
   "execution_count": null,
   "metadata": {},
   "outputs": [],
   "source": [
    "好我又来了，先吐槽一下题目（你够）"
   ]
  },
  {
   "cell_type": "code",
   "execution_count": null,
   "metadata": {},
   "outputs": [],
   "source": [
    "题目给出的解释是，把 String 展开成树，交换其中任意的左右子树。但他没说清楚的是这个树可以怎么「分裂」。\n",
    "答案是可以任意分裂（在任何地方拆分，并拆分任意多次），因此这个树的结构是完全无法预计的）\n",
    "（此题题面又是模糊不清 LC 特色）"
   ]
  },
  {
   "cell_type": "code",
   "execution_count": null,
   "metadata": {},
   "outputs": [],
   "source": [
    "Python 的解决方案比较暴力：定义一个递归的判断函数 f，对于 f 来说，从左到右任意地方进行分裂，\n",
    "然后看左半串和右半串分别是不是 Scrambled String（通过递归调用自己）。\n",
    "\n",
    "（注意要考虑在此处被交换了左右的情况，因此要做两个判断：\n",
    "A.左半串 vs. 原来的左半串，右半串 vs. 原来的右半串，\n",
    "B.左半串 vs. 原来的右半串，右半串 vs. 原来的左半串\n",
    "\n",
    "只要有一个 分裂点 满足上面 A / B 中任意一组，就可以判断为真啦。"
   ]
  },
  {
   "cell_type": "code",
   "execution_count": null,
   "metadata": {},
   "outputs": [],
   "source": [
    "还是一个比较普通的递归思路…"
   ]
  }
 ],
 "metadata": {
  "kernelspec": {
   "display_name": "Python 3",
   "language": "python",
   "name": "python3"
  }
 },
 "nbformat": 4,
 "nbformat_minor": 2
}
