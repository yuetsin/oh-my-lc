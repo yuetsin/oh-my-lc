{
 "cells": [
  {
   "cell_type": "markdown",
   "metadata": {},
   "source": [
    "# 515 Find Largest Value in Each Tree Row\n",
    "\n",
    "绝类 #513… 这让我想起了 #513 里面我的实现其实没什么意义，实际上只要放置最左那一个值就好了。\n",
    "\n",
    "所谓事后诸葛亮（×\n",
    "\n",
    "Runtime: 44 ms, faster than 80.26% of Python3 online submissions for Find Largest Value in Each Tree Row.\n",
    "\n",
    "Memory Usage: 15.5 MB, less than 100.00% of Python3 online submissions for Find Largest Value in Each Tree Row."
   ]
  }
 ],
 "metadata": {
  "kernelspec": {
   "display_name": "Python 3",
   "language": "python",
   "name": "python3"
  },
  "language_info": {
   "codemirror_mode": {
    "name": "ipython",
    "version": 3
   },
   "file_extension": ".py",
   "mimetype": "text/x-python",
   "name": "python",
   "nbconvert_exporter": "python",
   "pygments_lexer": "ipython3",
   "version": "3.7.6"
  }
 },
 "nbformat": 4,
 "nbformat_minor": 4
}
