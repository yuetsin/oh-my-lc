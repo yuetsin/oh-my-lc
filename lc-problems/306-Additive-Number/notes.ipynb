{
 "cells": [
  {
   "cell_type": "markdown",
   "metadata": {},
   "source": [
    "# 306\n",
    "\n",
    "直接看答案吧…\n",
    "\n",
    "简单思路就是：BruteForce 先找出头两个可能的数字，\n",
    "\n",
    "然后再判断他们能不能走到最后。\n",
    "\n",
    "跟爱情一样。"
   ]
  }
 ],
 "metadata": {
  "kernelspec": {
   "display_name": "Python 3",
   "language": "python",
   "name": "python3"
  },
  "language_info": {
   "codemirror_mode": {
    "name": "ipython",
    "version": 3
   },
   "file_extension": ".py",
   "mimetype": "text/x-python",
   "name": "python",
   "nbconvert_exporter": "python",
   "pygments_lexer": "ipython3",
   "version": "3.7.4"
  }
 },
 "nbformat": 4,
 "nbformat_minor": 2
}
