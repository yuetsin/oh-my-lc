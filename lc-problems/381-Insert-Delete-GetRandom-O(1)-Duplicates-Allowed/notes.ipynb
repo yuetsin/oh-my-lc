{
 "cells": [
  {
   "cell_type": "markdown",
   "metadata": {},
   "source": [
    "# 381\n",
    "\n",
    "轻改一下 #380 就过了…\n",
    "\n",
    "删掉重复检测的部分。\n",
    "\n",
    "Runtime: 820 ms, faster than 5.15% of Python3 online submissions for Insert Delete GetRandom O(1) - Duplicates allowed.\n",
    "\n",
    "Memory Usage: 17.9 MB, less than 100.00% of Python3 online submissions for Insert Delete GetRandom O(1) - Duplicates allowed.\n",
    "\n",
    "占有的空间还变少了呢…\n",
    "\n",
    "（就是太慢了…我在想是不是值得\n",
    "\n",
    "可能还是保留 sets，减少一些 .. in .. 的判断时间来的更好。"
   ]
  }
 ],
 "metadata": {
  "kernelspec": {
   "display_name": "Python 3",
   "language": "python",
   "name": "python3"
  },
  "language_info": {
   "codemirror_mode": {
    "name": "ipython",
    "version": 3
   },
   "file_extension": ".py",
   "mimetype": "text/x-python",
   "name": "python",
   "nbconvert_exporter": "python",
   "pygments_lexer": "ipython3",
   "version": "3.7.4"
  }
 },
 "nbformat": 4,
 "nbformat_minor": 2
}
