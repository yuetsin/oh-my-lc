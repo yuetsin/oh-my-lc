{
 "cells": [
  {
   "cell_type": "markdown",
   "metadata": {},
   "source": [
    "# 222\n",
    "好吧…\n",
    "\n",
    "我又写了个退化版的算法，适用于一切二叉树的算法…（主要是因为简单）\n",
    "\n",
    "对于完全二叉树，可以优化到 O(logN * logN) 的时间复杂度的\n",
    "\n",
    "compare the depth between left sub tree and right sub tree.\n",
    "A, If it is equal, it means the left sub tree is a full binary tree\n",
    "B, It it is not , it means the right sub tree is a full binary tree"
   ]
  },
  {
   "cell_type": "code",
   "execution_count": null,
   "metadata": {},
   "outputs": [],
   "source": [
    " class Solution:\n",
    "        # @param {TreeNode} root\n",
    "        # @return {integer}\n",
    "        def countNodes(self, root):\n",
    "            if not root:\n",
    "                return 0\n",
    "            leftDepth = self.getDepth(root.left)\n",
    "            rightDepth = self.getDepth(root.right)\n",
    "            if leftDepth == rightDepth:\n",
    "                return pow(2, leftDepth) + self.countNodes(root.right)\n",
    "            else:\n",
    "                return pow(2, rightDepth) + self.countNodes(root.left)\n",
    "    \n",
    "        def getDepth(self, root):\n",
    "            if not root:\n",
    "                return 0\n",
    "            return 1 + self.getDepth(root.left)"
   ]
  },
  {
   "cell_type": "markdown",
   "metadata": {},
   "source": [
    "Nice solution, add a word, comparing the depth between left sub tree and right sub tree, If it is equal, it means the left sub tree is a perfect binary tree, not only a full binary tree. If it is not , it means the right sub tree is a perfect binary tree.\n",
    "\n",
    "解释如下：\n",
    "\n",
    "If left sub tree height equals right sub tree height then,\n",
    "a. left sub tree is perfect binary tree\n",
    "b. right sub tree is complete binary tree\n",
    "If left sub tree height greater than right sub tree height then,\n",
    "a. left sub tree is complete binary tree\n",
    "b. right sub tree is perfect binary tree\n",
    "\n",
    "比较左子树和右子树的深度（depth），如果相等的话，就说明左子树是个满二叉树，右子树也一定是完全二叉树。递归再去分析柚子树就好了。\n",
    "如果说不相等，那么左子树就是完全二叉树（不一定满），右子树就变成一定是满的了。那么再去递归左子树。\n",
    "\n",
    "思考一下就能知道情况的确是这样的…"
   ]
  }
 ],
 "metadata": {
  "kernelspec": {
   "display_name": "Python 3",
   "language": "python",
   "name": "python3"
  },
  "language_info": {
   "codemirror_mode": {
    "name": "ipython",
    "version": 3
   },
   "file_extension": ".py",
   "mimetype": "text/x-python",
   "name": "python",
   "nbconvert_exporter": "python",
   "pygments_lexer": "ipython3",
   "version": "3.7.4"
  }
 },
 "nbformat": 4,
 "nbformat_minor": 2
}
