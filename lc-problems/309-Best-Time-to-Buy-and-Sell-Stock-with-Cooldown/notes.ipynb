{
 "cells": [
  {
   "cell_type": "markdown",
   "metadata": {},
   "source": [
    "# 309\n",
    "\n",
    "感觉是个很简单的 DP 啊…结果我差点最后一个 4000 长度的 Case 还过不去。奇怪了。\n",
    "\n",
    "Runtime: 160 ms, faster than 5.92% of Python3 online submissions for Best Time to Buy and Sell Stock with Cooldown.\n",
    "\n",
    "Memory Usage: 32.6 MB, less than 9.09% of Python3 online submissions for Best Time to Buy and Sell Stock with Cooldown.\n",
    "\n",
    "而且 Performance 还这么差…\n",
    "\n"
   ]
  }
 ],
 "metadata": {
  "kernelspec": {
   "display_name": "Python 3",
   "language": "python",
   "name": "python3"
  },
  "language_info": {
   "codemirror_mode": {
    "name": "ipython",
    "version": 3
   },
   "file_extension": ".py",
   "mimetype": "text/x-python",
   "name": "python",
   "nbconvert_exporter": "python",
   "pygments_lexer": "ipython3",
   "version": "3.7.4"
  }
 },
 "nbformat": 4,
 "nbformat_minor": 2
}
