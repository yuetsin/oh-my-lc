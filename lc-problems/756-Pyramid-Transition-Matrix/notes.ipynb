{
 "cells": [
  {
   "cell_type": "markdown",
   "metadata": {},
   "source": [
    "# 756 Pyramid Transition Matrix\n",
    "\n",
    "Runtime: 44 ms, faster than 25.42% of Python3 online submissions for Pyramid Transition Matrix.\n",
    "\n",
    "Memory Usage: 14.1 MB, less than 50.00% of Python3 online submissions for Pyramid Transition Matrix.\n",
    "\n",
    "不难。自底向上的 DFS。留意到题目里没明说的是，每个 triple 对里面的第 0 个元素一定在左边，第 1 个元素一定在右边。\n",
    "\n",
    "一共就只有 200 个 triple pair；所以其实用不用 dict 加速都差不多。"
   ]
  }
 ],
 "metadata": {
  "kernelspec": {
   "display_name": "Python 3",
   "language": "python",
   "name": "python3"
  },
  "language_info": {
   "codemirror_mode": {
    "name": "ipython",
    "version": 3
   },
   "file_extension": ".py",
   "mimetype": "text/x-python",
   "name": "python",
   "nbconvert_exporter": "python",
   "pygments_lexer": "ipython3",
   "version": "3.7.6"
  }
 },
 "nbformat": 4,
 "nbformat_minor": 4
}
