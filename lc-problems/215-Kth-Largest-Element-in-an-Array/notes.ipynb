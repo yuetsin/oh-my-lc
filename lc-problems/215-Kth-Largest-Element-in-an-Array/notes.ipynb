{
 "cells": [
  {
   "cell_type": "markdown",
   "metadata": {},
   "source": [
    "# 215\n",
    "写 Notes 之前，先忏悔。\n",
    "\n",
    "对不起。\n",
    "\n",
    "我又直接用了 Python Stdlib 的库函数。\n",
    "\n",
    "等于是，我让他们帮我写了算法题。\n",
    "\n",
    "然后，这种算法 LiGuoqiang 老师 或是 JiangLihong 老师还讲过。我给忘了。\n",
    "\n",
    "我们一起回忆回忆。\n",
    "\n",
    "方法一：就是暴力排序方法，O(N LogN) 的时间复杂度。空间复杂度取决于你用的排序算法以及是否允许 Modify Origin List。\n",
    "\n",
    "方法二：维护一个优先队列：始终把优先级高的给放在前头，而且保证队列长度不超过 k。（超过部分就直接丢弃，他肯定不是第 k 大的。）\n",
    "\n",
    "最后 peek 出来最后一个就是了。\n",
    "\n",
    "public int findKthLargest(int[] nums, int k) {\n",
    "\n",
    "    final PriorityQueue<Integer> pq = new PriorityQueue<>();\n",
    "    for(int val : nums) {\n",
    "        pq.offer(val);\n",
    "\n",
    "        if(pq.size() > k) {\n",
    "            pq.poll();\n",
    "        }\n",
    "    }\n",
    "    return pq.peek();\n",
    "}\n",
    "\n"
   ]
  }
 ],
 "metadata": {
  "kernelspec": {
   "display_name": "Python 3",
   "language": "python",
   "name": "python3"
  },
  "language_info": {
   "codemirror_mode": {
    "name": "ipython",
    "version": 3
   },
   "file_extension": ".py",
   "mimetype": "text/x-python",
   "name": "python",
   "nbconvert_exporter": "python",
   "pygments_lexer": "ipython3",
   "version": "3.7.4"
  }
 },
 "nbformat": 4,
 "nbformat_minor": 2
}
