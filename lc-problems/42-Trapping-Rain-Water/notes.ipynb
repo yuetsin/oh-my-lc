{
 "cells": [
  {
   "cell_type": "code",
   "execution_count": null,
   "metadata": {},
   "outputs": [],
   "source": [
    "Very amazing and interesting problem!"
   ]
  },
  {
   "cell_type": "code",
   "execution_count": null,
   "metadata": {},
   "outputs": [],
   "source": [
    "> Runtime: 2048 ms, faster than 5.11% of Python3 online submissions for Trapping Rain Water.\n",
    "> Memory Usage: 13.5 MB, less than 5.11% of Python3 online submissions for Trapping Rain Water.\n",
    "My solution is very slow and fatty... Apologize again."
   ]
  },
  {
   "cell_type": "code",
   "execution_count": null,
   "metadata": {},
   "outputs": [],
   "source": [
    "Best C++ Solution combines the left-right approach and the min(max, max) stuff together. That made it quite quick. O(n) time, O(1) space."
   ]
  }
 ],
 "metadata": {
  "kernelspec": {
   "display_name": "Python 3",
   "language": "python",
   "name": "python3"
  }
 },
 "nbformat": 4,
 "nbformat_minor": 2
}
