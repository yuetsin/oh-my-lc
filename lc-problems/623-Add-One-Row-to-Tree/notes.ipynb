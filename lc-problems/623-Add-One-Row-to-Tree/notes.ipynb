{
 "cells": [
  {
   "cell_type": "markdown",
   "metadata": {},
   "source": [
    "# 623 Add One Row to Tree\n",
    "\n",
    "要增加一行深度为 d 的 Node，该怎么做？\n",
    "\n",
    "首先，把所有深度为 d - 1 的节点都拿出来（recursively，或者别的办法都行）。\n",
    "\n",
    "然后，通过巧妙地改指指针，来实现插入。\n",
    "\n",
    "并不难办嘛.jpg"
   ]
  }
 ],
 "metadata": {
  "kernelspec": {
   "display_name": "Python 3",
   "language": "python",
   "name": "python3"
  },
  "language_info": {
   "codemirror_mode": {
    "name": "ipython",
    "version": 3
   },
   "file_extension": ".py",
   "mimetype": "text/x-python",
   "name": "python",
   "nbconvert_exporter": "python",
   "pygments_lexer": "ipython3",
   "version": "3.7.6"
  }
 },
 "nbformat": 4,
 "nbformat_minor": 4
}
