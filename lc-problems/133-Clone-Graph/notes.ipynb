{
 "cells": [
  {
   "cell_type": "code",
   "execution_count": null,
   "metadata": {},
   "outputs": [],
   "source": [
    "简单，而且要求很低，本来没什么讨论的必要。"
   ]
  },
  {
   "cell_type": "code",
   "execution_count": null,
   "metadata": {},
   "outputs": [],
   "source": [
    "但我还是要说的是一个坑……看起来 LeetCode （至少对于 Python3）的测试方式是：构造一个 Solution 类，\n",
    "然后**连续**调用你的解答函数。尽管这时候你在 Solution 的全局变量里进行了一些操作，并且忘了初始化他们。\n",
    "我得承认这道题完全没什么使用 Solution 成员变量的必要，毕竟这些完全都可以作为 cloneGraph 函数体内的局部变量。\n",
    "但还是想吐槽一下。并且提醒自己以后出现 Console 跟 Submission 结果不同的时候，检查一下自己垃圾有无清理干净。"
   ]
  },
  {
   "cell_type": "code",
   "execution_count": null,
   "metadata": {},
   "outputs": [],
   "source": [
    "Runtime: 40 ms, faster than 97.28% of Python3 online submissions for Clone Graph.\n",
    "Memory Usage: 14.1 MB, less than 36.58% of Python3 online submissions for Clone Graph."
   ]
  },
  {
   "cell_type": "code",
   "execution_count": null,
   "metadata": {},
   "outputs": [],
   "source": [
    "Sample 可以看看。基本都是用 Map 跟 Queue 的实现。"
   ]
  }
 ],
 "metadata": {
  "kernelspec": {
   "display_name": "Python 3",
   "language": "python",
   "name": "python3"
  }
 },
 "nbformat": 4,
 "nbformat_minor": 2
}
