{
 "cells": [
  {
   "cell_type": "markdown",
   "metadata": {},
   "source": [
    "#194\n",
    "\n",
    "放飞自我型：直接上 awk（\n",
    "\n",
    "\n",
    "awk '\n",
    "{\n",
    "    for (i = 1; i <= NF; i++) {\n",
    "        if(NR == 1) {\n",
    "            s[i] = $i;\n",
    "        } else {\n",
    "            s[i] = s[i] \" \" $i;\n",
    "        }\n",
    "    }\n",
    "}\n",
    "END {\n",
    "    for (i = 1; s[i] != \"\"; i++) {\n",
    "        print s[i];\n",
    "    }\n",
    "}' file.txt\n",
    "\n",
    "BaSh: 写过简单的\n",
    "    RegEx: 能读懂\n",
    "        awk: 闻所未闻（x）\n",
    "        \n",
    "我今儿才算见了！（熙凤语）"
   ]
  }
 ],
 "metadata": {
  "kernelspec": {
   "display_name": "Python 3",
   "language": "python",
   "name": "python3"
  },
  "language_info": {
   "codemirror_mode": {
    "name": "ipython",
    "version": 3
   },
   "file_extension": ".py",
   "mimetype": "text/x-python",
   "name": "python",
   "nbconvert_exporter": "python",
   "pygments_lexer": "ipython3",
   "version": "3.7.4"
  }
 },
 "nbformat": 4,
 "nbformat_minor": 2
}
