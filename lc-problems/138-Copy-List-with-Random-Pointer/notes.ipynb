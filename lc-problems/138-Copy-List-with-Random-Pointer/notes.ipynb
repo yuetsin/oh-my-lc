{
 "cells": [
  {
   "cell_type": "code",
   "execution_count": null,
   "metadata": {},
   "outputs": [],
   "source": [
    "思路跟上次（#133) 拷贝图一样，还是先把值和指针全部 Copy 过来，再按照指针和原来的图修正指针关系。"
   ]
  },
  {
   "cell_type": "code",
   "execution_count": null,
   "metadata": {},
   "outputs": [],
   "source": [
    "注意 Random 可能会为 Null（None），这时候就没有必要修正指针了。None 就行。(就因为这个 WA 了一次)"
   ]
  },
  {
   "cell_type": "code",
   "execution_count": null,
   "metadata": {},
   "outputs": [],
   "source": [
    "Runtime: 48 ms, faster than 86.76% of Python3 online submissions for Copy List with Random Pointer.\n",
    "Memory Usage: 15.5 MB, less than 49.63% of Python3 online submissions for Copy List with Random Pointer."
   ]
  }
 ],
 "metadata": {
  "kernelspec": {
   "display_name": "Python 3",
   "language": "python",
   "name": "python3"
  }
 },
 "nbformat": 4,
 "nbformat_minor": 2
}
