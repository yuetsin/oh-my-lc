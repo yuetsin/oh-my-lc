{
 "cells": [
  {
   "cell_type": "markdown",
   "metadata": {},
   "source": [
    "# 552 Student Attendance Record II\n",
    "\n",
    "好题！好解！\n",
    "\n",
    "问一共有 n 节课，一共有多少种可能的情况允许评优。\n",
    "\n",
    "这个数很大了，所以要求结果 mod 1000000007。"
   ]
  },
  {
   "cell_type": "markdown",
   "metadata": {},
   "source": [
    "首先，我们可以画出状态机。一共存在 6 种状态：缺席与否和迟到次数 0 1 2。\n",
    "\n",
    "这样，我们就把它六个状态给放到矩阵里头。状态 0 可以转向 0、可以转向 1、也可以转向 3。\n",
    "\n",
    "所以(0, 0)，(1, 0)，(3, 0) 点都是 1，其他都是 0。\n",
    "\n",
    "按照这种规则填充好 adjacency_matrix。"
   ]
  },
  {
   "cell_type": "code",
   "execution_count": null,
   "metadata": {},
   "outputs": [],
   "source": [
    "adjacency_matrix = np.array([\n",
    "    [1, 1, 1, 0, 0, 0],\n",
    "    [1, 0, 0, 0, 0, 0],\n",
    "    [0, 1, 0, 0, 0, 0],\n",
    "    [1, 1, 1, 1, 1, 1],\n",
    "    [0, 0, 0, 1, 0, 0],\n",
    "    [0, 0, 0, 0, 1, 0],\n",
    "], dtype=np.int64)"
   ]
  },
  {
   "cell_type": "markdown",
   "metadata": {},
   "source": [
    "但我们有必要用 O(N) 的时间把所有的状态都算一遍吗？并没必要。\n",
    "\n",
    "Instead, we separate the exponent into a sum of powers of 2 (its binary representation), then multiply in A raised to those powers of 2.\n",
    "\n",
    "我们可以直接采用二分法，一半一半地计算状态，只需要保证两部分「接缝」的地方处于同一种状态就足够了。"
   ]
  },
  {
   "cell_type": "code",
   "execution_count": null,
   "metadata": {},
   "outputs": [],
   "source": [
    "class Solution:\n",
    "    \n",
    "    def checkRecord(self, n: int) -> int:\n",
    "        MODULUS = 10**9 + 7\n",
    "\n",
    "        initial_counts = np.array(\n",
    "            [1, 0, 0, 0, 0, 0], \n",
    "            dtype=np.int64\n",
    "        )\n",
    "\n",
    "        adjacency_matrix = np.array([\n",
    "            [1, 1, 1, 0, 0, 0],\n",
    "            [1, 0, 0, 0, 0, 0],\n",
    "            [0, 1, 0, 0, 0, 0],\n",
    "            [1, 1, 1, 1, 1, 1],\n",
    "            [0, 0, 0, 1, 0, 0],\n",
    "            [0, 0, 0, 0, 1, 0],\n",
    "        ], dtype=np.int64)\n",
    "\n",
    "        def power(A, exp):\n",
    "            B = np.identity(len(A), dtype=np.int64)\n",
    "            for bit in reversed(bin(exp)[2:]):\n",
    "                if bit == '1':\n",
    "                    B = B @ A\n",
    "                    B %= MODULUS\n",
    "                A = A @ A\n",
    "                A %= MODULUS\n",
    "            return B\n",
    "\n",
    "        final_counts = power(adjacency_matrix, n) @ initial_counts\n",
    "\n",
    "        return sum(final_counts) % MODULUS"
   ]
  },
  {
   "cell_type": "markdown",
   "metadata": {},
   "source": [
    "累了。不如算了吧。"
   ]
  }
 ],
 "metadata": {
  "kernelspec": {
   "display_name": "Python 3",
   "language": "python",
   "name": "python3"
  },
  "language_info": {
   "codemirror_mode": {
    "name": "ipython",
    "version": 3
   },
   "file_extension": ".py",
   "mimetype": "text/x-python",
   "name": "python",
   "nbconvert_exporter": "python",
   "pygments_lexer": "ipython3",
   "version": "3.7.6"
  }
 },
 "nbformat": 4,
 "nbformat_minor": 4
}
