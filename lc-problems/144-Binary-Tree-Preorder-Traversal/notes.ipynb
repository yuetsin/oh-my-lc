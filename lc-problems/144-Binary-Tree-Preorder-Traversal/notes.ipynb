{
 "cells": [
  {
   "cell_type": "code",
   "execution_count": null,
   "metadata": {},
   "outputs": [],
   "source": [
    "总的说来，我的这种解法过于 Trivial 了。\n",
    "因此我们可以考虑一下，是否可以不用 Recursive 而用 Iterative 的解法。"
   ]
  },
  {
   "cell_type": "code",
   "execution_count": null,
   "metadata": {},
   "outputs": [],
   "source": [
    "Runtime: 36 ms, faster than 86.77% of Python3 online submissions for Binary Tree Preorder Traversal.\n",
    "Memory Usage: 13.1 MB, less than 66.25% of Python3 online submissions for Binary Tree Preorder Traversal."
   ]
  },
  {
   "cell_type": "code",
   "execution_count": null,
   "metadata": {},
   "outputs": [],
   "source": [
    "def preorderTraversal(self, root):\n",
    "    ret = []\n",
    "    stack = [root]\n",
    "    while stack:\n",
    "        node = stack.pop()\n",
    "        if node:\n",
    "            ret.append(node.val)\n",
    "            stack.append(node.right)\n",
    "            stack.append(node.left)\n",
    "    return ret"
   ]
  },
  {
   "cell_type": "code",
   "execution_count": null,
   "metadata": {},
   "outputs": [],
   "source": [
    "是这样的：放入 Stack 中的内容早晚会被弹出来。因此呢，只要按照顺序给 stack 和 ret 加入东西就可以了。"
   ]
  }
 ],
 "metadata": {
  "kernelspec": {
   "display_name": "Python 3",
   "language": "python",
   "name": "python3"
  }
 },
 "nbformat": 4,
 "nbformat_minor": 2
}
