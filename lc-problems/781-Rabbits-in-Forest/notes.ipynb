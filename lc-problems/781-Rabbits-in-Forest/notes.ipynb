{
 "cells": [
  {
   "cell_type": "markdown",
   "metadata": {},
   "source": [
    "# 781 Rabbits in Forest\n",
    "\n",
    "丛林里有一些不同毛色的兔子。随机从中找一些兔子（或者，也有可能是全部）问他们除了他们自己之外还有多少只兔子和他们颜色一样。\n",
    "\n",
    "那么，根据这个结果，猜测丛林里至少有几种颜色的兔子。\n",
    "\n",
    "首先，还是用 Counter 计算出说每个数字的兔子。注意，它们的毛色并不一定一样。\n",
    "\n",
    "假设有 $k$ 只兔子说，他们看到有 $i$ 只兔子跟他们毛色一致。\n",
    "\n",
    "假如 $k = i + 1$，那么很好，直接认定他们是同一种毛色就行了。假如 $k \\lt i + 1$，也可以认定他们是同一种毛色，因为可能是取样兔子不足，没有把这 $i$ 只兔子都找出来问话。\n",
    "\n",
    "但假如是 $k \\gt i + 1$ 呢？那就一定有「$\\dfrac k {i + 1}$ 向上取整」种兔子毛色。\n",
    "\n",
    "而那些讲出 i 不一致的兔子肯定不是同一种毛色，这毫无疑问。\n",
    "\n",
    "就这么解决吧。\n",
    "\n",
    "\n",
    "Runtime: 44 ms, faster than 50.15% of Python3 online submissions for Rabbits in Forest.\n",
    "\n",
    "Memory Usage: 14 MB, less than 33.33% of Python3 online submissions for Rabbits in Forest."
   ]
  }
 ],
 "metadata": {
  "kernelspec": {
   "display_name": "Python 3",
   "language": "python",
   "name": "python3"
  },
  "language_info": {
   "codemirror_mode": {
    "name": "ipython",
    "version": 3
   },
   "file_extension": ".py",
   "mimetype": "text/x-python",
   "name": "python",
   "nbconvert_exporter": "python",
   "pygments_lexer": "ipython3",
   "version": "3.7.6"
  }
 },
 "nbformat": 4,
 "nbformat_minor": 2
}
