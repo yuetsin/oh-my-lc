{
 "cells": [
  {
   "cell_type": "markdown",
   "metadata": {},
   "source": [
    "# 763 Partition Labels\n",
    "\n",
    "…\n",
    "\n",
    "Runtime: 124 ms, faster than 5.84% of Python3 online submissions for Partition Labels.\n",
    "\n",
    "Memory Usage: 12.8 MB, less than 100.00% of Python3 online submissions for Partition Labels.\n",
    "\n",
    "要把原给的字符串切分成尽可能小的子字符串，但是要保证，每个字母不能出现在两个不同的字符串里。\n",
    "\n",
    "那么我们考虑落刀点：这个落刀点两侧不能有同样的字符。那么我们直接先统计好每个字符出现的第一位置和最後位置；避开这些 Tuple 下刀就好了。\n",
    "\n",
    "然后根据下刀点算出每一段 String 的长度。别忘了天然地，字符串的首尾也是「隐含下刀点」。就是这样。"
   ]
  }
 ],
 "metadata": {
  "kernelspec": {
   "display_name": "Python 3",
   "language": "python",
   "name": "python3"
  },
  "language_info": {
   "codemirror_mode": {
    "name": "ipython",
    "version": 3
   },
   "file_extension": ".py",
   "mimetype": "text/x-python",
   "name": "python",
   "nbconvert_exporter": "python",
   "pygments_lexer": "ipython3",
   "version": "3.7.6"
  }
 },
 "nbformat": 4,
 "nbformat_minor": 4
}
