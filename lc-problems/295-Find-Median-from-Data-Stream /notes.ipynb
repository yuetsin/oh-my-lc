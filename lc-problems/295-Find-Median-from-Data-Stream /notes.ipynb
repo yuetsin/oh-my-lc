{
 "cells": [
  {
   "cell_type": "markdown",
   "metadata": {},
   "source": [
    "# 295\n",
    "\n",
    "it feels like being stubbed\n",
    "\n",
    "Approach 1 说：\n",
    "\n",
    "DO what the question says.\n",
    "\n",
    "Approach 1: Simple Sorting\n",
    "\n",
    "Intuition\n",
    "\n",
    "Do what the question says.\n",
    "\n",
    "Algorithm\n",
    "\n",
    "Store the numbers in a resize-able container. Every time you need to output the median, sort the container and output the median.\n",
    "\n",
    "所以呢？每次都 sort 一次？那我平摊到每次插入做怎么就 TLE？\n",
    "\n",
    "哦，插入排序算法的每一次插入是 O(N)，因此从  1, 2, 3, ..., n 递增进来统共应该是 O(N^2) 的复杂度，是吧。\n",
    "\n",
    "很好。很好。我不自作聪明了。\n",
    "\n",
    "Approach 2: Insertion Sort\n",
    "\n",
    "Intuition\n",
    "\n",
    "Keeping our input container always sorted (i.e. maintaining the sorted nature of the container as an invariant).\n",
    "\n",
    "Approach 2 又过来说：没错，按照每次来说，你这样会快一些。\n",
    "\n",
    "但还是架不住你这个 TestCase 啊…\n",
    "\n"
   ]
  },
  {
   "cell_type": "code",
   "execution_count": null,
   "metadata": {},
   "outputs": [],
   "source": [
    "# 另附对 awice 的吐槽一则：\n",
    "\n",
    "# I'm so glad that some of the solutions (like the ones in this post) weren't written by awice. He is pretty smart and good at coding. But he failed to make solutions/explanations understandable."
   ]
  }
 ],
 "metadata": {
  "kernelspec": {
   "display_name": "Python 3",
   "language": "python",
   "name": "python3"
  },
  "language_info": {
   "codemirror_mode": {
    "name": "ipython",
    "version": 3
   },
   "file_extension": ".py",
   "mimetype": "text/x-python",
   "name": "python",
   "nbconvert_exporter": "python",
   "pygments_lexer": "ipython3",
   "version": "3.7.4"
  }
 },
 "nbformat": 4,
 "nbformat_minor": 2
}
