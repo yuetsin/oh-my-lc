{
 "cells": [
  {
   "cell_type": "markdown",
   "metadata": {},
   "source": [
    "# 591 Tag Validator\n",
    "\n",
    "validate xml 格式的 <>…\n",
    "\n",
    "对 xml 没有任何好感…这简直不是给人看的。\n",
    "\n",
    "RegEx 的写法：\n",
    "\n",
    "<!\\[CDATA\\[.*?\\]\\]> <[CDATA[??]] 里面的家伙先把它给抽出来。之后，递归地 parse 里面的东西，直到 Parse 结束。"
   ]
  },
  {
   "cell_type": "code",
   "execution_count": null,
   "metadata": {},
   "outputs": [],
   "source": [
    "# written by @StefanPochmann\n",
    "\n",
    "class Solution:\n",
    "    def isValid(self, code):\n",
    "        code = re.sub(r'<!\\[CDATA\\[.*?\\]\\]>|t', '-', code)\n",
    "        prev = None\n",
    "        while code != prev:\n",
    "            prev = code\n",
    "            code = re.sub(r'<([A-Z]{1,9})>[^<]*</\\1>', 't', code)\n",
    "        return code == 't'"
   ]
  }
 ],
 "metadata": {
  "kernelspec": {
   "display_name": "Python 3",
   "language": "python",
   "name": "python3"
  },
  "language_info": {
   "codemirror_mode": {
    "name": "ipython",
    "version": 3
   },
   "file_extension": ".py",
   "mimetype": "text/x-python",
   "name": "python",
   "nbconvert_exporter": "python",
   "pygments_lexer": "ipython3",
   "version": "3.7.6"
  }
 },
 "nbformat": 4,
 "nbformat_minor": 4
}
