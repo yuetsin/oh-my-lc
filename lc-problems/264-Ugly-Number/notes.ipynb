{
 "cells": [
  {
   "cell_type": "markdown",
   "metadata": {},
   "source": [
    "# 264\n",
    "\n",
    "明明…应该是那么简单的解答。\n",
    "\n",
    "从 2 3 5 里找一个能除尽的去除，直到除不了了就去除 1…\n",
    "\n",
    "这么直接的思路…为什么我…就是没想出来呢…"
   ]
  }
 ],
 "metadata": {
  "kernelspec": {
   "display_name": "Python 3",
   "language": "python",
   "name": "python3"
  },
  "language_info": {
   "codemirror_mode": {
    "name": "ipython",
    "version": 3
   },
   "file_extension": ".py",
   "mimetype": "text/x-python",
   "name": "python",
   "nbconvert_exporter": "python",
   "pygments_lexer": "ipython3",
   "version": "3.7.4"
  }
 },
 "nbformat": 4,
 "nbformat_minor": 2
}
