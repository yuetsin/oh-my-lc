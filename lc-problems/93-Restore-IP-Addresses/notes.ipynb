{
 "cells": [
  {
   "cell_type": "code",
   "execution_count": null,
   "metadata": {},
   "outputs": [],
   "source": [
    ">Runtime: 40 ms, faster than 94.07% of Python3 online submissions for Restore IP Addresses.\n",
    ">Memory Usage: 13.2 MB, less than 5.16% of Python3 online submissions for Restore IP Addresses."
   ]
  },
  {
   "cell_type": "code",
   "execution_count": null,
   "metadata": {},
   "outputs": [],
   "source": [
    "我写起代码总是那么费 Memory……\n",
    "（废话你老用递归不费才怪"
   ]
  },
  {
   "cell_type": "code",
   "execution_count": null,
   "metadata": {},
   "outputs": [],
   "source": [
    "思路跟上一个 #91-Decode-Ways 很像，还是一个策略问题。并且都表示：不允许多余的前导 0。（虽然他们都没明说，这点很不应该）"
   ]
  },
  {
   "cell_type": "code",
   "execution_count": null,
   "metadata": {},
   "outputs": [],
   "source": [
    "好在 Python 处理二维 List 毫无问题。很开心。"
   ]
  },
  {
   "cell_type": "code",
   "execution_count": null,
   "metadata": {},
   "outputs": [],
   "source": [
    "class Solution(object):\n",
    "    def restoreIpAddresses(self, s):\n",
    "        \"\"\"\n",
    "        :type s: str\n",
    "        :rtype: List[str]\n",
    "        \"\"\"\n",
    "        ans = []\n",
    "        self.helper(ans, s, 4, [])\n",
    "        return ['.'.join(x) for x in ans]\n",
    "        \n",
    "    def helper(self, ans, s, k, temp):\n",
    "        if len(s) > k*3:\n",
    "            return\n",
    "        if k == 0:\n",
    "            ans.append(temp[:])\n",
    "        else:\n",
    "            for i in range(min(3,len(s)-k+1)):\n",
    "                if i==2 and int(s[:3]) > 255 or i > 0 and s[0] == '0':\n",
    "                    continue\n",
    "                self.helper(ans, s[i+1:], k-1, temp+[s[:i+1]])"
   ]
  },
  {
   "cell_type": "code",
   "execution_count": null,
   "metadata": {},
   "outputs": [],
   "source": [
    "更好的做法是使用深度优先搜索算法（DFS）。"
   ]
  }
 ],
 "metadata": {
  "kernelspec": {
   "display_name": "Python 3",
   "language": "python",
   "name": "python3"
  }
 },
 "nbformat": 4,
 "nbformat_minor": 2
}
