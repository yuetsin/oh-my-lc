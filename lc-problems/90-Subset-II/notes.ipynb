{
 "cells": [
  {
   "cell_type": "code",
   "execution_count": null,
   "metadata": {},
   "outputs": [],
   "source": [
    "有的时候真的受不了我自己…\n",
    "刷题总是干一下两种丑事：a) 做标准库 caller b) 复用原来写的（辣鸡）代码。"
   ]
  },
  {
   "cell_type": "code",
   "execution_count": null,
   "metadata": {},
   "outputs": [],
   "source": [
    "Here: 我又用了 #78 Subsets 写的祖传代码。然后在上面加上一堆…补丁，然后继续用。"
   ]
  },
  {
   "cell_type": "code",
   "execution_count": null,
   "metadata": {},
   "outputs": [],
   "source": [
    "好了说回来。本来此题是很简单的，数学上一定会有 2 ^ n 种可能性（每一位都有 Select/Deselect 两种可能）。\n",
    "但是为了去除重复，问题复杂了。"
   ]
  },
  {
   "cell_type": "code",
   "execution_count": null,
   "metadata": {},
   "outputs": [],
   "source": [
    "下面是 @mathsam 大神的解释："
   ]
  },
  {
   "cell_type": "code",
   "execution_count": null,
   "metadata": {},
   "outputs": [],
   "source": [
    "...How many subsets are there if there are duplicate elements? \n",
    "\n",
    "We can treat duplicate element as a spacial element. \n",
    "For example, if we have duplicate elements (5, 5), instead of treating them as two elements that are duplicate, \n",
    "we can treat it as one special element 5,\n",
    "but this element has more than two choices:\n",
    "you can either NOT put it into the subset, \n",
    "or put ONE 5 into the subset, \n",
    "or put TWO 5s into the subset. \n",
    "Therefore, we are given an array (a1, a2, a3, ..., an) with each of them appearing (k1, k2, k3, ..., kn) times, \n",
    "the number of subset is (k1+1)(k2+1)...(kn+1). \n",
    "We can easily see how to write down all the subsets similar to the approach above."
   ]
  },
  {
   "cell_type": "code",
   "execution_count": null,
   "metadata": {},
   "outputs": [],
   "source": [
    "也就是说，对于重复的元素，不把她们当作一些独立的个体，而是变成一个数量选择器，Numeric Selector，可以从 0 到 occurTimes 中间选一个。"
   ]
  },
  {
   "cell_type": "code",
   "execution_count": null,
   "metadata": {},
   "outputs": [],
   "source": [
    "如此这般…就可以规避重复问题了。代码也可以变得更加美好…"
   ]
  }
 ],
 "metadata": {
  "kernelspec": {
   "display_name": "Python 3",
   "language": "python",
   "name": "python3"
  }
 },
 "nbformat": 4,
 "nbformat_minor": 2
}
