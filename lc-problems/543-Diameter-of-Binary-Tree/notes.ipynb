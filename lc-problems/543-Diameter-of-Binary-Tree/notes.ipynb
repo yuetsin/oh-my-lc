{
 "cells": [
  {
   "cell_type": "markdown",
   "metadata": {},
   "source": [
    "# 543 Diameter of Binary Tree\n",
    "\n",
    "Runtime: 1548 ms, faster than 5.18% of Python3 online submissions for Diameter of Binary Tree.\n",
    "\n",
    "Memory Usage: 200 MB, less than 10.34% of Python3 online submissions for Diameter of Binary Tree.\n",
    "\n",
    "Easy 题的测试是真的松…\n",
    "\n",
    "另外，用 depth 来讲不太合适。叫 Height 对于树来说比较好。\n",
    "\n",
    "@awice 的 Solution 写得一如既往的糟糕…\n",
    "\n",
    "看看 @mbowen13 的："
   ]
  },
  {
   "cell_type": "code",
   "execution_count": null,
   "metadata": {},
   "outputs": [],
   "source": [
    "self.ans = 0\n",
    "def depth(root):\n",
    "            if not root: return 0\n",
    "            left = depth(root.left)\n",
    "            right = depth(root.right)\n",
    "            # path\n",
    "            self.ans = max(self.ans, left + right)\n",
    "            # depth\n",
    "            return max(left, right) + 1\n",
    "depth(root)\n",
    "return self.ans"
   ]
  }
 ],
 "metadata": {
  "kernelspec": {
   "display_name": "Python 3",
   "language": "python",
   "name": "python3"
  },
  "language_info": {
   "codemirror_mode": {
    "name": "ipython",
    "version": 3
   },
   "file_extension": ".py",
   "mimetype": "text/x-python",
   "name": "python",
   "nbconvert_exporter": "python",
   "pygments_lexer": "ipython3",
   "version": "3.7.6"
  }
 },
 "nbformat": 4,
 "nbformat_minor": 4
}
