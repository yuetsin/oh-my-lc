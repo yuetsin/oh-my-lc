{
 "cells": [
  {
   "cell_type": "markdown",
   "metadata": {},
   "source": [
    "# 640 Solve the Equation\n",
    "\n",
    "Runtime: 28 ms, faster than 65.80% of Python3 online submissions for Solve the Equation.\n",
    "\n",
    "Memory Usage: 12.8 MB, less than 100.00% of Python3 online submissions for Solve the Equation.\n",
    "\n",
    "還，有點意思的題⋯\n",
    "\n",
    "\n",
    "總歸，先按 + 和 - split 開，然後按照這個來標記後面的 tokens；token 要麼是 '(int)x' 樣子的，要麼是 '(int)'。\n",
    "\n",
    "有一些特別的情況，如「無限解」、「無解」之類的需要自己處理一下。其他的就無所謂了。\n",
    "\n",
    "掰掰～"
   ]
  }
 ],
 "metadata": {
  "kernelspec": {
   "display_name": "Python 3",
   "language": "python",
   "name": "python3"
  },
  "language_info": {
   "codemirror_mode": {
    "name": "ipython",
    "version": 3
   },
   "file_extension": ".py",
   "mimetype": "text/x-python",
   "name": "python",
   "nbconvert_exporter": "python",
   "pygments_lexer": "ipython3",
   "version": "3.7.6"
  }
 },
 "nbformat": 4,
 "nbformat_minor": 4
}
