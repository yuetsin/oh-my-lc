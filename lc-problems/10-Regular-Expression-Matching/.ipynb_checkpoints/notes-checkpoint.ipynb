{
 "cells": [
  {
   "cell_type": "code",
   "execution_count": null,
   "metadata": {},
   "outputs": [],
   "source": [
    "My first 'Hard' marked problem..."
   ]
  },
  {
   "cell_type": "code",
   "execution_count": null,
   "metadata": {},
   "outputs": [],
   "source": [
    "The problem requires matching a baby version of regular expression:\n",
    "\n",
    "[char]* means char can be expanded any times, including 0 times(totally remove char). Notice that _ can perform as the [char]\n",
    "\n",
    "_ means it can be replaced by any single character."
   ]
  },
  {
   "cell_type": "code",
   "execution_count": null,
   "metadata": {},
   "outputs": [],
   "source": [
    "The most difficult part is the * related stuff. The variable length things are always difficult to deal with..."
   ]
  },
  {
   "cell_type": "code",
   "execution_count": null,
   "metadata": {},
   "outputs": [],
   "source": [
    "So we would expand every * into normal string containing merely normal characters and _.\n",
    "After all '*'s gone, we can match these two strings in O(N) time."
   ]
  },
  {
   "cell_type": "code",
   "execution_count": null,
   "metadata": {},
   "outputs": [],
   "source": [
    "P.S. It is not appropriate to convert the string into real regex and call regex library to solve this problem. That would make this problem much less interesting."
   ]
  }
 ],
 "metadata": {
  "kernelspec": {
   "display_name": "Python 3",
   "language": "python",
   "name": "python3"
  }
 },
 "nbformat": 4,
 "nbformat_minor": 2
}
