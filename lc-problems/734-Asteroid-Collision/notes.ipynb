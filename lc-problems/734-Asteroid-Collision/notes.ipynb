{
 "cells": [
  {
   "cell_type": "markdown",
   "metadata": {},
   "source": [
    "# 734 Asteroid Collision\n",
    "\n",
    "Runtime: 8952 ms, faster than 5.00% of Python3 online submissions for Asteroid Collision.\n",
    "\n",
    "Memory Usage: 13.3 MB, less than 100.00% of Python3 online submissions for Asteroid Collision.\n",
    "\n",
    "我觉得我的解法实在丑爆了。\n",
    "\n",
    "遗憾的是他居然能过。\n",
    "\n",
    "最终的无碰撞结果一定是 [negative asteroids, positive asteroids]\n",
    "\n",
    "这样的排布。其中那些逆天而行的会按照大小被击碎。\n",
    "\n",
    "其实这道题直接一次遍历就解决了。找到那些相对而行的行星…按照规则把他们删去。\n",
    "\n",
    "就到此为止。"
   ]
  }
 ],
 "metadata": {
  "kernelspec": {
   "display_name": "Python 3",
   "language": "python",
   "name": "python3"
  },
  "language_info": {
   "codemirror_mode": {
    "name": "ipython",
    "version": 3
   },
   "file_extension": ".py",
   "mimetype": "text/x-python",
   "name": "python",
   "nbconvert_exporter": "python",
   "pygments_lexer": "ipython3",
   "version": "3.7.6"
  }
 },
 "nbformat": 4,
 "nbformat_minor": 4
}
