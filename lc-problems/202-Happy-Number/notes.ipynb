{
 "cells": [
  {
   "cell_type": "markdown",
   "metadata": {},
   "source": [
    "# 202\n",
    "\n",
    "Happy Number\n",
    "\n",
    "再一次说，LeetCode 的 Python Solution Checker 就是垃圾。\n",
    "\n",
    "只创建一个 Solution 类，然后反复调用其中的方法。那我的全局变量呢？？\n",
    "\n",
    "为什么上一个 case 会影响下一个 case 的结果？\n",
    "\n",
    "（LC：免费用户闭嘴）"
   ]
  },
  {
   "cell_type": "markdown",
   "metadata": {},
   "source": [
    "所以空间复杂度这么难看。\n",
    "\n",
    "Runtime: 44 ms, faster than 45.74% of Python3 online submissions for Happy Number.\n",
    "\n",
    "Memory Usage: 13.7 MB, less than 5.26% of Python3 online submissions for Happy Number."
   ]
  },
  {
   "cell_type": "markdown",
   "metadata": {},
   "source": [
    "def isHappy(self, n):\n",
    "    mem = set()\n",
    "    while n != 1:\n",
    "        n = sum([int(i) ** 2 for i in str(n)])\n",
    "        if n in mem:\n",
    "            return False\n",
    "        else:\n",
    "            mem.add(n)\n",
    "    else:\n",
    "        return True"
   ]
  },
  {
   "cell_type": "code",
   "execution_count": null,
   "metadata": {},
   "outputs": [],
   "source": [
    "事实上是我的问题…完全不需要递归，这样就不需要全局变量，这样就可以用局部变量解决问题。\n",
    "\n",
    "我傻啊…这种 Fibonacci 式的可以消除的递归本来就不该用。"
   ]
  }
 ],
 "metadata": {
  "kernelspec": {
   "display_name": "Python 3",
   "language": "python",
   "name": "python3"
  },
  "language_info": {
   "codemirror_mode": {
    "name": "ipython",
    "version": 3
   },
   "file_extension": ".py",
   "mimetype": "text/x-python",
   "name": "python",
   "nbconvert_exporter": "python",
   "pygments_lexer": "ipython3",
   "version": "3.7.4"
  }
 },
 "nbformat": 4,
 "nbformat_minor": 2
}
