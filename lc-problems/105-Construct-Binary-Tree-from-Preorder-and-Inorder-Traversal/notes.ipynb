{
 "cells": [
  {
   "cell_type": "code",
   "execution_count": null,
   "metadata": {},
   "outputs": [],
   "source": [
    "重建二叉树挺简单的…其实。\n",
    "\n",
    "首先，宏观上看，前序遍历的第一个元素肯定就是 Root。然后后面有一坨 左子树和一坨右子树。\n",
    "而在中序遍历里面，找到 Root 所在位置，她所分割的就是 左子树的值和右子树的值。虽然他跟前序遍历里面的顺序不一定一样（肯定不会一样\n",
    "但是值的个数是一样的。然后我们只要递归地调用自己，获取左子树、右子树的 Root，将自己的左右孩子指针指向他们就可以了"
   ]
  },
  {
   "cell_type": "code",
   "execution_count": null,
   "metadata": {},
   "outputs": [],
   "source": [
    "> Runtime: 208 ms, faster than 41.77% of Python3 online submissions for Construct Binary Tree from Preorder and Inorder Traversal.\n",
    "> Memory Usage: 87.6 MB, less than 11.66% of Python3 online submissions for Construct Binary Tree from Preorder and Inorder Traversal."
   ]
  },
  {
   "cell_type": "code",
   "execution_count": null,
   "metadata": {},
   "outputs": [],
   "source": [
    "速度方面…比较勉强。List 切片比较费时，或许以后可以用传 Index + 全局 List 随时切片的方式会好一点。"
   ]
  },
  {
   "cell_type": "code",
   "execution_count": null,
   "metadata": {},
   "outputs": [],
   "source": [
    "def buildTree(self, preorder, inorder):\n",
    "    if inorder:\n",
    "        ind = inorder.index(preorder.pop(0))\n",
    "        root = TreeNode(inorder[ind])\n",
    "        root.left = self.buildTree(preorder, inorder[0:ind])\n",
    "        root.right = self.buildTree(preorder, inorder[ind+1:])\n",
    "        return root"
   ]
  },
  {
   "cell_type": "code",
   "execution_count": null,
   "metadata": {},
   "outputs": [],
   "source": [
    "Sample 做法，让 preorder 在处理完一个（head）就 pop 一个出来，避免切片。简化运算。喵啊"
   ]
  }
 ],
 "metadata": {
  "kernelspec": {
   "display_name": "Python 3",
   "language": "python",
   "name": "python3"
  }
 },
 "nbformat": 4,
 "nbformat_minor": 2
}
