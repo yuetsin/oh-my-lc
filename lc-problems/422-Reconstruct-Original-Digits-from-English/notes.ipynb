{
 "cells": [
  {
   "cell_type": "markdown",
   "metadata": {},
   "source": [
    "# 422 Reconstruct Original Digits from English\n",
    "\n",
    "简单说…给出一堆 0 ～ 9 的英文单词数字，但是字母全部都是乱序的。要把它重建成数字。\n",
    "\n",
    "这简直了…因为如果直接强行匹配，就很容易造成「把我的字母给他了，把他的字母给我了」，结果最后匹配失败。\n",
    "\n",
    "所以不得不多花点时间：给出每个字母可能出现在多少种单词里面？然后对每一个字母进行分类讨论。\n",
    "\n",
    "看起来会花很多时间，但实际上并不会。因为越到後面，有可能的情况越少。又因为给出的 Case 一定是正确的，所以也不存在 Error Handling 的问题了。\n",
    "\n",
    "另外，以后不要手写 Counter 了。用 collections.Counter 就可以了。"
   ]
  },
  {
   "cell_type": "code",
   "execution_count": null,
   "metadata": {},
   "outputs": [],
   "source": [
    "from collections import Counter\n",
    "class Solution:\n",
    "    def originalDigits(self, s: str) -> str:\n",
    "        ls=[\"zero\",\"one\",\"two\",\"three\",\"four\",\"five\",\"six\",\"seven\",\"eight\",\"nine\"]\n",
    "        cnt=Counter(s)\n",
    "        res=[\"\" for _ in range(10)]\n",
    "        check_ls=[[\"z\",0],[\"x\",6],[\"w\",2],[\"g\",8],[\"h\",3],[\"u\",4],[\"o\",1],[\"f\",5],[\"s\",7],[\"i\",9]]\n",
    "        for i in range(10):\n",
    "            if check_ls[i][0] in cnt and cnt[check_ls[i][0]]>0:\n",
    "                n=cnt[check_ls[i][0]]\n",
    "                res[check_ls[i][1]]=str(check_ls[i][1])*n\n",
    "                for j in ls[check_ls[i][1]]:\n",
    "                    cnt[j]-=n\n",
    "                    if cnt[j]==0:\n",
    "                        cnt.pop(j)\n",
    "        return \"\".join(res)"
   ]
  }
 ],
 "metadata": {
  "kernelspec": {
   "display_name": "Python 3",
   "language": "python",
   "name": "python3"
  },
  "language_info": {
   "codemirror_mode": {
    "name": "ipython",
    "version": 3
   },
   "file_extension": ".py",
   "mimetype": "text/x-python",
   "name": "python",
   "nbconvert_exporter": "python",
   "pygments_lexer": "ipython3",
   "version": "3.7.6"
  }
 },
 "nbformat": 4,
 "nbformat_minor": 2
}
