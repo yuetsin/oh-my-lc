{
 "cells": [
  {
   "cell_type": "markdown",
   "metadata": {},
   "source": [
    "# 717 1-bit and 2-bit Characters\n",
    "\n",
    "实际上这种编码方式是不存在二义性的——没有任何地方存在可以犹豫的空间。\n",
    "\n",
    "所以，用一根 Increment Pointer 也好，用 Greedy 也好。就是这么回事。\n",
    "\n",
    "Runtime: 48 ms, faster than 82.14% of Python3 online submissions for 1-bit and 2-bit Characters.\n",
    "\n",
    "Memory Usage: 13.5 MB, less than 20.00% of Python3 online submissions for 1-bit and 2-bit Characters."
   ]
  }
 ],
 "metadata": {
  "kernelspec": {
   "display_name": "Python 3",
   "language": "python",
   "name": "python3"
  },
  "language_info": {
   "codemirror_mode": {
    "name": "ipython",
    "version": 3
   },
   "file_extension": ".py",
   "mimetype": "text/x-python",
   "name": "python",
   "nbconvert_exporter": "python",
   "pygments_lexer": "ipython3",
   "version": "3.7.6"
  }
 },
 "nbformat": 4,
 "nbformat_minor": 4
}
