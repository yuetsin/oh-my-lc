{
 "cells": [
  {
   "cell_type": "markdown",
   "metadata": {},
   "source": [
    "# 632 Smallest Range Covering Element from K Lists\n",
    "\n",
    "要拿到一个最小的 Range，以使得所有 Lists 中都至少有一个数字落在这个 Range 里。\n",
    "\n",
    "暴力的两种方法就不说了。丢人。\n",
    "\n",
    "第一个看起来比较靠谱的优化解是：\n",
    "\n",
    "假定我们的 K 个 Lists 都是自小到大排序好了的。\n",
    "\n",
    "维护一个 长度等于 K 的 Pointer List，然后从头开始遍历这 K 个 Lists。首先，所有的指针都指在 0 位置。然后，确认这 K 个指针指向的值的区间——应该构成了一个 Range，覆盖了所有的数列。这当然了，虽然这个区间非常大。\n",
    "\n",
    "然后，我们可以确定其中最小的那个值是谁，也就是它拉大了我们的 Range。然后我们把那个指向最小值的指针后移一位。重复这些操作，直到遇到了某个最小指针碰到了某个数组的末尾——那么我们的 Range 下界不可能再大了；再大就兜不住这个 Array 了。\n",
    "\n",
    "然后，这个结果就是了。\n",
    "\n",
    "这部分的代码参见 `sample_pointers.py`。\n",
    "\n",
    "遗憾的是…这种算法会吃 TLE。\n",
    "\n",
    "但其实我们还可以做些优化：在 Plain Pointers 里，我们每一次都找一回 Max 和 Min，这占用了太多的时间。\n",
    "\n",
    "但你留意到没有？实际上我们每次遍历那个 Pointer to 的构成数组的时候，其中绝大多数元素 (k - 1 个) 都是不变的。会变的只是那个我们上次移动了的 min Array pointer 的值，而且他铁定是往大变。\n",
    "\n",
    "所以咱们用一个 Heap 来存储那些数字，就可以在 O(LogN) 时间里完成数字的更新。\n",
    "\n",
    "这题的要求很严格，除非压到 O(NLogN) 的总复杂度，否则都过不了。\n",
    "\n",
    "就是这样～"
   ]
  }
 ],
 "metadata": {
  "kernelspec": {
   "display_name": "Python 3",
   "language": "python",
   "name": "python3"
  },
  "language_info": {
   "codemirror_mode": {
    "name": "ipython",
    "version": 3
   },
   "file_extension": ".py",
   "mimetype": "text/x-python",
   "name": "python",
   "nbconvert_exporter": "python",
   "pygments_lexer": "ipython3",
   "version": "3.7.6"
  }
 },
 "nbformat": 4,
 "nbformat_minor": 4
}
