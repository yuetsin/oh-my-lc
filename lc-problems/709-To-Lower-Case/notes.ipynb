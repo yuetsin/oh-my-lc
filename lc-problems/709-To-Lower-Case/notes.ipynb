{
 "cells": [
  {
   "cell_type": "markdown",
   "metadata": {},
   "source": [
    "# 709 To Lower Case\n",
    "\n",
    "Runtime: 28 ms, faster than 55.34% of Python3 online submissions for To Lower Case.\n",
    "\n",
    "Memory Usage: 12.7 MB, less than 100.00% of Python3 online submissions for To Lower Case.\n",
    "\n",
    "LC 是没题出了吗？？？？\n",
    "\n",
    "而且，这 Python3 的答题模版里，居然还把字符串的形参名字…叫做 `str`…\n",
    "\n",
    "guna"
   ]
  }
 ],
 "metadata": {
  "kernelspec": {
   "display_name": "Python 3",
   "language": "python",
   "name": "python3"
  },
  "language_info": {
   "codemirror_mode": {
    "name": "ipython",
    "version": 3
   },
   "file_extension": ".py",
   "mimetype": "text/x-python",
   "name": "python",
   "nbconvert_exporter": "python",
   "pygments_lexer": "ipython3",
   "version": "3.7.6"
  }
 },
 "nbformat": 4,
 "nbformat_minor": 4
}
