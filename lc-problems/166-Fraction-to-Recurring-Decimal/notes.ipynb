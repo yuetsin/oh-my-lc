{
 "cells": [
  {
   "cell_type": "markdown",
   "metadata": {},
   "source": [
    "# 166\n",
    "数学问题……小学奥数题，如何将 a.bc(de) 型的无限循环小数和 x/y 型的最简整数比互相转换，当时的操作为列竖式算（\n",
    "\n",
    "## Python Solution"
   ]
  },
  {
   "cell_type": "code",
   "execution_count": null,
   "metadata": {},
   "outputs": [],
   "source": [
    "def fractionToDecimal(self, n, d): # 32ms, beats 100%\n",
    "    if n % d == 0: return str(n // d)\n",
    "    p, q, r, s, m = abs(n), abs(d), abs(n) % abs(d), '', {}\n",
    "    while r and r not in m: m[r], r, s = len(s), r * 10 % q, s + str(r * 10 // q)\n",
    "    return ('' if (n > 0) == (d > 0) else '-') + str(p // q) + '.' + (s[:m[r]] + '(' + s[m[r]:] + ')' if r else s)"
   ]
  },
  {
   "cell_type": "markdown",
   "metadata": {},
   "source": [
    "至于这个「4 Lines」，几乎没办法看明白……我们还是按照人类思路来看一下 Expanded Version："
   ]
  },
  {
   "cell_type": "code",
   "execution_count": 1,
   "metadata": {},
   "outputs": [],
   "source": [
    "def fractionToDecimal(self, numerator, denominator):\n",
    "    if numerator % denominator == 0: return str(numerator // denominator)\n",
    "    p, q = map(abs, (numerator, denominator))\n",
    "    prefix = ('' if (numerator > 0) == (denominator > 0) else '-') + str(p // q) + '.' # everything before the decimal point\n",
    "    suffix = '' # everything after the decimal point\n",
    "    remainder = p % q\n",
    "    index = {}\n",
    "    while remainder not in index: # search for recurrence\n",
    "        index[remainder] = len(suffix)\n",
    "        suffix += str(remainder * 10 // q)\n",
    "        remainder = remainder * 10 % q\n",
    "        if remainder == 0: return prefix + suffix # no recurring decimal\n",
    "    return prefix + suffix[:index[remainder]] + '(' + suffix[index[remainder]:] + ')'"
   ]
  },
  {
   "cell_type": "markdown",
   "metadata": {},
   "source": [
    "这个稍微让人舒服点了。\n",
    "\n",
    "首先呢，if numerator % denominator == 0: return str(numerator // denominator)\n",
    "可整除的就别废话了\n",
    "\n",
    "然后，先取出绝对值，放进 p，q 里待用。前缀为 p//q （整数部分），并根据 p q 的正负组合适当添加「-」前缀。\n",
    "\n",
    "比较复杂的事这个 suffix 了：小数点之后应该是什么？\n",
    "\n",
    "方案是：一步步地 * 10，每一次 * 10 都能拿到下一位。当 remainder 不剩下（为 0）的时候，我们就停下来。\n",
    "\n",
    "这算是除尽了，直接把 index {} 给放进去就好了。不用加()。（没循环）\n",
    "\n",
    "但是，无限循环小数的情况，一定是我们某一次得到的 remainder 和之前的重复了。唯有这种情况下才会出现循环往复。\n",
    "第一次和之前的重复位置到末尾的切片就是循环部分，我们就把它给放进 () 里，就算是得到结果啦。\n",
    "\n",
    "然后我们再回头看 4 - Lines Solution：发现这个解法也是有道理的……就是……完全没法读懂啊……（拍桌"
   ]
  }
 ],
 "metadata": {
  "kernelspec": {
   "display_name": "Python 3",
   "language": "python",
   "name": "python3"
  },
  "language_info": {
   "codemirror_mode": {
    "name": "ipython",
    "version": 3
   },
   "file_extension": ".py",
   "mimetype": "text/x-python",
   "name": "python",
   "nbconvert_exporter": "python",
   "pygments_lexer": "ipython3",
   "version": "3.7.4"
  }
 },
 "nbformat": 4,
 "nbformat_minor": 2
}
