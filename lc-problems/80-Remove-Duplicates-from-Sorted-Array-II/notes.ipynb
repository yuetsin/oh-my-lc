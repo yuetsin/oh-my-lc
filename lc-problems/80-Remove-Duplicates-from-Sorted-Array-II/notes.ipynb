{
 "cells": [
  {
   "cell_type": "code",
   "execution_count": null,
   "metadata": {},
   "outputs": [],
   "source": [
    "我不觉得这题目存在任何可以称为 II 的地方……"
   ]
  },
  {
   "cell_type": "code",
   "execution_count": null,
   "metadata": {},
   "outputs": [],
   "source": [
    "不论是思路，方法，都和 I 高度类似（I 已经算是很无聊的题了），只是加了一点非常微弱的 1 -> 2 的变化。\n",
    "要是你要求 1 -> n 那还有意思一点……"
   ]
  },
  {
   "cell_type": "code",
   "execution_count": null,
   "metadata": {},
   "outputs": [],
   "source": [
    "> Runtime: 48 ms, faster than 94.01% of Python3 online submissions for Remove Duplicates from Sorted Array II.\n",
    "> Memory Usage: 13.1 MB, less than 5.43% of Python3 online submissions for Remove Duplicates from Sorted Array II."
   ]
  }
 ],
 "metadata": {
  "kernelspec": {
   "display_name": "Python 3",
   "language": "python",
   "name": "python3"
  }
 },
 "nbformat": 4,
 "nbformat_minor": 2
}
