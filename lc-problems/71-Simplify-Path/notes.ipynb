{
 "cells": [
  {
   "cell_type": "code",
   "execution_count": null,
   "metadata": {},
   "outputs": [],
   "source": [
    "这题，武松有话说（大雾"
   ]
  },
  {
   "cell_type": "code",
   "execution_count": null,
   "metadata": {},
   "outputs": [],
   "source": [
    "首先，题目很棒，但最终得到 382 Like 和 1104 Dislike。主要原因应该是糟糕的描述和 Test Case。"
   ]
  },
  {
   "cell_type": "code",
   "execution_count": null,
   "metadata": {},
   "outputs": [],
   "source": [
    "题目中很多情况的定义是基于用 Stack 来实现的。也就是，允许从根目录寻找上级目录 ../，并且上级目录还是这个根目录。"
   ]
  },
  {
   "cell_type": "code",
   "execution_count": null,
   "metadata": {},
   "outputs": [],
   "source": [
    "甚至还出现了这样一个 Case：\"/..\""
   ]
  },
  {
   "cell_type": "code",
   "execution_count": null,
   "metadata": {},
   "outputs": [],
   "source": [
    "如果这题能正正经经用正常的目录结构来做题目，或者能把题目说明给的更清楚（甚至题目直接丢出了 UNIX/LINUX 文档），这题会很舒服的。"
   ]
  },
  {
   "cell_type": "code",
   "execution_count": null,
   "metadata": {},
   "outputs": [],
   "source": [
    "就算这样…还是不想用 stack。但是必须承认…用 Stack 真的在本题中方便。"
   ]
  },
  {
   "cell_type": "code",
   "execution_count": null,
   "metadata": {},
   "outputs": [],
   "source": [
    "> P.S. Python 的 for 语法是真的好好看"
   ]
  }
 ],
 "metadata": {
  "kernelspec": {
   "display_name": "Python 3",
   "language": "python",
   "name": "python3"
  }
 },
 "nbformat": 4,
 "nbformat_minor": 2
}
