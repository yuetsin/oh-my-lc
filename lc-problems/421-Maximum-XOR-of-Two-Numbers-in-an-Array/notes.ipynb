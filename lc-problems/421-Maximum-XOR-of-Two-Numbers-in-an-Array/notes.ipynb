{
 "cells": [
  {
   "cell_type": "markdown",
   "metadata": {},
   "source": [
    "# 421 Maximum XOR\n",
    "\n",
    "事实证明，强行 O(N^2) 的方法是不可以的。\n",
    "\n",
    "最后一个 20000 个数字的 Case 就爆炸了。\n",
    "\n",
    "传说，更好的办法是用「Trie」字典前缀树来做。\n",
    "\n",
    "本质上，我们要 XOR 最大，也就是说我们希望有两个最多的位数不一样的数字进行 XOR，而且越高位的权重越高。\n",
    "\n",
    "所以我们就直接按每一位造二叉树。每次有的选的时候（可以选择填 0 或 1 的时候）就递归地检查两边的最大差值。\n",
    "\n",
    "是个很巧妙的可递归的问题。"
   ]
  },
  {
   "cell_type": "code",
   "execution_count": null,
   "metadata": {},
   "outputs": [],
   "source": [
    "class TrieNode:\n",
    "    def __init__(self):\n",
    "        self.children = {}\n",
    "        self.fin_val = -1\n",
    "    \n",
    "    \n",
    "class Trie:\n",
    "    def __init__(self):\n",
    "        self.root = TrieNode()\n",
    "        \n",
    "        \n",
    "    def insert(self, val):\n",
    "        ptr = self.root\n",
    "        for x in range(31, -1, -1):\n",
    "            digit = 1 if (val & 1 << x) else 0\n",
    "            if digit not in ptr.children:\n",
    "                ptr.children[digit] = TrieNode()\n",
    "            ptr = ptr.children[digit]\n",
    "        ptr.fin_val = val\n",
    "\n",
    "\n",
    "    def max_xor(self, A):\n",
    "        g_max = 0\n",
    "        for x in range(len(A)):\n",
    "            ptr = self.root\n",
    "            curr = A[x]\n",
    "            for y in range(31, -1, -1):\n",
    "                digit = 1 if (curr & 1 << y) else 0\n",
    "                if digit == 0:\n",
    "                    if 1 in ptr.children:\n",
    "                        ptr = ptr.children[1]\n",
    "                    else:\n",
    "                        ptr = ptr.children[0]\n",
    "                else:\n",
    "                    if 0 in ptr.children:\n",
    "                        ptr = ptr.children[0]\n",
    "                    else:\n",
    "                        ptr = ptr.children[1]\n",
    "            g_max = max(g_max, ptr.fin_val ^ curr)\n",
    "        return g_max\n",
    "            \n",
    "        \n",
    "        \n",
    "class Solution:\n",
    "    # @param A : list of integers\n",
    "    # @return an integer\n",
    "    def findMaximumXOR(self, A):\n",
    "        t = Trie()\n",
    "        for x in A:\n",
    "            t.insert(x)\n",
    "        return t.max_xor(A)"
   ]
  }
 ],
 "metadata": {
  "kernelspec": {
   "display_name": "Python 3",
   "language": "python",
   "name": "python3"
  },
  "language_info": {
   "codemirror_mode": {
    "name": "ipython",
    "version": 3
   },
   "file_extension": ".py",
   "mimetype": "text/x-python",
   "name": "python",
   "nbconvert_exporter": "python",
   "pygments_lexer": "ipython3",
   "version": "3.7.6"
  }
 },
 "nbformat": 4,
 "nbformat_minor": 2
}
