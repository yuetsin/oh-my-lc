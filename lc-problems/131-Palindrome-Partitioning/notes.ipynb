{
 "cells": [
  {
   "cell_type": "code",
   "execution_count": null,
   "metadata": {},
   "outputs": [],
   "source": [
    "简单直接的解决方案：\n",
    "首先，写一个 isPal() 函数判断字符串是否是回文的。\n",
    "\n",
    "然后，一个递归的 dfs function：\n",
    "\n",
    "从每一列开始调用自己，DFS(s[i:], path + [s[:i]], res)\n",
    "\n",
    "意为前面的哪一种可成立的回文序列结合上后面的所有的情况种类。\n",
    "\n",
    "这里用了 res 的传递参数，暗暗地传递的是指针/引用，因此效率较高。"
   ]
  },
  {
   "cell_type": "code",
   "execution_count": null,
   "metadata": {},
   "outputs": [],
   "source": [
    "其实很简单。不用考虑太多的东西，甚至连 DP 表都没用就过了。"
   ]
  },
  {
   "cell_type": "code",
   "execution_count": null,
   "metadata": {},
   "outputs": [],
   "source": [
    "是我想复杂了。"
   ]
  }
 ],
 "metadata": {
  "kernelspec": {
   "display_name": "Python 3",
   "language": "python",
   "name": "python3"
  }
 },
 "nbformat": 4,
 "nbformat_minor": 2
}
