{
 "cells": [
  {
   "cell_type": "code",
   "execution_count": null,
   "metadata": {},
   "outputs": [],
   "source": [
    "啊……一切都 Serializable 的 Python 真舒服啊（除了 List 啥都可以往 set 里丢）"
   ]
  },
  {
   "cell_type": "code",
   "execution_count": null,
   "metadata": {},
   "outputs": [],
   "source": [
    "简单说就是把俩链表跑一边，第一个重复的 Element Node 就是 Junction 啦。"
   ]
  },
  {
   "cell_type": "code",
   "execution_count": null,
   "metadata": {},
   "outputs": [],
   "source": [
    "Runtime: 200 ms, faster than 81.89% of Python online submissions for Intersection of Two Linked Lists.\n",
    "Memory Usage: 42.2 MB, less than 8.43% of Python online submissions for Intersection of Two Linked Lists."
   ]
  },
  {
   "cell_type": "code",
   "execution_count": null,
   "metadata": {},
   "outputs": [],
   "source": [
    "空间复杂度不出所料的难看）"
   ]
  },
  {
   "cell_type": "code",
   "execution_count": null,
   "metadata": {},
   "outputs": [],
   "source": [
    "Approach 2: Hash Table\n",
    "\n",
    "Traverse list A and store the address / reference to each node in a hash set. Then check every node bi in list B: if bi appears in the hash set, then bi is the intersection node.\n",
    "\n",
    "Complexity Analysis\n",
    "\n",
    "Time complexity: \n",
    "O(m+n)\n",
    "\n",
    "Space complexity: \n",
    "O(m) or O(n)"
   ]
  },
  {
   "cell_type": "code",
   "execution_count": null,
   "metadata": {},
   "outputs": [],
   "source": [
    "我的解决方法，空间复杂度比较差劲"
   ]
  },
  {
   "cell_type": "code",
   "execution_count": null,
   "metadata": {},
   "outputs": [],
   "source": [
    "Approach 3: Two Pointers\n",
    "用两枚指针就可以做到 O(m + n) 的时间复杂度，同时 O(1) 的空间复杂度。"
   ]
  },
  {
   "cell_type": "code",
   "execution_count": null,
   "metadata": {},
   "outputs": [],
   "source": [
    "Maintain two pointers \n",
    "p\n",
    "A\n",
    "pA and \n",
    "p\n",
    "B\n",
    "pB initialized at the head of A and B, respectively. Then let them both traverse through the lists, one node at a time.\n",
    "When \n",
    "p\n",
    "A\n",
    "pA reaches the end of a list, then redirect it to the head of B (yes, B, that's right.); similarly when \n",
    "p\n",
    "B\n",
    "pB reaches the end of a list, redirect it the head of A.\n",
    "If at any point \n",
    "p\n",
    "A\n",
    "pA meets \n",
    "p\n",
    "B\n",
    "pB, then \n",
    "p\n",
    "A\n",
    "pA/\n",
    "p\n",
    "B\n",
    "pB is the intersection node.\n",
    "To see why the above trick would work, consider the following two lists: A = {1,3,5,7,9,11} and B = {2,4,9,11}, which are intersected at node '9'. Since B.length (=4) < A.length (=6), \n",
    "p\n",
    "B\n",
    "pB would reach the end of the merged list first, because \n",
    "p\n",
    "B\n",
    "pB traverses exactly 2 nodes less than \n",
    "p\n",
    "A\n",
    "pA does. By redirecting \n",
    "p\n",
    "B\n",
    "pB to head A, and \n",
    "p\n",
    "A\n",
    "pA to head B, we now ask \n",
    "p\n",
    "B\n",
    "pB to travel exactly 2 more nodes than \n",
    "p\n",
    "A\n",
    "pA would. So in the second iteration, they are guaranteed to reach the intersection node at the same time.\n",
    "If two lists have intersection, then their last nodes must be the same one. So when \n",
    "p\n",
    "A\n",
    "pA/\n",
    "p\n",
    "B\n",
    "pB reaches the end of a list, record the last element of A/B respectively. If the two last elements are not the same one, then the two lists have no intersections."
   ]
  },
  {
   "cell_type": "code",
   "execution_count": null,
   "metadata": {},
   "outputs": [],
   "source": [
    "……简单一点说，就是 A 或 B（无论他们谁先到头）在到头之后，指向另一位的 Head。这样一直循环下去，直到，pA 跟 pB 到了同一个地方。"
   ]
  },
  {
   "cell_type": "code",
   "execution_count": null,
   "metadata": {},
   "outputs": [],
   "source": [
    "这个地方就是 Junction。"
   ]
  },
  {
   "cell_type": "code",
   "execution_count": null,
   "metadata": {},
   "outputs": [],
   "source": [
    "网友提出的 #Solution 4:\n",
    "You can do this by simply counting the lengths of both lists. Pass one: count lengths while searching to see if they have the same tail. Diff tails? Return NULL. Pass two: In an ideal world the lists would be the same length and simply walking them forward until they had the same pointer would be enough. To deal with uneven lists skip the longer list ahead X nodes, where X = abs(lenA-lenB). Now if you walk both lists forward one at a time they meet at the intersection point. This solution is still O(N) time and O(1) space and solves w/ 99% time and 98% memory in the scoring."
   ]
  },
  {
   "cell_type": "code",
   "execution_count": null,
   "metadata": {},
   "outputs": [],
   "source": [
    "如果 A/B 的 tail 不一样，直接返回 null（没有 junction）\n",
    "如果一样，从后往前反推，直到出现一位不一样的时候爆出他的前一位就好了。\n"
   ]
  }
 ],
 "metadata": {
  "kernelspec": {
   "display_name": "Python 3",
   "language": "python",
   "name": "python3"
  }
 },
 "nbformat": 4,
 "nbformat_minor": 2
}
