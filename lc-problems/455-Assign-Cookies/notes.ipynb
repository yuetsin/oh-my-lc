{
 "cells": [
  {
   "cell_type": "markdown",
   "metadata": {},
   "source": [
    "# 455 Assign Cookies\n",
    "\n",
    "竭尽全力地暗示我们用 Greedy 法…\n",
    "\n",
    "为什么我的时间复杂度这么差。因为用了 del s[cookie_i] 来删除饼干。而且，cookie 其实也不用每次都从头遍历。更小的孩子都不满足的 Cookie，随后更加派不出去。所以可以直接跳过这些 Cookie 往下走。\n",
    "\n",
    "这样，一来不用 del，二来减少了无用的判断。自然就快了。"
   ]
  }
 ],
 "metadata": {
  "kernelspec": {
   "display_name": "Python 3",
   "language": "python",
   "name": "python3"
  },
  "language_info": {
   "codemirror_mode": {
    "name": "ipython",
    "version": 3
   },
   "file_extension": ".py",
   "mimetype": "text/x-python",
   "name": "python",
   "nbconvert_exporter": "python",
   "pygments_lexer": "ipython3",
   "version": "3.7.6"
  }
 },
 "nbformat": 4,
 "nbformat_minor": 2
}
