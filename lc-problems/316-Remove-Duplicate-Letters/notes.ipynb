{
 "cells": [
  {
   "cell_type": "markdown",
   "metadata": {},
   "source": [
    "# 316\n",
    "\n",
    "这题的意思是…事实上我们有很多种方式可以清除重复元素。但我们希望在所有的清除方式里面，找出字母序最靠前的那一种结果。\n",
    "\n",
    "并不是所有的序列都是可能出现的，因为你只能从原始序列里面删除元素来得到。\n",
    "\n",
    "暴力方法就是找出所有的可能序列，并比较他们的字典序。\n",
    "\n",
    "想想都知道这不行。\n",
    "\n",
    "优等解决方案是：\n",
    "\n",
    "首先我们还是要统计出来每个字母出现的次数。\n",
    "\n",
    "然后呢，再次遍历字符串：\n",
    "\n",
    "如果说这个字母已经被标记为 used（已经被用过了），那么直接减少他的 count，然后 continue；\n",
    "\n",
    "然后就是准备 Stack 了；\n",
    "\n",
    "while stack and stack[-1] > s[i] and counts[stack[-1]] > 1:\n",
    "\n",
    "只要 stack 里还有内容、stack[-1] > s[i]，且 stack[-1] 不止一个（counts 中存放的是他出现的次数；）\n",
    "\n",
    "也就是说，有一个元素可以在更后面的位置被放出来、而且字典顺序还比我 s[i] 大。\n",
    "\n",
    "那你死了。stack[-1] 的位置不保。直接把它弹出来，设定为 used = False。\n",
    "\n",
    "在确保 stack 末尾不存在比我更靠后的「有的选」元素（指 count 还不是 1）之后，\n",
    "\n",
    "再把我给塞到 stack 末尾，并且记录下我的 used = True。\n",
    "\n",
    "别得意！说不定你的 counts 仍然 > 1，然后后面又来一个字典序更小的元素，就把你给弹出去了。\n",
    "\n",
    "到最后，这个 Stack 就是我们的最终结果了。\n",
    "\n",
    "这个解法真的担待的起 straightforward 这个名头…"
   ]
  },
  {
   "cell_type": "code",
   "execution_count": null,
   "metadata": {},
   "outputs": [],
   "source": [
    "    def removeDuplicateLetters(self, s: str) -> str:\n",
    "        counts = {}\n",
    "        used = {}\n",
    "        stack = []\n",
    "        for i in range(len(s)):\n",
    "            if s[i] not in counts:\n",
    "                counts[s[i]] = 1\n",
    "            else:\n",
    "                counts[s[i]] += 1\n",
    "            used[s[i]] = False\n",
    "        for i in range(len(s)):\n",
    "            if used[s[i]]:\n",
    "                counts[s[i]] -= 1\n",
    "                continue\n",
    "            while stack and stack[-1] > s[i] and counts[stack[-1]] > 1:\n",
    "                counts[stack[-1]] -= 1\n",
    "                used[stack[-1]] = False\n",
    "                stack.pop()\n",
    "            stack.append(s[i])\n",
    "            used[s[i]] = True\n",
    "        res = \"\".join(stack)\n",
    "        return res\n"
   ]
  }
 ],
 "metadata": {
  "kernelspec": {
   "display_name": "Python 3",
   "language": "python",
   "name": "python3"
  },
  "language_info": {
   "codemirror_mode": {
    "name": "ipython",
    "version": 3
   },
   "file_extension": ".py",
   "mimetype": "text/x-python",
   "name": "python",
   "nbconvert_exporter": "python",
   "pygments_lexer": "ipython3",
   "version": "3.7.4"
  }
 },
 "nbformat": 4,
 "nbformat_minor": 2
}
