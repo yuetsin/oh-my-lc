{
 "cells": [
  {
   "cell_type": "markdown",
   "metadata": {},
   "source": [
    "# 532 K-diff Pairs in an Array\n",
    "\n",
    "Runtime: 124 ms, faster than 92.42% of Python3 online submissions for K-diff Pairs in an Array.\n",
    "\n",
    "Memory Usage: 14.3 MB, less than 96.77% of Python3 online submissions for K-diff Pairs in an Array.\n",
    "\n",
    "直接用 O（N）的复杂度做一个 set 就行了。\n",
    "\n",
    "坑点：因为说的是绝对距离，所以是加了绝对值的。所以 k < 0 的时候直接给 0 就对了…"
   ]
  }
 ],
 "metadata": {
  "kernelspec": {
   "display_name": "Python 3",
   "language": "python",
   "name": "python3"
  },
  "language_info": {
   "codemirror_mode": {
    "name": "ipython",
    "version": 3
   },
   "file_extension": ".py",
   "mimetype": "text/x-python",
   "name": "python",
   "nbconvert_exporter": "python",
   "pygments_lexer": "ipython3",
   "version": "3.7.6"
  }
 },
 "nbformat": 4,
 "nbformat_minor": 4
}
