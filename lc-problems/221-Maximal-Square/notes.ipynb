{
 "cells": [
  {
   "cell_type": "markdown",
   "metadata": {},
   "source": [
    "# 221\n",
    "事实上思路有点略微跑偏了……\n",
    "本来想着可以实现一个递归的回溯，\n",
    "结果发现，并不能很好的做到…\n",
    "因为由 1 -> 3 -> 5 可以是对所有的边缘格做 Expand，\n",
    "但是偶数格的展开就很费劲儿…\n",
    "\n",
    "后来发现其实暴力遍历格子也能过了…当然这种做法不提倡啊\n",
    "\n",
    "我们来看看靠谱点的解法：\n",
    "原来这题也是个 DP？？？\n",
    "\n",
    "构造一个DP： dp(i,j) represents the side length of the maximum square whose bottom right corner is the cell with index (i,j) in the original matrix.\n",
    "\n",
    "dp(i, j) 表示已这个点为右下角的矩形最大个的边长。因为确定了↖️扩展方向就可以不用考虑很多情况了，直接贴一层就好了。\n",
    "\n",
    "公式也很容易给出：dp(i,j)=min(dp(i−1,j),dp(i−1,j−1),dp(i,j−1))+1.\n",
    "\n",
    "这就不多说了……记住DP……\n",
    "\n",
    "但你知道这还可以继续改进吗？\n",
    "\n",
    "事实上我们并不需要 2D 的 DP。\n",
    "\n",
    "我们需要用到的仅仅是左上角，左边邻居和上面邻居而已。\n",
    "\n",
    "所以我们可以精简掉大部分的 DP，只保留正对角线上的值以及她们的上左邻居。可以节约一下空间复杂度。从 O(mn) 到 O(n)。\n",
    "\n",
    "公式便做 dp[j]=min(dp[j−1],dp[j],prev)"
   ]
  }
 ],
 "metadata": {
  "kernelspec": {
   "display_name": "Python 3",
   "language": "python",
   "name": "python3"
  },
  "language_info": {
   "codemirror_mode": {
    "name": "ipython",
    "version": 3
   },
   "file_extension": ".py",
   "mimetype": "text/x-python",
   "name": "python",
   "nbconvert_exporter": "python",
   "pygments_lexer": "ipython3",
   "version": "3.7.4"
  }
 },
 "nbformat": 4,
 "nbformat_minor": 2
}
