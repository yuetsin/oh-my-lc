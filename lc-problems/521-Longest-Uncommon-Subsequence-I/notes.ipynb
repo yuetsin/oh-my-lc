{
 "cells": [
  {
   "cell_type": "markdown",
   "metadata": {},
   "source": [
    "# 521 Longest Uncommon Subsequence I\n",
    "\n",
    "我要打死[南条爱乃](https://leetcode.com/just_not_over_12/)（\n",
    "\n",
    "不 会 出 题\n",
    "就 不 要 出\n",
    "\n",
    "This problem basically asks us to return max length if two words are not equal.\n",
    "We could do return max(len(a), len(b)) if a != b else -1 but this solution is going to compare strings every time. On the other hand we know that if length is different we just return max(len(a), len(b)) if length is the same, then we need to compare if strings are same.\n",
    "\n",
    "Here is the fastest solution:\n",
    "\n",
    "class Solution:\n",
    "    def findLUSlength(self, a: str, b: str) -> int:\n",
    "        if len(a) != len(b):\n",
    "            return max(len(a), len(b))\n",
    "        return -1 if a == b else len(a)\n",
    "\n",
    "Take into concern that Leetcode doesn't give consistent runtime result, so running this solution multiple times you can hit up to 20 ms and get faster than ~96%. Best luck!\n",
    "\n",
    "by @andnik"
   ]
  }
 ],
 "metadata": {
  "kernelspec": {
   "display_name": "Python 3",
   "language": "python",
   "name": "python3"
  },
  "language_info": {
   "codemirror_mode": {
    "name": "ipython",
    "version": 3
   },
   "file_extension": ".py",
   "mimetype": "text/x-python",
   "name": "python",
   "nbconvert_exporter": "python",
   "pygments_lexer": "ipython3",
   "version": "3.7.6"
  }
 },
 "nbformat": 4,
 "nbformat_minor": 4
}
