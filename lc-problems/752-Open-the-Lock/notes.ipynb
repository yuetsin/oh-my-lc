{
 "cells": [
  {
   "cell_type": "markdown",
   "metadata": {},
   "source": [
    "# 752 Open the Lock\n",
    "\n",
    "简单说，就是每次只能移动一位数字密码锁，同时要避开「deadlock」（我猜是齿轮锈住了还是怎么的）。\n",
    "\n",
    "这种时候用 DFS 就很不明智。为了避免死循环，需要使用一个外挂 set 来保存 visited；同时因为这个 set 的存在也不能够用 cache。\n",
    "\n",
    "这时候就直接用 BFS 就好了。把找到的都塞进 stack 里。因为最多只有 10000 种排列方式…因此 stack 的大小也不会爆炸。\n",
    "\n",
    "Python 的不可变字符串导致拼接有一点点不美观。但总的来说，works。"
   ]
  }
 ],
 "metadata": {
  "kernelspec": {
   "display_name": "Python 3",
   "language": "python",
   "name": "python3"
  },
  "language_info": {
   "codemirror_mode": {
    "name": "ipython",
    "version": 3
   },
   "file_extension": ".py",
   "mimetype": "text/x-python",
   "name": "python",
   "nbconvert_exporter": "python",
   "pygments_lexer": "ipython3",
   "version": "3.7.6"
  }
 },
 "nbformat": 4,
 "nbformat_minor": 4
}
