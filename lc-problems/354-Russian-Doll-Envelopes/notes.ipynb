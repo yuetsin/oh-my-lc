{
 "cells": [
  {
   "cell_type": "markdown",
   "metadata": {},
   "source": [
    "# 354\n",
    "\n",
    "接近于 O(n^2) 的方案是不被允许的。即便你用了 DP 来减少重复计算，也就是每个节点只会被计算一次，严格的 O(N^2) 的方案也 Unaccepted。\n",
    "\n",
    "想想办法优化到 O(N LogN) 才能过的。\n",
    "\n",
    "用类似于「JFK 开始的旅行」题的方法是解决不了的。\n",
    "\n",
    "其实优化的思路也很简单：提前排序好，然后 Binary Search 来解决。不难的。\n",
    "\n",
    "就这样，可以把 O(N ^ 2) 给压成 O(N log N)。"
   ]
  },
  {
   "cell_type": "code",
   "execution_count": null,
   "metadata": {},
   "outputs": [],
   "source": [
    "#!/usr/bin/env python\n",
    "\n",
    "\n",
    "class Solution:\n",
    "    def maxEnvelopes(self, envelopes: List[List[int]]) -> int:\n",
    "        # sort in one property and find the longest increasing subsequence\n",
    "        # in the other property, that's it\n",
    "        # to avoid cases such as [(3, 4), (3, 6)] - output should be 1\n",
    "        # sort the (w) in ascending and (h) in descending\n",
    "\n",
    "        # let's sort in second property(h) and then find LIS using first property(w)\n",
    "        ln = len(envelopes)\n",
    "        if ln <= 1:\n",
    "            return ln\n",
    "        \n",
    "        # 首先按照一边进行排序；如果一边相同，就按第二边来排序。\n",
    "        # 因为题目已经给定：不可以旋转信封；因此，不存在交换长与宽的问题。\n",
    "        envelopes = sorted(envelopes, key=lambda x: (x[1], -x[0]))\n",
    "        # now find the LIS\n",
    "        q = [envelopes[0][0]]\n",
    "        \n",
    "        for i in range(1, ln):\n",
    "            num = envelopes[i][0]\n",
    "            if q[-1] < num:\n",
    "                q.append(num)\n",
    "            elif q[-1] > num:\n",
    "                # use binary search\n",
    "                # 用二分法来找出哪里可以插进去。\n",
    "                idx = self.upperbound(q, num)\n",
    "                q[idx] = num\n",
    "\n",
    "        return len(q)\n",
    "\n",
    "    def upperbound(self, ls, num):\n",
    "        ln = len(ls)\n",
    "        s, e = 0, ln-1\n",
    "        while s <= e:\n",
    "            mid = (e-s)//2 + s\n",
    "            if ls[mid] == num:\n",
    "                # we can or we don't have to replace this\n",
    "                return mid\n",
    "            elif ls[mid] < num:\n",
    "                if mid+1 < ln and ls[mid+1] > num:\n",
    "                    return mid+1\n",
    "                s = mid + 1\n",
    "            else:\n",
    "                if mid == 0:\n",
    "                    return mid\n",
    "                e = mid-1\n"
   ]
  }
 ],
 "metadata": {
  "kernelspec": {
   "display_name": "Python 3",
   "language": "python",
   "name": "python3"
  },
  "language_info": {
   "codemirror_mode": {
    "name": "ipython",
    "version": 3
   },
   "file_extension": ".py",
   "mimetype": "text/x-python",
   "name": "python",
   "nbconvert_exporter": "python",
   "pygments_lexer": "ipython3",
   "version": "3.7.4"
  }
 },
 "nbformat": 4,
 "nbformat_minor": 2
}
