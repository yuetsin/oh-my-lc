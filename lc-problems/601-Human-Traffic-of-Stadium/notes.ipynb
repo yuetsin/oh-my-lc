{
 "cells": [
  {
   "cell_type": "markdown",
   "metadata": {},
   "source": [
    "# 601 Human Traffic of Stadium\n",
    "\n",
    "Runtime: 184 ms, faster than 98.82% of MySQL online submissions for Human Traffic of Stadium.\n",
    "\n",
    "Memory Usage: 0B, less than 100.00% of MySQL online submissions for Human Traffic of Stadium.\n",
    "\n",
    "MySQL 的解决方法总是这么暴力…\n",
    "\n",
    "暴力 JOIN 三张表，然后 literally 取出 consecutive 的 三个 id…\n",
    "\n",
    "强啊"
   ]
  }
 ],
 "metadata": {
  "kernelspec": {
   "display_name": "Python 3",
   "language": "python",
   "name": "python3"
  },
  "language_info": {
   "codemirror_mode": {
    "name": "ipython",
    "version": 3
   },
   "file_extension": ".py",
   "mimetype": "text/x-python",
   "name": "python",
   "nbconvert_exporter": "python",
   "pygments_lexer": "ipython3",
   "version": "3.7.6"
  }
 },
 "nbformat": 4,
 "nbformat_minor": 4
}
